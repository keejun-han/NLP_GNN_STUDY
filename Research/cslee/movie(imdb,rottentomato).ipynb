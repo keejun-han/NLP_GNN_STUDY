{
 "cells": [
  {
   "cell_type": "markdown",
   "id": "fb1d1a0e-ec09-4658-813b-8cf3526c1199",
   "metadata": {},
   "source": [
    "## Movie data matching\n",
    "- dataset : IMDB, Rotten Tomato"
   ]
  },
  {
   "cell_type": "code",
   "execution_count": 1,
   "id": "1f630796-c8e6-44ab-93de-01af83ac6c47",
   "metadata": {},
   "outputs": [],
   "source": [
    "import os\n",
    "import pandas as pd\n",
    "from matplotlib import pyplot as plt\n",
    "\n",
    "%matplotlib inline"
   ]
  },
  {
   "cell_type": "markdown",
   "id": "c4ad9746-7b51-4588-b0d6-96d35bc0644d",
   "metadata": {},
   "source": [
    "### 1. Load data \n",
    "- IMDB\n",
    "- Rotten Tomato"
   ]
  },
  {
   "cell_type": "markdown",
   "id": "003b5aab-03fd-4464-9248-9eafc78e6686",
   "metadata": {},
   "source": [
    "#### 1-1. IMDB"
   ]
  },
  {
   "cell_type": "code",
   "execution_count": 2,
   "id": "d02fa662-791a-4119-83d1-5164ad29801e",
   "metadata": {},
   "outputs": [],
   "source": [
    "path = './../../data/'"
   ]
  },
  {
   "cell_type": "code",
   "execution_count": 3,
   "id": "552b1b40-9786-4faa-b2e8-85b3c87dc432",
   "metadata": {},
   "outputs": [
    {
     "data": {
      "text/plain": [
       "['imdb_30.csv',\n",
       " 'imdb_30.xlsx',\n",
       " 'imdb_40(수정).xlsx',\n",
       " 'imdb_40.csv',\n",
       " 'imdb_40.xlsx',\n",
       " 'imdb_50.csv',\n",
       " 'imdb_top_1000.csv',\n",
       " 'ml-25m',\n",
       " 'ml-25m.zip',\n",
       " 'movieLens',\n",
       " 'new_imdb_40.xlsx',\n",
       " 'old_imdb_40.xlsx',\n",
       " 'rotten_tomato']"
      ]
     },
     "execution_count": 3,
     "metadata": {},
     "output_type": "execute_result"
    }
   ],
   "source": [
    "os.listdir(path)"
   ]
  },
  {
   "cell_type": "code",
   "execution_count": 4,
   "id": "0dcaaa14-4579-4407-9c75-bc2eb290d2ca",
   "metadata": {},
   "outputs": [
    {
     "name": "stdout",
     "output_type": "stream",
     "text": [
      "(1000, 16)\n"
     ]
    }
   ],
   "source": [
    "imdb_1000 = pd.read_csv(os.path.join(path + 'imdb_top_1000.csv'), encoding='utf-8')\n",
    "print(imdb_1000.shape)"
   ]
  },
  {
   "cell_type": "code",
   "execution_count": 5,
   "id": "2edaec64-e987-4e94-9294-a83da1141f64",
   "metadata": {},
   "outputs": [
    {
     "data": {
      "text/plain": [
       "16"
      ]
     },
     "execution_count": 5,
     "metadata": {},
     "output_type": "execute_result"
    }
   ],
   "source": [
    "len(imdb_1000.columns)"
   ]
  },
  {
   "cell_type": "code",
   "execution_count": 6,
   "id": "9719b26b-61ed-4a59-a02b-cb5503af32b5",
   "metadata": {
    "tags": []
   },
   "outputs": [
    {
     "data": {
      "text/html": [
       "<div>\n",
       "<style scoped>\n",
       "    .dataframe tbody tr th:only-of-type {\n",
       "        vertical-align: middle;\n",
       "    }\n",
       "\n",
       "    .dataframe tbody tr th {\n",
       "        vertical-align: top;\n",
       "    }\n",
       "\n",
       "    .dataframe thead th {\n",
       "        text-align: right;\n",
       "    }\n",
       "</style>\n",
       "<table border=\"1\" class=\"dataframe\">\n",
       "  <thead>\n",
       "    <tr style=\"text-align: right;\">\n",
       "      <th></th>\n",
       "      <th>Poster_Link</th>\n",
       "      <th>Series_Title</th>\n",
       "      <th>Released_Year</th>\n",
       "      <th>Certificate</th>\n",
       "      <th>Runtime</th>\n",
       "      <th>Genre</th>\n",
       "      <th>IMDB_Rating</th>\n",
       "      <th>Overview</th>\n",
       "      <th>Meta_score</th>\n",
       "      <th>Director</th>\n",
       "      <th>Star1</th>\n",
       "      <th>Star2</th>\n",
       "      <th>Star3</th>\n",
       "      <th>Star4</th>\n",
       "      <th>No_of_Votes</th>\n",
       "      <th>Gross</th>\n",
       "    </tr>\n",
       "  </thead>\n",
       "  <tbody>\n",
       "    <tr>\n",
       "      <th>0</th>\n",
       "      <td>https://m.media-amazon.com/images/M/MV5BMDFkYT...</td>\n",
       "      <td>The Shawshank Redemption</td>\n",
       "      <td>1994</td>\n",
       "      <td>A</td>\n",
       "      <td>142 min</td>\n",
       "      <td>Drama</td>\n",
       "      <td>9.3</td>\n",
       "      <td>Two imprisoned men bond over a number of years...</td>\n",
       "      <td>80.0</td>\n",
       "      <td>Frank Darabont</td>\n",
       "      <td>Tim Robbins</td>\n",
       "      <td>Morgan Freeman</td>\n",
       "      <td>Bob Gunton</td>\n",
       "      <td>William Sadler</td>\n",
       "      <td>2343110</td>\n",
       "      <td>28,341,469</td>\n",
       "    </tr>\n",
       "    <tr>\n",
       "      <th>1</th>\n",
       "      <td>https://m.media-amazon.com/images/M/MV5BM2MyNj...</td>\n",
       "      <td>The Godfather</td>\n",
       "      <td>1972</td>\n",
       "      <td>A</td>\n",
       "      <td>175 min</td>\n",
       "      <td>Crime, Drama</td>\n",
       "      <td>9.2</td>\n",
       "      <td>An organized crime dynasty's aging patriarch t...</td>\n",
       "      <td>100.0</td>\n",
       "      <td>Francis Ford Coppola</td>\n",
       "      <td>Marlon Brando</td>\n",
       "      <td>Al Pacino</td>\n",
       "      <td>James Caan</td>\n",
       "      <td>Diane Keaton</td>\n",
       "      <td>1620367</td>\n",
       "      <td>134,966,411</td>\n",
       "    </tr>\n",
       "    <tr>\n",
       "      <th>2</th>\n",
       "      <td>https://m.media-amazon.com/images/M/MV5BMTMxNT...</td>\n",
       "      <td>The Dark Knight</td>\n",
       "      <td>2008</td>\n",
       "      <td>UA</td>\n",
       "      <td>152 min</td>\n",
       "      <td>Action, Crime, Drama</td>\n",
       "      <td>9.0</td>\n",
       "      <td>When the menace known as the Joker wreaks havo...</td>\n",
       "      <td>84.0</td>\n",
       "      <td>Christopher Nolan</td>\n",
       "      <td>Christian Bale</td>\n",
       "      <td>Heath Ledger</td>\n",
       "      <td>Aaron Eckhart</td>\n",
       "      <td>Michael Caine</td>\n",
       "      <td>2303232</td>\n",
       "      <td>534,858,444</td>\n",
       "    </tr>\n",
       "    <tr>\n",
       "      <th>3</th>\n",
       "      <td>https://m.media-amazon.com/images/M/MV5BMWMwMG...</td>\n",
       "      <td>The Godfather: Part II</td>\n",
       "      <td>1974</td>\n",
       "      <td>A</td>\n",
       "      <td>202 min</td>\n",
       "      <td>Crime, Drama</td>\n",
       "      <td>9.0</td>\n",
       "      <td>The early life and career of Vito Corleone in ...</td>\n",
       "      <td>90.0</td>\n",
       "      <td>Francis Ford Coppola</td>\n",
       "      <td>Al Pacino</td>\n",
       "      <td>Robert De Niro</td>\n",
       "      <td>Robert Duvall</td>\n",
       "      <td>Diane Keaton</td>\n",
       "      <td>1129952</td>\n",
       "      <td>57,300,000</td>\n",
       "    </tr>\n",
       "    <tr>\n",
       "      <th>4</th>\n",
       "      <td>https://m.media-amazon.com/images/M/MV5BMWU4N2...</td>\n",
       "      <td>12 Angry Men</td>\n",
       "      <td>1957</td>\n",
       "      <td>U</td>\n",
       "      <td>96 min</td>\n",
       "      <td>Crime, Drama</td>\n",
       "      <td>9.0</td>\n",
       "      <td>A jury holdout attempts to prevent a miscarria...</td>\n",
       "      <td>96.0</td>\n",
       "      <td>Sidney Lumet</td>\n",
       "      <td>Henry Fonda</td>\n",
       "      <td>Lee J. Cobb</td>\n",
       "      <td>Martin Balsam</td>\n",
       "      <td>John Fiedler</td>\n",
       "      <td>689845</td>\n",
       "      <td>4,360,000</td>\n",
       "    </tr>\n",
       "  </tbody>\n",
       "</table>\n",
       "</div>"
      ],
      "text/plain": [
       "                                         Poster_Link  \\\n",
       "0  https://m.media-amazon.com/images/M/MV5BMDFkYT...   \n",
       "1  https://m.media-amazon.com/images/M/MV5BM2MyNj...   \n",
       "2  https://m.media-amazon.com/images/M/MV5BMTMxNT...   \n",
       "3  https://m.media-amazon.com/images/M/MV5BMWMwMG...   \n",
       "4  https://m.media-amazon.com/images/M/MV5BMWU4N2...   \n",
       "\n",
       "               Series_Title Released_Year Certificate  Runtime  \\\n",
       "0  The Shawshank Redemption          1994           A  142 min   \n",
       "1             The Godfather          1972           A  175 min   \n",
       "2           The Dark Knight          2008          UA  152 min   \n",
       "3    The Godfather: Part II          1974           A  202 min   \n",
       "4              12 Angry Men          1957           U   96 min   \n",
       "\n",
       "                  Genre  IMDB_Rating  \\\n",
       "0                 Drama          9.3   \n",
       "1          Crime, Drama          9.2   \n",
       "2  Action, Crime, Drama          9.0   \n",
       "3          Crime, Drama          9.0   \n",
       "4          Crime, Drama          9.0   \n",
       "\n",
       "                                            Overview  Meta_score  \\\n",
       "0  Two imprisoned men bond over a number of years...        80.0   \n",
       "1  An organized crime dynasty's aging patriarch t...       100.0   \n",
       "2  When the menace known as the Joker wreaks havo...        84.0   \n",
       "3  The early life and career of Vito Corleone in ...        90.0   \n",
       "4  A jury holdout attempts to prevent a miscarria...        96.0   \n",
       "\n",
       "               Director           Star1           Star2          Star3  \\\n",
       "0        Frank Darabont     Tim Robbins  Morgan Freeman     Bob Gunton   \n",
       "1  Francis Ford Coppola   Marlon Brando       Al Pacino     James Caan   \n",
       "2     Christopher Nolan  Christian Bale    Heath Ledger  Aaron Eckhart   \n",
       "3  Francis Ford Coppola       Al Pacino  Robert De Niro  Robert Duvall   \n",
       "4          Sidney Lumet     Henry Fonda     Lee J. Cobb  Martin Balsam   \n",
       "\n",
       "            Star4  No_of_Votes        Gross  \n",
       "0  William Sadler      2343110   28,341,469  \n",
       "1    Diane Keaton      1620367  134,966,411  \n",
       "2   Michael Caine      2303232  534,858,444  \n",
       "3    Diane Keaton      1129952   57,300,000  \n",
       "4    John Fiedler       689845    4,360,000  "
      ]
     },
     "execution_count": 6,
     "metadata": {},
     "output_type": "execute_result"
    }
   ],
   "source": [
    "imdb_1000.head()"
   ]
  },
  {
   "cell_type": "code",
   "execution_count": 7,
   "id": "f493d4ef-ffaf-4ebb-8ca8-035cfa7392db",
   "metadata": {},
   "outputs": [],
   "source": [
    "imdb_df = imdb_1000.copy()"
   ]
  },
  {
   "cell_type": "markdown",
   "id": "a7d552ee-17a7-482a-a947-2c5c1ab0b154",
   "metadata": {},
   "source": [
    "- IMDB Top 40"
   ]
  },
  {
   "cell_type": "code",
   "execution_count": 8,
   "id": "c862fa85-48ed-4824-a492-d106ce9452ce",
   "metadata": {},
   "outputs": [],
   "source": [
    "imdb_40 = imdb_df.iloc[0:40,:]"
   ]
  },
  {
   "cell_type": "code",
   "execution_count": 9,
   "id": "c40e0b8e-4bff-4440-af48-0d5a62ef94b9",
   "metadata": {},
   "outputs": [],
   "source": [
    "imdb_40.reset_index(inplace=True)"
   ]
  },
  {
   "cell_type": "code",
   "execution_count": 10,
   "id": "8e2a51a4-2c22-4e8d-9274-95a0743a3ba7",
   "metadata": {
    "tags": []
   },
   "outputs": [
    {
     "data": {
      "text/plain": [
       "'Two imprisoned men bond over a number of years, finding solace and eventual redemption through acts of common decency.'"
      ]
     },
     "execution_count": 10,
     "metadata": {},
     "output_type": "execute_result"
    }
   ],
   "source": [
    "imdb_40['Overview'][0]"
   ]
  },
  {
   "cell_type": "markdown",
   "id": "ff1cbba4-35a2-418f-ba0d-354c8b5dd325",
   "metadata": {},
   "source": [
    "#### 1-2. Rotten Tomato"
   ]
  },
  {
   "cell_type": "code",
   "execution_count": 11,
   "id": "1691d992-bce4-44a8-8743-a7984123845a",
   "metadata": {},
   "outputs": [],
   "source": [
    "path = './../../data/rotten_tomato/'"
   ]
  },
  {
   "cell_type": "code",
   "execution_count": 12,
   "id": "d8e0a133-ae98-47bb-9de7-9a8e66013737",
   "metadata": {},
   "outputs": [
    {
     "data": {
      "text/plain": [
       "['rotten_tomatoes_critic_reviews.csv', 'rotten_tomatoes_movies.csv']"
      ]
     },
     "execution_count": 12,
     "metadata": {},
     "output_type": "execute_result"
    }
   ],
   "source": [
    "os.listdir(path)"
   ]
  },
  {
   "cell_type": "code",
   "execution_count": 13,
   "id": "66647b8a-19ce-486f-bd1f-2e763e3bf828",
   "metadata": {},
   "outputs": [
    {
     "name": "stdout",
     "output_type": "stream",
     "text": [
      "(17712, 22)\n"
     ]
    }
   ],
   "source": [
    "rotten_df = pd.read_csv(os.path.join(path + 'rotten_tomatoes_movies.csv'), encoding='utf-8')\n",
    "print(rotten_df.shape)"
   ]
  },
  {
   "cell_type": "code",
   "execution_count": 14,
   "id": "8df801ff-e367-46a2-897a-9cd3ec112aad",
   "metadata": {},
   "outputs": [
    {
     "data": {
      "text/html": [
       "<div>\n",
       "<style scoped>\n",
       "    .dataframe tbody tr th:only-of-type {\n",
       "        vertical-align: middle;\n",
       "    }\n",
       "\n",
       "    .dataframe tbody tr th {\n",
       "        vertical-align: top;\n",
       "    }\n",
       "\n",
       "    .dataframe thead th {\n",
       "        text-align: right;\n",
       "    }\n",
       "</style>\n",
       "<table border=\"1\" class=\"dataframe\">\n",
       "  <thead>\n",
       "    <tr style=\"text-align: right;\">\n",
       "      <th></th>\n",
       "      <th>rotten_tomatoes_link</th>\n",
       "      <th>movie_title</th>\n",
       "      <th>movie_info</th>\n",
       "      <th>critics_consensus</th>\n",
       "      <th>content_rating</th>\n",
       "      <th>genres</th>\n",
       "      <th>directors</th>\n",
       "      <th>authors</th>\n",
       "      <th>actors</th>\n",
       "      <th>original_release_date</th>\n",
       "      <th>...</th>\n",
       "      <th>production_company</th>\n",
       "      <th>tomatometer_status</th>\n",
       "      <th>tomatometer_rating</th>\n",
       "      <th>tomatometer_count</th>\n",
       "      <th>audience_status</th>\n",
       "      <th>audience_rating</th>\n",
       "      <th>audience_count</th>\n",
       "      <th>tomatometer_top_critics_count</th>\n",
       "      <th>tomatometer_fresh_critics_count</th>\n",
       "      <th>tomatometer_rotten_critics_count</th>\n",
       "    </tr>\n",
       "  </thead>\n",
       "  <tbody>\n",
       "    <tr>\n",
       "      <th>0</th>\n",
       "      <td>m/0814255</td>\n",
       "      <td>Percy Jackson &amp; the Olympians: The Lightning T...</td>\n",
       "      <td>Always trouble-prone, the life of teenager Per...</td>\n",
       "      <td>Though it may seem like just another Harry Pot...</td>\n",
       "      <td>PG</td>\n",
       "      <td>Action &amp; Adventure, Comedy, Drama, Science Fic...</td>\n",
       "      <td>Chris Columbus</td>\n",
       "      <td>Craig Titley, Chris Columbus, Rick Riordan</td>\n",
       "      <td>Logan Lerman, Brandon T. Jackson, Alexandra Da...</td>\n",
       "      <td>2010-02-12</td>\n",
       "      <td>...</td>\n",
       "      <td>20th Century Fox</td>\n",
       "      <td>Rotten</td>\n",
       "      <td>49.0</td>\n",
       "      <td>149.0</td>\n",
       "      <td>Spilled</td>\n",
       "      <td>53.0</td>\n",
       "      <td>254421.0</td>\n",
       "      <td>43</td>\n",
       "      <td>73</td>\n",
       "      <td>76</td>\n",
       "    </tr>\n",
       "  </tbody>\n",
       "</table>\n",
       "<p>1 rows × 22 columns</p>\n",
       "</div>"
      ],
      "text/plain": [
       "  rotten_tomatoes_link                                        movie_title  \\\n",
       "0            m/0814255  Percy Jackson & the Olympians: The Lightning T...   \n",
       "\n",
       "                                          movie_info  \\\n",
       "0  Always trouble-prone, the life of teenager Per...   \n",
       "\n",
       "                                   critics_consensus content_rating  \\\n",
       "0  Though it may seem like just another Harry Pot...             PG   \n",
       "\n",
       "                                              genres       directors  \\\n",
       "0  Action & Adventure, Comedy, Drama, Science Fic...  Chris Columbus   \n",
       "\n",
       "                                      authors  \\\n",
       "0  Craig Titley, Chris Columbus, Rick Riordan   \n",
       "\n",
       "                                              actors original_release_date  \\\n",
       "0  Logan Lerman, Brandon T. Jackson, Alexandra Da...            2010-02-12   \n",
       "\n",
       "   ... production_company  tomatometer_status tomatometer_rating  \\\n",
       "0  ...   20th Century Fox              Rotten               49.0   \n",
       "\n",
       "  tomatometer_count  audience_status  audience_rating audience_count  \\\n",
       "0             149.0          Spilled             53.0       254421.0   \n",
       "\n",
       "   tomatometer_top_critics_count  tomatometer_fresh_critics_count  \\\n",
       "0                             43                               73   \n",
       "\n",
       "   tomatometer_rotten_critics_count  \n",
       "0                                76  \n",
       "\n",
       "[1 rows x 22 columns]"
      ]
     },
     "execution_count": 14,
     "metadata": {},
     "output_type": "execute_result"
    }
   ],
   "source": [
    "rotten_df.head(1)"
   ]
  },
  {
   "cell_type": "code",
   "execution_count": 15,
   "id": "42d42f0f-3d3a-4c63-8429-4b370c825701",
   "metadata": {},
   "outputs": [
    {
     "data": {
      "text/plain": [
       "22"
      ]
     },
     "execution_count": 15,
     "metadata": {},
     "output_type": "execute_result"
    }
   ],
   "source": [
    "len(rotten_df.columns)"
   ]
  },
  {
   "cell_type": "markdown",
   "id": "056e68b6-2745-45f6-ac6d-0b218db4c958",
   "metadata": {},
   "source": [
    "### 2. Comparison between Rotten and IMDb"
   ]
  },
  {
   "cell_type": "code",
   "execution_count": 18,
   "id": "9b469397-d46d-4cf2-ba16-31afe090c269",
   "metadata": {},
   "outputs": [
    {
     "name": "stdout",
     "output_type": "stream",
     "text": [
      "17106\n"
     ]
    }
   ],
   "source": [
    "rotten_set = set(rotten_df.movie_title) \n",
    "print(len(rotten_set))"
   ]
  },
  {
   "cell_type": "code",
   "execution_count": 20,
   "id": "ee56ecc0-5823-4b1c-9101-e4ea30ea25cb",
   "metadata": {},
   "outputs": [
    {
     "name": "stdout",
     "output_type": "stream",
     "text": [
      "40\n"
     ]
    }
   ],
   "source": [
    "imdb_set = set(imdb_40.Series_Title)\n",
    "print(len(imdb_set))"
   ]
  },
  {
   "cell_type": "code",
   "execution_count": 24,
   "id": "2d3641a8-19df-40d4-89bb-d9f8659899fb",
   "metadata": {},
   "outputs": [
    {
     "name": "stdout",
     "output_type": "stream",
     "text": [
      "13\n"
     ]
    }
   ],
   "source": [
    "difference_movies = imdb_set - rotten_set\n",
    "print(len(difference_movies))"
   ]
  },
  {
   "cell_type": "code",
   "execution_count": 22,
   "id": "c9632882-5424-400d-8330-a16d5bc119ff",
   "metadata": {},
   "outputs": [
    {
     "name": "stdout",
     "output_type": "stream",
     "text": [
      "27\n"
     ]
    }
   ],
   "source": [
    "intersection_movies = imdb_set.intersection(rotten_set)\n",
    "print(len(intersection_movies))"
   ]
  },
  {
   "cell_type": "code",
   "execution_count": 23,
   "id": "762e6add-56ea-4922-833d-5eecf9b648c6",
   "metadata": {},
   "outputs": [
    {
     "data": {
      "text/plain": [
       "{'12 Angry Men',\n",
       " 'Fight Club',\n",
       " 'Forrest Gump',\n",
       " 'Gladiator',\n",
       " 'Inception',\n",
       " 'Interstellar',\n",
       " \"It's a Wonderful Life\",\n",
       " 'Joker',\n",
       " \"One Flew Over the Cuckoo's Nest\",\n",
       " 'Pulp Fiction',\n",
       " 'Saving Private Ryan',\n",
       " \"Schindler's List\",\n",
       " 'Star Wars: Episode V - The Empire Strikes Back',\n",
       " 'The Dark Knight',\n",
       " 'The Departed',\n",
       " 'The Godfather',\n",
       " 'The Green Mile',\n",
       " 'The Intouchables',\n",
       " 'The Lord of the Rings: The Fellowship of the Ring',\n",
       " 'The Lord of the Rings: The Return of the King',\n",
       " 'The Lord of the Rings: The Two Towers',\n",
       " 'The Matrix',\n",
       " 'The Pianist',\n",
       " 'The Prestige',\n",
       " 'The Shawshank Redemption',\n",
       " 'The Silence of the Lambs',\n",
       " 'Whiplash'}"
      ]
     },
     "execution_count": 23,
     "metadata": {},
     "output_type": "execute_result"
    }
   ],
   "source": [
    "intersection_movies"
   ]
  },
  {
   "cell_type": "code",
   "execution_count": 25,
   "id": "4501e567-2e27-424f-92ca-3f535150d613",
   "metadata": {},
   "outputs": [
    {
     "data": {
      "text/plain": [
       "{'Cidade de Deus',\n",
       " 'Gisaengchung',\n",
       " 'Goodfellas',\n",
       " 'Hamilton',\n",
       " 'Il buono, il brutto, il cattivo',\n",
       " 'La vita è bella',\n",
       " 'Se7en',\n",
       " 'Sen to Chihiro no kamikakushi',\n",
       " 'Seppuku',\n",
       " 'Shichinin no samurai',\n",
       " 'Soorarai Pottru',\n",
       " 'Star Wars',\n",
       " 'The Godfather: Part II'}"
      ]
     },
     "execution_count": 25,
     "metadata": {},
     "output_type": "execute_result"
    }
   ],
   "source": [
    "difference_movies"
   ]
  },
  {
   "cell_type": "markdown",
   "id": "947d4035-152d-44d7-aa9d-83005e94da13",
   "metadata": {},
   "source": [
    "- 동일한 제목의 imdb 영화"
   ]
  },
  {
   "cell_type": "code",
   "execution_count": 26,
   "id": "94db87b7-78ae-4128-9074-9ff417e68594",
   "metadata": {
    "collapsed": true,
    "jupyter": {
     "outputs_hidden": true
    },
    "tags": []
   },
   "outputs": [
    {
     "data": {
      "text/html": [
       "<div>\n",
       "<style scoped>\n",
       "    .dataframe tbody tr th:only-of-type {\n",
       "        vertical-align: middle;\n",
       "    }\n",
       "\n",
       "    .dataframe tbody tr th {\n",
       "        vertical-align: top;\n",
       "    }\n",
       "\n",
       "    .dataframe thead th {\n",
       "        text-align: right;\n",
       "    }\n",
       "</style>\n",
       "<table border=\"1\" class=\"dataframe\">\n",
       "  <thead>\n",
       "    <tr style=\"text-align: right;\">\n",
       "      <th></th>\n",
       "      <th>index</th>\n",
       "      <th>Poster_Link</th>\n",
       "      <th>Series_Title</th>\n",
       "      <th>Released_Year</th>\n",
       "      <th>Certificate</th>\n",
       "      <th>Runtime</th>\n",
       "      <th>Genre</th>\n",
       "      <th>IMDB_Rating</th>\n",
       "      <th>Overview</th>\n",
       "      <th>Meta_score</th>\n",
       "      <th>Director</th>\n",
       "      <th>Star1</th>\n",
       "      <th>Star2</th>\n",
       "      <th>Star3</th>\n",
       "      <th>Star4</th>\n",
       "      <th>No_of_Votes</th>\n",
       "      <th>Gross</th>\n",
       "    </tr>\n",
       "  </thead>\n",
       "  <tbody>\n",
       "    <tr>\n",
       "      <th>0</th>\n",
       "      <td>0</td>\n",
       "      <td>https://m.media-amazon.com/images/M/MV5BMDFkYT...</td>\n",
       "      <td>The Shawshank Redemption</td>\n",
       "      <td>1994</td>\n",
       "      <td>A</td>\n",
       "      <td>142 min</td>\n",
       "      <td>Drama</td>\n",
       "      <td>9.3</td>\n",
       "      <td>Two imprisoned men bond over a number of years...</td>\n",
       "      <td>80.0</td>\n",
       "      <td>Frank Darabont</td>\n",
       "      <td>Tim Robbins</td>\n",
       "      <td>Morgan Freeman</td>\n",
       "      <td>Bob Gunton</td>\n",
       "      <td>William Sadler</td>\n",
       "      <td>2343110</td>\n",
       "      <td>28,341,469</td>\n",
       "    </tr>\n",
       "    <tr>\n",
       "      <th>1</th>\n",
       "      <td>1</td>\n",
       "      <td>https://m.media-amazon.com/images/M/MV5BM2MyNj...</td>\n",
       "      <td>The Godfather</td>\n",
       "      <td>1972</td>\n",
       "      <td>A</td>\n",
       "      <td>175 min</td>\n",
       "      <td>Crime, Drama</td>\n",
       "      <td>9.2</td>\n",
       "      <td>An organized crime dynasty's aging patriarch t...</td>\n",
       "      <td>100.0</td>\n",
       "      <td>Francis Ford Coppola</td>\n",
       "      <td>Marlon Brando</td>\n",
       "      <td>Al Pacino</td>\n",
       "      <td>James Caan</td>\n",
       "      <td>Diane Keaton</td>\n",
       "      <td>1620367</td>\n",
       "      <td>134,966,411</td>\n",
       "    </tr>\n",
       "    <tr>\n",
       "      <th>2</th>\n",
       "      <td>2</td>\n",
       "      <td>https://m.media-amazon.com/images/M/MV5BMTMxNT...</td>\n",
       "      <td>The Dark Knight</td>\n",
       "      <td>2008</td>\n",
       "      <td>UA</td>\n",
       "      <td>152 min</td>\n",
       "      <td>Action, Crime, Drama</td>\n",
       "      <td>9.0</td>\n",
       "      <td>When the menace known as the Joker wreaks havo...</td>\n",
       "      <td>84.0</td>\n",
       "      <td>Christopher Nolan</td>\n",
       "      <td>Christian Bale</td>\n",
       "      <td>Heath Ledger</td>\n",
       "      <td>Aaron Eckhart</td>\n",
       "      <td>Michael Caine</td>\n",
       "      <td>2303232</td>\n",
       "      <td>534,858,444</td>\n",
       "    </tr>\n",
       "    <tr>\n",
       "      <th>4</th>\n",
       "      <td>4</td>\n",
       "      <td>https://m.media-amazon.com/images/M/MV5BMWU4N2...</td>\n",
       "      <td>12 Angry Men</td>\n",
       "      <td>1957</td>\n",
       "      <td>U</td>\n",
       "      <td>96 min</td>\n",
       "      <td>Crime, Drama</td>\n",
       "      <td>9.0</td>\n",
       "      <td>A jury holdout attempts to prevent a miscarria...</td>\n",
       "      <td>96.0</td>\n",
       "      <td>Sidney Lumet</td>\n",
       "      <td>Henry Fonda</td>\n",
       "      <td>Lee J. Cobb</td>\n",
       "      <td>Martin Balsam</td>\n",
       "      <td>John Fiedler</td>\n",
       "      <td>689845</td>\n",
       "      <td>4,360,000</td>\n",
       "    </tr>\n",
       "    <tr>\n",
       "      <th>5</th>\n",
       "      <td>5</td>\n",
       "      <td>https://m.media-amazon.com/images/M/MV5BNzA5ZD...</td>\n",
       "      <td>The Lord of the Rings: The Return of the King</td>\n",
       "      <td>2003</td>\n",
       "      <td>U</td>\n",
       "      <td>201 min</td>\n",
       "      <td>Action, Adventure, Drama</td>\n",
       "      <td>8.9</td>\n",
       "      <td>Gandalf and Aragorn lead the World of Men agai...</td>\n",
       "      <td>94.0</td>\n",
       "      <td>Peter Jackson</td>\n",
       "      <td>Elijah Wood</td>\n",
       "      <td>Viggo Mortensen</td>\n",
       "      <td>Ian McKellen</td>\n",
       "      <td>Orlando Bloom</td>\n",
       "      <td>1642758</td>\n",
       "      <td>377,845,905</td>\n",
       "    </tr>\n",
       "    <tr>\n",
       "      <th>6</th>\n",
       "      <td>6</td>\n",
       "      <td>https://m.media-amazon.com/images/M/MV5BNGNhMD...</td>\n",
       "      <td>Pulp Fiction</td>\n",
       "      <td>1994</td>\n",
       "      <td>A</td>\n",
       "      <td>154 min</td>\n",
       "      <td>Crime, Drama</td>\n",
       "      <td>8.9</td>\n",
       "      <td>The lives of two mob hitmen, a boxer, a gangst...</td>\n",
       "      <td>94.0</td>\n",
       "      <td>Quentin Tarantino</td>\n",
       "      <td>John Travolta</td>\n",
       "      <td>Uma Thurman</td>\n",
       "      <td>Samuel L. Jackson</td>\n",
       "      <td>Bruce Willis</td>\n",
       "      <td>1826188</td>\n",
       "      <td>107,928,762</td>\n",
       "    </tr>\n",
       "    <tr>\n",
       "      <th>7</th>\n",
       "      <td>7</td>\n",
       "      <td>https://m.media-amazon.com/images/M/MV5BNDE4OT...</td>\n",
       "      <td>Schindler's List</td>\n",
       "      <td>1993</td>\n",
       "      <td>A</td>\n",
       "      <td>195 min</td>\n",
       "      <td>Biography, Drama, History</td>\n",
       "      <td>8.9</td>\n",
       "      <td>In German-occupied Poland during World War II,...</td>\n",
       "      <td>94.0</td>\n",
       "      <td>Steven Spielberg</td>\n",
       "      <td>Liam Neeson</td>\n",
       "      <td>Ralph Fiennes</td>\n",
       "      <td>Ben Kingsley</td>\n",
       "      <td>Caroline Goodall</td>\n",
       "      <td>1213505</td>\n",
       "      <td>96,898,818</td>\n",
       "    </tr>\n",
       "    <tr>\n",
       "      <th>8</th>\n",
       "      <td>8</td>\n",
       "      <td>https://m.media-amazon.com/images/M/MV5BMjAxMz...</td>\n",
       "      <td>Inception</td>\n",
       "      <td>2010</td>\n",
       "      <td>UA</td>\n",
       "      <td>148 min</td>\n",
       "      <td>Action, Adventure, Sci-Fi</td>\n",
       "      <td>8.8</td>\n",
       "      <td>A thief who steals corporate secrets through t...</td>\n",
       "      <td>74.0</td>\n",
       "      <td>Christopher Nolan</td>\n",
       "      <td>Leonardo DiCaprio</td>\n",
       "      <td>Joseph Gordon-Levitt</td>\n",
       "      <td>Elliot Page</td>\n",
       "      <td>Ken Watanabe</td>\n",
       "      <td>2067042</td>\n",
       "      <td>292,576,195</td>\n",
       "    </tr>\n",
       "    <tr>\n",
       "      <th>9</th>\n",
       "      <td>9</td>\n",
       "      <td>https://m.media-amazon.com/images/M/MV5BMmEzNT...</td>\n",
       "      <td>Fight Club</td>\n",
       "      <td>1999</td>\n",
       "      <td>A</td>\n",
       "      <td>139 min</td>\n",
       "      <td>Drama</td>\n",
       "      <td>8.8</td>\n",
       "      <td>An insomniac office worker and a devil-may-car...</td>\n",
       "      <td>66.0</td>\n",
       "      <td>David Fincher</td>\n",
       "      <td>Brad Pitt</td>\n",
       "      <td>Edward Norton</td>\n",
       "      <td>Meat Loaf</td>\n",
       "      <td>Zach Grenier</td>\n",
       "      <td>1854740</td>\n",
       "      <td>37,030,102</td>\n",
       "    </tr>\n",
       "    <tr>\n",
       "      <th>10</th>\n",
       "      <td>10</td>\n",
       "      <td>https://m.media-amazon.com/images/M/MV5BN2EyZj...</td>\n",
       "      <td>The Lord of the Rings: The Fellowship of the Ring</td>\n",
       "      <td>2001</td>\n",
       "      <td>U</td>\n",
       "      <td>178 min</td>\n",
       "      <td>Action, Adventure, Drama</td>\n",
       "      <td>8.8</td>\n",
       "      <td>A meek Hobbit from the Shire and eight compani...</td>\n",
       "      <td>92.0</td>\n",
       "      <td>Peter Jackson</td>\n",
       "      <td>Elijah Wood</td>\n",
       "      <td>Ian McKellen</td>\n",
       "      <td>Orlando Bloom</td>\n",
       "      <td>Sean Bean</td>\n",
       "      <td>1661481</td>\n",
       "      <td>315,544,750</td>\n",
       "    </tr>\n",
       "    <tr>\n",
       "      <th>11</th>\n",
       "      <td>11</td>\n",
       "      <td>https://m.media-amazon.com/images/M/MV5BNWIwOD...</td>\n",
       "      <td>Forrest Gump</td>\n",
       "      <td>1994</td>\n",
       "      <td>UA</td>\n",
       "      <td>142 min</td>\n",
       "      <td>Drama, Romance</td>\n",
       "      <td>8.8</td>\n",
       "      <td>The presidencies of Kennedy and Johnson, the e...</td>\n",
       "      <td>82.0</td>\n",
       "      <td>Robert Zemeckis</td>\n",
       "      <td>Tom Hanks</td>\n",
       "      <td>Robin Wright</td>\n",
       "      <td>Gary Sinise</td>\n",
       "      <td>Sally Field</td>\n",
       "      <td>1809221</td>\n",
       "      <td>330,252,182</td>\n",
       "    </tr>\n",
       "    <tr>\n",
       "      <th>13</th>\n",
       "      <td>13</td>\n",
       "      <td>https://m.media-amazon.com/images/M/MV5BZGMxZT...</td>\n",
       "      <td>The Lord of the Rings: The Two Towers</td>\n",
       "      <td>2002</td>\n",
       "      <td>UA</td>\n",
       "      <td>179 min</td>\n",
       "      <td>Action, Adventure, Drama</td>\n",
       "      <td>8.7</td>\n",
       "      <td>While Frodo and Sam edge closer to Mordor with...</td>\n",
       "      <td>87.0</td>\n",
       "      <td>Peter Jackson</td>\n",
       "      <td>Elijah Wood</td>\n",
       "      <td>Ian McKellen</td>\n",
       "      <td>Viggo Mortensen</td>\n",
       "      <td>Orlando Bloom</td>\n",
       "      <td>1485555</td>\n",
       "      <td>342,551,365</td>\n",
       "    </tr>\n",
       "    <tr>\n",
       "      <th>14</th>\n",
       "      <td>14</td>\n",
       "      <td>https://m.media-amazon.com/images/M/MV5BNzQzOT...</td>\n",
       "      <td>The Matrix</td>\n",
       "      <td>1999</td>\n",
       "      <td>A</td>\n",
       "      <td>136 min</td>\n",
       "      <td>Action, Sci-Fi</td>\n",
       "      <td>8.7</td>\n",
       "      <td>When a beautiful stranger leads computer hacke...</td>\n",
       "      <td>73.0</td>\n",
       "      <td>Lana Wachowski</td>\n",
       "      <td>Lilly Wachowski</td>\n",
       "      <td>Keanu Reeves</td>\n",
       "      <td>Laurence Fishburne</td>\n",
       "      <td>Carrie-Anne Moss</td>\n",
       "      <td>1676426</td>\n",
       "      <td>171,479,930</td>\n",
       "    </tr>\n",
       "    <tr>\n",
       "      <th>16</th>\n",
       "      <td>16</td>\n",
       "      <td>https://m.media-amazon.com/images/M/MV5BYmU1ND...</td>\n",
       "      <td>Star Wars: Episode V - The Empire Strikes Back</td>\n",
       "      <td>1980</td>\n",
       "      <td>UA</td>\n",
       "      <td>124 min</td>\n",
       "      <td>Action, Adventure, Fantasy</td>\n",
       "      <td>8.7</td>\n",
       "      <td>After the Rebels are brutally overpowered by t...</td>\n",
       "      <td>82.0</td>\n",
       "      <td>Irvin Kershner</td>\n",
       "      <td>Mark Hamill</td>\n",
       "      <td>Harrison Ford</td>\n",
       "      <td>Carrie Fisher</td>\n",
       "      <td>Billy Dee Williams</td>\n",
       "      <td>1159315</td>\n",
       "      <td>290,475,067</td>\n",
       "    </tr>\n",
       "    <tr>\n",
       "      <th>17</th>\n",
       "      <td>17</td>\n",
       "      <td>https://m.media-amazon.com/images/M/MV5BZjA0OW...</td>\n",
       "      <td>One Flew Over the Cuckoo's Nest</td>\n",
       "      <td>1975</td>\n",
       "      <td>A</td>\n",
       "      <td>133 min</td>\n",
       "      <td>Drama</td>\n",
       "      <td>8.7</td>\n",
       "      <td>A criminal pleads insanity and is admitted to ...</td>\n",
       "      <td>83.0</td>\n",
       "      <td>Milos Forman</td>\n",
       "      <td>Jack Nicholson</td>\n",
       "      <td>Louise Fletcher</td>\n",
       "      <td>Michael Berryman</td>\n",
       "      <td>Peter Brocco</td>\n",
       "      <td>918088</td>\n",
       "      <td>112,000,000</td>\n",
       "    </tr>\n",
       "    <tr>\n",
       "      <th>21</th>\n",
       "      <td>21</td>\n",
       "      <td>https://m.media-amazon.com/images/M/MV5BZjdkOT...</td>\n",
       "      <td>Interstellar</td>\n",
       "      <td>2014</td>\n",
       "      <td>UA</td>\n",
       "      <td>169 min</td>\n",
       "      <td>Adventure, Drama, Sci-Fi</td>\n",
       "      <td>8.6</td>\n",
       "      <td>A team of explorers travel through a wormhole ...</td>\n",
       "      <td>74.0</td>\n",
       "      <td>Christopher Nolan</td>\n",
       "      <td>Matthew McConaughey</td>\n",
       "      <td>Anne Hathaway</td>\n",
       "      <td>Jessica Chastain</td>\n",
       "      <td>Mackenzie Foy</td>\n",
       "      <td>1512360</td>\n",
       "      <td>188,020,017</td>\n",
       "    </tr>\n",
       "    <tr>\n",
       "      <th>24</th>\n",
       "      <td>24</td>\n",
       "      <td>https://m.media-amazon.com/images/M/MV5BZjhkMD...</td>\n",
       "      <td>Saving Private Ryan</td>\n",
       "      <td>1998</td>\n",
       "      <td>R</td>\n",
       "      <td>169 min</td>\n",
       "      <td>Drama, War</td>\n",
       "      <td>8.6</td>\n",
       "      <td>Following the Normandy Landings, a group of U....</td>\n",
       "      <td>91.0</td>\n",
       "      <td>Steven Spielberg</td>\n",
       "      <td>Tom Hanks</td>\n",
       "      <td>Matt Damon</td>\n",
       "      <td>Tom Sizemore</td>\n",
       "      <td>Edward Burns</td>\n",
       "      <td>1235804</td>\n",
       "      <td>216,540,909</td>\n",
       "    </tr>\n",
       "    <tr>\n",
       "      <th>25</th>\n",
       "      <td>25</td>\n",
       "      <td>https://m.media-amazon.com/images/M/MV5BMTUxMz...</td>\n",
       "      <td>The Green Mile</td>\n",
       "      <td>1999</td>\n",
       "      <td>A</td>\n",
       "      <td>189 min</td>\n",
       "      <td>Crime, Drama, Fantasy</td>\n",
       "      <td>8.6</td>\n",
       "      <td>The lives of guards on Death Row are affected ...</td>\n",
       "      <td>61.0</td>\n",
       "      <td>Frank Darabont</td>\n",
       "      <td>Tom Hanks</td>\n",
       "      <td>Michael Clarke Duncan</td>\n",
       "      <td>David Morse</td>\n",
       "      <td>Bonnie Hunt</td>\n",
       "      <td>1147794</td>\n",
       "      <td>136,801,374</td>\n",
       "    </tr>\n",
       "    <tr>\n",
       "      <th>28</th>\n",
       "      <td>28</td>\n",
       "      <td>https://m.media-amazon.com/images/M/MV5BNjNhZT...</td>\n",
       "      <td>The Silence of the Lambs</td>\n",
       "      <td>1991</td>\n",
       "      <td>A</td>\n",
       "      <td>118 min</td>\n",
       "      <td>Crime, Drama, Thriller</td>\n",
       "      <td>8.6</td>\n",
       "      <td>A young F.B.I. cadet must receive the help of ...</td>\n",
       "      <td>85.0</td>\n",
       "      <td>Jonathan Demme</td>\n",
       "      <td>Jodie Foster</td>\n",
       "      <td>Anthony Hopkins</td>\n",
       "      <td>Lawrence A. Bonney</td>\n",
       "      <td>Kasi Lemmons</td>\n",
       "      <td>1270197</td>\n",
       "      <td>130,742,922</td>\n",
       "    </tr>\n",
       "    <tr>\n",
       "      <th>32</th>\n",
       "      <td>32</td>\n",
       "      <td>https://m.media-amazon.com/images/M/MV5BZjc4ND...</td>\n",
       "      <td>It's a Wonderful Life</td>\n",
       "      <td>1946</td>\n",
       "      <td>PG</td>\n",
       "      <td>130 min</td>\n",
       "      <td>Drama, Family, Fantasy</td>\n",
       "      <td>8.6</td>\n",
       "      <td>An angel is sent from Heaven to help a despera...</td>\n",
       "      <td>89.0</td>\n",
       "      <td>Frank Capra</td>\n",
       "      <td>James Stewart</td>\n",
       "      <td>Donna Reed</td>\n",
       "      <td>Lionel Barrymore</td>\n",
       "      <td>Thomas Mitchell</td>\n",
       "      <td>405801</td>\n",
       "      <td>NaN</td>\n",
       "    </tr>\n",
       "    <tr>\n",
       "      <th>33</th>\n",
       "      <td>33</td>\n",
       "      <td>https://m.media-amazon.com/images/M/MV5BNGVjNW...</td>\n",
       "      <td>Joker</td>\n",
       "      <td>2019</td>\n",
       "      <td>A</td>\n",
       "      <td>122 min</td>\n",
       "      <td>Crime, Drama, Thriller</td>\n",
       "      <td>8.5</td>\n",
       "      <td>In Gotham City, mentally troubled comedian Art...</td>\n",
       "      <td>59.0</td>\n",
       "      <td>Todd Phillips</td>\n",
       "      <td>Joaquin Phoenix</td>\n",
       "      <td>Robert De Niro</td>\n",
       "      <td>Zazie Beetz</td>\n",
       "      <td>Frances Conroy</td>\n",
       "      <td>939252</td>\n",
       "      <td>335,451,311</td>\n",
       "    </tr>\n",
       "    <tr>\n",
       "      <th>34</th>\n",
       "      <td>34</td>\n",
       "      <td>https://m.media-amazon.com/images/M/MV5BOTA5ND...</td>\n",
       "      <td>Whiplash</td>\n",
       "      <td>2014</td>\n",
       "      <td>A</td>\n",
       "      <td>106 min</td>\n",
       "      <td>Drama, Music</td>\n",
       "      <td>8.5</td>\n",
       "      <td>A promising young drummer enrolls at a cut-thr...</td>\n",
       "      <td>88.0</td>\n",
       "      <td>Damien Chazelle</td>\n",
       "      <td>Miles Teller</td>\n",
       "      <td>J.K. Simmons</td>\n",
       "      <td>Melissa Benoist</td>\n",
       "      <td>Paul Reiser</td>\n",
       "      <td>717585</td>\n",
       "      <td>13,092,000</td>\n",
       "    </tr>\n",
       "    <tr>\n",
       "      <th>35</th>\n",
       "      <td>35</td>\n",
       "      <td>https://m.media-amazon.com/images/M/MV5BMTYxND...</td>\n",
       "      <td>The Intouchables</td>\n",
       "      <td>2011</td>\n",
       "      <td>UA</td>\n",
       "      <td>112 min</td>\n",
       "      <td>Biography, Comedy, Drama</td>\n",
       "      <td>8.5</td>\n",
       "      <td>After he becomes a quadriplegic from a paragli...</td>\n",
       "      <td>57.0</td>\n",
       "      <td>Olivier Nakache</td>\n",
       "      <td>Éric Toledano</td>\n",
       "      <td>François Cluzet</td>\n",
       "      <td>Omar Sy</td>\n",
       "      <td>Anne Le Ny</td>\n",
       "      <td>760360</td>\n",
       "      <td>13,182,281</td>\n",
       "    </tr>\n",
       "    <tr>\n",
       "      <th>36</th>\n",
       "      <td>36</td>\n",
       "      <td>https://m.media-amazon.com/images/M/MV5BMjA4ND...</td>\n",
       "      <td>The Prestige</td>\n",
       "      <td>2006</td>\n",
       "      <td>U</td>\n",
       "      <td>130 min</td>\n",
       "      <td>Drama, Mystery, Sci-Fi</td>\n",
       "      <td>8.5</td>\n",
       "      <td>After a tragic accident, two stage magicians e...</td>\n",
       "      <td>66.0</td>\n",
       "      <td>Christopher Nolan</td>\n",
       "      <td>Christian Bale</td>\n",
       "      <td>Hugh Jackman</td>\n",
       "      <td>Scarlett Johansson</td>\n",
       "      <td>Michael Caine</td>\n",
       "      <td>1190259</td>\n",
       "      <td>53,089,891</td>\n",
       "    </tr>\n",
       "    <tr>\n",
       "      <th>37</th>\n",
       "      <td>37</td>\n",
       "      <td>https://m.media-amazon.com/images/M/MV5BMTI1MT...</td>\n",
       "      <td>The Departed</td>\n",
       "      <td>2006</td>\n",
       "      <td>A</td>\n",
       "      <td>151 min</td>\n",
       "      <td>Crime, Drama, Thriller</td>\n",
       "      <td>8.5</td>\n",
       "      <td>An undercover cop and a mole in the police att...</td>\n",
       "      <td>85.0</td>\n",
       "      <td>Martin Scorsese</td>\n",
       "      <td>Leonardo DiCaprio</td>\n",
       "      <td>Matt Damon</td>\n",
       "      <td>Jack Nicholson</td>\n",
       "      <td>Mark Wahlberg</td>\n",
       "      <td>1189773</td>\n",
       "      <td>132,384,315</td>\n",
       "    </tr>\n",
       "    <tr>\n",
       "      <th>38</th>\n",
       "      <td>38</td>\n",
       "      <td>https://m.media-amazon.com/images/M/MV5BOWRiZD...</td>\n",
       "      <td>The Pianist</td>\n",
       "      <td>2002</td>\n",
       "      <td>R</td>\n",
       "      <td>150 min</td>\n",
       "      <td>Biography, Drama, Music</td>\n",
       "      <td>8.5</td>\n",
       "      <td>A Polish Jewish musician struggles to survive ...</td>\n",
       "      <td>85.0</td>\n",
       "      <td>Roman Polanski</td>\n",
       "      <td>Adrien Brody</td>\n",
       "      <td>Thomas Kretschmann</td>\n",
       "      <td>Frank Finlay</td>\n",
       "      <td>Emilia Fox</td>\n",
       "      <td>729603</td>\n",
       "      <td>32,572,577</td>\n",
       "    </tr>\n",
       "    <tr>\n",
       "      <th>39</th>\n",
       "      <td>39</td>\n",
       "      <td>https://m.media-amazon.com/images/M/MV5BMDliMm...</td>\n",
       "      <td>Gladiator</td>\n",
       "      <td>2000</td>\n",
       "      <td>UA</td>\n",
       "      <td>155 min</td>\n",
       "      <td>Action, Adventure, Drama</td>\n",
       "      <td>8.5</td>\n",
       "      <td>A former Roman General sets out to exact venge...</td>\n",
       "      <td>67.0</td>\n",
       "      <td>Ridley Scott</td>\n",
       "      <td>Russell Crowe</td>\n",
       "      <td>Joaquin Phoenix</td>\n",
       "      <td>Connie Nielsen</td>\n",
       "      <td>Oliver Reed</td>\n",
       "      <td>1341460</td>\n",
       "      <td>187,705,427</td>\n",
       "    </tr>\n",
       "  </tbody>\n",
       "</table>\n",
       "</div>"
      ],
      "text/plain": [
       "    index                                        Poster_Link  \\\n",
       "0       0  https://m.media-amazon.com/images/M/MV5BMDFkYT...   \n",
       "1       1  https://m.media-amazon.com/images/M/MV5BM2MyNj...   \n",
       "2       2  https://m.media-amazon.com/images/M/MV5BMTMxNT...   \n",
       "4       4  https://m.media-amazon.com/images/M/MV5BMWU4N2...   \n",
       "5       5  https://m.media-amazon.com/images/M/MV5BNzA5ZD...   \n",
       "6       6  https://m.media-amazon.com/images/M/MV5BNGNhMD...   \n",
       "7       7  https://m.media-amazon.com/images/M/MV5BNDE4OT...   \n",
       "8       8  https://m.media-amazon.com/images/M/MV5BMjAxMz...   \n",
       "9       9  https://m.media-amazon.com/images/M/MV5BMmEzNT...   \n",
       "10     10  https://m.media-amazon.com/images/M/MV5BN2EyZj...   \n",
       "11     11  https://m.media-amazon.com/images/M/MV5BNWIwOD...   \n",
       "13     13  https://m.media-amazon.com/images/M/MV5BZGMxZT...   \n",
       "14     14  https://m.media-amazon.com/images/M/MV5BNzQzOT...   \n",
       "16     16  https://m.media-amazon.com/images/M/MV5BYmU1ND...   \n",
       "17     17  https://m.media-amazon.com/images/M/MV5BZjA0OW...   \n",
       "21     21  https://m.media-amazon.com/images/M/MV5BZjdkOT...   \n",
       "24     24  https://m.media-amazon.com/images/M/MV5BZjhkMD...   \n",
       "25     25  https://m.media-amazon.com/images/M/MV5BMTUxMz...   \n",
       "28     28  https://m.media-amazon.com/images/M/MV5BNjNhZT...   \n",
       "32     32  https://m.media-amazon.com/images/M/MV5BZjc4ND...   \n",
       "33     33  https://m.media-amazon.com/images/M/MV5BNGVjNW...   \n",
       "34     34  https://m.media-amazon.com/images/M/MV5BOTA5ND...   \n",
       "35     35  https://m.media-amazon.com/images/M/MV5BMTYxND...   \n",
       "36     36  https://m.media-amazon.com/images/M/MV5BMjA4ND...   \n",
       "37     37  https://m.media-amazon.com/images/M/MV5BMTI1MT...   \n",
       "38     38  https://m.media-amazon.com/images/M/MV5BOWRiZD...   \n",
       "39     39  https://m.media-amazon.com/images/M/MV5BMDliMm...   \n",
       "\n",
       "                                         Series_Title Released_Year  \\\n",
       "0                            The Shawshank Redemption          1994   \n",
       "1                                       The Godfather          1972   \n",
       "2                                     The Dark Knight          2008   \n",
       "4                                        12 Angry Men          1957   \n",
       "5       The Lord of the Rings: The Return of the King          2003   \n",
       "6                                        Pulp Fiction          1994   \n",
       "7                                    Schindler's List          1993   \n",
       "8                                           Inception          2010   \n",
       "9                                          Fight Club          1999   \n",
       "10  The Lord of the Rings: The Fellowship of the Ring          2001   \n",
       "11                                       Forrest Gump          1994   \n",
       "13              The Lord of the Rings: The Two Towers          2002   \n",
       "14                                         The Matrix          1999   \n",
       "16     Star Wars: Episode V - The Empire Strikes Back          1980   \n",
       "17                    One Flew Over the Cuckoo's Nest          1975   \n",
       "21                                       Interstellar          2014   \n",
       "24                                Saving Private Ryan          1998   \n",
       "25                                     The Green Mile          1999   \n",
       "28                           The Silence of the Lambs          1991   \n",
       "32                              It's a Wonderful Life          1946   \n",
       "33                                              Joker          2019   \n",
       "34                                           Whiplash          2014   \n",
       "35                                   The Intouchables          2011   \n",
       "36                                       The Prestige          2006   \n",
       "37                                       The Departed          2006   \n",
       "38                                        The Pianist          2002   \n",
       "39                                          Gladiator          2000   \n",
       "\n",
       "   Certificate  Runtime                       Genre  IMDB_Rating  \\\n",
       "0            A  142 min                       Drama          9.3   \n",
       "1            A  175 min                Crime, Drama          9.2   \n",
       "2           UA  152 min        Action, Crime, Drama          9.0   \n",
       "4            U   96 min                Crime, Drama          9.0   \n",
       "5            U  201 min    Action, Adventure, Drama          8.9   \n",
       "6            A  154 min                Crime, Drama          8.9   \n",
       "7            A  195 min   Biography, Drama, History          8.9   \n",
       "8           UA  148 min   Action, Adventure, Sci-Fi          8.8   \n",
       "9            A  139 min                       Drama          8.8   \n",
       "10           U  178 min    Action, Adventure, Drama          8.8   \n",
       "11          UA  142 min              Drama, Romance          8.8   \n",
       "13          UA  179 min    Action, Adventure, Drama          8.7   \n",
       "14           A  136 min              Action, Sci-Fi          8.7   \n",
       "16          UA  124 min  Action, Adventure, Fantasy          8.7   \n",
       "17           A  133 min                       Drama          8.7   \n",
       "21          UA  169 min    Adventure, Drama, Sci-Fi          8.6   \n",
       "24           R  169 min                  Drama, War          8.6   \n",
       "25           A  189 min       Crime, Drama, Fantasy          8.6   \n",
       "28           A  118 min      Crime, Drama, Thriller          8.6   \n",
       "32          PG  130 min      Drama, Family, Fantasy          8.6   \n",
       "33           A  122 min      Crime, Drama, Thriller          8.5   \n",
       "34           A  106 min                Drama, Music          8.5   \n",
       "35          UA  112 min    Biography, Comedy, Drama          8.5   \n",
       "36           U  130 min      Drama, Mystery, Sci-Fi          8.5   \n",
       "37           A  151 min      Crime, Drama, Thriller          8.5   \n",
       "38           R  150 min     Biography, Drama, Music          8.5   \n",
       "39          UA  155 min    Action, Adventure, Drama          8.5   \n",
       "\n",
       "                                             Overview  Meta_score  \\\n",
       "0   Two imprisoned men bond over a number of years...        80.0   \n",
       "1   An organized crime dynasty's aging patriarch t...       100.0   \n",
       "2   When the menace known as the Joker wreaks havo...        84.0   \n",
       "4   A jury holdout attempts to prevent a miscarria...        96.0   \n",
       "5   Gandalf and Aragorn lead the World of Men agai...        94.0   \n",
       "6   The lives of two mob hitmen, a boxer, a gangst...        94.0   \n",
       "7   In German-occupied Poland during World War II,...        94.0   \n",
       "8   A thief who steals corporate secrets through t...        74.0   \n",
       "9   An insomniac office worker and a devil-may-car...        66.0   \n",
       "10  A meek Hobbit from the Shire and eight compani...        92.0   \n",
       "11  The presidencies of Kennedy and Johnson, the e...        82.0   \n",
       "13  While Frodo and Sam edge closer to Mordor with...        87.0   \n",
       "14  When a beautiful stranger leads computer hacke...        73.0   \n",
       "16  After the Rebels are brutally overpowered by t...        82.0   \n",
       "17  A criminal pleads insanity and is admitted to ...        83.0   \n",
       "21  A team of explorers travel through a wormhole ...        74.0   \n",
       "24  Following the Normandy Landings, a group of U....        91.0   \n",
       "25  The lives of guards on Death Row are affected ...        61.0   \n",
       "28  A young F.B.I. cadet must receive the help of ...        85.0   \n",
       "32  An angel is sent from Heaven to help a despera...        89.0   \n",
       "33  In Gotham City, mentally troubled comedian Art...        59.0   \n",
       "34  A promising young drummer enrolls at a cut-thr...        88.0   \n",
       "35  After he becomes a quadriplegic from a paragli...        57.0   \n",
       "36  After a tragic accident, two stage magicians e...        66.0   \n",
       "37  An undercover cop and a mole in the police att...        85.0   \n",
       "38  A Polish Jewish musician struggles to survive ...        85.0   \n",
       "39  A former Roman General sets out to exact venge...        67.0   \n",
       "\n",
       "                Director                Star1                  Star2  \\\n",
       "0         Frank Darabont          Tim Robbins         Morgan Freeman   \n",
       "1   Francis Ford Coppola        Marlon Brando              Al Pacino   \n",
       "2      Christopher Nolan       Christian Bale           Heath Ledger   \n",
       "4           Sidney Lumet          Henry Fonda            Lee J. Cobb   \n",
       "5          Peter Jackson          Elijah Wood        Viggo Mortensen   \n",
       "6      Quentin Tarantino        John Travolta            Uma Thurman   \n",
       "7       Steven Spielberg          Liam Neeson          Ralph Fiennes   \n",
       "8      Christopher Nolan    Leonardo DiCaprio   Joseph Gordon-Levitt   \n",
       "9          David Fincher            Brad Pitt          Edward Norton   \n",
       "10         Peter Jackson          Elijah Wood           Ian McKellen   \n",
       "11       Robert Zemeckis            Tom Hanks           Robin Wright   \n",
       "13         Peter Jackson          Elijah Wood           Ian McKellen   \n",
       "14        Lana Wachowski      Lilly Wachowski           Keanu Reeves   \n",
       "16        Irvin Kershner          Mark Hamill          Harrison Ford   \n",
       "17          Milos Forman       Jack Nicholson        Louise Fletcher   \n",
       "21     Christopher Nolan  Matthew McConaughey          Anne Hathaway   \n",
       "24      Steven Spielberg            Tom Hanks             Matt Damon   \n",
       "25        Frank Darabont            Tom Hanks  Michael Clarke Duncan   \n",
       "28        Jonathan Demme         Jodie Foster        Anthony Hopkins   \n",
       "32           Frank Capra        James Stewart             Donna Reed   \n",
       "33         Todd Phillips      Joaquin Phoenix         Robert De Niro   \n",
       "34       Damien Chazelle         Miles Teller           J.K. Simmons   \n",
       "35       Olivier Nakache        Éric Toledano        François Cluzet   \n",
       "36     Christopher Nolan       Christian Bale           Hugh Jackman   \n",
       "37       Martin Scorsese    Leonardo DiCaprio             Matt Damon   \n",
       "38        Roman Polanski         Adrien Brody     Thomas Kretschmann   \n",
       "39          Ridley Scott        Russell Crowe        Joaquin Phoenix   \n",
       "\n",
       "                 Star3               Star4  No_of_Votes        Gross  \n",
       "0           Bob Gunton      William Sadler      2343110   28,341,469  \n",
       "1           James Caan        Diane Keaton      1620367  134,966,411  \n",
       "2        Aaron Eckhart       Michael Caine      2303232  534,858,444  \n",
       "4        Martin Balsam        John Fiedler       689845    4,360,000  \n",
       "5         Ian McKellen       Orlando Bloom      1642758  377,845,905  \n",
       "6    Samuel L. Jackson        Bruce Willis      1826188  107,928,762  \n",
       "7         Ben Kingsley    Caroline Goodall      1213505   96,898,818  \n",
       "8          Elliot Page        Ken Watanabe      2067042  292,576,195  \n",
       "9            Meat Loaf        Zach Grenier      1854740   37,030,102  \n",
       "10       Orlando Bloom           Sean Bean      1661481  315,544,750  \n",
       "11         Gary Sinise         Sally Field      1809221  330,252,182  \n",
       "13     Viggo Mortensen       Orlando Bloom      1485555  342,551,365  \n",
       "14  Laurence Fishburne    Carrie-Anne Moss      1676426  171,479,930  \n",
       "16       Carrie Fisher  Billy Dee Williams      1159315  290,475,067  \n",
       "17    Michael Berryman        Peter Brocco       918088  112,000,000  \n",
       "21    Jessica Chastain       Mackenzie Foy      1512360  188,020,017  \n",
       "24        Tom Sizemore        Edward Burns      1235804  216,540,909  \n",
       "25         David Morse         Bonnie Hunt      1147794  136,801,374  \n",
       "28  Lawrence A. Bonney        Kasi Lemmons      1270197  130,742,922  \n",
       "32    Lionel Barrymore     Thomas Mitchell       405801          NaN  \n",
       "33         Zazie Beetz      Frances Conroy       939252  335,451,311  \n",
       "34     Melissa Benoist         Paul Reiser       717585   13,092,000  \n",
       "35             Omar Sy          Anne Le Ny       760360   13,182,281  \n",
       "36  Scarlett Johansson       Michael Caine      1190259   53,089,891  \n",
       "37      Jack Nicholson       Mark Wahlberg      1189773  132,384,315  \n",
       "38        Frank Finlay          Emilia Fox       729603   32,572,577  \n",
       "39      Connie Nielsen         Oliver Reed      1341460  187,705,427  "
      ]
     },
     "execution_count": 26,
     "metadata": {},
     "output_type": "execute_result"
    }
   ],
   "source": [
    "imdb_40[imdb_40['Series_Title'].isin(intersection_movies)]"
   ]
  },
  {
   "cell_type": "code",
   "execution_count": 33,
   "id": "3f0fb0a4-ebcf-46c0-a659-32a02dff7d01",
   "metadata": {},
   "outputs": [
    {
     "data": {
      "text/html": [
       "<div>\n",
       "<style scoped>\n",
       "    .dataframe tbody tr th:only-of-type {\n",
       "        vertical-align: middle;\n",
       "    }\n",
       "\n",
       "    .dataframe tbody tr th {\n",
       "        vertical-align: top;\n",
       "    }\n",
       "\n",
       "    .dataframe thead th {\n",
       "        text-align: right;\n",
       "    }\n",
       "</style>\n",
       "<table border=\"1\" class=\"dataframe\">\n",
       "  <thead>\n",
       "    <tr style=\"text-align: right;\">\n",
       "      <th></th>\n",
       "      <th>movie_title</th>\n",
       "      <th>original_release_date</th>\n",
       "    </tr>\n",
       "  </thead>\n",
       "  <tbody>\n",
       "    <tr>\n",
       "      <th>911</th>\n",
       "      <td>Gladiator</td>\n",
       "      <td>NaN</td>\n",
       "    </tr>\n",
       "    <tr>\n",
       "      <th>1171</th>\n",
       "      <td>12 Angry Men</td>\n",
       "      <td>1997-08-17</td>\n",
       "    </tr>\n",
       "    <tr>\n",
       "      <th>5401</th>\n",
       "      <td>The Departed</td>\n",
       "      <td>2006-10-06</td>\n",
       "    </tr>\n",
       "    <tr>\n",
       "      <th>5993</th>\n",
       "      <td>Star Wars: Episode V - The Empire Strikes Back</td>\n",
       "      <td>1980-06-20</td>\n",
       "    </tr>\n",
       "    <tr>\n",
       "      <th>6410</th>\n",
       "      <td>Fight Club</td>\n",
       "      <td>1999-10-15</td>\n",
       "    </tr>\n",
       "    <tr>\n",
       "      <th>6645</th>\n",
       "      <td>Forrest Gump</td>\n",
       "      <td>1994-07-06</td>\n",
       "    </tr>\n",
       "    <tr>\n",
       "      <th>7052</th>\n",
       "      <td>Gladiator</td>\n",
       "      <td>2000-05-05</td>\n",
       "    </tr>\n",
       "    <tr>\n",
       "      <th>7091</th>\n",
       "      <td>The Godfather</td>\n",
       "      <td>1972-03-24</td>\n",
       "    </tr>\n",
       "    <tr>\n",
       "      <th>7298</th>\n",
       "      <td>The Green Mile</td>\n",
       "      <td>1999-12-10</td>\n",
       "    </tr>\n",
       "    <tr>\n",
       "      <th>8324</th>\n",
       "      <td>Inception</td>\n",
       "      <td>2010-07-16</td>\n",
       "    </tr>\n",
       "    <tr>\n",
       "      <th>8415</th>\n",
       "      <td>Interstellar</td>\n",
       "      <td>2014-11-07</td>\n",
       "    </tr>\n",
       "    <tr>\n",
       "      <th>8531</th>\n",
       "      <td>It's a Wonderful Life</td>\n",
       "      <td>1946-12-25</td>\n",
       "    </tr>\n",
       "    <tr>\n",
       "      <th>8749</th>\n",
       "      <td>Joker</td>\n",
       "      <td>2019-10-04</td>\n",
       "    </tr>\n",
       "    <tr>\n",
       "      <th>10183</th>\n",
       "      <td>The Matrix</td>\n",
       "      <td>1999-03-31</td>\n",
       "    </tr>\n",
       "    <tr>\n",
       "      <th>11368</th>\n",
       "      <td>One Flew Over the Cuckoo's Nest</td>\n",
       "      <td>1975-11-19</td>\n",
       "    </tr>\n",
       "    <tr>\n",
       "      <th>11815</th>\n",
       "      <td>The Pianist</td>\n",
       "      <td>2002-12-27</td>\n",
       "    </tr>\n",
       "    <tr>\n",
       "      <th>12019</th>\n",
       "      <td>The Prestige</td>\n",
       "      <td>2006-10-20</td>\n",
       "    </tr>\n",
       "    <tr>\n",
       "      <th>12126</th>\n",
       "      <td>Pulp Fiction</td>\n",
       "      <td>1994-09-23</td>\n",
       "    </tr>\n",
       "    <tr>\n",
       "      <th>12894</th>\n",
       "      <td>Saving Private Ryan</td>\n",
       "      <td>1998-07-24</td>\n",
       "    </tr>\n",
       "    <tr>\n",
       "      <th>12935</th>\n",
       "      <td>Schindler's List</td>\n",
       "      <td>1993-12-15</td>\n",
       "    </tr>\n",
       "    <tr>\n",
       "      <th>13183</th>\n",
       "      <td>The Shawshank Redemption</td>\n",
       "      <td>1994-09-10</td>\n",
       "    </tr>\n",
       "    <tr>\n",
       "      <th>13306</th>\n",
       "      <td>The Silence of the Lambs</td>\n",
       "      <td>1991-02-13</td>\n",
       "    </tr>\n",
       "    <tr>\n",
       "      <th>14788</th>\n",
       "      <td>The Dark Knight</td>\n",
       "      <td>2008-07-18</td>\n",
       "    </tr>\n",
       "    <tr>\n",
       "      <th>15239</th>\n",
       "      <td>The Intouchables</td>\n",
       "      <td>2012-05-25</td>\n",
       "    </tr>\n",
       "    <tr>\n",
       "      <th>15409</th>\n",
       "      <td>The Lord of the Rings: The Fellowship of the Ring</td>\n",
       "      <td>2001-12-19</td>\n",
       "    </tr>\n",
       "    <tr>\n",
       "      <th>15410</th>\n",
       "      <td>The Lord of the Rings: The Return of the King</td>\n",
       "      <td>2003-12-17</td>\n",
       "    </tr>\n",
       "    <tr>\n",
       "      <th>15411</th>\n",
       "      <td>The Lord of the Rings: The Two Towers</td>\n",
       "      <td>2002-12-12</td>\n",
       "    </tr>\n",
       "    <tr>\n",
       "      <th>17269</th>\n",
       "      <td>Whiplash</td>\n",
       "      <td>2014-10-10</td>\n",
       "    </tr>\n",
       "  </tbody>\n",
       "</table>\n",
       "</div>"
      ],
      "text/plain": [
       "                                             movie_title original_release_date\n",
       "911                                            Gladiator                   NaN\n",
       "1171                                        12 Angry Men            1997-08-17\n",
       "5401                                        The Departed            2006-10-06\n",
       "5993      Star Wars: Episode V - The Empire Strikes Back            1980-06-20\n",
       "6410                                          Fight Club            1999-10-15\n",
       "6645                                        Forrest Gump            1994-07-06\n",
       "7052                                           Gladiator            2000-05-05\n",
       "7091                                       The Godfather            1972-03-24\n",
       "7298                                      The Green Mile            1999-12-10\n",
       "8324                                           Inception            2010-07-16\n",
       "8415                                        Interstellar            2014-11-07\n",
       "8531                               It's a Wonderful Life            1946-12-25\n",
       "8749                                               Joker            2019-10-04\n",
       "10183                                         The Matrix            1999-03-31\n",
       "11368                    One Flew Over the Cuckoo's Nest            1975-11-19\n",
       "11815                                        The Pianist            2002-12-27\n",
       "12019                                       The Prestige            2006-10-20\n",
       "12126                                       Pulp Fiction            1994-09-23\n",
       "12894                                Saving Private Ryan            1998-07-24\n",
       "12935                                   Schindler's List            1993-12-15\n",
       "13183                           The Shawshank Redemption            1994-09-10\n",
       "13306                           The Silence of the Lambs            1991-02-13\n",
       "14788                                    The Dark Knight            2008-07-18\n",
       "15239                                   The Intouchables            2012-05-25\n",
       "15409  The Lord of the Rings: The Fellowship of the Ring            2001-12-19\n",
       "15410      The Lord of the Rings: The Return of the King            2003-12-17\n",
       "15411              The Lord of the Rings: The Two Towers            2002-12-12\n",
       "17269                                           Whiplash            2014-10-10"
      ]
     },
     "execution_count": 33,
     "metadata": {},
     "output_type": "execute_result"
    }
   ],
   "source": [
    "rotten_df[rotten_df['movie_title'].isin(intersection_movies)][['movie_title','original_release_date']\n",
    "]"
   ]
  },
  {
   "cell_type": "markdown",
   "id": "93a8c95c-e324-4c1d-bd59-27095a69ae76",
   "metadata": {},
   "source": [
    "#### 2-3. Analyze the difference"
   ]
  },
  {
   "cell_type": "markdown",
   "id": "2323e72a-980a-430f-b1f4-77e396ea0a3f",
   "metadata": {},
   "source": [
    "- Title matching에서 missing된 영화"
   ]
  },
  {
   "cell_type": "code",
   "execution_count": 34,
   "id": "7016b135-0686-4a71-8f46-298d39cd98a9",
   "metadata": {},
   "outputs": [
    {
     "data": {
      "text/plain": [
       "{'Cidade de Deus',\n",
       " 'Gisaengchung',\n",
       " 'Goodfellas',\n",
       " 'Hamilton',\n",
       " 'Il buono, il brutto, il cattivo',\n",
       " 'La vita è bella',\n",
       " 'Se7en',\n",
       " 'Sen to Chihiro no kamikakushi',\n",
       " 'Seppuku',\n",
       " 'Shichinin no samurai',\n",
       " 'Soorarai Pottru',\n",
       " 'Star Wars',\n",
       " 'The Godfather: Part II'}"
      ]
     },
     "execution_count": 34,
     "metadata": {},
     "output_type": "execute_result"
    }
   ],
   "source": [
    "difference_movies"
   ]
  },
  {
   "cell_type": "code",
   "execution_count": 35,
   "id": "058ed68f-1100-471f-9a08-e79151c8d9ce",
   "metadata": {},
   "outputs": [
    {
     "name": "stderr",
     "output_type": "stream",
     "text": [
      "C:\\Users\\user\\anaconda3\\envs\\torch37\\lib\\site-packages\\pandas\\core\\frame.py:3607: SettingWithCopyWarning: \n",
      "A value is trying to be set on a copy of a slice from a DataFrame.\n",
      "Try using .loc[row_indexer,col_indexer] = value instead\n",
      "\n",
      "See the caveats in the documentation: https://pandas.pydata.org/pandas-docs/stable/user_guide/indexing.html#returning-a-view-versus-a-copy\n",
      "  self._set_item(key, value)\n"
     ]
    }
   ],
   "source": [
    "rotten_df['movie_title'] = rotten_df['movie_title'].str.lower()\n",
    "imdb_40['Series_Title'] = imdb_40['Series_Title'].str.lower()"
   ]
  },
  {
   "cell_type": "code",
   "execution_count": 58,
   "id": "2e8b0e67-0fbc-406b-9d8a-1234d8805157",
   "metadata": {},
   "outputs": [
    {
     "name": "stdout",
     "output_type": "stream",
     "text": [
      "13084 | seven samurai (shichinin no samurai) | 1956-11-19  | 2016-08-10\n",
      "1\n"
     ]
    }
   ],
   "source": [
    "count = 0\n",
    "for num in range(0, len(rotten_df)): \n",
    "#     print(num)\n",
    "    if('Shichinin no samurai'.lower() in rotten_df['movie_title'][num]):\n",
    "        count = count + 1\n",
    "        print(f\"{num} | {rotten_df['movie_title'].loc[num]} | {rotten_df['original_release_date'].loc[num]}  | {rotten_df['streaming_release_date'].loc[num]}\")\n",
    "print(count)"
   ]
  },
  {
   "cell_type": "markdown",
   "id": "c84b8512-229d-4134-a889-d62de0927734",
   "metadata": {},
   "source": [
    "### 3. Right Answer"
   ]
  },
  {
   "cell_type": "code",
   "execution_count": 62,
   "id": "8f7e4d7f-060a-4231-b952-f2ec805b9caf",
   "metadata": {},
   "outputs": [],
   "source": [
    "path = './../../data/'"
   ]
  },
  {
   "cell_type": "code",
   "execution_count": 63,
   "id": "43c8885a-c184-4b08-a5a9-f8308b1e67e5",
   "metadata": {},
   "outputs": [],
   "source": [
    "right_df = pd.read_excel(os.path.join(path + 'imdb_40(rotten비교).xlsx'))"
   ]
  },
  {
   "cell_type": "code",
   "execution_count": 64,
   "id": "3f4e6800-7ec0-4c5e-a8db-b30239cdaa26",
   "metadata": {},
   "outputs": [
    {
     "data": {
      "text/html": [
       "<div>\n",
       "<style scoped>\n",
       "    .dataframe tbody tr th:only-of-type {\n",
       "        vertical-align: middle;\n",
       "    }\n",
       "\n",
       "    .dataframe tbody tr th {\n",
       "        vertical-align: top;\n",
       "    }\n",
       "\n",
       "    .dataframe thead th {\n",
       "        text-align: right;\n",
       "    }\n",
       "</style>\n",
       "<table border=\"1\" class=\"dataframe\">\n",
       "  <thead>\n",
       "    <tr style=\"text-align: right;\">\n",
       "      <th></th>\n",
       "      <th>title</th>\n",
       "      <th>imdb_id</th>\n",
       "      <th>rotten_id</th>\n",
       "      <th>year</th>\n",
       "    </tr>\n",
       "  </thead>\n",
       "  <tbody>\n",
       "    <tr>\n",
       "      <th>0</th>\n",
       "      <td>The Shawshank Redemption</td>\n",
       "      <td>0</td>\n",
       "      <td>13183.0</td>\n",
       "      <td>1994</td>\n",
       "    </tr>\n",
       "    <tr>\n",
       "      <th>1</th>\n",
       "      <td>The Godfather</td>\n",
       "      <td>1</td>\n",
       "      <td>7052.0</td>\n",
       "      <td>1972</td>\n",
       "    </tr>\n",
       "    <tr>\n",
       "      <th>2</th>\n",
       "      <td>The Dark Knight</td>\n",
       "      <td>2</td>\n",
       "      <td>14788.0</td>\n",
       "      <td>2008</td>\n",
       "    </tr>\n",
       "    <tr>\n",
       "      <th>3</th>\n",
       "      <td>The Godfather: Part II</td>\n",
       "      <td>3</td>\n",
       "      <td>7092.0</td>\n",
       "      <td>1974</td>\n",
       "    </tr>\n",
       "    <tr>\n",
       "      <th>4</th>\n",
       "      <td>12 Angry Men</td>\n",
       "      <td>4</td>\n",
       "      <td>1171.0</td>\n",
       "      <td>1957</td>\n",
       "    </tr>\n",
       "  </tbody>\n",
       "</table>\n",
       "</div>"
      ],
      "text/plain": [
       "                      title  imdb_id  rotten_id  year\n",
       "0  The Shawshank Redemption        0    13183.0  1994\n",
       "1             The Godfather        1     7052.0  1972\n",
       "2           The Dark Knight        2    14788.0  2008\n",
       "3    The Godfather: Part II        3     7092.0  1974\n",
       "4              12 Angry Men        4     1171.0  1957"
      ]
     },
     "execution_count": 64,
     "metadata": {},
     "output_type": "execute_result"
    }
   ],
   "source": [
    "right_df.head()"
   ]
  },
  {
   "cell_type": "code",
   "execution_count": 65,
   "id": "87265064-e9e0-451c-b4df-c50b24227dd7",
   "metadata": {},
   "outputs": [],
   "source": [
    "right_df.dropna(axis=0, inplace=True)"
   ]
  },
  {
   "cell_type": "code",
   "execution_count": 66,
   "id": "126144ae-d6c0-4336-8c9b-215d73527ed7",
   "metadata": {},
   "outputs": [
    {
     "data": {
      "text/plain": [
       "35"
      ]
     },
     "execution_count": 66,
     "metadata": {},
     "output_type": "execute_result"
    }
   ],
   "source": [
    "len(right_df)"
   ]
  },
  {
   "cell_type": "code",
   "execution_count": 67,
   "id": "46dd8985-feaf-4f64-a971-40177e9bf0a4",
   "metadata": {},
   "outputs": [],
   "source": [
    "right_df = right_df.astype({'rotten_id': 'int64'})"
   ]
  },
  {
   "cell_type": "code",
   "execution_count": 68,
   "id": "715ee552-67fa-4861-b132-bcf9f804a32a",
   "metadata": {},
   "outputs": [
    {
     "data": {
      "text/plain": [
       "title        object\n",
       "imdb_id       int64\n",
       "rotten_id     int64\n",
       "year          int64\n",
       "dtype: object"
      ]
     },
     "execution_count": 68,
     "metadata": {},
     "output_type": "execute_result"
    }
   ],
   "source": [
    "right_df.dtypes"
   ]
  },
  {
   "cell_type": "markdown",
   "id": "0cc407ab-0f1e-4556-9d75-27f6dd18b85a",
   "metadata": {},
   "source": [
    "### 4. Similarity comparison using features"
   ]
  },
  {
   "cell_type": "code",
   "execution_count": 69,
   "id": "d23724c5-a836-47b3-8f8f-9fc71c5efabd",
   "metadata": {},
   "outputs": [
    {
     "data": {
      "text/plain": [
       "Index(['index', 'Poster_Link', 'Series_Title', 'Released_Year', 'Certificate',\n",
       "       'Runtime', 'Genre', 'IMDB_Rating', 'Overview', 'Meta_score', 'Director',\n",
       "       'Star1', 'Star2', 'Star3', 'Star4', 'No_of_Votes', 'Gross'],\n",
       "      dtype='object')"
      ]
     },
     "execution_count": 69,
     "metadata": {},
     "output_type": "execute_result"
    }
   ],
   "source": [
    "imdb_40.columns"
   ]
  },
  {
   "cell_type": "code",
   "execution_count": 70,
   "id": "7a99c3c0-177c-49f6-96e9-34e1f4d54e76",
   "metadata": {},
   "outputs": [
    {
     "data": {
      "text/plain": [
       "Index(['rotten_tomatoes_link', 'movie_title', 'movie_info',\n",
       "       'critics_consensus', 'content_rating', 'genres', 'directors', 'authors',\n",
       "       'actors', 'original_release_date', 'streaming_release_date', 'runtime',\n",
       "       'production_company', 'tomatometer_status', 'tomatometer_rating',\n",
       "       'tomatometer_count', 'audience_status', 'audience_rating',\n",
       "       'audience_count', 'tomatometer_top_critics_count',\n",
       "       'tomatometer_fresh_critics_count', 'tomatometer_rotten_critics_count'],\n",
       "      dtype='object')"
      ]
     },
     "execution_count": 70,
     "metadata": {},
     "output_type": "execute_result"
    }
   ],
   "source": [
    "rotten_df.columns"
   ]
  },
  {
   "cell_type": "markdown",
   "id": "9c648772-e673-4edc-b38b-db4ca5c400d8",
   "metadata": {},
   "source": [
    "#### 4-1. IMDB 40"
   ]
  },
  {
   "cell_type": "code",
   "execution_count": 72,
   "id": "f1807eb8-a2a1-4dd1-8659-8619fe0fcb6e",
   "metadata": {},
   "outputs": [],
   "source": [
    "common_imdb = imdb_40.copy()"
   ]
  },
  {
   "cell_type": "code",
   "execution_count": 75,
   "id": "9160b183-1730-4324-8239-89664239bbc3",
   "metadata": {
    "tags": []
   },
   "outputs": [],
   "source": [
    "common_imdb.drop(['Poster_Link','IMDB_Rating','Meta_score','No_of_Votes','Gross'], axis=1, inplace=True)"
   ]
  },
  {
   "cell_type": "code",
   "execution_count": 76,
   "id": "499bfdd2-5d9d-46a9-badc-e9a950c9fc61",
   "metadata": {},
   "outputs": [
    {
     "data": {
      "text/plain": [
       "Index(['index', 'Series_Title', 'Released_Year', 'Certificate', 'Runtime',\n",
       "       'Genre', 'Overview', 'Director', 'Star1', 'Star2', 'Star3', 'Star4'],\n",
       "      dtype='object')"
      ]
     },
     "execution_count": 76,
     "metadata": {},
     "output_type": "execute_result"
    }
   ],
   "source": [
    "common_imdb.columns"
   ]
  },
  {
   "cell_type": "code",
   "execution_count": 77,
   "id": "933f7e88-94ab-4441-8f24-2645f179a79a",
   "metadata": {},
   "outputs": [],
   "source": [
    "common_imdb.columns = ['index', 'title', 'year', 'certificate', 'runtime', 'genre', 'overview', 'director', 'Star1', 'Star2', 'Star3', 'Star4']"
   ]
  },
  {
   "cell_type": "code",
   "execution_count": 78,
   "id": "86f3e020-7166-4c0b-b7d5-ae387a9e2ea9",
   "metadata": {},
   "outputs": [
    {
     "data": {
      "text/plain": [
       "Index(['index', 'title', 'year', 'certificate', 'runtime', 'genre', 'overview',\n",
       "       'director', 'Star1', 'Star2', 'Star3', 'Star4'],\n",
       "      dtype='object')"
      ]
     },
     "execution_count": 78,
     "metadata": {},
     "output_type": "execute_result"
    }
   ],
   "source": [
    "common_imdb.columns"
   ]
  },
  {
   "cell_type": "code",
   "execution_count": 79,
   "id": "98fd4227-9f10-4a6d-9789-2d4c55ed546b",
   "metadata": {},
   "outputs": [],
   "source": [
    "cols = ['Star1', 'Star2', 'Star3', 'Star4']\n",
    "common_imdb['actor'] = common_imdb[cols].apply(lambda row: ','.join(row.values.astype(str)), axis=1)"
   ]
  },
  {
   "cell_type": "code",
   "execution_count": 82,
   "id": "921e70ea-619a-46f5-bd38-ee0f62d02f67",
   "metadata": {},
   "outputs": [],
   "source": [
    "common_imdb.drop(['Star1', 'Star2', 'Star3', 'Star4'], axis=1, inplace=True)"
   ]
  },
  {
   "cell_type": "code",
   "execution_count": 83,
   "id": "53732e7c-4fde-4746-9c2d-30abd738d6a5",
   "metadata": {},
   "outputs": [
    {
     "data": {
      "text/plain": [
       "Index(['index', 'title', 'year', 'certificate', 'runtime', 'genre', 'overview',\n",
       "       'director', 'actor'],\n",
       "      dtype='object')"
      ]
     },
     "execution_count": 83,
     "metadata": {},
     "output_type": "execute_result"
    }
   ],
   "source": [
    "common_imdb.columns"
   ]
  },
  {
   "cell_type": "code",
   "execution_count": 84,
   "id": "bef514fd-919e-478d-ad21-82e280df3c78",
   "metadata": {},
   "outputs": [
    {
     "data": {
      "text/html": [
       "<div>\n",
       "<style scoped>\n",
       "    .dataframe tbody tr th:only-of-type {\n",
       "        vertical-align: middle;\n",
       "    }\n",
       "\n",
       "    .dataframe tbody tr th {\n",
       "        vertical-align: top;\n",
       "    }\n",
       "\n",
       "    .dataframe thead th {\n",
       "        text-align: right;\n",
       "    }\n",
       "</style>\n",
       "<table border=\"1\" class=\"dataframe\">\n",
       "  <thead>\n",
       "    <tr style=\"text-align: right;\">\n",
       "      <th></th>\n",
       "      <th>index</th>\n",
       "      <th>title</th>\n",
       "      <th>year</th>\n",
       "      <th>certificate</th>\n",
       "      <th>runtime</th>\n",
       "      <th>genre</th>\n",
       "      <th>overview</th>\n",
       "      <th>director</th>\n",
       "      <th>actor</th>\n",
       "    </tr>\n",
       "  </thead>\n",
       "  <tbody>\n",
       "    <tr>\n",
       "      <th>0</th>\n",
       "      <td>0</td>\n",
       "      <td>the shawshank redemption</td>\n",
       "      <td>1994</td>\n",
       "      <td>A</td>\n",
       "      <td>142 min</td>\n",
       "      <td>Drama</td>\n",
       "      <td>Two imprisoned men bond over a number of years...</td>\n",
       "      <td>Frank Darabont</td>\n",
       "      <td>Tim Robbins,Morgan Freeman,Bob Gunton,William ...</td>\n",
       "    </tr>\n",
       "    <tr>\n",
       "      <th>1</th>\n",
       "      <td>1</td>\n",
       "      <td>the godfather</td>\n",
       "      <td>1972</td>\n",
       "      <td>A</td>\n",
       "      <td>175 min</td>\n",
       "      <td>Crime, Drama</td>\n",
       "      <td>An organized crime dynasty's aging patriarch t...</td>\n",
       "      <td>Francis Ford Coppola</td>\n",
       "      <td>Marlon Brando,Al Pacino,James Caan,Diane Keaton</td>\n",
       "    </tr>\n",
       "    <tr>\n",
       "      <th>2</th>\n",
       "      <td>2</td>\n",
       "      <td>the dark knight</td>\n",
       "      <td>2008</td>\n",
       "      <td>UA</td>\n",
       "      <td>152 min</td>\n",
       "      <td>Action, Crime, Drama</td>\n",
       "      <td>When the menace known as the Joker wreaks havo...</td>\n",
       "      <td>Christopher Nolan</td>\n",
       "      <td>Christian Bale,Heath Ledger,Aaron Eckhart,Mich...</td>\n",
       "    </tr>\n",
       "    <tr>\n",
       "      <th>3</th>\n",
       "      <td>3</td>\n",
       "      <td>the godfather: part ii</td>\n",
       "      <td>1974</td>\n",
       "      <td>A</td>\n",
       "      <td>202 min</td>\n",
       "      <td>Crime, Drama</td>\n",
       "      <td>The early life and career of Vito Corleone in ...</td>\n",
       "      <td>Francis Ford Coppola</td>\n",
       "      <td>Al Pacino,Robert De Niro,Robert Duvall,Diane K...</td>\n",
       "    </tr>\n",
       "    <tr>\n",
       "      <th>4</th>\n",
       "      <td>4</td>\n",
       "      <td>12 angry men</td>\n",
       "      <td>1957</td>\n",
       "      <td>U</td>\n",
       "      <td>96 min</td>\n",
       "      <td>Crime, Drama</td>\n",
       "      <td>A jury holdout attempts to prevent a miscarria...</td>\n",
       "      <td>Sidney Lumet</td>\n",
       "      <td>Henry Fonda,Lee J. Cobb,Martin Balsam,John Fie...</td>\n",
       "    </tr>\n",
       "  </tbody>\n",
       "</table>\n",
       "</div>"
      ],
      "text/plain": [
       "   index                     title  year certificate  runtime  \\\n",
       "0      0  the shawshank redemption  1994           A  142 min   \n",
       "1      1             the godfather  1972           A  175 min   \n",
       "2      2           the dark knight  2008          UA  152 min   \n",
       "3      3    the godfather: part ii  1974           A  202 min   \n",
       "4      4              12 angry men  1957           U   96 min   \n",
       "\n",
       "                  genre                                           overview  \\\n",
       "0                 Drama  Two imprisoned men bond over a number of years...   \n",
       "1          Crime, Drama  An organized crime dynasty's aging patriarch t...   \n",
       "2  Action, Crime, Drama  When the menace known as the Joker wreaks havo...   \n",
       "3          Crime, Drama  The early life and career of Vito Corleone in ...   \n",
       "4          Crime, Drama  A jury holdout attempts to prevent a miscarria...   \n",
       "\n",
       "               director                                              actor  \n",
       "0        Frank Darabont  Tim Robbins,Morgan Freeman,Bob Gunton,William ...  \n",
       "1  Francis Ford Coppola    Marlon Brando,Al Pacino,James Caan,Diane Keaton  \n",
       "2     Christopher Nolan  Christian Bale,Heath Ledger,Aaron Eckhart,Mich...  \n",
       "3  Francis Ford Coppola  Al Pacino,Robert De Niro,Robert Duvall,Diane K...  \n",
       "4          Sidney Lumet  Henry Fonda,Lee J. Cobb,Martin Balsam,John Fie...  "
      ]
     },
     "execution_count": 84,
     "metadata": {},
     "output_type": "execute_result"
    }
   ],
   "source": [
    "common_imdb.head()"
   ]
  },
  {
   "cell_type": "markdown",
   "id": "4a4fb85c-fb64-4951-bc86-8b85a632aff2",
   "metadata": {},
   "source": [
    "#### 4-2. Rotten Tomato"
   ]
  },
  {
   "cell_type": "code",
   "execution_count": 100,
   "id": "f4a21fa9-134f-40b0-8d3a-fe48be24a42a",
   "metadata": {},
   "outputs": [],
   "source": [
    "common_rotten = rotten_df.copy()"
   ]
  },
  {
   "cell_type": "code",
   "execution_count": 105,
   "id": "46784d74-2bbf-4433-b68c-ac3be8303cd9",
   "metadata": {},
   "outputs": [],
   "source": [
    "common_rotten.reset_index(inplace=True)"
   ]
  },
  {
   "cell_type": "code",
   "execution_count": 106,
   "id": "984016c7-3262-4eab-b5ef-f9a5a207ddc6",
   "metadata": {},
   "outputs": [
    {
     "data": {
      "text/plain": [
       "Index(['index', 'rotten_tomatoes_link', 'movie_title', 'movie_info',\n",
       "       'critics_consensus', 'content_rating', 'genres', 'directors', 'authors',\n",
       "       'actors', 'original_release_date', 'streaming_release_date', 'runtime',\n",
       "       'production_company', 'tomatometer_status', 'tomatometer_rating',\n",
       "       'tomatometer_count', 'audience_status', 'audience_rating',\n",
       "       'audience_count', 'tomatometer_top_critics_count',\n",
       "       'tomatometer_fresh_critics_count', 'tomatometer_rotten_critics_count'],\n",
       "      dtype='object')"
      ]
     },
     "execution_count": 106,
     "metadata": {},
     "output_type": "execute_result"
    }
   ],
   "source": [
    "common_rotten.columns"
   ]
  },
  {
   "cell_type": "code",
   "execution_count": 107,
   "id": "5e4df846-3cd8-4b3a-9cdb-8e30f3a2a3d4",
   "metadata": {},
   "outputs": [],
   "source": [
    "drop_cols = ['rotten_tomatoes_link', 'critics_consensus','authors', 'streaming_release_date', 'production_company', 'tomatometer_status', 'tomatometer_rating', 'tomatometer_count', 'audience_status', 'audience_rating', 'audience_count', 'tomatometer_top_critics_count','tomatometer_fresh_critics_count', 'tomatometer_rotten_critics_count']\n",
    "common_rotten.drop(drop_cols, axis=1, inplace=True)"
   ]
  },
  {
   "cell_type": "code",
   "execution_count": 108,
   "id": "4dda9264-d3ec-4ff1-a967-d0de21e51767",
   "metadata": {},
   "outputs": [
    {
     "data": {
      "text/plain": [
       "Index(['index', 'movie_title', 'movie_info', 'content_rating', 'genres',\n",
       "       'directors', 'actors', 'original_release_date', 'runtime'],\n",
       "      dtype='object')"
      ]
     },
     "execution_count": 108,
     "metadata": {},
     "output_type": "execute_result"
    }
   ],
   "source": [
    "common_rotten.columns"
   ]
  },
  {
   "cell_type": "code",
   "execution_count": 110,
   "id": "c79f50d2-36d1-4fdd-8d95-b6312337eec4",
   "metadata": {},
   "outputs": [],
   "source": [
    "common_rotten.columns = ['index', 'title', 'overview', 'certificate', 'genre', 'director', 'actor', 'date', 'runtime']"
   ]
  },
  {
   "cell_type": "code",
   "execution_count": 111,
   "id": "fc60561b-f79a-49aa-800f-5dedfec1a3e9",
   "metadata": {},
   "outputs": [
    {
     "data": {
      "text/plain": [
       "Index(['index', 'title', 'overview', 'certificate', 'genre', 'director',\n",
       "       'actor', 'date', 'runtime'],\n",
       "      dtype='object')"
      ]
     },
     "execution_count": 111,
     "metadata": {},
     "output_type": "execute_result"
    }
   ],
   "source": [
    "common_rotten.columns"
   ]
  },
  {
   "cell_type": "code",
   "execution_count": 112,
   "id": "ea169f82-fb1c-4659-b88f-a7196d9a9e60",
   "metadata": {},
   "outputs": [],
   "source": [
    "# 문자열을 Datetime으로 변환하기\n",
    "common_rotten['date'] = pd.to_datetime(common_rotten['date'],format='%Y-%m-%d')"
   ]
  },
  {
   "cell_type": "code",
   "execution_count": 113,
   "id": "cc9898bf-51f6-4f72-9b7f-5fe2c24ad9e0",
   "metadata": {},
   "outputs": [],
   "source": [
    "common_rotten['year'] = common_rotten['date'].dt.year"
   ]
  },
  {
   "cell_type": "code",
   "execution_count": 114,
   "id": "721ce735-5bad-45ab-bd82-dbe19aeab675",
   "metadata": {},
   "outputs": [
    {
     "data": {
      "text/plain": [
       "Index(['index', 'title', 'overview', 'certificate', 'genre', 'director',\n",
       "       'actor', 'date', 'runtime', 'year'],\n",
       "      dtype='object')"
      ]
     },
     "execution_count": 114,
     "metadata": {},
     "output_type": "execute_result"
    }
   ],
   "source": [
    "common_rotten.columns"
   ]
  },
  {
   "cell_type": "code",
   "execution_count": 115,
   "id": "f40a5e6d-74a2-4110-903c-a7231b2fcac8",
   "metadata": {},
   "outputs": [],
   "source": [
    "common_rotten.drop(['date'], axis=1, inplace=True)"
   ]
  },
  {
   "cell_type": "code",
   "execution_count": 116,
   "id": "fe10e3ed-14ca-44ad-b912-7e0caf90d8cf",
   "metadata": {},
   "outputs": [
    {
     "data": {
      "text/plain": [
       "Index(['index', 'title', 'overview', 'certificate', 'genre', 'director',\n",
       "       'actor', 'runtime', 'year'],\n",
       "      dtype='object')"
      ]
     },
     "execution_count": 116,
     "metadata": {},
     "output_type": "execute_result"
    }
   ],
   "source": [
    "common_rotten.columns"
   ]
  },
  {
   "cell_type": "code",
   "execution_count": 119,
   "id": "eb4f326f-a555-4e95-9a25-6466a9768a53",
   "metadata": {},
   "outputs": [
    {
     "data": {
      "text/html": [
       "<div>\n",
       "<style scoped>\n",
       "    .dataframe tbody tr th:only-of-type {\n",
       "        vertical-align: middle;\n",
       "    }\n",
       "\n",
       "    .dataframe tbody tr th {\n",
       "        vertical-align: top;\n",
       "    }\n",
       "\n",
       "    .dataframe thead th {\n",
       "        text-align: right;\n",
       "    }\n",
       "</style>\n",
       "<table border=\"1\" class=\"dataframe\">\n",
       "  <thead>\n",
       "    <tr style=\"text-align: right;\">\n",
       "      <th></th>\n",
       "      <th>index</th>\n",
       "      <th>title</th>\n",
       "      <th>overview</th>\n",
       "      <th>certificate</th>\n",
       "      <th>genre</th>\n",
       "      <th>director</th>\n",
       "      <th>actor</th>\n",
       "      <th>runtime</th>\n",
       "      <th>year</th>\n",
       "    </tr>\n",
       "  </thead>\n",
       "  <tbody>\n",
       "    <tr>\n",
       "      <th>0</th>\n",
       "      <td>0</td>\n",
       "      <td>percy jackson &amp; the olympians: the lightning t...</td>\n",
       "      <td>Always trouble-prone, the life of teenager Per...</td>\n",
       "      <td>PG</td>\n",
       "      <td>Action &amp; Adventure, Comedy, Drama, Science Fic...</td>\n",
       "      <td>Chris Columbus</td>\n",
       "      <td>Logan Lerman, Brandon T. Jackson, Alexandra Da...</td>\n",
       "      <td>119.0</td>\n",
       "      <td>2010.0</td>\n",
       "    </tr>\n",
       "    <tr>\n",
       "      <th>1</th>\n",
       "      <td>1</td>\n",
       "      <td>please give</td>\n",
       "      <td>Kate (Catherine Keener) and her husband Alex (...</td>\n",
       "      <td>R</td>\n",
       "      <td>Comedy</td>\n",
       "      <td>Nicole Holofcener</td>\n",
       "      <td>Catherine Keener, Amanda Peet, Oliver Platt, R...</td>\n",
       "      <td>90.0</td>\n",
       "      <td>2010.0</td>\n",
       "    </tr>\n",
       "    <tr>\n",
       "      <th>2</th>\n",
       "      <td>2</td>\n",
       "      <td>10</td>\n",
       "      <td>A successful, middle-aged Hollywood songwriter...</td>\n",
       "      <td>R</td>\n",
       "      <td>Comedy, Romance</td>\n",
       "      <td>Blake Edwards</td>\n",
       "      <td>Dudley Moore, Bo Derek, Julie Andrews, Robert ...</td>\n",
       "      <td>122.0</td>\n",
       "      <td>1979.0</td>\n",
       "    </tr>\n",
       "    <tr>\n",
       "      <th>3</th>\n",
       "      <td>3</td>\n",
       "      <td>12 angry men (twelve angry men)</td>\n",
       "      <td>Following the closing arguments in a murder tr...</td>\n",
       "      <td>NR</td>\n",
       "      <td>Classics, Drama</td>\n",
       "      <td>Sidney Lumet</td>\n",
       "      <td>Martin Balsam, John Fiedler, Lee J. Cobb, E.G....</td>\n",
       "      <td>95.0</td>\n",
       "      <td>1957.0</td>\n",
       "    </tr>\n",
       "    <tr>\n",
       "      <th>4</th>\n",
       "      <td>4</td>\n",
       "      <td>20,000 leagues under the sea</td>\n",
       "      <td>In 1866, Professor Pierre M. Aronnax (Paul Luk...</td>\n",
       "      <td>G</td>\n",
       "      <td>Action &amp; Adventure, Drama, Kids &amp; Family</td>\n",
       "      <td>Richard Fleischer</td>\n",
       "      <td>James Mason, Kirk Douglas, Paul Lukas, Peter L...</td>\n",
       "      <td>127.0</td>\n",
       "      <td>1954.0</td>\n",
       "    </tr>\n",
       "  </tbody>\n",
       "</table>\n",
       "</div>"
      ],
      "text/plain": [
       "   index                                              title  \\\n",
       "0      0  percy jackson & the olympians: the lightning t...   \n",
       "1      1                                        please give   \n",
       "2      2                                                 10   \n",
       "3      3                    12 angry men (twelve angry men)   \n",
       "4      4                       20,000 leagues under the sea   \n",
       "\n",
       "                                            overview certificate  \\\n",
       "0  Always trouble-prone, the life of teenager Per...          PG   \n",
       "1  Kate (Catherine Keener) and her husband Alex (...           R   \n",
       "2  A successful, middle-aged Hollywood songwriter...           R   \n",
       "3  Following the closing arguments in a murder tr...          NR   \n",
       "4  In 1866, Professor Pierre M. Aronnax (Paul Luk...           G   \n",
       "\n",
       "                                               genre           director  \\\n",
       "0  Action & Adventure, Comedy, Drama, Science Fic...     Chris Columbus   \n",
       "1                                             Comedy  Nicole Holofcener   \n",
       "2                                    Comedy, Romance      Blake Edwards   \n",
       "3                                    Classics, Drama       Sidney Lumet   \n",
       "4           Action & Adventure, Drama, Kids & Family  Richard Fleischer   \n",
       "\n",
       "                                               actor  runtime    year  \n",
       "0  Logan Lerman, Brandon T. Jackson, Alexandra Da...    119.0  2010.0  \n",
       "1  Catherine Keener, Amanda Peet, Oliver Platt, R...     90.0  2010.0  \n",
       "2  Dudley Moore, Bo Derek, Julie Andrews, Robert ...    122.0  1979.0  \n",
       "3  Martin Balsam, John Fiedler, Lee J. Cobb, E.G....     95.0  1957.0  \n",
       "4  James Mason, Kirk Douglas, Paul Lukas, Peter L...    127.0  1954.0  "
      ]
     },
     "execution_count": 119,
     "metadata": {},
     "output_type": "execute_result"
    }
   ],
   "source": [
    "common_rotten.head()"
   ]
  },
  {
   "cell_type": "code",
   "execution_count": null,
   "id": "24da8209-a54b-4187-b07b-bfc3513e9191",
   "metadata": {},
   "outputs": [],
   "source": []
  },
  {
   "cell_type": "code",
   "execution_count": null,
   "id": "cafae025-9135-45fa-b872-6100e414def5",
   "metadata": {},
   "outputs": [],
   "source": []
  }
 ],
 "metadata": {
  "kernelspec": {
   "display_name": "Python 3",
   "language": "python",
   "name": "python3"
  },
  "language_info": {
   "codemirror_mode": {
    "name": "ipython",
    "version": 3
   },
   "file_extension": ".py",
   "mimetype": "text/x-python",
   "name": "python",
   "nbconvert_exporter": "python",
   "pygments_lexer": "ipython3",
   "version": "3.8.10"
  }
 },
 "nbformat": 4,
 "nbformat_minor": 5
}
