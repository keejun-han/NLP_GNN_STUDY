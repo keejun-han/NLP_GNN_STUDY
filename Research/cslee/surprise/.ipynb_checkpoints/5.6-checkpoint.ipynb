{
 "cells": [
  {
   "cell_type": "code",
   "execution_count": 39,
   "id": "e3e421ca-20dc-4a42-9b35-9745ea5aaa48",
   "metadata": {},
   "outputs": [],
   "source": [
    "# Created on Feb 2020\n",
    "# Author: 임일\n",
    "import os\n",
    "import numpy as np\n",
    "import pandas as pd\n",
    "\n",
    "# 필요한 Surprise 알고리즘 불러오기\n",
    "from surprise import BaselineOnly \n",
    "from surprise import KNNWithMeans, KNNBaseline, KNNBasic\n",
    "from surprise import SVD\n",
    "from surprise import SVDpp\n",
    "from surprise import NMF\n",
    "from surprise import Dataset\n",
    "from surprise import accuracy\n",
    "from surprise import Reader\n",
    "from surprise.model_selection import cross_validate\n",
    "from surprise.model_selection import train_test_split"
   ]
  },
  {
   "cell_type": "code",
   "execution_count": 174,
   "id": "ccd74c0c-a319-454d-b0e4-fbcc93b5f983",
   "metadata": {},
   "outputs": [
    {
     "data": {
      "text/plain": [
       "['emotion_analysis_data',\n",
       " 'final_rating(sentiment,emotion).csv',\n",
       " 'graph',\n",
       " 'model.pth',\n",
       " 'model_new.pth',\n",
       " 'model_rotten.pth',\n",
       " 'model_save',\n",
       " 'movie1_neg.txt',\n",
       " 'movie1_pos.txt',\n",
       " 'movie2_neg.txt',\n",
       " 'movie2_pos.txt',\n",
       " 'movie3_neg.txt',\n",
       " 'movie3_pos.txt',\n",
       " 'rotten_movie_table.csv',\n",
       " 'rotten_rating(review_100_user).csv',\n",
       " 'rotten_rating_review_emotion_table.csv',\n",
       " 'rotten_rating_review_emotion_table.xlsx',\n",
       " 'rotten_rating_review_sentiment_table.csv',\n",
       " 'rotten_rating_review_sentiment_table.xlsx',\n",
       " 'rotten_rating_review_table.csv',\n",
       " 'rotten_review_scaled_clean.csv',\n",
       " 'rotten_review_scaled_label(pos,neu,neg).csv',\n",
       " 'rotten_review_scaled_label.csv',\n",
       " 'rotten_review_scaled_new.csv',\n",
       " 'rotten_tomatoes_critic_reviews.csv',\n",
       " 'rotten_tomatoes_movies.csv',\n",
       " 'rotten_user_table.csv',\n",
       " 'sentiment_analysis_data',\n",
       " 'testset.csv',\n",
       " 'trainset.csv']"
      ]
     },
     "execution_count": 174,
     "metadata": {},
     "output_type": "execute_result"
    }
   ],
   "source": [
    "path = './../../../data/rotten_tomato/graph/'\n",
    "os.listdir(path)"
   ]
  },
  {
   "cell_type": "code",
   "execution_count": 209,
   "id": "89d2c5e5-10a6-477e-be28-c4a8c04b4334",
   "metadata": {},
   "outputs": [],
   "source": [
    "# csv 파일에서 불러오기\n",
    "# r_cols = ['user_id', 'movie_id', 'rating', 'timestamp']\n",
    "ratings_df = pd.read_csv(path + 'final_rating(sentiment,emotion).csv')"
   ]
  },
  {
   "cell_type": "code",
   "execution_count": 210,
   "id": "359dba70-504f-4d09-9306-af6c133e648d",
   "metadata": {},
   "outputs": [],
   "source": [
    "ratings_df = ratings_df[['user_id', 'movie_id', 'review_score' , 'sentiment', 'emotion', 'review_date']]"
   ]
  },
  {
   "cell_type": "code",
   "execution_count": 211,
   "id": "dfe20348-64ae-4ea7-9975-27202c3e7dd3",
   "metadata": {},
   "outputs": [],
   "source": [
    "ratings_df['origin_rating'] = ratings_df.review_score * 4.5 + 0.5"
   ]
  },
  {
   "cell_type": "code",
   "execution_count": 212,
   "id": "26a328e4-c3c5-407b-8b97-fa2a0489d412",
   "metadata": {
    "tags": []
   },
   "outputs": [],
   "source": [
    "# 소수점 0.5 단위로 반내림\n",
    "scaled_rating = list()\n",
    "\n",
    "for val in ratings_df.origin_rating:\n",
    "    remainder = 0\n",
    "    if val % 0.5 != 0.0:\n",
    "        remainder = val % 0.5\n",
    "    scaled_rating.append(val - remainder)"
   ]
  },
  {
   "cell_type": "code",
   "execution_count": 213,
   "id": "31f16c1e-a44e-4177-9095-a9edc6172379",
   "metadata": {},
   "outputs": [
    {
     "data": {
      "text/plain": [
       "{0.5, 1.0, 1.5, 2.0, 2.5, 3.0, 3.5, 4.0, 4.5, 5.0}"
      ]
     },
     "execution_count": 213,
     "metadata": {},
     "output_type": "execute_result"
    }
   ],
   "source": [
    "set(scaled_rating)"
   ]
  },
  {
   "cell_type": "code",
   "execution_count": 214,
   "id": "4fd91f86-3f6c-406a-9883-df9ea59e4334",
   "metadata": {},
   "outputs": [],
   "source": [
    "ratings_df['rating'] = scaled_rating"
   ]
  },
  {
   "cell_type": "code",
   "execution_count": 215,
   "id": "e246d32e-795e-4074-b798-f013e5706639",
   "metadata": {},
   "outputs": [
    {
     "data": {
      "text/html": [
       "<div>\n",
       "<style scoped>\n",
       "    .dataframe tbody tr th:only-of-type {\n",
       "        vertical-align: middle;\n",
       "    }\n",
       "\n",
       "    .dataframe tbody tr th {\n",
       "        vertical-align: top;\n",
       "    }\n",
       "\n",
       "    .dataframe thead th {\n",
       "        text-align: right;\n",
       "    }\n",
       "</style>\n",
       "<table border=\"1\" class=\"dataframe\">\n",
       "  <thead>\n",
       "    <tr style=\"text-align: right;\">\n",
       "      <th></th>\n",
       "      <th>user_id</th>\n",
       "      <th>movie_id</th>\n",
       "      <th>review_score</th>\n",
       "      <th>sentiment</th>\n",
       "      <th>emotion</th>\n",
       "      <th>review_date</th>\n",
       "      <th>origin_rating</th>\n",
       "      <th>rating</th>\n",
       "    </tr>\n",
       "  </thead>\n",
       "  <tbody>\n",
       "    <tr>\n",
       "      <th>0</th>\n",
       "      <td>943</td>\n",
       "      <td>0</td>\n",
       "      <td>0.70</td>\n",
       "      <td>2</td>\n",
       "      <td>2</td>\n",
       "      <td>2010-02-09</td>\n",
       "      <td>3.650</td>\n",
       "      <td>3.5</td>\n",
       "    </tr>\n",
       "    <tr>\n",
       "      <th>1</th>\n",
       "      <td>7242</td>\n",
       "      <td>0</td>\n",
       "      <td>0.25</td>\n",
       "      <td>0</td>\n",
       "      <td>2</td>\n",
       "      <td>2010-02-10</td>\n",
       "      <td>1.625</td>\n",
       "      <td>1.5</td>\n",
       "    </tr>\n",
       "    <tr>\n",
       "      <th>2</th>\n",
       "      <td>1046</td>\n",
       "      <td>0</td>\n",
       "      <td>0.70</td>\n",
       "      <td>3</td>\n",
       "      <td>2</td>\n",
       "      <td>2010-02-10</td>\n",
       "      <td>3.650</td>\n",
       "      <td>3.5</td>\n",
       "    </tr>\n",
       "    <tr>\n",
       "      <th>3</th>\n",
       "      <td>4895</td>\n",
       "      <td>0</td>\n",
       "      <td>0.70</td>\n",
       "      <td>4</td>\n",
       "      <td>2</td>\n",
       "      <td>2010-02-10</td>\n",
       "      <td>3.650</td>\n",
       "      <td>3.5</td>\n",
       "    </tr>\n",
       "    <tr>\n",
       "      <th>4</th>\n",
       "      <td>4517</td>\n",
       "      <td>0</td>\n",
       "      <td>0.60</td>\n",
       "      <td>1</td>\n",
       "      <td>2</td>\n",
       "      <td>2010-02-10</td>\n",
       "      <td>3.200</td>\n",
       "      <td>3.0</td>\n",
       "    </tr>\n",
       "  </tbody>\n",
       "</table>\n",
       "</div>"
      ],
      "text/plain": [
       "   user_id  movie_id  review_score  sentiment  emotion review_date  \\\n",
       "0      943         0          0.70          2        2  2010-02-09   \n",
       "1     7242         0          0.25          0        2  2010-02-10   \n",
       "2     1046         0          0.70          3        2  2010-02-10   \n",
       "3     4895         0          0.70          4        2  2010-02-10   \n",
       "4     4517         0          0.60          1        2  2010-02-10   \n",
       "\n",
       "   origin_rating  rating  \n",
       "0          3.650     3.5  \n",
       "1          1.625     1.5  \n",
       "2          3.650     3.5  \n",
       "3          3.650     3.5  \n",
       "4          3.200     3.0  "
      ]
     },
     "execution_count": 215,
     "metadata": {},
     "output_type": "execute_result"
    }
   ],
   "source": [
    "ratings_df.head()"
   ]
  },
  {
   "cell_type": "markdown",
   "id": "7c19341e-a165-4e2e-9a46-121d01c3b557",
   "metadata": {},
   "source": [
    "### 1. 20개 이상의 리뷰 남긴 User"
   ]
  },
  {
   "cell_type": "code",
   "execution_count": 216,
   "id": "afab4ad2-d99c-44c3-a4ba-95a5182665dc",
   "metadata": {},
   "outputs": [],
   "source": [
    "group = ratings_df.groupby('user_id')\n",
    "group_user_id = group['movie_id'].count()"
   ]
  },
  {
   "cell_type": "code",
   "execution_count": 217,
   "id": "215e312f-b7ca-4072-ad41-75b7ca5d3b82",
   "metadata": {},
   "outputs": [],
   "source": [
    "def cal_rate(num, total, limit, condition):\n",
    "    if condition == 'low':\n",
    "        print(f\"{limit}개 미만: {sum(num < limit)}, {round((sum(num < limit)/total),2)*100}%\")\n",
    "        return sum(num >= limit)\n",
    "    \n",
    "    if condition == 'high':\n",
    "        print(f\"{limit}개 이상: {sum(num >= limit)}, {round((sum(num > limit)/total),2)*100}%\")\n",
    "        return sum(num >= limit)"
   ]
  },
  {
   "cell_type": "code",
   "execution_count": 218,
   "id": "3b0c0446-f60f-479a-95f4-c248832396a0",
   "metadata": {},
   "outputs": [
    {
     "name": "stdout",
     "output_type": "stream",
     "text": [
      "20개 이상: 2994, 30.0%\n"
     ]
    }
   ],
   "source": [
    "num = group_user_id.sort_values()\n",
    "total = len(group_user_id)\n",
    "\n",
    "condition = 'high'\n",
    "sample_num = cal_rate(num, total, 20, condition)\n",
    "# sample_num = cal_rate(num, total, 100, condition)\n",
    "# sample_num = cal_rate(num, total, 500, condition)"
   ]
  },
  {
   "cell_type": "code",
   "execution_count": 219,
   "id": "ca348b29-4f8f-432c-9c38-c19142b3020a",
   "metadata": {},
   "outputs": [
    {
     "data": {
      "text/plain": [
       "user_id\n",
       "2600    6486\n",
       "8148    6356\n",
       "3265    5300\n",
       "2495    5212\n",
       "3926    4548\n",
       "Name: movie_id, dtype: int64"
      ]
     },
     "execution_count": 219,
     "metadata": {},
     "output_type": "execute_result"
    }
   ],
   "source": [
    "group_user_id.sort_values(ascending=False)[:5]"
   ]
  },
  {
   "cell_type": "code",
   "execution_count": 220,
   "id": "607f1568-80f1-4916-b164-e14e1fd1f569",
   "metadata": {},
   "outputs": [],
   "source": [
    "sample = group_user_id.sort_values(ascending=False)[:sample_num]\n",
    "total = len(group_user_id)"
   ]
  },
  {
   "cell_type": "code",
   "execution_count": 221,
   "id": "46713a42-08eb-4961-a7b9-7f342723fdff",
   "metadata": {},
   "outputs": [
    {
     "data": {
      "text/plain": [
       "2994"
      ]
     },
     "execution_count": 221,
     "metadata": {},
     "output_type": "execute_result"
    }
   ],
   "source": [
    "len(sample)"
   ]
  },
  {
   "cell_type": "code",
   "execution_count": 222,
   "id": "6fe5ff06-d47c-4a3f-a3bb-45119707d7c0",
   "metadata": {},
   "outputs": [
    {
     "data": {
      "text/plain": [
       "Int64Index([2600, 8148, 3265, 2495, 3926, 5446, 5716, 7603, 7917, 1738,\n",
       "            ...\n",
       "            5685, 5990, 7188, 6088, 6733, 9250, 4203, 7911, 4540, 1743],\n",
       "           dtype='int64', name='user_id', length=2994)"
      ]
     },
     "execution_count": 222,
     "metadata": {},
     "output_type": "execute_result"
    }
   ],
   "source": [
    "sample.index"
   ]
  },
  {
   "cell_type": "code",
   "execution_count": 223,
   "id": "29179ead-f447-4780-852a-f62e4e360fb7",
   "metadata": {},
   "outputs": [],
   "source": [
    "# 특정 인덱스에 해당하는 행(리뷰 100개 이상 남긴 유저)만 필터링\n",
    "df = ratings_df[ratings_df['user_id'].isin(list(sample.index))]"
   ]
  },
  {
   "cell_type": "code",
   "execution_count": 224,
   "id": "9137666d-2b3b-4003-ad48-cfcfce53cfa4",
   "metadata": {},
   "outputs": [
    {
     "data": {
      "text/plain": [
       "(721094, 8)"
      ]
     },
     "execution_count": 224,
     "metadata": {},
     "output_type": "execute_result"
    }
   ],
   "source": [
    "df.shape"
   ]
  },
  {
   "cell_type": "code",
   "execution_count": 225,
   "id": "af844f3d-9f03-472f-bcab-8e93074eefe7",
   "metadata": {},
   "outputs": [],
   "source": [
    "df.to_csv(path+'rotten_rating(review_20_user).csv', index=False)\n",
    "# df.to_csv(path+'rotten_rating(review_100_user).csv', index=False)"
   ]
  },
  {
   "cell_type": "markdown",
   "id": "dec17c34-dd88-417a-a82a-d0c7184cb03c",
   "metadata": {},
   "source": [
    "### 2. 평점 파일 로드하기(리뷰 20 이상)"
   ]
  },
  {
   "cell_type": "code",
   "execution_count": 226,
   "id": "739accbf-713f-43e5-a7a8-387e1af273ab",
   "metadata": {},
   "outputs": [],
   "source": [
    "path = './../../../data/rotten_tomato/'\n",
    "ratings_df = pd.read_csv(path + 'rotten_rating(review_20_user).csv')\n",
    "# ratings_df = pd.read_csv(path + 'rotten_rating(review_100_user).csv')"
   ]
  },
  {
   "cell_type": "code",
   "execution_count": 227,
   "id": "a444b27a-d02f-4458-82d1-74cc680fd472",
   "metadata": {},
   "outputs": [
    {
     "data": {
      "text/html": [
       "<div>\n",
       "<style scoped>\n",
       "    .dataframe tbody tr th:only-of-type {\n",
       "        vertical-align: middle;\n",
       "    }\n",
       "\n",
       "    .dataframe tbody tr th {\n",
       "        vertical-align: top;\n",
       "    }\n",
       "\n",
       "    .dataframe thead th {\n",
       "        text-align: right;\n",
       "    }\n",
       "</style>\n",
       "<table border=\"1\" class=\"dataframe\">\n",
       "  <thead>\n",
       "    <tr style=\"text-align: right;\">\n",
       "      <th></th>\n",
       "      <th>user_id</th>\n",
       "      <th>movie_id</th>\n",
       "      <th>review_score</th>\n",
       "      <th>sentiment</th>\n",
       "      <th>emotion</th>\n",
       "      <th>review_date</th>\n",
       "      <th>origin_rating</th>\n",
       "      <th>rating</th>\n",
       "    </tr>\n",
       "  </thead>\n",
       "  <tbody>\n",
       "    <tr>\n",
       "      <th>0</th>\n",
       "      <td>7242</td>\n",
       "      <td>0</td>\n",
       "      <td>0.25</td>\n",
       "      <td>0</td>\n",
       "      <td>2</td>\n",
       "      <td>2010-02-10</td>\n",
       "      <td>1.625</td>\n",
       "      <td>1.5</td>\n",
       "    </tr>\n",
       "    <tr>\n",
       "      <th>1</th>\n",
       "      <td>1046</td>\n",
       "      <td>0</td>\n",
       "      <td>0.70</td>\n",
       "      <td>3</td>\n",
       "      <td>2</td>\n",
       "      <td>2010-02-10</td>\n",
       "      <td>3.650</td>\n",
       "      <td>3.5</td>\n",
       "    </tr>\n",
       "    <tr>\n",
       "      <th>2</th>\n",
       "      <td>4895</td>\n",
       "      <td>0</td>\n",
       "      <td>0.70</td>\n",
       "      <td>4</td>\n",
       "      <td>2</td>\n",
       "      <td>2010-02-10</td>\n",
       "      <td>3.650</td>\n",
       "      <td>3.5</td>\n",
       "    </tr>\n",
       "    <tr>\n",
       "      <th>3</th>\n",
       "      <td>4517</td>\n",
       "      <td>0</td>\n",
       "      <td>0.60</td>\n",
       "      <td>1</td>\n",
       "      <td>2</td>\n",
       "      <td>2010-02-10</td>\n",
       "      <td>3.200</td>\n",
       "      <td>3.0</td>\n",
       "    </tr>\n",
       "    <tr>\n",
       "      <th>4</th>\n",
       "      <td>6226</td>\n",
       "      <td>0</td>\n",
       "      <td>0.80</td>\n",
       "      <td>4</td>\n",
       "      <td>2</td>\n",
       "      <td>2010-02-10</td>\n",
       "      <td>4.100</td>\n",
       "      <td>4.0</td>\n",
       "    </tr>\n",
       "  </tbody>\n",
       "</table>\n",
       "</div>"
      ],
      "text/plain": [
       "   user_id  movie_id  review_score  sentiment  emotion review_date  \\\n",
       "0     7242         0          0.25          0        2  2010-02-10   \n",
       "1     1046         0          0.70          3        2  2010-02-10   \n",
       "2     4895         0          0.70          4        2  2010-02-10   \n",
       "3     4517         0          0.60          1        2  2010-02-10   \n",
       "4     6226         0          0.80          4        2  2010-02-10   \n",
       "\n",
       "   origin_rating  rating  \n",
       "0          1.625     1.5  \n",
       "1          3.650     3.5  \n",
       "2          3.650     3.5  \n",
       "3          3.200     3.0  \n",
       "4          4.100     4.0  "
      ]
     },
     "execution_count": 227,
     "metadata": {},
     "output_type": "execute_result"
    }
   ],
   "source": [
    "ratings_df.head()"
   ]
  },
  {
   "cell_type": "code",
   "execution_count": 228,
   "id": "29595751-2adf-409f-b273-decdcef5a797",
   "metadata": {},
   "outputs": [],
   "source": [
    "ratings_df['review_date'] = pd.to_datetime(ratings_df.review_date)"
   ]
  },
  {
   "cell_type": "code",
   "execution_count": 229,
   "id": "7bb7ba4f-f3e7-43f2-9f13-52182d42b0fe",
   "metadata": {},
   "outputs": [
    {
     "data": {
      "text/plain": [
       "user_id          0\n",
       "movie_id         0\n",
       "review_score     0\n",
       "sentiment        0\n",
       "emotion          0\n",
       "review_date      0\n",
       "origin_rating    0\n",
       "rating           0\n",
       "dtype: int64"
      ]
     },
     "execution_count": 229,
     "metadata": {},
     "output_type": "execute_result"
    }
   ],
   "source": [
    "ratings_df.isnull().sum()"
   ]
  },
  {
   "cell_type": "code",
   "execution_count": 230,
   "id": "0ff180f2-dfc0-48e8-b706-bfc4f5b355ed",
   "metadata": {},
   "outputs": [],
   "source": [
    "# 날짜 별로 정렬\n",
    "ratings_df.sort_values(by='review_date', inplace=True)"
   ]
  },
  {
   "cell_type": "code",
   "execution_count": 231,
   "id": "f67b4571-fd21-46d2-a55d-fbfb77464a9e",
   "metadata": {},
   "outputs": [
    {
     "data": {
      "text/html": [
       "<div>\n",
       "<style scoped>\n",
       "    .dataframe tbody tr th:only-of-type {\n",
       "        vertical-align: middle;\n",
       "    }\n",
       "\n",
       "    .dataframe tbody tr th {\n",
       "        vertical-align: top;\n",
       "    }\n",
       "\n",
       "    .dataframe thead th {\n",
       "        text-align: right;\n",
       "    }\n",
       "</style>\n",
       "<table border=\"1\" class=\"dataframe\">\n",
       "  <thead>\n",
       "    <tr style=\"text-align: right;\">\n",
       "      <th></th>\n",
       "      <th>user_id</th>\n",
       "      <th>movie_id</th>\n",
       "      <th>review_score</th>\n",
       "      <th>sentiment</th>\n",
       "      <th>emotion</th>\n",
       "      <th>review_date</th>\n",
       "      <th>origin_rating</th>\n",
       "      <th>rating</th>\n",
       "    </tr>\n",
       "  </thead>\n",
       "  <tbody>\n",
       "    <tr>\n",
       "      <th>73212</th>\n",
       "      <td>7403</td>\n",
       "      <td>2494</td>\n",
       "      <td>1.00</td>\n",
       "      <td>3</td>\n",
       "      <td>4</td>\n",
       "      <td>1800-01-01</td>\n",
       "      <td>5.000</td>\n",
       "      <td>5.0</td>\n",
       "    </tr>\n",
       "    <tr>\n",
       "      <th>18569</th>\n",
       "      <td>6220</td>\n",
       "      <td>970</td>\n",
       "      <td>0.20</td>\n",
       "      <td>1</td>\n",
       "      <td>2</td>\n",
       "      <td>1800-01-01</td>\n",
       "      <td>1.400</td>\n",
       "      <td>1.0</td>\n",
       "    </tr>\n",
       "    <tr>\n",
       "      <th>257862</th>\n",
       "      <td>9296</td>\n",
       "      <td>7594</td>\n",
       "      <td>0.60</td>\n",
       "      <td>4</td>\n",
       "      <td>2</td>\n",
       "      <td>1800-01-01</td>\n",
       "      <td>3.200</td>\n",
       "      <td>3.0</td>\n",
       "    </tr>\n",
       "    <tr>\n",
       "      <th>304601</th>\n",
       "      <td>7403</td>\n",
       "      <td>8800</td>\n",
       "      <td>0.70</td>\n",
       "      <td>4</td>\n",
       "      <td>2</td>\n",
       "      <td>1800-01-01</td>\n",
       "      <td>3.650</td>\n",
       "      <td>3.5</td>\n",
       "    </tr>\n",
       "    <tr>\n",
       "      <th>392395</th>\n",
       "      <td>2343</td>\n",
       "      <td>11205</td>\n",
       "      <td>0.25</td>\n",
       "      <td>0</td>\n",
       "      <td>5</td>\n",
       "      <td>1800-01-01</td>\n",
       "      <td>1.625</td>\n",
       "      <td>1.5</td>\n",
       "    </tr>\n",
       "  </tbody>\n",
       "</table>\n",
       "</div>"
      ],
      "text/plain": [
       "        user_id  movie_id  review_score  sentiment  emotion review_date  \\\n",
       "73212      7403      2494          1.00          3        4  1800-01-01   \n",
       "18569      6220       970          0.20          1        2  1800-01-01   \n",
       "257862     9296      7594          0.60          4        2  1800-01-01   \n",
       "304601     7403      8800          0.70          4        2  1800-01-01   \n",
       "392395     2343     11205          0.25          0        5  1800-01-01   \n",
       "\n",
       "        origin_rating  rating  \n",
       "73212           5.000     5.0  \n",
       "18569           1.400     1.0  \n",
       "257862          3.200     3.0  \n",
       "304601          3.650     3.5  \n",
       "392395          1.625     1.5  "
      ]
     },
     "execution_count": 231,
     "metadata": {},
     "output_type": "execute_result"
    }
   ],
   "source": [
    "ratings_df.head()"
   ]
  },
  {
   "cell_type": "code",
   "execution_count": 232,
   "id": "e72ec96c-a392-4e83-8cb6-f14a5f998dd6",
   "metadata": {},
   "outputs": [],
   "source": [
    "# from sklearn.model_selection import train_test_split\n",
    "# trainset, testset, _, _ = train_test_split(ratings_df, ratings_df, test_size=0.3, random_state=24)"
   ]
  },
  {
   "cell_type": "markdown",
   "id": "10cc6de5-8311-4f62-bd59-97ebac87a855",
   "metadata": {},
   "source": [
    "### 3. dataset 분할시 cold-start problem case 분리"
   ]
  },
  {
   "cell_type": "code",
   "execution_count": 233,
   "id": "cfb4ba13-839f-4055-bc55-835bf38313ed",
   "metadata": {},
   "outputs": [
    {
     "data": {
      "text/plain": [
       "(721094, 8)"
      ]
     },
     "execution_count": 233,
     "metadata": {},
     "output_type": "execute_result"
    }
   ],
   "source": [
    "ratings_df.shape"
   ]
  },
  {
   "cell_type": "code",
   "execution_count": 234,
   "id": "54e906d1-e298-42bb-ac3e-82aec5dbb8af",
   "metadata": {},
   "outputs": [],
   "source": [
    "_test_ratio = 0.7 # test set 비율\n",
    "num_test = int(np.ceil(ratings_df.shape[0] * _test_ratio))"
   ]
  },
  {
   "cell_type": "code",
   "execution_count": 235,
   "id": "f29b318c-9672-4335-9edf-30486152b277",
   "metadata": {},
   "outputs": [
    {
     "name": "stdout",
     "output_type": "stream",
     "text": [
      "trainset 개수: 216328\n",
      "testset 개수: 504766\n"
     ]
    }
   ],
   "source": [
    "trainset = ratings_df.iloc[:-num_test]\n",
    "testset  = ratings_df.iloc[-num_test:]\n",
    "\n",
    "print(f\"trainset 개수: {len(trainset)}\")\n",
    "print(f\"testset 개수: {len(testset)}\")"
   ]
  },
  {
   "cell_type": "code",
   "execution_count": 236,
   "id": "473aadc1-8bc3-4c3d-bd18-7fe9d59c675b",
   "metadata": {},
   "outputs": [
    {
     "name": "stdout",
     "output_type": "stream",
     "text": [
      "trainset user: 1112\n",
      "trainset movie: 8521\n",
      "testset user: 2732\n",
      "testset movie: 15846\n"
     ]
    }
   ],
   "source": [
    "trainset_user_id = set(trainset.user_id)\n",
    "trainset_movie_id = set(trainset.movie_id)\n",
    "print(f\"trainset user: {len(trainset_user_id)}\")\n",
    "print(f\"trainset movie: {len(trainset_movie_id)}\")\n",
    "\n",
    "testset_user_id = set(testset.user_id)\n",
    "testset_movie_id = set(testset.movie_id)\n",
    "print(f\"testset user: {len(testset_user_id)}\")\n",
    "print(f\"testset movie: {len(testset_movie_id)}\")"
   ]
  },
  {
   "cell_type": "code",
   "execution_count": 237,
   "id": "1b9ac20e-c4ff-49b5-a65b-ec0cd644b2b0",
   "metadata": {},
   "outputs": [
    {
     "name": "stdout",
     "output_type": "stream",
     "text": [
      "교집합 user_id: 850\n",
      "교집합 movie_id: 6805\n",
      "차집합 user_id: 1882\n",
      "차집합 movie_id: 9041\n"
     ]
    }
   ],
   "source": [
    "intersection_user_id = trainset_user_id.intersection(testset_user_id)\n",
    "intersection_movie_id = trainset_movie_id.intersection(testset_movie_id)\n",
    "print(f\"교집합 user_id: {len(intersection_user_id)}\")\n",
    "print(f\"교집합 movie_id: {len(intersection_movie_id)}\")\n",
    "\n",
    "difference_user_id = testset_user_id.difference(trainset_user_id)\n",
    "difference_movie_id = testset_movie_id.difference(trainset_movie_id)\n",
    "print(f\"차집합 user_id: {len(difference_user_id)}\") # testset에만 있는 user_id\n",
    "print(f\"차집합 movie_id: {len(difference_movie_id)}\")"
   ]
  },
  {
   "cell_type": "markdown",
   "id": "f754da3a-c710-4740-aff2-6bbfeedf6159",
   "metadata": {},
   "source": [
    "#### 3-1. testset에서 교집합 user_id, movie_id 데이터만 추출"
   ]
  },
  {
   "cell_type": "code",
   "execution_count": 238,
   "id": "888df1c2-fddb-48ce-836c-1eb8789881de",
   "metadata": {},
   "outputs": [],
   "source": [
    "condition_inter_user  = testset['user_id'].isin(intersection_user_id)\n",
    "condition_inter_movie = testset['movie_id'].isin(intersection_movie_id)"
   ]
  },
  {
   "cell_type": "code",
   "execution_count": 239,
   "id": "bdfab73f-2f7b-48a0-8926-ac3b563f34ce",
   "metadata": {},
   "outputs": [
    {
     "data": {
      "text/plain": [
       "28766"
      ]
     },
     "execution_count": 239,
     "metadata": {},
     "output_type": "execute_result"
    }
   ],
   "source": [
    "sum(condition_inter_user & condition_inter_movie)"
   ]
  },
  {
   "cell_type": "code",
   "execution_count": 240,
   "id": "7df7f6b7-c7cf-45af-b978-733ccbef502b",
   "metadata": {},
   "outputs": [],
   "source": [
    "filtered_testset = testset[condition_inter_user & condition_inter_movie].copy()"
   ]
  },
  {
   "cell_type": "code",
   "execution_count": 241,
   "id": "fe07bab4-c3f1-4b81-be28-035563aa968f",
   "metadata": {},
   "outputs": [
    {
     "data": {
      "text/html": [
       "<div>\n",
       "<style scoped>\n",
       "    .dataframe tbody tr th:only-of-type {\n",
       "        vertical-align: middle;\n",
       "    }\n",
       "\n",
       "    .dataframe tbody tr th {\n",
       "        vertical-align: top;\n",
       "    }\n",
       "\n",
       "    .dataframe thead th {\n",
       "        text-align: right;\n",
       "    }\n",
       "</style>\n",
       "<table border=\"1\" class=\"dataframe\">\n",
       "  <thead>\n",
       "    <tr style=\"text-align: right;\">\n",
       "      <th></th>\n",
       "      <th>user_id</th>\n",
       "      <th>movie_id</th>\n",
       "      <th>review_score</th>\n",
       "      <th>sentiment</th>\n",
       "      <th>emotion</th>\n",
       "      <th>review_date</th>\n",
       "      <th>origin_rating</th>\n",
       "      <th>rating</th>\n",
       "    </tr>\n",
       "  </thead>\n",
       "  <tbody>\n",
       "    <tr>\n",
       "      <th>224104</th>\n",
       "      <td>8557</td>\n",
       "      <td>6677</td>\n",
       "      <td>0.70</td>\n",
       "      <td>3</td>\n",
       "      <td>0</td>\n",
       "      <td>2007-06-30</td>\n",
       "      <td>3.650</td>\n",
       "      <td>3.5</td>\n",
       "    </tr>\n",
       "    <tr>\n",
       "      <th>224108</th>\n",
       "      <td>5108</td>\n",
       "      <td>6677</td>\n",
       "      <td>0.70</td>\n",
       "      <td>3</td>\n",
       "      <td>2</td>\n",
       "      <td>2007-06-30</td>\n",
       "      <td>3.650</td>\n",
       "      <td>3.5</td>\n",
       "    </tr>\n",
       "    <tr>\n",
       "      <th>224105</th>\n",
       "      <td>2487</td>\n",
       "      <td>6677</td>\n",
       "      <td>0.75</td>\n",
       "      <td>3</td>\n",
       "      <td>2</td>\n",
       "      <td>2007-06-30</td>\n",
       "      <td>3.875</td>\n",
       "      <td>3.5</td>\n",
       "    </tr>\n",
       "    <tr>\n",
       "      <th>224106</th>\n",
       "      <td>6613</td>\n",
       "      <td>6677</td>\n",
       "      <td>0.60</td>\n",
       "      <td>4</td>\n",
       "      <td>2</td>\n",
       "      <td>2007-06-30</td>\n",
       "      <td>3.200</td>\n",
       "      <td>3.0</td>\n",
       "    </tr>\n",
       "    <tr>\n",
       "      <th>441976</th>\n",
       "      <td>8103</td>\n",
       "      <td>12292</td>\n",
       "      <td>0.70</td>\n",
       "      <td>4</td>\n",
       "      <td>2</td>\n",
       "      <td>2007-06-30</td>\n",
       "      <td>3.650</td>\n",
       "      <td>3.5</td>\n",
       "    </tr>\n",
       "    <tr>\n",
       "      <th>...</th>\n",
       "      <td>...</td>\n",
       "      <td>...</td>\n",
       "      <td>...</td>\n",
       "      <td>...</td>\n",
       "      <td>...</td>\n",
       "      <td>...</td>\n",
       "      <td>...</td>\n",
       "      <td>...</td>\n",
       "    </tr>\n",
       "    <tr>\n",
       "      <th>691624</th>\n",
       "      <td>2495</td>\n",
       "      <td>16971</td>\n",
       "      <td>1.00</td>\n",
       "      <td>4</td>\n",
       "      <td>2</td>\n",
       "      <td>2020-10-20</td>\n",
       "      <td>5.000</td>\n",
       "      <td>5.0</td>\n",
       "    </tr>\n",
       "    <tr>\n",
       "      <th>179452</th>\n",
       "      <td>2495</td>\n",
       "      <td>5423</td>\n",
       "      <td>0.75</td>\n",
       "      <td>3</td>\n",
       "      <td>2</td>\n",
       "      <td>2020-10-21</td>\n",
       "      <td>3.875</td>\n",
       "      <td>3.5</td>\n",
       "    </tr>\n",
       "    <tr>\n",
       "      <th>523039</th>\n",
       "      <td>7229</td>\n",
       "      <td>13424</td>\n",
       "      <td>0.60</td>\n",
       "      <td>3</td>\n",
       "      <td>2</td>\n",
       "      <td>2020-10-21</td>\n",
       "      <td>3.200</td>\n",
       "      <td>3.0</td>\n",
       "    </tr>\n",
       "    <tr>\n",
       "      <th>523040</th>\n",
       "      <td>7229</td>\n",
       "      <td>13424</td>\n",
       "      <td>0.60</td>\n",
       "      <td>3</td>\n",
       "      <td>2</td>\n",
       "      <td>2020-10-21</td>\n",
       "      <td>3.200</td>\n",
       "      <td>3.0</td>\n",
       "    </tr>\n",
       "    <tr>\n",
       "      <th>359884</th>\n",
       "      <td>1754</td>\n",
       "      <td>10288</td>\n",
       "      <td>0.90</td>\n",
       "      <td>3</td>\n",
       "      <td>2</td>\n",
       "      <td>2020-10-23</td>\n",
       "      <td>4.550</td>\n",
       "      <td>4.5</td>\n",
       "    </tr>\n",
       "  </tbody>\n",
       "</table>\n",
       "<p>28766 rows × 8 columns</p>\n",
       "</div>"
      ],
      "text/plain": [
       "        user_id  movie_id  review_score  sentiment  emotion review_date  \\\n",
       "224104     8557      6677          0.70          3        0  2007-06-30   \n",
       "224108     5108      6677          0.70          3        2  2007-06-30   \n",
       "224105     2487      6677          0.75          3        2  2007-06-30   \n",
       "224106     6613      6677          0.60          4        2  2007-06-30   \n",
       "441976     8103     12292          0.70          4        2  2007-06-30   \n",
       "...         ...       ...           ...        ...      ...         ...   \n",
       "691624     2495     16971          1.00          4        2  2020-10-20   \n",
       "179452     2495      5423          0.75          3        2  2020-10-21   \n",
       "523039     7229     13424          0.60          3        2  2020-10-21   \n",
       "523040     7229     13424          0.60          3        2  2020-10-21   \n",
       "359884     1754     10288          0.90          3        2  2020-10-23   \n",
       "\n",
       "        origin_rating  rating  \n",
       "224104          3.650     3.5  \n",
       "224108          3.650     3.5  \n",
       "224105          3.875     3.5  \n",
       "224106          3.200     3.0  \n",
       "441976          3.650     3.5  \n",
       "...               ...     ...  \n",
       "691624          5.000     5.0  \n",
       "179452          3.875     3.5  \n",
       "523039          3.200     3.0  \n",
       "523040          3.200     3.0  \n",
       "359884          4.550     4.5  \n",
       "\n",
       "[28766 rows x 8 columns]"
      ]
     },
     "execution_count": 241,
     "metadata": {},
     "output_type": "execute_result"
    }
   ],
   "source": [
    "filtered_testset"
   ]
  },
  {
   "cell_type": "markdown",
   "id": "ad958e48-e6da-4c8c-9b70-d136a8ef40f4",
   "metadata": {},
   "source": [
    "#### 3-2. testset에서 차집합 user_id, movie_id 데이터만 추출 (cold-start용)"
   ]
  },
  {
   "cell_type": "code",
   "execution_count": 242,
   "id": "1d7c5104-da91-487c-918d-8c2aa6d371bb",
   "metadata": {},
   "outputs": [],
   "source": [
    "condition_differ_user  = testset['user_id'].isin(difference_user_id)\n",
    "condition_differ_movie = testset['movie_id'].isin(difference_movie_id)"
   ]
  },
  {
   "cell_type": "code",
   "execution_count": 243,
   "id": "e2164de8-0b37-430b-bcc0-f5dd239b13a6",
   "metadata": {},
   "outputs": [],
   "source": [
    "removed_testset = testset[condition_inter_user | condition_inter_movie].copy()"
   ]
  },
  {
   "cell_type": "code",
   "execution_count": 244,
   "id": "6f3be2cc-e7d3-4cfc-af94-9d76c40419f9",
   "metadata": {},
   "outputs": [
    {
     "data": {
      "text/html": [
       "<div>\n",
       "<style scoped>\n",
       "    .dataframe tbody tr th:only-of-type {\n",
       "        vertical-align: middle;\n",
       "    }\n",
       "\n",
       "    .dataframe tbody tr th {\n",
       "        vertical-align: top;\n",
       "    }\n",
       "\n",
       "    .dataframe thead th {\n",
       "        text-align: right;\n",
       "    }\n",
       "</style>\n",
       "<table border=\"1\" class=\"dataframe\">\n",
       "  <thead>\n",
       "    <tr style=\"text-align: right;\">\n",
       "      <th></th>\n",
       "      <th>user_id</th>\n",
       "      <th>movie_id</th>\n",
       "      <th>review_score</th>\n",
       "      <th>sentiment</th>\n",
       "      <th>emotion</th>\n",
       "      <th>review_date</th>\n",
       "      <th>origin_rating</th>\n",
       "      <th>rating</th>\n",
       "    </tr>\n",
       "  </thead>\n",
       "  <tbody>\n",
       "    <tr>\n",
       "      <th>224104</th>\n",
       "      <td>8557</td>\n",
       "      <td>6677</td>\n",
       "      <td>0.70</td>\n",
       "      <td>3</td>\n",
       "      <td>0</td>\n",
       "      <td>2007-06-30</td>\n",
       "      <td>3.650</td>\n",
       "      <td>3.5</td>\n",
       "    </tr>\n",
       "    <tr>\n",
       "      <th>224108</th>\n",
       "      <td>5108</td>\n",
       "      <td>6677</td>\n",
       "      <td>0.70</td>\n",
       "      <td>3</td>\n",
       "      <td>2</td>\n",
       "      <td>2007-06-30</td>\n",
       "      <td>3.650</td>\n",
       "      <td>3.5</td>\n",
       "    </tr>\n",
       "    <tr>\n",
       "      <th>224105</th>\n",
       "      <td>2487</td>\n",
       "      <td>6677</td>\n",
       "      <td>0.75</td>\n",
       "      <td>3</td>\n",
       "      <td>2</td>\n",
       "      <td>2007-06-30</td>\n",
       "      <td>3.875</td>\n",
       "      <td>3.5</td>\n",
       "    </tr>\n",
       "    <tr>\n",
       "      <th>224106</th>\n",
       "      <td>6613</td>\n",
       "      <td>6677</td>\n",
       "      <td>0.60</td>\n",
       "      <td>4</td>\n",
       "      <td>2</td>\n",
       "      <td>2007-06-30</td>\n",
       "      <td>3.200</td>\n",
       "      <td>3.0</td>\n",
       "    </tr>\n",
       "    <tr>\n",
       "      <th>441976</th>\n",
       "      <td>8103</td>\n",
       "      <td>12292</td>\n",
       "      <td>0.70</td>\n",
       "      <td>4</td>\n",
       "      <td>2</td>\n",
       "      <td>2007-06-30</td>\n",
       "      <td>3.650</td>\n",
       "      <td>3.5</td>\n",
       "    </tr>\n",
       "    <tr>\n",
       "      <th>...</th>\n",
       "      <td>...</td>\n",
       "      <td>...</td>\n",
       "      <td>...</td>\n",
       "      <td>...</td>\n",
       "      <td>...</td>\n",
       "      <td>...</td>\n",
       "      <td>...</td>\n",
       "      <td>...</td>\n",
       "    </tr>\n",
       "    <tr>\n",
       "      <th>634378</th>\n",
       "      <td>3287</td>\n",
       "      <td>15479</td>\n",
       "      <td>0.70</td>\n",
       "      <td>2</td>\n",
       "      <td>2</td>\n",
       "      <td>2020-10-26</td>\n",
       "      <td>3.650</td>\n",
       "      <td>3.5</td>\n",
       "    </tr>\n",
       "    <tr>\n",
       "      <th>640084</th>\n",
       "      <td>7172</td>\n",
       "      <td>15624</td>\n",
       "      <td>0.60</td>\n",
       "      <td>4</td>\n",
       "      <td>2</td>\n",
       "      <td>2020-10-27</td>\n",
       "      <td>3.200</td>\n",
       "      <td>3.0</td>\n",
       "    </tr>\n",
       "    <tr>\n",
       "      <th>578588</th>\n",
       "      <td>7172</td>\n",
       "      <td>14239</td>\n",
       "      <td>0.50</td>\n",
       "      <td>2</td>\n",
       "      <td>2</td>\n",
       "      <td>2020-10-27</td>\n",
       "      <td>2.750</td>\n",
       "      <td>2.5</td>\n",
       "    </tr>\n",
       "    <tr>\n",
       "      <th>714638</th>\n",
       "      <td>6432</td>\n",
       "      <td>17562</td>\n",
       "      <td>0.75</td>\n",
       "      <td>2</td>\n",
       "      <td>2</td>\n",
       "      <td>2020-10-28</td>\n",
       "      <td>3.875</td>\n",
       "      <td>3.5</td>\n",
       "    </tr>\n",
       "    <tr>\n",
       "      <th>712280</th>\n",
       "      <td>7172</td>\n",
       "      <td>17521</td>\n",
       "      <td>0.80</td>\n",
       "      <td>3</td>\n",
       "      <td>2</td>\n",
       "      <td>2020-10-29</td>\n",
       "      <td>4.100</td>\n",
       "      <td>4.0</td>\n",
       "    </tr>\n",
       "  </tbody>\n",
       "</table>\n",
       "<p>250305 rows × 8 columns</p>\n",
       "</div>"
      ],
      "text/plain": [
       "        user_id  movie_id  review_score  sentiment  emotion review_date  \\\n",
       "224104     8557      6677          0.70          3        0  2007-06-30   \n",
       "224108     5108      6677          0.70          3        2  2007-06-30   \n",
       "224105     2487      6677          0.75          3        2  2007-06-30   \n",
       "224106     6613      6677          0.60          4        2  2007-06-30   \n",
       "441976     8103     12292          0.70          4        2  2007-06-30   \n",
       "...         ...       ...           ...        ...      ...         ...   \n",
       "634378     3287     15479          0.70          2        2  2020-10-26   \n",
       "640084     7172     15624          0.60          4        2  2020-10-27   \n",
       "578588     7172     14239          0.50          2        2  2020-10-27   \n",
       "714638     6432     17562          0.75          2        2  2020-10-28   \n",
       "712280     7172     17521          0.80          3        2  2020-10-29   \n",
       "\n",
       "        origin_rating  rating  \n",
       "224104          3.650     3.5  \n",
       "224108          3.650     3.5  \n",
       "224105          3.875     3.5  \n",
       "224106          3.200     3.0  \n",
       "441976          3.650     3.5  \n",
       "...               ...     ...  \n",
       "634378          3.650     3.5  \n",
       "640084          3.200     3.0  \n",
       "578588          2.750     2.5  \n",
       "714638          3.875     3.5  \n",
       "712280          4.100     4.0  \n",
       "\n",
       "[250305 rows x 8 columns]"
      ]
     },
     "execution_count": 244,
     "metadata": {},
     "output_type": "execute_result"
    }
   ],
   "source": [
    "removed_testset"
   ]
  },
  {
   "cell_type": "code",
   "execution_count": 247,
   "id": "40ce8a98-cb41-4653-9b89-49de730f4e77",
   "metadata": {},
   "outputs": [
    {
     "data": {
      "text/plain": [
       "0.13297400244073815"
      ]
     },
     "execution_count": 247,
     "metadata": {},
     "output_type": "execute_result"
    }
   ],
   "source": [
    "len(filtered_testset) / len(trainset)"
   ]
  },
  {
   "cell_type": "code",
   "execution_count": 248,
   "id": "6362d141-6cd2-4651-9153-0a95daed40e4",
   "metadata": {},
   "outputs": [
    {
     "data": {
      "text/html": [
       "<div>\n",
       "<style scoped>\n",
       "    .dataframe tbody tr th:only-of-type {\n",
       "        vertical-align: middle;\n",
       "    }\n",
       "\n",
       "    .dataframe tbody tr th {\n",
       "        vertical-align: top;\n",
       "    }\n",
       "\n",
       "    .dataframe thead th {\n",
       "        text-align: right;\n",
       "    }\n",
       "</style>\n",
       "<table border=\"1\" class=\"dataframe\">\n",
       "  <thead>\n",
       "    <tr style=\"text-align: right;\">\n",
       "      <th></th>\n",
       "      <th>user_id</th>\n",
       "      <th>movie_id</th>\n",
       "      <th>review_score</th>\n",
       "      <th>sentiment</th>\n",
       "      <th>emotion</th>\n",
       "      <th>review_date</th>\n",
       "      <th>origin_rating</th>\n",
       "      <th>rating</th>\n",
       "    </tr>\n",
       "  </thead>\n",
       "  <tbody>\n",
       "    <tr>\n",
       "      <th>73212</th>\n",
       "      <td>7403</td>\n",
       "      <td>2494</td>\n",
       "      <td>1.000</td>\n",
       "      <td>3</td>\n",
       "      <td>4</td>\n",
       "      <td>1800-01-01</td>\n",
       "      <td>5.0000</td>\n",
       "      <td>5.0</td>\n",
       "    </tr>\n",
       "    <tr>\n",
       "      <th>18569</th>\n",
       "      <td>6220</td>\n",
       "      <td>970</td>\n",
       "      <td>0.200</td>\n",
       "      <td>1</td>\n",
       "      <td>2</td>\n",
       "      <td>1800-01-01</td>\n",
       "      <td>1.4000</td>\n",
       "      <td>1.0</td>\n",
       "    </tr>\n",
       "    <tr>\n",
       "      <th>257862</th>\n",
       "      <td>9296</td>\n",
       "      <td>7594</td>\n",
       "      <td>0.600</td>\n",
       "      <td>4</td>\n",
       "      <td>2</td>\n",
       "      <td>1800-01-01</td>\n",
       "      <td>3.2000</td>\n",
       "      <td>3.0</td>\n",
       "    </tr>\n",
       "    <tr>\n",
       "      <th>304601</th>\n",
       "      <td>7403</td>\n",
       "      <td>8800</td>\n",
       "      <td>0.700</td>\n",
       "      <td>4</td>\n",
       "      <td>2</td>\n",
       "      <td>1800-01-01</td>\n",
       "      <td>3.6500</td>\n",
       "      <td>3.5</td>\n",
       "    </tr>\n",
       "    <tr>\n",
       "      <th>392395</th>\n",
       "      <td>2343</td>\n",
       "      <td>11205</td>\n",
       "      <td>0.250</td>\n",
       "      <td>0</td>\n",
       "      <td>5</td>\n",
       "      <td>1800-01-01</td>\n",
       "      <td>1.6250</td>\n",
       "      <td>1.5</td>\n",
       "    </tr>\n",
       "    <tr>\n",
       "      <th>...</th>\n",
       "      <td>...</td>\n",
       "      <td>...</td>\n",
       "      <td>...</td>\n",
       "      <td>...</td>\n",
       "      <td>...</td>\n",
       "      <td>...</td>\n",
       "      <td>...</td>\n",
       "      <td>...</td>\n",
       "    </tr>\n",
       "    <tr>\n",
       "      <th>671667</th>\n",
       "      <td>9095</td>\n",
       "      <td>16446</td>\n",
       "      <td>1.000</td>\n",
       "      <td>4</td>\n",
       "      <td>2</td>\n",
       "      <td>2007-06-30</td>\n",
       "      <td>5.0000</td>\n",
       "      <td>5.0</td>\n",
       "    </tr>\n",
       "    <tr>\n",
       "      <th>671668</th>\n",
       "      <td>1045</td>\n",
       "      <td>16446</td>\n",
       "      <td>0.800</td>\n",
       "      <td>3</td>\n",
       "      <td>2</td>\n",
       "      <td>2007-06-30</td>\n",
       "      <td>4.1000</td>\n",
       "      <td>4.0</td>\n",
       "    </tr>\n",
       "    <tr>\n",
       "      <th>210566</th>\n",
       "      <td>8391</td>\n",
       "      <td>6288</td>\n",
       "      <td>0.400</td>\n",
       "      <td>3</td>\n",
       "      <td>2</td>\n",
       "      <td>2007-06-30</td>\n",
       "      <td>2.3000</td>\n",
       "      <td>2.0</td>\n",
       "    </tr>\n",
       "    <tr>\n",
       "      <th>210567</th>\n",
       "      <td>6158</td>\n",
       "      <td>6288</td>\n",
       "      <td>0.300</td>\n",
       "      <td>1</td>\n",
       "      <td>4</td>\n",
       "      <td>2007-06-30</td>\n",
       "      <td>1.8500</td>\n",
       "      <td>1.5</td>\n",
       "    </tr>\n",
       "    <tr>\n",
       "      <th>441977</th>\n",
       "      <td>8210</td>\n",
       "      <td>12292</td>\n",
       "      <td>0.625</td>\n",
       "      <td>3</td>\n",
       "      <td>2</td>\n",
       "      <td>2007-06-30</td>\n",
       "      <td>3.3125</td>\n",
       "      <td>3.0</td>\n",
       "    </tr>\n",
       "  </tbody>\n",
       "</table>\n",
       "<p>216328 rows × 8 columns</p>\n",
       "</div>"
      ],
      "text/plain": [
       "        user_id  movie_id  review_score  sentiment  emotion review_date  \\\n",
       "73212      7403      2494         1.000          3        4  1800-01-01   \n",
       "18569      6220       970         0.200          1        2  1800-01-01   \n",
       "257862     9296      7594         0.600          4        2  1800-01-01   \n",
       "304601     7403      8800         0.700          4        2  1800-01-01   \n",
       "392395     2343     11205         0.250          0        5  1800-01-01   \n",
       "...         ...       ...           ...        ...      ...         ...   \n",
       "671667     9095     16446         1.000          4        2  2007-06-30   \n",
       "671668     1045     16446         0.800          3        2  2007-06-30   \n",
       "210566     8391      6288         0.400          3        2  2007-06-30   \n",
       "210567     6158      6288         0.300          1        4  2007-06-30   \n",
       "441977     8210     12292         0.625          3        2  2007-06-30   \n",
       "\n",
       "        origin_rating  rating  \n",
       "73212          5.0000     5.0  \n",
       "18569          1.4000     1.0  \n",
       "257862         3.2000     3.0  \n",
       "304601         3.6500     3.5  \n",
       "392395         1.6250     1.5  \n",
       "...               ...     ...  \n",
       "671667         5.0000     5.0  \n",
       "671668         4.1000     4.0  \n",
       "210566         2.3000     2.0  \n",
       "210567         1.8500     1.5  \n",
       "441977         3.3125     3.0  \n",
       "\n",
       "[216328 rows x 8 columns]"
      ]
     },
     "execution_count": 248,
     "metadata": {},
     "output_type": "execute_result"
    }
   ],
   "source": [
    "trainset"
   ]
  },
  {
   "cell_type": "markdown",
   "id": "68708aee-bf05-49ac-908f-90759e9d2371",
   "metadata": {},
   "source": [
    "#### 3-3. trainset, testset 저장 (GCMC 데이터용)"
   ]
  },
  {
   "cell_type": "code",
   "execution_count": 249,
   "id": "f35eff6a-40a7-481d-aaec-4a6bda9b9997",
   "metadata": {},
   "outputs": [],
   "source": [
    "trainset.to_csv(path+'trainset_filtered.csv', index=False)\n",
    "filtered_testset.to_csv(path+'testset_filtered.csv', index=False)\n",
    "removed_testset.to_csv(path+'testset_removed.csv', index=False)\n",
    "# testset.to_csv(path+'testset.csv', index=False)"
   ]
  },
  {
   "cell_type": "markdown",
   "id": "aec2f26a-8c13-4f21-ac04-3b7863e8562c",
   "metadata": {},
   "source": [
    "### 4. Surprise 알고리즘"
   ]
  },
  {
   "cell_type": "markdown",
   "id": "0bd1bcb4-b5d2-461c-ada2-48b9d1381e79",
   "metadata": {},
   "source": [
    "- DF Load"
   ]
  },
  {
   "cell_type": "code",
   "execution_count": 26,
   "id": "bc177d42-5a79-45cf-9a30-25786d5e4e9a",
   "metadata": {},
   "outputs": [
    {
     "data": {
      "text/plain": [
       "['dummies_actors.npy',\n",
       " 'dummies_audience_status.npy',\n",
       " 'dummies_content_rating.npy',\n",
       " 'dummies_directors.npy',\n",
       " 'dummies_genres.npy',\n",
       " 'dummies_production_company.npy',\n",
       " 'dummies_tomatometer_status.npy',\n",
       " 'emotion_1.csv',\n",
       " 'movie_features.npy',\n",
       " 'rating_1.csv',\n",
       " 'rotten_tomatoes_movies.csv',\n",
       " 'rotten_user_table.csv',\n",
       " 'sentiment_1.csv',\n",
       " 'testset.csv',\n",
       " 'trainset.csv',\n",
       " 'user_features.npy']"
      ]
     },
     "execution_count": 26,
     "metadata": {},
     "output_type": "execute_result"
    }
   ],
   "source": [
    "path = './../../../data/rotten_tomato/graph/'\n",
    "os.listdir(path)"
   ]
  },
  {
   "cell_type": "code",
   "execution_count": 260,
   "id": "f4d99c76-ab63-48aa-b528-e16db2ecb506",
   "metadata": {},
   "outputs": [],
   "source": [
    "trainset = pd.read_csv(os.path.join(path, 'trainset_filtered.csv'), encoding='utf-8')\n",
    "testset = pd.read_csv(os.path.join(path, 'testset_filtered.csv'), encoding='utf-8')"
   ]
  },
  {
   "cell_type": "code",
   "execution_count": 261,
   "id": "b68b5a52-6e62-4b4e-8ee0-f346d1fc4b7b",
   "metadata": {},
   "outputs": [
    {
     "data": {
      "text/plain": [
       "(216328, 8)"
      ]
     },
     "execution_count": 261,
     "metadata": {},
     "output_type": "execute_result"
    }
   ],
   "source": [
    "trainset.shape"
   ]
  },
  {
   "cell_type": "code",
   "execution_count": 262,
   "id": "c73f37d8-978e-4e6b-8c25-7791c4b2f02d",
   "metadata": {},
   "outputs": [
    {
     "data": {
      "text/plain": [
       "(28766, 8)"
      ]
     },
     "execution_count": 262,
     "metadata": {},
     "output_type": "execute_result"
    }
   ],
   "source": [
    "testset.shape"
   ]
  },
  {
   "cell_type": "code",
   "execution_count": 263,
   "id": "f2dec605-5f81-4b57-8222-059a194b36cd",
   "metadata": {},
   "outputs": [],
   "source": [
    "trainset = trainset[['user_id','movie_id','rating']]\n",
    "testset = testset[['user_id','movie_id','rating']]"
   ]
  },
  {
   "cell_type": "markdown",
   "id": "93aaa5db-0374-455b-8e15-3fe8ba5a55f7",
   "metadata": {},
   "source": [
    "- Surprise 데이터 형태 변형"
   ]
  },
  {
   "cell_type": "code",
   "execution_count": 264,
   "id": "b7b6e6fe-4c14-44da-9de1-15020e9e96a0",
   "metadata": {},
   "outputs": [],
   "source": [
    "reader = Reader(rating_scale=(0.5,5))\n",
    "data = Dataset.load_from_df(trainset, reader)\n",
    "surprise_trainset = data.build_full_trainset()"
   ]
  },
  {
   "cell_type": "code",
   "execution_count": 265,
   "id": "569fbc68-3243-4b28-bcd2-791b7d3f7677",
   "metadata": {},
   "outputs": [
    {
     "data": {
      "text/plain": [
       "216328"
      ]
     },
     "execution_count": 265,
     "metadata": {},
     "output_type": "execute_result"
    }
   ],
   "source": [
    "len(trainset)"
   ]
  },
  {
   "cell_type": "code",
   "execution_count": 266,
   "id": "f667d7c9-39f3-45fb-b078-83ac4d64829f",
   "metadata": {},
   "outputs": [
    {
     "data": {
      "text/plain": [
       "28766"
      ]
     },
     "execution_count": 266,
     "metadata": {},
     "output_type": "execute_result"
    }
   ],
   "source": [
    "len(testset)"
   ]
  },
  {
   "cell_type": "code",
   "execution_count": 267,
   "id": "411a9364-a23f-4735-91eb-40df542866db",
   "metadata": {},
   "outputs": [],
   "source": [
    "records = testset.to_records(index=False)\n",
    "surprise_testset = list(records)"
   ]
  },
  {
   "cell_type": "code",
   "execution_count": 268,
   "id": "e587314d-90f1-47a8-bbac-214c04a33324",
   "metadata": {},
   "outputs": [
    {
     "name": "stdout",
     "output_type": "stream",
     "text": [
      "Computing the msd similarity matrix...\n",
      "Done computing similarity matrix.\n",
      "RMSE: 0.9232\n"
     ]
    },
    {
     "data": {
      "text/plain": [
       "0.9232191431103604"
      ]
     },
     "execution_count": 268,
     "metadata": {},
     "output_type": "execute_result"
    }
   ],
   "source": [
    "# 정확도 계산 \n",
    "algo = KNNWithMeans()\n",
    "algo.fit(surprise_trainset)\n",
    "predictions = algo.test(surprise_testset)\n",
    "accuracy.rmse(predictions)"
   ]
  },
  {
   "cell_type": "markdown",
   "id": "0cacea16-ddf3-4b27-a3db-0207a4e7493c",
   "metadata": {},
   "source": [
    "- CF(User-based)"
   ]
  },
  {
   "cell_type": "code",
   "execution_count": 269,
   "id": "ba03a9d7-cec9-4003-8d64-a5153cfc5d7d",
   "metadata": {},
   "outputs": [
    {
     "name": "stdout",
     "output_type": "stream",
     "text": [
      "Estimating biases using als...\n",
      "Computing the pearson_baseline similarity matrix...\n",
      "Done computing similarity matrix.\n",
      "RMSE: 0.8753\n"
     ]
    },
    {
     "data": {
      "text/plain": [
       "0.8753288760469986"
      ]
     },
     "execution_count": 269,
     "metadata": {},
     "output_type": "execute_result"
    }
   ],
   "source": [
    "sim_options = {'name': 'pearson_baseline',\n",
    "               'user_based': True}\n",
    "algo = KNNBaseline(k=10, sim_options=sim_options)\n",
    "algo.fit(surprise_trainset)\n",
    "predictions = algo.test(surprise_testset)\n",
    "accuracy.rmse(predictions)"
   ]
  },
  {
   "cell_type": "markdown",
   "id": "8b994ec7-ca0b-423c-afdc-541045296699",
   "metadata": {},
   "source": [
    "- CF(Item-based)"
   ]
  },
  {
   "cell_type": "code",
   "execution_count": 270,
   "id": "e1dd90cf-24fb-4272-8ea4-7f9a2f4d4c88",
   "metadata": {},
   "outputs": [
    {
     "name": "stdout",
     "output_type": "stream",
     "text": [
      "Estimating biases using als...\n",
      "Computing the pearson_baseline similarity matrix...\n",
      "Done computing similarity matrix.\n",
      "RMSE: 0.9099\n"
     ]
    },
    {
     "data": {
      "text/plain": [
       "0.9098595758850381"
      ]
     },
     "execution_count": 270,
     "metadata": {},
     "output_type": "execute_result"
    }
   ],
   "source": [
    "sim_options = {'name': 'pearson_baseline',\n",
    "               'user_based': False}\n",
    "algo = KNNBaseline(k=10, sim_options=sim_options)\n",
    "algo.fit(surprise_trainset)\n",
    "predictions = algo.test(surprise_testset)\n",
    "accuracy.rmse(predictions)"
   ]
  },
  {
   "cell_type": "markdown",
   "id": "7c264ba1-20b7-49a2-b1a2-a892da292be8",
   "metadata": {},
   "source": [
    "### 0. Timer"
   ]
  },
  {
   "cell_type": "code",
   "execution_count": 271,
   "id": "e6d80c0f-d1a9-4586-a780-997383a97eb8",
   "metadata": {},
   "outputs": [],
   "source": [
    "import time\n",
    "import datetime"
   ]
  },
  {
   "cell_type": "code",
   "execution_count": 272,
   "id": "369609b8-e619-452e-ac7d-e68d12bce424",
   "metadata": {},
   "outputs": [],
   "source": [
    "# 시간 표시 함수\n",
    "def format_time(elapsed):\n",
    "    # 반올림\n",
    "    elapsed_rounded = int(round((elapsed)))\n",
    "    # hh:mm:ss으로 형태 변경\n",
    "    return str(datetime.timedelta(seconds=elapsed_rounded))"
   ]
  },
  {
   "cell_type": "code",
   "execution_count": 273,
   "id": "0ead03c7-83c6-4960-ba8c-7efee0d57caf",
   "metadata": {},
   "outputs": [
    {
     "name": "stdout",
     "output_type": "stream",
     "text": [
      "  Training epoch took: 0:00:00\n"
     ]
    }
   ],
   "source": [
    "start_time = time.time()\n",
    "print(\"  Training epoch took: {:}\".format(format_time(time.time() - start_time)))"
   ]
  },
  {
   "cell_type": "markdown",
   "id": "0e4886ed-df7b-42ca-8942-1d68906cdf92",
   "metadata": {},
   "source": [
    "## 여러 알고리즘 고려"
   ]
  },
  {
   "cell_type": "code",
   "execution_count": 274,
   "id": "71002849-6710-449d-9b76-8bcdd8266bf0",
   "metadata": {},
   "outputs": [],
   "source": [
    "from surprise import SVD, SVDpp, SlopeOne, NMF, NormalPredictor, KNNBasic, KNNBaseline, KNNWithMeans, KNNWithZScore, BaselineOnly, CoClustering\n",
    "# from sklearn.model_selection import cross_validate 사이킷런의 크로스벨리데이션이 아니다.\n",
    "from surprise.model_selection import cross_validate"
   ]
  },
  {
   "cell_type": "code",
   "execution_count": 275,
   "id": "ce2f2542-0f0b-48af-b5df-dfbea878967f",
   "metadata": {},
   "outputs": [
    {
     "name": "stdout",
     "output_type": "stream",
     "text": [
      "RMSE: 0.8469\n",
      "RMSE: 0.8270\n"
     ]
    },
    {
     "name": "stderr",
     "output_type": "stream",
     "text": [
      "C:\\Users\\user\\AppData\\Local\\Temp/ipykernel_7704/2595687920.py:10: DeprecationWarning: `np.int` is a deprecated alias for the builtin `int`. To silence this warning, use `int` by itself. Doing this will not modify any behavior and is safe. When replacing `np.int`, you may wish to use e.g. `np.int64` or `np.int32` to specify the precision. If you wish to review your current use, check the release note link for additional information.\n",
      "Deprecated in NumPy 1.20; for more details and guidance: https://numpy.org/devdocs/release/1.20.0-notes.html#deprecations\n",
      "  algo.fit(surprise_trainset)\n"
     ]
    },
    {
     "name": "stdout",
     "output_type": "stream",
     "text": [
      "RMSE: 0.9273\n",
      "RMSE: 0.9056\n",
      "RMSE: 1.4758\n",
      "Computing the msd similarity matrix...\n",
      "Done computing similarity matrix.\n",
      "RMSE: 0.8726\n",
      "Estimating biases using als...\n",
      "Computing the msd similarity matrix...\n",
      "Done computing similarity matrix.\n",
      "RMSE: 0.8519\n",
      "Computing the msd similarity matrix...\n",
      "Done computing similarity matrix.\n",
      "RMSE: 0.9232\n",
      "Computing the msd similarity matrix...\n",
      "Done computing similarity matrix.\n",
      "RMSE: 0.9168\n",
      "Estimating biases using als...\n",
      "RMSE: 0.8485\n",
      "RMSE: 0.9538\n",
      "  Training epoch took: 0:31:27\n"
     ]
    }
   ],
   "source": [
    "start_time = time.time()\n",
    "\n",
    "# 알고리즘 비교\n",
    "algorithms = [SVD, SVDpp, SlopeOne, NMF, NormalPredictor, KNNBasic, KNNBaseline, KNNWithMeans, KNNWithZScore, BaselineOnly, CoClustering]\n",
    "names = []\n",
    "results = []\n",
    "for option in algorithms:\n",
    "    algo = option()\n",
    "    names.append(option.__name__)       # 알고리즘 이름 \n",
    "    algo.fit(surprise_trainset)\n",
    "    predictions = algo.test(surprise_testset)\n",
    "    results.append(accuracy.rmse(predictions))\n",
    "# names = np.array(names)\n",
    "# results = np.array(results)\n",
    "\n",
    "print(\"  Training epoch took: {:}\".format(format_time(time.time() - start_time)))"
   ]
  },
  {
   "cell_type": "code",
   "execution_count": null,
   "id": "16be740d-f14c-4da8-a413-eb3f98412797",
   "metadata": {},
   "outputs": [],
   "source": []
  },
  {
   "cell_type": "code",
   "execution_count": null,
   "id": "89a2c2e9-e094-4c44-8805-bf70d53af5b2",
   "metadata": {},
   "outputs": [],
   "source": []
  },
  {
   "cell_type": "code",
   "execution_count": null,
   "id": "8748d06d-b356-4360-bbaf-220e619b0db9",
   "metadata": {},
   "outputs": [],
   "source": []
  },
  {
   "cell_type": "code",
   "execution_count": 33,
   "id": "625a9591-e7b8-44f3-b38d-898e2146c006",
   "metadata": {},
   "outputs": [],
   "source": [
    "names = np.array(names)\n",
    "results = np.array(results)"
   ]
  },
  {
   "cell_type": "code",
   "execution_count": 34,
   "id": "067a0a3c-d60e-4e86-850d-12965eaefdfe",
   "metadata": {},
   "outputs": [
    {
     "data": {
      "text/plain": [
       "array([0.71399383, 0.71695488, 0.71990512, 0.72800815, 0.72940057,\n",
       "       0.73280625, 0.73628146, 0.73950474, 0.74244314, 0.80956118,\n",
       "       1.38812599])"
      ]
     },
     "execution_count": 34,
     "metadata": {},
     "output_type": "execute_result"
    },
    {
     "data": {
      "image/png": "[encoded data removed]",
      "text/plain": [
       "<Figure size 720x360 with 1 Axes>"
      ]
     },
     "metadata": {
      "needs_background": "light"
     },
     "output_type": "display_data"
    }
   ],
   "source": [
    "# 결과를 그래프로 표시\n",
    "import matplotlib.pyplot as plt\n",
    "index = np.argsort(results)\n",
    "# plt.ylim(0.5, 0.8)\n",
    "fig = plt.figure(figsize = (10,5))\n",
    "plt.plot(names[index], results[index])\n",
    "plt.xlabel('Algorithms')\n",
    "plt.ylabel('RMSE')\n",
    "plt.title('Comparison of RMSE')\n",
    "results[index]"
   ]
  },
  {
   "cell_type": "markdown",
   "id": "378bbdb1-cef6-4209-b8c2-313f8ac582a9",
   "metadata": {},
   "source": [
    "### 1. Algorithms"
   ]
  },
  {
   "cell_type": "code",
   "execution_count": 57,
   "id": "04ced88c-b95c-4bfd-8d1b-6e3f3c8bf5ba",
   "metadata": {},
   "outputs": [
    {
     "name": "stdout",
     "output_type": "stream",
     "text": [
      "RMSE: 0.7189\n",
      "RMSE: 0.7173\n",
      "  Training epoch took: 1:34:44\n"
     ]
    }
   ],
   "source": [
    "start_time = time.time()\n",
    "\n",
    "# 알고리즘 비교\n",
    "algorithms = [SVD, SVDpp]\n",
    "names = []\n",
    "results = []\n",
    "for option in algorithms:\n",
    "    algo = option()\n",
    "    names.append(option.__name__)       # 알고리즘 이름 \n",
    "    algo.fit(surprise_trainset)\n",
    "    predictions = algo.test(surprise_testset)\n",
    "    results.append(accuracy.rmse(predictions))\n",
    "# names = np.array(names)\n",
    "# results = np.array(results)\n",
    "\n",
    "print(\"  Training epoch took: {:}\".format(format_time(time.time() - start_time)))"
   ]
  },
  {
   "cell_type": "markdown",
   "id": "f85d555e-3888-4701-843e-f66df8ce1890",
   "metadata": {},
   "source": [
    "- Item-based"
   ]
  },
  {
   "cell_type": "code",
   "execution_count": 60,
   "id": "325a2ccf-0235-4a95-a652-1a0cf197e1ad",
   "metadata": {},
   "outputs": [
    {
     "name": "stdout",
     "output_type": "stream",
     "text": [
      "Estimating biases using als...\n",
      "Computing the pearson_baseline similarity matrix...\n",
      "Done computing similarity matrix.\n",
      "RMSE: 0.8396\n"
     ]
    }
   ],
   "source": [
    "# 알고리즘 옵션 변경, 정확도 계산\n",
    "names.append('CF(Item-based)')\n",
    "sim_options = {'name': 'pearson_baseline',\n",
    "               'user_based': False}\n",
    "algo = KNNBasic(k=10, sim_options=sim_options)\n",
    "algo.fit(surprise_trainset)\n",
    "predictions = algo.test(surprise_testset)\n",
    "results.append(accuracy.rmse(predictions))"
   ]
  },
  {
   "cell_type": "markdown",
   "id": "02e4e43b-45fd-49c4-87b4-c3140ea8e876",
   "metadata": {},
   "source": [
    "- User-based"
   ]
  },
  {
   "cell_type": "code",
   "execution_count": 61,
   "id": "87a3308c-c1ae-48a7-9450-afe5e2caf162",
   "metadata": {},
   "outputs": [
    {
     "name": "stdout",
     "output_type": "stream",
     "text": [
      "Estimating biases using als...\n",
      "Computing the pearson_baseline similarity matrix...\n",
      "Done computing similarity matrix.\n",
      "RMSE: 0.6984\n"
     ]
    }
   ],
   "source": [
    "# 알고리즘 옵션 변경, 정확도 계산\n",
    "names.append('CF(User-based)')\n",
    "sim_options = {'name': 'pearson_baseline',\n",
    "               'user_based': True}\n",
    "algo = KNNBaseline(k=10, sim_options=sim_options)\n",
    "algo.fit(surprise_trainset)\n",
    "predictions = algo.test(surprise_testset)\n",
    "results.append(accuracy.rmse(predictions))"
   ]
  },
  {
   "cell_type": "code",
   "execution_count": 62,
   "id": "b2546805-b06e-40a5-96b8-c4644005d91d",
   "metadata": {},
   "outputs": [],
   "source": [
    "names = np.array(names)\n",
    "results = np.array(results)"
   ]
  },
  {
   "cell_type": "code",
   "execution_count": 63,
   "id": "c4b1d072-6095-40c7-a945-2f66f7285466",
   "metadata": {},
   "outputs": [
    {
     "data": {
      "text/plain": [
       "array([0.69839673, 0.71728678, 0.71893383, 0.83958707])"
      ]
     },
     "execution_count": 63,
     "metadata": {},
     "output_type": "execute_result"
    },
    {
     "data": {
      "image/png": "[encoded data removed]",
      "text/plain": [
       "<Figure size 720x360 with 1 Axes>"
      ]
     },
     "metadata": {
      "needs_background": "light"
     },
     "output_type": "display_data"
    }
   ],
   "source": [
    "# 결과를 그래프로 표시\n",
    "import matplotlib.pyplot as plt\n",
    "index = np.argsort(results)\n",
    "# plt.ylim(0.5, 0.8)\n",
    "fig = plt.figure(figsize = (10,5))\n",
    "plt.plot(names[index], results[index])\n",
    "plt.xlabel('Algorithms')\n",
    "plt.ylabel('RMSE')\n",
    "plt.title('Comparison of RMSE')\n",
    "results[index]"
   ]
  },
  {
   "cell_type": "markdown",
   "id": "0db4c717-f05a-448d-9539-e7da3a7c8440",
   "metadata": {},
   "source": [
    "### 2. MF"
   ]
  },
  {
   "cell_type": "markdown",
   "id": "47e3a274-7049-4807-a3cb-c99818409b2b",
   "metadata": {},
   "source": [
    "- SVD"
   ]
  },
  {
   "cell_type": "code",
   "execution_count": 102,
   "id": "d3921e1b-fa5e-4ffd-aee3-6bc210292aaf",
   "metadata": {},
   "outputs": [
    {
     "name": "stdout",
     "output_type": "stream",
     "text": [
      "RMSE: 0.8201\n",
      "  Training epoch took: 0:00:00\n"
     ]
    }
   ],
   "source": [
    "start_time = time.time()\n",
    "\n",
    "algo = SVD()\n",
    "algo.fit(trainset)\n",
    "predictions = algo.test(testset)\n",
    "accuracy.rmse(predictions)\n",
    "\n",
    "print(\"  Training epoch took: {:}\".format(format_time(time.time() - start_time)))"
   ]
  },
  {
   "cell_type": "markdown",
   "id": "ef302f52-bd36-4418-bc1b-124e5e24c58d",
   "metadata": {},
   "source": [
    "- SVD++"
   ]
  },
  {
   "cell_type": "code",
   "execution_count": 103,
   "id": "029f0aa5-9606-49e4-a069-ad3f13f41b9a",
   "metadata": {},
   "outputs": [
    {
     "name": "stdout",
     "output_type": "stream",
     "text": [
      "RMSE: 0.8077\n",
      "  Training epoch took: 0:00:00\n"
     ]
    }
   ],
   "source": [
    "start_time = time.time()\n",
    "\n",
    "algo = SVDpp()\n",
    "algo.fit(trainset)\n",
    "predictions = algo.test(testset)\n",
    "accuracy.rmse(predictions)\n",
    "\n",
    "print(\"  Training epoch took: {:}\".format(format_time(time.time() - start_time)))"
   ]
  },
  {
   "cell_type": "code",
   "execution_count": null,
   "id": "c41d121c-100d-4662-a456-2e4c62005785",
   "metadata": {},
   "outputs": [],
   "source": []
  }
 ],
 "metadata": {
  "kernelspec": {
   "display_name": "Python 3 (ipykernel)",
   "language": "python",
   "name": "python3"
  },
  "language_info": {
   "codemirror_mode": {
    "name": "ipython",
    "version": 3
   },
   "file_extension": ".py",
   "mimetype": "text/x-python",
   "name": "python",
   "nbconvert_exporter": "python",
   "pygments_lexer": "ipython3",
   "version": "3.8.11"
  }
 },
 "nbformat": 4,
 "nbformat_minor": 5
}
