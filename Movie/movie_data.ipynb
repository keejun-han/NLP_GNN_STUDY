{
 "cells": [
  {
   "cell_type": "markdown",
   "id": "f5769e6e-23e4-4b98-9396-db27991b4541",
   "metadata": {},
   "source": [
    "## Movie data matching\n",
    "- dataset : IMDB, MovieLens"
   ]
  },
  {
   "cell_type": "code",
   "execution_count": 343,
   "id": "5fb39d14-6c4d-4583-a6b3-2e990280bc0d",
   "metadata": {},
   "outputs": [],
   "source": [
    "import os\n",
    "import pandas as pd\n",
    "from matplotlib import pyplot as plt\n",
    "\n",
    "%matplotlib inline"
   ]
  },
  {
   "cell_type": "markdown",
   "id": "0095a9c9-3d3b-4e2d-a8a2-29b33a6c7c98",
   "metadata": {},
   "source": [
    "### 1. Load data \n",
    "- MovieLens\n",
    "- IMDB"
   ]
  },
  {
   "cell_type": "markdown",
   "id": "1120dfff-49e3-4d36-b1ee-418a0a71c9d7",
   "metadata": {},
   "source": [
    "#### 1-1. MovieLens"
   ]
  },
  {
   "cell_type": "code",
   "execution_count": 630,
   "id": "3db143f0-6ab1-4e60-a732-aeef69e516eb",
   "metadata": {},
   "outputs": [],
   "source": [
    "path = './../../data/ml-25m/'"
   ]
  },
  {
   "cell_type": "code",
   "execution_count": 631,
   "id": "b35d9676-4f80-4cb5-98e4-5bf9cae6224a",
   "metadata": {},
   "outputs": [
    {
     "data": {
      "text/plain": [
       "['genome-scores.csv',\n",
       " 'genome-tags.csv',\n",
       " 'links.csv',\n",
       " 'movies.csv',\n",
       " 'ratings.csv',\n",
       " 'README.txt',\n",
       " 'tags.csv']"
      ]
     },
     "execution_count": 631,
     "metadata": {},
     "output_type": "execute_result"
    }
   ],
   "source": [
    "os.listdir(path)"
   ]
  },
  {
   "cell_type": "code",
   "execution_count": 633,
   "id": "30dad7cb-be3f-4031-a1da-caf268eaab71",
   "metadata": {},
   "outputs": [],
   "source": [
    "ratings_df = pd.read_csv(os.path.join(path + 'ratings.csv'), encoding='utf-8')\n",
    "tags_df = pd.read_csv(os.path.join(path + 'tags.csv'), encoding='utf-8')\n",
    "movies_df = pd.read_csv(os.path.join(path + 'movies.csv'), encoding='utf-8')\n",
    "links_df = pd.read_csv(os.path.join(path + 'links.csv'), encoding='utf-8')"
   ]
  },
  {
   "cell_type": "code",
   "execution_count": 347,
   "id": "7fc82918-a978-49f4-8c40-50055d17a7ec",
   "metadata": {
    "tags": []
   },
   "outputs": [],
   "source": [
    "# genome_tags_df = pd.read_csv(os.path.join(path + 'genome_tags.csv'), index_col='movieId', encoding='utf-8')\n",
    "# genome_scores_df = pd.read_csv(os.path.join(path + 'genome_scores.csv'), index_col='movieId', encoding='utf-8')"
   ]
  },
  {
   "cell_type": "code",
   "execution_count": 634,
   "id": "9d64e0c0-2423-4075-a5cc-3e66fb5a6967",
   "metadata": {},
   "outputs": [
    {
     "name": "stdout",
     "output_type": "stream",
     "text": [
      "(62423, 3)\n"
     ]
    },
    {
     "data": {
      "text/html": [
       "<div>\n",
       "<style scoped>\n",
       "    .dataframe tbody tr th:only-of-type {\n",
       "        vertical-align: middle;\n",
       "    }\n",
       "\n",
       "    .dataframe tbody tr th {\n",
       "        vertical-align: top;\n",
       "    }\n",
       "\n",
       "    .dataframe thead th {\n",
       "        text-align: right;\n",
       "    }\n",
       "</style>\n",
       "<table border=\"1\" class=\"dataframe\">\n",
       "  <thead>\n",
       "    <tr style=\"text-align: right;\">\n",
       "      <th></th>\n",
       "      <th>movieId</th>\n",
       "      <th>imdbId</th>\n",
       "      <th>tmdbId</th>\n",
       "    </tr>\n",
       "  </thead>\n",
       "  <tbody>\n",
       "    <tr>\n",
       "      <th>0</th>\n",
       "      <td>1</td>\n",
       "      <td>114709</td>\n",
       "      <td>862.0</td>\n",
       "    </tr>\n",
       "    <tr>\n",
       "      <th>1</th>\n",
       "      <td>2</td>\n",
       "      <td>113497</td>\n",
       "      <td>8844.0</td>\n",
       "    </tr>\n",
       "    <tr>\n",
       "      <th>2</th>\n",
       "      <td>3</td>\n",
       "      <td>113228</td>\n",
       "      <td>15602.0</td>\n",
       "    </tr>\n",
       "    <tr>\n",
       "      <th>3</th>\n",
       "      <td>4</td>\n",
       "      <td>114885</td>\n",
       "      <td>31357.0</td>\n",
       "    </tr>\n",
       "    <tr>\n",
       "      <th>4</th>\n",
       "      <td>5</td>\n",
       "      <td>113041</td>\n",
       "      <td>11862.0</td>\n",
       "    </tr>\n",
       "  </tbody>\n",
       "</table>\n",
       "</div>"
      ],
      "text/plain": [
       "   movieId  imdbId   tmdbId\n",
       "0        1  114709    862.0\n",
       "1        2  113497   8844.0\n",
       "2        3  113228  15602.0\n",
       "3        4  114885  31357.0\n",
       "4        5  113041  11862.0"
      ]
     },
     "execution_count": 634,
     "metadata": {},
     "output_type": "execute_result"
    }
   ],
   "source": [
    "print(links_df.shape)\n",
    "links_df.head()"
   ]
  },
  {
   "cell_type": "code",
   "execution_count": 635,
   "id": "7ba53b19-5941-46f9-80ad-bd51aafee9fc",
   "metadata": {},
   "outputs": [
    {
     "name": "stdout",
     "output_type": "stream",
     "text": [
      "(25000095, 4)\n"
     ]
    },
    {
     "data": {
      "text/html": [
       "<div>\n",
       "<style scoped>\n",
       "    .dataframe tbody tr th:only-of-type {\n",
       "        vertical-align: middle;\n",
       "    }\n",
       "\n",
       "    .dataframe tbody tr th {\n",
       "        vertical-align: top;\n",
       "    }\n",
       "\n",
       "    .dataframe thead th {\n",
       "        text-align: right;\n",
       "    }\n",
       "</style>\n",
       "<table border=\"1\" class=\"dataframe\">\n",
       "  <thead>\n",
       "    <tr style=\"text-align: right;\">\n",
       "      <th></th>\n",
       "      <th>userId</th>\n",
       "      <th>movieId</th>\n",
       "      <th>rating</th>\n",
       "      <th>timestamp</th>\n",
       "    </tr>\n",
       "  </thead>\n",
       "  <tbody>\n",
       "    <tr>\n",
       "      <th>0</th>\n",
       "      <td>1</td>\n",
       "      <td>296</td>\n",
       "      <td>5.0</td>\n",
       "      <td>1147880044</td>\n",
       "    </tr>\n",
       "    <tr>\n",
       "      <th>1</th>\n",
       "      <td>1</td>\n",
       "      <td>306</td>\n",
       "      <td>3.5</td>\n",
       "      <td>1147868817</td>\n",
       "    </tr>\n",
       "    <tr>\n",
       "      <th>2</th>\n",
       "      <td>1</td>\n",
       "      <td>307</td>\n",
       "      <td>5.0</td>\n",
       "      <td>1147868828</td>\n",
       "    </tr>\n",
       "    <tr>\n",
       "      <th>3</th>\n",
       "      <td>1</td>\n",
       "      <td>665</td>\n",
       "      <td>5.0</td>\n",
       "      <td>1147878820</td>\n",
       "    </tr>\n",
       "    <tr>\n",
       "      <th>4</th>\n",
       "      <td>1</td>\n",
       "      <td>899</td>\n",
       "      <td>3.5</td>\n",
       "      <td>1147868510</td>\n",
       "    </tr>\n",
       "  </tbody>\n",
       "</table>\n",
       "</div>"
      ],
      "text/plain": [
       "   userId  movieId  rating   timestamp\n",
       "0       1      296     5.0  1147880044\n",
       "1       1      306     3.5  1147868817\n",
       "2       1      307     5.0  1147868828\n",
       "3       1      665     5.0  1147878820\n",
       "4       1      899     3.5  1147868510"
      ]
     },
     "execution_count": 635,
     "metadata": {},
     "output_type": "execute_result"
    }
   ],
   "source": [
    "print(ratings_df.shape)\n",
    "ratings_df.head()"
   ]
  },
  {
   "cell_type": "code",
   "execution_count": 636,
   "id": "67850033-e48c-410c-8390-2ac15f5b6a53",
   "metadata": {},
   "outputs": [
    {
     "name": "stdout",
     "output_type": "stream",
     "text": [
      "(1093360, 4)\n"
     ]
    },
    {
     "data": {
      "text/html": [
       "<div>\n",
       "<style scoped>\n",
       "    .dataframe tbody tr th:only-of-type {\n",
       "        vertical-align: middle;\n",
       "    }\n",
       "\n",
       "    .dataframe tbody tr th {\n",
       "        vertical-align: top;\n",
       "    }\n",
       "\n",
       "    .dataframe thead th {\n",
       "        text-align: right;\n",
       "    }\n",
       "</style>\n",
       "<table border=\"1\" class=\"dataframe\">\n",
       "  <thead>\n",
       "    <tr style=\"text-align: right;\">\n",
       "      <th></th>\n",
       "      <th>userId</th>\n",
       "      <th>movieId</th>\n",
       "      <th>tag</th>\n",
       "      <th>timestamp</th>\n",
       "    </tr>\n",
       "  </thead>\n",
       "  <tbody>\n",
       "    <tr>\n",
       "      <th>0</th>\n",
       "      <td>3</td>\n",
       "      <td>260</td>\n",
       "      <td>classic</td>\n",
       "      <td>1439472355</td>\n",
       "    </tr>\n",
       "    <tr>\n",
       "      <th>1</th>\n",
       "      <td>3</td>\n",
       "      <td>260</td>\n",
       "      <td>sci-fi</td>\n",
       "      <td>1439472256</td>\n",
       "    </tr>\n",
       "    <tr>\n",
       "      <th>2</th>\n",
       "      <td>4</td>\n",
       "      <td>1732</td>\n",
       "      <td>dark comedy</td>\n",
       "      <td>1573943598</td>\n",
       "    </tr>\n",
       "    <tr>\n",
       "      <th>3</th>\n",
       "      <td>4</td>\n",
       "      <td>1732</td>\n",
       "      <td>great dialogue</td>\n",
       "      <td>1573943604</td>\n",
       "    </tr>\n",
       "    <tr>\n",
       "      <th>4</th>\n",
       "      <td>4</td>\n",
       "      <td>7569</td>\n",
       "      <td>so bad it's good</td>\n",
       "      <td>1573943455</td>\n",
       "    </tr>\n",
       "  </tbody>\n",
       "</table>\n",
       "</div>"
      ],
      "text/plain": [
       "   userId  movieId               tag   timestamp\n",
       "0       3      260           classic  1439472355\n",
       "1       3      260            sci-fi  1439472256\n",
       "2       4     1732       dark comedy  1573943598\n",
       "3       4     1732    great dialogue  1573943604\n",
       "4       4     7569  so bad it's good  1573943455"
      ]
     },
     "execution_count": 636,
     "metadata": {},
     "output_type": "execute_result"
    }
   ],
   "source": [
    "print(tags_df.shape)\n",
    "tags_df.head()"
   ]
  },
  {
   "cell_type": "code",
   "execution_count": 637,
   "id": "b8ad93bc-bdf1-454e-a32c-28739f39efa3",
   "metadata": {},
   "outputs": [
    {
     "name": "stdout",
     "output_type": "stream",
     "text": [
      "(62423, 3)\n"
     ]
    },
    {
     "data": {
      "text/html": [
       "<div>\n",
       "<style scoped>\n",
       "    .dataframe tbody tr th:only-of-type {\n",
       "        vertical-align: middle;\n",
       "    }\n",
       "\n",
       "    .dataframe tbody tr th {\n",
       "        vertical-align: top;\n",
       "    }\n",
       "\n",
       "    .dataframe thead th {\n",
       "        text-align: right;\n",
       "    }\n",
       "</style>\n",
       "<table border=\"1\" class=\"dataframe\">\n",
       "  <thead>\n",
       "    <tr style=\"text-align: right;\">\n",
       "      <th></th>\n",
       "      <th>movieId</th>\n",
       "      <th>title</th>\n",
       "      <th>genres</th>\n",
       "    </tr>\n",
       "  </thead>\n",
       "  <tbody>\n",
       "    <tr>\n",
       "      <th>0</th>\n",
       "      <td>1</td>\n",
       "      <td>Toy Story (1995)</td>\n",
       "      <td>Adventure|Animation|Children|Comedy|Fantasy</td>\n",
       "    </tr>\n",
       "    <tr>\n",
       "      <th>1</th>\n",
       "      <td>2</td>\n",
       "      <td>Jumanji (1995)</td>\n",
       "      <td>Adventure|Children|Fantasy</td>\n",
       "    </tr>\n",
       "    <tr>\n",
       "      <th>2</th>\n",
       "      <td>3</td>\n",
       "      <td>Grumpier Old Men (1995)</td>\n",
       "      <td>Comedy|Romance</td>\n",
       "    </tr>\n",
       "    <tr>\n",
       "      <th>3</th>\n",
       "      <td>4</td>\n",
       "      <td>Waiting to Exhale (1995)</td>\n",
       "      <td>Comedy|Drama|Romance</td>\n",
       "    </tr>\n",
       "    <tr>\n",
       "      <th>4</th>\n",
       "      <td>5</td>\n",
       "      <td>Father of the Bride Part II (1995)</td>\n",
       "      <td>Comedy</td>\n",
       "    </tr>\n",
       "  </tbody>\n",
       "</table>\n",
       "</div>"
      ],
      "text/plain": [
       "   movieId                               title  \\\n",
       "0        1                    Toy Story (1995)   \n",
       "1        2                      Jumanji (1995)   \n",
       "2        3             Grumpier Old Men (1995)   \n",
       "3        4            Waiting to Exhale (1995)   \n",
       "4        5  Father of the Bride Part II (1995)   \n",
       "\n",
       "                                        genres  \n",
       "0  Adventure|Animation|Children|Comedy|Fantasy  \n",
       "1                   Adventure|Children|Fantasy  \n",
       "2                               Comedy|Romance  \n",
       "3                         Comedy|Drama|Romance  \n",
       "4                                       Comedy  "
      ]
     },
     "execution_count": 637,
     "metadata": {},
     "output_type": "execute_result"
    }
   ],
   "source": [
    "print(movies_df.shape)\n",
    "movies_df.head()"
   ]
  },
  {
   "cell_type": "code",
   "execution_count": 638,
   "id": "3d0a130e-588e-4a67-ab4e-3a03aa91baa8",
   "metadata": {},
   "outputs": [
    {
     "data": {
      "text/html": [
       "<div>\n",
       "<style scoped>\n",
       "    .dataframe tbody tr th:only-of-type {\n",
       "        vertical-align: middle;\n",
       "    }\n",
       "\n",
       "    .dataframe tbody tr th {\n",
       "        vertical-align: top;\n",
       "    }\n",
       "\n",
       "    .dataframe thead th {\n",
       "        text-align: right;\n",
       "    }\n",
       "</style>\n",
       "<table border=\"1\" class=\"dataframe\">\n",
       "  <thead>\n",
       "    <tr style=\"text-align: right;\">\n",
       "      <th></th>\n",
       "      <th>movieId</th>\n",
       "      <th>title</th>\n",
       "      <th>genres</th>\n",
       "    </tr>\n",
       "  </thead>\n",
       "  <tbody>\n",
       "    <tr>\n",
       "      <th>0</th>\n",
       "      <td>1</td>\n",
       "      <td>Toy Story (1995)</td>\n",
       "      <td>Adventure|Animation|Children|Comedy|Fantasy</td>\n",
       "    </tr>\n",
       "    <tr>\n",
       "      <th>1</th>\n",
       "      <td>2</td>\n",
       "      <td>Jumanji (1995)</td>\n",
       "      <td>Adventure|Children|Fantasy</td>\n",
       "    </tr>\n",
       "    <tr>\n",
       "      <th>2</th>\n",
       "      <td>3</td>\n",
       "      <td>Grumpier Old Men (1995)</td>\n",
       "      <td>Comedy|Romance</td>\n",
       "    </tr>\n",
       "    <tr>\n",
       "      <th>3</th>\n",
       "      <td>4</td>\n",
       "      <td>Waiting to Exhale (1995)</td>\n",
       "      <td>Comedy|Drama|Romance</td>\n",
       "    </tr>\n",
       "    <tr>\n",
       "      <th>4</th>\n",
       "      <td>5</td>\n",
       "      <td>Father of the Bride Part II (1995)</td>\n",
       "      <td>Comedy</td>\n",
       "    </tr>\n",
       "  </tbody>\n",
       "</table>\n",
       "</div>"
      ],
      "text/plain": [
       "   movieId                               title  \\\n",
       "0        1                    Toy Story (1995)   \n",
       "1        2                      Jumanji (1995)   \n",
       "2        3             Grumpier Old Men (1995)   \n",
       "3        4            Waiting to Exhale (1995)   \n",
       "4        5  Father of the Bride Part II (1995)   \n",
       "\n",
       "                                        genres  \n",
       "0  Adventure|Animation|Children|Comedy|Fantasy  \n",
       "1                   Adventure|Children|Fantasy  \n",
       "2                               Comedy|Romance  \n",
       "3                         Comedy|Drama|Romance  \n",
       "4                                       Comedy  "
      ]
     },
     "execution_count": 638,
     "metadata": {},
     "output_type": "execute_result"
    }
   ],
   "source": [
    "movies_df.head()"
   ]
  },
  {
   "cell_type": "markdown",
   "id": "01901147-3271-43a4-9715-bd2019dcaad5",
   "metadata": {},
   "source": [
    "- 전처리"
   ]
  },
  {
   "cell_type": "code",
   "execution_count": 641,
   "id": "61e9edbb-76bd-4718-9197-14afb422e146",
   "metadata": {},
   "outputs": [],
   "source": [
    "movielens_df = movies_df.copy()"
   ]
  },
  {
   "cell_type": "code",
   "execution_count": 643,
   "id": "a0a30727-6378-4f04-bebe-e10085a14d5a",
   "metadata": {},
   "outputs": [
    {
     "data": {
      "text/plain": [
       "Series([], Name: title, dtype: object)"
      ]
     },
     "execution_count": 643,
     "metadata": {},
     "output_type": "execute_result"
    }
   ],
   "source": [
    "# 영화 제목 끝에 \"제거 \n",
    "# ex) 11'09\\\\\"01 - September 11 (2002)\"\n",
    "movielens_df[(movielens_df['title'].str[-1] == '\\\"')]['title']"
   ]
  },
  {
   "cell_type": "code",
   "execution_count": 644,
   "id": "89817abe-29a5-48c8-8b78-bba33e9ccd67",
   "metadata": {},
   "outputs": [
    {
     "name": "stdout",
     "output_type": "stream",
     "text": [
      "Int64Index([], dtype='int64')\n"
     ]
    }
   ],
   "source": [
    "# movielens_df['title'] = movielens_df[(movielens_df['title'].str[-1] == '\\\"')]['title'].str[:-1]    \n",
    "index = movielens_df[(movielens_df['title'].str[-1] == '\\\"')]['title'].index\n",
    "print(index)"
   ]
  },
  {
   "cell_type": "code",
   "execution_count": 645,
   "id": "004508c9-aef7-4938-b4a0-0436b9cdd633",
   "metadata": {},
   "outputs": [
    {
     "data": {
      "text/plain": [
       "Series([], Name: title, dtype: object)"
      ]
     },
     "execution_count": 645,
     "metadata": {},
     "output_type": "execute_result"
    }
   ],
   "source": [
    "movielens_df.iloc[index]['title'].str[:-1]"
   ]
  },
  {
   "cell_type": "code",
   "execution_count": 646,
   "id": "1864a378-5fd6-419c-801d-378f577d4ccb",
   "metadata": {},
   "outputs": [],
   "source": [
    "movielens_df.at[index, 'title'] = movielens_df.iloc[index]['title'].str[:-1]"
   ]
  },
  {
   "cell_type": "code",
   "execution_count": 647,
   "id": "271e7b4c-d6f9-4d10-adb1-763bce79a869",
   "metadata": {},
   "outputs": [],
   "source": [
    "movielens_df['before_year'] = movielens_df['title'].str[-7:]\n",
    "movielens_df['title'] = movielens_df['title'].str[:-7]"
   ]
  },
  {
   "cell_type": "code",
   "execution_count": 649,
   "id": "25444ad0-3b2b-4360-8ab4-42076cd19a99",
   "metadata": {},
   "outputs": [
    {
     "data": {
      "text/html": [
       "<div>\n",
       "<style scoped>\n",
       "    .dataframe tbody tr th:only-of-type {\n",
       "        vertical-align: middle;\n",
       "    }\n",
       "\n",
       "    .dataframe tbody tr th {\n",
       "        vertical-align: top;\n",
       "    }\n",
       "\n",
       "    .dataframe thead th {\n",
       "        text-align: right;\n",
       "    }\n",
       "</style>\n",
       "<table border=\"1\" class=\"dataframe\">\n",
       "  <thead>\n",
       "    <tr style=\"text-align: right;\">\n",
       "      <th></th>\n",
       "      <th>movieId</th>\n",
       "      <th>title</th>\n",
       "      <th>genres</th>\n",
       "      <th>before_year</th>\n",
       "    </tr>\n",
       "  </thead>\n",
       "  <tbody>\n",
       "    <tr>\n",
       "      <th>0</th>\n",
       "      <td>1</td>\n",
       "      <td>Toy Story</td>\n",
       "      <td>Adventure|Animation|Children|Comedy|Fantasy</td>\n",
       "      <td>(1995)</td>\n",
       "    </tr>\n",
       "    <tr>\n",
       "      <th>1</th>\n",
       "      <td>2</td>\n",
       "      <td>Jumanji</td>\n",
       "      <td>Adventure|Children|Fantasy</td>\n",
       "      <td>(1995)</td>\n",
       "    </tr>\n",
       "    <tr>\n",
       "      <th>2</th>\n",
       "      <td>3</td>\n",
       "      <td>Grumpier Old Men</td>\n",
       "      <td>Comedy|Romance</td>\n",
       "      <td>(1995)</td>\n",
       "    </tr>\n",
       "    <tr>\n",
       "      <th>3</th>\n",
       "      <td>4</td>\n",
       "      <td>Waiting to Exhale</td>\n",
       "      <td>Comedy|Drama|Romance</td>\n",
       "      <td>(1995)</td>\n",
       "    </tr>\n",
       "    <tr>\n",
       "      <th>4</th>\n",
       "      <td>5</td>\n",
       "      <td>Father of the Bride Part II</td>\n",
       "      <td>Comedy</td>\n",
       "      <td>(1995)</td>\n",
       "    </tr>\n",
       "  </tbody>\n",
       "</table>\n",
       "</div>"
      ],
      "text/plain": [
       "   movieId                        title  \\\n",
       "0        1                    Toy Story   \n",
       "1        2                      Jumanji   \n",
       "2        3             Grumpier Old Men   \n",
       "3        4            Waiting to Exhale   \n",
       "4        5  Father of the Bride Part II   \n",
       "\n",
       "                                        genres before_year  \n",
       "0  Adventure|Animation|Children|Comedy|Fantasy      (1995)  \n",
       "1                   Adventure|Children|Fantasy      (1995)  \n",
       "2                               Comedy|Romance      (1995)  \n",
       "3                         Comedy|Drama|Romance      (1995)  \n",
       "4                                       Comedy      (1995)  "
      ]
     },
     "execution_count": 649,
     "metadata": {},
     "output_type": "execute_result"
    }
   ],
   "source": [
    "movielens_df.head()"
   ]
  },
  {
   "cell_type": "code",
   "execution_count": 650,
   "id": "fb0182e3-4398-4a69-9ecd-942cc6c23e5f",
   "metadata": {},
   "outputs": [],
   "source": [
    "movielens_df['year'] = movielens_df['before_year'].str.strip()"
   ]
  },
  {
   "cell_type": "code",
   "execution_count": 651,
   "id": "9b92b38c-c789-4383-8112-b27725e82bca",
   "metadata": {},
   "outputs": [],
   "source": [
    "movielens_df['year'] = movielens_df['year'].str[-5:-1]"
   ]
  },
  {
   "cell_type": "code",
   "execution_count": 658,
   "id": "9dcc7ef4-0bfa-4c00-a891-178c83e94bd6",
   "metadata": {},
   "outputs": [
    {
     "data": {
      "text/html": [
       "<div>\n",
       "<style scoped>\n",
       "    .dataframe tbody tr th:only-of-type {\n",
       "        vertical-align: middle;\n",
       "    }\n",
       "\n",
       "    .dataframe tbody tr th {\n",
       "        vertical-align: top;\n",
       "    }\n",
       "\n",
       "    .dataframe thead th {\n",
       "        text-align: right;\n",
       "    }\n",
       "</style>\n",
       "<table border=\"1\" class=\"dataframe\">\n",
       "  <thead>\n",
       "    <tr style=\"text-align: right;\">\n",
       "      <th></th>\n",
       "      <th>movieId</th>\n",
       "      <th>title</th>\n",
       "      <th>year</th>\n",
       "      <th>genres</th>\n",
       "    </tr>\n",
       "  </thead>\n",
       "  <tbody>\n",
       "    <tr>\n",
       "      <th>15036</th>\n",
       "      <td>79607</td>\n",
       "      <td>Millions Game, The (Das Millione</td>\n",
       "      <td>piel</td>\n",
       "      <td>Action|Drama|Sci-Fi|Thriller</td>\n",
       "    </tr>\n",
       "  </tbody>\n",
       "</table>\n",
       "</div>"
      ],
      "text/plain": [
       "       movieId                             title  year  \\\n",
       "15036    79607  Millions Game, The (Das Millione  piel   \n",
       "\n",
       "                             genres  \n",
       "15036  Action|Drama|Sci-Fi|Thriller  "
      ]
     },
     "execution_count": 658,
     "metadata": {},
     "output_type": "execute_result"
    }
   ],
   "source": [
    "movielens_df.iloc[15036:15037]"
   ]
  },
  {
   "cell_type": "code",
   "execution_count": 655,
   "id": "dc5b6ec1-a494-425a-ab38-abb70a5d78da",
   "metadata": {},
   "outputs": [],
   "source": [
    "movielens_df = movielens_df[['movieId','title','year','genres']]"
   ]
  },
  {
   "cell_type": "code",
   "execution_count": 656,
   "id": "23cdc052-6186-43c8-afde-b64ca6b8f348",
   "metadata": {},
   "outputs": [
    {
     "data": {
      "text/html": [
       "<div>\n",
       "<style scoped>\n",
       "    .dataframe tbody tr th:only-of-type {\n",
       "        vertical-align: middle;\n",
       "    }\n",
       "\n",
       "    .dataframe tbody tr th {\n",
       "        vertical-align: top;\n",
       "    }\n",
       "\n",
       "    .dataframe thead th {\n",
       "        text-align: right;\n",
       "    }\n",
       "</style>\n",
       "<table border=\"1\" class=\"dataframe\">\n",
       "  <thead>\n",
       "    <tr style=\"text-align: right;\">\n",
       "      <th></th>\n",
       "      <th>movieId</th>\n",
       "      <th>title</th>\n",
       "      <th>year</th>\n",
       "      <th>genres</th>\n",
       "    </tr>\n",
       "  </thead>\n",
       "  <tbody>\n",
       "    <tr>\n",
       "      <th>0</th>\n",
       "      <td>1</td>\n",
       "      <td>Toy Story</td>\n",
       "      <td>1995</td>\n",
       "      <td>Adventure|Animation|Children|Comedy|Fantasy</td>\n",
       "    </tr>\n",
       "    <tr>\n",
       "      <th>1</th>\n",
       "      <td>2</td>\n",
       "      <td>Jumanji</td>\n",
       "      <td>1995</td>\n",
       "      <td>Adventure|Children|Fantasy</td>\n",
       "    </tr>\n",
       "    <tr>\n",
       "      <th>2</th>\n",
       "      <td>3</td>\n",
       "      <td>Grumpier Old Men</td>\n",
       "      <td>1995</td>\n",
       "      <td>Comedy|Romance</td>\n",
       "    </tr>\n",
       "    <tr>\n",
       "      <th>3</th>\n",
       "      <td>4</td>\n",
       "      <td>Waiting to Exhale</td>\n",
       "      <td>1995</td>\n",
       "      <td>Comedy|Drama|Romance</td>\n",
       "    </tr>\n",
       "    <tr>\n",
       "      <th>4</th>\n",
       "      <td>5</td>\n",
       "      <td>Father of the Bride Part II</td>\n",
       "      <td>1995</td>\n",
       "      <td>Comedy</td>\n",
       "    </tr>\n",
       "  </tbody>\n",
       "</table>\n",
       "</div>"
      ],
      "text/plain": [
       "   movieId                        title  year  \\\n",
       "0        1                    Toy Story  1995   \n",
       "1        2                      Jumanji  1995   \n",
       "2        3             Grumpier Old Men  1995   \n",
       "3        4            Waiting to Exhale  1995   \n",
       "4        5  Father of the Bride Part II  1995   \n",
       "\n",
       "                                        genres  \n",
       "0  Adventure|Animation|Children|Comedy|Fantasy  \n",
       "1                   Adventure|Children|Fantasy  \n",
       "2                               Comedy|Romance  \n",
       "3                         Comedy|Drama|Romance  \n",
       "4                                       Comedy  "
      ]
     },
     "execution_count": 656,
     "metadata": {},
     "output_type": "execute_result"
    }
   ],
   "source": [
    "movielens_df.head()"
   ]
  },
  {
   "cell_type": "code",
   "execution_count": 659,
   "id": "98ef6552-d3a2-44c6-bb0f-372f47d05e8b",
   "metadata": {},
   "outputs": [],
   "source": [
    "# movielens_df['year'] = pd.to_numeric(movielens_df['year'])\n",
    "# movielens_df['year'] = movielens_df.astype({'year': int})"
   ]
  },
  {
   "cell_type": "code",
   "execution_count": 660,
   "id": "a128c6c7-0a6a-4c53-a7ad-f023329ad2c4",
   "metadata": {},
   "outputs": [
    {
     "data": {
      "text/html": [
       "<div>\n",
       "<style scoped>\n",
       "    .dataframe tbody tr th:only-of-type {\n",
       "        vertical-align: middle;\n",
       "    }\n",
       "\n",
       "    .dataframe tbody tr th {\n",
       "        vertical-align: top;\n",
       "    }\n",
       "\n",
       "    .dataframe thead th {\n",
       "        text-align: right;\n",
       "    }\n",
       "</style>\n",
       "<table border=\"1\" class=\"dataframe\">\n",
       "  <thead>\n",
       "    <tr style=\"text-align: right;\">\n",
       "      <th></th>\n",
       "      <th>movieId</th>\n",
       "      <th>title</th>\n",
       "      <th>year</th>\n",
       "      <th>genres</th>\n",
       "    </tr>\n",
       "  </thead>\n",
       "  <tbody>\n",
       "    <tr>\n",
       "      <th>0</th>\n",
       "      <td>1</td>\n",
       "      <td>Toy Story</td>\n",
       "      <td>1995</td>\n",
       "      <td>Adventure|Animation|Children|Comedy|Fantasy</td>\n",
       "    </tr>\n",
       "    <tr>\n",
       "      <th>1</th>\n",
       "      <td>2</td>\n",
       "      <td>Jumanji</td>\n",
       "      <td>1995</td>\n",
       "      <td>Adventure|Children|Fantasy</td>\n",
       "    </tr>\n",
       "    <tr>\n",
       "      <th>2</th>\n",
       "      <td>3</td>\n",
       "      <td>Grumpier Old Men</td>\n",
       "      <td>1995</td>\n",
       "      <td>Comedy|Romance</td>\n",
       "    </tr>\n",
       "    <tr>\n",
       "      <th>3</th>\n",
       "      <td>4</td>\n",
       "      <td>Waiting to Exhale</td>\n",
       "      <td>1995</td>\n",
       "      <td>Comedy|Drama|Romance</td>\n",
       "    </tr>\n",
       "    <tr>\n",
       "      <th>4</th>\n",
       "      <td>5</td>\n",
       "      <td>Father of the Bride Part II</td>\n",
       "      <td>1995</td>\n",
       "      <td>Comedy</td>\n",
       "    </tr>\n",
       "  </tbody>\n",
       "</table>\n",
       "</div>"
      ],
      "text/plain": [
       "   movieId                        title  year  \\\n",
       "0        1                    Toy Story  1995   \n",
       "1        2                      Jumanji  1995   \n",
       "2        3             Grumpier Old Men  1995   \n",
       "3        4            Waiting to Exhale  1995   \n",
       "4        5  Father of the Bride Part II  1995   \n",
       "\n",
       "                                        genres  \n",
       "0  Adventure|Animation|Children|Comedy|Fantasy  \n",
       "1                   Adventure|Children|Fantasy  \n",
       "2                               Comedy|Romance  \n",
       "3                         Comedy|Drama|Romance  \n",
       "4                                       Comedy  "
      ]
     },
     "execution_count": 660,
     "metadata": {},
     "output_type": "execute_result"
    }
   ],
   "source": [
    "movielens_df.head()"
   ]
  },
  {
   "cell_type": "code",
   "execution_count": 661,
   "id": "413363d2-d729-4f82-9d4b-a76c8aaf4bfe",
   "metadata": {},
   "outputs": [
    {
     "name": "stdout",
     "output_type": "stream",
     "text": [
      "<class 'pandas.core.frame.DataFrame'>\n",
      "RangeIndex: 62423 entries, 0 to 62422\n",
      "Data columns (total 4 columns):\n",
      " #   Column   Non-Null Count  Dtype \n",
      "---  ------   --------------  ----- \n",
      " 0   movieId  62423 non-null  int64 \n",
      " 1   title    62423 non-null  object\n",
      " 2   year     62423 non-null  object\n",
      " 3   genres   62423 non-null  object\n",
      "dtypes: int64(1), object(3)\n",
      "memory usage: 1.9+ MB\n"
     ]
    }
   ],
   "source": [
    "movielens_df.info()"
   ]
  },
  {
   "cell_type": "markdown",
   "id": "6cb65086-e1c4-41a9-a31f-21c62dd71855",
   "metadata": {},
   "source": [
    "#### 1-2. IMDB"
   ]
  },
  {
   "cell_type": "code",
   "execution_count": 729,
   "id": "580aa0ce-5129-4fcf-b1ce-f058571103b0",
   "metadata": {},
   "outputs": [],
   "source": [
    "path = './../../data/'"
   ]
  },
  {
   "cell_type": "code",
   "execution_count": 730,
   "id": "3ef82744-6841-4010-a76c-21c942a1b5e0",
   "metadata": {},
   "outputs": [
    {
     "data": {
      "text/plain": [
       "['imdb_30.csv',\n",
       " 'imdb_30.xlsx',\n",
       " 'imdb_40(수정).xlsx',\n",
       " 'imdb_50.csv',\n",
       " 'imdb_top_1000.csv',\n",
       " 'ml-25m',\n",
       " 'ml-25m.zip',\n",
       " 'movieLens',\n",
       " 'new버전_imdb_40(1차완성).xlsx',\n",
       " 'old버전_imdb_40(1차완성).xlsx',\n",
       " '~$new버전_imdb_40(1차완성).xlsx']"
      ]
     },
     "execution_count": 730,
     "metadata": {},
     "output_type": "execute_result"
    }
   ],
   "source": [
    "os.listdir(path)"
   ]
  },
  {
   "cell_type": "code",
   "execution_count": 665,
   "id": "ab3cd56e-9d25-4815-a500-091345d8c522",
   "metadata": {},
   "outputs": [],
   "source": [
    "imdb_1000 = pd.read_csv(os.path.join(path + 'imdb_top_1000.csv'), encoding='utf-8')"
   ]
  },
  {
   "cell_type": "code",
   "execution_count": 666,
   "id": "e9723627-4c67-468c-956a-0b4b2d4efb8e",
   "metadata": {},
   "outputs": [
    {
     "name": "stdout",
     "output_type": "stream",
     "text": [
      "(1000, 16)\n"
     ]
    }
   ],
   "source": [
    "print(imdb_1000.shape)"
   ]
  },
  {
   "cell_type": "code",
   "execution_count": 667,
   "id": "3c108016-561c-4945-83f4-98f76a2a0658",
   "metadata": {},
   "outputs": [
    {
     "data": {
      "text/plain": [
       "Index(['Poster_Link', 'Series_Title', 'Released_Year', 'Certificate',\n",
       "       'Runtime', 'Genre', 'IMDB_Rating', 'Overview', 'Meta_score', 'Director',\n",
       "       'Star1', 'Star2', 'Star3', 'Star4', 'No_of_Votes', 'Gross'],\n",
       "      dtype='object')"
      ]
     },
     "execution_count": 667,
     "metadata": {},
     "output_type": "execute_result"
    }
   ],
   "source": [
    "imdb_1000.columns"
   ]
  },
  {
   "cell_type": "code",
   "execution_count": 668,
   "id": "ff280381-ee5b-4254-b0f5-b1581f73d858",
   "metadata": {},
   "outputs": [
    {
     "data": {
      "text/html": [
       "<div>\n",
       "<style scoped>\n",
       "    .dataframe tbody tr th:only-of-type {\n",
       "        vertical-align: middle;\n",
       "    }\n",
       "\n",
       "    .dataframe tbody tr th {\n",
       "        vertical-align: top;\n",
       "    }\n",
       "\n",
       "    .dataframe thead th {\n",
       "        text-align: right;\n",
       "    }\n",
       "</style>\n",
       "<table border=\"1\" class=\"dataframe\">\n",
       "  <thead>\n",
       "    <tr style=\"text-align: right;\">\n",
       "      <th></th>\n",
       "      <th>Poster_Link</th>\n",
       "      <th>Series_Title</th>\n",
       "      <th>Released_Year</th>\n",
       "      <th>Certificate</th>\n",
       "      <th>Runtime</th>\n",
       "      <th>Genre</th>\n",
       "      <th>IMDB_Rating</th>\n",
       "      <th>Overview</th>\n",
       "      <th>Meta_score</th>\n",
       "      <th>Director</th>\n",
       "      <th>Star1</th>\n",
       "      <th>Star2</th>\n",
       "      <th>Star3</th>\n",
       "      <th>Star4</th>\n",
       "      <th>No_of_Votes</th>\n",
       "      <th>Gross</th>\n",
       "    </tr>\n",
       "  </thead>\n",
       "  <tbody>\n",
       "    <tr>\n",
       "      <th>0</th>\n",
       "      <td>https://m.media-amazon.com/images/M/MV5BMDFkYT...</td>\n",
       "      <td>The Shawshank Redemption</td>\n",
       "      <td>1994</td>\n",
       "      <td>A</td>\n",
       "      <td>142 min</td>\n",
       "      <td>Drama</td>\n",
       "      <td>9.3</td>\n",
       "      <td>Two imprisoned men bond over a number of years...</td>\n",
       "      <td>80.0</td>\n",
       "      <td>Frank Darabont</td>\n",
       "      <td>Tim Robbins</td>\n",
       "      <td>Morgan Freeman</td>\n",
       "      <td>Bob Gunton</td>\n",
       "      <td>William Sadler</td>\n",
       "      <td>2343110</td>\n",
       "      <td>28,341,469</td>\n",
       "    </tr>\n",
       "    <tr>\n",
       "      <th>1</th>\n",
       "      <td>https://m.media-amazon.com/images/M/MV5BM2MyNj...</td>\n",
       "      <td>The Godfather</td>\n",
       "      <td>1972</td>\n",
       "      <td>A</td>\n",
       "      <td>175 min</td>\n",
       "      <td>Crime, Drama</td>\n",
       "      <td>9.2</td>\n",
       "      <td>An organized crime dynasty's aging patriarch t...</td>\n",
       "      <td>100.0</td>\n",
       "      <td>Francis Ford Coppola</td>\n",
       "      <td>Marlon Brando</td>\n",
       "      <td>Al Pacino</td>\n",
       "      <td>James Caan</td>\n",
       "      <td>Diane Keaton</td>\n",
       "      <td>1620367</td>\n",
       "      <td>134,966,411</td>\n",
       "    </tr>\n",
       "    <tr>\n",
       "      <th>2</th>\n",
       "      <td>https://m.media-amazon.com/images/M/MV5BMTMxNT...</td>\n",
       "      <td>The Dark Knight</td>\n",
       "      <td>2008</td>\n",
       "      <td>UA</td>\n",
       "      <td>152 min</td>\n",
       "      <td>Action, Crime, Drama</td>\n",
       "      <td>9.0</td>\n",
       "      <td>When the menace known as the Joker wreaks havo...</td>\n",
       "      <td>84.0</td>\n",
       "      <td>Christopher Nolan</td>\n",
       "      <td>Christian Bale</td>\n",
       "      <td>Heath Ledger</td>\n",
       "      <td>Aaron Eckhart</td>\n",
       "      <td>Michael Caine</td>\n",
       "      <td>2303232</td>\n",
       "      <td>534,858,444</td>\n",
       "    </tr>\n",
       "    <tr>\n",
       "      <th>3</th>\n",
       "      <td>https://m.media-amazon.com/images/M/MV5BMWMwMG...</td>\n",
       "      <td>The Godfather: Part II</td>\n",
       "      <td>1974</td>\n",
       "      <td>A</td>\n",
       "      <td>202 min</td>\n",
       "      <td>Crime, Drama</td>\n",
       "      <td>9.0</td>\n",
       "      <td>The early life and career of Vito Corleone in ...</td>\n",
       "      <td>90.0</td>\n",
       "      <td>Francis Ford Coppola</td>\n",
       "      <td>Al Pacino</td>\n",
       "      <td>Robert De Niro</td>\n",
       "      <td>Robert Duvall</td>\n",
       "      <td>Diane Keaton</td>\n",
       "      <td>1129952</td>\n",
       "      <td>57,300,000</td>\n",
       "    </tr>\n",
       "    <tr>\n",
       "      <th>4</th>\n",
       "      <td>https://m.media-amazon.com/images/M/MV5BMWU4N2...</td>\n",
       "      <td>12 Angry Men</td>\n",
       "      <td>1957</td>\n",
       "      <td>U</td>\n",
       "      <td>96 min</td>\n",
       "      <td>Crime, Drama</td>\n",
       "      <td>9.0</td>\n",
       "      <td>A jury holdout attempts to prevent a miscarria...</td>\n",
       "      <td>96.0</td>\n",
       "      <td>Sidney Lumet</td>\n",
       "      <td>Henry Fonda</td>\n",
       "      <td>Lee J. Cobb</td>\n",
       "      <td>Martin Balsam</td>\n",
       "      <td>John Fiedler</td>\n",
       "      <td>689845</td>\n",
       "      <td>4,360,000</td>\n",
       "    </tr>\n",
       "  </tbody>\n",
       "</table>\n",
       "</div>"
      ],
      "text/plain": [
       "                                         Poster_Link  \\\n",
       "0  https://m.media-amazon.com/images/M/MV5BMDFkYT...   \n",
       "1  https://m.media-amazon.com/images/M/MV5BM2MyNj...   \n",
       "2  https://m.media-amazon.com/images/M/MV5BMTMxNT...   \n",
       "3  https://m.media-amazon.com/images/M/MV5BMWMwMG...   \n",
       "4  https://m.media-amazon.com/images/M/MV5BMWU4N2...   \n",
       "\n",
       "               Series_Title Released_Year Certificate  Runtime  \\\n",
       "0  The Shawshank Redemption          1994           A  142 min   \n",
       "1             The Godfather          1972           A  175 min   \n",
       "2           The Dark Knight          2008          UA  152 min   \n",
       "3    The Godfather: Part II          1974           A  202 min   \n",
       "4              12 Angry Men          1957           U   96 min   \n",
       "\n",
       "                  Genre  IMDB_Rating  \\\n",
       "0                 Drama          9.3   \n",
       "1          Crime, Drama          9.2   \n",
       "2  Action, Crime, Drama          9.0   \n",
       "3          Crime, Drama          9.0   \n",
       "4          Crime, Drama          9.0   \n",
       "\n",
       "                                            Overview  Meta_score  \\\n",
       "0  Two imprisoned men bond over a number of years...        80.0   \n",
       "1  An organized crime dynasty's aging patriarch t...       100.0   \n",
       "2  When the menace known as the Joker wreaks havo...        84.0   \n",
       "3  The early life and career of Vito Corleone in ...        90.0   \n",
       "4  A jury holdout attempts to prevent a miscarria...        96.0   \n",
       "\n",
       "               Director           Star1           Star2          Star3  \\\n",
       "0        Frank Darabont     Tim Robbins  Morgan Freeman     Bob Gunton   \n",
       "1  Francis Ford Coppola   Marlon Brando       Al Pacino     James Caan   \n",
       "2     Christopher Nolan  Christian Bale    Heath Ledger  Aaron Eckhart   \n",
       "3  Francis Ford Coppola       Al Pacino  Robert De Niro  Robert Duvall   \n",
       "4          Sidney Lumet     Henry Fonda     Lee J. Cobb  Martin Balsam   \n",
       "\n",
       "            Star4  No_of_Votes        Gross  \n",
       "0  William Sadler      2343110   28,341,469  \n",
       "1    Diane Keaton      1620367  134,966,411  \n",
       "2   Michael Caine      2303232  534,858,444  \n",
       "3    Diane Keaton      1129952   57,300,000  \n",
       "4    John Fiedler       689845    4,360,000  "
      ]
     },
     "execution_count": 668,
     "metadata": {},
     "output_type": "execute_result"
    }
   ],
   "source": [
    "imdb_1000.head()"
   ]
  },
  {
   "cell_type": "code",
   "execution_count": 669,
   "id": "4fe9a214-81b7-43d4-b78d-10ec70310f2c",
   "metadata": {},
   "outputs": [],
   "source": [
    "imdb_df = imdb_1000.copy()"
   ]
  },
  {
   "cell_type": "code",
   "execution_count": 670,
   "id": "d3bb5b70-52a8-4627-957c-b216ed4486be",
   "metadata": {},
   "outputs": [],
   "source": [
    "imdb_df = imdb_df[['Series_Title', 'Released_Year', 'Genre']]\n",
    "imdb_df.columns = ['title','year','genres']"
   ]
  },
  {
   "cell_type": "code",
   "execution_count": 671,
   "id": "a2787766-89d3-4088-b8f0-3376c45640fb",
   "metadata": {},
   "outputs": [
    {
     "data": {
      "text/html": [
       "<div>\n",
       "<style scoped>\n",
       "    .dataframe tbody tr th:only-of-type {\n",
       "        vertical-align: middle;\n",
       "    }\n",
       "\n",
       "    .dataframe tbody tr th {\n",
       "        vertical-align: top;\n",
       "    }\n",
       "\n",
       "    .dataframe thead th {\n",
       "        text-align: right;\n",
       "    }\n",
       "</style>\n",
       "<table border=\"1\" class=\"dataframe\">\n",
       "  <thead>\n",
       "    <tr style=\"text-align: right;\">\n",
       "      <th></th>\n",
       "      <th>title</th>\n",
       "      <th>year</th>\n",
       "      <th>genres</th>\n",
       "    </tr>\n",
       "  </thead>\n",
       "  <tbody>\n",
       "    <tr>\n",
       "      <th>0</th>\n",
       "      <td>The Shawshank Redemption</td>\n",
       "      <td>1994</td>\n",
       "      <td>Drama</td>\n",
       "    </tr>\n",
       "    <tr>\n",
       "      <th>1</th>\n",
       "      <td>The Godfather</td>\n",
       "      <td>1972</td>\n",
       "      <td>Crime, Drama</td>\n",
       "    </tr>\n",
       "    <tr>\n",
       "      <th>2</th>\n",
       "      <td>The Dark Knight</td>\n",
       "      <td>2008</td>\n",
       "      <td>Action, Crime, Drama</td>\n",
       "    </tr>\n",
       "    <tr>\n",
       "      <th>3</th>\n",
       "      <td>The Godfather: Part II</td>\n",
       "      <td>1974</td>\n",
       "      <td>Crime, Drama</td>\n",
       "    </tr>\n",
       "    <tr>\n",
       "      <th>4</th>\n",
       "      <td>12 Angry Men</td>\n",
       "      <td>1957</td>\n",
       "      <td>Crime, Drama</td>\n",
       "    </tr>\n",
       "  </tbody>\n",
       "</table>\n",
       "</div>"
      ],
      "text/plain": [
       "                      title  year                genres\n",
       "0  The Shawshank Redemption  1994                 Drama\n",
       "1             The Godfather  1972          Crime, Drama\n",
       "2           The Dark Knight  2008  Action, Crime, Drama\n",
       "3    The Godfather: Part II  1974          Crime, Drama\n",
       "4              12 Angry Men  1957          Crime, Drama"
      ]
     },
     "execution_count": 671,
     "metadata": {},
     "output_type": "execute_result"
    }
   ],
   "source": [
    "imdb_df.head()"
   ]
  },
  {
   "cell_type": "markdown",
   "id": "a4014a23-06af-4d1a-86f8-e035aaa70f23",
   "metadata": {},
   "source": [
    "- IMDB Top 30 "
   ]
  },
  {
   "cell_type": "code",
   "execution_count": 705,
   "id": "a99a7be7-61b4-4153-83b6-182699f84374",
   "metadata": {},
   "outputs": [],
   "source": [
    "imdb_40 = imdb_df.iloc[0:40,:]"
   ]
  },
  {
   "cell_type": "code",
   "execution_count": 706,
   "id": "3eea7488-b336-46f4-a268-ba8839f7e650",
   "metadata": {},
   "outputs": [],
   "source": [
    "imdb_40.reset_index(inplace=True)"
   ]
  },
  {
   "cell_type": "code",
   "execution_count": 707,
   "id": "4848cf80-05e7-4607-88b9-80d760d940b0",
   "metadata": {},
   "outputs": [],
   "source": [
    "imdb_40.columns = ['movieId','title','year','genres']"
   ]
  },
  {
   "cell_type": "code",
   "execution_count": 727,
   "id": "dd9cdc81-a62d-4b06-b8b1-5eac0131db6e",
   "metadata": {},
   "outputs": [
    {
     "data": {
      "text/html": [
       "<div>\n",
       "<style scoped>\n",
       "    .dataframe tbody tr th:only-of-type {\n",
       "        vertical-align: middle;\n",
       "    }\n",
       "\n",
       "    .dataframe tbody tr th {\n",
       "        vertical-align: top;\n",
       "    }\n",
       "\n",
       "    .dataframe thead th {\n",
       "        text-align: right;\n",
       "    }\n",
       "</style>\n",
       "<table border=\"1\" class=\"dataframe\">\n",
       "  <thead>\n",
       "    <tr style=\"text-align: right;\">\n",
       "      <th></th>\n",
       "      <th>movieId</th>\n",
       "      <th>title</th>\n",
       "      <th>year</th>\n",
       "      <th>genres</th>\n",
       "    </tr>\n",
       "  </thead>\n",
       "  <tbody>\n",
       "    <tr>\n",
       "      <th>0</th>\n",
       "      <td>0</td>\n",
       "      <td>the shawshank redemption</td>\n",
       "      <td>1994</td>\n",
       "      <td>Drama</td>\n",
       "    </tr>\n",
       "    <tr>\n",
       "      <th>1</th>\n",
       "      <td>1</td>\n",
       "      <td>the godfather</td>\n",
       "      <td>1972</td>\n",
       "      <td>Crime, Drama</td>\n",
       "    </tr>\n",
       "    <tr>\n",
       "      <th>2</th>\n",
       "      <td>2</td>\n",
       "      <td>the dark knight</td>\n",
       "      <td>2008</td>\n",
       "      <td>Action, Crime, Drama</td>\n",
       "    </tr>\n",
       "    <tr>\n",
       "      <th>3</th>\n",
       "      <td>3</td>\n",
       "      <td>the godfather: part ii</td>\n",
       "      <td>1974</td>\n",
       "      <td>Crime, Drama</td>\n",
       "    </tr>\n",
       "    <tr>\n",
       "      <th>4</th>\n",
       "      <td>4</td>\n",
       "      <td>12 angry men</td>\n",
       "      <td>1957</td>\n",
       "      <td>Crime, Drama</td>\n",
       "    </tr>\n",
       "    <tr>\n",
       "      <th>5</th>\n",
       "      <td>5</td>\n",
       "      <td>the lord of the rings: the return of the king</td>\n",
       "      <td>2003</td>\n",
       "      <td>Action, Adventure, Drama</td>\n",
       "    </tr>\n",
       "    <tr>\n",
       "      <th>6</th>\n",
       "      <td>6</td>\n",
       "      <td>pulp fiction</td>\n",
       "      <td>1994</td>\n",
       "      <td>Crime, Drama</td>\n",
       "    </tr>\n",
       "    <tr>\n",
       "      <th>7</th>\n",
       "      <td>7</td>\n",
       "      <td>schindler's list</td>\n",
       "      <td>1993</td>\n",
       "      <td>Biography, Drama, History</td>\n",
       "    </tr>\n",
       "    <tr>\n",
       "      <th>8</th>\n",
       "      <td>8</td>\n",
       "      <td>inception</td>\n",
       "      <td>2010</td>\n",
       "      <td>Action, Adventure, Sci-Fi</td>\n",
       "    </tr>\n",
       "    <tr>\n",
       "      <th>9</th>\n",
       "      <td>9</td>\n",
       "      <td>fight club</td>\n",
       "      <td>1999</td>\n",
       "      <td>Drama</td>\n",
       "    </tr>\n",
       "    <tr>\n",
       "      <th>10</th>\n",
       "      <td>10</td>\n",
       "      <td>the lord of the rings: the fellowship of the ring</td>\n",
       "      <td>2001</td>\n",
       "      <td>Action, Adventure, Drama</td>\n",
       "    </tr>\n",
       "    <tr>\n",
       "      <th>11</th>\n",
       "      <td>11</td>\n",
       "      <td>forrest gump</td>\n",
       "      <td>1994</td>\n",
       "      <td>Drama, Romance</td>\n",
       "    </tr>\n",
       "    <tr>\n",
       "      <th>12</th>\n",
       "      <td>12</td>\n",
       "      <td>il buono, il brutto, il cattivo</td>\n",
       "      <td>1966</td>\n",
       "      <td>Western</td>\n",
       "    </tr>\n",
       "    <tr>\n",
       "      <th>13</th>\n",
       "      <td>13</td>\n",
       "      <td>the lord of the rings: the two towers</td>\n",
       "      <td>2002</td>\n",
       "      <td>Action, Adventure, Drama</td>\n",
       "    </tr>\n",
       "    <tr>\n",
       "      <th>14</th>\n",
       "      <td>14</td>\n",
       "      <td>the matrix</td>\n",
       "      <td>1999</td>\n",
       "      <td>Action, Sci-Fi</td>\n",
       "    </tr>\n",
       "    <tr>\n",
       "      <th>15</th>\n",
       "      <td>15</td>\n",
       "      <td>goodfellas</td>\n",
       "      <td>1990</td>\n",
       "      <td>Biography, Crime, Drama</td>\n",
       "    </tr>\n",
       "    <tr>\n",
       "      <th>16</th>\n",
       "      <td>16</td>\n",
       "      <td>star wars: episode v - the empire strikes back</td>\n",
       "      <td>1980</td>\n",
       "      <td>Action, Adventure, Fantasy</td>\n",
       "    </tr>\n",
       "    <tr>\n",
       "      <th>17</th>\n",
       "      <td>17</td>\n",
       "      <td>one flew over the cuckoo's nest</td>\n",
       "      <td>1975</td>\n",
       "      <td>Drama</td>\n",
       "    </tr>\n",
       "    <tr>\n",
       "      <th>18</th>\n",
       "      <td>18</td>\n",
       "      <td>hamilton</td>\n",
       "      <td>2020</td>\n",
       "      <td>Biography, Drama, History</td>\n",
       "    </tr>\n",
       "    <tr>\n",
       "      <th>19</th>\n",
       "      <td>19</td>\n",
       "      <td>gisaengchung</td>\n",
       "      <td>2019</td>\n",
       "      <td>Comedy, Drama, Thriller</td>\n",
       "    </tr>\n",
       "    <tr>\n",
       "      <th>20</th>\n",
       "      <td>20</td>\n",
       "      <td>soorarai pottru</td>\n",
       "      <td>2020</td>\n",
       "      <td>Drama</td>\n",
       "    </tr>\n",
       "    <tr>\n",
       "      <th>21</th>\n",
       "      <td>21</td>\n",
       "      <td>interstellar</td>\n",
       "      <td>2014</td>\n",
       "      <td>Adventure, Drama, Sci-Fi</td>\n",
       "    </tr>\n",
       "    <tr>\n",
       "      <th>22</th>\n",
       "      <td>22</td>\n",
       "      <td>cidade de deus</td>\n",
       "      <td>2002</td>\n",
       "      <td>Crime, Drama</td>\n",
       "    </tr>\n",
       "    <tr>\n",
       "      <th>23</th>\n",
       "      <td>23</td>\n",
       "      <td>sen to chihiro no kamikakushi</td>\n",
       "      <td>2001</td>\n",
       "      <td>Animation, Adventure, Family</td>\n",
       "    </tr>\n",
       "    <tr>\n",
       "      <th>24</th>\n",
       "      <td>24</td>\n",
       "      <td>saving private ryan</td>\n",
       "      <td>1998</td>\n",
       "      <td>Drama, War</td>\n",
       "    </tr>\n",
       "    <tr>\n",
       "      <th>25</th>\n",
       "      <td>25</td>\n",
       "      <td>the green mile</td>\n",
       "      <td>1999</td>\n",
       "      <td>Crime, Drama, Fantasy</td>\n",
       "    </tr>\n",
       "    <tr>\n",
       "      <th>26</th>\n",
       "      <td>26</td>\n",
       "      <td>la vita è bella</td>\n",
       "      <td>1997</td>\n",
       "      <td>Comedy, Drama, Romance</td>\n",
       "    </tr>\n",
       "    <tr>\n",
       "      <th>27</th>\n",
       "      <td>27</td>\n",
       "      <td>se7en</td>\n",
       "      <td>1995</td>\n",
       "      <td>Crime, Drama, Mystery</td>\n",
       "    </tr>\n",
       "    <tr>\n",
       "      <th>28</th>\n",
       "      <td>28</td>\n",
       "      <td>the silence of the lambs</td>\n",
       "      <td>1991</td>\n",
       "      <td>Crime, Drama, Thriller</td>\n",
       "    </tr>\n",
       "    <tr>\n",
       "      <th>29</th>\n",
       "      <td>29</td>\n",
       "      <td>star wars</td>\n",
       "      <td>1977</td>\n",
       "      <td>Action, Adventure, Fantasy</td>\n",
       "    </tr>\n",
       "    <tr>\n",
       "      <th>30</th>\n",
       "      <td>30</td>\n",
       "      <td>seppuku</td>\n",
       "      <td>1962</td>\n",
       "      <td>Action, Drama, Mystery</td>\n",
       "    </tr>\n",
       "    <tr>\n",
       "      <th>31</th>\n",
       "      <td>31</td>\n",
       "      <td>shichinin no samurai</td>\n",
       "      <td>1954</td>\n",
       "      <td>Action, Adventure, Drama</td>\n",
       "    </tr>\n",
       "    <tr>\n",
       "      <th>32</th>\n",
       "      <td>32</td>\n",
       "      <td>it's a wonderful life</td>\n",
       "      <td>1946</td>\n",
       "      <td>Drama, Family, Fantasy</td>\n",
       "    </tr>\n",
       "    <tr>\n",
       "      <th>33</th>\n",
       "      <td>33</td>\n",
       "      <td>joker</td>\n",
       "      <td>2019</td>\n",
       "      <td>Crime, Drama, Thriller</td>\n",
       "    </tr>\n",
       "    <tr>\n",
       "      <th>34</th>\n",
       "      <td>34</td>\n",
       "      <td>whiplash</td>\n",
       "      <td>2014</td>\n",
       "      <td>Drama, Music</td>\n",
       "    </tr>\n",
       "    <tr>\n",
       "      <th>35</th>\n",
       "      <td>35</td>\n",
       "      <td>the intouchables</td>\n",
       "      <td>2011</td>\n",
       "      <td>Biography, Comedy, Drama</td>\n",
       "    </tr>\n",
       "    <tr>\n",
       "      <th>36</th>\n",
       "      <td>36</td>\n",
       "      <td>the prestige</td>\n",
       "      <td>2006</td>\n",
       "      <td>Drama, Mystery, Sci-Fi</td>\n",
       "    </tr>\n",
       "    <tr>\n",
       "      <th>37</th>\n",
       "      <td>37</td>\n",
       "      <td>the departed</td>\n",
       "      <td>2006</td>\n",
       "      <td>Crime, Drama, Thriller</td>\n",
       "    </tr>\n",
       "    <tr>\n",
       "      <th>38</th>\n",
       "      <td>38</td>\n",
       "      <td>the pianist</td>\n",
       "      <td>2002</td>\n",
       "      <td>Biography, Drama, Music</td>\n",
       "    </tr>\n",
       "    <tr>\n",
       "      <th>39</th>\n",
       "      <td>39</td>\n",
       "      <td>gladiator</td>\n",
       "      <td>2000</td>\n",
       "      <td>Action, Adventure, Drama</td>\n",
       "    </tr>\n",
       "  </tbody>\n",
       "</table>\n",
       "</div>"
      ],
      "text/plain": [
       "    movieId                                              title  year  \\\n",
       "0         0                           the shawshank redemption  1994   \n",
       "1         1                                      the godfather  1972   \n",
       "2         2                                    the dark knight  2008   \n",
       "3         3                             the godfather: part ii  1974   \n",
       "4         4                                       12 angry men  1957   \n",
       "5         5      the lord of the rings: the return of the king  2003   \n",
       "6         6                                       pulp fiction  1994   \n",
       "7         7                                   schindler's list  1993   \n",
       "8         8                                          inception  2010   \n",
       "9         9                                         fight club  1999   \n",
       "10       10  the lord of the rings: the fellowship of the ring  2001   \n",
       "11       11                                       forrest gump  1994   \n",
       "12       12                    il buono, il brutto, il cattivo  1966   \n",
       "13       13              the lord of the rings: the two towers  2002   \n",
       "14       14                                         the matrix  1999   \n",
       "15       15                                         goodfellas  1990   \n",
       "16       16     star wars: episode v - the empire strikes back  1980   \n",
       "17       17                    one flew over the cuckoo's nest  1975   \n",
       "18       18                                           hamilton  2020   \n",
       "19       19                                       gisaengchung  2019   \n",
       "20       20                                    soorarai pottru  2020   \n",
       "21       21                                       interstellar  2014   \n",
       "22       22                                     cidade de deus  2002   \n",
       "23       23                      sen to chihiro no kamikakushi  2001   \n",
       "24       24                                saving private ryan  1998   \n",
       "25       25                                     the green mile  1999   \n",
       "26       26                                    la vita è bella  1997   \n",
       "27       27                                              se7en  1995   \n",
       "28       28                           the silence of the lambs  1991   \n",
       "29       29                                          star wars  1977   \n",
       "30       30                                            seppuku  1962   \n",
       "31       31                               shichinin no samurai  1954   \n",
       "32       32                              it's a wonderful life  1946   \n",
       "33       33                                              joker  2019   \n",
       "34       34                                           whiplash  2014   \n",
       "35       35                                   the intouchables  2011   \n",
       "36       36                                       the prestige  2006   \n",
       "37       37                                       the departed  2006   \n",
       "38       38                                        the pianist  2002   \n",
       "39       39                                          gladiator  2000   \n",
       "\n",
       "                          genres  \n",
       "0                          Drama  \n",
       "1                   Crime, Drama  \n",
       "2           Action, Crime, Drama  \n",
       "3                   Crime, Drama  \n",
       "4                   Crime, Drama  \n",
       "5       Action, Adventure, Drama  \n",
       "6                   Crime, Drama  \n",
       "7      Biography, Drama, History  \n",
       "8      Action, Adventure, Sci-Fi  \n",
       "9                          Drama  \n",
       "10      Action, Adventure, Drama  \n",
       "11                Drama, Romance  \n",
       "12                       Western  \n",
       "13      Action, Adventure, Drama  \n",
       "14                Action, Sci-Fi  \n",
       "15       Biography, Crime, Drama  \n",
       "16    Action, Adventure, Fantasy  \n",
       "17                         Drama  \n",
       "18     Biography, Drama, History  \n",
       "19       Comedy, Drama, Thriller  \n",
       "20                         Drama  \n",
       "21      Adventure, Drama, Sci-Fi  \n",
       "22                  Crime, Drama  \n",
       "23  Animation, Adventure, Family  \n",
       "24                    Drama, War  \n",
       "25         Crime, Drama, Fantasy  \n",
       "26        Comedy, Drama, Romance  \n",
       "27         Crime, Drama, Mystery  \n",
       "28        Crime, Drama, Thriller  \n",
       "29    Action, Adventure, Fantasy  \n",
       "30        Action, Drama, Mystery  \n",
       "31      Action, Adventure, Drama  \n",
       "32        Drama, Family, Fantasy  \n",
       "33        Crime, Drama, Thriller  \n",
       "34                  Drama, Music  \n",
       "35      Biography, Comedy, Drama  \n",
       "36        Drama, Mystery, Sci-Fi  \n",
       "37        Crime, Drama, Thriller  \n",
       "38       Biography, Drama, Music  \n",
       "39      Action, Adventure, Drama  "
      ]
     },
     "execution_count": 727,
     "metadata": {},
     "output_type": "execute_result"
    }
   ],
   "source": [
    "imdb_40.head(40)"
   ]
  },
  {
   "cell_type": "code",
   "execution_count": 709,
   "id": "1d019a2f-b977-4904-bbdc-d96aa5056de6",
   "metadata": {},
   "outputs": [
    {
     "data": {
      "text/plain": [
       "40"
      ]
     },
     "execution_count": 709,
     "metadata": {},
     "output_type": "execute_result"
    }
   ],
   "source": [
    "len(imdb_40)"
   ]
  },
  {
   "cell_type": "code",
   "execution_count": 731,
   "id": "6fbed9ea-7993-4bbc-a0f3-742698a9fe93",
   "metadata": {},
   "outputs": [],
   "source": [
    "imdb_40.to_csv(path + 'imdb_40.csv')"
   ]
  },
  {
   "cell_type": "code",
   "execution_count": 732,
   "id": "2b97fe44-3425-46bc-868f-c783ace5b745",
   "metadata": {},
   "outputs": [],
   "source": [
    "import openpyxl\n",
    "imdb_40.to_excel(path + 'imdb_40.xlsx')"
   ]
  },
  {
   "cell_type": "markdown",
   "id": "af9d12cf-ac80-4d11-aadb-90025cda64be",
   "metadata": {},
   "source": [
    "### 2. Comparison between movieLens and IMDB"
   ]
  },
  {
   "cell_type": "markdown",
   "id": "0d4afe83-2ae3-46fa-96e4-be40013c6fc0",
   "metadata": {},
   "source": [
    "#### 2-1. Between movieLens and IMDB"
   ]
  },
  {
   "cell_type": "code",
   "execution_count": 712,
   "id": "d5f4e92c-66a6-497e-887d-12578c1b55ee",
   "metadata": {
    "tags": []
   },
   "outputs": [
    {
     "name": "stdout",
     "output_type": "stream",
     "text": [
      "58444\n"
     ]
    }
   ],
   "source": [
    "set_movielens = set(movielens_df.title) \n",
    "print(len(set_movielens))"
   ]
  },
  {
   "cell_type": "code",
   "execution_count": 713,
   "id": "cad46c4b-267b-4dda-9d88-27336c2883d2",
   "metadata": {
    "tags": []
   },
   "outputs": [
    {
     "name": "stdout",
     "output_type": "stream",
     "text": [
      "999\n"
     ]
    }
   ],
   "source": [
    "set_imdb = set(imdb_df.title)\n",
    "print(len(set_imdb))"
   ]
  },
  {
   "cell_type": "code",
   "execution_count": 714,
   "id": "6f14470c-2f1d-48b7-a814-c86e71bddfb8",
   "metadata": {},
   "outputs": [
    {
     "name": "stdout",
     "output_type": "stream",
     "text": [
      "981\n"
     ]
    }
   ],
   "source": [
    "difference_movies = set_imdb - set_movielens\n",
    "print(len(difference_movies))"
   ]
  },
  {
   "cell_type": "code",
   "execution_count": 715,
   "id": "fd5b5950-d718-4d49-9319-b52ac1a25ef6",
   "metadata": {},
   "outputs": [
    {
     "name": "stdout",
     "output_type": "stream",
     "text": [
      "18\n"
     ]
    }
   ],
   "source": [
    "intersection_movies = set_imdb.intersection(set_movielens)\n",
    "print(len(intersection_movies))"
   ]
  },
  {
   "cell_type": "markdown",
   "id": "4ea87250-b1c7-449d-8dce-497809ee7432",
   "metadata": {},
   "source": [
    "#### 2-2. Between movieLens and IMDB_top_40"
   ]
  },
  {
   "cell_type": "code",
   "execution_count": 716,
   "id": "38a601d0-ceb3-4834-b0b1-6dc2d2f9e16e",
   "metadata": {},
   "outputs": [
    {
     "name": "stdout",
     "output_type": "stream",
     "text": [
      "40\n"
     ]
    }
   ],
   "source": [
    "set_imdb = set(imdb_40.title)\n",
    "print(len(set_imdb))"
   ]
  },
  {
   "cell_type": "code",
   "execution_count": 717,
   "id": "cd1ce0a2-0ae9-46bd-a245-ac39fcd7a2f5",
   "metadata": {},
   "outputs": [
    {
     "name": "stdout",
     "output_type": "stream",
     "text": [
      "24\n"
     ]
    }
   ],
   "source": [
    "difference_movies = set_imdb - set_movielens\n",
    "print(len(difference_movies))"
   ]
  },
  {
   "cell_type": "code",
   "execution_count": 718,
   "id": "0c8af271-e9dc-4e10-abce-9d4c5cedd34e",
   "metadata": {},
   "outputs": [
    {
     "name": "stdout",
     "output_type": "stream",
     "text": [
      "16\n"
     ]
    }
   ],
   "source": [
    "intersection_movies = set_imdb.intersection(set_movielens)\n",
    "print(len(intersection_movies))"
   ]
  },
  {
   "cell_type": "code",
   "execution_count": 719,
   "id": "7d28b884-256d-4202-9d40-d096f3aa5e65",
   "metadata": {},
   "outputs": [
    {
     "data": {
      "text/plain": [
       "{'12 angry men',\n",
       " 'fight club',\n",
       " 'forrest gump',\n",
       " 'gladiator',\n",
       " 'goodfellas',\n",
       " 'inception',\n",
       " 'interstellar',\n",
       " \"it's a wonderful life\",\n",
       " 'joker',\n",
       " \"one flew over the cuckoo's nest\",\n",
       " 'pulp fiction',\n",
       " 'saving private ryan',\n",
       " \"schindler's list\",\n",
       " 'star wars: episode v - the empire strikes back',\n",
       " 'the dark knight',\n",
       " 'whiplash'}"
      ]
     },
     "execution_count": 719,
     "metadata": {},
     "output_type": "execute_result"
    }
   ],
   "source": [
    "intersection_movies"
   ]
  },
  {
   "cell_type": "code",
   "execution_count": 720,
   "id": "2a7400dd-053d-4af0-ad1b-f1ac7ab5e1ad",
   "metadata": {},
   "outputs": [
    {
     "data": {
      "text/plain": [
       "{'cidade de deus',\n",
       " 'gisaengchung',\n",
       " 'hamilton',\n",
       " 'il buono, il brutto, il cattivo',\n",
       " 'la vita è bella',\n",
       " 'se7en',\n",
       " 'sen to chihiro no kamikakushi',\n",
       " 'seppuku',\n",
       " 'shichinin no samurai',\n",
       " 'soorarai pottru',\n",
       " 'star wars',\n",
       " 'the departed',\n",
       " 'the godfather',\n",
       " 'the godfather: part ii',\n",
       " 'the green mile',\n",
       " 'the intouchables',\n",
       " 'the lord of the rings: the fellowship of the ring',\n",
       " 'the lord of the rings: the return of the king',\n",
       " 'the lord of the rings: the two towers',\n",
       " 'the matrix',\n",
       " 'the pianist',\n",
       " 'the prestige',\n",
       " 'the shawshank redemption',\n",
       " 'the silence of the lambs'}"
      ]
     },
     "execution_count": 720,
     "metadata": {},
     "output_type": "execute_result"
    }
   ],
   "source": [
    "difference_movies"
   ]
  },
  {
   "cell_type": "markdown",
   "id": "c7985930-e3cb-416e-b3e6-2a69aa482d65",
   "metadata": {},
   "source": [
    "- 동일한 제목의 imdb 영화"
   ]
  },
  {
   "cell_type": "code",
   "execution_count": 721,
   "id": "f294b5ab-f575-4163-95e0-583f7b64f626",
   "metadata": {},
   "outputs": [
    {
     "data": {
      "text/html": [
       "<div>\n",
       "<style scoped>\n",
       "    .dataframe tbody tr th:only-of-type {\n",
       "        vertical-align: middle;\n",
       "    }\n",
       "\n",
       "    .dataframe tbody tr th {\n",
       "        vertical-align: top;\n",
       "    }\n",
       "\n",
       "    .dataframe thead th {\n",
       "        text-align: right;\n",
       "    }\n",
       "</style>\n",
       "<table border=\"1\" class=\"dataframe\">\n",
       "  <thead>\n",
       "    <tr style=\"text-align: right;\">\n",
       "      <th></th>\n",
       "      <th>movieId</th>\n",
       "      <th>title</th>\n",
       "      <th>year</th>\n",
       "      <th>genres</th>\n",
       "    </tr>\n",
       "  </thead>\n",
       "  <tbody>\n",
       "    <tr>\n",
       "      <th>2</th>\n",
       "      <td>2</td>\n",
       "      <td>the dark knight</td>\n",
       "      <td>2008</td>\n",
       "      <td>Action, Crime, Drama</td>\n",
       "    </tr>\n",
       "    <tr>\n",
       "      <th>4</th>\n",
       "      <td>4</td>\n",
       "      <td>12 angry men</td>\n",
       "      <td>1957</td>\n",
       "      <td>Crime, Drama</td>\n",
       "    </tr>\n",
       "    <tr>\n",
       "      <th>6</th>\n",
       "      <td>6</td>\n",
       "      <td>pulp fiction</td>\n",
       "      <td>1994</td>\n",
       "      <td>Crime, Drama</td>\n",
       "    </tr>\n",
       "    <tr>\n",
       "      <th>7</th>\n",
       "      <td>7</td>\n",
       "      <td>schindler's list</td>\n",
       "      <td>1993</td>\n",
       "      <td>Biography, Drama, History</td>\n",
       "    </tr>\n",
       "    <tr>\n",
       "      <th>8</th>\n",
       "      <td>8</td>\n",
       "      <td>inception</td>\n",
       "      <td>2010</td>\n",
       "      <td>Action, Adventure, Sci-Fi</td>\n",
       "    </tr>\n",
       "    <tr>\n",
       "      <th>9</th>\n",
       "      <td>9</td>\n",
       "      <td>fight club</td>\n",
       "      <td>1999</td>\n",
       "      <td>Drama</td>\n",
       "    </tr>\n",
       "    <tr>\n",
       "      <th>11</th>\n",
       "      <td>11</td>\n",
       "      <td>forrest gump</td>\n",
       "      <td>1994</td>\n",
       "      <td>Drama, Romance</td>\n",
       "    </tr>\n",
       "    <tr>\n",
       "      <th>15</th>\n",
       "      <td>15</td>\n",
       "      <td>goodfellas</td>\n",
       "      <td>1990</td>\n",
       "      <td>Biography, Crime, Drama</td>\n",
       "    </tr>\n",
       "    <tr>\n",
       "      <th>16</th>\n",
       "      <td>16</td>\n",
       "      <td>star wars: episode v - the empire strikes back</td>\n",
       "      <td>1980</td>\n",
       "      <td>Action, Adventure, Fantasy</td>\n",
       "    </tr>\n",
       "    <tr>\n",
       "      <th>17</th>\n",
       "      <td>17</td>\n",
       "      <td>one flew over the cuckoo's nest</td>\n",
       "      <td>1975</td>\n",
       "      <td>Drama</td>\n",
       "    </tr>\n",
       "    <tr>\n",
       "      <th>21</th>\n",
       "      <td>21</td>\n",
       "      <td>interstellar</td>\n",
       "      <td>2014</td>\n",
       "      <td>Adventure, Drama, Sci-Fi</td>\n",
       "    </tr>\n",
       "    <tr>\n",
       "      <th>24</th>\n",
       "      <td>24</td>\n",
       "      <td>saving private ryan</td>\n",
       "      <td>1998</td>\n",
       "      <td>Drama, War</td>\n",
       "    </tr>\n",
       "    <tr>\n",
       "      <th>32</th>\n",
       "      <td>32</td>\n",
       "      <td>it's a wonderful life</td>\n",
       "      <td>1946</td>\n",
       "      <td>Drama, Family, Fantasy</td>\n",
       "    </tr>\n",
       "    <tr>\n",
       "      <th>33</th>\n",
       "      <td>33</td>\n",
       "      <td>joker</td>\n",
       "      <td>2019</td>\n",
       "      <td>Crime, Drama, Thriller</td>\n",
       "    </tr>\n",
       "    <tr>\n",
       "      <th>34</th>\n",
       "      <td>34</td>\n",
       "      <td>whiplash</td>\n",
       "      <td>2014</td>\n",
       "      <td>Drama, Music</td>\n",
       "    </tr>\n",
       "    <tr>\n",
       "      <th>39</th>\n",
       "      <td>39</td>\n",
       "      <td>gladiator</td>\n",
       "      <td>2000</td>\n",
       "      <td>Action, Adventure, Drama</td>\n",
       "    </tr>\n",
       "  </tbody>\n",
       "</table>\n",
       "</div>"
      ],
      "text/plain": [
       "    movieId                                           title  year  \\\n",
       "2         2                                 the dark knight  2008   \n",
       "4         4                                    12 angry men  1957   \n",
       "6         6                                    pulp fiction  1994   \n",
       "7         7                                schindler's list  1993   \n",
       "8         8                                       inception  2010   \n",
       "9         9                                      fight club  1999   \n",
       "11       11                                    forrest gump  1994   \n",
       "15       15                                      goodfellas  1990   \n",
       "16       16  star wars: episode v - the empire strikes back  1980   \n",
       "17       17                 one flew over the cuckoo's nest  1975   \n",
       "21       21                                    interstellar  2014   \n",
       "24       24                             saving private ryan  1998   \n",
       "32       32                           it's a wonderful life  1946   \n",
       "33       33                                           joker  2019   \n",
       "34       34                                        whiplash  2014   \n",
       "39       39                                       gladiator  2000   \n",
       "\n",
       "                        genres  \n",
       "2         Action, Crime, Drama  \n",
       "4                 Crime, Drama  \n",
       "6                 Crime, Drama  \n",
       "7    Biography, Drama, History  \n",
       "8    Action, Adventure, Sci-Fi  \n",
       "9                        Drama  \n",
       "11              Drama, Romance  \n",
       "15     Biography, Crime, Drama  \n",
       "16  Action, Adventure, Fantasy  \n",
       "17                       Drama  \n",
       "21    Adventure, Drama, Sci-Fi  \n",
       "24                  Drama, War  \n",
       "32      Drama, Family, Fantasy  \n",
       "33      Crime, Drama, Thriller  \n",
       "34                Drama, Music  \n",
       "39    Action, Adventure, Drama  "
      ]
     },
     "execution_count": 721,
     "metadata": {},
     "output_type": "execute_result"
    }
   ],
   "source": [
    "imdb_40[imdb_40['title'].isin(intersection_movies)]"
   ]
  },
  {
   "cell_type": "code",
   "execution_count": 725,
   "id": "1c473992-9def-4b64-a274-c79a4e0c56a5",
   "metadata": {},
   "outputs": [
    {
     "data": {
      "text/html": [
       "<div>\n",
       "<style scoped>\n",
       "    .dataframe tbody tr th:only-of-type {\n",
       "        vertical-align: middle;\n",
       "    }\n",
       "\n",
       "    .dataframe tbody tr th {\n",
       "        vertical-align: top;\n",
       "    }\n",
       "\n",
       "    .dataframe thead th {\n",
       "        text-align: right;\n",
       "    }\n",
       "</style>\n",
       "<table border=\"1\" class=\"dataframe\">\n",
       "  <thead>\n",
       "    <tr style=\"text-align: right;\">\n",
       "      <th></th>\n",
       "      <th>movieId</th>\n",
       "      <th>title</th>\n",
       "      <th>year</th>\n",
       "      <th>genres</th>\n",
       "    </tr>\n",
       "  </thead>\n",
       "  <tbody>\n",
       "    <tr>\n",
       "      <th>292</th>\n",
       "      <td>296</td>\n",
       "      <td>pulp fiction</td>\n",
       "      <td>1994</td>\n",
       "      <td>Comedy|Crime|Drama|Thriller</td>\n",
       "    </tr>\n",
       "    <tr>\n",
       "      <th>351</th>\n",
       "      <td>356</td>\n",
       "      <td>forrest gump</td>\n",
       "      <td>1994</td>\n",
       "      <td>Comedy|Drama|Romance|War</td>\n",
       "    </tr>\n",
       "    <tr>\n",
       "      <th>522</th>\n",
       "      <td>527</td>\n",
       "      <td>schindler's list</td>\n",
       "      <td>1993</td>\n",
       "      <td>Drama|War</td>\n",
       "    </tr>\n",
       "    <tr>\n",
       "      <th>932</th>\n",
       "      <td>953</td>\n",
       "      <td>it's a wonderful life</td>\n",
       "      <td>1946</td>\n",
       "      <td>Children|Drama|Fantasy|Romance</td>\n",
       "    </tr>\n",
       "    <tr>\n",
       "      <th>1164</th>\n",
       "      <td>1193</td>\n",
       "      <td>one flew over the cuckoo's nest</td>\n",
       "      <td>1975</td>\n",
       "      <td>Drama</td>\n",
       "    </tr>\n",
       "    <tr>\n",
       "      <th>1166</th>\n",
       "      <td>1196</td>\n",
       "      <td>star wars: episode v - the empire strikes back</td>\n",
       "      <td>1980</td>\n",
       "      <td>Action|Adventure|Sci-Fi</td>\n",
       "    </tr>\n",
       "    <tr>\n",
       "      <th>1173</th>\n",
       "      <td>1203</td>\n",
       "      <td>12 angry men</td>\n",
       "      <td>1957</td>\n",
       "      <td>Drama</td>\n",
       "    </tr>\n",
       "    <tr>\n",
       "      <th>1182</th>\n",
       "      <td>1213</td>\n",
       "      <td>goodfellas</td>\n",
       "      <td>1990</td>\n",
       "      <td>Crime|Drama</td>\n",
       "    </tr>\n",
       "    <tr>\n",
       "      <th>1939</th>\n",
       "      <td>2028</td>\n",
       "      <td>saving private ryan</td>\n",
       "      <td>1998</td>\n",
       "      <td>Action|Drama|War</td>\n",
       "    </tr>\n",
       "    <tr>\n",
       "      <th>2867</th>\n",
       "      <td>2959</td>\n",
       "      <td>fight club</td>\n",
       "      <td>1999</td>\n",
       "      <td>Action|Crime|Drama|Thriller</td>\n",
       "    </tr>\n",
       "    <tr>\n",
       "      <th>3479</th>\n",
       "      <td>3578</td>\n",
       "      <td>gladiator</td>\n",
       "      <td>2000</td>\n",
       "      <td>Action|Adventure|Drama</td>\n",
       "    </tr>\n",
       "    <tr>\n",
       "      <th>7638</th>\n",
       "      <td>8132</td>\n",
       "      <td>gladiator</td>\n",
       "      <td>1992</td>\n",
       "      <td>Action|Drama</td>\n",
       "    </tr>\n",
       "    <tr>\n",
       "      <th>14675</th>\n",
       "      <td>77846</td>\n",
       "      <td>12 angry men</td>\n",
       "      <td>1997</td>\n",
       "      <td>Crime|Drama</td>\n",
       "    </tr>\n",
       "    <tr>\n",
       "      <th>14937</th>\n",
       "      <td>79132</td>\n",
       "      <td>inception</td>\n",
       "      <td>2010</td>\n",
       "      <td>Action|Crime|Drama|Mystery|Sci-Fi|Thriller|IMAX</td>\n",
       "    </tr>\n",
       "    <tr>\n",
       "      <th>19995</th>\n",
       "      <td>103671</td>\n",
       "      <td>joker</td>\n",
       "      <td>2012</td>\n",
       "      <td>Comedy</td>\n",
       "    </tr>\n",
       "    <tr>\n",
       "      <th>21199</th>\n",
       "      <td>109487</td>\n",
       "      <td>interstellar</td>\n",
       "      <td>2014</td>\n",
       "      <td>Sci-Fi|IMAX</td>\n",
       "    </tr>\n",
       "    <tr>\n",
       "      <th>21857</th>\n",
       "      <td>112552</td>\n",
       "      <td>whiplash</td>\n",
       "      <td>2014</td>\n",
       "      <td>Drama</td>\n",
       "    </tr>\n",
       "    <tr>\n",
       "      <th>27811</th>\n",
       "      <td>130219</td>\n",
       "      <td>the dark knight</td>\n",
       "      <td>2011</td>\n",
       "      <td>Action|Crime|Drama|Thriller</td>\n",
       "    </tr>\n",
       "    <tr>\n",
       "      <th>29812</th>\n",
       "      <td>134771</td>\n",
       "      <td>whiplash</td>\n",
       "      <td>1948</td>\n",
       "      <td>Drama</td>\n",
       "    </tr>\n",
       "    <tr>\n",
       "      <th>43443</th>\n",
       "      <td>166024</td>\n",
       "      <td>whiplash</td>\n",
       "      <td>2013</td>\n",
       "      <td>(no genres listed)</td>\n",
       "    </tr>\n",
       "    <tr>\n",
       "      <th>61005</th>\n",
       "      <td>204698</td>\n",
       "      <td>joker</td>\n",
       "      <td>2019</td>\n",
       "      <td>Crime|Drama|Thriller</td>\n",
       "    </tr>\n",
       "  </tbody>\n",
       "</table>\n",
       "</div>"
      ],
      "text/plain": [
       "       movieId                                           title  year  \\\n",
       "292        296                                    pulp fiction  1994   \n",
       "351        356                                    forrest gump  1994   \n",
       "522        527                                schindler's list  1993   \n",
       "932        953                           it's a wonderful life  1946   \n",
       "1164      1193                 one flew over the cuckoo's nest  1975   \n",
       "1166      1196  star wars: episode v - the empire strikes back  1980   \n",
       "1173      1203                                    12 angry men  1957   \n",
       "1182      1213                                      goodfellas  1990   \n",
       "1939      2028                             saving private ryan  1998   \n",
       "2867      2959                                      fight club  1999   \n",
       "3479      3578                                       gladiator  2000   \n",
       "7638      8132                                       gladiator  1992   \n",
       "14675    77846                                    12 angry men  1997   \n",
       "14937    79132                                       inception  2010   \n",
       "19995   103671                                           joker  2012   \n",
       "21199   109487                                    interstellar  2014   \n",
       "21857   112552                                        whiplash  2014   \n",
       "27811   130219                                 the dark knight  2011   \n",
       "29812   134771                                        whiplash  1948   \n",
       "43443   166024                                        whiplash  2013   \n",
       "61005   204698                                           joker  2019   \n",
       "\n",
       "                                                genres  \n",
       "292                        Comedy|Crime|Drama|Thriller  \n",
       "351                           Comedy|Drama|Romance|War  \n",
       "522                                          Drama|War  \n",
       "932                     Children|Drama|Fantasy|Romance  \n",
       "1164                                             Drama  \n",
       "1166                           Action|Adventure|Sci-Fi  \n",
       "1173                                             Drama  \n",
       "1182                                       Crime|Drama  \n",
       "1939                                  Action|Drama|War  \n",
       "2867                       Action|Crime|Drama|Thriller  \n",
       "3479                            Action|Adventure|Drama  \n",
       "7638                                      Action|Drama  \n",
       "14675                                      Crime|Drama  \n",
       "14937  Action|Crime|Drama|Mystery|Sci-Fi|Thriller|IMAX  \n",
       "19995                                           Comedy  \n",
       "21199                                      Sci-Fi|IMAX  \n",
       "21857                                            Drama  \n",
       "27811                      Action|Crime|Drama|Thriller  \n",
       "29812                                            Drama  \n",
       "43443                               (no genres listed)  \n",
       "61005                             Crime|Drama|Thriller  "
      ]
     },
     "execution_count": 725,
     "metadata": {},
     "output_type": "execute_result"
    }
   ],
   "source": [
    "movielens_df[movielens_df['title'].isin(intersection_movies)]"
   ]
  },
  {
   "cell_type": "code",
   "execution_count": 726,
   "id": "823cfb7d-4b15-446e-b834-ed097ceb1b91",
   "metadata": {},
   "outputs": [
    {
     "data": {
      "text/html": [
       "<div>\n",
       "<style scoped>\n",
       "    .dataframe tbody tr th:only-of-type {\n",
       "        vertical-align: middle;\n",
       "    }\n",
       "\n",
       "    .dataframe tbody tr th {\n",
       "        vertical-align: top;\n",
       "    }\n",
       "\n",
       "    .dataframe thead th {\n",
       "        text-align: right;\n",
       "    }\n",
       "</style>\n",
       "<table border=\"1\" class=\"dataframe\">\n",
       "  <thead>\n",
       "    <tr style=\"text-align: right;\">\n",
       "      <th></th>\n",
       "      <th>movieId</th>\n",
       "      <th>title</th>\n",
       "      <th>year</th>\n",
       "      <th>genres</th>\n",
       "    </tr>\n",
       "  </thead>\n",
       "  <tbody>\n",
       "    <tr>\n",
       "      <th>0</th>\n",
       "      <td>0</td>\n",
       "      <td>the shawshank redemption</td>\n",
       "      <td>1994</td>\n",
       "      <td>Drama</td>\n",
       "    </tr>\n",
       "    <tr>\n",
       "      <th>1</th>\n",
       "      <td>1</td>\n",
       "      <td>the godfather</td>\n",
       "      <td>1972</td>\n",
       "      <td>Crime, Drama</td>\n",
       "    </tr>\n",
       "    <tr>\n",
       "      <th>3</th>\n",
       "      <td>3</td>\n",
       "      <td>the godfather: part ii</td>\n",
       "      <td>1974</td>\n",
       "      <td>Crime, Drama</td>\n",
       "    </tr>\n",
       "    <tr>\n",
       "      <th>5</th>\n",
       "      <td>5</td>\n",
       "      <td>the lord of the rings: the return of the king</td>\n",
       "      <td>2003</td>\n",
       "      <td>Action, Adventure, Drama</td>\n",
       "    </tr>\n",
       "    <tr>\n",
       "      <th>10</th>\n",
       "      <td>10</td>\n",
       "      <td>the lord of the rings: the fellowship of the ring</td>\n",
       "      <td>2001</td>\n",
       "      <td>Action, Adventure, Drama</td>\n",
       "    </tr>\n",
       "    <tr>\n",
       "      <th>12</th>\n",
       "      <td>12</td>\n",
       "      <td>il buono, il brutto, il cattivo</td>\n",
       "      <td>1966</td>\n",
       "      <td>Western</td>\n",
       "    </tr>\n",
       "    <tr>\n",
       "      <th>13</th>\n",
       "      <td>13</td>\n",
       "      <td>the lord of the rings: the two towers</td>\n",
       "      <td>2002</td>\n",
       "      <td>Action, Adventure, Drama</td>\n",
       "    </tr>\n",
       "    <tr>\n",
       "      <th>14</th>\n",
       "      <td>14</td>\n",
       "      <td>the matrix</td>\n",
       "      <td>1999</td>\n",
       "      <td>Action, Sci-Fi</td>\n",
       "    </tr>\n",
       "    <tr>\n",
       "      <th>18</th>\n",
       "      <td>18</td>\n",
       "      <td>hamilton</td>\n",
       "      <td>2020</td>\n",
       "      <td>Biography, Drama, History</td>\n",
       "    </tr>\n",
       "    <tr>\n",
       "      <th>19</th>\n",
       "      <td>19</td>\n",
       "      <td>gisaengchung</td>\n",
       "      <td>2019</td>\n",
       "      <td>Comedy, Drama, Thriller</td>\n",
       "    </tr>\n",
       "    <tr>\n",
       "      <th>20</th>\n",
       "      <td>20</td>\n",
       "      <td>soorarai pottru</td>\n",
       "      <td>2020</td>\n",
       "      <td>Drama</td>\n",
       "    </tr>\n",
       "    <tr>\n",
       "      <th>22</th>\n",
       "      <td>22</td>\n",
       "      <td>cidade de deus</td>\n",
       "      <td>2002</td>\n",
       "      <td>Crime, Drama</td>\n",
       "    </tr>\n",
       "    <tr>\n",
       "      <th>23</th>\n",
       "      <td>23</td>\n",
       "      <td>sen to chihiro no kamikakushi</td>\n",
       "      <td>2001</td>\n",
       "      <td>Animation, Adventure, Family</td>\n",
       "    </tr>\n",
       "    <tr>\n",
       "      <th>25</th>\n",
       "      <td>25</td>\n",
       "      <td>the green mile</td>\n",
       "      <td>1999</td>\n",
       "      <td>Crime, Drama, Fantasy</td>\n",
       "    </tr>\n",
       "    <tr>\n",
       "      <th>26</th>\n",
       "      <td>26</td>\n",
       "      <td>la vita è bella</td>\n",
       "      <td>1997</td>\n",
       "      <td>Comedy, Drama, Romance</td>\n",
       "    </tr>\n",
       "    <tr>\n",
       "      <th>27</th>\n",
       "      <td>27</td>\n",
       "      <td>se7en</td>\n",
       "      <td>1995</td>\n",
       "      <td>Crime, Drama, Mystery</td>\n",
       "    </tr>\n",
       "    <tr>\n",
       "      <th>28</th>\n",
       "      <td>28</td>\n",
       "      <td>the silence of the lambs</td>\n",
       "      <td>1991</td>\n",
       "      <td>Crime, Drama, Thriller</td>\n",
       "    </tr>\n",
       "    <tr>\n",
       "      <th>29</th>\n",
       "      <td>29</td>\n",
       "      <td>star wars</td>\n",
       "      <td>1977</td>\n",
       "      <td>Action, Adventure, Fantasy</td>\n",
       "    </tr>\n",
       "    <tr>\n",
       "      <th>30</th>\n",
       "      <td>30</td>\n",
       "      <td>seppuku</td>\n",
       "      <td>1962</td>\n",
       "      <td>Action, Drama, Mystery</td>\n",
       "    </tr>\n",
       "    <tr>\n",
       "      <th>31</th>\n",
       "      <td>31</td>\n",
       "      <td>shichinin no samurai</td>\n",
       "      <td>1954</td>\n",
       "      <td>Action, Adventure, Drama</td>\n",
       "    </tr>\n",
       "    <tr>\n",
       "      <th>35</th>\n",
       "      <td>35</td>\n",
       "      <td>the intouchables</td>\n",
       "      <td>2011</td>\n",
       "      <td>Biography, Comedy, Drama</td>\n",
       "    </tr>\n",
       "    <tr>\n",
       "      <th>36</th>\n",
       "      <td>36</td>\n",
       "      <td>the prestige</td>\n",
       "      <td>2006</td>\n",
       "      <td>Drama, Mystery, Sci-Fi</td>\n",
       "    </tr>\n",
       "    <tr>\n",
       "      <th>37</th>\n",
       "      <td>37</td>\n",
       "      <td>the departed</td>\n",
       "      <td>2006</td>\n",
       "      <td>Crime, Drama, Thriller</td>\n",
       "    </tr>\n",
       "    <tr>\n",
       "      <th>38</th>\n",
       "      <td>38</td>\n",
       "      <td>the pianist</td>\n",
       "      <td>2002</td>\n",
       "      <td>Biography, Drama, Music</td>\n",
       "    </tr>\n",
       "  </tbody>\n",
       "</table>\n",
       "</div>"
      ],
      "text/plain": [
       "    movieId                                              title  year  \\\n",
       "0         0                           the shawshank redemption  1994   \n",
       "1         1                                      the godfather  1972   \n",
       "3         3                             the godfather: part ii  1974   \n",
       "5         5      the lord of the rings: the return of the king  2003   \n",
       "10       10  the lord of the rings: the fellowship of the ring  2001   \n",
       "12       12                    il buono, il brutto, il cattivo  1966   \n",
       "13       13              the lord of the rings: the two towers  2002   \n",
       "14       14                                         the matrix  1999   \n",
       "18       18                                           hamilton  2020   \n",
       "19       19                                       gisaengchung  2019   \n",
       "20       20                                    soorarai pottru  2020   \n",
       "22       22                                     cidade de deus  2002   \n",
       "23       23                      sen to chihiro no kamikakushi  2001   \n",
       "25       25                                     the green mile  1999   \n",
       "26       26                                    la vita è bella  1997   \n",
       "27       27                                              se7en  1995   \n",
       "28       28                           the silence of the lambs  1991   \n",
       "29       29                                          star wars  1977   \n",
       "30       30                                            seppuku  1962   \n",
       "31       31                               shichinin no samurai  1954   \n",
       "35       35                                   the intouchables  2011   \n",
       "36       36                                       the prestige  2006   \n",
       "37       37                                       the departed  2006   \n",
       "38       38                                        the pianist  2002   \n",
       "\n",
       "                          genres  \n",
       "0                          Drama  \n",
       "1                   Crime, Drama  \n",
       "3                   Crime, Drama  \n",
       "5       Action, Adventure, Drama  \n",
       "10      Action, Adventure, Drama  \n",
       "12                       Western  \n",
       "13      Action, Adventure, Drama  \n",
       "14                Action, Sci-Fi  \n",
       "18     Biography, Drama, History  \n",
       "19       Comedy, Drama, Thriller  \n",
       "20                         Drama  \n",
       "22                  Crime, Drama  \n",
       "23  Animation, Adventure, Family  \n",
       "25         Crime, Drama, Fantasy  \n",
       "26        Comedy, Drama, Romance  \n",
       "27         Crime, Drama, Mystery  \n",
       "28        Crime, Drama, Thriller  \n",
       "29    Action, Adventure, Fantasy  \n",
       "30        Action, Drama, Mystery  \n",
       "31      Action, Adventure, Drama  \n",
       "35      Biography, Comedy, Drama  \n",
       "36        Drama, Mystery, Sci-Fi  \n",
       "37        Crime, Drama, Thriller  \n",
       "38       Biography, Drama, Music  "
      ]
     },
     "execution_count": 726,
     "metadata": {},
     "output_type": "execute_result"
    }
   ],
   "source": [
    "imdb_40[imdb_40['title'].isin(difference_movies)]"
   ]
  },
  {
   "cell_type": "markdown",
   "id": "d19e3335-deff-4996-b87c-9270abdad8c1",
   "metadata": {},
   "source": [
    "#### 2-3. Analyze the difference"
   ]
  },
  {
   "cell_type": "markdown",
   "id": "355b2a10-e75d-4a1d-b996-14f318731f41",
   "metadata": {},
   "source": [
    "- 로마자 포함"
   ]
  },
  {
   "cell_type": "code",
   "execution_count": 691,
   "id": "794e945a-63c7-4f9f-9c4b-9e5de9c6a2ea",
   "metadata": {},
   "outputs": [
    {
     "data": {
      "text/html": [
       "<div>\n",
       "<style scoped>\n",
       "    .dataframe tbody tr th:only-of-type {\n",
       "        vertical-align: middle;\n",
       "    }\n",
       "\n",
       "    .dataframe tbody tr th {\n",
       "        vertical-align: top;\n",
       "    }\n",
       "\n",
       "    .dataframe thead th {\n",
       "        text-align: right;\n",
       "    }\n",
       "</style>\n",
       "<table border=\"1\" class=\"dataframe\">\n",
       "  <thead>\n",
       "    <tr style=\"text-align: right;\">\n",
       "      <th></th>\n",
       "      <th>movieId</th>\n",
       "      <th>title</th>\n",
       "      <th>year</th>\n",
       "      <th>genres</th>\n",
       "    </tr>\n",
       "  </thead>\n",
       "  <tbody>\n",
       "    <tr>\n",
       "      <th>26</th>\n",
       "      <td>26</td>\n",
       "      <td>La vita è bella</td>\n",
       "      <td>1997</td>\n",
       "      <td>Comedy, Drama, Romance</td>\n",
       "    </tr>\n",
       "  </tbody>\n",
       "</table>\n",
       "</div>"
      ],
      "text/plain": [
       "    movieId            title  year                  genres\n",
       "26       26  La vita è bella  1997  Comedy, Drama, Romance"
      ]
     },
     "execution_count": 691,
     "metadata": {},
     "output_type": "execute_result"
    }
   ],
   "source": [
    "imdb_40.iloc[26:27,:]"
   ]
  },
  {
   "cell_type": "code",
   "execution_count": 692,
   "id": "37328171-2eb7-4e58-9746-7060cc0a4cf1",
   "metadata": {},
   "outputs": [
    {
     "data": {
      "text/html": [
       "<div>\n",
       "<style scoped>\n",
       "    .dataframe tbody tr th:only-of-type {\n",
       "        vertical-align: middle;\n",
       "    }\n",
       "\n",
       "    .dataframe tbody tr th {\n",
       "        vertical-align: top;\n",
       "    }\n",
       "\n",
       "    .dataframe thead th {\n",
       "        text-align: right;\n",
       "    }\n",
       "</style>\n",
       "<table border=\"1\" class=\"dataframe\">\n",
       "  <thead>\n",
       "    <tr style=\"text-align: right;\">\n",
       "      <th></th>\n",
       "      <th>movieId</th>\n",
       "      <th>title</th>\n",
       "      <th>year</th>\n",
       "      <th>genres</th>\n",
       "    </tr>\n",
       "  </thead>\n",
       "  <tbody>\n",
       "    <tr>\n",
       "      <th>0</th>\n",
       "      <td>1</td>\n",
       "      <td>Toy Story</td>\n",
       "      <td>1995</td>\n",
       "      <td>Adventure|Animation|Children|Comedy|Fantasy</td>\n",
       "    </tr>\n",
       "    <tr>\n",
       "      <th>1</th>\n",
       "      <td>2</td>\n",
       "      <td>Jumanji</td>\n",
       "      <td>1995</td>\n",
       "      <td>Adventure|Children|Fantasy</td>\n",
       "    </tr>\n",
       "    <tr>\n",
       "      <th>2</th>\n",
       "      <td>3</td>\n",
       "      <td>Grumpier Old Men</td>\n",
       "      <td>1995</td>\n",
       "      <td>Comedy|Romance</td>\n",
       "    </tr>\n",
       "    <tr>\n",
       "      <th>3</th>\n",
       "      <td>4</td>\n",
       "      <td>Waiting to Exhale</td>\n",
       "      <td>1995</td>\n",
       "      <td>Comedy|Drama|Romance</td>\n",
       "    </tr>\n",
       "    <tr>\n",
       "      <th>4</th>\n",
       "      <td>5</td>\n",
       "      <td>Father of the Bride Part II</td>\n",
       "      <td>1995</td>\n",
       "      <td>Comedy</td>\n",
       "    </tr>\n",
       "  </tbody>\n",
       "</table>\n",
       "</div>"
      ],
      "text/plain": [
       "   movieId                        title  year  \\\n",
       "0        1                    Toy Story  1995   \n",
       "1        2                      Jumanji  1995   \n",
       "2        3             Grumpier Old Men  1995   \n",
       "3        4            Waiting to Exhale  1995   \n",
       "4        5  Father of the Bride Part II  1995   \n",
       "\n",
       "                                        genres  \n",
       "0  Adventure|Animation|Children|Comedy|Fantasy  \n",
       "1                   Adventure|Children|Fantasy  \n",
       "2                               Comedy|Romance  \n",
       "3                         Comedy|Drama|Romance  \n",
       "4                                       Comedy  "
      ]
     },
     "execution_count": 692,
     "metadata": {},
     "output_type": "execute_result"
    }
   ],
   "source": [
    "movielens_df.head()"
   ]
  },
  {
   "cell_type": "markdown",
   "id": "9d960df6-1489-4a92-9a07-0848d2bb1579",
   "metadata": {},
   "source": [
    "- 소문자로 변경"
   ]
  },
  {
   "cell_type": "code",
   "execution_count": 693,
   "id": "c7c9d9a6-a471-42c3-ad78-52d9f6e9a20e",
   "metadata": {},
   "outputs": [
    {
     "name": "stderr",
     "output_type": "stream",
     "text": [
      "C:\\Users\\user\\anaconda3\\envs\\torch37\\lib\\site-packages\\pandas\\core\\frame.py:3607: SettingWithCopyWarning: \n",
      "A value is trying to be set on a copy of a slice from a DataFrame.\n",
      "Try using .loc[row_indexer,col_indexer] = value instead\n",
      "\n",
      "See the caveats in the documentation: https://pandas.pydata.org/pandas-docs/stable/user_guide/indexing.html#returning-a-view-versus-a-copy\n",
      "  self._set_item(key, value)\n"
     ]
    }
   ],
   "source": [
    "movielens_df['title'] = movielens_df['title'].str.lower()\n",
    "imdb_40['title'] = imdb_40['title'].str.lower()"
   ]
  },
  {
   "cell_type": "code",
   "execution_count": 694,
   "id": "c5f16dda-dab4-4222-8cde-bc540790666c",
   "metadata": {},
   "outputs": [
    {
     "data": {
      "text/html": [
       "<div>\n",
       "<style scoped>\n",
       "    .dataframe tbody tr th:only-of-type {\n",
       "        vertical-align: middle;\n",
       "    }\n",
       "\n",
       "    .dataframe tbody tr th {\n",
       "        vertical-align: top;\n",
       "    }\n",
       "\n",
       "    .dataframe thead th {\n",
       "        text-align: right;\n",
       "    }\n",
       "</style>\n",
       "<table border=\"1\" class=\"dataframe\">\n",
       "  <thead>\n",
       "    <tr style=\"text-align: right;\">\n",
       "      <th></th>\n",
       "      <th>movieId</th>\n",
       "      <th>title</th>\n",
       "      <th>year</th>\n",
       "      <th>genres</th>\n",
       "    </tr>\n",
       "  </thead>\n",
       "  <tbody>\n",
       "    <tr>\n",
       "      <th>0</th>\n",
       "      <td>1</td>\n",
       "      <td>toy story</td>\n",
       "      <td>1995</td>\n",
       "      <td>Adventure|Animation|Children|Comedy|Fantasy</td>\n",
       "    </tr>\n",
       "    <tr>\n",
       "      <th>1</th>\n",
       "      <td>2</td>\n",
       "      <td>jumanji</td>\n",
       "      <td>1995</td>\n",
       "      <td>Adventure|Children|Fantasy</td>\n",
       "    </tr>\n",
       "    <tr>\n",
       "      <th>2</th>\n",
       "      <td>3</td>\n",
       "      <td>grumpier old men</td>\n",
       "      <td>1995</td>\n",
       "      <td>Comedy|Romance</td>\n",
       "    </tr>\n",
       "    <tr>\n",
       "      <th>3</th>\n",
       "      <td>4</td>\n",
       "      <td>waiting to exhale</td>\n",
       "      <td>1995</td>\n",
       "      <td>Comedy|Drama|Romance</td>\n",
       "    </tr>\n",
       "    <tr>\n",
       "      <th>4</th>\n",
       "      <td>5</td>\n",
       "      <td>father of the bride part ii</td>\n",
       "      <td>1995</td>\n",
       "      <td>Comedy</td>\n",
       "    </tr>\n",
       "  </tbody>\n",
       "</table>\n",
       "</div>"
      ],
      "text/plain": [
       "   movieId                        title  year  \\\n",
       "0        1                    toy story  1995   \n",
       "1        2                      jumanji  1995   \n",
       "2        3             grumpier old men  1995   \n",
       "3        4            waiting to exhale  1995   \n",
       "4        5  father of the bride part ii  1995   \n",
       "\n",
       "                                        genres  \n",
       "0  Adventure|Animation|Children|Comedy|Fantasy  \n",
       "1                   Adventure|Children|Fantasy  \n",
       "2                               Comedy|Romance  \n",
       "3                         Comedy|Drama|Romance  \n",
       "4                                       Comedy  "
      ]
     },
     "execution_count": 694,
     "metadata": {},
     "output_type": "execute_result"
    }
   ],
   "source": [
    "movielens_df.head()"
   ]
  },
  {
   "cell_type": "code",
   "execution_count": 695,
   "id": "25472598-4cfa-4e14-8ef6-5df99f16d76f",
   "metadata": {
    "tags": []
   },
   "outputs": [
    {
     "name": "stdout",
     "output_type": "stream",
     "text": [
      "858 | godfather, the | 1972\n",
      "1221 | godfather: part ii, the | 1974\n",
      "2023 | godfather: part iii, the | 1990\n",
      "8607 | tokyo godfathers | 2003\n",
      "25934 | 3 godfathers | 1948\n",
      "100180 | last godfather, the | 2010\n",
      "106704 | disco godfather | 1979\n",
      "121519 | the new godfathers | 1979\n",
      "123880 | the black godfather | 1974\n",
      "124791 | three godfathers | 1936\n",
      "143113 | godfather | 1991\n",
      "143261 | battle of the godfathers | 1973\n",
      "156972 | onimasa: a japanese godfather | 1982\n",
      "172115 | the medici: godfathers of the renaissance | 2004\n",
      "176537 | herschell gordon lewis: the godfather of gore | 2010\n",
      "188155 | the godfather legacy | 2012\n",
      "188173 | the godfather family: a look inside | 1990\n",
      "200760 | the class reunion 3: godfathers | 2019\n",
      "203302 | the black godfather | 2019\n",
      "206423 | our godfather | 2019\n"
     ]
    }
   ],
   "source": [
    "for num in range(0, len(movielens_df)): \n",
    "#     print(num)\n",
    "    if('Godfather'.lower() in movielens_df['title'][num]):\n",
    "        count = count + 1\n",
    "        print(f\"{movielens_df['movieId'].loc[num]} | {movielens_df['title'].loc[num]} | {movielens_df['year'].loc[num]}\")"
   ]
  },
  {
   "cell_type": "markdown",
   "id": "0929f452-a35b-49a9-9c76-dccd46c7cc6a",
   "metadata": {},
   "source": [
    "### 3. Right Answer"
   ]
  },
  {
   "cell_type": "code",
   "execution_count": 733,
   "id": "af472394-9b85-4be3-bedb-e2492cce810b",
   "metadata": {},
   "outputs": [],
   "source": [
    "path = './../../data/'"
   ]
  },
  {
   "cell_type": "code",
   "execution_count": 735,
   "id": "afc3ae99-35e0-46b9-b769-68c4a0a475ec",
   "metadata": {},
   "outputs": [
    {
     "data": {
      "text/plain": [
       "['imdb_30.csv',\n",
       " 'imdb_30.xlsx',\n",
       " 'imdb_40(수정).xlsx',\n",
       " 'imdb_40.csv',\n",
       " 'imdb_40.xlsx',\n",
       " 'imdb_50.csv',\n",
       " 'imdb_top_1000.csv',\n",
       " 'ml-25m',\n",
       " 'ml-25m.zip',\n",
       " 'movieLens',\n",
       " 'new_imdb_40.xlsx',\n",
       " 'old_imdb_40.xlsx']"
      ]
     },
     "execution_count": 735,
     "metadata": {},
     "output_type": "execute_result"
    }
   ],
   "source": [
    "os.listdir(path)"
   ]
  },
  {
   "cell_type": "code",
   "execution_count": 736,
   "id": "e4261e16-869d-4d06-b08f-01bd28bb7e8c",
   "metadata": {},
   "outputs": [],
   "source": [
    "right_df = pd.read_excel(os.path.join(path + 'new_imdb_40.xlsx'))"
   ]
  },
  {
   "cell_type": "code",
   "execution_count": 737,
   "id": "08b60d61-9237-45d2-9b33-42e3fa22460d",
   "metadata": {},
   "outputs": [
    {
     "data": {
      "text/html": [
       "<div>\n",
       "<style scoped>\n",
       "    .dataframe tbody tr th:only-of-type {\n",
       "        vertical-align: middle;\n",
       "    }\n",
       "\n",
       "    .dataframe tbody tr th {\n",
       "        vertical-align: top;\n",
       "    }\n",
       "\n",
       "    .dataframe thead th {\n",
       "        text-align: right;\n",
       "    }\n",
       "</style>\n",
       "<table border=\"1\" class=\"dataframe\">\n",
       "  <thead>\n",
       "    <tr style=\"text-align: right;\">\n",
       "      <th></th>\n",
       "      <th>title</th>\n",
       "      <th>imdb_id</th>\n",
       "      <th>movielens_id</th>\n",
       "      <th>year</th>\n",
       "    </tr>\n",
       "  </thead>\n",
       "  <tbody>\n",
       "    <tr>\n",
       "      <th>0</th>\n",
       "      <td>The Shawshank Redemption</td>\n",
       "      <td>0</td>\n",
       "      <td>318.0</td>\n",
       "      <td>1994</td>\n",
       "    </tr>\n",
       "    <tr>\n",
       "      <th>1</th>\n",
       "      <td>The Godfather</td>\n",
       "      <td>1</td>\n",
       "      <td>858.0</td>\n",
       "      <td>1972</td>\n",
       "    </tr>\n",
       "    <tr>\n",
       "      <th>2</th>\n",
       "      <td>The Dark Knight</td>\n",
       "      <td>2</td>\n",
       "      <td>130219.0</td>\n",
       "      <td>2008</td>\n",
       "    </tr>\n",
       "    <tr>\n",
       "      <th>3</th>\n",
       "      <td>The Godfather: Part II</td>\n",
       "      <td>3</td>\n",
       "      <td>1221.0</td>\n",
       "      <td>1974</td>\n",
       "    </tr>\n",
       "    <tr>\n",
       "      <th>4</th>\n",
       "      <td>12 Angry Men</td>\n",
       "      <td>4</td>\n",
       "      <td>1203.0</td>\n",
       "      <td>1957</td>\n",
       "    </tr>\n",
       "  </tbody>\n",
       "</table>\n",
       "</div>"
      ],
      "text/plain": [
       "                      title  imdb_id  movielens_id  year\n",
       "0  The Shawshank Redemption        0         318.0  1994\n",
       "1             The Godfather        1         858.0  1972\n",
       "2           The Dark Knight        2      130219.0  2008\n",
       "3    The Godfather: Part II        3        1221.0  1974\n",
       "4              12 Angry Men        4        1203.0  1957"
      ]
     },
     "execution_count": 737,
     "metadata": {},
     "output_type": "execute_result"
    }
   ],
   "source": [
    "right_df.head()"
   ]
  },
  {
   "cell_type": "code",
   "execution_count": 738,
   "id": "73b0d123-0fc7-4d44-b885-1676ce58708c",
   "metadata": {},
   "outputs": [],
   "source": [
    "right_df.dropna(axis=0, inplace=True)"
   ]
  },
  {
   "cell_type": "code",
   "execution_count": 739,
   "id": "44fbfee7-3173-4e14-a3f8-8381bd948d05",
   "metadata": {},
   "outputs": [
    {
     "data": {
      "text/plain": [
       "38"
      ]
     },
     "execution_count": 739,
     "metadata": {},
     "output_type": "execute_result"
    }
   ],
   "source": [
    "len(right_df)"
   ]
  },
  {
   "cell_type": "code",
   "execution_count": 740,
   "id": "7b314d05-33a0-4943-b8ce-7b728e1f0713",
   "metadata": {},
   "outputs": [],
   "source": [
    "right_df.reset_index(inplace=True)"
   ]
  },
  {
   "cell_type": "code",
   "execution_count": 743,
   "id": "b071ed53-a435-42aa-9ad3-cf07a2fbbf32",
   "metadata": {},
   "outputs": [],
   "source": [
    "right30_df = right_df.iloc[:30]"
   ]
  },
  {
   "cell_type": "code",
   "execution_count": 744,
   "id": "65a418f1-ff5f-44a0-a4d5-8a4f07f50a43",
   "metadata": {},
   "outputs": [
    {
     "data": {
      "text/html": [
       "<div>\n",
       "<style scoped>\n",
       "    .dataframe tbody tr th:only-of-type {\n",
       "        vertical-align: middle;\n",
       "    }\n",
       "\n",
       "    .dataframe tbody tr th {\n",
       "        vertical-align: top;\n",
       "    }\n",
       "\n",
       "    .dataframe thead th {\n",
       "        text-align: right;\n",
       "    }\n",
       "</style>\n",
       "<table border=\"1\" class=\"dataframe\">\n",
       "  <thead>\n",
       "    <tr style=\"text-align: right;\">\n",
       "      <th></th>\n",
       "      <th>index</th>\n",
       "      <th>title</th>\n",
       "      <th>imdb_id</th>\n",
       "      <th>movielens_id</th>\n",
       "      <th>year</th>\n",
       "    </tr>\n",
       "  </thead>\n",
       "  <tbody>\n",
       "    <tr>\n",
       "      <th>0</th>\n",
       "      <td>0</td>\n",
       "      <td>The Shawshank Redemption</td>\n",
       "      <td>0</td>\n",
       "      <td>318.0</td>\n",
       "      <td>1994</td>\n",
       "    </tr>\n",
       "    <tr>\n",
       "      <th>1</th>\n",
       "      <td>1</td>\n",
       "      <td>The Godfather</td>\n",
       "      <td>1</td>\n",
       "      <td>858.0</td>\n",
       "      <td>1972</td>\n",
       "    </tr>\n",
       "    <tr>\n",
       "      <th>2</th>\n",
       "      <td>2</td>\n",
       "      <td>The Dark Knight</td>\n",
       "      <td>2</td>\n",
       "      <td>130219.0</td>\n",
       "      <td>2008</td>\n",
       "    </tr>\n",
       "    <tr>\n",
       "      <th>3</th>\n",
       "      <td>3</td>\n",
       "      <td>The Godfather: Part II</td>\n",
       "      <td>3</td>\n",
       "      <td>1221.0</td>\n",
       "      <td>1974</td>\n",
       "    </tr>\n",
       "    <tr>\n",
       "      <th>4</th>\n",
       "      <td>4</td>\n",
       "      <td>12 Angry Men</td>\n",
       "      <td>4</td>\n",
       "      <td>1203.0</td>\n",
       "      <td>1957</td>\n",
       "    </tr>\n",
       "  </tbody>\n",
       "</table>\n",
       "</div>"
      ],
      "text/plain": [
       "   index                     title  imdb_id  movielens_id  year\n",
       "0      0  The Shawshank Redemption        0         318.0  1994\n",
       "1      1             The Godfather        1         858.0  1972\n",
       "2      2           The Dark Knight        2      130219.0  2008\n",
       "3      3    The Godfather: Part II        3        1221.0  1974\n",
       "4      4              12 Angry Men        4        1203.0  1957"
      ]
     },
     "execution_count": 744,
     "metadata": {},
     "output_type": "execute_result"
    }
   ],
   "source": [
    "right30_df.head()"
   ]
  },
  {
   "cell_type": "code",
   "execution_count": 748,
   "id": "087bd7ef-b173-4746-a452-d721a0037a2a",
   "metadata": {},
   "outputs": [
    {
     "data": {
      "text/plain": [
       "index             int64\n",
       "title            object\n",
       "imdb_id           int64\n",
       "movielens_id    float64\n",
       "year              int64\n",
       "dtype: object"
      ]
     },
     "execution_count": 748,
     "metadata": {},
     "output_type": "execute_result"
    }
   ],
   "source": [
    "right30_df.dtypes"
   ]
  },
  {
   "cell_type": "code",
   "execution_count": 749,
   "id": "916257cc-30ce-4b80-b41e-77d65cd9a166",
   "metadata": {},
   "outputs": [],
   "source": [
    "right30_df = right30_df.astype({'movielens_id': 'int64'})"
   ]
  },
  {
   "cell_type": "code",
   "execution_count": 750,
   "id": "3578a1b0-e5cb-4211-bac1-879f7f551547",
   "metadata": {},
   "outputs": [
    {
     "data": {
      "text/plain": [
       "index            int64\n",
       "title           object\n",
       "imdb_id          int64\n",
       "movielens_id     int64\n",
       "year             int64\n",
       "dtype: object"
      ]
     },
     "execution_count": 750,
     "metadata": {},
     "output_type": "execute_result"
    }
   ],
   "source": [
    "right30_df.dtypes"
   ]
  },
  {
   "cell_type": "code",
   "execution_count": 751,
   "id": "28deea10-d02d-4156-9fd6-670e602dd8e3",
   "metadata": {},
   "outputs": [
    {
     "data": {
      "text/html": [
       "<div>\n",
       "<style scoped>\n",
       "    .dataframe tbody tr th:only-of-type {\n",
       "        vertical-align: middle;\n",
       "    }\n",
       "\n",
       "    .dataframe tbody tr th {\n",
       "        vertical-align: top;\n",
       "    }\n",
       "\n",
       "    .dataframe thead th {\n",
       "        text-align: right;\n",
       "    }\n",
       "</style>\n",
       "<table border=\"1\" class=\"dataframe\">\n",
       "  <thead>\n",
       "    <tr style=\"text-align: right;\">\n",
       "      <th></th>\n",
       "      <th>index</th>\n",
       "      <th>title</th>\n",
       "      <th>imdb_id</th>\n",
       "      <th>movielens_id</th>\n",
       "      <th>year</th>\n",
       "    </tr>\n",
       "  </thead>\n",
       "  <tbody>\n",
       "    <tr>\n",
       "      <th>0</th>\n",
       "      <td>0</td>\n",
       "      <td>The Shawshank Redemption</td>\n",
       "      <td>0</td>\n",
       "      <td>318</td>\n",
       "      <td>1994</td>\n",
       "    </tr>\n",
       "    <tr>\n",
       "      <th>1</th>\n",
       "      <td>1</td>\n",
       "      <td>The Godfather</td>\n",
       "      <td>1</td>\n",
       "      <td>858</td>\n",
       "      <td>1972</td>\n",
       "    </tr>\n",
       "    <tr>\n",
       "      <th>2</th>\n",
       "      <td>2</td>\n",
       "      <td>The Dark Knight</td>\n",
       "      <td>2</td>\n",
       "      <td>130219</td>\n",
       "      <td>2008</td>\n",
       "    </tr>\n",
       "    <tr>\n",
       "      <th>3</th>\n",
       "      <td>3</td>\n",
       "      <td>The Godfather: Part II</td>\n",
       "      <td>3</td>\n",
       "      <td>1221</td>\n",
       "      <td>1974</td>\n",
       "    </tr>\n",
       "    <tr>\n",
       "      <th>4</th>\n",
       "      <td>4</td>\n",
       "      <td>12 Angry Men</td>\n",
       "      <td>4</td>\n",
       "      <td>1203</td>\n",
       "      <td>1957</td>\n",
       "    </tr>\n",
       "  </tbody>\n",
       "</table>\n",
       "</div>"
      ],
      "text/plain": [
       "   index                     title  imdb_id  movielens_id  year\n",
       "0      0  The Shawshank Redemption        0           318  1994\n",
       "1      1             The Godfather        1           858  1972\n",
       "2      2           The Dark Knight        2        130219  2008\n",
       "3      3    The Godfather: Part II        3          1221  1974\n",
       "4      4              12 Angry Men        4          1203  1957"
      ]
     },
     "execution_count": 751,
     "metadata": {},
     "output_type": "execute_result"
    }
   ],
   "source": [
    "right30_df.head()"
   ]
  },
  {
   "cell_type": "markdown",
   "id": "965dee58-6459-41d8-85c3-582e57462961",
   "metadata": {},
   "source": [
    "### 4. Levenshtein Distance"
   ]
  },
  {
   "cell_type": "code",
   "execution_count": 753,
   "id": "166014e2-7421-4659-aad5-b5fe68f5d153",
   "metadata": {},
   "outputs": [],
   "source": [
    "#레벤슈타인 거리 구하기\n",
    "def calc_distance(a,b):\n",
    "    '''레벤슈타인 거리 계산하기'''\n",
    "    # 1. 동일한 문자열이면 거리 0\n",
    "    if a == b : return 0\n",
    "    \n",
    "    a_len = len(a)\n",
    "    b_len = len(b)\n",
    "    \n",
    "    # 2. 둘 중 하나라도 문자열 길이가 0이면 거리는 다른 문자열 길이\n",
    "    if a == \"\" : return b_len \n",
    "    if b == \"\" : return a_len\n",
    "\n",
    "    # 2차원 배열(a_len+1, b_len+1)준비하기 --(#1)\n",
    "    matrix = [ []for i in range(a_len+1)] #a길이+1 만큼의 크기의 배열준비\n",
    "    for i in range(a_len+1) :\n",
    "        matrix[i] = [0 for j in range(b_len+1)] #0으로 초기화(2차원배열)    \n",
    "   \n",
    "    # 0일때 초기값을 설정 (#2)\n",
    "    for i in range(a_len+1):\n",
    "        matrix[i][0]=i   \n",
    "    for j in range(b_len+1):\n",
    "        matrix[0][j]=j\n",
    "    \n",
    "    #표 채우기 --(#3)\n",
    "    for i in range(1, a_len+1):\n",
    "        ac=a[i-1]  #a의 첫번째 글자(=[0]) 부터 시작\n",
    "        for j in range(1, b_len+1):\n",
    "            bc=b[j-1] #b의 첫번째글자(=[0]) 부터 시작\n",
    "            cost=0 if (ac == bc) else 1 #a[i-1]과 b[j-1] 이 같다면 비용(cost)은 0. 같지 않으면 1\n",
    "            matrix[i][j] = min([  #min 함수 : 최소값을 돌려줌; \n",
    "            #a의 i번째까지의 문자와 b의 j번째까지의 문자를 비교해서, 삽입/제거/변경 비용 중 최소값으로 표를 채운다.\n",
    "                matrix[i-1][j] + 1,     # 문자 삽입\n",
    "                matrix[i][j-1] + 1,     # 문자 제거\n",
    "                matrix[i-1][j-1] + cost # 문자 변경\n",
    "            ])\n",
    "    return matrix[a_len][b_len] #최종적으로는, 표의 오른쪽 아래에 있는 값이 최소거리(레벤슈타인 거리)가 된다.\n",
    "    #함수 calc_distance 끝"
   ]
  },
  {
   "cell_type": "code",
   "execution_count": 754,
   "id": "888337af-2380-4876-96bf-228f21ef347f",
   "metadata": {},
   "outputs": [
    {
     "name": "stdout",
     "output_type": "stream",
     "text": [
      "'가나다라'와 '가마바라'의 거리: 2\n"
     ]
    }
   ],
   "source": [
    "#\"가나다라\"와 \"가마바라\"의 거리 --(#4)\n",
    "print(\"'가나다라'와 '가마바라'의 거리: \",end='')\n",
    "print(calc_distance(\"가나다라\", \"가마바라\"))"
   ]
  },
  {
   "cell_type": "code",
   "execution_count": 755,
   "id": "e44a6145-0a05-4ea6-9411-ecaf3dbcff19",
   "metadata": {},
   "outputs": [],
   "source": [
    "#실행 예\n",
    "samples = [\"신촌역\",\"신천군\",\"신천역\",\"신발\",\"마곡역\", \"촌신역\", \"역신촌\"]\n",
    "base = samples[0]"
   ]
  },
  {
   "cell_type": "code",
   "execution_count": 756,
   "id": "30140e36-b33e-43d9-ae04-1f0dd014b6b6",
   "metadata": {},
   "outputs": [],
   "source": [
    "# 정렬 : 오름차순\n",
    "r = sorted(samples, key = lambda n: calc_distance(base, n)) #base(신촌역)과 samples의 각 원소 비교"
   ]
  },
  {
   "cell_type": "code",
   "execution_count": 757,
   "id": "70b0435a-4e18-4527-98f7-e2e5f6710084",
   "metadata": {},
   "outputs": [
    {
     "data": {
      "text/plain": [
       "['신촌역', '신천역', '신천군', '신발', '마곡역', '촌신역', '역신촌']"
      ]
     },
     "execution_count": 757,
     "metadata": {},
     "output_type": "execute_result"
    }
   ],
   "source": [
    "r"
   ]
  },
  {
   "cell_type": "code",
   "execution_count": 758,
   "id": "7b00b4da-1c6b-4321-9dbf-ba737ff5d257",
   "metadata": {},
   "outputs": [
    {
     "name": "stdout",
     "output_type": "stream",
     "text": [
      "0 신촌역\n",
      "1 신천역\n",
      "2 신천군\n",
      "2 신발\n",
      "2 마곡역\n",
      "2 촌신역\n",
      "2 역신촌\n"
     ]
    }
   ],
   "source": [
    "for n in r:\n",
    "    print(calc_distance(base, n), n)"
   ]
  },
  {
   "cell_type": "markdown",
   "id": "e706ce37-e083-4434-8160-bc5a6f1de4ec",
   "metadata": {},
   "source": [
    "- 반지의 제왕"
   ]
  },
  {
   "cell_type": "code",
   "execution_count": 759,
   "id": "b1e8b181-e9bd-4f0d-a445-c98a94cd5640",
   "metadata": {},
   "outputs": [],
   "source": [
    "#실행 예\n",
    "samples = [\"The Lord of the Rings: The Return of the King\".lower(),\n",
    "        \"lord of the rings, the\",\n",
    "        \"lord of the rings: the fellowship of the ring, the\",\n",
    "        \"lord of the rings: the two towers, the\",\n",
    "        \"lord of the rings: the return of the king, the\"]\n",
    "base = samples[0]"
   ]
  },
  {
   "cell_type": "code",
   "execution_count": 760,
   "id": "39b68aef-48a7-4cb4-878d-73aa226ad9d3",
   "metadata": {},
   "outputs": [],
   "source": [
    "# 정렬 : 오름차순\n",
    "r = sorted(samples, key = lambda n: calc_distance(base, n)) "
   ]
  },
  {
   "cell_type": "code",
   "execution_count": 761,
   "id": "e1e54ba2-8b35-47b5-b4df-f559b3109d21",
   "metadata": {},
   "outputs": [
    {
     "name": "stdout",
     "output_type": "stream",
     "text": [
      "0 the lord of the rings: the return of the king\n",
      "9 lord of the rings: the return of the king, the\n",
      "19 lord of the rings: the fellowship of the ring, the\n",
      "19 lord of the rings: the two towers, the\n",
      "24 lord of the rings, the\n"
     ]
    }
   ],
   "source": [
    "for n in r:\n",
    "    print(calc_distance(base, n), n)"
   ]
  },
  {
   "cell_type": "markdown",
   "id": "17352d44-fdbf-4f56-a5cc-7adbdd302d87",
   "metadata": {},
   "source": [
    "- GodFather"
   ]
  },
  {
   "cell_type": "code",
   "execution_count": 762,
   "id": "759fff59-f8e6-4058-a5f5-9bba8dcc47ea",
   "metadata": {},
   "outputs": [],
   "source": [
    "#실행 예\n",
    "samples = [\"The Godfather: Part II\".lower(),\n",
    "    \"godfather, the\",\n",
    "    \"godfather: part ii, the\",\n",
    "    \"godfather: part iii, the\",\n",
    "    \"tokyo godfathers\",\n",
    "    \"3 godfathers\",\n",
    "    \"last godfather, the\",\n",
    "    \"disco godfather\"]\n",
    "base = samples[0]"
   ]
  },
  {
   "cell_type": "code",
   "execution_count": 763,
   "id": "c0e6f9de-c41b-4b55-bd2d-95c9597564ee",
   "metadata": {},
   "outputs": [],
   "source": [
    "# 정렬 : 오름차순\n",
    "r = sorted(samples, key = lambda n: calc_distance(base, n)) "
   ]
  },
  {
   "cell_type": "code",
   "execution_count": 764,
   "id": "aa87a3c6-078f-482e-af7f-f5d82197be8a",
   "metadata": {},
   "outputs": [
    {
     "name": "stdout",
     "output_type": "stream",
     "text": [
      "0 the godfather: part ii\n",
      "9 godfather: part ii, the\n",
      "10 godfather: part iii, the\n",
      "11 godfather, the\n",
      "11 last godfather, the\n",
      "12 3 godfathers\n",
      "13 tokyo godfathers\n",
      "14 disco godfather\n"
     ]
    }
   ],
   "source": [
    "for n in r:\n",
    "    print(calc_distance(base, n), n)"
   ]
  },
  {
   "cell_type": "code",
   "execution_count": null,
   "id": "45110688-b15c-4935-b6da-16b74d54a747",
   "metadata": {},
   "outputs": [],
   "source": []
  },
  {
   "cell_type": "code",
   "execution_count": null,
   "id": "725b2136-cdec-4793-b9cd-bb2d61e5650a",
   "metadata": {},
   "outputs": [],
   "source": []
  }
 ],
 "metadata": {
  "kernelspec": {
   "display_name": "Python 3",
   "language": "python",
   "name": "python3"
  },
  "language_info": {
   "codemirror_mode": {
    "name": "ipython",
    "version": 3
   },
   "file_extension": ".py",
   "mimetype": "text/x-python",
   "name": "python",
   "nbconvert_exporter": "python",
   "pygments_lexer": "ipython3",
   "version": "3.8.10"
  }
 },
 "nbformat": 4,
 "nbformat_minor": 5
}
