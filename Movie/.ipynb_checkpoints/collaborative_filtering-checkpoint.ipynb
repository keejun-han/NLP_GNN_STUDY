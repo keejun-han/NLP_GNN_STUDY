{
 "cells": [
  {
   "cell_type": "code",
   "execution_count": 1,
   "id": "185970a2-bb9b-4125-8692-bad91a0dc296",
   "metadata": {},
   "outputs": [],
   "source": [
    "import os\n",
    "import pandas as pd\n",
    "import numpy as np\n",
    "from math import sqrt\n",
    "from tqdm import tqdm_notebook as tqdm\n",
    "\n",
    "from sklearn.model_selection import train_test_split\n",
    "from sklearn.metrics import mean_squared_error"
   ]
  },
  {
   "cell_type": "code",
   "execution_count": null,
   "id": "a9ed5f73-7f82-46fe-98da-487057e03b9e",
   "metadata": {},
   "outputs": [],
   "source": [
    "ratings_df = pd.read_csv(path+'rotten_rating_review_sentiment_table.csv')"
   ]
  },
  {
   "cell_type": "code",
   "execution_count": null,
   "id": "f5d3bf3a-664b-46d0-beb3-1e1f3fe806a9",
   "metadata": {},
   "outputs": [],
   "source": [
    "print(ratings_df.shape)\n",
    "print(ratings_df.head())"
   ]
  },
  {
   "cell_type": "code",
   "execution_count": null,
   "id": "a7c3628a-4fe2-44df-83c8-12e99cf87ee6",
   "metadata": {},
   "outputs": [],
   "source": [
    "len(set(ratings_df.user_id))"
   ]
  },
  {
   "cell_type": "code",
   "execution_count": null,
   "id": "8764676c-5c37-4849-bb94-ca1f38cd0051",
   "metadata": {},
   "outputs": [],
   "source": [
    "len(set(ratings_df.movie_id))"
   ]
  },
  {
   "cell_type": "code",
   "execution_count": null,
   "id": "b916e10e-1611-4b94-b29f-f3d80f2bb8e2",
   "metadata": {},
   "outputs": [],
   "source": [
    "len(ratings_df)"
   ]
  },
  {
   "cell_type": "code",
   "execution_count": null,
   "id": "d99e7e62-a2a9-48f6-9dee-f474843a53c0",
   "metadata": {},
   "outputs": [],
   "source": [
    "clean_ratings_df = ratings_df.drop_duplicates(subset=['user_id', 'movie_id'], keep='last')"
   ]
  },
  {
   "cell_type": "code",
   "execution_count": null,
   "id": "99b4d4b8-9aa2-4608-b931-2119f66a9c7f",
   "metadata": {},
   "outputs": [],
   "source": [
    "len(clean_ratings_df)"
   ]
  },
  {
   "cell_type": "code",
   "execution_count": null,
   "id": "601f4ead-c7dd-4513-a8f1-140f64c6b9f8",
   "metadata": {},
   "outputs": [],
   "source": [
    "print(len(ratings_df) - len(clean_ratings_df))"
   ]
  },
  {
   "cell_type": "code",
   "execution_count": null,
   "id": "77bb7f59-34e1-4dc1-b5b8-c7401f66b702",
   "metadata": {},
   "outputs": [],
   "source": [
    "train_df, test_df = train_test_split(clean_ratings_df, test_size=0.2, random_state=1234)\n",
    "\n",
    "print(train_df.shape)\n",
    "print(test_df.shape)"
   ]
  },
  {
   "cell_type": "code",
   "execution_count": null,
   "id": "7f115b96-69d1-46d2-8fd6-fa2277d3211e",
   "metadata": {},
   "outputs": [],
   "source": [
    "train_df.head()"
   ]
  },
  {
   "cell_type": "code",
   "execution_count": null,
   "id": "d74470f1-f585-4194-9d19-da69745acfa0",
   "metadata": {},
   "outputs": [],
   "source": [
    "user_ids = sorted(list(set(train_df['user_id'].values)))\n",
    "movie_ids = sorted(list(set(train_df['movie_id'].values)))\n",
    "\n",
    "print(f'유저 수: {len(user_ids)}, 영화 수: {len(movie_ids)}')\n",
    "# print(user_ids)\n",
    "# print(movie_ids)"
   ]
  },
  {
   "cell_type": "code",
   "execution_count": null,
   "id": "c7efa379-f4cc-4a8c-8a32-6efe7375b986",
   "metadata": {},
   "outputs": [],
   "source": [
    "# train_df의 movieId를 기준으로 groupBy\n",
    "grouped = train_df.groupby('movie_id')\n",
    "grouped['user_id'].count()"
   ]
  },
  {
   "cell_type": "code",
   "execution_count": null,
   "id": "5054a7ca-a118-410f-b1bb-1c024aa6b968",
   "metadata": {},
   "outputs": [],
   "source": [
    "sparse_matrix = train_df.groupby('movie_id').apply(lambda x: pd.Series(x['review_score'].values, index=x['user_id'])).unstack()\n",
    "sparse_matrix.index.name = 'movie_id'\n",
    "\n",
    "sparse_matrix"
   ]
  },
  {
   "cell_type": "code",
   "execution_count": null,
   "id": "39d33683-c57f-4068-9c87-0a078f5c5f7d",
   "metadata": {},
   "outputs": [],
   "source": []
  },
  {
   "cell_type": "code",
   "execution_count": null,
   "id": "2be7a31d-641e-4cb3-8a93-b1029123ad68",
   "metadata": {},
   "outputs": [],
   "source": []
  },
  {
   "cell_type": "code",
   "execution_count": null,
   "id": "7cc4774f-75d3-4a2f-8165-77edcdc42151",
   "metadata": {},
   "outputs": [],
   "source": []
  },
  {
   "cell_type": "code",
   "execution_count": null,
   "id": "eee34ddb-1986-4fe6-b218-5e0182253873",
   "metadata": {},
   "outputs": [],
   "source": []
  }
 ],
 "metadata": {
  "kernelspec": {
   "display_name": "Python 3",
   "language": "python",
   "name": "python3"
  },
  "language_info": {
   "codemirror_mode": {
    "name": "ipython",
    "version": 3
   },
   "file_extension": ".py",
   "mimetype": "text/x-python",
   "name": "python",
   "nbconvert_exporter": "python",
   "pygments_lexer": "ipython3",
   "version": "3.8.10"
  }
 },
 "nbformat": 4,
 "nbformat_minor": 5
}
