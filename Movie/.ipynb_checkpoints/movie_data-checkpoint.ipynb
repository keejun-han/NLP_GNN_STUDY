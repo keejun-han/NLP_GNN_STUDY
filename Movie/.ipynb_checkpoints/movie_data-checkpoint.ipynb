{
 "cells": [
  {
   "cell_type": "markdown",
   "id": "f5769e6e-23e4-4b98-9396-db27991b4541",
   "metadata": {},
   "source": [
    "## Movie data matching\n",
    "- dataset : IMDB, MovieLens"
   ]
  },
  {
   "cell_type": "code",
   "execution_count": 4,
   "id": "5fb39d14-6c4d-4583-a6b3-2e990280bc0d",
   "metadata": {},
   "outputs": [],
   "source": [
    "import os\n",
    "import pandas as pd\n",
    "from matplotlib import pyplot as plt\n",
    "\n",
    "%matplotlib inline"
   ]
  },
  {
   "cell_type": "markdown",
   "id": "0095a9c9-3d3b-4e2d-a8a2-29b33a6c7c98",
   "metadata": {},
   "source": [
    "### 1. Load data \n",
    "- MovieLens\n",
    "- IMDB"
   ]
  },
  {
   "cell_type": "markdown",
   "id": "1120dfff-49e3-4d36-b1ee-418a0a71c9d7",
   "metadata": {},
   "source": [
    "#### 1-1. MovieLens"
   ]
  },
  {
   "cell_type": "code",
   "execution_count": 69,
   "id": "3db143f0-6ab1-4e60-a732-aeef69e516eb",
   "metadata": {},
   "outputs": [],
   "source": [
    "path = './../../data/movieLens/'"
   ]
  },
  {
   "cell_type": "code",
   "execution_count": 70,
   "id": "b35d9676-4f80-4cb5-98e4-5bf9cae6224a",
   "metadata": {},
   "outputs": [
    {
     "data": {
      "text/plain": [
       "['genome_scores.csv',\n",
       " 'genome_tags.csv',\n",
       " 'link.csv',\n",
       " 'movie.csv',\n",
       " 'rating.csv',\n",
       " 'tag.csv']"
      ]
     },
     "execution_count": 70,
     "metadata": {},
     "output_type": "execute_result"
    }
   ],
   "source": [
    "os.listdir(path)"
   ]
  },
  {
   "cell_type": "code",
   "execution_count": 93,
   "id": "30dad7cb-be3f-4031-a1da-caf268eaab71",
   "metadata": {},
   "outputs": [],
   "source": [
    "ratings_df = pd.read_csv(os.path.join(path + 'rating.csv'), encoding='utf-8')\n",
    "tags_df = pd.read_csv(os.path.join(path + 'tag.csv'), encoding='utf-8')\n",
    "movies_df = pd.read_csv(os.path.join(path + 'movie.csv'), encoding='utf-8')\n",
    "links_df = pd.read_csv(os.path.join(path + 'link.csv'), encoding='utf-8')"
   ]
  },
  {
   "cell_type": "code",
   "execution_count": 94,
   "id": "7fc82918-a978-49f4-8c40-50055d17a7ec",
   "metadata": {
    "tags": []
   },
   "outputs": [],
   "source": [
    "# genome_tags_df = pd.read_csv(os.path.join(path + 'genome_tags.csv'), index_col='movieId', encoding='utf-8')\n",
    "# genome_scores_df = pd.read_csv(os.path.join(path + 'genome_scores.csv'), index_col='movieId', encoding='utf-8')"
   ]
  },
  {
   "cell_type": "code",
   "execution_count": 95,
   "id": "9d64e0c0-2423-4075-a5cc-3e66fb5a6967",
   "metadata": {},
   "outputs": [
    {
     "name": "stdout",
     "output_type": "stream",
     "text": [
      "(27278, 3)\n"
     ]
    },
    {
     "data": {
      "text/html": [
       "<div>\n",
       "<style scoped>\n",
       "    .dataframe tbody tr th:only-of-type {\n",
       "        vertical-align: middle;\n",
       "    }\n",
       "\n",
       "    .dataframe tbody tr th {\n",
       "        vertical-align: top;\n",
       "    }\n",
       "\n",
       "    .dataframe thead th {\n",
       "        text-align: right;\n",
       "    }\n",
       "</style>\n",
       "<table border=\"1\" class=\"dataframe\">\n",
       "  <thead>\n",
       "    <tr style=\"text-align: right;\">\n",
       "      <th></th>\n",
       "      <th>movieId</th>\n",
       "      <th>imdbId</th>\n",
       "      <th>tmdbId</th>\n",
       "    </tr>\n",
       "  </thead>\n",
       "  <tbody>\n",
       "    <tr>\n",
       "      <th>0</th>\n",
       "      <td>1</td>\n",
       "      <td>114709</td>\n",
       "      <td>862.0</td>\n",
       "    </tr>\n",
       "    <tr>\n",
       "      <th>1</th>\n",
       "      <td>2</td>\n",
       "      <td>113497</td>\n",
       "      <td>8844.0</td>\n",
       "    </tr>\n",
       "    <tr>\n",
       "      <th>2</th>\n",
       "      <td>3</td>\n",
       "      <td>113228</td>\n",
       "      <td>15602.0</td>\n",
       "    </tr>\n",
       "    <tr>\n",
       "      <th>3</th>\n",
       "      <td>4</td>\n",
       "      <td>114885</td>\n",
       "      <td>31357.0</td>\n",
       "    </tr>\n",
       "    <tr>\n",
       "      <th>4</th>\n",
       "      <td>5</td>\n",
       "      <td>113041</td>\n",
       "      <td>11862.0</td>\n",
       "    </tr>\n",
       "  </tbody>\n",
       "</table>\n",
       "</div>"
      ],
      "text/plain": [
       "   movieId  imdbId   tmdbId\n",
       "0        1  114709    862.0\n",
       "1        2  113497   8844.0\n",
       "2        3  113228  15602.0\n",
       "3        4  114885  31357.0\n",
       "4        5  113041  11862.0"
      ]
     },
     "execution_count": 95,
     "metadata": {},
     "output_type": "execute_result"
    }
   ],
   "source": [
    "print(links_df.shape)\n",
    "links_df.head()"
   ]
  },
  {
   "cell_type": "code",
   "execution_count": 96,
   "id": "7ba53b19-5941-46f9-80ad-bd51aafee9fc",
   "metadata": {},
   "outputs": [
    {
     "name": "stdout",
     "output_type": "stream",
     "text": [
      "(20000263, 4)\n"
     ]
    },
    {
     "data": {
      "text/html": [
       "<div>\n",
       "<style scoped>\n",
       "    .dataframe tbody tr th:only-of-type {\n",
       "        vertical-align: middle;\n",
       "    }\n",
       "\n",
       "    .dataframe tbody tr th {\n",
       "        vertical-align: top;\n",
       "    }\n",
       "\n",
       "    .dataframe thead th {\n",
       "        text-align: right;\n",
       "    }\n",
       "</style>\n",
       "<table border=\"1\" class=\"dataframe\">\n",
       "  <thead>\n",
       "    <tr style=\"text-align: right;\">\n",
       "      <th></th>\n",
       "      <th>userId</th>\n",
       "      <th>movieId</th>\n",
       "      <th>rating</th>\n",
       "      <th>timestamp</th>\n",
       "    </tr>\n",
       "  </thead>\n",
       "  <tbody>\n",
       "    <tr>\n",
       "      <th>0</th>\n",
       "      <td>1</td>\n",
       "      <td>2</td>\n",
       "      <td>3.5</td>\n",
       "      <td>2005-04-02 23:53:47</td>\n",
       "    </tr>\n",
       "    <tr>\n",
       "      <th>1</th>\n",
       "      <td>1</td>\n",
       "      <td>29</td>\n",
       "      <td>3.5</td>\n",
       "      <td>2005-04-02 23:31:16</td>\n",
       "    </tr>\n",
       "    <tr>\n",
       "      <th>2</th>\n",
       "      <td>1</td>\n",
       "      <td>32</td>\n",
       "      <td>3.5</td>\n",
       "      <td>2005-04-02 23:33:39</td>\n",
       "    </tr>\n",
       "    <tr>\n",
       "      <th>3</th>\n",
       "      <td>1</td>\n",
       "      <td>47</td>\n",
       "      <td>3.5</td>\n",
       "      <td>2005-04-02 23:32:07</td>\n",
       "    </tr>\n",
       "    <tr>\n",
       "      <th>4</th>\n",
       "      <td>1</td>\n",
       "      <td>50</td>\n",
       "      <td>3.5</td>\n",
       "      <td>2005-04-02 23:29:40</td>\n",
       "    </tr>\n",
       "  </tbody>\n",
       "</table>\n",
       "</div>"
      ],
      "text/plain": [
       "   userId  movieId  rating            timestamp\n",
       "0       1        2     3.5  2005-04-02 23:53:47\n",
       "1       1       29     3.5  2005-04-02 23:31:16\n",
       "2       1       32     3.5  2005-04-02 23:33:39\n",
       "3       1       47     3.5  2005-04-02 23:32:07\n",
       "4       1       50     3.5  2005-04-02 23:29:40"
      ]
     },
     "execution_count": 96,
     "metadata": {},
     "output_type": "execute_result"
    }
   ],
   "source": [
    "print(ratings_df.shape)\n",
    "ratings_df.head()"
   ]
  },
  {
   "cell_type": "code",
   "execution_count": 97,
   "id": "67850033-e48c-410c-8390-2ac15f5b6a53",
   "metadata": {},
   "outputs": [
    {
     "name": "stdout",
     "output_type": "stream",
     "text": [
      "(465564, 4)\n"
     ]
    },
    {
     "data": {
      "text/html": [
       "<div>\n",
       "<style scoped>\n",
       "    .dataframe tbody tr th:only-of-type {\n",
       "        vertical-align: middle;\n",
       "    }\n",
       "\n",
       "    .dataframe tbody tr th {\n",
       "        vertical-align: top;\n",
       "    }\n",
       "\n",
       "    .dataframe thead th {\n",
       "        text-align: right;\n",
       "    }\n",
       "</style>\n",
       "<table border=\"1\" class=\"dataframe\">\n",
       "  <thead>\n",
       "    <tr style=\"text-align: right;\">\n",
       "      <th></th>\n",
       "      <th>userId</th>\n",
       "      <th>movieId</th>\n",
       "      <th>tag</th>\n",
       "      <th>timestamp</th>\n",
       "    </tr>\n",
       "  </thead>\n",
       "  <tbody>\n",
       "    <tr>\n",
       "      <th>0</th>\n",
       "      <td>18</td>\n",
       "      <td>4141</td>\n",
       "      <td>Mark Waters</td>\n",
       "      <td>2009-04-24 18:19:40</td>\n",
       "    </tr>\n",
       "    <tr>\n",
       "      <th>1</th>\n",
       "      <td>65</td>\n",
       "      <td>208</td>\n",
       "      <td>dark hero</td>\n",
       "      <td>2013-05-10 01:41:18</td>\n",
       "    </tr>\n",
       "    <tr>\n",
       "      <th>2</th>\n",
       "      <td>65</td>\n",
       "      <td>353</td>\n",
       "      <td>dark hero</td>\n",
       "      <td>2013-05-10 01:41:19</td>\n",
       "    </tr>\n",
       "    <tr>\n",
       "      <th>3</th>\n",
       "      <td>65</td>\n",
       "      <td>521</td>\n",
       "      <td>noir thriller</td>\n",
       "      <td>2013-05-10 01:39:43</td>\n",
       "    </tr>\n",
       "    <tr>\n",
       "      <th>4</th>\n",
       "      <td>65</td>\n",
       "      <td>592</td>\n",
       "      <td>dark hero</td>\n",
       "      <td>2013-05-10 01:41:18</td>\n",
       "    </tr>\n",
       "  </tbody>\n",
       "</table>\n",
       "</div>"
      ],
      "text/plain": [
       "   userId  movieId            tag            timestamp\n",
       "0      18     4141    Mark Waters  2009-04-24 18:19:40\n",
       "1      65      208      dark hero  2013-05-10 01:41:18\n",
       "2      65      353      dark hero  2013-05-10 01:41:19\n",
       "3      65      521  noir thriller  2013-05-10 01:39:43\n",
       "4      65      592      dark hero  2013-05-10 01:41:18"
      ]
     },
     "execution_count": 97,
     "metadata": {},
     "output_type": "execute_result"
    }
   ],
   "source": [
    "print(tags_df.shape)\n",
    "tags_df.head()"
   ]
  },
  {
   "cell_type": "code",
   "execution_count": 98,
   "id": "b8ad93bc-bdf1-454e-a32c-28739f39efa3",
   "metadata": {},
   "outputs": [
    {
     "name": "stdout",
     "output_type": "stream",
     "text": [
      "(27278, 3)\n"
     ]
    },
    {
     "data": {
      "text/html": [
       "<div>\n",
       "<style scoped>\n",
       "    .dataframe tbody tr th:only-of-type {\n",
       "        vertical-align: middle;\n",
       "    }\n",
       "\n",
       "    .dataframe tbody tr th {\n",
       "        vertical-align: top;\n",
       "    }\n",
       "\n",
       "    .dataframe thead th {\n",
       "        text-align: right;\n",
       "    }\n",
       "</style>\n",
       "<table border=\"1\" class=\"dataframe\">\n",
       "  <thead>\n",
       "    <tr style=\"text-align: right;\">\n",
       "      <th></th>\n",
       "      <th>movieId</th>\n",
       "      <th>title</th>\n",
       "      <th>genres</th>\n",
       "    </tr>\n",
       "  </thead>\n",
       "  <tbody>\n",
       "    <tr>\n",
       "      <th>0</th>\n",
       "      <td>1</td>\n",
       "      <td>Toy Story (1995)</td>\n",
       "      <td>Adventure|Animation|Children|Comedy|Fantasy</td>\n",
       "    </tr>\n",
       "    <tr>\n",
       "      <th>1</th>\n",
       "      <td>2</td>\n",
       "      <td>Jumanji (1995)</td>\n",
       "      <td>Adventure|Children|Fantasy</td>\n",
       "    </tr>\n",
       "    <tr>\n",
       "      <th>2</th>\n",
       "      <td>3</td>\n",
       "      <td>Grumpier Old Men (1995)</td>\n",
       "      <td>Comedy|Romance</td>\n",
       "    </tr>\n",
       "    <tr>\n",
       "      <th>3</th>\n",
       "      <td>4</td>\n",
       "      <td>Waiting to Exhale (1995)</td>\n",
       "      <td>Comedy|Drama|Romance</td>\n",
       "    </tr>\n",
       "    <tr>\n",
       "      <th>4</th>\n",
       "      <td>5</td>\n",
       "      <td>Father of the Bride Part II (1995)</td>\n",
       "      <td>Comedy</td>\n",
       "    </tr>\n",
       "  </tbody>\n",
       "</table>\n",
       "</div>"
      ],
      "text/plain": [
       "   movieId                               title  \\\n",
       "0        1                    Toy Story (1995)   \n",
       "1        2                      Jumanji (1995)   \n",
       "2        3             Grumpier Old Men (1995)   \n",
       "3        4            Waiting to Exhale (1995)   \n",
       "4        5  Father of the Bride Part II (1995)   \n",
       "\n",
       "                                        genres  \n",
       "0  Adventure|Animation|Children|Comedy|Fantasy  \n",
       "1                   Adventure|Children|Fantasy  \n",
       "2                               Comedy|Romance  \n",
       "3                         Comedy|Drama|Romance  \n",
       "4                                       Comedy  "
      ]
     },
     "execution_count": 98,
     "metadata": {},
     "output_type": "execute_result"
    }
   ],
   "source": [
    "print(movies_df.shape)\n",
    "movies_df.head()"
   ]
  },
  {
   "cell_type": "code",
   "execution_count": 99,
   "id": "3d0a130e-588e-4a67-ab4e-3a03aa91baa8",
   "metadata": {},
   "outputs": [
    {
     "data": {
      "text/html": [
       "<div>\n",
       "<style scoped>\n",
       "    .dataframe tbody tr th:only-of-type {\n",
       "        vertical-align: middle;\n",
       "    }\n",
       "\n",
       "    .dataframe tbody tr th {\n",
       "        vertical-align: top;\n",
       "    }\n",
       "\n",
       "    .dataframe thead th {\n",
       "        text-align: right;\n",
       "    }\n",
       "</style>\n",
       "<table border=\"1\" class=\"dataframe\">\n",
       "  <thead>\n",
       "    <tr style=\"text-align: right;\">\n",
       "      <th></th>\n",
       "      <th>movieId</th>\n",
       "      <th>title</th>\n",
       "      <th>genres</th>\n",
       "    </tr>\n",
       "  </thead>\n",
       "  <tbody>\n",
       "    <tr>\n",
       "      <th>0</th>\n",
       "      <td>1</td>\n",
       "      <td>Toy Story (1995)</td>\n",
       "      <td>Adventure|Animation|Children|Comedy|Fantasy</td>\n",
       "    </tr>\n",
       "    <tr>\n",
       "      <th>1</th>\n",
       "      <td>2</td>\n",
       "      <td>Jumanji (1995)</td>\n",
       "      <td>Adventure|Children|Fantasy</td>\n",
       "    </tr>\n",
       "    <tr>\n",
       "      <th>2</th>\n",
       "      <td>3</td>\n",
       "      <td>Grumpier Old Men (1995)</td>\n",
       "      <td>Comedy|Romance</td>\n",
       "    </tr>\n",
       "    <tr>\n",
       "      <th>3</th>\n",
       "      <td>4</td>\n",
       "      <td>Waiting to Exhale (1995)</td>\n",
       "      <td>Comedy|Drama|Romance</td>\n",
       "    </tr>\n",
       "    <tr>\n",
       "      <th>4</th>\n",
       "      <td>5</td>\n",
       "      <td>Father of the Bride Part II (1995)</td>\n",
       "      <td>Comedy</td>\n",
       "    </tr>\n",
       "  </tbody>\n",
       "</table>\n",
       "</div>"
      ],
      "text/plain": [
       "   movieId                               title  \\\n",
       "0        1                    Toy Story (1995)   \n",
       "1        2                      Jumanji (1995)   \n",
       "2        3             Grumpier Old Men (1995)   \n",
       "3        4            Waiting to Exhale (1995)   \n",
       "4        5  Father of the Bride Part II (1995)   \n",
       "\n",
       "                                        genres  \n",
       "0  Adventure|Animation|Children|Comedy|Fantasy  \n",
       "1                   Adventure|Children|Fantasy  \n",
       "2                               Comedy|Romance  \n",
       "3                         Comedy|Drama|Romance  \n",
       "4                                       Comedy  "
      ]
     },
     "execution_count": 99,
     "metadata": {},
     "output_type": "execute_result"
    }
   ],
   "source": [
    "movies_df.head()"
   ]
  },
  {
   "cell_type": "code",
   "execution_count": 100,
   "id": "2e9256fb-ff2f-4d0e-a50f-8f73af950717",
   "metadata": {},
   "outputs": [
    {
     "data": {
      "text/html": [
       "<div>\n",
       "<style scoped>\n",
       "    .dataframe tbody tr th:only-of-type {\n",
       "        vertical-align: middle;\n",
       "    }\n",
       "\n",
       "    .dataframe tbody tr th {\n",
       "        vertical-align: top;\n",
       "    }\n",
       "\n",
       "    .dataframe thead th {\n",
       "        text-align: right;\n",
       "    }\n",
       "</style>\n",
       "<table border=\"1\" class=\"dataframe\">\n",
       "  <thead>\n",
       "    <tr style=\"text-align: right;\">\n",
       "      <th></th>\n",
       "      <th>movieId</th>\n",
       "      <th>title</th>\n",
       "      <th>genres</th>\n",
       "    </tr>\n",
       "  </thead>\n",
       "  <tbody>\n",
       "    <tr>\n",
       "      <th>1178</th>\n",
       "      <td>1203</td>\n",
       "      <td>12 Angry Men (1957)</td>\n",
       "      <td>Drama</td>\n",
       "    </tr>\n",
       "    <tr>\n",
       "      <th>15253</th>\n",
       "      <td>77846</td>\n",
       "      <td>12 Angry Men (1997)</td>\n",
       "      <td>Crime|Drama</td>\n",
       "    </tr>\n",
       "  </tbody>\n",
       "</table>\n",
       "</div>"
      ],
      "text/plain": [
       "       movieId                title       genres\n",
       "1178      1203  12 Angry Men (1957)        Drama\n",
       "15253    77846  12 Angry Men (1997)  Crime|Drama"
      ]
     },
     "execution_count": 100,
     "metadata": {},
     "output_type": "execute_result"
    }
   ],
   "source": [
    "movies_df[(movies_df.movieId==1203) | (movies_df.movieId==77846)]"
   ]
  },
  {
   "cell_type": "code",
   "execution_count": 101,
   "id": "c9d54b7a-e3b4-4367-a97d-208bf5a8874c",
   "metadata": {},
   "outputs": [
    {
     "data": {
      "text/html": [
       "<div>\n",
       "<style scoped>\n",
       "    .dataframe tbody tr th:only-of-type {\n",
       "        vertical-align: middle;\n",
       "    }\n",
       "\n",
       "    .dataframe tbody tr th {\n",
       "        vertical-align: top;\n",
       "    }\n",
       "\n",
       "    .dataframe thead th {\n",
       "        text-align: right;\n",
       "    }\n",
       "</style>\n",
       "<table border=\"1\" class=\"dataframe\">\n",
       "  <thead>\n",
       "    <tr style=\"text-align: right;\">\n",
       "      <th></th>\n",
       "      <th>movieId</th>\n",
       "      <th>title</th>\n",
       "      <th>genres</th>\n",
       "    </tr>\n",
       "  </thead>\n",
       "  <tbody>\n",
       "    <tr>\n",
       "      <th>21333</th>\n",
       "      <td>103671</td>\n",
       "      <td>Joker (2012)</td>\n",
       "      <td>Comedy</td>\n",
       "    </tr>\n",
       "  </tbody>\n",
       "</table>\n",
       "</div>"
      ],
      "text/plain": [
       "       movieId         title  genres\n",
       "21333   103671  Joker (2012)  Comedy"
      ]
     },
     "execution_count": 101,
     "metadata": {},
     "output_type": "execute_result"
    }
   ],
   "source": [
    "movies_df[(movies_df.movieId==103671)]"
   ]
  },
  {
   "cell_type": "code",
   "execution_count": 105,
   "id": "61e9edbb-76bd-4718-9197-14afb422e146",
   "metadata": {},
   "outputs": [],
   "source": [
    "movielens_df = movies_df.copy()"
   ]
  },
  {
   "cell_type": "code",
   "execution_count": 106,
   "id": "e846f5d8-8628-44e7-b505-f2c7c324896b",
   "metadata": {},
   "outputs": [
    {
     "data": {
      "text/html": [
       "<div>\n",
       "<style scoped>\n",
       "    .dataframe tbody tr th:only-of-type {\n",
       "        vertical-align: middle;\n",
       "    }\n",
       "\n",
       "    .dataframe tbody tr th {\n",
       "        vertical-align: top;\n",
       "    }\n",
       "\n",
       "    .dataframe thead th {\n",
       "        text-align: right;\n",
       "    }\n",
       "</style>\n",
       "<table border=\"1\" class=\"dataframe\">\n",
       "  <thead>\n",
       "    <tr style=\"text-align: right;\">\n",
       "      <th></th>\n",
       "      <th>movieId</th>\n",
       "      <th>title</th>\n",
       "      <th>genres</th>\n",
       "    </tr>\n",
       "  </thead>\n",
       "  <tbody>\n",
       "    <tr>\n",
       "      <th>0</th>\n",
       "      <td>1</td>\n",
       "      <td>Toy Story (1995)</td>\n",
       "      <td>Adventure|Animation|Children|Comedy|Fantasy</td>\n",
       "    </tr>\n",
       "    <tr>\n",
       "      <th>1</th>\n",
       "      <td>2</td>\n",
       "      <td>Jumanji (1995)</td>\n",
       "      <td>Adventure|Children|Fantasy</td>\n",
       "    </tr>\n",
       "    <tr>\n",
       "      <th>2</th>\n",
       "      <td>3</td>\n",
       "      <td>Grumpier Old Men (1995)</td>\n",
       "      <td>Comedy|Romance</td>\n",
       "    </tr>\n",
       "    <tr>\n",
       "      <th>3</th>\n",
       "      <td>4</td>\n",
       "      <td>Waiting to Exhale (1995)</td>\n",
       "      <td>Comedy|Drama|Romance</td>\n",
       "    </tr>\n",
       "    <tr>\n",
       "      <th>4</th>\n",
       "      <td>5</td>\n",
       "      <td>Father of the Bride Part II (1995)</td>\n",
       "      <td>Comedy</td>\n",
       "    </tr>\n",
       "  </tbody>\n",
       "</table>\n",
       "</div>"
      ],
      "text/plain": [
       "   movieId                               title  \\\n",
       "0        1                    Toy Story (1995)   \n",
       "1        2                      Jumanji (1995)   \n",
       "2        3             Grumpier Old Men (1995)   \n",
       "3        4            Waiting to Exhale (1995)   \n",
       "4        5  Father of the Bride Part II (1995)   \n",
       "\n",
       "                                        genres  \n",
       "0  Adventure|Animation|Children|Comedy|Fantasy  \n",
       "1                   Adventure|Children|Fantasy  \n",
       "2                               Comedy|Romance  \n",
       "3                         Comedy|Drama|Romance  \n",
       "4                                       Comedy  "
      ]
     },
     "execution_count": 106,
     "metadata": {},
     "output_type": "execute_result"
    }
   ],
   "source": [
    "movielens_df.head()"
   ]
  },
  {
   "cell_type": "code",
   "execution_count": 107,
   "id": "271e7b4c-d6f9-4d10-adb1-763bce79a869",
   "metadata": {},
   "outputs": [],
   "source": [
    "movielens_df['year'] = movielens_df['title'].str[-7:]\n",
    "movielens_df['title'] = movielens_df['title'].str[:-7]"
   ]
  },
  {
   "cell_type": "code",
   "execution_count": 108,
   "id": "25444ad0-3b2b-4360-8ab4-42076cd19a99",
   "metadata": {},
   "outputs": [
    {
     "data": {
      "text/html": [
       "<div>\n",
       "<style scoped>\n",
       "    .dataframe tbody tr th:only-of-type {\n",
       "        vertical-align: middle;\n",
       "    }\n",
       "\n",
       "    .dataframe tbody tr th {\n",
       "        vertical-align: top;\n",
       "    }\n",
       "\n",
       "    .dataframe thead th {\n",
       "        text-align: right;\n",
       "    }\n",
       "</style>\n",
       "<table border=\"1\" class=\"dataframe\">\n",
       "  <thead>\n",
       "    <tr style=\"text-align: right;\">\n",
       "      <th></th>\n",
       "      <th>movieId</th>\n",
       "      <th>title</th>\n",
       "      <th>genres</th>\n",
       "      <th>year</th>\n",
       "    </tr>\n",
       "  </thead>\n",
       "  <tbody>\n",
       "    <tr>\n",
       "      <th>0</th>\n",
       "      <td>1</td>\n",
       "      <td>Toy Story</td>\n",
       "      <td>Adventure|Animation|Children|Comedy|Fantasy</td>\n",
       "      <td>(1995)</td>\n",
       "    </tr>\n",
       "    <tr>\n",
       "      <th>1</th>\n",
       "      <td>2</td>\n",
       "      <td>Jumanji</td>\n",
       "      <td>Adventure|Children|Fantasy</td>\n",
       "      <td>(1995)</td>\n",
       "    </tr>\n",
       "    <tr>\n",
       "      <th>2</th>\n",
       "      <td>3</td>\n",
       "      <td>Grumpier Old Men</td>\n",
       "      <td>Comedy|Romance</td>\n",
       "      <td>(1995)</td>\n",
       "    </tr>\n",
       "    <tr>\n",
       "      <th>3</th>\n",
       "      <td>4</td>\n",
       "      <td>Waiting to Exhale</td>\n",
       "      <td>Comedy|Drama|Romance</td>\n",
       "      <td>(1995)</td>\n",
       "    </tr>\n",
       "    <tr>\n",
       "      <th>4</th>\n",
       "      <td>5</td>\n",
       "      <td>Father of the Bride Part II</td>\n",
       "      <td>Comedy</td>\n",
       "      <td>(1995)</td>\n",
       "    </tr>\n",
       "  </tbody>\n",
       "</table>\n",
       "</div>"
      ],
      "text/plain": [
       "   movieId                        title  \\\n",
       "0        1                    Toy Story   \n",
       "1        2                      Jumanji   \n",
       "2        3             Grumpier Old Men   \n",
       "3        4            Waiting to Exhale   \n",
       "4        5  Father of the Bride Part II   \n",
       "\n",
       "                                        genres     year  \n",
       "0  Adventure|Animation|Children|Comedy|Fantasy   (1995)  \n",
       "1                   Adventure|Children|Fantasy   (1995)  \n",
       "2                               Comedy|Romance   (1995)  \n",
       "3                         Comedy|Drama|Romance   (1995)  \n",
       "4                                       Comedy   (1995)  "
      ]
     },
     "execution_count": 108,
     "metadata": {},
     "output_type": "execute_result"
    }
   ],
   "source": [
    "movielens_df.head()"
   ]
  },
  {
   "cell_type": "code",
   "execution_count": 112,
   "id": "9b92b38c-c789-4383-8112-b27725e82bca",
   "metadata": {},
   "outputs": [],
   "source": [
    "movielens_df['year'] = movielens_df['year'].str[2:-1]"
   ]
  },
  {
   "cell_type": "code",
   "execution_count": 145,
   "id": "dc5b6ec1-a494-425a-ab38-abb70a5d78da",
   "metadata": {},
   "outputs": [],
   "source": [
    "movielens_df = movielens_df[['movieId','title','year','genres']]"
   ]
  },
  {
   "cell_type": "code",
   "execution_count": 146,
   "id": "a128c6c7-0a6a-4c53-a7ad-f023329ad2c4",
   "metadata": {},
   "outputs": [
    {
     "data": {
      "text/html": [
       "<div>\n",
       "<style scoped>\n",
       "    .dataframe tbody tr th:only-of-type {\n",
       "        vertical-align: middle;\n",
       "    }\n",
       "\n",
       "    .dataframe tbody tr th {\n",
       "        vertical-align: top;\n",
       "    }\n",
       "\n",
       "    .dataframe thead th {\n",
       "        text-align: right;\n",
       "    }\n",
       "</style>\n",
       "<table border=\"1\" class=\"dataframe\">\n",
       "  <thead>\n",
       "    <tr style=\"text-align: right;\">\n",
       "      <th></th>\n",
       "      <th>movieId</th>\n",
       "      <th>title</th>\n",
       "      <th>year</th>\n",
       "      <th>genres</th>\n",
       "    </tr>\n",
       "  </thead>\n",
       "  <tbody>\n",
       "    <tr>\n",
       "      <th>0</th>\n",
       "      <td>1</td>\n",
       "      <td>Toy Story</td>\n",
       "      <td>1995</td>\n",
       "      <td>Adventure|Animation|Children|Comedy|Fantasy</td>\n",
       "    </tr>\n",
       "    <tr>\n",
       "      <th>1</th>\n",
       "      <td>2</td>\n",
       "      <td>Jumanji</td>\n",
       "      <td>1995</td>\n",
       "      <td>Adventure|Children|Fantasy</td>\n",
       "    </tr>\n",
       "    <tr>\n",
       "      <th>2</th>\n",
       "      <td>3</td>\n",
       "      <td>Grumpier Old Men</td>\n",
       "      <td>1995</td>\n",
       "      <td>Comedy|Romance</td>\n",
       "    </tr>\n",
       "    <tr>\n",
       "      <th>3</th>\n",
       "      <td>4</td>\n",
       "      <td>Waiting to Exhale</td>\n",
       "      <td>1995</td>\n",
       "      <td>Comedy|Drama|Romance</td>\n",
       "    </tr>\n",
       "    <tr>\n",
       "      <th>4</th>\n",
       "      <td>5</td>\n",
       "      <td>Father of the Bride Part II</td>\n",
       "      <td>1995</td>\n",
       "      <td>Comedy</td>\n",
       "    </tr>\n",
       "  </tbody>\n",
       "</table>\n",
       "</div>"
      ],
      "text/plain": [
       "   movieId                        title  year  \\\n",
       "0        1                    Toy Story  1995   \n",
       "1        2                      Jumanji  1995   \n",
       "2        3             Grumpier Old Men  1995   \n",
       "3        4            Waiting to Exhale  1995   \n",
       "4        5  Father of the Bride Part II  1995   \n",
       "\n",
       "                                        genres  \n",
       "0  Adventure|Animation|Children|Comedy|Fantasy  \n",
       "1                   Adventure|Children|Fantasy  \n",
       "2                               Comedy|Romance  \n",
       "3                         Comedy|Drama|Romance  \n",
       "4                                       Comedy  "
      ]
     },
     "execution_count": 146,
     "metadata": {},
     "output_type": "execute_result"
    }
   ],
   "source": [
    "movielens_df.head()"
   ]
  },
  {
   "cell_type": "markdown",
   "id": "6cb65086-e1c4-41a9-a31f-21c62dd71855",
   "metadata": {},
   "source": [
    "#### 1-2. IMDB"
   ]
  },
  {
   "cell_type": "code",
   "execution_count": 147,
   "id": "580aa0ce-5129-4fcf-b1ce-f058571103b0",
   "metadata": {},
   "outputs": [],
   "source": [
    "path = './../../data/'"
   ]
  },
  {
   "cell_type": "code",
   "execution_count": 148,
   "id": "3ef82744-6841-4010-a76c-21c942a1b5e0",
   "metadata": {},
   "outputs": [
    {
     "data": {
      "text/plain": [
       "['imdb_30.csv',\n",
       " 'imdb_30.xlsx',\n",
       " 'imdb_40.xlsx',\n",
       " 'imdb_50.csv',\n",
       " 'imdb_top_1000.csv',\n",
       " 'movieLens',\n",
       " '~$imdb_30.xlsx',\n",
       " '~$imdb_40.xlsx']"
      ]
     },
     "execution_count": 148,
     "metadata": {},
     "output_type": "execute_result"
    }
   ],
   "source": [
    "os.listdir(path)"
   ]
  },
  {
   "cell_type": "code",
   "execution_count": 149,
   "id": "ab3cd56e-9d25-4815-a500-091345d8c522",
   "metadata": {},
   "outputs": [],
   "source": [
    "imdb_1000 = pd.read_csv(os.path.join(path + 'imdb_top_1000.csv'), encoding='utf-8')"
   ]
  },
  {
   "cell_type": "code",
   "execution_count": 150,
   "id": "e9723627-4c67-468c-956a-0b4b2d4efb8e",
   "metadata": {},
   "outputs": [
    {
     "name": "stdout",
     "output_type": "stream",
     "text": [
      "(1000, 16)\n"
     ]
    }
   ],
   "source": [
    "print(imdb_1000.shape)"
   ]
  },
  {
   "cell_type": "code",
   "execution_count": 151,
   "id": "3c108016-561c-4945-83f4-98f76a2a0658",
   "metadata": {},
   "outputs": [
    {
     "data": {
      "text/plain": [
       "Index(['Poster_Link', 'Series_Title', 'Released_Year', 'Certificate',\n",
       "       'Runtime', 'Genre', 'IMDB_Rating', 'Overview', 'Meta_score', 'Director',\n",
       "       'Star1', 'Star2', 'Star3', 'Star4', 'No_of_Votes', 'Gross'],\n",
       "      dtype='object')"
      ]
     },
     "execution_count": 151,
     "metadata": {},
     "output_type": "execute_result"
    }
   ],
   "source": [
    "imdb_1000.columns"
   ]
  },
  {
   "cell_type": "code",
   "execution_count": 152,
   "id": "ff280381-ee5b-4254-b0f5-b1581f73d858",
   "metadata": {},
   "outputs": [
    {
     "data": {
      "text/html": [
       "<div>\n",
       "<style scoped>\n",
       "    .dataframe tbody tr th:only-of-type {\n",
       "        vertical-align: middle;\n",
       "    }\n",
       "\n",
       "    .dataframe tbody tr th {\n",
       "        vertical-align: top;\n",
       "    }\n",
       "\n",
       "    .dataframe thead th {\n",
       "        text-align: right;\n",
       "    }\n",
       "</style>\n",
       "<table border=\"1\" class=\"dataframe\">\n",
       "  <thead>\n",
       "    <tr style=\"text-align: right;\">\n",
       "      <th></th>\n",
       "      <th>Poster_Link</th>\n",
       "      <th>Series_Title</th>\n",
       "      <th>Released_Year</th>\n",
       "      <th>Certificate</th>\n",
       "      <th>Runtime</th>\n",
       "      <th>Genre</th>\n",
       "      <th>IMDB_Rating</th>\n",
       "      <th>Overview</th>\n",
       "      <th>Meta_score</th>\n",
       "      <th>Director</th>\n",
       "      <th>Star1</th>\n",
       "      <th>Star2</th>\n",
       "      <th>Star3</th>\n",
       "      <th>Star4</th>\n",
       "      <th>No_of_Votes</th>\n",
       "      <th>Gross</th>\n",
       "    </tr>\n",
       "  </thead>\n",
       "  <tbody>\n",
       "    <tr>\n",
       "      <th>0</th>\n",
       "      <td>https://m.media-amazon.com/images/M/MV5BMDFkYT...</td>\n",
       "      <td>The Shawshank Redemption</td>\n",
       "      <td>1994</td>\n",
       "      <td>A</td>\n",
       "      <td>142 min</td>\n",
       "      <td>Drama</td>\n",
       "      <td>9.3</td>\n",
       "      <td>Two imprisoned men bond over a number of years...</td>\n",
       "      <td>80.0</td>\n",
       "      <td>Frank Darabont</td>\n",
       "      <td>Tim Robbins</td>\n",
       "      <td>Morgan Freeman</td>\n",
       "      <td>Bob Gunton</td>\n",
       "      <td>William Sadler</td>\n",
       "      <td>2343110</td>\n",
       "      <td>28,341,469</td>\n",
       "    </tr>\n",
       "    <tr>\n",
       "      <th>1</th>\n",
       "      <td>https://m.media-amazon.com/images/M/MV5BM2MyNj...</td>\n",
       "      <td>The Godfather</td>\n",
       "      <td>1972</td>\n",
       "      <td>A</td>\n",
       "      <td>175 min</td>\n",
       "      <td>Crime, Drama</td>\n",
       "      <td>9.2</td>\n",
       "      <td>An organized crime dynasty's aging patriarch t...</td>\n",
       "      <td>100.0</td>\n",
       "      <td>Francis Ford Coppola</td>\n",
       "      <td>Marlon Brando</td>\n",
       "      <td>Al Pacino</td>\n",
       "      <td>James Caan</td>\n",
       "      <td>Diane Keaton</td>\n",
       "      <td>1620367</td>\n",
       "      <td>134,966,411</td>\n",
       "    </tr>\n",
       "    <tr>\n",
       "      <th>2</th>\n",
       "      <td>https://m.media-amazon.com/images/M/MV5BMTMxNT...</td>\n",
       "      <td>The Dark Knight</td>\n",
       "      <td>2008</td>\n",
       "      <td>UA</td>\n",
       "      <td>152 min</td>\n",
       "      <td>Action, Crime, Drama</td>\n",
       "      <td>9.0</td>\n",
       "      <td>When the menace known as the Joker wreaks havo...</td>\n",
       "      <td>84.0</td>\n",
       "      <td>Christopher Nolan</td>\n",
       "      <td>Christian Bale</td>\n",
       "      <td>Heath Ledger</td>\n",
       "      <td>Aaron Eckhart</td>\n",
       "      <td>Michael Caine</td>\n",
       "      <td>2303232</td>\n",
       "      <td>534,858,444</td>\n",
       "    </tr>\n",
       "    <tr>\n",
       "      <th>3</th>\n",
       "      <td>https://m.media-amazon.com/images/M/MV5BMWMwMG...</td>\n",
       "      <td>The Godfather: Part II</td>\n",
       "      <td>1974</td>\n",
       "      <td>A</td>\n",
       "      <td>202 min</td>\n",
       "      <td>Crime, Drama</td>\n",
       "      <td>9.0</td>\n",
       "      <td>The early life and career of Vito Corleone in ...</td>\n",
       "      <td>90.0</td>\n",
       "      <td>Francis Ford Coppola</td>\n",
       "      <td>Al Pacino</td>\n",
       "      <td>Robert De Niro</td>\n",
       "      <td>Robert Duvall</td>\n",
       "      <td>Diane Keaton</td>\n",
       "      <td>1129952</td>\n",
       "      <td>57,300,000</td>\n",
       "    </tr>\n",
       "    <tr>\n",
       "      <th>4</th>\n",
       "      <td>https://m.media-amazon.com/images/M/MV5BMWU4N2...</td>\n",
       "      <td>12 Angry Men</td>\n",
       "      <td>1957</td>\n",
       "      <td>U</td>\n",
       "      <td>96 min</td>\n",
       "      <td>Crime, Drama</td>\n",
       "      <td>9.0</td>\n",
       "      <td>A jury holdout attempts to prevent a miscarria...</td>\n",
       "      <td>96.0</td>\n",
       "      <td>Sidney Lumet</td>\n",
       "      <td>Henry Fonda</td>\n",
       "      <td>Lee J. Cobb</td>\n",
       "      <td>Martin Balsam</td>\n",
       "      <td>John Fiedler</td>\n",
       "      <td>689845</td>\n",
       "      <td>4,360,000</td>\n",
       "    </tr>\n",
       "  </tbody>\n",
       "</table>\n",
       "</div>"
      ],
      "text/plain": [
       "                                         Poster_Link  \\\n",
       "0  https://m.media-amazon.com/images/M/MV5BMDFkYT...   \n",
       "1  https://m.media-amazon.com/images/M/MV5BM2MyNj...   \n",
       "2  https://m.media-amazon.com/images/M/MV5BMTMxNT...   \n",
       "3  https://m.media-amazon.com/images/M/MV5BMWMwMG...   \n",
       "4  https://m.media-amazon.com/images/M/MV5BMWU4N2...   \n",
       "\n",
       "               Series_Title Released_Year Certificate  Runtime  \\\n",
       "0  The Shawshank Redemption          1994           A  142 min   \n",
       "1             The Godfather          1972           A  175 min   \n",
       "2           The Dark Knight          2008          UA  152 min   \n",
       "3    The Godfather: Part II          1974           A  202 min   \n",
       "4              12 Angry Men          1957           U   96 min   \n",
       "\n",
       "                  Genre  IMDB_Rating  \\\n",
       "0                 Drama          9.3   \n",
       "1          Crime, Drama          9.2   \n",
       "2  Action, Crime, Drama          9.0   \n",
       "3          Crime, Drama          9.0   \n",
       "4          Crime, Drama          9.0   \n",
       "\n",
       "                                            Overview  Meta_score  \\\n",
       "0  Two imprisoned men bond over a number of years...        80.0   \n",
       "1  An organized crime dynasty's aging patriarch t...       100.0   \n",
       "2  When the menace known as the Joker wreaks havo...        84.0   \n",
       "3  The early life and career of Vito Corleone in ...        90.0   \n",
       "4  A jury holdout attempts to prevent a miscarria...        96.0   \n",
       "\n",
       "               Director           Star1           Star2          Star3  \\\n",
       "0        Frank Darabont     Tim Robbins  Morgan Freeman     Bob Gunton   \n",
       "1  Francis Ford Coppola   Marlon Brando       Al Pacino     James Caan   \n",
       "2     Christopher Nolan  Christian Bale    Heath Ledger  Aaron Eckhart   \n",
       "3  Francis Ford Coppola       Al Pacino  Robert De Niro  Robert Duvall   \n",
       "4          Sidney Lumet     Henry Fonda     Lee J. Cobb  Martin Balsam   \n",
       "\n",
       "            Star4  No_of_Votes        Gross  \n",
       "0  William Sadler      2343110   28,341,469  \n",
       "1    Diane Keaton      1620367  134,966,411  \n",
       "2   Michael Caine      2303232  534,858,444  \n",
       "3    Diane Keaton      1129952   57,300,000  \n",
       "4    John Fiedler       689845    4,360,000  "
      ]
     },
     "execution_count": 152,
     "metadata": {},
     "output_type": "execute_result"
    }
   ],
   "source": [
    "imdb_1000.head()"
   ]
  },
  {
   "cell_type": "code",
   "execution_count": 153,
   "id": "4fe9a214-81b7-43d4-b78d-10ec70310f2c",
   "metadata": {},
   "outputs": [],
   "source": [
    "imdb_df = imdb_1000.copy()"
   ]
  },
  {
   "cell_type": "code",
   "execution_count": 154,
   "id": "d3bb5b70-52a8-4627-957c-b216ed4486be",
   "metadata": {},
   "outputs": [],
   "source": [
    "imdb_df = imdb_df[['Series_Title', 'Released_Year', 'Genre']]\n",
    "imdb_df.columns = ['title','year','genres']"
   ]
  },
  {
   "cell_type": "code",
   "execution_count": 155,
   "id": "a2787766-89d3-4088-b8f0-3376c45640fb",
   "metadata": {},
   "outputs": [
    {
     "data": {
      "text/html": [
       "<div>\n",
       "<style scoped>\n",
       "    .dataframe tbody tr th:only-of-type {\n",
       "        vertical-align: middle;\n",
       "    }\n",
       "\n",
       "    .dataframe tbody tr th {\n",
       "        vertical-align: top;\n",
       "    }\n",
       "\n",
       "    .dataframe thead th {\n",
       "        text-align: right;\n",
       "    }\n",
       "</style>\n",
       "<table border=\"1\" class=\"dataframe\">\n",
       "  <thead>\n",
       "    <tr style=\"text-align: right;\">\n",
       "      <th></th>\n",
       "      <th>title</th>\n",
       "      <th>year</th>\n",
       "      <th>genres</th>\n",
       "    </tr>\n",
       "  </thead>\n",
       "  <tbody>\n",
       "    <tr>\n",
       "      <th>0</th>\n",
       "      <td>The Shawshank Redemption</td>\n",
       "      <td>1994</td>\n",
       "      <td>Drama</td>\n",
       "    </tr>\n",
       "    <tr>\n",
       "      <th>1</th>\n",
       "      <td>The Godfather</td>\n",
       "      <td>1972</td>\n",
       "      <td>Crime, Drama</td>\n",
       "    </tr>\n",
       "    <tr>\n",
       "      <th>2</th>\n",
       "      <td>The Dark Knight</td>\n",
       "      <td>2008</td>\n",
       "      <td>Action, Crime, Drama</td>\n",
       "    </tr>\n",
       "    <tr>\n",
       "      <th>3</th>\n",
       "      <td>The Godfather: Part II</td>\n",
       "      <td>1974</td>\n",
       "      <td>Crime, Drama</td>\n",
       "    </tr>\n",
       "    <tr>\n",
       "      <th>4</th>\n",
       "      <td>12 Angry Men</td>\n",
       "      <td>1957</td>\n",
       "      <td>Crime, Drama</td>\n",
       "    </tr>\n",
       "  </tbody>\n",
       "</table>\n",
       "</div>"
      ],
      "text/plain": [
       "                      title  year                genres\n",
       "0  The Shawshank Redemption  1994                 Drama\n",
       "1             The Godfather  1972          Crime, Drama\n",
       "2           The Dark Knight  2008  Action, Crime, Drama\n",
       "3    The Godfather: Part II  1974          Crime, Drama\n",
       "4              12 Angry Men  1957          Crime, Drama"
      ]
     },
     "execution_count": 155,
     "metadata": {},
     "output_type": "execute_result"
    }
   ],
   "source": [
    "imdb_df.head()"
   ]
  },
  {
   "cell_type": "markdown",
   "id": "a4014a23-06af-4d1a-86f8-e035aaa70f23",
   "metadata": {},
   "source": [
    "- IMDB Top 30 "
   ]
  },
  {
   "cell_type": "code",
   "execution_count": 183,
   "id": "a99a7be7-61b4-4153-83b6-182699f84374",
   "metadata": {},
   "outputs": [],
   "source": [
    "imdb_40 = imdb_df.iloc[0:40,:]"
   ]
  },
  {
   "cell_type": "code",
   "execution_count": 184,
   "id": "3eea7488-b336-46f4-a268-ba8839f7e650",
   "metadata": {},
   "outputs": [],
   "source": [
    "imdb_40.reset_index(inplace=True)"
   ]
  },
  {
   "cell_type": "code",
   "execution_count": 186,
   "id": "4848cf80-05e7-4607-88b9-80d760d940b0",
   "metadata": {},
   "outputs": [],
   "source": [
    "imdb_40.columns = ['movieId','title','year','genres']"
   ]
  },
  {
   "cell_type": "code",
   "execution_count": 187,
   "id": "dd9cdc81-a62d-4b06-b8b1-5eac0131db6e",
   "metadata": {},
   "outputs": [
    {
     "data": {
      "text/html": [
       "<div>\n",
       "<style scoped>\n",
       "    .dataframe tbody tr th:only-of-type {\n",
       "        vertical-align: middle;\n",
       "    }\n",
       "\n",
       "    .dataframe tbody tr th {\n",
       "        vertical-align: top;\n",
       "    }\n",
       "\n",
       "    .dataframe thead th {\n",
       "        text-align: right;\n",
       "    }\n",
       "</style>\n",
       "<table border=\"1\" class=\"dataframe\">\n",
       "  <thead>\n",
       "    <tr style=\"text-align: right;\">\n",
       "      <th></th>\n",
       "      <th>movieId</th>\n",
       "      <th>title</th>\n",
       "      <th>year</th>\n",
       "      <th>genres</th>\n",
       "    </tr>\n",
       "  </thead>\n",
       "  <tbody>\n",
       "    <tr>\n",
       "      <th>0</th>\n",
       "      <td>0</td>\n",
       "      <td>The Shawshank Redemption</td>\n",
       "      <td>1994</td>\n",
       "      <td>Drama</td>\n",
       "    </tr>\n",
       "    <tr>\n",
       "      <th>1</th>\n",
       "      <td>1</td>\n",
       "      <td>The Godfather</td>\n",
       "      <td>1972</td>\n",
       "      <td>Crime, Drama</td>\n",
       "    </tr>\n",
       "    <tr>\n",
       "      <th>2</th>\n",
       "      <td>2</td>\n",
       "      <td>The Dark Knight</td>\n",
       "      <td>2008</td>\n",
       "      <td>Action, Crime, Drama</td>\n",
       "    </tr>\n",
       "    <tr>\n",
       "      <th>3</th>\n",
       "      <td>3</td>\n",
       "      <td>The Godfather: Part II</td>\n",
       "      <td>1974</td>\n",
       "      <td>Crime, Drama</td>\n",
       "    </tr>\n",
       "    <tr>\n",
       "      <th>4</th>\n",
       "      <td>4</td>\n",
       "      <td>12 Angry Men</td>\n",
       "      <td>1957</td>\n",
       "      <td>Crime, Drama</td>\n",
       "    </tr>\n",
       "  </tbody>\n",
       "</table>\n",
       "</div>"
      ],
      "text/plain": [
       "   movieId                     title  year                genres\n",
       "0        0  The Shawshank Redemption  1994                 Drama\n",
       "1        1             The Godfather  1972          Crime, Drama\n",
       "2        2           The Dark Knight  2008  Action, Crime, Drama\n",
       "3        3    The Godfather: Part II  1974          Crime, Drama\n",
       "4        4              12 Angry Men  1957          Crime, Drama"
      ]
     },
     "execution_count": 187,
     "metadata": {},
     "output_type": "execute_result"
    }
   ],
   "source": [
    "imdb_40.head()"
   ]
  },
  {
   "cell_type": "code",
   "execution_count": 188,
   "id": "1d019a2f-b977-4904-bbdc-d96aa5056de6",
   "metadata": {},
   "outputs": [
    {
     "data": {
      "text/plain": [
       "40"
      ]
     },
     "execution_count": 188,
     "metadata": {},
     "output_type": "execute_result"
    }
   ],
   "source": [
    "len(imdb_40)"
   ]
  },
  {
   "cell_type": "code",
   "execution_count": 189,
   "id": "6fbed9ea-7993-4bbc-a0f3-742698a9fe93",
   "metadata": {},
   "outputs": [],
   "source": [
    "# imdb_30.to_csv('./data/imdb_30.csv')"
   ]
  },
  {
   "cell_type": "code",
   "execution_count": 203,
   "id": "2b97fe44-3425-46bc-868f-c783ace5b745",
   "metadata": {},
   "outputs": [],
   "source": [
    "# import openpyxl\n",
    "# imdb_40.to_excel('./../../data/imdb_40.xlsx')"
   ]
  },
  {
   "cell_type": "markdown",
   "id": "af9d12cf-ac80-4d11-aadb-90025cda64be",
   "metadata": {},
   "source": [
    "### 2. Comparison between movieLens and IMDB"
   ]
  },
  {
   "cell_type": "markdown",
   "id": "0d4afe83-2ae3-46fa-96e4-be40013c6fc0",
   "metadata": {},
   "source": [
    "#### 2-1. Between movieLens and IMDB"
   ]
  },
  {
   "cell_type": "code",
   "execution_count": 191,
   "id": "d5f4e92c-66a6-497e-887d-12578c1b55ee",
   "metadata": {
    "tags": []
   },
   "outputs": [
    {
     "name": "stdout",
     "output_type": "stream",
     "text": [
      "26216\n"
     ]
    }
   ],
   "source": [
    "set_movielens = set(movielens_df.title) \n",
    "print(len(set_movielens))"
   ]
  },
  {
   "cell_type": "code",
   "execution_count": 192,
   "id": "cad46c4b-267b-4dda-9d88-27336c2883d2",
   "metadata": {
    "tags": []
   },
   "outputs": [
    {
     "name": "stdout",
     "output_type": "stream",
     "text": [
      "999\n"
     ]
    }
   ],
   "source": [
    "set_imdb = set(imdb_df.title)\n",
    "print(len(set_imdb))"
   ]
  },
  {
   "cell_type": "code",
   "execution_count": 193,
   "id": "6f14470c-2f1d-48b7-a814-c86e71bddfb8",
   "metadata": {},
   "outputs": [
    {
     "name": "stdout",
     "output_type": "stream",
     "text": [
      "518\n"
     ]
    }
   ],
   "source": [
    "difference_movies = set_imdb - set_movielens\n",
    "print(len(difference_movies))"
   ]
  },
  {
   "cell_type": "code",
   "execution_count": 194,
   "id": "fd5b5950-d718-4d49-9319-b52ac1a25ef6",
   "metadata": {},
   "outputs": [
    {
     "name": "stdout",
     "output_type": "stream",
     "text": [
      "481\n"
     ]
    }
   ],
   "source": [
    "intersection_movies = set_imdb.intersection(set_movielens)\n",
    "print(len(intersection_movies))"
   ]
  },
  {
   "cell_type": "markdown",
   "id": "4ea87250-b1c7-449d-8dce-497809ee7432",
   "metadata": {},
   "source": [
    "#### 2-2. Between movieLens and IMDB_top_40"
   ]
  },
  {
   "cell_type": "code",
   "execution_count": 195,
   "id": "38a601d0-ceb3-4834-b0b1-6dc2d2f9e16e",
   "metadata": {},
   "outputs": [
    {
     "name": "stdout",
     "output_type": "stream",
     "text": [
      "40\n"
     ]
    }
   ],
   "source": [
    "set_imdb = set(imdb_40.title)\n",
    "print(len(set_imdb))"
   ]
  },
  {
   "cell_type": "code",
   "execution_count": 196,
   "id": "cd1ce0a2-0ae9-46bd-a245-ac39fcd7a2f5",
   "metadata": {},
   "outputs": [
    {
     "name": "stdout",
     "output_type": "stream",
     "text": [
      "24\n"
     ]
    }
   ],
   "source": [
    "difference_movies = set_imdb - set_movielens\n",
    "print(len(difference_movies))"
   ]
  },
  {
   "cell_type": "code",
   "execution_count": 197,
   "id": "0c8af271-e9dc-4e10-abce-9d4c5cedd34e",
   "metadata": {},
   "outputs": [
    {
     "name": "stdout",
     "output_type": "stream",
     "text": [
      "16\n"
     ]
    }
   ],
   "source": [
    "intersection_movies = set_imdb.intersection(set_movielens)\n",
    "print(len(intersection_movies))"
   ]
  },
  {
   "cell_type": "code",
   "execution_count": 198,
   "id": "7d28b884-256d-4202-9d40-d096f3aa5e65",
   "metadata": {},
   "outputs": [
    {
     "data": {
      "text/plain": [
       "{'12 Angry Men',\n",
       " 'Fight Club',\n",
       " 'Forrest Gump',\n",
       " 'Gladiator',\n",
       " 'Goodfellas',\n",
       " 'Inception',\n",
       " 'Interstellar',\n",
       " \"It's a Wonderful Life\",\n",
       " 'Joker',\n",
       " \"One Flew Over the Cuckoo's Nest\",\n",
       " 'Pulp Fiction',\n",
       " 'Saving Private Ryan',\n",
       " \"Schindler's List\",\n",
       " 'Star Wars: Episode V - The Empire Strikes Back',\n",
       " 'The Dark Knight',\n",
       " 'Whiplash'}"
      ]
     },
     "execution_count": 198,
     "metadata": {},
     "output_type": "execute_result"
    }
   ],
   "source": [
    "intersection_movies"
   ]
  },
  {
   "cell_type": "code",
   "execution_count": 199,
   "id": "2a7400dd-053d-4af0-ad1b-f1ac7ab5e1ad",
   "metadata": {},
   "outputs": [
    {
     "data": {
      "text/plain": [
       "{'Cidade de Deus',\n",
       " 'Gisaengchung',\n",
       " 'Hamilton',\n",
       " 'Il buono, il brutto, il cattivo',\n",
       " 'La vita è bella',\n",
       " 'Se7en',\n",
       " 'Sen to Chihiro no kamikakushi',\n",
       " 'Seppuku',\n",
       " 'Shichinin no samurai',\n",
       " 'Soorarai Pottru',\n",
       " 'Star Wars',\n",
       " 'The Departed',\n",
       " 'The Godfather',\n",
       " 'The Godfather: Part II',\n",
       " 'The Green Mile',\n",
       " 'The Intouchables',\n",
       " 'The Lord of the Rings: The Fellowship of the Ring',\n",
       " 'The Lord of the Rings: The Return of the King',\n",
       " 'The Lord of the Rings: The Two Towers',\n",
       " 'The Matrix',\n",
       " 'The Pianist',\n",
       " 'The Prestige',\n",
       " 'The Shawshank Redemption',\n",
       " 'The Silence of the Lambs'}"
      ]
     },
     "execution_count": 199,
     "metadata": {},
     "output_type": "execute_result"
    }
   ],
   "source": [
    "difference_movies"
   ]
  },
  {
   "cell_type": "markdown",
   "id": "c7985930-e3cb-416e-b3e6-2a69aa482d65",
   "metadata": {},
   "source": [
    "- 동일한 제목의 imdb 영화"
   ]
  },
  {
   "cell_type": "code",
   "execution_count": 200,
   "id": "f294b5ab-f575-4163-95e0-583f7b64f626",
   "metadata": {},
   "outputs": [
    {
     "data": {
      "text/html": [
       "<div>\n",
       "<style scoped>\n",
       "    .dataframe tbody tr th:only-of-type {\n",
       "        vertical-align: middle;\n",
       "    }\n",
       "\n",
       "    .dataframe tbody tr th {\n",
       "        vertical-align: top;\n",
       "    }\n",
       "\n",
       "    .dataframe thead th {\n",
       "        text-align: right;\n",
       "    }\n",
       "</style>\n",
       "<table border=\"1\" class=\"dataframe\">\n",
       "  <thead>\n",
       "    <tr style=\"text-align: right;\">\n",
       "      <th></th>\n",
       "      <th>movieId</th>\n",
       "      <th>title</th>\n",
       "      <th>year</th>\n",
       "      <th>genres</th>\n",
       "    </tr>\n",
       "  </thead>\n",
       "  <tbody>\n",
       "    <tr>\n",
       "      <th>2</th>\n",
       "      <td>2</td>\n",
       "      <td>The Dark Knight</td>\n",
       "      <td>2008</td>\n",
       "      <td>Action, Crime, Drama</td>\n",
       "    </tr>\n",
       "    <tr>\n",
       "      <th>4</th>\n",
       "      <td>4</td>\n",
       "      <td>12 Angry Men</td>\n",
       "      <td>1957</td>\n",
       "      <td>Crime, Drama</td>\n",
       "    </tr>\n",
       "    <tr>\n",
       "      <th>6</th>\n",
       "      <td>6</td>\n",
       "      <td>Pulp Fiction</td>\n",
       "      <td>1994</td>\n",
       "      <td>Crime, Drama</td>\n",
       "    </tr>\n",
       "    <tr>\n",
       "      <th>7</th>\n",
       "      <td>7</td>\n",
       "      <td>Schindler's List</td>\n",
       "      <td>1993</td>\n",
       "      <td>Biography, Drama, History</td>\n",
       "    </tr>\n",
       "    <tr>\n",
       "      <th>8</th>\n",
       "      <td>8</td>\n",
       "      <td>Inception</td>\n",
       "      <td>2010</td>\n",
       "      <td>Action, Adventure, Sci-Fi</td>\n",
       "    </tr>\n",
       "    <tr>\n",
       "      <th>9</th>\n",
       "      <td>9</td>\n",
       "      <td>Fight Club</td>\n",
       "      <td>1999</td>\n",
       "      <td>Drama</td>\n",
       "    </tr>\n",
       "    <tr>\n",
       "      <th>11</th>\n",
       "      <td>11</td>\n",
       "      <td>Forrest Gump</td>\n",
       "      <td>1994</td>\n",
       "      <td>Drama, Romance</td>\n",
       "    </tr>\n",
       "    <tr>\n",
       "      <th>15</th>\n",
       "      <td>15</td>\n",
       "      <td>Goodfellas</td>\n",
       "      <td>1990</td>\n",
       "      <td>Biography, Crime, Drama</td>\n",
       "    </tr>\n",
       "    <tr>\n",
       "      <th>16</th>\n",
       "      <td>16</td>\n",
       "      <td>Star Wars: Episode V - The Empire Strikes Back</td>\n",
       "      <td>1980</td>\n",
       "      <td>Action, Adventure, Fantasy</td>\n",
       "    </tr>\n",
       "    <tr>\n",
       "      <th>17</th>\n",
       "      <td>17</td>\n",
       "      <td>One Flew Over the Cuckoo's Nest</td>\n",
       "      <td>1975</td>\n",
       "      <td>Drama</td>\n",
       "    </tr>\n",
       "    <tr>\n",
       "      <th>21</th>\n",
       "      <td>21</td>\n",
       "      <td>Interstellar</td>\n",
       "      <td>2014</td>\n",
       "      <td>Adventure, Drama, Sci-Fi</td>\n",
       "    </tr>\n",
       "    <tr>\n",
       "      <th>24</th>\n",
       "      <td>24</td>\n",
       "      <td>Saving Private Ryan</td>\n",
       "      <td>1998</td>\n",
       "      <td>Drama, War</td>\n",
       "    </tr>\n",
       "    <tr>\n",
       "      <th>32</th>\n",
       "      <td>32</td>\n",
       "      <td>It's a Wonderful Life</td>\n",
       "      <td>1946</td>\n",
       "      <td>Drama, Family, Fantasy</td>\n",
       "    </tr>\n",
       "    <tr>\n",
       "      <th>33</th>\n",
       "      <td>33</td>\n",
       "      <td>Joker</td>\n",
       "      <td>2019</td>\n",
       "      <td>Crime, Drama, Thriller</td>\n",
       "    </tr>\n",
       "    <tr>\n",
       "      <th>34</th>\n",
       "      <td>34</td>\n",
       "      <td>Whiplash</td>\n",
       "      <td>2014</td>\n",
       "      <td>Drama, Music</td>\n",
       "    </tr>\n",
       "    <tr>\n",
       "      <th>39</th>\n",
       "      <td>39</td>\n",
       "      <td>Gladiator</td>\n",
       "      <td>2000</td>\n",
       "      <td>Action, Adventure, Drama</td>\n",
       "    </tr>\n",
       "  </tbody>\n",
       "</table>\n",
       "</div>"
      ],
      "text/plain": [
       "    movieId                                           title  year  \\\n",
       "2         2                                 The Dark Knight  2008   \n",
       "4         4                                    12 Angry Men  1957   \n",
       "6         6                                    Pulp Fiction  1994   \n",
       "7         7                                Schindler's List  1993   \n",
       "8         8                                       Inception  2010   \n",
       "9         9                                      Fight Club  1999   \n",
       "11       11                                    Forrest Gump  1994   \n",
       "15       15                                      Goodfellas  1990   \n",
       "16       16  Star Wars: Episode V - The Empire Strikes Back  1980   \n",
       "17       17                 One Flew Over the Cuckoo's Nest  1975   \n",
       "21       21                                    Interstellar  2014   \n",
       "24       24                             Saving Private Ryan  1998   \n",
       "32       32                           It's a Wonderful Life  1946   \n",
       "33       33                                           Joker  2019   \n",
       "34       34                                        Whiplash  2014   \n",
       "39       39                                       Gladiator  2000   \n",
       "\n",
       "                        genres  \n",
       "2         Action, Crime, Drama  \n",
       "4                 Crime, Drama  \n",
       "6                 Crime, Drama  \n",
       "7    Biography, Drama, History  \n",
       "8    Action, Adventure, Sci-Fi  \n",
       "9                        Drama  \n",
       "11              Drama, Romance  \n",
       "15     Biography, Crime, Drama  \n",
       "16  Action, Adventure, Fantasy  \n",
       "17                       Drama  \n",
       "21    Adventure, Drama, Sci-Fi  \n",
       "24                  Drama, War  \n",
       "32      Drama, Family, Fantasy  \n",
       "33      Crime, Drama, Thriller  \n",
       "34                Drama, Music  \n",
       "39    Action, Adventure, Drama  "
      ]
     },
     "execution_count": 200,
     "metadata": {},
     "output_type": "execute_result"
    }
   ],
   "source": [
    "imdb_40[imdb_40['title'].isin(intersection_movies)]"
   ]
  },
  {
   "cell_type": "code",
   "execution_count": 201,
   "id": "1c473992-9def-4b64-a274-c79a4e0c56a5",
   "metadata": {},
   "outputs": [
    {
     "data": {
      "text/html": [
       "<div>\n",
       "<style scoped>\n",
       "    .dataframe tbody tr th:only-of-type {\n",
       "        vertical-align: middle;\n",
       "    }\n",
       "\n",
       "    .dataframe tbody tr th {\n",
       "        vertical-align: top;\n",
       "    }\n",
       "\n",
       "    .dataframe thead th {\n",
       "        text-align: right;\n",
       "    }\n",
       "</style>\n",
       "<table border=\"1\" class=\"dataframe\">\n",
       "  <thead>\n",
       "    <tr style=\"text-align: right;\">\n",
       "      <th></th>\n",
       "      <th>movieId</th>\n",
       "      <th>title</th>\n",
       "      <th>year</th>\n",
       "      <th>genres</th>\n",
       "    </tr>\n",
       "  </thead>\n",
       "  <tbody>\n",
       "    <tr>\n",
       "      <th>293</th>\n",
       "      <td>296</td>\n",
       "      <td>Pulp Fiction</td>\n",
       "      <td>1994</td>\n",
       "      <td>Comedy|Crime|Drama|Thriller</td>\n",
       "    </tr>\n",
       "    <tr>\n",
       "      <th>352</th>\n",
       "      <td>356</td>\n",
       "      <td>Forrest Gump</td>\n",
       "      <td>1994</td>\n",
       "      <td>Comedy|Drama|Romance|War</td>\n",
       "    </tr>\n",
       "    <tr>\n",
       "      <th>523</th>\n",
       "      <td>527</td>\n",
       "      <td>Schindler's List</td>\n",
       "      <td>1993</td>\n",
       "      <td>Drama|War</td>\n",
       "    </tr>\n",
       "    <tr>\n",
       "      <th>936</th>\n",
       "      <td>953</td>\n",
       "      <td>It's a Wonderful Life</td>\n",
       "      <td>1946</td>\n",
       "      <td>Drama|Fantasy|Romance</td>\n",
       "    </tr>\n",
       "    <tr>\n",
       "      <th>1169</th>\n",
       "      <td>1193</td>\n",
       "      <td>One Flew Over the Cuckoo's Nest</td>\n",
       "      <td>1975</td>\n",
       "      <td>Drama</td>\n",
       "    </tr>\n",
       "    <tr>\n",
       "      <th>1171</th>\n",
       "      <td>1196</td>\n",
       "      <td>Star Wars: Episode V - The Empire Strikes Back</td>\n",
       "      <td>1980</td>\n",
       "      <td>Action|Adventure|Sci-Fi</td>\n",
       "    </tr>\n",
       "    <tr>\n",
       "      <th>1178</th>\n",
       "      <td>1203</td>\n",
       "      <td>12 Angry Men</td>\n",
       "      <td>1957</td>\n",
       "      <td>Drama</td>\n",
       "    </tr>\n",
       "    <tr>\n",
       "      <th>1187</th>\n",
       "      <td>1213</td>\n",
       "      <td>Goodfellas</td>\n",
       "      <td>1990</td>\n",
       "      <td>Crime|Drama</td>\n",
       "    </tr>\n",
       "    <tr>\n",
       "      <th>1944</th>\n",
       "      <td>2028</td>\n",
       "      <td>Saving Private Ryan</td>\n",
       "      <td>1998</td>\n",
       "      <td>Action|Drama|War</td>\n",
       "    </tr>\n",
       "    <tr>\n",
       "      <th>2873</th>\n",
       "      <td>2959</td>\n",
       "      <td>Fight Club</td>\n",
       "      <td>1999</td>\n",
       "      <td>Action|Crime|Drama|Thriller</td>\n",
       "    </tr>\n",
       "    <tr>\n",
       "      <th>3487</th>\n",
       "      <td>3578</td>\n",
       "      <td>Gladiator</td>\n",
       "      <td>2000</td>\n",
       "      <td>Action|Adventure|Drama</td>\n",
       "    </tr>\n",
       "    <tr>\n",
       "      <th>7664</th>\n",
       "      <td>8132</td>\n",
       "      <td>Gladiator</td>\n",
       "      <td>1992</td>\n",
       "      <td>Action|Drama</td>\n",
       "    </tr>\n",
       "    <tr>\n",
       "      <th>15253</th>\n",
       "      <td>77846</td>\n",
       "      <td>12 Angry Men</td>\n",
       "      <td>1997</td>\n",
       "      <td>Crime|Drama</td>\n",
       "    </tr>\n",
       "    <tr>\n",
       "      <th>15534</th>\n",
       "      <td>79132</td>\n",
       "      <td>Inception</td>\n",
       "      <td>2010</td>\n",
       "      <td>Action|Crime|Drama|Mystery|Sci-Fi|Thriller|IMAX</td>\n",
       "    </tr>\n",
       "    <tr>\n",
       "      <th>21333</th>\n",
       "      <td>103671</td>\n",
       "      <td>Joker</td>\n",
       "      <td>2012</td>\n",
       "      <td>Comedy</td>\n",
       "    </tr>\n",
       "    <tr>\n",
       "      <th>22919</th>\n",
       "      <td>109487</td>\n",
       "      <td>Interstellar</td>\n",
       "      <td>2014</td>\n",
       "      <td>Sci-Fi|IMAX</td>\n",
       "    </tr>\n",
       "    <tr>\n",
       "      <th>23663</th>\n",
       "      <td>112552</td>\n",
       "      <td>Whiplash</td>\n",
       "      <td>2014</td>\n",
       "      <td>Drama</td>\n",
       "    </tr>\n",
       "    <tr>\n",
       "      <th>27078</th>\n",
       "      <td>130219</td>\n",
       "      <td>The Dark Knight</td>\n",
       "      <td>2011</td>\n",
       "      <td>Action|Crime|Drama|Thriller</td>\n",
       "    </tr>\n",
       "  </tbody>\n",
       "</table>\n",
       "</div>"
      ],
      "text/plain": [
       "       movieId                                           title  year  \\\n",
       "293        296                                    Pulp Fiction  1994   \n",
       "352        356                                    Forrest Gump  1994   \n",
       "523        527                                Schindler's List  1993   \n",
       "936        953                           It's a Wonderful Life  1946   \n",
       "1169      1193                 One Flew Over the Cuckoo's Nest  1975   \n",
       "1171      1196  Star Wars: Episode V - The Empire Strikes Back  1980   \n",
       "1178      1203                                    12 Angry Men  1957   \n",
       "1187      1213                                      Goodfellas  1990   \n",
       "1944      2028                             Saving Private Ryan  1998   \n",
       "2873      2959                                      Fight Club  1999   \n",
       "3487      3578                                       Gladiator  2000   \n",
       "7664      8132                                       Gladiator  1992   \n",
       "15253    77846                                    12 Angry Men  1997   \n",
       "15534    79132                                       Inception  2010   \n",
       "21333   103671                                           Joker  2012   \n",
       "22919   109487                                    Interstellar  2014   \n",
       "23663   112552                                        Whiplash  2014   \n",
       "27078   130219                                 The Dark Knight  2011   \n",
       "\n",
       "                                                genres  \n",
       "293                        Comedy|Crime|Drama|Thriller  \n",
       "352                           Comedy|Drama|Romance|War  \n",
       "523                                          Drama|War  \n",
       "936                              Drama|Fantasy|Romance  \n",
       "1169                                             Drama  \n",
       "1171                           Action|Adventure|Sci-Fi  \n",
       "1178                                             Drama  \n",
       "1187                                       Crime|Drama  \n",
       "1944                                  Action|Drama|War  \n",
       "2873                       Action|Crime|Drama|Thriller  \n",
       "3487                            Action|Adventure|Drama  \n",
       "7664                                      Action|Drama  \n",
       "15253                                      Crime|Drama  \n",
       "15534  Action|Crime|Drama|Mystery|Sci-Fi|Thriller|IMAX  \n",
       "21333                                           Comedy  \n",
       "22919                                      Sci-Fi|IMAX  \n",
       "23663                                            Drama  \n",
       "27078                      Action|Crime|Drama|Thriller  "
      ]
     },
     "execution_count": 201,
     "metadata": {},
     "output_type": "execute_result"
    }
   ],
   "source": [
    "movielens_df[movielens_df['title'].isin(intersection_movies)]"
   ]
  },
  {
   "cell_type": "code",
   "execution_count": 202,
   "id": "823cfb7d-4b15-446e-b834-ed097ceb1b91",
   "metadata": {},
   "outputs": [
    {
     "data": {
      "text/html": [
       "<div>\n",
       "<style scoped>\n",
       "    .dataframe tbody tr th:only-of-type {\n",
       "        vertical-align: middle;\n",
       "    }\n",
       "\n",
       "    .dataframe tbody tr th {\n",
       "        vertical-align: top;\n",
       "    }\n",
       "\n",
       "    .dataframe thead th {\n",
       "        text-align: right;\n",
       "    }\n",
       "</style>\n",
       "<table border=\"1\" class=\"dataframe\">\n",
       "  <thead>\n",
       "    <tr style=\"text-align: right;\">\n",
       "      <th></th>\n",
       "      <th>movieId</th>\n",
       "      <th>title</th>\n",
       "      <th>year</th>\n",
       "      <th>genres</th>\n",
       "    </tr>\n",
       "  </thead>\n",
       "  <tbody>\n",
       "    <tr>\n",
       "      <th>0</th>\n",
       "      <td>0</td>\n",
       "      <td>The Shawshank Redemption</td>\n",
       "      <td>1994</td>\n",
       "      <td>Drama</td>\n",
       "    </tr>\n",
       "    <tr>\n",
       "      <th>1</th>\n",
       "      <td>1</td>\n",
       "      <td>The Godfather</td>\n",
       "      <td>1972</td>\n",
       "      <td>Crime, Drama</td>\n",
       "    </tr>\n",
       "    <tr>\n",
       "      <th>3</th>\n",
       "      <td>3</td>\n",
       "      <td>The Godfather: Part II</td>\n",
       "      <td>1974</td>\n",
       "      <td>Crime, Drama</td>\n",
       "    </tr>\n",
       "    <tr>\n",
       "      <th>5</th>\n",
       "      <td>5</td>\n",
       "      <td>The Lord of the Rings: The Return of the King</td>\n",
       "      <td>2003</td>\n",
       "      <td>Action, Adventure, Drama</td>\n",
       "    </tr>\n",
       "    <tr>\n",
       "      <th>10</th>\n",
       "      <td>10</td>\n",
       "      <td>The Lord of the Rings: The Fellowship of the Ring</td>\n",
       "      <td>2001</td>\n",
       "      <td>Action, Adventure, Drama</td>\n",
       "    </tr>\n",
       "    <tr>\n",
       "      <th>12</th>\n",
       "      <td>12</td>\n",
       "      <td>Il buono, il brutto, il cattivo</td>\n",
       "      <td>1966</td>\n",
       "      <td>Western</td>\n",
       "    </tr>\n",
       "    <tr>\n",
       "      <th>13</th>\n",
       "      <td>13</td>\n",
       "      <td>The Lord of the Rings: The Two Towers</td>\n",
       "      <td>2002</td>\n",
       "      <td>Action, Adventure, Drama</td>\n",
       "    </tr>\n",
       "    <tr>\n",
       "      <th>14</th>\n",
       "      <td>14</td>\n",
       "      <td>The Matrix</td>\n",
       "      <td>1999</td>\n",
       "      <td>Action, Sci-Fi</td>\n",
       "    </tr>\n",
       "    <tr>\n",
       "      <th>18</th>\n",
       "      <td>18</td>\n",
       "      <td>Hamilton</td>\n",
       "      <td>2020</td>\n",
       "      <td>Biography, Drama, History</td>\n",
       "    </tr>\n",
       "    <tr>\n",
       "      <th>19</th>\n",
       "      <td>19</td>\n",
       "      <td>Gisaengchung</td>\n",
       "      <td>2019</td>\n",
       "      <td>Comedy, Drama, Thriller</td>\n",
       "    </tr>\n",
       "    <tr>\n",
       "      <th>20</th>\n",
       "      <td>20</td>\n",
       "      <td>Soorarai Pottru</td>\n",
       "      <td>2020</td>\n",
       "      <td>Drama</td>\n",
       "    </tr>\n",
       "    <tr>\n",
       "      <th>22</th>\n",
       "      <td>22</td>\n",
       "      <td>Cidade de Deus</td>\n",
       "      <td>2002</td>\n",
       "      <td>Crime, Drama</td>\n",
       "    </tr>\n",
       "    <tr>\n",
       "      <th>23</th>\n",
       "      <td>23</td>\n",
       "      <td>Sen to Chihiro no kamikakushi</td>\n",
       "      <td>2001</td>\n",
       "      <td>Animation, Adventure, Family</td>\n",
       "    </tr>\n",
       "    <tr>\n",
       "      <th>25</th>\n",
       "      <td>25</td>\n",
       "      <td>The Green Mile</td>\n",
       "      <td>1999</td>\n",
       "      <td>Crime, Drama, Fantasy</td>\n",
       "    </tr>\n",
       "    <tr>\n",
       "      <th>26</th>\n",
       "      <td>26</td>\n",
       "      <td>La vita è bella</td>\n",
       "      <td>1997</td>\n",
       "      <td>Comedy, Drama, Romance</td>\n",
       "    </tr>\n",
       "    <tr>\n",
       "      <th>27</th>\n",
       "      <td>27</td>\n",
       "      <td>Se7en</td>\n",
       "      <td>1995</td>\n",
       "      <td>Crime, Drama, Mystery</td>\n",
       "    </tr>\n",
       "    <tr>\n",
       "      <th>28</th>\n",
       "      <td>28</td>\n",
       "      <td>The Silence of the Lambs</td>\n",
       "      <td>1991</td>\n",
       "      <td>Crime, Drama, Thriller</td>\n",
       "    </tr>\n",
       "    <tr>\n",
       "      <th>29</th>\n",
       "      <td>29</td>\n",
       "      <td>Star Wars</td>\n",
       "      <td>1977</td>\n",
       "      <td>Action, Adventure, Fantasy</td>\n",
       "    </tr>\n",
       "    <tr>\n",
       "      <th>30</th>\n",
       "      <td>30</td>\n",
       "      <td>Seppuku</td>\n",
       "      <td>1962</td>\n",
       "      <td>Action, Drama, Mystery</td>\n",
       "    </tr>\n",
       "    <tr>\n",
       "      <th>31</th>\n",
       "      <td>31</td>\n",
       "      <td>Shichinin no samurai</td>\n",
       "      <td>1954</td>\n",
       "      <td>Action, Adventure, Drama</td>\n",
       "    </tr>\n",
       "    <tr>\n",
       "      <th>35</th>\n",
       "      <td>35</td>\n",
       "      <td>The Intouchables</td>\n",
       "      <td>2011</td>\n",
       "      <td>Biography, Comedy, Drama</td>\n",
       "    </tr>\n",
       "    <tr>\n",
       "      <th>36</th>\n",
       "      <td>36</td>\n",
       "      <td>The Prestige</td>\n",
       "      <td>2006</td>\n",
       "      <td>Drama, Mystery, Sci-Fi</td>\n",
       "    </tr>\n",
       "    <tr>\n",
       "      <th>37</th>\n",
       "      <td>37</td>\n",
       "      <td>The Departed</td>\n",
       "      <td>2006</td>\n",
       "      <td>Crime, Drama, Thriller</td>\n",
       "    </tr>\n",
       "    <tr>\n",
       "      <th>38</th>\n",
       "      <td>38</td>\n",
       "      <td>The Pianist</td>\n",
       "      <td>2002</td>\n",
       "      <td>Biography, Drama, Music</td>\n",
       "    </tr>\n",
       "  </tbody>\n",
       "</table>\n",
       "</div>"
      ],
      "text/plain": [
       "    movieId                                              title  year  \\\n",
       "0         0                           The Shawshank Redemption  1994   \n",
       "1         1                                      The Godfather  1972   \n",
       "3         3                             The Godfather: Part II  1974   \n",
       "5         5      The Lord of the Rings: The Return of the King  2003   \n",
       "10       10  The Lord of the Rings: The Fellowship of the Ring  2001   \n",
       "12       12                    Il buono, il brutto, il cattivo  1966   \n",
       "13       13              The Lord of the Rings: The Two Towers  2002   \n",
       "14       14                                         The Matrix  1999   \n",
       "18       18                                           Hamilton  2020   \n",
       "19       19                                       Gisaengchung  2019   \n",
       "20       20                                    Soorarai Pottru  2020   \n",
       "22       22                                     Cidade de Deus  2002   \n",
       "23       23                      Sen to Chihiro no kamikakushi  2001   \n",
       "25       25                                     The Green Mile  1999   \n",
       "26       26                                    La vita è bella  1997   \n",
       "27       27                                              Se7en  1995   \n",
       "28       28                           The Silence of the Lambs  1991   \n",
       "29       29                                          Star Wars  1977   \n",
       "30       30                                            Seppuku  1962   \n",
       "31       31                               Shichinin no samurai  1954   \n",
       "35       35                                   The Intouchables  2011   \n",
       "36       36                                       The Prestige  2006   \n",
       "37       37                                       The Departed  2006   \n",
       "38       38                                        The Pianist  2002   \n",
       "\n",
       "                          genres  \n",
       "0                          Drama  \n",
       "1                   Crime, Drama  \n",
       "3                   Crime, Drama  \n",
       "5       Action, Adventure, Drama  \n",
       "10      Action, Adventure, Drama  \n",
       "12                       Western  \n",
       "13      Action, Adventure, Drama  \n",
       "14                Action, Sci-Fi  \n",
       "18     Biography, Drama, History  \n",
       "19       Comedy, Drama, Thriller  \n",
       "20                         Drama  \n",
       "22                  Crime, Drama  \n",
       "23  Animation, Adventure, Family  \n",
       "25         Crime, Drama, Fantasy  \n",
       "26        Comedy, Drama, Romance  \n",
       "27         Crime, Drama, Mystery  \n",
       "28        Crime, Drama, Thriller  \n",
       "29    Action, Adventure, Fantasy  \n",
       "30        Action, Drama, Mystery  \n",
       "31      Action, Adventure, Drama  \n",
       "35      Biography, Comedy, Drama  \n",
       "36        Drama, Mystery, Sci-Fi  \n",
       "37        Crime, Drama, Thriller  \n",
       "38       Biography, Drama, Music  "
      ]
     },
     "execution_count": 202,
     "metadata": {},
     "output_type": "execute_result"
    }
   ],
   "source": [
    "imdb_40[imdb_40['title'].isin(difference_movies)]"
   ]
  },
  {
   "cell_type": "markdown",
   "id": "d19e3335-deff-4996-b87c-9270abdad8c1",
   "metadata": {},
   "source": [
    "#### 2-3. Analyze the difference"
   ]
  },
  {
   "cell_type": "markdown",
   "id": "355b2a10-e75d-4a1d-b996-14f318731f41",
   "metadata": {},
   "source": [
    "- 로마자 포함"
   ]
  },
  {
   "cell_type": "code",
   "execution_count": 204,
   "id": "794e945a-63c7-4f9f-9c4b-9e5de9c6a2ea",
   "metadata": {},
   "outputs": [
    {
     "data": {
      "text/html": [
       "<div>\n",
       "<style scoped>\n",
       "    .dataframe tbody tr th:only-of-type {\n",
       "        vertical-align: middle;\n",
       "    }\n",
       "\n",
       "    .dataframe tbody tr th {\n",
       "        vertical-align: top;\n",
       "    }\n",
       "\n",
       "    .dataframe thead th {\n",
       "        text-align: right;\n",
       "    }\n",
       "</style>\n",
       "<table border=\"1\" class=\"dataframe\">\n",
       "  <thead>\n",
       "    <tr style=\"text-align: right;\">\n",
       "      <th></th>\n",
       "      <th>movieId</th>\n",
       "      <th>title</th>\n",
       "      <th>year</th>\n",
       "      <th>genres</th>\n",
       "    </tr>\n",
       "  </thead>\n",
       "  <tbody>\n",
       "    <tr>\n",
       "      <th>26</th>\n",
       "      <td>26</td>\n",
       "      <td>La vita è bella</td>\n",
       "      <td>1997</td>\n",
       "      <td>Comedy, Drama, Romance</td>\n",
       "    </tr>\n",
       "  </tbody>\n",
       "</table>\n",
       "</div>"
      ],
      "text/plain": [
       "    movieId            title  year                  genres\n",
       "26       26  La vita è bella  1997  Comedy, Drama, Romance"
      ]
     },
     "execution_count": 204,
     "metadata": {},
     "output_type": "execute_result"
    }
   ],
   "source": [
    "imdb_40.iloc[26:27,:]"
   ]
  },
  {
   "cell_type": "code",
   "execution_count": 205,
   "id": "37328171-2eb7-4e58-9746-7060cc0a4cf1",
   "metadata": {},
   "outputs": [
    {
     "data": {
      "text/html": [
       "<div>\n",
       "<style scoped>\n",
       "    .dataframe tbody tr th:only-of-type {\n",
       "        vertical-align: middle;\n",
       "    }\n",
       "\n",
       "    .dataframe tbody tr th {\n",
       "        vertical-align: top;\n",
       "    }\n",
       "\n",
       "    .dataframe thead th {\n",
       "        text-align: right;\n",
       "    }\n",
       "</style>\n",
       "<table border=\"1\" class=\"dataframe\">\n",
       "  <thead>\n",
       "    <tr style=\"text-align: right;\">\n",
       "      <th></th>\n",
       "      <th>movieId</th>\n",
       "      <th>title</th>\n",
       "      <th>year</th>\n",
       "      <th>genres</th>\n",
       "    </tr>\n",
       "  </thead>\n",
       "  <tbody>\n",
       "    <tr>\n",
       "      <th>0</th>\n",
       "      <td>1</td>\n",
       "      <td>Toy Story</td>\n",
       "      <td>1995</td>\n",
       "      <td>Adventure|Animation|Children|Comedy|Fantasy</td>\n",
       "    </tr>\n",
       "    <tr>\n",
       "      <th>1</th>\n",
       "      <td>2</td>\n",
       "      <td>Jumanji</td>\n",
       "      <td>1995</td>\n",
       "      <td>Adventure|Children|Fantasy</td>\n",
       "    </tr>\n",
       "    <tr>\n",
       "      <th>2</th>\n",
       "      <td>3</td>\n",
       "      <td>Grumpier Old Men</td>\n",
       "      <td>1995</td>\n",
       "      <td>Comedy|Romance</td>\n",
       "    </tr>\n",
       "    <tr>\n",
       "      <th>3</th>\n",
       "      <td>4</td>\n",
       "      <td>Waiting to Exhale</td>\n",
       "      <td>1995</td>\n",
       "      <td>Comedy|Drama|Romance</td>\n",
       "    </tr>\n",
       "    <tr>\n",
       "      <th>4</th>\n",
       "      <td>5</td>\n",
       "      <td>Father of the Bride Part II</td>\n",
       "      <td>1995</td>\n",
       "      <td>Comedy</td>\n",
       "    </tr>\n",
       "  </tbody>\n",
       "</table>\n",
       "</div>"
      ],
      "text/plain": [
       "   movieId                        title  year  \\\n",
       "0        1                    Toy Story  1995   \n",
       "1        2                      Jumanji  1995   \n",
       "2        3             Grumpier Old Men  1995   \n",
       "3        4            Waiting to Exhale  1995   \n",
       "4        5  Father of the Bride Part II  1995   \n",
       "\n",
       "                                        genres  \n",
       "0  Adventure|Animation|Children|Comedy|Fantasy  \n",
       "1                   Adventure|Children|Fantasy  \n",
       "2                               Comedy|Romance  \n",
       "3                         Comedy|Drama|Romance  \n",
       "4                                       Comedy  "
      ]
     },
     "execution_count": 205,
     "metadata": {},
     "output_type": "execute_result"
    }
   ],
   "source": [
    "movielens_df.head()"
   ]
  },
  {
   "cell_type": "markdown",
   "id": "9d960df6-1489-4a92-9a07-0848d2bb1579",
   "metadata": {},
   "source": [
    "- 소문자로 변경"
   ]
  },
  {
   "cell_type": "code",
   "execution_count": 219,
   "id": "c7c9d9a6-a471-42c3-ad78-52d9f6e9a20e",
   "metadata": {},
   "outputs": [
    {
     "name": "stderr",
     "output_type": "stream",
     "text": [
      "C:\\Users\\user\\anaconda3\\envs\\torch37\\lib\\site-packages\\pandas\\core\\frame.py:3607: SettingWithCopyWarning: \n",
      "A value is trying to be set on a copy of a slice from a DataFrame.\n",
      "Try using .loc[row_indexer,col_indexer] = value instead\n",
      "\n",
      "See the caveats in the documentation: https://pandas.pydata.org/pandas-docs/stable/user_guide/indexing.html#returning-a-view-versus-a-copy\n",
      "  self._set_item(key, value)\n"
     ]
    }
   ],
   "source": [
    "movielens_df['title'] = movielens_df['title'].str.lower()\n",
    "imdb_40['title'] = imdb_40['title'].str.lower()"
   ]
  },
  {
   "cell_type": "code",
   "execution_count": 220,
   "id": "c5f16dda-dab4-4222-8cde-bc540790666c",
   "metadata": {},
   "outputs": [
    {
     "data": {
      "text/html": [
       "<div>\n",
       "<style scoped>\n",
       "    .dataframe tbody tr th:only-of-type {\n",
       "        vertical-align: middle;\n",
       "    }\n",
       "\n",
       "    .dataframe tbody tr th {\n",
       "        vertical-align: top;\n",
       "    }\n",
       "\n",
       "    .dataframe thead th {\n",
       "        text-align: right;\n",
       "    }\n",
       "</style>\n",
       "<table border=\"1\" class=\"dataframe\">\n",
       "  <thead>\n",
       "    <tr style=\"text-align: right;\">\n",
       "      <th></th>\n",
       "      <th>movieId</th>\n",
       "      <th>title</th>\n",
       "      <th>year</th>\n",
       "      <th>genres</th>\n",
       "    </tr>\n",
       "  </thead>\n",
       "  <tbody>\n",
       "    <tr>\n",
       "      <th>0</th>\n",
       "      <td>1</td>\n",
       "      <td>toy story</td>\n",
       "      <td>1995</td>\n",
       "      <td>Adventure|Animation|Children|Comedy|Fantasy</td>\n",
       "    </tr>\n",
       "    <tr>\n",
       "      <th>1</th>\n",
       "      <td>2</td>\n",
       "      <td>jumanji</td>\n",
       "      <td>1995</td>\n",
       "      <td>Adventure|Children|Fantasy</td>\n",
       "    </tr>\n",
       "    <tr>\n",
       "      <th>2</th>\n",
       "      <td>3</td>\n",
       "      <td>grumpier old men</td>\n",
       "      <td>1995</td>\n",
       "      <td>Comedy|Romance</td>\n",
       "    </tr>\n",
       "    <tr>\n",
       "      <th>3</th>\n",
       "      <td>4</td>\n",
       "      <td>waiting to exhale</td>\n",
       "      <td>1995</td>\n",
       "      <td>Comedy|Drama|Romance</td>\n",
       "    </tr>\n",
       "    <tr>\n",
       "      <th>4</th>\n",
       "      <td>5</td>\n",
       "      <td>father of the bride part ii</td>\n",
       "      <td>1995</td>\n",
       "      <td>Comedy</td>\n",
       "    </tr>\n",
       "  </tbody>\n",
       "</table>\n",
       "</div>"
      ],
      "text/plain": [
       "   movieId                        title  year  \\\n",
       "0        1                    toy story  1995   \n",
       "1        2                      jumanji  1995   \n",
       "2        3             grumpier old men  1995   \n",
       "3        4            waiting to exhale  1995   \n",
       "4        5  father of the bride part ii  1995   \n",
       "\n",
       "                                        genres  \n",
       "0  Adventure|Animation|Children|Comedy|Fantasy  \n",
       "1                   Adventure|Children|Fantasy  \n",
       "2                               Comedy|Romance  \n",
       "3                         Comedy|Drama|Romance  \n",
       "4                                       Comedy  "
      ]
     },
     "execution_count": 220,
     "metadata": {},
     "output_type": "execute_result"
    }
   ],
   "source": [
    "movielens_df.head()"
   ]
  },
  {
   "cell_type": "code",
   "execution_count": 326,
   "id": "25472598-4cfa-4e14-8ef6-5df99f16d76f",
   "metadata": {
    "tags": []
   },
   "outputs": [
    {
     "name": "stdout",
     "output_type": "stream",
     "text": [
      "858 | godfather, the | 1972\n",
      "1221 | godfather: part ii, the | 1974\n",
      "2023 | godfather: part iii, the | 1990\n",
      "8607 | tokyo godfathers | 2003\n",
      "25934 | 3 godfathers | 1948\n",
      "100180 | last godfather, the | 2010\n",
      "106704 | disco godfather | 1979\n"
     ]
    }
   ],
   "source": [
    "for num in range(0, len(movielens_df)): \n",
    "#     print(num)\n",
    "    if('Godfather'.lower() in movielens_df['title'][num]):\n",
    "        count = count + 1\n",
    "        print(f\"{movielens_df['movieId'].loc[num]} | {movielens_df['title'].loc[num]} | {movielens_df['year'].loc[num]}\")"
   ]
  },
  {
   "cell_type": "markdown",
   "id": "0929f452-a35b-49a9-9c76-dccd46c7cc6a",
   "metadata": {},
   "source": [
    "### 3. Right Answer"
   ]
  },
  {
   "cell_type": "code",
   "execution_count": 264,
   "id": "af472394-9b85-4be3-bedb-e2492cce810b",
   "metadata": {},
   "outputs": [],
   "source": [
    "path = './../../data/'"
   ]
  },
  {
   "cell_type": "code",
   "execution_count": 265,
   "id": "afc3ae99-35e0-46b9-b769-68c4a0a475ec",
   "metadata": {},
   "outputs": [
    {
     "data": {
      "text/plain": [
       "['imdb_30.csv',\n",
       " 'imdb_30.xlsx',\n",
       " 'imdb_40(1차완성).xlsx',\n",
       " 'imdb_40(수정).xlsx',\n",
       " 'imdb_50.csv',\n",
       " 'imdb_top_1000.csv',\n",
       " 'movieLens',\n",
       " '~$imdb_40(1차완성).xlsx']"
      ]
     },
     "execution_count": 265,
     "metadata": {},
     "output_type": "execute_result"
    }
   ],
   "source": [
    "os.listdir(path)"
   ]
  },
  {
   "cell_type": "code",
   "execution_count": 269,
   "id": "e4261e16-869d-4d06-b08f-01bd28bb7e8c",
   "metadata": {},
   "outputs": [],
   "source": [
    "right_df = pd.read_excel(os.path.join(path + 'imdb_40(1차완성).xlsx'))"
   ]
  },
  {
   "cell_type": "code",
   "execution_count": 270,
   "id": "08b60d61-9237-45d2-9b33-42e3fa22460d",
   "metadata": {},
   "outputs": [
    {
     "data": {
      "text/html": [
       "<div>\n",
       "<style scoped>\n",
       "    .dataframe tbody tr th:only-of-type {\n",
       "        vertical-align: middle;\n",
       "    }\n",
       "\n",
       "    .dataframe tbody tr th {\n",
       "        vertical-align: top;\n",
       "    }\n",
       "\n",
       "    .dataframe thead th {\n",
       "        text-align: right;\n",
       "    }\n",
       "</style>\n",
       "<table border=\"1\" class=\"dataframe\">\n",
       "  <thead>\n",
       "    <tr style=\"text-align: right;\">\n",
       "      <th></th>\n",
       "      <th>title</th>\n",
       "      <th>imdb_id</th>\n",
       "      <th>movielens_id</th>\n",
       "    </tr>\n",
       "  </thead>\n",
       "  <tbody>\n",
       "    <tr>\n",
       "      <th>0</th>\n",
       "      <td>The Shawshank Redemption</td>\n",
       "      <td>0</td>\n",
       "      <td>318.0</td>\n",
       "    </tr>\n",
       "    <tr>\n",
       "      <th>1</th>\n",
       "      <td>The Godfather</td>\n",
       "      <td>1</td>\n",
       "      <td>858.0</td>\n",
       "    </tr>\n",
       "    <tr>\n",
       "      <th>2</th>\n",
       "      <td>The Dark Knight</td>\n",
       "      <td>2</td>\n",
       "      <td>130219.0</td>\n",
       "    </tr>\n",
       "    <tr>\n",
       "      <th>3</th>\n",
       "      <td>The Godfather: Part II</td>\n",
       "      <td>3</td>\n",
       "      <td>1221.0</td>\n",
       "    </tr>\n",
       "    <tr>\n",
       "      <th>4</th>\n",
       "      <td>12 Angry Men</td>\n",
       "      <td>4</td>\n",
       "      <td>1203.0</td>\n",
       "    </tr>\n",
       "  </tbody>\n",
       "</table>\n",
       "</div>"
      ],
      "text/plain": [
       "                      title  imdb_id  movielens_id\n",
       "0  The Shawshank Redemption        0         318.0\n",
       "1             The Godfather        1         858.0\n",
       "2           The Dark Knight        2      130219.0\n",
       "3    The Godfather: Part II        3        1221.0\n",
       "4              12 Angry Men        4        1203.0"
      ]
     },
     "execution_count": 270,
     "metadata": {},
     "output_type": "execute_result"
    }
   ],
   "source": [
    "right_df.head()"
   ]
  },
  {
   "cell_type": "code",
   "execution_count": 275,
   "id": "73b0d123-0fc7-4d44-b885-1676ce58708c",
   "metadata": {},
   "outputs": [],
   "source": [
    "right_df.dropna(axis=0, inplace=True)"
   ]
  },
  {
   "cell_type": "code",
   "execution_count": 277,
   "id": "44fbfee7-3173-4e14-a3f8-8381bd948d05",
   "metadata": {},
   "outputs": [
    {
     "data": {
      "text/plain": [
       "36"
      ]
     },
     "execution_count": 277,
     "metadata": {},
     "output_type": "execute_result"
    }
   ],
   "source": [
    "len(right_df)"
   ]
  },
  {
   "cell_type": "code",
   "execution_count": 279,
   "id": "7b314d05-33a0-4943-b8ce-7b728e1f0713",
   "metadata": {},
   "outputs": [],
   "source": [
    "right_df.reset_index(inplace=True)"
   ]
  },
  {
   "cell_type": "code",
   "execution_count": 280,
   "id": "b071ed53-a435-42aa-9ad3-cf07a2fbbf32",
   "metadata": {},
   "outputs": [],
   "source": [
    "right_df = right_df.iloc[:30]"
   ]
  },
  {
   "cell_type": "code",
   "execution_count": 281,
   "id": "65a418f1-ff5f-44a0-a4d5-8a4f07f50a43",
   "metadata": {},
   "outputs": [
    {
     "data": {
      "text/html": [
       "<div>\n",
       "<style scoped>\n",
       "    .dataframe tbody tr th:only-of-type {\n",
       "        vertical-align: middle;\n",
       "    }\n",
       "\n",
       "    .dataframe tbody tr th {\n",
       "        vertical-align: top;\n",
       "    }\n",
       "\n",
       "    .dataframe thead th {\n",
       "        text-align: right;\n",
       "    }\n",
       "</style>\n",
       "<table border=\"1\" class=\"dataframe\">\n",
       "  <thead>\n",
       "    <tr style=\"text-align: right;\">\n",
       "      <th></th>\n",
       "      <th>index</th>\n",
       "      <th>title</th>\n",
       "      <th>imdb_id</th>\n",
       "      <th>movielens_id</th>\n",
       "    </tr>\n",
       "  </thead>\n",
       "  <tbody>\n",
       "    <tr>\n",
       "      <th>0</th>\n",
       "      <td>0</td>\n",
       "      <td>The Shawshank Redemption</td>\n",
       "      <td>0</td>\n",
       "      <td>318.0</td>\n",
       "    </tr>\n",
       "    <tr>\n",
       "      <th>1</th>\n",
       "      <td>1</td>\n",
       "      <td>The Godfather</td>\n",
       "      <td>1</td>\n",
       "      <td>858.0</td>\n",
       "    </tr>\n",
       "    <tr>\n",
       "      <th>2</th>\n",
       "      <td>2</td>\n",
       "      <td>The Dark Knight</td>\n",
       "      <td>2</td>\n",
       "      <td>130219.0</td>\n",
       "    </tr>\n",
       "    <tr>\n",
       "      <th>3</th>\n",
       "      <td>3</td>\n",
       "      <td>The Godfather: Part II</td>\n",
       "      <td>3</td>\n",
       "      <td>1221.0</td>\n",
       "    </tr>\n",
       "    <tr>\n",
       "      <th>4</th>\n",
       "      <td>4</td>\n",
       "      <td>12 Angry Men</td>\n",
       "      <td>4</td>\n",
       "      <td>1203.0</td>\n",
       "    </tr>\n",
       "  </tbody>\n",
       "</table>\n",
       "</div>"
      ],
      "text/plain": [
       "   index                     title  imdb_id  movielens_id\n",
       "0      0  The Shawshank Redemption        0         318.0\n",
       "1      1             The Godfather        1         858.0\n",
       "2      2           The Dark Knight        2      130219.0\n",
       "3      3    The Godfather: Part II        3        1221.0\n",
       "4      4              12 Angry Men        4        1203.0"
      ]
     },
     "execution_count": 281,
     "metadata": {},
     "output_type": "execute_result"
    }
   ],
   "source": [
    "right_df.head()"
   ]
  },
  {
   "cell_type": "code",
   "execution_count": 286,
   "id": "087bd7ef-b173-4746-a452-d721a0037a2a",
   "metadata": {},
   "outputs": [
    {
     "data": {
      "text/plain": [
       "index             int64\n",
       "title            object\n",
       "imdb_id           int64\n",
       "movielens_id    float64\n",
       "dtype: object"
      ]
     },
     "execution_count": 286,
     "metadata": {},
     "output_type": "execute_result"
    }
   ],
   "source": [
    "right_df.dtypes"
   ]
  },
  {
   "cell_type": "code",
   "execution_count": 289,
   "id": "916257cc-30ce-4b80-b41e-77d65cd9a166",
   "metadata": {},
   "outputs": [],
   "source": [
    "right_df = right_df.astype({'movielens_id': 'int64'})"
   ]
  },
  {
   "cell_type": "code",
   "execution_count": 290,
   "id": "3578a1b0-e5cb-4211-bac1-879f7f551547",
   "metadata": {},
   "outputs": [
    {
     "data": {
      "text/plain": [
       "index            int64\n",
       "title           object\n",
       "imdb_id          int64\n",
       "movielens_id     int64\n",
       "dtype: object"
      ]
     },
     "execution_count": 290,
     "metadata": {},
     "output_type": "execute_result"
    }
   ],
   "source": [
    "right_df.dtypes"
   ]
  },
  {
   "cell_type": "code",
   "execution_count": 291,
   "id": "28deea10-d02d-4156-9fd6-670e602dd8e3",
   "metadata": {},
   "outputs": [
    {
     "data": {
      "text/html": [
       "<div>\n",
       "<style scoped>\n",
       "    .dataframe tbody tr th:only-of-type {\n",
       "        vertical-align: middle;\n",
       "    }\n",
       "\n",
       "    .dataframe tbody tr th {\n",
       "        vertical-align: top;\n",
       "    }\n",
       "\n",
       "    .dataframe thead th {\n",
       "        text-align: right;\n",
       "    }\n",
       "</style>\n",
       "<table border=\"1\" class=\"dataframe\">\n",
       "  <thead>\n",
       "    <tr style=\"text-align: right;\">\n",
       "      <th></th>\n",
       "      <th>index</th>\n",
       "      <th>title</th>\n",
       "      <th>imdb_id</th>\n",
       "      <th>movielens_id</th>\n",
       "    </tr>\n",
       "  </thead>\n",
       "  <tbody>\n",
       "    <tr>\n",
       "      <th>0</th>\n",
       "      <td>0</td>\n",
       "      <td>The Shawshank Redemption</td>\n",
       "      <td>0</td>\n",
       "      <td>318</td>\n",
       "    </tr>\n",
       "    <tr>\n",
       "      <th>1</th>\n",
       "      <td>1</td>\n",
       "      <td>The Godfather</td>\n",
       "      <td>1</td>\n",
       "      <td>858</td>\n",
       "    </tr>\n",
       "    <tr>\n",
       "      <th>2</th>\n",
       "      <td>2</td>\n",
       "      <td>The Dark Knight</td>\n",
       "      <td>2</td>\n",
       "      <td>130219</td>\n",
       "    </tr>\n",
       "    <tr>\n",
       "      <th>3</th>\n",
       "      <td>3</td>\n",
       "      <td>The Godfather: Part II</td>\n",
       "      <td>3</td>\n",
       "      <td>1221</td>\n",
       "    </tr>\n",
       "    <tr>\n",
       "      <th>4</th>\n",
       "      <td>4</td>\n",
       "      <td>12 Angry Men</td>\n",
       "      <td>4</td>\n",
       "      <td>1203</td>\n",
       "    </tr>\n",
       "  </tbody>\n",
       "</table>\n",
       "</div>"
      ],
      "text/plain": [
       "   index                     title  imdb_id  movielens_id\n",
       "0      0  The Shawshank Redemption        0           318\n",
       "1      1             The Godfather        1           858\n",
       "2      2           The Dark Knight        2        130219\n",
       "3      3    The Godfather: Part II        3          1221\n",
       "4      4              12 Angry Men        4          1203"
      ]
     },
     "execution_count": 291,
     "metadata": {},
     "output_type": "execute_result"
    }
   ],
   "source": [
    "right_df.head()"
   ]
  },
  {
   "cell_type": "markdown",
   "id": "965dee58-6459-41d8-85c3-582e57462961",
   "metadata": {},
   "source": [
    "### 4. Levenshtein Distance"
   ]
  },
  {
   "cell_type": "code",
   "execution_count": 306,
   "id": "166014e2-7421-4659-aad5-b5fe68f5d153",
   "metadata": {},
   "outputs": [],
   "source": [
    "#레벤슈타인 거리 구하기\n",
    "def calc_distance(a,b):\n",
    "    '''레벤슈타인 거리 계산하기'''\n",
    "    # 1. 동일한 문자열이면 거리 0\n",
    "    if a == b : return 0\n",
    "    \n",
    "    a_len = len(a)\n",
    "    b_len = len(b)\n",
    "    \n",
    "    # 2. 둘 중 하나라도 문자열 길이가 0이면 거리는 다른 문자열 길이\n",
    "    if a == \"\" : return b_len \n",
    "    if b == \"\" : return a_len\n",
    "\n",
    "    # 2차원 배열(a_len+1, b_len+1)준비하기 --(#1)\n",
    "    matrix = [ []for i in range(a_len+1)] #a길이+1 만큼의 크기의 배열준비\n",
    "    for i in range(a_len+1) :\n",
    "        matrix[i] = [0 for j in range(b_len+1)] #0으로 초기화(2차원배열)    \n",
    "   \n",
    "    # 0일때 초기값을 설정 (#2)\n",
    "    for i in range(a_len+1):\n",
    "        matrix[i][0]=i   \n",
    "    for j in range(b_len+1):\n",
    "        matrix[0][j]=j\n",
    "    \n",
    "    #표 채우기 --(#3)\n",
    "    for i in range(1, a_len+1):\n",
    "        ac=a[i-1]  #a의 첫번째 글자(=[0]) 부터 시작\n",
    "        for j in range(1, b_len+1):\n",
    "            bc=b[j-1] #b의 첫번째글자(=[0]) 부터 시작\n",
    "            cost=0 if (ac == bc) else 1 #a[i-1]과 b[j-1] 이 같다면 비용(cost)은 0. 같지 않으면 1\n",
    "            matrix[i][j] = min([  #min 함수 : 최소값을 돌려줌; \n",
    "            #a의 i번째까지의 문자와 b의 j번째까지의 문자를 비교해서, 삽입/제거/변경 비용 중 최소값으로 표를 채운다.\n",
    "                matrix[i-1][j] + 1,     # 문자 삽입\n",
    "                matrix[i][j-1] + 1,     # 문자 제거\n",
    "                matrix[i-1][j-1] + cost # 문자 변경\n",
    "            ])\n",
    "    return matrix[a_len][b_len] #최종적으로는, 표의 오른쪽 아래에 있는 값이 최소거리(레벤슈타인 거리)가 된다.\n",
    "    #ㄴ함수 calc_distance 끝"
   ]
  },
  {
   "cell_type": "code",
   "execution_count": 307,
   "id": "888337af-2380-4876-96bf-228f21ef347f",
   "metadata": {},
   "outputs": [
    {
     "name": "stdout",
     "output_type": "stream",
     "text": [
      "'가나다라'와 '가마바라'의 거리: 2\n"
     ]
    }
   ],
   "source": [
    "#\"가나다라\"와 \"가마바라\"의 거리 --(#4)\n",
    "print(\"'가나다라'와 '가마바라'의 거리: \",end='')\n",
    "print(calc_distance(\"가나다라\", \"가마바라\"))"
   ]
  },
  {
   "cell_type": "code",
   "execution_count": 316,
   "id": "e44a6145-0a05-4ea6-9411-ecaf3dbcff19",
   "metadata": {},
   "outputs": [],
   "source": [
    "#실행 예\n",
    "samples = [\"신촌역\",\"신천군\",\"신천역\",\"신발\",\"마곡역\", \"촌신역\", \"역신촌\"]\n",
    "base = samples[0]"
   ]
  },
  {
   "cell_type": "code",
   "execution_count": 317,
   "id": "30140e36-b33e-43d9-ae04-1f0dd014b6b6",
   "metadata": {},
   "outputs": [],
   "source": [
    "# 정렬 : 오름차순\n",
    "r = sorted(samples, key = lambda n: calc_distance(base, n)) #base(신촌역)과 samples의 각 원소 비교"
   ]
  },
  {
   "cell_type": "code",
   "execution_count": 318,
   "id": "70b0435a-4e18-4527-98f7-e2e5f6710084",
   "metadata": {},
   "outputs": [
    {
     "data": {
      "text/plain": [
       "['신촌역', '신천역', '신천군', '신발', '마곡역', '촌신역', '역신촌']"
      ]
     },
     "execution_count": 318,
     "metadata": {},
     "output_type": "execute_result"
    }
   ],
   "source": [
    "r"
   ]
  },
  {
   "cell_type": "code",
   "execution_count": 319,
   "id": "7b00b4da-1c6b-4321-9dbf-ba737ff5d257",
   "metadata": {},
   "outputs": [
    {
     "name": "stdout",
     "output_type": "stream",
     "text": [
      "0 신촌역\n",
      "1 신천역\n",
      "2 신천군\n",
      "2 신발\n",
      "2 마곡역\n",
      "2 촌신역\n",
      "2 역신촌\n"
     ]
    }
   ],
   "source": [
    "for n in r:\n",
    "    print(calc_distance(base, n), n)"
   ]
  },
  {
   "cell_type": "markdown",
   "id": "e706ce37-e083-4434-8160-bc5a6f1de4ec",
   "metadata": {},
   "source": [
    "- 반지의 제왕"
   ]
  },
  {
   "cell_type": "code",
   "execution_count": 335,
   "id": "b1e8b181-e9bd-4f0d-a445-c98a94cd5640",
   "metadata": {},
   "outputs": [],
   "source": [
    "#실행 예\n",
    "samples = [\"The Lord of the Rings: The Return of the King\".lower(),\n",
    "        \"lord of the rings, the\",\n",
    "        \"lord of the rings: the fellowship of the ring, the\",\n",
    "        \"lord of the rings: the two towers, the\",\n",
    "        \"lord of the rings: the return of the king, the\"]\n",
    "base = samples[0]"
   ]
  },
  {
   "cell_type": "code",
   "execution_count": 336,
   "id": "39b68aef-48a7-4cb4-878d-73aa226ad9d3",
   "metadata": {},
   "outputs": [],
   "source": [
    "# 정렬 : 오름차순\n",
    "r = sorted(samples, key = lambda n: calc_distance(base, n)) #base(신촌역)과 samples의 각 원소 비교"
   ]
  },
  {
   "cell_type": "code",
   "execution_count": 337,
   "id": "e1e54ba2-8b35-47b5-b4df-f559b3109d21",
   "metadata": {},
   "outputs": [
    {
     "name": "stdout",
     "output_type": "stream",
     "text": [
      "0 the lord of the rings: the return of the king\n",
      "9 lord of the rings: the return of the king, the\n",
      "19 lord of the rings: the fellowship of the ring, the\n",
      "19 lord of the rings: the two towers, the\n",
      "24 lord of the rings, the\n"
     ]
    }
   ],
   "source": [
    "for n in r:\n",
    "    print(calc_distance(base, n), n)"
   ]
  },
  {
   "cell_type": "markdown",
   "id": "17352d44-fdbf-4f56-a5cc-7adbdd302d87",
   "metadata": {},
   "source": [
    "- GodFather"
   ]
  },
  {
   "cell_type": "code",
   "execution_count": 331,
   "id": "759fff59-f8e6-4058-a5f5-9bba8dcc47ea",
   "metadata": {},
   "outputs": [],
   "source": [
    "#실행 예\n",
    "samples = [\"The Godfather: Part II\".lower(),\n",
    "    \"godfather, the\",\n",
    "    \"godfather: part ii, the\",\n",
    "    \"godfather: part iii, the\",\n",
    "    \"tokyo godfathers\",\n",
    "    \"3 godfathers\",\n",
    "    \"last godfather, the\",\n",
    "    \"disco godfather\"]\n",
    "base = samples[0]"
   ]
  },
  {
   "cell_type": "code",
   "execution_count": 332,
   "id": "c0e6f9de-c41b-4b55-bd2d-95c9597564ee",
   "metadata": {},
   "outputs": [],
   "source": [
    "# 정렬 : 오름차순\n",
    "r = sorted(samples, key = lambda n: calc_distance(base, n)) #base(신촌역)과 samples의 각 원소 비교"
   ]
  },
  {
   "cell_type": "code",
   "execution_count": 333,
   "id": "aa87a3c6-078f-482e-af7f-f5d82197be8a",
   "metadata": {},
   "outputs": [
    {
     "name": "stdout",
     "output_type": "stream",
     "text": [
      "0 the godfather: part ii\n",
      "9 godfather: part ii, the\n",
      "10 godfather: part iii, the\n",
      "11 godfather, the\n",
      "11 last godfather, the\n",
      "12 3 godfathers\n",
      "13 tokyo godfathers\n",
      "14 disco godfather\n"
     ]
    }
   ],
   "source": [
    "for n in r:\n",
    "    print(calc_distance(base, n), n)"
   ]
  },
  {
   "cell_type": "code",
   "execution_count": null,
   "id": "45110688-b15c-4935-b6da-16b74d54a747",
   "metadata": {},
   "outputs": [],
   "source": []
  }
 ],
 "metadata": {
  "kernelspec": {
   "display_name": "Python 3",
   "language": "python",
   "name": "python3"
  },
  "language_info": {
   "codemirror_mode": {
    "name": "ipython",
    "version": 3
   },
   "file_extension": ".py",
   "mimetype": "text/x-python",
   "name": "python",
   "nbconvert_exporter": "python",
   "pygments_lexer": "ipython3",
   "version": "3.8.10"
  }
 },
 "nbformat": 4,
 "nbformat_minor": 5
}
