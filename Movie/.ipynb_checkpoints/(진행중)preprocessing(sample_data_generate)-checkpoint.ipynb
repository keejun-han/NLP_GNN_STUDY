{
 "cells": [
  {
   "cell_type": "code",
   "execution_count": 3,
   "id": "185970a2-bb9b-4125-8692-bad91a0dc296",
   "metadata": {},
   "outputs": [],
   "source": [
    "import os\n",
    "import pandas as pd\n",
    "import numpy as np\n",
    "from math import sqrt\n",
    "from tqdm import tqdm_notebook as tqdm\n",
    "\n",
    "from sklearn.model_selection import train_test_split\n",
    "from sklearn.metrics import mean_squared_error"
   ]
  },
  {
   "cell_type": "code",
   "execution_count": 4,
   "id": "3ccd2bac-8e77-4b50-87f9-ccaea13f936c",
   "metadata": {},
   "outputs": [
    {
     "data": {
      "text/plain": [
       "['emotion_analysis_data',\n",
       " 'final_rating(sentiment,emotion).csv',\n",
       " 'model.pth',\n",
       " 'model_new.pth',\n",
       " 'model_rotten.pth',\n",
       " 'model_save',\n",
       " 'movie1_neg.txt',\n",
       " 'movie1_pos.txt',\n",
       " 'movie2_neg.txt',\n",
       " 'movie2_pos.txt',\n",
       " 'movie3_neg.txt',\n",
       " 'movie3_pos.txt',\n",
       " 'rotten_movie_table.csv',\n",
       " 'rotten_rating_review_emotion_table.csv',\n",
       " 'rotten_rating_review_emotion_table.xlsx',\n",
       " 'rotten_rating_review_sentiment_table.csv',\n",
       " 'rotten_rating_review_sentiment_table.xlsx',\n",
       " 'rotten_rating_review_table.csv',\n",
       " 'rotten_review_scaled_clean.csv',\n",
       " 'rotten_review_scaled_label(pos,neu,neg).csv',\n",
       " 'rotten_review_scaled_label.csv',\n",
       " 'rotten_review_scaled_new.csv',\n",
       " 'rotten_tomatoes_critic_reviews.csv',\n",
       " 'rotten_tomatoes_movies.csv',\n",
       " 'sentiment_analysis_data']"
      ]
     },
     "execution_count": 4,
     "metadata": {},
     "output_type": "execute_result"
    }
   ],
   "source": [
    "path = './../../data/rotten_tomato/'\n",
    "os.listdir(path)"
   ]
  },
  {
   "cell_type": "code",
   "execution_count": 15,
   "id": "97a763d2-d6cb-44a4-918d-4a6a289793a8",
   "metadata": {},
   "outputs": [],
   "source": [
    "ratings_df = pd.read_csv(os.path.join(path + 'final_rating(sentiment,emotion).csv'), encoding='utf-8')"
   ]
  },
  {
   "cell_type": "code",
   "execution_count": 16,
   "id": "9c4ce2d1-7ffc-4f83-be13-c4f8ccbeea0a",
   "metadata": {},
   "outputs": [
    {
     "data": {
      "text/html": [
       "<div>\n",
       "<style scoped>\n",
       "    .dataframe tbody tr th:only-of-type {\n",
       "        vertical-align: middle;\n",
       "    }\n",
       "\n",
       "    .dataframe tbody tr th {\n",
       "        vertical-align: top;\n",
       "    }\n",
       "\n",
       "    .dataframe thead th {\n",
       "        text-align: right;\n",
       "    }\n",
       "</style>\n",
       "<table border=\"1\" class=\"dataframe\">\n",
       "  <thead>\n",
       "    <tr style=\"text-align: right;\">\n",
       "      <th></th>\n",
       "      <th>user_id</th>\n",
       "      <th>movie_id</th>\n",
       "      <th>review_score</th>\n",
       "      <th>review_content</th>\n",
       "      <th>review_type</th>\n",
       "      <th>review_date</th>\n",
       "      <th>critic_name</th>\n",
       "      <th>top_critic</th>\n",
       "      <th>publisher_name</th>\n",
       "      <th>sentiment</th>\n",
       "      <th>emotion</th>\n",
       "    </tr>\n",
       "  </thead>\n",
       "  <tbody>\n",
       "    <tr>\n",
       "      <th>0</th>\n",
       "      <td>943</td>\n",
       "      <td>0</td>\n",
       "      <td>0.70</td>\n",
       "      <td>Whether audiences will get behind The Lightnin...</td>\n",
       "      <td>Fresh</td>\n",
       "      <td>2010-02-09</td>\n",
       "      <td>Ben McEachen</td>\n",
       "      <td>False</td>\n",
       "      <td>Sunday Mail (Australia)</td>\n",
       "      <td>2</td>\n",
       "      <td>2</td>\n",
       "    </tr>\n",
       "    <tr>\n",
       "      <th>1</th>\n",
       "      <td>7242</td>\n",
       "      <td>0</td>\n",
       "      <td>0.25</td>\n",
       "      <td>Harry Potter knockoffs don't come more transpa...</td>\n",
       "      <td>Rotten</td>\n",
       "      <td>2010-02-10</td>\n",
       "      <td>Nick Schager</td>\n",
       "      <td>False</td>\n",
       "      <td>Slant Magazine</td>\n",
       "      <td>0</td>\n",
       "      <td>2</td>\n",
       "    </tr>\n",
       "    <tr>\n",
       "      <th>2</th>\n",
       "      <td>1046</td>\n",
       "      <td>0</td>\n",
       "      <td>0.70</td>\n",
       "      <td>Percy Jackson isn't a great movie, but it's a ...</td>\n",
       "      <td>Fresh</td>\n",
       "      <td>2010-02-10</td>\n",
       "      <td>Bill Goodykoontz</td>\n",
       "      <td>True</td>\n",
       "      <td>Arizona Republic</td>\n",
       "      <td>3</td>\n",
       "      <td>2</td>\n",
       "    </tr>\n",
       "    <tr>\n",
       "      <th>3</th>\n",
       "      <td>4895</td>\n",
       "      <td>0</td>\n",
       "      <td>0.70</td>\n",
       "      <td>Fun, brisk and imaginative</td>\n",
       "      <td>Fresh</td>\n",
       "      <td>2010-02-10</td>\n",
       "      <td>Jordan Hoffman</td>\n",
       "      <td>False</td>\n",
       "      <td>UGO</td>\n",
       "      <td>4</td>\n",
       "      <td>2</td>\n",
       "    </tr>\n",
       "    <tr>\n",
       "      <th>4</th>\n",
       "      <td>4517</td>\n",
       "      <td>0</td>\n",
       "      <td>0.60</td>\n",
       "      <td>Crammed with dragons, set-destroying fights an...</td>\n",
       "      <td>Fresh</td>\n",
       "      <td>2010-02-10</td>\n",
       "      <td>Jim Schembri</td>\n",
       "      <td>True</td>\n",
       "      <td>The Age (Australia)</td>\n",
       "      <td>1</td>\n",
       "      <td>2</td>\n",
       "    </tr>\n",
       "  </tbody>\n",
       "</table>\n",
       "</div>"
      ],
      "text/plain": [
       "   user_id  movie_id  review_score  \\\n",
       "0      943         0          0.70   \n",
       "1     7242         0          0.25   \n",
       "2     1046         0          0.70   \n",
       "3     4895         0          0.70   \n",
       "4     4517         0          0.60   \n",
       "\n",
       "                                      review_content review_type review_date  \\\n",
       "0  Whether audiences will get behind The Lightnin...       Fresh  2010-02-09   \n",
       "1  Harry Potter knockoffs don't come more transpa...      Rotten  2010-02-10   \n",
       "2  Percy Jackson isn't a great movie, but it's a ...       Fresh  2010-02-10   \n",
       "3                         Fun, brisk and imaginative       Fresh  2010-02-10   \n",
       "4  Crammed with dragons, set-destroying fights an...       Fresh  2010-02-10   \n",
       "\n",
       "        critic_name  top_critic           publisher_name  sentiment  emotion  \n",
       "0      Ben McEachen       False  Sunday Mail (Australia)          2        2  \n",
       "1      Nick Schager       False           Slant Magazine          0        2  \n",
       "2  Bill Goodykoontz        True         Arizona Republic          3        2  \n",
       "3    Jordan Hoffman       False                      UGO          4        2  \n",
       "4      Jim Schembri        True      The Age (Australia)          1        2  "
      ]
     },
     "execution_count": 16,
     "metadata": {},
     "output_type": "execute_result"
    }
   ],
   "source": [
    "ratings_df.head()"
   ]
  },
  {
   "cell_type": "code",
   "execution_count": 17,
   "id": "44f44258-610a-442f-82ec-8955b4f8e38a",
   "metadata": {},
   "outputs": [
    {
     "data": {
      "text/plain": [
       "752664"
      ]
     },
     "execution_count": 17,
     "metadata": {},
     "output_type": "execute_result"
    }
   ],
   "source": [
    "len(ratings_df)"
   ]
  },
  {
   "cell_type": "markdown",
   "id": "a8666af5-f5fe-4d77-953e-ba81b20a27e5",
   "metadata": {},
   "source": [
    "### 0. scale이 1보다 큰 평점 제거"
   ]
  },
  {
   "cell_type": "code",
   "execution_count": 18,
   "id": "eeaf4e15-1384-4a37-b5b4-22a2faffdea8",
   "metadata": {},
   "outputs": [
    {
     "data": {
      "text/html": [
       "<div>\n",
       "<style scoped>\n",
       "    .dataframe tbody tr th:only-of-type {\n",
       "        vertical-align: middle;\n",
       "    }\n",
       "\n",
       "    .dataframe tbody tr th {\n",
       "        vertical-align: top;\n",
       "    }\n",
       "\n",
       "    .dataframe thead th {\n",
       "        text-align: right;\n",
       "    }\n",
       "</style>\n",
       "<table border=\"1\" class=\"dataframe\">\n",
       "  <thead>\n",
       "    <tr style=\"text-align: right;\">\n",
       "      <th></th>\n",
       "      <th>user_id</th>\n",
       "      <th>movie_id</th>\n",
       "      <th>review_score</th>\n",
       "      <th>sentiment</th>\n",
       "      <th>emotion</th>\n",
       "    </tr>\n",
       "  </thead>\n",
       "  <tbody>\n",
       "    <tr>\n",
       "      <th>count</th>\n",
       "      <td>752664.000000</td>\n",
       "      <td>752664.000000</td>\n",
       "      <td>752664.000000</td>\n",
       "      <td>752664.000000</td>\n",
       "      <td>752664.000000</td>\n",
       "    </tr>\n",
       "    <tr>\n",
       "      <th>mean</th>\n",
       "      <td>5213.468868</td>\n",
       "      <td>9661.126452</td>\n",
       "      <td>0.645261</td>\n",
       "      <td>2.345238</td>\n",
       "      <td>2.006229</td>\n",
       "    </tr>\n",
       "    <tr>\n",
       "      <th>std</th>\n",
       "      <td>2736.581088</td>\n",
       "      <td>4898.464745</td>\n",
       "      <td>0.289105</td>\n",
       "      <td>1.268411</td>\n",
       "      <td>1.090960</td>\n",
       "    </tr>\n",
       "    <tr>\n",
       "      <th>min</th>\n",
       "      <td>0.000000</td>\n",
       "      <td>0.000000</td>\n",
       "      <td>0.000000</td>\n",
       "      <td>0.000000</td>\n",
       "      <td>0.000000</td>\n",
       "    </tr>\n",
       "    <tr>\n",
       "      <th>25%</th>\n",
       "      <td>2871.000000</td>\n",
       "      <td>5455.000000</td>\n",
       "      <td>0.500000</td>\n",
       "      <td>1.000000</td>\n",
       "      <td>2.000000</td>\n",
       "    </tr>\n",
       "    <tr>\n",
       "      <th>50%</th>\n",
       "      <td>5414.000000</td>\n",
       "      <td>10304.000000</td>\n",
       "      <td>0.650000</td>\n",
       "      <td>3.000000</td>\n",
       "      <td>2.000000</td>\n",
       "    </tr>\n",
       "    <tr>\n",
       "      <th>75%</th>\n",
       "      <td>7646.000000</td>\n",
       "      <td>13691.000000</td>\n",
       "      <td>0.800000</td>\n",
       "      <td>3.000000</td>\n",
       "      <td>2.000000</td>\n",
       "    </tr>\n",
       "    <tr>\n",
       "      <th>max</th>\n",
       "      <td>9820.000000</td>\n",
       "      <td>17711.000000</td>\n",
       "      <td>9.000000</td>\n",
       "      <td>4.000000</td>\n",
       "      <td>5.000000</td>\n",
       "    </tr>\n",
       "  </tbody>\n",
       "</table>\n",
       "</div>"
      ],
      "text/plain": [
       "             user_id       movie_id   review_score      sentiment  \\\n",
       "count  752664.000000  752664.000000  752664.000000  752664.000000   \n",
       "mean     5213.468868    9661.126452       0.645261       2.345238   \n",
       "std      2736.581088    4898.464745       0.289105       1.268411   \n",
       "min         0.000000       0.000000       0.000000       0.000000   \n",
       "25%      2871.000000    5455.000000       0.500000       1.000000   \n",
       "50%      5414.000000   10304.000000       0.650000       3.000000   \n",
       "75%      7646.000000   13691.000000       0.800000       3.000000   \n",
       "max      9820.000000   17711.000000       9.000000       4.000000   \n",
       "\n",
       "             emotion  \n",
       "count  752664.000000  \n",
       "mean        2.006229  \n",
       "std         1.090960  \n",
       "min         0.000000  \n",
       "25%         2.000000  \n",
       "50%         2.000000  \n",
       "75%         2.000000  \n",
       "max         5.000000  "
      ]
     },
     "execution_count": 18,
     "metadata": {},
     "output_type": "execute_result"
    }
   ],
   "source": [
    "ratings_df.describe()"
   ]
  },
  {
   "cell_type": "code",
   "execution_count": 19,
   "id": "48c8ea59-b85d-4a77-b6ee-a4f6a0eec821",
   "metadata": {},
   "outputs": [
    {
     "data": {
      "text/plain": [
       "1535"
      ]
     },
     "execution_count": 19,
     "metadata": {},
     "output_type": "execute_result"
    }
   ],
   "source": [
    "# 1보다 큰 평점 수\n",
    "sum(ratings_df['review_score'] > 1.0)"
   ]
  },
  {
   "cell_type": "code",
   "execution_count": 20,
   "id": "9161554e-6760-4ec3-b7b3-000d524204fe",
   "metadata": {},
   "outputs": [
    {
     "data": {
      "text/plain": [
       "751129"
      ]
     },
     "execution_count": 20,
     "metadata": {},
     "output_type": "execute_result"
    }
   ],
   "source": [
    "# 1보다 작은 평점 수\n",
    "sum(ratings_df['review_score'] <= 1.0)"
   ]
  },
  {
   "cell_type": "code",
   "execution_count": 21,
   "id": "7ea54508-72ed-4259-956e-89f997ea5045",
   "metadata": {},
   "outputs": [],
   "source": [
    "ratings_df = ratings_df[ratings_df['review_score'] <= 1.0]"
   ]
  },
  {
   "cell_type": "code",
   "execution_count": 22,
   "id": "56244683-5929-4f54-a551-6cf79dc2a1ac",
   "metadata": {},
   "outputs": [
    {
     "data": {
      "text/html": [
       "<div>\n",
       "<style scoped>\n",
       "    .dataframe tbody tr th:only-of-type {\n",
       "        vertical-align: middle;\n",
       "    }\n",
       "\n",
       "    .dataframe tbody tr th {\n",
       "        vertical-align: top;\n",
       "    }\n",
       "\n",
       "    .dataframe thead th {\n",
       "        text-align: right;\n",
       "    }\n",
       "</style>\n",
       "<table border=\"1\" class=\"dataframe\">\n",
       "  <thead>\n",
       "    <tr style=\"text-align: right;\">\n",
       "      <th></th>\n",
       "      <th>user_id</th>\n",
       "      <th>movie_id</th>\n",
       "      <th>review_score</th>\n",
       "      <th>sentiment</th>\n",
       "      <th>emotion</th>\n",
       "    </tr>\n",
       "  </thead>\n",
       "  <tbody>\n",
       "    <tr>\n",
       "      <th>count</th>\n",
       "      <td>751129.000000</td>\n",
       "      <td>751129.000000</td>\n",
       "      <td>751129.000000</td>\n",
       "      <td>751129.000000</td>\n",
       "      <td>751129.000000</td>\n",
       "    </tr>\n",
       "    <tr>\n",
       "      <th>mean</th>\n",
       "      <td>5214.016632</td>\n",
       "      <td>9659.561123</td>\n",
       "      <td>0.637334</td>\n",
       "      <td>2.345168</td>\n",
       "      <td>2.006137</td>\n",
       "    </tr>\n",
       "    <tr>\n",
       "      <th>std</th>\n",
       "      <td>2738.008969</td>\n",
       "      <td>4898.772395</td>\n",
       "      <td>0.210770</td>\n",
       "      <td>1.268545</td>\n",
       "      <td>1.090926</td>\n",
       "    </tr>\n",
       "    <tr>\n",
       "      <th>min</th>\n",
       "      <td>0.000000</td>\n",
       "      <td>0.000000</td>\n",
       "      <td>0.000000</td>\n",
       "      <td>0.000000</td>\n",
       "      <td>0.000000</td>\n",
       "    </tr>\n",
       "    <tr>\n",
       "      <th>25%</th>\n",
       "      <td>2870.000000</td>\n",
       "      <td>5451.000000</td>\n",
       "      <td>0.500000</td>\n",
       "      <td>1.000000</td>\n",
       "      <td>2.000000</td>\n",
       "    </tr>\n",
       "    <tr>\n",
       "      <th>50%</th>\n",
       "      <td>5414.000000</td>\n",
       "      <td>10302.000000</td>\n",
       "      <td>0.625000</td>\n",
       "      <td>3.000000</td>\n",
       "      <td>2.000000</td>\n",
       "    </tr>\n",
       "    <tr>\n",
       "      <th>75%</th>\n",
       "      <td>7646.000000</td>\n",
       "      <td>13691.000000</td>\n",
       "      <td>0.800000</td>\n",
       "      <td>3.000000</td>\n",
       "      <td>2.000000</td>\n",
       "    </tr>\n",
       "    <tr>\n",
       "      <th>max</th>\n",
       "      <td>9820.000000</td>\n",
       "      <td>17711.000000</td>\n",
       "      <td>1.000000</td>\n",
       "      <td>4.000000</td>\n",
       "      <td>5.000000</td>\n",
       "    </tr>\n",
       "  </tbody>\n",
       "</table>\n",
       "</div>"
      ],
      "text/plain": [
       "             user_id       movie_id   review_score      sentiment  \\\n",
       "count  751129.000000  751129.000000  751129.000000  751129.000000   \n",
       "mean     5214.016632    9659.561123       0.637334       2.345168   \n",
       "std      2738.008969    4898.772395       0.210770       1.268545   \n",
       "min         0.000000       0.000000       0.000000       0.000000   \n",
       "25%      2870.000000    5451.000000       0.500000       1.000000   \n",
       "50%      5414.000000   10302.000000       0.625000       3.000000   \n",
       "75%      7646.000000   13691.000000       0.800000       3.000000   \n",
       "max      9820.000000   17711.000000       1.000000       4.000000   \n",
       "\n",
       "             emotion  \n",
       "count  751129.000000  \n",
       "mean        2.006137  \n",
       "std         1.090926  \n",
       "min         0.000000  \n",
       "25%         2.000000  \n",
       "50%         2.000000  \n",
       "75%         2.000000  \n",
       "max         5.000000  "
      ]
     },
     "execution_count": 22,
     "metadata": {},
     "output_type": "execute_result"
    }
   ],
   "source": [
    "ratings_df.describe()"
   ]
  },
  {
   "cell_type": "code",
   "execution_count": 23,
   "id": "13b460d4-946e-4229-be0a-5ed8d2bbf97e",
   "metadata": {},
   "outputs": [
    {
     "data": {
      "text/plain": [
       "751129"
      ]
     },
     "execution_count": 23,
     "metadata": {},
     "output_type": "execute_result"
    }
   ],
   "source": [
    "len(ratings_df)"
   ]
  },
  {
   "cell_type": "code",
   "execution_count": 24,
   "id": "ee0fd6ae-eb7a-4f12-840f-c5265d7199f2",
   "metadata": {},
   "outputs": [],
   "source": [
    "ratings_df.to_csv(path+'final_rating(sentiment,emotion).csv', index=True)"
   ]
  },
  {
   "cell_type": "code",
   "execution_count": null,
   "id": "ed00eeba-79d8-4f6c-9983-40d66310c301",
   "metadata": {},
   "outputs": [],
   "source": []
  },
  {
   "cell_type": "code",
   "execution_count": null,
   "id": "49df1104-0481-47ec-8a3b-985dc1ddf415",
   "metadata": {},
   "outputs": [],
   "source": []
  },
  {
   "cell_type": "code",
   "execution_count": 17,
   "id": "f5d3bf3a-664b-46d0-beb3-1e1f3fe806a9",
   "metadata": {},
   "outputs": [
    {
     "name": "stdout",
     "output_type": "stream",
     "text": [
      "(752664, 11)\n"
     ]
    }
   ],
   "source": [
    "print(ratings_df.shape)"
   ]
  },
  {
   "cell_type": "code",
   "execution_count": 8,
   "id": "a7c3628a-4fe2-44df-83c8-12e99cf87ee6",
   "metadata": {},
   "outputs": [
    {
     "data": {
      "text/plain": [
       "9820"
      ]
     },
     "execution_count": 8,
     "metadata": {},
     "output_type": "execute_result"
    }
   ],
   "source": [
    "len(set(ratings_df.user_id))"
   ]
  },
  {
   "cell_type": "code",
   "execution_count": 9,
   "id": "8764676c-5c37-4849-bb94-ca1f38cd0051",
   "metadata": {},
   "outputs": [
    {
     "data": {
      "text/plain": [
       "17614"
      ]
     },
     "execution_count": 9,
     "metadata": {},
     "output_type": "execute_result"
    }
   ],
   "source": [
    "len(set(ratings_df.movie_id))"
   ]
  },
  {
   "cell_type": "code",
   "execution_count": 10,
   "id": "b916e10e-1611-4b94-b29f-f3d80f2bb8e2",
   "metadata": {},
   "outputs": [
    {
     "data": {
      "text/plain": [
       "752664"
      ]
     },
     "execution_count": 10,
     "metadata": {},
     "output_type": "execute_result"
    }
   ],
   "source": [
    "len(ratings_df)"
   ]
  },
  {
   "cell_type": "markdown",
   "id": "c9fb655a-ab01-4b59-8021-8e98b2530c89",
   "metadata": {},
   "source": [
    "## 1. 전처리"
   ]
  },
  {
   "cell_type": "markdown",
   "id": "91336630-c1f2-4aea-9c88-e4870ae48eb2",
   "metadata": {},
   "source": [
    "- 문제점: uid, gid, review가 중복되는 경우 (79,267개, 10%)\n",
    "- 사용자가 동일 영화를 여러번 보고 중복 리뷰를 남김\n",
    "- 해결: 마지막 리뷰, 평점만 남기고 제거함."
   ]
  },
  {
   "cell_type": "code",
   "execution_count": 11,
   "id": "d99e7e62-a2a9-48f6-9dee-f474843a53c0",
   "metadata": {},
   "outputs": [],
   "source": [
    "clean_ratings_df = ratings_df.drop_duplicates(subset=['user_id', 'movie_id'], keep='last')"
   ]
  },
  {
   "cell_type": "code",
   "execution_count": 12,
   "id": "99b4d4b8-9aa2-4608-b931-2119f66a9c7f",
   "metadata": {},
   "outputs": [
    {
     "data": {
      "text/plain": [
       "673397"
      ]
     },
     "execution_count": 12,
     "metadata": {},
     "output_type": "execute_result"
    }
   ],
   "source": [
    "len(clean_ratings_df)"
   ]
  },
  {
   "cell_type": "code",
   "execution_count": 13,
   "id": "601f4ead-c7dd-4513-a8f1-140f64c6b9f8",
   "metadata": {},
   "outputs": [
    {
     "name": "stdout",
     "output_type": "stream",
     "text": [
      "79267\n"
     ]
    }
   ],
   "source": [
    "print(len(ratings_df) - len(clean_ratings_df))"
   ]
  },
  {
   "cell_type": "code",
   "execution_count": 14,
   "id": "77bb7f59-34e1-4dc1-b5b8-c7401f66b702",
   "metadata": {},
   "outputs": [
    {
     "name": "stdout",
     "output_type": "stream",
     "text": [
      "(538717, 10)\n",
      "(134680, 10)\n"
     ]
    }
   ],
   "source": [
    "train_df, test_df = train_test_split(clean_ratings_df, test_size=0.2, random_state=1234)\n",
    "\n",
    "print(train_df.shape)\n",
    "print(test_df.shape)"
   ]
  },
  {
   "cell_type": "code",
   "execution_count": 15,
   "id": "7f115b96-69d1-46d2-8fd6-fa2277d3211e",
   "metadata": {},
   "outputs": [
    {
     "data": {
      "text/html": [
       "<div>\n",
       "<style scoped>\n",
       "    .dataframe tbody tr th:only-of-type {\n",
       "        vertical-align: middle;\n",
       "    }\n",
       "\n",
       "    .dataframe tbody tr th {\n",
       "        vertical-align: top;\n",
       "    }\n",
       "\n",
       "    .dataframe thead th {\n",
       "        text-align: right;\n",
       "    }\n",
       "</style>\n",
       "<table border=\"1\" class=\"dataframe\">\n",
       "  <thead>\n",
       "    <tr style=\"text-align: right;\">\n",
       "      <th></th>\n",
       "      <th>user_id</th>\n",
       "      <th>movie_id</th>\n",
       "      <th>review_score</th>\n",
       "      <th>review_content</th>\n",
       "      <th>review_type</th>\n",
       "      <th>review_date</th>\n",
       "      <th>critic_name</th>\n",
       "      <th>top_critic</th>\n",
       "      <th>publisher_name</th>\n",
       "      <th>sentiment</th>\n",
       "    </tr>\n",
       "  </thead>\n",
       "  <tbody>\n",
       "    <tr>\n",
       "      <th>75856</th>\n",
       "      <td>1527</td>\n",
       "      <td>2496</td>\n",
       "      <td>0.60</td>\n",
       "      <td>For reasons too spoilery to give away, Fassben...</td>\n",
       "      <td>Fresh</td>\n",
       "      <td>2017-05-06</td>\n",
       "      <td>Cath Clarke</td>\n",
       "      <td>True</td>\n",
       "      <td>Time Out</td>\n",
       "      <td>3</td>\n",
       "    </tr>\n",
       "    <tr>\n",
       "      <th>669438</th>\n",
       "      <td>8085</td>\n",
       "      <td>15663</td>\n",
       "      <td>0.40</td>\n",
       "      <td>The Armenian people deserve a better film brin...</td>\n",
       "      <td>Rotten</td>\n",
       "      <td>2017-12-05</td>\n",
       "      <td>Robert Kojder</td>\n",
       "      <td>False</td>\n",
       "      <td>Flickering Myth</td>\n",
       "      <td>2</td>\n",
       "    </tr>\n",
       "    <tr>\n",
       "      <th>73967</th>\n",
       "      <td>3223</td>\n",
       "      <td>2457</td>\n",
       "      <td>0.75</td>\n",
       "      <td>Hollywood has finally realized academic compet...</td>\n",
       "      <td>Fresh</td>\n",
       "      <td>2006-05-19</td>\n",
       "      <td>Forrest Hartman</td>\n",
       "      <td>False</td>\n",
       "      <td>Reno Gazette-Journal</td>\n",
       "      <td>3</td>\n",
       "    </tr>\n",
       "    <tr>\n",
       "      <th>511025</th>\n",
       "      <td>8010</td>\n",
       "      <td>12984</td>\n",
       "      <td>1.00</td>\n",
       "      <td>An intelligently crafted celebration of intros...</td>\n",
       "      <td>Fresh</td>\n",
       "      <td>2007-04-09</td>\n",
       "      <td>Rob Gonsalves</td>\n",
       "      <td>False</td>\n",
       "      <td>eFilmCritic.com</td>\n",
       "      <td>4</td>\n",
       "    </tr>\n",
       "    <tr>\n",
       "      <th>245694</th>\n",
       "      <td>7646</td>\n",
       "      <td>6996</td>\n",
       "      <td>0.20</td>\n",
       "      <td>Watching \"G.I. Joe\" is like being slapped acro...</td>\n",
       "      <td>Rotten</td>\n",
       "      <td>2009-08-07</td>\n",
       "      <td>Peter Sobczynski</td>\n",
       "      <td>False</td>\n",
       "      <td>eFilmCritic.com</td>\n",
       "      <td>0</td>\n",
       "    </tr>\n",
       "  </tbody>\n",
       "</table>\n",
       "</div>"
      ],
      "text/plain": [
       "        user_id  movie_id  review_score  \\\n",
       "75856      1527      2496          0.60   \n",
       "669438     8085     15663          0.40   \n",
       "73967      3223      2457          0.75   \n",
       "511025     8010     12984          1.00   \n",
       "245694     7646      6996          0.20   \n",
       "\n",
       "                                           review_content review_type  \\\n",
       "75856   For reasons too spoilery to give away, Fassben...       Fresh   \n",
       "669438  The Armenian people deserve a better film brin...      Rotten   \n",
       "73967   Hollywood has finally realized academic compet...       Fresh   \n",
       "511025  An intelligently crafted celebration of intros...       Fresh   \n",
       "245694  Watching \"G.I. Joe\" is like being slapped acro...      Rotten   \n",
       "\n",
       "       review_date       critic_name  top_critic        publisher_name  \\\n",
       "75856   2017-05-06       Cath Clarke        True              Time Out   \n",
       "669438  2017-12-05     Robert Kojder       False       Flickering Myth   \n",
       "73967   2006-05-19   Forrest Hartman       False  Reno Gazette-Journal   \n",
       "511025  2007-04-09     Rob Gonsalves       False       eFilmCritic.com   \n",
       "245694  2009-08-07  Peter Sobczynski       False       eFilmCritic.com   \n",
       "\n",
       "        sentiment  \n",
       "75856           3  \n",
       "669438          2  \n",
       "73967           3  \n",
       "511025          4  \n",
       "245694          0  "
      ]
     },
     "execution_count": 15,
     "metadata": {},
     "output_type": "execute_result"
    }
   ],
   "source": [
    "train_df.head()"
   ]
  },
  {
   "cell_type": "code",
   "execution_count": 16,
   "id": "d74470f1-f585-4194-9d19-da69745acfa0",
   "metadata": {},
   "outputs": [
    {
     "name": "stdout",
     "output_type": "stream",
     "text": [
      "유저 수: 9186, 영화 수: 17499\n"
     ]
    }
   ],
   "source": [
    "user_ids = sorted(list(set(train_df['user_id'].values)))\n",
    "movie_ids = sorted(list(set(train_df['movie_id'].values)))\n",
    "\n",
    "print(f'유저 수: {len(user_ids)}, 영화 수: {len(movie_ids)}')\n",
    "# print(user_ids)\n",
    "# print(movie_ids)"
   ]
  },
  {
   "cell_type": "code",
   "execution_count": 17,
   "id": "c7efa379-f4cc-4a8c-8a32-6efe7375b986",
   "metadata": {},
   "outputs": [
    {
     "data": {
      "text/plain": [
       "movie_id\n",
       "0         91\n",
       "1         72\n",
       "2          9\n",
       "3         28\n",
       "4          8\n",
       "        ... \n",
       "17706     45\n",
       "17708    172\n",
       "17709      4\n",
       "17710      4\n",
       "17711      2\n",
       "Name: user_id, Length: 17499, dtype: int64"
      ]
     },
     "execution_count": 17,
     "metadata": {},
     "output_type": "execute_result"
    }
   ],
   "source": [
    "# train_df의 movieId를 기준으로 groupBy\n",
    "grouped = train_df.groupby('movie_id')\n",
    "grouped['user_id'].count()"
   ]
  },
  {
   "cell_type": "markdown",
   "id": "6680b2b6-0310-4261-a8b8-9c6010797061",
   "metadata": {},
   "source": [
    "## 2. 데이터셋 분할\n",
    "- Time기준으로 8:2\n",
    "- test에는 존재하지만, train에는 없는 영화, 사용자 비율"
   ]
  },
  {
   "cell_type": "code",
   "execution_count": 18,
   "id": "5054a7ca-a118-410f-b1bb-1c024aa6b968",
   "metadata": {},
   "outputs": [
    {
     "data": {
      "text/html": [
       "<div>\n",
       "<style scoped>\n",
       "    .dataframe tbody tr th:only-of-type {\n",
       "        vertical-align: middle;\n",
       "    }\n",
       "\n",
       "    .dataframe tbody tr th {\n",
       "        vertical-align: top;\n",
       "    }\n",
       "\n",
       "    .dataframe thead th {\n",
       "        text-align: right;\n",
       "    }\n",
       "</style>\n",
       "<table border=\"1\" class=\"dataframe\">\n",
       "  <thead>\n",
       "    <tr style=\"text-align: right;\">\n",
       "      <th>user_id</th>\n",
       "      <th>0</th>\n",
       "      <th>1</th>\n",
       "      <th>2</th>\n",
       "      <th>3</th>\n",
       "      <th>4</th>\n",
       "      <th>5</th>\n",
       "      <th>6</th>\n",
       "      <th>7</th>\n",
       "      <th>8</th>\n",
       "      <th>9</th>\n",
       "      <th>...</th>\n",
       "      <th>9811</th>\n",
       "      <th>9812</th>\n",
       "      <th>9813</th>\n",
       "      <th>9814</th>\n",
       "      <th>9815</th>\n",
       "      <th>9816</th>\n",
       "      <th>9817</th>\n",
       "      <th>9818</th>\n",
       "      <th>9819</th>\n",
       "      <th>9820</th>\n",
       "    </tr>\n",
       "    <tr>\n",
       "      <th>movie_id</th>\n",
       "      <th></th>\n",
       "      <th></th>\n",
       "      <th></th>\n",
       "      <th></th>\n",
       "      <th></th>\n",
       "      <th></th>\n",
       "      <th></th>\n",
       "      <th></th>\n",
       "      <th></th>\n",
       "      <th></th>\n",
       "      <th></th>\n",
       "      <th></th>\n",
       "      <th></th>\n",
       "      <th></th>\n",
       "      <th></th>\n",
       "      <th></th>\n",
       "      <th></th>\n",
       "      <th></th>\n",
       "      <th></th>\n",
       "      <th></th>\n",
       "      <th></th>\n",
       "    </tr>\n",
       "  </thead>\n",
       "  <tbody>\n",
       "    <tr>\n",
       "      <th>0</th>\n",
       "      <td>NaN</td>\n",
       "      <td>NaN</td>\n",
       "      <td>NaN</td>\n",
       "      <td>NaN</td>\n",
       "      <td>NaN</td>\n",
       "      <td>NaN</td>\n",
       "      <td>NaN</td>\n",
       "      <td>NaN</td>\n",
       "      <td>NaN</td>\n",
       "      <td>NaN</td>\n",
       "      <td>...</td>\n",
       "      <td>NaN</td>\n",
       "      <td>NaN</td>\n",
       "      <td>NaN</td>\n",
       "      <td>NaN</td>\n",
       "      <td>NaN</td>\n",
       "      <td>NaN</td>\n",
       "      <td>NaN</td>\n",
       "      <td>NaN</td>\n",
       "      <td>NaN</td>\n",
       "      <td>NaN</td>\n",
       "    </tr>\n",
       "    <tr>\n",
       "      <th>1</th>\n",
       "      <td>NaN</td>\n",
       "      <td>NaN</td>\n",
       "      <td>NaN</td>\n",
       "      <td>NaN</td>\n",
       "      <td>NaN</td>\n",
       "      <td>NaN</td>\n",
       "      <td>NaN</td>\n",
       "      <td>NaN</td>\n",
       "      <td>NaN</td>\n",
       "      <td>NaN</td>\n",
       "      <td>...</td>\n",
       "      <td>NaN</td>\n",
       "      <td>NaN</td>\n",
       "      <td>NaN</td>\n",
       "      <td>NaN</td>\n",
       "      <td>NaN</td>\n",
       "      <td>NaN</td>\n",
       "      <td>NaN</td>\n",
       "      <td>NaN</td>\n",
       "      <td>NaN</td>\n",
       "      <td>NaN</td>\n",
       "    </tr>\n",
       "    <tr>\n",
       "      <th>2</th>\n",
       "      <td>NaN</td>\n",
       "      <td>NaN</td>\n",
       "      <td>NaN</td>\n",
       "      <td>NaN</td>\n",
       "      <td>NaN</td>\n",
       "      <td>NaN</td>\n",
       "      <td>NaN</td>\n",
       "      <td>NaN</td>\n",
       "      <td>NaN</td>\n",
       "      <td>NaN</td>\n",
       "      <td>...</td>\n",
       "      <td>NaN</td>\n",
       "      <td>NaN</td>\n",
       "      <td>NaN</td>\n",
       "      <td>NaN</td>\n",
       "      <td>NaN</td>\n",
       "      <td>NaN</td>\n",
       "      <td>NaN</td>\n",
       "      <td>NaN</td>\n",
       "      <td>NaN</td>\n",
       "      <td>NaN</td>\n",
       "    </tr>\n",
       "    <tr>\n",
       "      <th>3</th>\n",
       "      <td>NaN</td>\n",
       "      <td>NaN</td>\n",
       "      <td>NaN</td>\n",
       "      <td>0.9</td>\n",
       "      <td>NaN</td>\n",
       "      <td>NaN</td>\n",
       "      <td>NaN</td>\n",
       "      <td>NaN</td>\n",
       "      <td>NaN</td>\n",
       "      <td>NaN</td>\n",
       "      <td>...</td>\n",
       "      <td>NaN</td>\n",
       "      <td>NaN</td>\n",
       "      <td>NaN</td>\n",
       "      <td>NaN</td>\n",
       "      <td>NaN</td>\n",
       "      <td>NaN</td>\n",
       "      <td>NaN</td>\n",
       "      <td>NaN</td>\n",
       "      <td>NaN</td>\n",
       "      <td>NaN</td>\n",
       "    </tr>\n",
       "    <tr>\n",
       "      <th>4</th>\n",
       "      <td>NaN</td>\n",
       "      <td>NaN</td>\n",
       "      <td>NaN</td>\n",
       "      <td>NaN</td>\n",
       "      <td>NaN</td>\n",
       "      <td>NaN</td>\n",
       "      <td>NaN</td>\n",
       "      <td>NaN</td>\n",
       "      <td>NaN</td>\n",
       "      <td>NaN</td>\n",
       "      <td>...</td>\n",
       "      <td>NaN</td>\n",
       "      <td>NaN</td>\n",
       "      <td>NaN</td>\n",
       "      <td>NaN</td>\n",
       "      <td>NaN</td>\n",
       "      <td>NaN</td>\n",
       "      <td>NaN</td>\n",
       "      <td>NaN</td>\n",
       "      <td>NaN</td>\n",
       "      <td>NaN</td>\n",
       "    </tr>\n",
       "    <tr>\n",
       "      <th>...</th>\n",
       "      <td>...</td>\n",
       "      <td>...</td>\n",
       "      <td>...</td>\n",
       "      <td>...</td>\n",
       "      <td>...</td>\n",
       "      <td>...</td>\n",
       "      <td>...</td>\n",
       "      <td>...</td>\n",
       "      <td>...</td>\n",
       "      <td>...</td>\n",
       "      <td>...</td>\n",
       "      <td>...</td>\n",
       "      <td>...</td>\n",
       "      <td>...</td>\n",
       "      <td>...</td>\n",
       "      <td>...</td>\n",
       "      <td>...</td>\n",
       "      <td>...</td>\n",
       "      <td>...</td>\n",
       "      <td>...</td>\n",
       "      <td>...</td>\n",
       "    </tr>\n",
       "    <tr>\n",
       "      <th>17706</th>\n",
       "      <td>NaN</td>\n",
       "      <td>NaN</td>\n",
       "      <td>NaN</td>\n",
       "      <td>NaN</td>\n",
       "      <td>NaN</td>\n",
       "      <td>NaN</td>\n",
       "      <td>NaN</td>\n",
       "      <td>NaN</td>\n",
       "      <td>NaN</td>\n",
       "      <td>NaN</td>\n",
       "      <td>...</td>\n",
       "      <td>NaN</td>\n",
       "      <td>NaN</td>\n",
       "      <td>NaN</td>\n",
       "      <td>NaN</td>\n",
       "      <td>NaN</td>\n",
       "      <td>NaN</td>\n",
       "      <td>NaN</td>\n",
       "      <td>NaN</td>\n",
       "      <td>NaN</td>\n",
       "      <td>NaN</td>\n",
       "    </tr>\n",
       "    <tr>\n",
       "      <th>17708</th>\n",
       "      <td>NaN</td>\n",
       "      <td>NaN</td>\n",
       "      <td>NaN</td>\n",
       "      <td>NaN</td>\n",
       "      <td>NaN</td>\n",
       "      <td>NaN</td>\n",
       "      <td>NaN</td>\n",
       "      <td>NaN</td>\n",
       "      <td>NaN</td>\n",
       "      <td>NaN</td>\n",
       "      <td>...</td>\n",
       "      <td>NaN</td>\n",
       "      <td>NaN</td>\n",
       "      <td>NaN</td>\n",
       "      <td>1.0</td>\n",
       "      <td>NaN</td>\n",
       "      <td>NaN</td>\n",
       "      <td>NaN</td>\n",
       "      <td>NaN</td>\n",
       "      <td>NaN</td>\n",
       "      <td>NaN</td>\n",
       "    </tr>\n",
       "    <tr>\n",
       "      <th>17709</th>\n",
       "      <td>NaN</td>\n",
       "      <td>NaN</td>\n",
       "      <td>NaN</td>\n",
       "      <td>NaN</td>\n",
       "      <td>NaN</td>\n",
       "      <td>NaN</td>\n",
       "      <td>NaN</td>\n",
       "      <td>NaN</td>\n",
       "      <td>NaN</td>\n",
       "      <td>NaN</td>\n",
       "      <td>...</td>\n",
       "      <td>NaN</td>\n",
       "      <td>NaN</td>\n",
       "      <td>NaN</td>\n",
       "      <td>NaN</td>\n",
       "      <td>NaN</td>\n",
       "      <td>NaN</td>\n",
       "      <td>NaN</td>\n",
       "      <td>NaN</td>\n",
       "      <td>NaN</td>\n",
       "      <td>NaN</td>\n",
       "    </tr>\n",
       "    <tr>\n",
       "      <th>17710</th>\n",
       "      <td>NaN</td>\n",
       "      <td>NaN</td>\n",
       "      <td>NaN</td>\n",
       "      <td>NaN</td>\n",
       "      <td>NaN</td>\n",
       "      <td>NaN</td>\n",
       "      <td>NaN</td>\n",
       "      <td>NaN</td>\n",
       "      <td>NaN</td>\n",
       "      <td>NaN</td>\n",
       "      <td>...</td>\n",
       "      <td>NaN</td>\n",
       "      <td>NaN</td>\n",
       "      <td>NaN</td>\n",
       "      <td>NaN</td>\n",
       "      <td>NaN</td>\n",
       "      <td>NaN</td>\n",
       "      <td>NaN</td>\n",
       "      <td>NaN</td>\n",
       "      <td>NaN</td>\n",
       "      <td>NaN</td>\n",
       "    </tr>\n",
       "    <tr>\n",
       "      <th>17711</th>\n",
       "      <td>NaN</td>\n",
       "      <td>NaN</td>\n",
       "      <td>NaN</td>\n",
       "      <td>NaN</td>\n",
       "      <td>NaN</td>\n",
       "      <td>NaN</td>\n",
       "      <td>NaN</td>\n",
       "      <td>NaN</td>\n",
       "      <td>NaN</td>\n",
       "      <td>NaN</td>\n",
       "      <td>...</td>\n",
       "      <td>NaN</td>\n",
       "      <td>NaN</td>\n",
       "      <td>NaN</td>\n",
       "      <td>NaN</td>\n",
       "      <td>NaN</td>\n",
       "      <td>NaN</td>\n",
       "      <td>NaN</td>\n",
       "      <td>NaN</td>\n",
       "      <td>NaN</td>\n",
       "      <td>NaN</td>\n",
       "    </tr>\n",
       "  </tbody>\n",
       "</table>\n",
       "<p>17499 rows × 9186 columns</p>\n",
       "</div>"
      ],
      "text/plain": [
       "user_id   0     1     2     3     4     5     6     7     8     9     ...  \\\n",
       "movie_id                                                              ...   \n",
       "0          NaN   NaN   NaN   NaN   NaN   NaN   NaN   NaN   NaN   NaN  ...   \n",
       "1          NaN   NaN   NaN   NaN   NaN   NaN   NaN   NaN   NaN   NaN  ...   \n",
       "2          NaN   NaN   NaN   NaN   NaN   NaN   NaN   NaN   NaN   NaN  ...   \n",
       "3          NaN   NaN   NaN   0.9   NaN   NaN   NaN   NaN   NaN   NaN  ...   \n",
       "4          NaN   NaN   NaN   NaN   NaN   NaN   NaN   NaN   NaN   NaN  ...   \n",
       "...        ...   ...   ...   ...   ...   ...   ...   ...   ...   ...  ...   \n",
       "17706      NaN   NaN   NaN   NaN   NaN   NaN   NaN   NaN   NaN   NaN  ...   \n",
       "17708      NaN   NaN   NaN   NaN   NaN   NaN   NaN   NaN   NaN   NaN  ...   \n",
       "17709      NaN   NaN   NaN   NaN   NaN   NaN   NaN   NaN   NaN   NaN  ...   \n",
       "17710      NaN   NaN   NaN   NaN   NaN   NaN   NaN   NaN   NaN   NaN  ...   \n",
       "17711      NaN   NaN   NaN   NaN   NaN   NaN   NaN   NaN   NaN   NaN  ...   \n",
       "\n",
       "user_id   9811  9812  9813  9814  9815  9816  9817  9818  9819  9820  \n",
       "movie_id                                                              \n",
       "0          NaN   NaN   NaN   NaN   NaN   NaN   NaN   NaN   NaN   NaN  \n",
       "1          NaN   NaN   NaN   NaN   NaN   NaN   NaN   NaN   NaN   NaN  \n",
       "2          NaN   NaN   NaN   NaN   NaN   NaN   NaN   NaN   NaN   NaN  \n",
       "3          NaN   NaN   NaN   NaN   NaN   NaN   NaN   NaN   NaN   NaN  \n",
       "4          NaN   NaN   NaN   NaN   NaN   NaN   NaN   NaN   NaN   NaN  \n",
       "...        ...   ...   ...   ...   ...   ...   ...   ...   ...   ...  \n",
       "17706      NaN   NaN   NaN   NaN   NaN   NaN   NaN   NaN   NaN   NaN  \n",
       "17708      NaN   NaN   NaN   1.0   NaN   NaN   NaN   NaN   NaN   NaN  \n",
       "17709      NaN   NaN   NaN   NaN   NaN   NaN   NaN   NaN   NaN   NaN  \n",
       "17710      NaN   NaN   NaN   NaN   NaN   NaN   NaN   NaN   NaN   NaN  \n",
       "17711      NaN   NaN   NaN   NaN   NaN   NaN   NaN   NaN   NaN   NaN  \n",
       "\n",
       "[17499 rows x 9186 columns]"
      ]
     },
     "execution_count": 18,
     "metadata": {},
     "output_type": "execute_result"
    }
   ],
   "source": [
    "sparse_matrix = train_df.groupby('movie_id').apply(lambda x: pd.Series(x['review_score'].values, index=x['user_id'])).unstack()\n",
    "sparse_matrix.index.name = 'movie_id'\n",
    "\n",
    "sparse_matrix"
   ]
  },
  {
   "cell_type": "code",
   "execution_count": null,
   "id": "39d33683-c57f-4068-9c87-0a078f5c5f7d",
   "metadata": {},
   "outputs": [],
   "source": []
  },
  {
   "cell_type": "code",
   "execution_count": null,
   "id": "2be7a31d-641e-4cb3-8a93-b1029123ad68",
   "metadata": {},
   "outputs": [],
   "source": []
  },
  {
   "cell_type": "code",
   "execution_count": null,
   "id": "7cc4774f-75d3-4a2f-8165-77edcdc42151",
   "metadata": {},
   "outputs": [],
   "source": []
  },
  {
   "cell_type": "code",
   "execution_count": null,
   "id": "eee34ddb-1986-4fe6-b218-5e0182253873",
   "metadata": {},
   "outputs": [],
   "source": []
  }
 ],
 "metadata": {
  "kernelspec": {
   "display_name": "Python 3",
   "language": "python",
   "name": "python3"
  },
  "language_info": {
   "codemirror_mode": {
    "name": "ipython",
    "version": 3
   },
   "file_extension": ".py",
   "mimetype": "text/x-python",
   "name": "python",
   "nbconvert_exporter": "python",
   "pygments_lexer": "ipython3",
   "version": "3.6.13"
  }
 },
 "nbformat": 4,
 "nbformat_minor": 5
}
