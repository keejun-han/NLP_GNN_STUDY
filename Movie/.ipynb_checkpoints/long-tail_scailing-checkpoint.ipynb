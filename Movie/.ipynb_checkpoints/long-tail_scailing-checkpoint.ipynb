{
 "cells": [
  {
   "cell_type": "markdown",
   "id": "7bff4dd0-4458-4c9d-b6ca-abaa6f6e1bed",
   "metadata": {},
   "source": [
    "# Long-tail Scailing"
   ]
  },
  {
   "cell_type": "markdown",
   "id": "1e86e580-c0e9-4118-9873-3ca4e1e168eb",
   "metadata": {},
   "source": [
    "- 영화 관점(movie_info_df): 1명, 3명 미만의 영화\n",
    "- 유저 관점(user_info_df): 소수 리뷰 남긴 사람 비율"
   ]
  },
  {
   "cell_type": "markdown",
   "id": "130acd4a-ed53-42dd-b086-762c4e4cf240",
   "metadata": {},
   "source": [
    "### 0. Data 로드"
   ]
  },
  {
   "cell_type": "code",
   "execution_count": 20,
   "id": "620632f3-968d-4cf8-9195-8e2d29e3ec45",
   "metadata": {},
   "outputs": [
    {
     "data": {
      "text/plain": [
       "'C:\\\\Users\\\\user\\\\Jupyter_project\\\\keejun\\\\NLP_GNN_STUDY\\\\Movie'"
      ]
     },
     "execution_count": 20,
     "metadata": {},
     "output_type": "execute_result"
    }
   ],
   "source": [
    "import pandas as pd\n",
    "import os\n",
    "import datetime\n",
    "os.getcwd()"
   ]
  },
  {
   "cell_type": "code",
   "execution_count": 21,
   "id": "02d9cfa7-8327-4326-9318-e58340e17e1e",
   "metadata": {},
   "outputs": [
    {
     "data": {
      "text/plain": [
       "['emotion_analysis_data',\n",
       " 'final_rating(sentiment,emotion).csv',\n",
       " 'model.pth',\n",
       " 'model_new.pth',\n",
       " 'model_rotten.pth',\n",
       " 'model_save',\n",
       " 'movie1_neg.txt',\n",
       " 'movie1_pos.txt',\n",
       " 'movie2_neg.txt',\n",
       " 'movie2_pos.txt',\n",
       " 'movie3_neg.txt',\n",
       " 'movie3_pos.txt',\n",
       " 'rotten_movie_table.csv',\n",
       " 'rotten_rating_review_emotion_table.csv',\n",
       " 'rotten_rating_review_emotion_table.xlsx',\n",
       " 'rotten_rating_review_sentiment_table.csv',\n",
       " 'rotten_rating_review_sentiment_table.xlsx',\n",
       " 'rotten_rating_review_table.csv',\n",
       " 'rotten_review_scaled_clean.csv',\n",
       " 'rotten_review_scaled_label(pos,neu,neg).csv',\n",
       " 'rotten_review_scaled_label.csv',\n",
       " 'rotten_review_scaled_new.csv',\n",
       " 'rotten_tomatoes_critic_reviews.csv',\n",
       " 'rotten_tomatoes_movies.csv',\n",
       " 'sentiment_analysis_data']"
      ]
     },
     "execution_count": 21,
     "metadata": {},
     "output_type": "execute_result"
    }
   ],
   "source": [
    "path = './../../data/rotten_tomato/'\n",
    "os.listdir(path)"
   ]
  },
  {
   "cell_type": "code",
   "execution_count": 22,
   "id": "315a2fdd-fa92-4148-b5c0-1c83d9f45930",
   "metadata": {},
   "outputs": [
    {
     "name": "stdout",
     "output_type": "stream",
     "text": [
      "(751129, 12)\n"
     ]
    }
   ],
   "source": [
    "ratings_df = pd.read_csv(os.path.join(path, 'final_rating(sentiment,emotion).csv'), encoding='utf-8')\n",
    "# ratings_df.rename(columns={'review_score':'rating'}, inplace=True)\n",
    "\n",
    "print(ratings_df.shape)"
   ]
  },
  {
   "cell_type": "code",
   "execution_count": 23,
   "id": "116e177e-816c-48cf-b2bf-1fab113124fd",
   "metadata": {},
   "outputs": [],
   "source": [
    "ratings_df['rating'] = ratings_df['review_score']*4 + 1"
   ]
  },
  {
   "cell_type": "code",
   "execution_count": 24,
   "id": "9accb69d-21a1-4e50-a476-a59e5c998e09",
   "metadata": {},
   "outputs": [
    {
     "data": {
      "text/html": [
       "<div>\n",
       "<style scoped>\n",
       "    .dataframe tbody tr th:only-of-type {\n",
       "        vertical-align: middle;\n",
       "    }\n",
       "\n",
       "    .dataframe tbody tr th {\n",
       "        vertical-align: top;\n",
       "    }\n",
       "\n",
       "    .dataframe thead th {\n",
       "        text-align: right;\n",
       "    }\n",
       "</style>\n",
       "<table border=\"1\" class=\"dataframe\">\n",
       "  <thead>\n",
       "    <tr style=\"text-align: right;\">\n",
       "      <th></th>\n",
       "      <th>Unnamed: 0</th>\n",
       "      <th>user_id</th>\n",
       "      <th>movie_id</th>\n",
       "      <th>review_score</th>\n",
       "      <th>review_content</th>\n",
       "      <th>review_type</th>\n",
       "      <th>review_date</th>\n",
       "      <th>critic_name</th>\n",
       "      <th>top_critic</th>\n",
       "      <th>publisher_name</th>\n",
       "      <th>sentiment</th>\n",
       "      <th>emotion</th>\n",
       "      <th>rating</th>\n",
       "    </tr>\n",
       "  </thead>\n",
       "  <tbody>\n",
       "    <tr>\n",
       "      <th>0</th>\n",
       "      <td>0</td>\n",
       "      <td>943</td>\n",
       "      <td>0</td>\n",
       "      <td>0.70</td>\n",
       "      <td>Whether audiences will get behind The Lightnin...</td>\n",
       "      <td>Fresh</td>\n",
       "      <td>2010-02-09</td>\n",
       "      <td>Ben McEachen</td>\n",
       "      <td>False</td>\n",
       "      <td>Sunday Mail (Australia)</td>\n",
       "      <td>2</td>\n",
       "      <td>2</td>\n",
       "      <td>3.8</td>\n",
       "    </tr>\n",
       "    <tr>\n",
       "      <th>1</th>\n",
       "      <td>1</td>\n",
       "      <td>7242</td>\n",
       "      <td>0</td>\n",
       "      <td>0.25</td>\n",
       "      <td>Harry Potter knockoffs don't come more transpa...</td>\n",
       "      <td>Rotten</td>\n",
       "      <td>2010-02-10</td>\n",
       "      <td>Nick Schager</td>\n",
       "      <td>False</td>\n",
       "      <td>Slant Magazine</td>\n",
       "      <td>0</td>\n",
       "      <td>2</td>\n",
       "      <td>2.0</td>\n",
       "    </tr>\n",
       "    <tr>\n",
       "      <th>2</th>\n",
       "      <td>2</td>\n",
       "      <td>1046</td>\n",
       "      <td>0</td>\n",
       "      <td>0.70</td>\n",
       "      <td>Percy Jackson isn't a great movie, but it's a ...</td>\n",
       "      <td>Fresh</td>\n",
       "      <td>2010-02-10</td>\n",
       "      <td>Bill Goodykoontz</td>\n",
       "      <td>True</td>\n",
       "      <td>Arizona Republic</td>\n",
       "      <td>3</td>\n",
       "      <td>2</td>\n",
       "      <td>3.8</td>\n",
       "    </tr>\n",
       "    <tr>\n",
       "      <th>3</th>\n",
       "      <td>3</td>\n",
       "      <td>4895</td>\n",
       "      <td>0</td>\n",
       "      <td>0.70</td>\n",
       "      <td>Fun, brisk and imaginative</td>\n",
       "      <td>Fresh</td>\n",
       "      <td>2010-02-10</td>\n",
       "      <td>Jordan Hoffman</td>\n",
       "      <td>False</td>\n",
       "      <td>UGO</td>\n",
       "      <td>4</td>\n",
       "      <td>2</td>\n",
       "      <td>3.8</td>\n",
       "    </tr>\n",
       "    <tr>\n",
       "      <th>4</th>\n",
       "      <td>4</td>\n",
       "      <td>4517</td>\n",
       "      <td>0</td>\n",
       "      <td>0.60</td>\n",
       "      <td>Crammed with dragons, set-destroying fights an...</td>\n",
       "      <td>Fresh</td>\n",
       "      <td>2010-02-10</td>\n",
       "      <td>Jim Schembri</td>\n",
       "      <td>True</td>\n",
       "      <td>The Age (Australia)</td>\n",
       "      <td>1</td>\n",
       "      <td>2</td>\n",
       "      <td>3.4</td>\n",
       "    </tr>\n",
       "  </tbody>\n",
       "</table>\n",
       "</div>"
      ],
      "text/plain": [
       "   Unnamed: 0  user_id  movie_id  review_score  \\\n",
       "0           0      943         0          0.70   \n",
       "1           1     7242         0          0.25   \n",
       "2           2     1046         0          0.70   \n",
       "3           3     4895         0          0.70   \n",
       "4           4     4517         0          0.60   \n",
       "\n",
       "                                      review_content review_type review_date  \\\n",
       "0  Whether audiences will get behind The Lightnin...       Fresh  2010-02-09   \n",
       "1  Harry Potter knockoffs don't come more transpa...      Rotten  2010-02-10   \n",
       "2  Percy Jackson isn't a great movie, but it's a ...       Fresh  2010-02-10   \n",
       "3                         Fun, brisk and imaginative       Fresh  2010-02-10   \n",
       "4  Crammed with dragons, set-destroying fights an...       Fresh  2010-02-10   \n",
       "\n",
       "        critic_name  top_critic           publisher_name  sentiment  emotion  \\\n",
       "0      Ben McEachen       False  Sunday Mail (Australia)          2        2   \n",
       "1      Nick Schager       False           Slant Magazine          0        2   \n",
       "2  Bill Goodykoontz        True         Arizona Republic          3        2   \n",
       "3    Jordan Hoffman       False                      UGO          4        2   \n",
       "4      Jim Schembri        True      The Age (Australia)          1        2   \n",
       "\n",
       "   rating  \n",
       "0     3.8  \n",
       "1     2.0  \n",
       "2     3.8  \n",
       "3     3.8  \n",
       "4     3.4  "
      ]
     },
     "execution_count": 24,
     "metadata": {},
     "output_type": "execute_result"
    }
   ],
   "source": [
    "ratings_df.head()"
   ]
  },
  {
   "cell_type": "code",
   "execution_count": 25,
   "id": "1c805597-ee62-4845-ac5f-4b3aabad1b8c",
   "metadata": {},
   "outputs": [
    {
     "data": {
      "text/html": [
       "<div>\n",
       "<style scoped>\n",
       "    .dataframe tbody tr th:only-of-type {\n",
       "        vertical-align: middle;\n",
       "    }\n",
       "\n",
       "    .dataframe tbody tr th {\n",
       "        vertical-align: top;\n",
       "    }\n",
       "\n",
       "    .dataframe thead th {\n",
       "        text-align: right;\n",
       "    }\n",
       "</style>\n",
       "<table border=\"1\" class=\"dataframe\">\n",
       "  <thead>\n",
       "    <tr style=\"text-align: right;\">\n",
       "      <th></th>\n",
       "      <th>Unnamed: 0</th>\n",
       "      <th>user_id</th>\n",
       "      <th>movie_id</th>\n",
       "      <th>review_score</th>\n",
       "      <th>sentiment</th>\n",
       "      <th>emotion</th>\n",
       "      <th>rating</th>\n",
       "    </tr>\n",
       "  </thead>\n",
       "  <tbody>\n",
       "    <tr>\n",
       "      <th>count</th>\n",
       "      <td>751129.000000</td>\n",
       "      <td>751129.000000</td>\n",
       "      <td>751129.000000</td>\n",
       "      <td>751129.000000</td>\n",
       "      <td>751129.000000</td>\n",
       "      <td>751129.000000</td>\n",
       "      <td>751129.000000</td>\n",
       "    </tr>\n",
       "    <tr>\n",
       "      <th>mean</th>\n",
       "      <td>376262.713991</td>\n",
       "      <td>5214.016632</td>\n",
       "      <td>9659.561123</td>\n",
       "      <td>0.637334</td>\n",
       "      <td>2.345168</td>\n",
       "      <td>2.006137</td>\n",
       "      <td>3.549336</td>\n",
       "    </tr>\n",
       "    <tr>\n",
       "      <th>std</th>\n",
       "      <td>217280.851147</td>\n",
       "      <td>2738.008969</td>\n",
       "      <td>4898.772395</td>\n",
       "      <td>0.210770</td>\n",
       "      <td>1.268545</td>\n",
       "      <td>1.090926</td>\n",
       "      <td>0.843082</td>\n",
       "    </tr>\n",
       "    <tr>\n",
       "      <th>min</th>\n",
       "      <td>0.000000</td>\n",
       "      <td>0.000000</td>\n",
       "      <td>0.000000</td>\n",
       "      <td>0.000000</td>\n",
       "      <td>0.000000</td>\n",
       "      <td>0.000000</td>\n",
       "      <td>1.000000</td>\n",
       "    </tr>\n",
       "    <tr>\n",
       "      <th>25%</th>\n",
       "      <td>188098.000000</td>\n",
       "      <td>2870.000000</td>\n",
       "      <td>5451.000000</td>\n",
       "      <td>0.500000</td>\n",
       "      <td>1.000000</td>\n",
       "      <td>2.000000</td>\n",
       "      <td>3.000000</td>\n",
       "    </tr>\n",
       "    <tr>\n",
       "      <th>50%</th>\n",
       "      <td>376247.000000</td>\n",
       "      <td>5414.000000</td>\n",
       "      <td>10302.000000</td>\n",
       "      <td>0.625000</td>\n",
       "      <td>3.000000</td>\n",
       "      <td>2.000000</td>\n",
       "      <td>3.500000</td>\n",
       "    </tr>\n",
       "    <tr>\n",
       "      <th>75%</th>\n",
       "      <td>564428.000000</td>\n",
       "      <td>7646.000000</td>\n",
       "      <td>13691.000000</td>\n",
       "      <td>0.800000</td>\n",
       "      <td>3.000000</td>\n",
       "      <td>2.000000</td>\n",
       "      <td>4.200000</td>\n",
       "    </tr>\n",
       "    <tr>\n",
       "      <th>max</th>\n",
       "      <td>752663.000000</td>\n",
       "      <td>9820.000000</td>\n",
       "      <td>17711.000000</td>\n",
       "      <td>1.000000</td>\n",
       "      <td>4.000000</td>\n",
       "      <td>5.000000</td>\n",
       "      <td>5.000000</td>\n",
       "    </tr>\n",
       "  </tbody>\n",
       "</table>\n",
       "</div>"
      ],
      "text/plain": [
       "          Unnamed: 0        user_id       movie_id   review_score  \\\n",
       "count  751129.000000  751129.000000  751129.000000  751129.000000   \n",
       "mean   376262.713991    5214.016632    9659.561123       0.637334   \n",
       "std    217280.851147    2738.008969    4898.772395       0.210770   \n",
       "min         0.000000       0.000000       0.000000       0.000000   \n",
       "25%    188098.000000    2870.000000    5451.000000       0.500000   \n",
       "50%    376247.000000    5414.000000   10302.000000       0.625000   \n",
       "75%    564428.000000    7646.000000   13691.000000       0.800000   \n",
       "max    752663.000000    9820.000000   17711.000000       1.000000   \n",
       "\n",
       "           sentiment        emotion         rating  \n",
       "count  751129.000000  751129.000000  751129.000000  \n",
       "mean        2.345168       2.006137       3.549336  \n",
       "std         1.268545       1.090926       0.843082  \n",
       "min         0.000000       0.000000       1.000000  \n",
       "25%         1.000000       2.000000       3.000000  \n",
       "50%         3.000000       2.000000       3.500000  \n",
       "75%         3.000000       2.000000       4.200000  \n",
       "max         4.000000       5.000000       5.000000  "
      ]
     },
     "execution_count": 25,
     "metadata": {},
     "output_type": "execute_result"
    }
   ],
   "source": [
    "ratings_df.describe()"
   ]
  },
  {
   "cell_type": "markdown",
   "id": "46a0240e-f3f6-4a7b-826e-ea156f1507ba",
   "metadata": {},
   "source": [
    "### 1. Movie 관점"
   ]
  },
  {
   "cell_type": "code",
   "execution_count": null,
   "id": "89fe7c47-08c2-418f-a045-20d7e452fa9d",
   "metadata": {},
   "outputs": [],
   "source": []
  },
  {
   "cell_type": "code",
   "execution_count": null,
   "id": "e33ed0a3-d4b9-4695-9bb8-f47dfebeff4d",
   "metadata": {},
   "outputs": [],
   "source": []
  },
  {
   "cell_type": "code",
   "execution_count": null,
   "id": "49526450-ed65-4de8-9351-c1058790b7fe",
   "metadata": {},
   "outputs": [],
   "source": []
  },
  {
   "cell_type": "code",
   "execution_count": null,
   "id": "80f1d8c6-f7bd-4cd1-b593-401d046dddda",
   "metadata": {},
   "outputs": [],
   "source": []
  },
  {
   "cell_type": "code",
   "execution_count": null,
   "id": "f1013826-1ab6-42d9-abdc-1436c4333d09",
   "metadata": {},
   "outputs": [],
   "source": []
  },
  {
   "cell_type": "code",
   "execution_count": null,
   "id": "9494a545-9d4f-4bde-8e25-7faef7acd40a",
   "metadata": {},
   "outputs": [],
   "source": []
  },
  {
   "cell_type": "markdown",
   "id": "5322810e-39f6-49fe-a37d-e4145a912a39",
   "metadata": {},
   "source": [
    "### 2. User 관점"
   ]
  },
  {
   "cell_type": "code",
   "execution_count": null,
   "id": "3d96cf59-4555-4d69-9a08-0ee8a2bfc260",
   "metadata": {},
   "outputs": [],
   "source": []
  },
  {
   "cell_type": "code",
   "execution_count": null,
   "id": "5a7a4026-39e3-4602-91f0-26f36828ba33",
   "metadata": {},
   "outputs": [],
   "source": []
  }
 ],
 "metadata": {
  "kernelspec": {
   "display_name": "Python 3",
   "language": "python",
   "name": "python3"
  },
  "language_info": {
   "codemirror_mode": {
    "name": "ipython",
    "version": 3
   },
   "file_extension": ".py",
   "mimetype": "text/x-python",
   "name": "python",
   "nbconvert_exporter": "python",
   "pygments_lexer": "ipython3",
   "version": "3.6.13"
  }
 },
 "nbformat": 4,
 "nbformat_minor": 5
}
