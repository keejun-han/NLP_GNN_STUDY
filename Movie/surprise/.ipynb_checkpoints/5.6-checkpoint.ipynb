{
 "cells": [
  {
   "cell_type": "code",
   "execution_count": 126,
   "id": "e3e421ca-20dc-4a42-9b35-9745ea5aaa48",
   "metadata": {},
   "outputs": [],
   "source": [
    "# Created on Feb 2020\n",
    "# Author: 임일\n",
    "\n",
    "import numpy as np\n",
    "import pandas as pd\n",
    "\n",
    "# 필요한 Surprise 알고리즘 불러오기\n",
    "from surprise import BaselineOnly \n",
    "from surprise import KNNWithMeans, KNNBaseline\n",
    "from surprise import SVD\n",
    "from surprise import SVDpp\n",
    "from surprise import NMF\n",
    "from surprise import Dataset\n",
    "from surprise import accuracy\n",
    "from surprise import Reader\n",
    "from surprise.model_selection import cross_validate\n",
    "from surprise.model_selection import train_test_split"
   ]
  },
  {
   "cell_type": "code",
   "execution_count": 74,
   "id": "89d2c5e5-10a6-477e-be28-c4a8c04b4334",
   "metadata": {},
   "outputs": [],
   "source": [
    "# csv 파일에서 불러오기\n",
    "# r_cols = ['user_id', 'movie_id', 'rating', 'timestamp']\n",
    "ratings_df = pd.read_csv('./../../../data/rotten_tomato/final_rating(sentiment,emotion).csv')"
   ]
  },
  {
   "cell_type": "code",
   "execution_count": 75,
   "id": "359dba70-504f-4d09-9306-af6c133e648d",
   "metadata": {},
   "outputs": [],
   "source": [
    "ratings_df = ratings_df[['user_id', 'movie_id', 'review_score']]"
   ]
  },
  {
   "cell_type": "code",
   "execution_count": 76,
   "id": "dfe20348-64ae-4ea7-9975-27202c3e7dd3",
   "metadata": {},
   "outputs": [],
   "source": [
    "ratings_df['rating'] = ratings_df.review_score * 4.5 + 0.5"
   ]
  },
  {
   "cell_type": "code",
   "execution_count": 77,
   "id": "aa103571-2890-45b5-8561-f26fab3e5d15",
   "metadata": {},
   "outputs": [
    {
     "data": {
      "text/html": [
       "<div>\n",
       "<style scoped>\n",
       "    .dataframe tbody tr th:only-of-type {\n",
       "        vertical-align: middle;\n",
       "    }\n",
       "\n",
       "    .dataframe tbody tr th {\n",
       "        vertical-align: top;\n",
       "    }\n",
       "\n",
       "    .dataframe thead th {\n",
       "        text-align: right;\n",
       "    }\n",
       "</style>\n",
       "<table border=\"1\" class=\"dataframe\">\n",
       "  <thead>\n",
       "    <tr style=\"text-align: right;\">\n",
       "      <th></th>\n",
       "      <th>user_id</th>\n",
       "      <th>movie_id</th>\n",
       "      <th>review_score</th>\n",
       "      <th>rating</th>\n",
       "    </tr>\n",
       "  </thead>\n",
       "  <tbody>\n",
       "    <tr>\n",
       "      <th>0</th>\n",
       "      <td>943</td>\n",
       "      <td>0</td>\n",
       "      <td>0.70</td>\n",
       "      <td>3.650</td>\n",
       "    </tr>\n",
       "    <tr>\n",
       "      <th>1</th>\n",
       "      <td>7242</td>\n",
       "      <td>0</td>\n",
       "      <td>0.25</td>\n",
       "      <td>1.625</td>\n",
       "    </tr>\n",
       "    <tr>\n",
       "      <th>2</th>\n",
       "      <td>1046</td>\n",
       "      <td>0</td>\n",
       "      <td>0.70</td>\n",
       "      <td>3.650</td>\n",
       "    </tr>\n",
       "    <tr>\n",
       "      <th>3</th>\n",
       "      <td>4895</td>\n",
       "      <td>0</td>\n",
       "      <td>0.70</td>\n",
       "      <td>3.650</td>\n",
       "    </tr>\n",
       "    <tr>\n",
       "      <th>4</th>\n",
       "      <td>4517</td>\n",
       "      <td>0</td>\n",
       "      <td>0.60</td>\n",
       "      <td>3.200</td>\n",
       "    </tr>\n",
       "  </tbody>\n",
       "</table>\n",
       "</div>"
      ],
      "text/plain": [
       "   user_id  movie_id  review_score  rating\n",
       "0      943         0          0.70   3.650\n",
       "1     7242         0          0.25   1.625\n",
       "2     1046         0          0.70   3.650\n",
       "3     4895         0          0.70   3.650\n",
       "4     4517         0          0.60   3.200"
      ]
     },
     "execution_count": 77,
     "metadata": {},
     "output_type": "execute_result"
    }
   ],
   "source": [
    "ratings_df.head()"
   ]
  },
  {
   "cell_type": "markdown",
   "id": "7c19341e-a165-4e2e-9a46-121d01c3b557",
   "metadata": {},
   "source": [
    "### 1. 100개 이상의 리뷰 남긴 User"
   ]
  },
  {
   "cell_type": "code",
   "execution_count": 78,
   "id": "afab4ad2-d99c-44c3-a4ba-95a5182665dc",
   "metadata": {},
   "outputs": [],
   "source": [
    "group = ratings_df.groupby('user_id')\n",
    "group_user_id = group['movie_id'].count()"
   ]
  },
  {
   "cell_type": "code",
   "execution_count": 84,
   "id": "215e312f-b7ca-4072-ad41-75b7ca5d3b82",
   "metadata": {},
   "outputs": [],
   "source": [
    "def cal_rate(num, total, limit, condition):\n",
    "    if condition == 'low':\n",
    "        print(f\"{limit}개 미만: {sum(num < limit)}, {round((sum(num < limit)/total),2)*100}%\")\n",
    "        return sum(num >= limit)\n",
    "    \n",
    "    if condition == 'high':\n",
    "        print(f\"{limit}개 이상: {sum(num >= limit)}, {round((sum(num > limit)/total),2)*100}%\")\n",
    "        return sum(num >= limit)"
   ]
  },
  {
   "cell_type": "code",
   "execution_count": 85,
   "id": "3b0c0446-f60f-479a-95f4-c248832396a0",
   "metadata": {},
   "outputs": [
    {
     "name": "stdout",
     "output_type": "stream",
     "text": [
      "100개 이상: 1343, 14.000000000000002%\n"
     ]
    }
   ],
   "source": [
    "num = group_user_id.sort_values()\n",
    "total = len(group_user_id)\n",
    "\n",
    "condition = 'high'\n",
    "sample_num = cal_rate(num, total, 100, condition)\n",
    "# sample_num = cal_rate(num, total, 500, condition)"
   ]
  },
  {
   "cell_type": "code",
   "execution_count": 86,
   "id": "ca348b29-4f8f-432c-9c38-c19142b3020a",
   "metadata": {},
   "outputs": [
    {
     "data": {
      "text/plain": [
       "user_id\n",
       "2600    6486\n",
       "8148    6356\n",
       "3265    5300\n",
       "2495    5212\n",
       "3926    4548\n",
       "Name: movie_id, dtype: int64"
      ]
     },
     "execution_count": 86,
     "metadata": {},
     "output_type": "execute_result"
    }
   ],
   "source": [
    "group_user_id.sort_values(ascending=False)[:5]"
   ]
  },
  {
   "cell_type": "code",
   "execution_count": 87,
   "id": "607f1568-80f1-4916-b164-e14e1fd1f569",
   "metadata": {},
   "outputs": [],
   "source": [
    "sample = group_user_id.sort_values(ascending=False)[:sample_num]\n",
    "total = len(group_user_id)"
   ]
  },
  {
   "cell_type": "code",
   "execution_count": 88,
   "id": "46713a42-08eb-4961-a7b9-7f342723fdff",
   "metadata": {},
   "outputs": [
    {
     "data": {
      "text/plain": [
       "1343"
      ]
     },
     "execution_count": 88,
     "metadata": {},
     "output_type": "execute_result"
    }
   ],
   "source": [
    "len(sample)"
   ]
  },
  {
   "cell_type": "code",
   "execution_count": 89,
   "id": "6fe5ff06-d47c-4a3f-a3bb-45119707d7c0",
   "metadata": {},
   "outputs": [
    {
     "data": {
      "text/plain": [
       "Int64Index([2600, 8148, 3265, 2495, 3926, 5446, 5716, 7603, 7917, 1738,\n",
       "            ...\n",
       "            6083, 6538, 6594, 8605,  553, 7952, 4521, 6522,   41, 2035],\n",
       "           dtype='int64', name='user_id', length=1343)"
      ]
     },
     "execution_count": 89,
     "metadata": {},
     "output_type": "execute_result"
    }
   ],
   "source": [
    "sample.index"
   ]
  },
  {
   "cell_type": "code",
   "execution_count": 90,
   "id": "e0c51ed4-1119-4e64-8fa7-17be202aabcb",
   "metadata": {},
   "outputs": [
    {
     "data": {
      "text/html": [
       "<div>\n",
       "<style scoped>\n",
       "    .dataframe tbody tr th:only-of-type {\n",
       "        vertical-align: middle;\n",
       "    }\n",
       "\n",
       "    .dataframe tbody tr th {\n",
       "        vertical-align: top;\n",
       "    }\n",
       "\n",
       "    .dataframe thead th {\n",
       "        text-align: right;\n",
       "    }\n",
       "</style>\n",
       "<table border=\"1\" class=\"dataframe\">\n",
       "  <thead>\n",
       "    <tr style=\"text-align: right;\">\n",
       "      <th></th>\n",
       "      <th>user_id</th>\n",
       "      <th>movie_id</th>\n",
       "      <th>review_score</th>\n",
       "      <th>rating</th>\n",
       "    </tr>\n",
       "    <tr>\n",
       "      <th>user_id</th>\n",
       "      <th></th>\n",
       "      <th></th>\n",
       "      <th></th>\n",
       "      <th></th>\n",
       "    </tr>\n",
       "  </thead>\n",
       "  <tbody>\n",
       "    <tr>\n",
       "      <th>2600</th>\n",
       "      <td>6155</td>\n",
       "      <td>86</td>\n",
       "      <td>0.700</td>\n",
       "      <td>3.6500</td>\n",
       "    </tr>\n",
       "    <tr>\n",
       "      <th>8148</th>\n",
       "      <td>7607</td>\n",
       "      <td>212</td>\n",
       "      <td>0.500</td>\n",
       "      <td>2.7500</td>\n",
       "    </tr>\n",
       "    <tr>\n",
       "      <th>3265</th>\n",
       "      <td>4249</td>\n",
       "      <td>105</td>\n",
       "      <td>0.625</td>\n",
       "      <td>3.3125</td>\n",
       "    </tr>\n",
       "    <tr>\n",
       "      <th>2495</th>\n",
       "      <td>3643</td>\n",
       "      <td>85</td>\n",
       "      <td>0.500</td>\n",
       "      <td>2.7500</td>\n",
       "    </tr>\n",
       "    <tr>\n",
       "      <th>3926</th>\n",
       "      <td>865</td>\n",
       "      <td>125</td>\n",
       "      <td>1.000</td>\n",
       "      <td>5.0000</td>\n",
       "    </tr>\n",
       "    <tr>\n",
       "      <th>...</th>\n",
       "      <td>...</td>\n",
       "      <td>...</td>\n",
       "      <td>...</td>\n",
       "      <td>...</td>\n",
       "    </tr>\n",
       "    <tr>\n",
       "      <th>7952</th>\n",
       "      <td>6613</td>\n",
       "      <td>207</td>\n",
       "      <td>0.600</td>\n",
       "      <td>3.2000</td>\n",
       "    </tr>\n",
       "    <tr>\n",
       "      <th>4521</th>\n",
       "      <td>8224</td>\n",
       "      <td>138</td>\n",
       "      <td>0.625</td>\n",
       "      <td>3.3125</td>\n",
       "    </tr>\n",
       "    <tr>\n",
       "      <th>6522</th>\n",
       "      <td>7126</td>\n",
       "      <td>173</td>\n",
       "      <td>0.400</td>\n",
       "      <td>2.3000</td>\n",
       "    </tr>\n",
       "    <tr>\n",
       "      <th>41</th>\n",
       "      <td>464</td>\n",
       "      <td>0</td>\n",
       "      <td>0.750</td>\n",
       "      <td>3.8750</td>\n",
       "    </tr>\n",
       "    <tr>\n",
       "      <th>2035</th>\n",
       "      <td>8627</td>\n",
       "      <td>71</td>\n",
       "      <td>0.750</td>\n",
       "      <td>3.8750</td>\n",
       "    </tr>\n",
       "  </tbody>\n",
       "</table>\n",
       "<p>1343 rows × 4 columns</p>\n",
       "</div>"
      ],
      "text/plain": [
       "         user_id  movie_id  review_score  rating\n",
       "user_id                                         \n",
       "2600        6155        86         0.700  3.6500\n",
       "8148        7607       212         0.500  2.7500\n",
       "3265        4249       105         0.625  3.3125\n",
       "2495        3643        85         0.500  2.7500\n",
       "3926         865       125         1.000  5.0000\n",
       "...          ...       ...           ...     ...\n",
       "7952        6613       207         0.600  3.2000\n",
       "4521        8224       138         0.625  3.3125\n",
       "6522        7126       173         0.400  2.3000\n",
       "41           464         0         0.750  3.8750\n",
       "2035        8627        71         0.750  3.8750\n",
       "\n",
       "[1343 rows x 4 columns]"
      ]
     },
     "execution_count": 90,
     "metadata": {},
     "output_type": "execute_result"
    }
   ],
   "source": [
    "# 특정 인덱스에 해당하는 행만 필터링\n",
    "ratings_df.loc[sample.index,:]"
   ]
  },
  {
   "cell_type": "code",
   "execution_count": 91,
   "id": "9f940684-2a9f-46b5-808e-4845dbac042d",
   "metadata": {},
   "outputs": [],
   "source": [
    "df = ratings_df.loc[sample.index,:]"
   ]
  },
  {
   "cell_type": "code",
   "execution_count": 92,
   "id": "ae8db01e-9c33-4251-b5be-136eb3ef87ff",
   "metadata": {},
   "outputs": [],
   "source": [
    "reader = Reader(rating_scale=(0.5,5))\n",
    "data = Dataset.load_from_df(df[['user_id', 'movie_id', 'rating']], reader)\n",
    "\n",
    "# Train/Test 분리 \n",
    "trainset, testset = train_test_split(data, test_size=0.25)"
   ]
  },
  {
   "cell_type": "code",
   "execution_count": 93,
   "id": "e587314d-90f1-47a8-bbac-214c04a33324",
   "metadata": {},
   "outputs": [
    {
     "name": "stdout",
     "output_type": "stream",
     "text": [
      "Computing the msd similarity matrix...\n",
      "Done computing similarity matrix.\n",
      "RMSE: 1.0822\n"
     ]
    },
    {
     "data": {
      "text/plain": [
       "1.0822288965312163"
      ]
     },
     "execution_count": 93,
     "metadata": {},
     "output_type": "execute_result"
    }
   ],
   "source": [
    "# 정확도 계산 \n",
    "algo = KNNWithMeans()\n",
    "algo.fit(trainset)\n",
    "predictions = algo.test(testset)\n",
    "accuracy.rmse(predictions)"
   ]
  },
  {
   "cell_type": "markdown",
   "id": "7c264ba1-20b7-49a2-b1a2-a892da292be8",
   "metadata": {},
   "source": [
    "### 0. Timer"
   ]
  },
  {
   "cell_type": "code",
   "execution_count": 94,
   "id": "e6d80c0f-d1a9-4586-a780-997383a97eb8",
   "metadata": {},
   "outputs": [],
   "source": [
    "import time\n",
    "import datetime"
   ]
  },
  {
   "cell_type": "code",
   "execution_count": 95,
   "id": "369609b8-e619-452e-ac7d-e68d12bce424",
   "metadata": {},
   "outputs": [],
   "source": [
    "# 시간 표시 함수\n",
    "def format_time(elapsed):\n",
    "    # 반올림\n",
    "    elapsed_rounded = int(round((elapsed)))\n",
    "    # hh:mm:ss으로 형태 변경\n",
    "    return str(datetime.timedelta(seconds=elapsed_rounded))"
   ]
  },
  {
   "cell_type": "code",
   "execution_count": 96,
   "id": "0ead03c7-83c6-4960-ba8c-7efee0d57caf",
   "metadata": {},
   "outputs": [
    {
     "name": "stdout",
     "output_type": "stream",
     "text": [
      "  Training epoch took: 0:00:00\n"
     ]
    }
   ],
   "source": [
    "start_time = time.time()\n",
    "print(\"  Training epoch took: {:}\".format(format_time(time.time() - start_time)))"
   ]
  },
  {
   "cell_type": "markdown",
   "id": "378bbdb1-cef6-4209-b8c2-313f8ac582a9",
   "metadata": {},
   "source": [
    "### 1. Algorithms"
   ]
  },
  {
   "cell_type": "code",
   "execution_count": 144,
   "id": "04ced88c-b95c-4bfd-8d1b-6e3f3c8bf5ba",
   "metadata": {},
   "outputs": [
    {
     "name": "stdout",
     "output_type": "stream",
     "text": [
      "RMSE: 0.8250\n",
      "RMSE: 0.8051\n",
      "  Training epoch took: 0:00:00\n"
     ]
    }
   ],
   "source": [
    "start_time = time.time()\n",
    "\n",
    "# 알고리즘 비교\n",
    "algorithms = [SVD, SVDpp]\n",
    "names = []\n",
    "results = []\n",
    "for option in algorithms:\n",
    "    algo = option()\n",
    "    names.append(option.__name__)       # 알고리즘 이름 \n",
    "    algo.fit(trainset)\n",
    "    predictions = algo.test(testset)\n",
    "    results.append(accuracy.rmse(predictions))\n",
    "# names = np.array(names)\n",
    "# results = np.array(results)\n",
    "\n",
    "print(\"  Training epoch took: {:}\".format(format_time(time.time() - start_time)))"
   ]
  },
  {
   "cell_type": "markdown",
   "id": "f85d555e-3888-4701-843e-f66df8ce1890",
   "metadata": {},
   "source": [
    "- Item-based"
   ]
  },
  {
   "cell_type": "code",
   "execution_count": 145,
   "id": "325a2ccf-0235-4a95-a652-1a0cf197e1ad",
   "metadata": {},
   "outputs": [
    {
     "name": "stdout",
     "output_type": "stream",
     "text": [
      "Estimating biases using als...\n",
      "Computing the pearson_baseline similarity matrix...\n",
      "Done computing similarity matrix.\n",
      "RMSE: 0.8335\n"
     ]
    }
   ],
   "source": [
    "# 알고리즘 옵션 변경, 정확도 계산\n",
    "names.append('CF(Item-based)')\n",
    "sim_options = {'name': 'pearson_baseline',\n",
    "               'user_based': False}\n",
    "algo = KNNBaseline(k=30, sim_options=sim_options)\n",
    "algo.fit(trainset)\n",
    "predictions = algo.test(testset)\n",
    "results.append(accuracy.rmse(predictions))"
   ]
  },
  {
   "cell_type": "markdown",
   "id": "02e4e43b-45fd-49c4-87b4-c3140ea8e876",
   "metadata": {},
   "source": [
    "- User-based"
   ]
  },
  {
   "cell_type": "code",
   "execution_count": 146,
   "id": "87a3308c-c1ae-48a7-9450-afe5e2caf162",
   "metadata": {},
   "outputs": [
    {
     "name": "stdout",
     "output_type": "stream",
     "text": [
      "Estimating biases using als...\n",
      "Computing the pearson_baseline similarity matrix...\n",
      "Done computing similarity matrix.\n",
      "RMSE: 0.8182\n"
     ]
    }
   ],
   "source": [
    "# 알고리즘 옵션 변경, 정확도 계산\n",
    "names.append('CF(User-based)')\n",
    "sim_options = {'name': 'pearson_baseline',\n",
    "               'user_based': True}\n",
    "algo = KNNBaseline(k=30, sim_options=sim_options)\n",
    "algo.fit(trainset)\n",
    "predictions = algo.test(testset)\n",
    "results.append(accuracy.rmse(predictions))"
   ]
  },
  {
   "cell_type": "code",
   "execution_count": 147,
   "id": "b2546805-b06e-40a5-96b8-c4644005d91d",
   "metadata": {},
   "outputs": [],
   "source": [
    "names = np.array(names)\n",
    "results = np.array(results)"
   ]
  },
  {
   "cell_type": "code",
   "execution_count": 148,
   "id": "c4b1d072-6095-40c7-a945-2f66f7285466",
   "metadata": {},
   "outputs": [
    {
     "data": {
      "text/plain": [
       "array([0.80512462, 0.81820464, 0.82498468, 0.83354265])"
      ]
     },
     "execution_count": 148,
     "metadata": {},
     "output_type": "execute_result"
    },
    {
     "data": {
      "image/png": "[encoded data removed]",
      "text/plain": [
       "<Figure size 720x360 with 1 Axes>"
      ]
     },
     "metadata": {
      "needs_background": "light"
     },
     "output_type": "display_data"
    }
   ],
   "source": [
    "# 결과를 그래프로 표시\n",
    "import matplotlib.pyplot as plt\n",
    "index = np.argsort(results)\n",
    "# plt.ylim(0.5, 0.8)\n",
    "fig = plt.figure(figsize = (10,5))\n",
    "plt.plot(names[index], results[index])\n",
    "plt.xlabel('Algorithms')\n",
    "plt.ylabel('RMSE')\n",
    "plt.title('Comparison of RMSE')\n",
    "results[index]"
   ]
  },
  {
   "cell_type": "markdown",
   "id": "0db4c717-f05a-448d-9539-e7da3a7c8440",
   "metadata": {},
   "source": [
    "### 2. MF"
   ]
  },
  {
   "cell_type": "markdown",
   "id": "47e3a274-7049-4807-a3cb-c99818409b2b",
   "metadata": {},
   "source": [
    "- SVD"
   ]
  },
  {
   "cell_type": "code",
   "execution_count": 102,
   "id": "d3921e1b-fa5e-4ffd-aee3-6bc210292aaf",
   "metadata": {},
   "outputs": [
    {
     "name": "stdout",
     "output_type": "stream",
     "text": [
      "RMSE: 0.8201\n",
      "  Training epoch took: 0:00:00\n"
     ]
    }
   ],
   "source": [
    "start_time = time.time()\n",
    "\n",
    "algo = SVD()\n",
    "algo.fit(trainset)\n",
    "predictions = algo.test(testset)\n",
    "accuracy.rmse(predictions)\n",
    "\n",
    "print(\"  Training epoch took: {:}\".format(format_time(time.time() - start_time)))"
   ]
  },
  {
   "cell_type": "markdown",
   "id": "ef302f52-bd36-4418-bc1b-124e5e24c58d",
   "metadata": {},
   "source": [
    "- SVD++"
   ]
  },
  {
   "cell_type": "code",
   "execution_count": 103,
   "id": "029f0aa5-9606-49e4-a069-ad3f13f41b9a",
   "metadata": {},
   "outputs": [
    {
     "name": "stdout",
     "output_type": "stream",
     "text": [
      "RMSE: 0.8077\n",
      "  Training epoch took: 0:00:00\n"
     ]
    }
   ],
   "source": [
    "start_time = time.time()\n",
    "\n",
    "algo = SVDpp()\n",
    "algo.fit(trainset)\n",
    "predictions = algo.test(testset)\n",
    "accuracy.rmse(predictions)\n",
    "\n",
    "print(\"  Training epoch took: {:}\".format(format_time(time.time() - start_time)))"
   ]
  },
  {
   "cell_type": "code",
   "execution_count": null,
   "id": "c41d121c-100d-4662-a456-2e4c62005785",
   "metadata": {},
   "outputs": [],
   "source": []
  }
 ],
 "metadata": {
  "kernelspec": {
   "display_name": "Python 3 (ipykernel)",
   "language": "python",
   "name": "python3"
  },
  "language_info": {
   "codemirror_mode": {
    "name": "ipython",
    "version": 3
   },
   "file_extension": ".py",
   "mimetype": "text/x-python",
   "name": "python",
   "nbconvert_exporter": "python",
   "pygments_lexer": "ipython3",
   "version": "3.8.11"
  }
 },
 "nbformat": 4,
 "nbformat_minor": 5
}
