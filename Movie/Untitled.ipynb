{
 "cells": [
  {
   "cell_type": "code",
   "execution_count": 2,
   "id": "c02ffc0a-43a5-4fc7-8dc6-9b05be48f5cd",
   "metadata": {},
   "outputs": [],
   "source": [
    "from monkeylearn import MonkeyLearn "
   ]
  },
  {
   "cell_type": "code",
   "execution_count": 3,
   "id": "ea90cb7e-84a3-4ecc-ab83-7e643820bb55",
   "metadata": {},
   "outputs": [],
   "source": [
    "ml = MonkeyLearn('ba8bb5d6935c6a782fe7ddb03f67a5a3712ad61d')"
   ]
  },
  {
   "cell_type": "code",
   "execution_count": 4,
   "id": "ba98a78e-9fab-42d7-a1e4-edc2b40d31ff",
   "metadata": {},
   "outputs": [],
   "source": [
    "response = ml.classifiers.classify(\n",
    "    model_id='cl_Jx8qzYJh',\n",
    "    data=[\n",
    "        'Great hotel with excellent location',\n",
    "        'This is the worst hotel ever.'\n",
    "    ]\n",
    ")"
   ]
  },
  {
   "cell_type": "code",
   "execution_count": 6,
   "id": "860dbb2d-58e2-4913-9dd4-19538485fbe5",
   "metadata": {},
   "outputs": [
    {
     "name": "stdout",
     "output_type": "stream",
     "text": [
      "[{'text': 'Great hotel with excellent location', 'external_id': None, 'error': False, 'classifications': [{'tag_name': 'Positive', 'tag_id': 55180725, 'confidence': 1.0}]}, {'text': 'This is the worst hotel ever.', 'external_id': None, 'error': False, 'classifications': [{'tag_name': 'Negative', 'tag_id': 55180726, 'confidence': 1.0}]}]\n"
     ]
    }
   ],
   "source": [
    "print(response.body)"
   ]
  },
  {
   "cell_type": "code",
   "execution_count": null,
   "id": "f5f9832a-2d8d-4094-8675-7ff7ed07ecc4",
   "metadata": {},
   "outputs": [],
   "source": [
    "data = ['I love everything about @Zendesk!', 'There's a bug in the new integration]\n",
    "model_id = 'cl_pi3C7JiL'\n",
    "result = ml.classifiers.classify(model_id, data)\n",
    "\n",
    "print(result.body)"
   ]
  }
 ],
 "metadata": {
  "kernelspec": {
   "display_name": "Python 3",
   "language": "python",
   "name": "python3"
  },
  "language_info": {
   "codemirror_mode": {
    "name": "ipython",
    "version": 3
   },
   "file_extension": ".py",
   "mimetype": "text/x-python",
   "name": "python",
   "nbconvert_exporter": "python",
   "pygments_lexer": "ipython3",
   "version": "3.8.10"
  }
 },
 "nbformat": 4,
 "nbformat_minor": 5
}
