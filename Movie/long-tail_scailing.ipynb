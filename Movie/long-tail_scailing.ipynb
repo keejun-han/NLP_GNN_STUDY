{
 "cells": [
  {
   "cell_type": "markdown",
   "id": "7bff4dd0-4458-4c9d-b6ca-abaa6f6e1bed",
   "metadata": {},
   "source": [
    "# Long-tail Scailing"
   ]
  },
  {
   "cell_type": "markdown",
   "id": "1e86e580-c0e9-4118-9873-3ca4e1e168eb",
   "metadata": {},
   "source": [
    "- 영화 관점(movie_info_df): 1명, 3명 미만의 영화\n",
    "- 유저 관점(user_info_df): 소수 리뷰 남긴 사람 비율"
   ]
  },
  {
   "cell_type": "markdown",
   "id": "130acd4a-ed53-42dd-b086-762c4e4cf240",
   "metadata": {},
   "source": [
    "### 0. Data 로드"
   ]
  },
  {
   "cell_type": "code",
   "execution_count": 1,
   "id": "620632f3-968d-4cf8-9195-8e2d29e3ec45",
   "metadata": {},
   "outputs": [
    {
     "data": {
      "text/plain": [
       "'C:\\\\Users\\\\user\\\\Jupyter_project\\\\keejun\\\\NLP_GNN_STUDY\\\\Movie'"
      ]
     },
     "execution_count": 1,
     "metadata": {},
     "output_type": "execute_result"
    }
   ],
   "source": [
    "import pandas as pd\n",
    "import os\n",
    "import datetime\n",
    "import numpy as np\n",
    "import pandas as pd\n",
    "import matplotlib.pyplot as plt\n",
    "import seaborn as sns\n",
    "os.getcwd()"
   ]
  },
  {
   "cell_type": "code",
   "execution_count": 2,
   "id": "02d9cfa7-8327-4326-9318-e58340e17e1e",
   "metadata": {},
   "outputs": [
    {
     "data": {
      "text/plain": [
       "['emotion_analysis_data',\n",
       " 'final_rating(sentiment,emotion).csv',\n",
       " 'graph',\n",
       " 'model.pth',\n",
       " 'model_new.pth',\n",
       " 'model_rotten.pth',\n",
       " 'model_save',\n",
       " 'movie1_neg.txt',\n",
       " 'movie1_pos.txt',\n",
       " 'movie2_neg.txt',\n",
       " 'movie2_pos.txt',\n",
       " 'movie3_neg.txt',\n",
       " 'movie3_pos.txt',\n",
       " 'rotten_movie_table.csv',\n",
       " 'rotten_rating(review_100_user).csv',\n",
       " 'rotten_rating(review_20_user).csv',\n",
       " 'rotten_rating_review_emotion_table.csv',\n",
       " 'rotten_rating_review_emotion_table.xlsx',\n",
       " 'rotten_rating_review_sentiment_table.csv',\n",
       " 'rotten_rating_review_sentiment_table.xlsx',\n",
       " 'rotten_rating_review_table.csv',\n",
       " 'rotten_review_scaled_clean.csv',\n",
       " 'rotten_review_scaled_label(pos,neu,neg).csv',\n",
       " 'rotten_review_scaled_label.csv',\n",
       " 'rotten_review_scaled_new.csv',\n",
       " 'rotten_tomatoes_critic_reviews.csv',\n",
       " 'rotten_tomatoes_movies.csv',\n",
       " 'rotten_user_table.csv',\n",
       " 'sentiment_analysis_data',\n",
       " 'testset.csv',\n",
       " 'trainset.csv']"
      ]
     },
     "execution_count": 2,
     "metadata": {},
     "output_type": "execute_result"
    }
   ],
   "source": [
    "path = './../../data/rotten_tomato/'\n",
    "os.listdir(path)"
   ]
  },
  {
   "cell_type": "code",
   "execution_count": 3,
   "id": "315a2fdd-fa92-4148-b5c0-1c83d9f45930",
   "metadata": {},
   "outputs": [
    {
     "name": "stdout",
     "output_type": "stream",
     "text": [
      "(751129, 12)\n"
     ]
    }
   ],
   "source": [
    "ratings_df = pd.read_csv(os.path.join(path, 'final_rating(sentiment,emotion).csv'), encoding='utf-8')\n",
    "# ratings_df.rename(columns={'review_score':'rating'}, inplace=True)\n",
    "\n",
    "print(ratings_df.shape)"
   ]
  },
  {
   "cell_type": "code",
   "execution_count": 4,
   "id": "116e177e-816c-48cf-b2bf-1fab113124fd",
   "metadata": {},
   "outputs": [],
   "source": [
    "ratings_df['rating'] = ratings_df['review_score']*4 + 1"
   ]
  },
  {
   "cell_type": "code",
   "execution_count": 5,
   "id": "9accb69d-21a1-4e50-a476-a59e5c998e09",
   "metadata": {},
   "outputs": [
    {
     "data": {
      "text/html": [
       "<div>\n",
       "<style scoped>\n",
       "    .dataframe tbody tr th:only-of-type {\n",
       "        vertical-align: middle;\n",
       "    }\n",
       "\n",
       "    .dataframe tbody tr th {\n",
       "        vertical-align: top;\n",
       "    }\n",
       "\n",
       "    .dataframe thead th {\n",
       "        text-align: right;\n",
       "    }\n",
       "</style>\n",
       "<table border=\"1\" class=\"dataframe\">\n",
       "  <thead>\n",
       "    <tr style=\"text-align: right;\">\n",
       "      <th></th>\n",
       "      <th>Unnamed: 0</th>\n",
       "      <th>user_id</th>\n",
       "      <th>movie_id</th>\n",
       "      <th>review_score</th>\n",
       "      <th>review_content</th>\n",
       "      <th>review_type</th>\n",
       "      <th>review_date</th>\n",
       "      <th>critic_name</th>\n",
       "      <th>top_critic</th>\n",
       "      <th>publisher_name</th>\n",
       "      <th>sentiment</th>\n",
       "      <th>emotion</th>\n",
       "      <th>rating</th>\n",
       "    </tr>\n",
       "  </thead>\n",
       "  <tbody>\n",
       "    <tr>\n",
       "      <th>0</th>\n",
       "      <td>0</td>\n",
       "      <td>943</td>\n",
       "      <td>0</td>\n",
       "      <td>0.70</td>\n",
       "      <td>Whether audiences will get behind The Lightnin...</td>\n",
       "      <td>Fresh</td>\n",
       "      <td>2010-02-09</td>\n",
       "      <td>Ben McEachen</td>\n",
       "      <td>False</td>\n",
       "      <td>Sunday Mail (Australia)</td>\n",
       "      <td>2</td>\n",
       "      <td>2</td>\n",
       "      <td>3.8</td>\n",
       "    </tr>\n",
       "    <tr>\n",
       "      <th>1</th>\n",
       "      <td>1</td>\n",
       "      <td>7242</td>\n",
       "      <td>0</td>\n",
       "      <td>0.25</td>\n",
       "      <td>Harry Potter knockoffs don't come more transpa...</td>\n",
       "      <td>Rotten</td>\n",
       "      <td>2010-02-10</td>\n",
       "      <td>Nick Schager</td>\n",
       "      <td>False</td>\n",
       "      <td>Slant Magazine</td>\n",
       "      <td>0</td>\n",
       "      <td>2</td>\n",
       "      <td>2.0</td>\n",
       "    </tr>\n",
       "    <tr>\n",
       "      <th>2</th>\n",
       "      <td>2</td>\n",
       "      <td>1046</td>\n",
       "      <td>0</td>\n",
       "      <td>0.70</td>\n",
       "      <td>Percy Jackson isn't a great movie, but it's a ...</td>\n",
       "      <td>Fresh</td>\n",
       "      <td>2010-02-10</td>\n",
       "      <td>Bill Goodykoontz</td>\n",
       "      <td>True</td>\n",
       "      <td>Arizona Republic</td>\n",
       "      <td>3</td>\n",
       "      <td>2</td>\n",
       "      <td>3.8</td>\n",
       "    </tr>\n",
       "    <tr>\n",
       "      <th>3</th>\n",
       "      <td>3</td>\n",
       "      <td>4895</td>\n",
       "      <td>0</td>\n",
       "      <td>0.70</td>\n",
       "      <td>Fun, brisk and imaginative</td>\n",
       "      <td>Fresh</td>\n",
       "      <td>2010-02-10</td>\n",
       "      <td>Jordan Hoffman</td>\n",
       "      <td>False</td>\n",
       "      <td>UGO</td>\n",
       "      <td>4</td>\n",
       "      <td>2</td>\n",
       "      <td>3.8</td>\n",
       "    </tr>\n",
       "    <tr>\n",
       "      <th>4</th>\n",
       "      <td>4</td>\n",
       "      <td>4517</td>\n",
       "      <td>0</td>\n",
       "      <td>0.60</td>\n",
       "      <td>Crammed with dragons, set-destroying fights an...</td>\n",
       "      <td>Fresh</td>\n",
       "      <td>2010-02-10</td>\n",
       "      <td>Jim Schembri</td>\n",
       "      <td>True</td>\n",
       "      <td>The Age (Australia)</td>\n",
       "      <td>1</td>\n",
       "      <td>2</td>\n",
       "      <td>3.4</td>\n",
       "    </tr>\n",
       "  </tbody>\n",
       "</table>\n",
       "</div>"
      ],
      "text/plain": [
       "   Unnamed: 0  user_id  movie_id  review_score  \\\n",
       "0           0      943         0          0.70   \n",
       "1           1     7242         0          0.25   \n",
       "2           2     1046         0          0.70   \n",
       "3           3     4895         0          0.70   \n",
       "4           4     4517         0          0.60   \n",
       "\n",
       "                                      review_content review_type review_date  \\\n",
       "0  Whether audiences will get behind The Lightnin...       Fresh  2010-02-09   \n",
       "1  Harry Potter knockoffs don't come more transpa...      Rotten  2010-02-10   \n",
       "2  Percy Jackson isn't a great movie, but it's a ...       Fresh  2010-02-10   \n",
       "3                         Fun, brisk and imaginative       Fresh  2010-02-10   \n",
       "4  Crammed with dragons, set-destroying fights an...       Fresh  2010-02-10   \n",
       "\n",
       "        critic_name  top_critic           publisher_name  sentiment  emotion  \\\n",
       "0      Ben McEachen       False  Sunday Mail (Australia)          2        2   \n",
       "1      Nick Schager       False           Slant Magazine          0        2   \n",
       "2  Bill Goodykoontz        True         Arizona Republic          3        2   \n",
       "3    Jordan Hoffman       False                      UGO          4        2   \n",
       "4      Jim Schembri        True      The Age (Australia)          1        2   \n",
       "\n",
       "   rating  \n",
       "0     3.8  \n",
       "1     2.0  \n",
       "2     3.8  \n",
       "3     3.8  \n",
       "4     3.4  "
      ]
     },
     "execution_count": 5,
     "metadata": {},
     "output_type": "execute_result"
    }
   ],
   "source": [
    "ratings_df.head()"
   ]
  },
  {
   "cell_type": "code",
   "execution_count": 6,
   "id": "1c805597-ee62-4845-ac5f-4b3aabad1b8c",
   "metadata": {},
   "outputs": [
    {
     "data": {
      "text/html": [
       "<div>\n",
       "<style scoped>\n",
       "    .dataframe tbody tr th:only-of-type {\n",
       "        vertical-align: middle;\n",
       "    }\n",
       "\n",
       "    .dataframe tbody tr th {\n",
       "        vertical-align: top;\n",
       "    }\n",
       "\n",
       "    .dataframe thead th {\n",
       "        text-align: right;\n",
       "    }\n",
       "</style>\n",
       "<table border=\"1\" class=\"dataframe\">\n",
       "  <thead>\n",
       "    <tr style=\"text-align: right;\">\n",
       "      <th></th>\n",
       "      <th>Unnamed: 0</th>\n",
       "      <th>user_id</th>\n",
       "      <th>movie_id</th>\n",
       "      <th>review_score</th>\n",
       "      <th>sentiment</th>\n",
       "      <th>emotion</th>\n",
       "      <th>rating</th>\n",
       "    </tr>\n",
       "  </thead>\n",
       "  <tbody>\n",
       "    <tr>\n",
       "      <th>count</th>\n",
       "      <td>751129.000000</td>\n",
       "      <td>751129.000000</td>\n",
       "      <td>751129.000000</td>\n",
       "      <td>751129.000000</td>\n",
       "      <td>751129.000000</td>\n",
       "      <td>751129.000000</td>\n",
       "      <td>751129.000000</td>\n",
       "    </tr>\n",
       "    <tr>\n",
       "      <th>mean</th>\n",
       "      <td>376262.713991</td>\n",
       "      <td>5214.016632</td>\n",
       "      <td>9659.561123</td>\n",
       "      <td>0.637334</td>\n",
       "      <td>2.345168</td>\n",
       "      <td>2.006137</td>\n",
       "      <td>3.549336</td>\n",
       "    </tr>\n",
       "    <tr>\n",
       "      <th>std</th>\n",
       "      <td>217280.851147</td>\n",
       "      <td>2738.008969</td>\n",
       "      <td>4898.772395</td>\n",
       "      <td>0.210770</td>\n",
       "      <td>1.268545</td>\n",
       "      <td>1.090926</td>\n",
       "      <td>0.843082</td>\n",
       "    </tr>\n",
       "    <tr>\n",
       "      <th>min</th>\n",
       "      <td>0.000000</td>\n",
       "      <td>0.000000</td>\n",
       "      <td>0.000000</td>\n",
       "      <td>0.000000</td>\n",
       "      <td>0.000000</td>\n",
       "      <td>0.000000</td>\n",
       "      <td>1.000000</td>\n",
       "    </tr>\n",
       "    <tr>\n",
       "      <th>25%</th>\n",
       "      <td>188098.000000</td>\n",
       "      <td>2870.000000</td>\n",
       "      <td>5451.000000</td>\n",
       "      <td>0.500000</td>\n",
       "      <td>1.000000</td>\n",
       "      <td>2.000000</td>\n",
       "      <td>3.000000</td>\n",
       "    </tr>\n",
       "    <tr>\n",
       "      <th>50%</th>\n",
       "      <td>376247.000000</td>\n",
       "      <td>5414.000000</td>\n",
       "      <td>10302.000000</td>\n",
       "      <td>0.625000</td>\n",
       "      <td>3.000000</td>\n",
       "      <td>2.000000</td>\n",
       "      <td>3.500000</td>\n",
       "    </tr>\n",
       "    <tr>\n",
       "      <th>75%</th>\n",
       "      <td>564428.000000</td>\n",
       "      <td>7646.000000</td>\n",
       "      <td>13691.000000</td>\n",
       "      <td>0.800000</td>\n",
       "      <td>3.000000</td>\n",
       "      <td>2.000000</td>\n",
       "      <td>4.200000</td>\n",
       "    </tr>\n",
       "    <tr>\n",
       "      <th>max</th>\n",
       "      <td>752663.000000</td>\n",
       "      <td>9820.000000</td>\n",
       "      <td>17711.000000</td>\n",
       "      <td>1.000000</td>\n",
       "      <td>4.000000</td>\n",
       "      <td>5.000000</td>\n",
       "      <td>5.000000</td>\n",
       "    </tr>\n",
       "  </tbody>\n",
       "</table>\n",
       "</div>"
      ],
      "text/plain": [
       "          Unnamed: 0        user_id       movie_id   review_score  \\\n",
       "count  751129.000000  751129.000000  751129.000000  751129.000000   \n",
       "mean   376262.713991    5214.016632    9659.561123       0.637334   \n",
       "std    217280.851147    2738.008969    4898.772395       0.210770   \n",
       "min         0.000000       0.000000       0.000000       0.000000   \n",
       "25%    188098.000000    2870.000000    5451.000000       0.500000   \n",
       "50%    376247.000000    5414.000000   10302.000000       0.625000   \n",
       "75%    564428.000000    7646.000000   13691.000000       0.800000   \n",
       "max    752663.000000    9820.000000   17711.000000       1.000000   \n",
       "\n",
       "           sentiment        emotion         rating  \n",
       "count  751129.000000  751129.000000  751129.000000  \n",
       "mean        2.345168       2.006137       3.549336  \n",
       "std         1.268545       1.090926       0.843082  \n",
       "min         0.000000       0.000000       1.000000  \n",
       "25%         1.000000       2.000000       3.000000  \n",
       "50%         3.000000       2.000000       3.500000  \n",
       "75%         3.000000       2.000000       4.200000  \n",
       "max         4.000000       5.000000       5.000000  "
      ]
     },
     "execution_count": 6,
     "metadata": {},
     "output_type": "execute_result"
    }
   ],
   "source": [
    "ratings_df.describe()"
   ]
  },
  {
   "cell_type": "markdown",
   "id": "8e340470-4de9-431f-9b39-7b9a911c6902",
   "metadata": {},
   "source": [
    "### 0. 전체 현황"
   ]
  },
  {
   "cell_type": "code",
   "execution_count": 7,
   "id": "7e53c07f-ad87-430d-a47c-51c0548437b7",
   "metadata": {},
   "outputs": [
    {
     "data": {
      "text/plain": [
       "array([[<AxesSubplot:title={'center':'user_id'}>,\n",
       "        <AxesSubplot:title={'center':'movie_id'}>],\n",
       "       [<AxesSubplot:title={'center':'rating'}>, <AxesSubplot:>]],\n",
       "      dtype=object)"
      ]
     },
     "execution_count": 7,
     "metadata": {},
     "output_type": "execute_result"
    },
    {
     "data": {
      "image/png": "[encoded data removed]",
      "text/plain": [
       "<Figure size 432x288 with 4 Axes>"
      ]
     },
     "metadata": {
      "needs_background": "light"
     },
     "output_type": "display_data"
    }
   ],
   "source": [
    "ratings_df[['user_id','movie_id','rating']].hist()"
   ]
  },
  {
   "cell_type": "markdown",
   "id": "46a0240e-f3f6-4a7b-826e-ea156f1507ba",
   "metadata": {},
   "source": [
    "### 1. User 관점\n",
    "- 유저 관점(user_info_df): 소수 리뷰 남긴 사람 비율"
   ]
  },
  {
   "cell_type": "code",
   "execution_count": 8,
   "id": "3e5dd109-dd71-4225-b6e2-a72f47c67322",
   "metadata": {},
   "outputs": [],
   "source": [
    "group = ratings_df.groupby('user_id')\n",
    "group_user_id = group['movie_id'].count()"
   ]
  },
  {
   "cell_type": "code",
   "execution_count": 9,
   "id": "b3216c6d-3283-482d-bea4-0e017aac821a",
   "metadata": {},
   "outputs": [
    {
     "data": {
      "text/plain": [
       "9794"
      ]
     },
     "execution_count": 9,
     "metadata": {},
     "output_type": "execute_result"
    }
   ],
   "source": [
    "len(group_user_id)"
   ]
  },
  {
   "cell_type": "code",
   "execution_count": 10,
   "id": "8d26fbbe-287a-4c84-8efe-526f112f1557",
   "metadata": {},
   "outputs": [
    {
     "data": {
      "text/plain": [
       "user_id\n",
       "2600    6486\n",
       "8148    6356\n",
       "3265    5300\n",
       "2495    5212\n",
       "3926    4548\n",
       "5446    4219\n",
       "5716    3759\n",
       "7603    3552\n",
       "7917    3481\n",
       "1738    3440\n",
       "Name: movie_id, dtype: int64"
      ]
     },
     "execution_count": 10,
     "metadata": {},
     "output_type": "execute_result"
    }
   ],
   "source": [
    "group_user_id.sort_values(ascending=False)[:10]"
   ]
  },
  {
   "cell_type": "markdown",
   "id": "23dea496-4050-4300-9b83-cb22c03dc4e0",
   "metadata": {},
   "source": [
    "- 평점 갯수"
   ]
  },
  {
   "cell_type": "code",
   "execution_count": 11,
   "id": "cad854eb-e5a4-4b0c-a7af-fddc41f142d1",
   "metadata": {},
   "outputs": [],
   "source": [
    "def cal_rate(num, total, limit, condition):\n",
    "    if condition == 'low':\n",
    "        print(f\"{limit}개 미만: {sum(num < limit)}, {round((sum(num < limit)/total),2)*100}%\")\n",
    "        \n",
    "    if condition == 'high':\n",
    "        print(f\"{limit}개 이상: {sum(num >= limit)}, {round((sum(num >= limit)/total),2)*100}%\")"
   ]
  },
  {
   "cell_type": "code",
   "execution_count": 12,
   "id": "45045730-82c7-498e-afc6-9debce09e0a9",
   "metadata": {},
   "outputs": [
    {
     "name": "stdout",
     "output_type": "stream",
     "text": [
      "3개 미만: 3552, 36.0%\n",
      "5개 미만: 4653, 48.0%\n",
      "10개 미만: 5785, 59.0%\n"
     ]
    }
   ],
   "source": [
    "num = group_user_id.sort_values()\n",
    "total = len(group_user_id)\n",
    "\n",
    "condition = 'low'\n",
    "cal_rate(num, total, 3, condition)\n",
    "cal_rate(num, total, 5, condition)\n",
    "cal_rate(num, total, 10, condition)"
   ]
  },
  {
   "cell_type": "code",
   "execution_count": 13,
   "id": "3454e279-a95e-4b33-9b38-896627a7afbd",
   "metadata": {},
   "outputs": [
    {
     "name": "stdout",
     "output_type": "stream",
     "text": [
      "20개 이상: 2994, 31.0%\n",
      "500개 이상: 345, 4.0%\n"
     ]
    }
   ],
   "source": [
    "condition = 'high'\n",
    "cal_rate(num, total, 20, condition)\n",
    "cal_rate(num, total, 500, condition)"
   ]
  },
  {
   "cell_type": "code",
   "execution_count": 14,
   "id": "9aeb3965-a45a-4a6e-8291-c30df6dce4ad",
   "metadata": {},
   "outputs": [
    {
     "data": {
      "text/plain": [
       "user_id\n",
       "9820       1\n",
       "5660       1\n",
       "5657       1\n",
       "5654       1\n",
       "5650       1\n",
       "        ... \n",
       "3926    4548\n",
       "2495    5212\n",
       "3265    5300\n",
       "8148    6356\n",
       "2600    6486\n",
       "Name: movie_id, Length: 9794, dtype: int64"
      ]
     },
     "execution_count": 14,
     "metadata": {},
     "output_type": "execute_result"
    }
   ],
   "source": [
    "group_user_id.sort_values()"
   ]
  },
  {
   "cell_type": "code",
   "execution_count": 15,
   "id": "cf7594ef-6818-4dcc-8e5b-c15a0e43e170",
   "metadata": {},
   "outputs": [
    {
     "data": {
      "image/png": "[encoded data removed]",
      "text/plain": [
       "<Figure size 720x360 with 1 Axes>"
      ]
     },
     "metadata": {
      "needs_background": "light"
     },
     "output_type": "display_data"
    }
   ],
   "source": [
    "fig = plt.figure(figsize = (10,5))\n",
    "plt.hist(group_user_id.sort_values(), \n",
    "                    bins=100, \n",
    "                    facecolor='blue', \n",
    "                    alpha=0.75)\n",
    "plt.xlabel('Number of Users')\n",
    "plt.ylabel('Number of Ratings')\n",
    "# plt.yscale('log')\n",
    "plt.title('Histogram of User')\n",
    "plt.axis([0, 2000, 0, 500])\n",
    "plt.show()"
   ]
  },
  {
   "cell_type": "code",
   "execution_count": 29,
   "id": "455e0be6-17f4-4369-8471-78d2dd784fbc",
   "metadata": {},
   "outputs": [
    {
     "name": "stderr",
     "output_type": "stream",
     "text": [
      "C:\\Users\\user\\anaconda3\\envs\\graph\\lib\\site-packages\\seaborn\\distributions.py:2619: FutureWarning: `distplot` is a deprecated function and will be removed in a future version. Please adapt your code to use either `displot` (a figure-level function with similar flexibility) or `histplot` (an axes-level function for histograms).\n",
      "  warnings.warn(msg, FutureWarning)\n"
     ]
    },
    {
     "data": {
      "image/png": "[encoded data removed]",
      "text/plain": [
       "<Figure size 720x360 with 1 Axes>"
      ]
     },
     "metadata": {},
     "output_type": "display_data"
    }
   ],
   "source": [
    "import seaborn as sns\n",
    "\n",
    "p = sns.set(font_scale=1, rc={'figure.figsize':(10, 5)})\n",
    "fig, ax = plt.subplots()\n",
    "p = sns.distplot(group_user_id.sort_values(), ax=ax, bins=300)\n",
    "p.set_title('Histogram of User', fontsize = 15)\n",
    "p.set_xlabel('Number of Users', fontsize = 15)\n",
    "p.set_ylabel('Density of Ratings', fontsize = 15)\n",
    "ax.set_xlim(0, 10000)\n",
    "ax.set_ylim(0, 0.002)\n",
    "plt.show()"
   ]
  },
  {
   "cell_type": "markdown",
   "id": "5322810e-39f6-49fe-a37d-e4145a912a39",
   "metadata": {},
   "source": [
    "### 2. Movie 관점\n",
    "- 영화 관점(movie_info_df): 1명, 3명 미만의 영화"
   ]
  },
  {
   "cell_type": "code",
   "execution_count": 30,
   "id": "3d96cf59-4555-4d69-9a08-0ee8a2bfc260",
   "metadata": {},
   "outputs": [],
   "source": [
    "group = ratings_df.groupby('movie_id')\n",
    "group_movie_id = group['user_id'].count()"
   ]
  },
  {
   "cell_type": "code",
   "execution_count": 31,
   "id": "65483d4f-c040-43be-abd2-51ae5b9b1def",
   "metadata": {},
   "outputs": [
    {
     "data": {
      "text/plain": [
       "movie_id\n",
       "13801    670\n",
       "13522    632\n",
       "13800    628\n",
       "13690    622\n",
       "12311    602\n",
       "13799    598\n",
       "12665    594\n",
       "13184    590\n",
       "13389    548\n",
       "13781    538\n",
       "14028    532\n",
       "13692    526\n",
       "13691    524\n",
       "14033    490\n",
       "13723    480\n",
       "12644    478\n",
       "13673    476\n",
       "13031    462\n",
       "12674    462\n",
       "13788    460\n",
       "Name: user_id, dtype: int64"
      ]
     },
     "execution_count": 31,
     "metadata": {},
     "output_type": "execute_result"
    }
   ],
   "source": [
    "group_movie_id.sort_values(ascending=False)[:20]"
   ]
  },
  {
   "cell_type": "code",
   "execution_count": 32,
   "id": "b96f64bd-ad29-4906-9b17-08837de4145b",
   "metadata": {},
   "outputs": [
    {
     "data": {
      "text/plain": [
       "movie_id\n",
       "4861     1\n",
       "11516    1\n",
       "4388     1\n",
       "7861     1\n",
       "3439     1\n",
       "15879    1\n",
       "927      1\n",
       "9284     1\n",
       "11440    1\n",
       "11436    1\n",
       "4410     1\n",
       "7839     1\n",
       "9309     1\n",
       "7822     1\n",
       "7815     1\n",
       "5502     1\n",
       "4452     1\n",
       "11344    1\n",
       "3765     1\n",
       "11341    1\n",
       "Name: user_id, dtype: int64"
      ]
     },
     "execution_count": 32,
     "metadata": {},
     "output_type": "execute_result"
    }
   ],
   "source": [
    "group_movie_id.sort_values()[:20]"
   ]
  },
  {
   "cell_type": "code",
   "execution_count": 33,
   "id": "280d62c5-c435-4e86-bf0e-90bf9eb6b892",
   "metadata": {},
   "outputs": [
    {
     "data": {
      "text/plain": [
       "17614"
      ]
     },
     "execution_count": 33,
     "metadata": {},
     "output_type": "execute_result"
    }
   ],
   "source": [
    "len(group_movie_id)"
   ]
  },
  {
   "cell_type": "code",
   "execution_count": 34,
   "id": "b9e6e67d-437a-4c39-a363-7c5513874bdf",
   "metadata": {},
   "outputs": [
    {
     "name": "stdout",
     "output_type": "stream",
     "text": [
      "3개 미만: 993, 6.0%\n",
      "5개 미만: 2892, 16.0%\n"
     ]
    }
   ],
   "source": [
    "num = group_movie_id.sort_values()\n",
    "total = len(group_movie_id)\n",
    "\n",
    "condition = 'low'\n",
    "cal_rate(num, total, 3, condition)\n",
    "cal_rate(num, total, 5, condition)"
   ]
  },
  {
   "cell_type": "code",
   "execution_count": 35,
   "id": "c8275244-7655-482e-afee-1861ba224777",
   "metadata": {},
   "outputs": [
    {
     "name": "stdout",
     "output_type": "stream",
     "text": [
      "20개 이상: 8110, 46.0%\n",
      "500개 이상: 13, 0.0%\n"
     ]
    }
   ],
   "source": [
    "condition = 'high'\n",
    "cal_rate(num, total, 20, condition)\n",
    "cal_rate(num, total, 500, condition)"
   ]
  },
  {
   "cell_type": "code",
   "execution_count": 36,
   "id": "5a7a4026-39e3-4602-91f0-26f36828ba33",
   "metadata": {},
   "outputs": [
    {
     "data": {
      "image/png": "[encoded data removed]",
      "text/plain": [
       "<Figure size 720x360 with 1 Axes>"
      ]
     },
     "metadata": {},
     "output_type": "display_data"
    }
   ],
   "source": [
    "fig = plt.figure(figsize = (10,5))\n",
    "plt.hist(group_movie_id.sort_values(), \n",
    "                    bins=100, \n",
    "                    facecolor='blue', \n",
    "                    alpha=0.75)\n",
    "plt.xlabel('Number of Movies')\n",
    "plt.ylabel('Number of Ratings')\n",
    "plt.title('Histogram of Movie')\n",
    "plt.axis([0, 2000, 0, 500])\n",
    "plt.show()"
   ]
  },
  {
   "cell_type": "code",
   "execution_count": 43,
   "id": "419129e8-1958-4d19-8355-4322c181d297",
   "metadata": {},
   "outputs": [
    {
     "name": "stderr",
     "output_type": "stream",
     "text": [
      "C:\\Users\\user\\anaconda3\\envs\\graph\\lib\\site-packages\\seaborn\\distributions.py:2619: FutureWarning: `distplot` is a deprecated function and will be removed in a future version. Please adapt your code to use either `displot` (a figure-level function with similar flexibility) or `histplot` (an axes-level function for histograms).\n",
      "  warnings.warn(msg, FutureWarning)\n"
     ]
    },
    {
     "data": {
      "image/png": "[encoded data removed]",
      "text/plain": [
       "<Figure size 720x360 with 1 Axes>"
      ]
     },
     "metadata": {},
     "output_type": "display_data"
    }
   ],
   "source": [
    "import seaborn as sns\n",
    "\n",
    "p = sns.set(font_scale=1, rc={'figure.figsize':(10, 5)})\n",
    "fig, ax = plt.subplots()\n",
    "p = sns.distplot(group_movie_id.sort_values(), ax=ax, bins=300)\n",
    "p.set_title('Histogram of Movie', fontsize = 15)\n",
    "p.set_xlabel('Number of Movies', fontsize = 15)\n",
    "p.set_ylabel('Density of Ratings', fontsize = 15)\n",
    "ax.set_xlim(0, 10000)\n",
    "ax.set_ylim(0, 0.002)\n",
    "plt.show()"
   ]
  },
  {
   "cell_type": "markdown",
   "id": "e31c78ab-f1e0-48ea-8af3-f72e565e7edd",
   "metadata": {},
   "source": [
    "### 3. Rating 관점\n",
    "- 1~5점 평점 비율"
   ]
  },
  {
   "cell_type": "code",
   "execution_count": 38,
   "id": "be42aeb1-4428-43a2-ad57-addc71b6b90c",
   "metadata": {},
   "outputs": [
    {
     "data": {
      "image/png": "[encoded data removed]",
      "text/plain": [
       "<Figure size 720x360 with 1 Axes>"
      ]
     },
     "metadata": {},
     "output_type": "display_data"
    }
   ],
   "source": [
    "fig = plt.figure(figsize = (10,5))\n",
    "plt.hist(ratings_df['rating'], \n",
    "                    bins=10, \n",
    "                    facecolor='blue', \n",
    "                    alpha=0.75)\n",
    "plt.xlabel('Rating')\n",
    "plt.ylabel('Number of Ratings')\n",
    "plt.title('Histogram of Rating')\n",
    "plt.axis([1, 5, 0, 200000])\n",
    "plt.show()"
   ]
  },
  {
   "cell_type": "code",
   "execution_count": 24,
   "id": "bd657254-82c3-441c-84f7-9b3314aa4b29",
   "metadata": {},
   "outputs": [],
   "source": [
    "bins = np.linspace(1, 5, 5)"
   ]
  },
  {
   "cell_type": "code",
   "execution_count": 25,
   "id": "defc1940-0ff4-48d7-b231-ff1523fc109a",
   "metadata": {},
   "outputs": [
    {
     "data": {
      "text/plain": [
       "array([1., 2., 3., 4., 5.])"
      ]
     },
     "execution_count": 25,
     "metadata": {},
     "output_type": "execute_result"
    }
   ],
   "source": [
    "bins"
   ]
  },
  {
   "cell_type": "code",
   "execution_count": 26,
   "id": "a9dae9ab-ed49-4804-885f-f2b61b1822a7",
   "metadata": {},
   "outputs": [
    {
     "data": {
      "image/png": "[encoded data removed]",
      "text/plain": [
       "<Figure size 720x360 with 1 Axes>"
      ]
     },
     "metadata": {
      "needs_background": "light"
     },
     "output_type": "display_data"
    }
   ],
   "source": [
    "fig = plt.figure(figsize = (10,5))\n",
    "plt.hist(ratings_df['rating'], \n",
    "                    bins=bins, \n",
    "                    facecolor='blue', \n",
    "                    alpha=0.75)\n",
    "plt.xlabel('Rating')\n",
    "plt.ylabel('Number of Ratings')\n",
    "plt.title('Histogram of Rating')\n",
    "# plt.axis([1, 5, 0, 200000])\n",
    "plt.show()"
   ]
  },
  {
   "cell_type": "code",
   "execution_count": 27,
   "id": "4b7ad766-3ea1-48a8-a4e7-47fce5389f70",
   "metadata": {},
   "outputs": [
    {
     "data": {
      "text/plain": [
       "count    751129.000000\n",
       "mean          3.549336\n",
       "std           0.843082\n",
       "min           1.000000\n",
       "25%           3.000000\n",
       "50%           3.500000\n",
       "75%           4.200000\n",
       "max           5.000000\n",
       "Name: rating, dtype: float64"
      ]
     },
     "execution_count": 27,
     "metadata": {},
     "output_type": "execute_result"
    }
   ],
   "source": [
    "ratings_df['rating'].describe()"
   ]
  },
  {
   "cell_type": "code",
   "execution_count": 28,
   "id": "ce6a91c3-1f4a-49cc-ab3c-d5cc756249ea",
   "metadata": {},
   "outputs": [],
   "source": [
    "def cal_rate_2(num, total, low, high):        \n",
    "    print(f\"{low}이상 ~ {high}미만: {sum((num >= low) & (num < high))}, {round(sum((num >= low) & (num < high))/total,2)*100}%\")"
   ]
  },
  {
   "cell_type": "code",
   "execution_count": 29,
   "id": "c6c229b3-e0e4-430e-b00b-9dd9be40440d",
   "metadata": {},
   "outputs": [],
   "source": [
    "num = ratings_df['rating'].sort_values()\n",
    "total = len(ratings_df['rating'])"
   ]
  },
  {
   "cell_type": "code",
   "execution_count": 30,
   "id": "eaaf13c8-bce3-4cd4-a717-2e10c6e18992",
   "metadata": {},
   "outputs": [
    {
     "data": {
      "text/plain": [
       "751129"
      ]
     },
     "execution_count": 30,
     "metadata": {},
     "output_type": "execute_result"
    }
   ],
   "source": [
    "total"
   ]
  },
  {
   "cell_type": "code",
   "execution_count": 31,
   "id": "76911501-926b-40e3-8a45-f6c7d90dbe18",
   "metadata": {},
   "outputs": [
    {
     "name": "stdout",
     "output_type": "stream",
     "text": [
      "1이상 ~ 2미만: 29336, 4.0%\n",
      "2이상 ~ 3미만: 111623, 15.0%\n",
      "3이상 ~ 4미만: 337170, 45.0%\n",
      "4이상 ~ 5미만: 212717, 28.000000000000004%\n"
     ]
    }
   ],
   "source": [
    "cal_rate_2(num, total, 1, 2)\n",
    "cal_rate_2(num, total, 2, 3)\n",
    "cal_rate_2(num, total, 3, 4)\n",
    "cal_rate_2(num, total, 4, 5)"
   ]
  },
  {
   "cell_type": "code",
   "execution_count": 32,
   "id": "27dde580-dac1-4075-b903-7fcae214afd5",
   "metadata": {},
   "outputs": [
    {
     "data": {
      "text/plain": [
       "60283"
      ]
     },
     "execution_count": 32,
     "metadata": {},
     "output_type": "execute_result"
    }
   ],
   "source": [
    "sum(num == 5)"
   ]
  },
  {
   "cell_type": "code",
   "execution_count": 33,
   "id": "9408a188-88c6-415a-8796-a5b4b6fe6024",
   "metadata": {},
   "outputs": [
    {
     "data": {
      "text/plain": [
       "8.025652051778057"
      ]
     },
     "execution_count": 33,
     "metadata": {},
     "output_type": "execute_result"
    }
   ],
   "source": [
    "(sum(num == 5)/total) * 100"
   ]
  },
  {
   "cell_type": "code",
   "execution_count": 34,
   "id": "e3042ad6-96e3-4060-95f9-9508acd0ea1f",
   "metadata": {},
   "outputs": [
    {
     "name": "stdout",
     "output_type": "stream",
     "text": [
      "3개 미만: 140959, 19.0%\n",
      "5개 미만: 690846, 92.0%\n"
     ]
    }
   ],
   "source": [
    "condition = 'low'\n",
    "cal_rate(num, total, 3, condition)\n",
    "cal_rate(num, total, 5, condition)"
   ]
  },
  {
   "cell_type": "markdown",
   "id": "1b795ee7-24c0-4573-9715-69b5e24b29fc",
   "metadata": {},
   "source": [
    "### 4. User 관점(상위 10%)"
   ]
  },
  {
   "cell_type": "code",
   "execution_count": 38,
   "id": "bbb8e6ed-e9a6-4815-9b95-8510c8764da4",
   "metadata": {},
   "outputs": [],
   "source": [
    "group = ratings_df.groupby('user_id')\n",
    "group_user_id = group['movie_id'].count()"
   ]
  },
  {
   "cell_type": "code",
   "execution_count": 47,
   "id": "eb833365-0bdd-4793-b68c-f80064c7ce30",
   "metadata": {},
   "outputs": [
    {
     "name": "stdout",
     "output_type": "stream",
     "text": [
      "상위 10% 인원수: 979\n"
     ]
    }
   ],
   "source": [
    "sample_num = int(len(group_user_id) * 0.1)\n",
    "print(f\"상위 10% 인원수: {sample_num}\")"
   ]
  },
  {
   "cell_type": "code",
   "execution_count": 45,
   "id": "82a5be46-c8ba-4f89-aeb6-b426b99dca04",
   "metadata": {},
   "outputs": [
    {
     "data": {
      "text/plain": [
       "user_id\n",
       "2600    6486\n",
       "8148    6356\n",
       "3265    5300\n",
       "2495    5212\n",
       "3926    4548\n",
       "5446    4219\n",
       "5716    3759\n",
       "7603    3552\n",
       "7917    3481\n",
       "1738    3440\n",
       "Name: movie_id, dtype: int64"
      ]
     },
     "execution_count": 45,
     "metadata": {},
     "output_type": "execute_result"
    }
   ],
   "source": [
    "group_user_id.sort_values(ascending=False)[:10]"
   ]
  },
  {
   "cell_type": "code",
   "execution_count": 73,
   "id": "2d15fcc9-221e-4afa-989c-276cbeda386f",
   "metadata": {},
   "outputs": [],
   "source": [
    "sample = group_user_id.sort_values(ascending=False)[:sample_num]\n",
    "total = len(group_user_id)"
   ]
  },
  {
   "cell_type": "code",
   "execution_count": 74,
   "id": "94730a84-d00d-4455-b3a5-a03e72db7f86",
   "metadata": {},
   "outputs": [
    {
     "data": {
      "text/plain": [
       "979"
      ]
     },
     "execution_count": 74,
     "metadata": {},
     "output_type": "execute_result"
    }
   ],
   "source": [
    "len(sample)"
   ]
  },
  {
   "cell_type": "markdown",
   "id": "51076192-4f6e-4787-a408-a9b7d8230959",
   "metadata": {},
   "source": [
    "### 5. User 관점(리뷰 100개 이상 남긴)"
   ]
  },
  {
   "cell_type": "code",
   "execution_count": 201,
   "id": "6171347a-99bf-44a6-8cfe-601a98115d36",
   "metadata": {},
   "outputs": [],
   "source": [
    "group = ratings_df.groupby('user_id')\n",
    "group_user_id = group['movie_id'].count()"
   ]
  },
  {
   "cell_type": "code",
   "execution_count": 202,
   "id": "b8d07054-3342-45cd-b8f4-9fa7527d19b9",
   "metadata": {},
   "outputs": [
    {
     "name": "stdout",
     "output_type": "stream",
     "text": [
      "상위 10% 인원수: 979\n"
     ]
    }
   ],
   "source": [
    "sample_num = int(len(group_user_id) * 0.1)\n",
    "print(f\"상위 10% 인원수: {sample_num}\")"
   ]
  },
  {
   "cell_type": "code",
   "execution_count": 203,
   "id": "ab4de21d-824e-4178-8766-7c65d7afff65",
   "metadata": {},
   "outputs": [],
   "source": [
    "def cal_rate(num, total, limit, condition):\n",
    "    if condition == 'low':\n",
    "        print(f\"{limit}개 미만: {sum(num < limit)}, {round((sum(num < limit)/total),2)*100}%\")\n",
    "        \n",
    "    if condition == 'high':\n",
    "        print(f\"{limit}개 이상: {sum(num >= limit)}, {round((sum(num > limit)/total),2)*100}%\")"
   ]
  },
  {
   "cell_type": "code",
   "execution_count": 206,
   "id": "3e0df615-e0be-4457-b264-b1f9765ab4e9",
   "metadata": {},
   "outputs": [
    {
     "name": "stdout",
     "output_type": "stream",
     "text": [
      "100개 이상: 1343, 14.000000000000002%\n",
      "500개 이상: 345, 4.0%\n"
     ]
    }
   ],
   "source": [
    "num = group_user_id.sort_values()\n",
    "total = len(group_user_id)\n",
    "\n",
    "condition = 'high'\n",
    "cal_rate(num, total, 100, condition)\n",
    "cal_rate(num, total, 500, condition)"
   ]
  },
  {
   "cell_type": "code",
   "execution_count": null,
   "id": "c4fe57ad-67c4-44a5-91e5-7694fcdc9782",
   "metadata": {},
   "outputs": [],
   "source": []
  }
 ],
 "metadata": {
  "kernelspec": {
   "display_name": "Python 3 (ipykernel)",
   "language": "python",
   "name": "python3"
  },
  "language_info": {
   "codemirror_mode": {
    "name": "ipython",
    "version": 3
   },
   "file_extension": ".py",
   "mimetype": "text/x-python",
   "name": "python",
   "nbconvert_exporter": "python",
   "pygments_lexer": "ipython3",
   "version": "3.8.11"
  }
 },
 "nbformat": 4,
 "nbformat_minor": 5
}
