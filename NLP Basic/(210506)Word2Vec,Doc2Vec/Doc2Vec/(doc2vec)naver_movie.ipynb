{
 "cells": [
  {
   "cell_type": "markdown",
   "metadata": {},
   "source": [
    "# Naver Movie Review Dataset\n",
    "#### - Model: Doc2vec\n",
    "#### - POS tagger : Okt\n",
    "#### - 참고 : 한국어임베딩 교재"
   ]
  },
  {
   "cell_type": "code",
   "execution_count": 2,
   "metadata": {},
   "outputs": [],
   "source": [
    "import matplotlib.pyplot as plt\n",
    "import pandas as pd\n",
    "import urllib.request\n",
    "%matplotlib inline\n",
    "import matplotlib.pyplot as plt\n",
    "import re\n",
    "from konlpy.tag import Okt\n",
    "from tensorflow.keras.preprocessing.text import Tokenizer\n",
    "import numpy as np\n",
    "from tensorflow.keras.preprocessing.sequence import pad_sequences\n",
    "from gensim.models.doc2vec import Doc2Vec, TaggedDocument"
   ]
  },
  {
   "cell_type": "markdown",
   "metadata": {},
   "source": [
    "### 1. Data Load"
   ]
  },
  {
   "cell_type": "code",
   "execution_count": 3,
   "metadata": {},
   "outputs": [],
   "source": [
    "# train_data = pd.read_table('matched_review_movieid.txt')\n",
    "df = pd.read_csv('matched_review_movieid.txt', names=['origin_review'], error_bad_lines=False)"
   ]
  },
  {
   "cell_type": "code",
   "execution_count": 4,
   "metadata": {},
   "outputs": [
    {
     "data": {
      "text/html": [
       "<div>\n",
       "<style scoped>\n",
       "    .dataframe tbody tr th:only-of-type {\n",
       "        vertical-align: middle;\n",
       "    }\n",
       "\n",
       "    .dataframe tbody tr th {\n",
       "        vertical-align: top;\n",
       "    }\n",
       "\n",
       "    .dataframe thead th {\n",
       "        text-align: right;\n",
       "    }\n",
       "</style>\n",
       "<table border=\"1\" class=\"dataframe\">\n",
       "  <thead>\n",
       "    <tr style=\"text-align: right;\">\n",
       "      <th></th>\n",
       "      <th>origin_review</th>\n",
       "    </tr>\n",
       "  </thead>\n",
       "  <tbody>\n",
       "    <tr>\n",
       "      <th>0</th>\n",
       "      <td>정말 재미있게 본 훌륭한 드라마였다.␞74379</td>\n",
       "    </tr>\n",
       "    <tr>\n",
       "      <th>1</th>\n",
       "      <td>졸잼ㅇㄱㅂ니다. 졸잼␞74379</td>\n",
       "    </tr>\n",
       "    <tr>\n",
       "      <th>2</th>\n",
       "      <td>CG가 않좋아서 1점입니다␞74379</td>\n",
       "    </tr>\n",
       "    <tr>\n",
       "      <th>3</th>\n",
       "      <td>왜 이 드라마의 가치를 몰라보는가... 스토리도 대사도 일부러 만화적으로 만든걸 모...</td>\n",
       "    </tr>\n",
       "    <tr>\n",
       "      <th>4</th>\n",
       "      <td>만화 신불사의 1부를 드라마로 옮겼는데</td>\n",
       "    </tr>\n",
       "  </tbody>\n",
       "</table>\n",
       "</div>"
      ],
      "text/plain": [
       "                                       origin_review\n",
       "0                         정말 재미있게 본 훌륭한 드라마였다.␞74379\n",
       "1                                  졸잼ㅇㄱㅂ니다. 졸잼␞74379\n",
       "2                               CG가 않좋아서 1점입니다␞74379\n",
       "3  왜 이 드라마의 가치를 몰라보는가... 스토리도 대사도 일부러 만화적으로 만든걸 모...\n",
       "4                              만화 신불사의 1부를 드라마로 옮겼는데"
      ]
     },
     "execution_count": 4,
     "metadata": {},
     "output_type": "execute_result"
    }
   ],
   "source": [
    "df.head()"
   ]
  },
  {
   "cell_type": "code",
   "execution_count": 5,
   "metadata": {},
   "outputs": [],
   "source": [
    "# 데이터셋 전처리 : id와 review 구분\n",
    "lines = df['origin_review']\n",
    "test_list = []\n",
    "review_list = []\n",
    "id_list = []\n",
    "\n",
    "for line in lines:\n",
    "    try:\n",
    "        tmp = line.split('␞')\n",
    "        test_list.append(tmp[0])\n",
    "        tmp[0]\n",
    "        tmp[1]\n",
    "    except:\n",
    "        continue\n",
    "    review_list.append(tmp[0])\n",
    "    id_list.append(tmp[1])"
   ]
  },
  {
   "cell_type": "code",
   "execution_count": 6,
   "metadata": {},
   "outputs": [],
   "source": [
    "data = {'id': id_list, 'review': review_list}\n",
    "data = pd.DataFrame(data)"
   ]
  },
  {
   "cell_type": "code",
   "execution_count": 7,
   "metadata": {},
   "outputs": [
    {
     "data": {
      "text/html": [
       "<div>\n",
       "<style scoped>\n",
       "    .dataframe tbody tr th:only-of-type {\n",
       "        vertical-align: middle;\n",
       "    }\n",
       "\n",
       "    .dataframe tbody tr th {\n",
       "        vertical-align: top;\n",
       "    }\n",
       "\n",
       "    .dataframe thead th {\n",
       "        text-align: right;\n",
       "    }\n",
       "</style>\n",
       "<table border=\"1\" class=\"dataframe\">\n",
       "  <thead>\n",
       "    <tr style=\"text-align: right;\">\n",
       "      <th></th>\n",
       "      <th>id</th>\n",
       "      <th>review</th>\n",
       "    </tr>\n",
       "  </thead>\n",
       "  <tbody>\n",
       "    <tr>\n",
       "      <th>0</th>\n",
       "      <td>74379</td>\n",
       "      <td>정말 재미있게 본 훌륭한 드라마였다.</td>\n",
       "    </tr>\n",
       "    <tr>\n",
       "      <th>1</th>\n",
       "      <td>74379</td>\n",
       "      <td>졸잼ㅇㄱㅂ니다. 졸잼</td>\n",
       "    </tr>\n",
       "    <tr>\n",
       "      <th>2</th>\n",
       "      <td>74379</td>\n",
       "      <td>CG가 않좋아서 1점입니다</td>\n",
       "    </tr>\n",
       "    <tr>\n",
       "      <th>3</th>\n",
       "      <td>74379</td>\n",
       "      <td>왜 이 드라마의 가치를 몰라보는가... 스토리도 대사도 일부러 만화적으로 만든걸 모...</td>\n",
       "    </tr>\n",
       "    <tr>\n",
       "      <th>4</th>\n",
       "      <td>74379</td>\n",
       "      <td>진짜 재밌게봤었는데!</td>\n",
       "    </tr>\n",
       "  </tbody>\n",
       "</table>\n",
       "</div>"
      ],
      "text/plain": [
       "      id                                             review\n",
       "0  74379                               정말 재미있게 본 훌륭한 드라마였다.\n",
       "1  74379                                        졸잼ㅇㄱㅂ니다. 졸잼\n",
       "2  74379                                     CG가 않좋아서 1점입니다\n",
       "3  74379  왜 이 드라마의 가치를 몰라보는가... 스토리도 대사도 일부러 만화적으로 만든걸 모...\n",
       "4  74379                                        진짜 재밌게봤었는데!"
      ]
     },
     "execution_count": 7,
     "metadata": {},
     "output_type": "execute_result"
    }
   ],
   "source": [
    "data.head()"
   ]
  },
  {
   "cell_type": "markdown",
   "metadata": {},
   "source": [
    "### 2. Missing value 처리"
   ]
  },
  {
   "cell_type": "code",
   "execution_count": 8,
   "metadata": {},
   "outputs": [
    {
     "data": {
      "text/plain": [
       "612619"
      ]
     },
     "execution_count": 8,
     "metadata": {},
     "output_type": "execute_result"
    }
   ],
   "source": [
    "# 중복제외 리뷰 갯수 : 636178 -> 612619\n",
    "data['review'].nunique()"
   ]
  },
  {
   "cell_type": "code",
   "execution_count": 9,
   "metadata": {},
   "outputs": [
    {
     "name": "stdout",
     "output_type": "stream",
     "text": [
      "612619\n"
     ]
    }
   ],
   "source": [
    "data.drop_duplicates(subset=['review'], inplace=True) # document 열에서 중복인 내용이 있다면 중복 제거\n",
    "print(len(data))"
   ]
  },
  {
   "cell_type": "code",
   "execution_count": 10,
   "metadata": {},
   "outputs": [],
   "source": [
    "# 한글, 공백 제외한 문자제거\n",
    "data['review'] = data['review'].str.replace(\"[^ㄱ-하-ㅣ가힣]\",\" \")"
   ]
  },
  {
   "cell_type": "code",
   "execution_count": 11,
   "metadata": {},
   "outputs": [
    {
     "data": {
      "text/plain": [
       "False"
      ]
     },
     "execution_count": 11,
     "metadata": {},
     "output_type": "execute_result"
    }
   ],
   "source": [
    "data.isnull().values.any()"
   ]
  },
  {
   "cell_type": "code",
   "execution_count": 12,
   "metadata": {},
   "outputs": [
    {
     "name": "stdout",
     "output_type": "stream",
     "text": [
      "id        0\n",
      "review    1\n",
      "dtype: int64\n"
     ]
    }
   ],
   "source": [
    "data['review'].replace('',np.nan,inplace=True)\n",
    "print(data.isnull().sum())"
   ]
  },
  {
   "cell_type": "code",
   "execution_count": 13,
   "metadata": {},
   "outputs": [
    {
     "data": {
      "text/html": [
       "<div>\n",
       "<style scoped>\n",
       "    .dataframe tbody tr th:only-of-type {\n",
       "        vertical-align: middle;\n",
       "    }\n",
       "\n",
       "    .dataframe tbody tr th {\n",
       "        vertical-align: top;\n",
       "    }\n",
       "\n",
       "    .dataframe thead th {\n",
       "        text-align: right;\n",
       "    }\n",
       "</style>\n",
       "<table border=\"1\" class=\"dataframe\">\n",
       "  <thead>\n",
       "    <tr style=\"text-align: right;\">\n",
       "      <th></th>\n",
       "      <th>id</th>\n",
       "      <th>review</th>\n",
       "    </tr>\n",
       "  </thead>\n",
       "  <tbody>\n",
       "    <tr>\n",
       "      <th>400568</th>\n",
       "      <td>90343\\n샤룩에 대한 애정만으로 만점</td>\n",
       "      <td>NaN</td>\n",
       "    </tr>\n",
       "  </tbody>\n",
       "</table>\n",
       "</div>"
      ],
      "text/plain": [
       "                            id review\n",
       "400568  90343\\n샤룩에 대한 애정만으로 만점    NaN"
      ]
     },
     "execution_count": 13,
     "metadata": {},
     "output_type": "execute_result"
    }
   ],
   "source": [
    "data.loc[data.review.isnull()]"
   ]
  },
  {
   "cell_type": "code",
   "execution_count": 14,
   "metadata": {},
   "outputs": [],
   "source": [
    "tmp = data.loc[data.review.isnull()]"
   ]
  },
  {
   "cell_type": "code",
   "execution_count": 15,
   "metadata": {},
   "outputs": [],
   "source": [
    "missing_value = tmp.loc[400568]['id'].split('\\n')"
   ]
  },
  {
   "cell_type": "code",
   "execution_count": 16,
   "metadata": {},
   "outputs": [
    {
     "name": "stdout",
     "output_type": "stream",
     "text": [
      "['90343', '샤룩에 대한 애정만으로 만점']\n"
     ]
    }
   ],
   "source": [
    "print(missing_value)"
   ]
  },
  {
   "cell_type": "code",
   "execution_count": 18,
   "metadata": {},
   "outputs": [
    {
     "name": "stdout",
     "output_type": "stream",
     "text": [
      "612618\n"
     ]
    }
   ],
   "source": [
    "# 결측치 제거\n",
    "data.dropna(axis=0, inplace=True)\n",
    "print(len(data))"
   ]
  },
  {
   "cell_type": "code",
   "execution_count": 19,
   "metadata": {},
   "outputs": [
    {
     "data": {
      "text/html": [
       "<div>\n",
       "<style scoped>\n",
       "    .dataframe tbody tr th:only-of-type {\n",
       "        vertical-align: middle;\n",
       "    }\n",
       "\n",
       "    .dataframe tbody tr th {\n",
       "        vertical-align: top;\n",
       "    }\n",
       "\n",
       "    .dataframe thead th {\n",
       "        text-align: right;\n",
       "    }\n",
       "</style>\n",
       "<table border=\"1\" class=\"dataframe\">\n",
       "  <thead>\n",
       "    <tr style=\"text-align: right;\">\n",
       "      <th></th>\n",
       "      <th>id</th>\n",
       "      <th>review</th>\n",
       "    </tr>\n",
       "  </thead>\n",
       "  <tbody>\n",
       "    <tr>\n",
       "      <th>0</th>\n",
       "      <td>74379</td>\n",
       "      <td>정말 재미있게 본  륭  드라마였다</td>\n",
       "    </tr>\n",
       "    <tr>\n",
       "      <th>1</th>\n",
       "      <td>74379</td>\n",
       "      <td>졸잼ㅇㄱㅂ니다  졸잼</td>\n",
       "    </tr>\n",
       "    <tr>\n",
       "      <th>2</th>\n",
       "      <td>74379</td>\n",
       "      <td>가 않좋아서  점입니다</td>\n",
       "    </tr>\n",
       "    <tr>\n",
       "      <th>3</th>\n",
       "      <td>74379</td>\n",
       "      <td>왜 이 드라마의 가치를 몰라보는가    스토리도 대사도 일부러 만 적으로 만든걸 모...</td>\n",
       "    </tr>\n",
       "    <tr>\n",
       "      <th>4</th>\n",
       "      <td>74379</td>\n",
       "      <td>진짜 재밌게봤었는데</td>\n",
       "    </tr>\n",
       "    <tr>\n",
       "      <th>...</th>\n",
       "      <td>...</td>\n",
       "      <td>...</td>\n",
       "    </tr>\n",
       "    <tr>\n",
       "      <th>612614</th>\n",
       "      <td>17762</td>\n",
       "      <td>아련  기억과  께 새겨지는  백의 영상</td>\n",
       "    </tr>\n",
       "    <tr>\n",
       "      <th>612615</th>\n",
       "      <td>17762</td>\n",
       "      <td>비장하지만 어리석다</td>\n",
       "    </tr>\n",
       "    <tr>\n",
       "      <th>612616</th>\n",
       "      <td>17762</td>\n",
       "      <td>예전의기억 저편에 남아 언제나 주인공의 절규가 들리는 영</td>\n",
       "    </tr>\n",
       "    <tr>\n",
       "      <th>612617</th>\n",
       "      <td>17762</td>\n",
       "      <td>마지막 주인공이 차를몰면서 절규하며 따라부르는 바하의 토카타와푸가  죽음</td>\n",
       "    </tr>\n",
       "    <tr>\n",
       "      <th>612618</th>\n",
       "      <td>90343</td>\n",
       "      <td>샤룩에 대한 애정만으로 만점</td>\n",
       "    </tr>\n",
       "  </tbody>\n",
       "</table>\n",
       "<p>612619 rows × 2 columns</p>\n",
       "</div>"
      ],
      "text/plain": [
       "           id                                             review\n",
       "0       74379                               정말 재미있게 본  륭  드라마였다 \n",
       "1       74379                                        졸잼ㅇㄱㅂ니다  졸잼\n",
       "2       74379                                       가 않좋아서  점입니다\n",
       "3       74379  왜 이 드라마의 가치를 몰라보는가    스토리도 대사도 일부러 만 적으로 만든걸 모...\n",
       "4       74379                                        진짜 재밌게봤었는데 \n",
       "...       ...                                                ...\n",
       "612614  17762                            아련  기억과  께 새겨지는  백의 영상 \n",
       "612615  17762                                        비장하지만 어리석다 \n",
       "612616  17762                   예전의기억 저편에 남아 언제나 주인공의 절규가 들리는 영 \n",
       "612617  17762           마지막 주인공이 차를몰면서 절규하며 따라부르는 바하의 토카타와푸가  죽음\n",
       "612618  90343                                    샤룩에 대한 애정만으로 만점\n",
       "\n",
       "[612619 rows x 2 columns]"
      ]
     },
     "execution_count": 19,
     "metadata": {},
     "output_type": "execute_result"
    }
   ],
   "source": [
    "data.append({'id': missing_value[0], 'review': missing_value[1]}, ignore_index=True)"
   ]
  },
  {
   "cell_type": "code",
   "execution_count": 20,
   "metadata": {},
   "outputs": [
    {
     "name": "stdout",
     "output_type": "stream",
     "text": [
      "id        0\n",
      "review    0\n",
      "dtype: int64\n"
     ]
    }
   ],
   "source": [
    "print(data.isnull().sum())"
   ]
  },
  {
   "cell_type": "markdown",
   "metadata": {},
   "source": [
    "### 3. 데이터 전처리 \n",
    "- 불용어\n",
    "- 형태소 분석 : Okt(Twitter)"
   ]
  },
  {
   "cell_type": "code",
   "execution_count": 27,
   "metadata": {},
   "outputs": [],
   "source": [
    "from sklearn.model_selection import train_test_split\n",
    "\n",
    "train_data, test_data = train_test_split(data, test_size=0.3, train_size=0.7)"
   ]
  },
  {
   "cell_type": "code",
   "execution_count": 28,
   "metadata": {},
   "outputs": [
    {
     "name": "stdout",
     "output_type": "stream",
     "text": [
      "428832\n",
      "183786\n"
     ]
    }
   ],
   "source": [
    "print(len(train_data))\n",
    "print(len(test_data))"
   ]
  },
  {
   "cell_type": "code",
   "execution_count": 41,
   "metadata": {},
   "outputs": [
    {
     "data": {
      "text/html": [
       "<div>\n",
       "<style scoped>\n",
       "    .dataframe tbody tr th:only-of-type {\n",
       "        vertical-align: middle;\n",
       "    }\n",
       "\n",
       "    .dataframe tbody tr th {\n",
       "        vertical-align: top;\n",
       "    }\n",
       "\n",
       "    .dataframe thead th {\n",
       "        text-align: right;\n",
       "    }\n",
       "</style>\n",
       "<table border=\"1\" class=\"dataframe\">\n",
       "  <thead>\n",
       "    <tr style=\"text-align: right;\">\n",
       "      <th></th>\n",
       "      <th>id</th>\n",
       "      <th>review</th>\n",
       "    </tr>\n",
       "  </thead>\n",
       "  <tbody>\n",
       "    <tr>\n",
       "      <th>86650</th>\n",
       "      <td>19306</td>\n",
       "      <td>무섭더라   꿈에 나올까바 잠도 제대로 못자따</td>\n",
       "    </tr>\n",
       "    <tr>\n",
       "      <th>148129</th>\n",
       "      <td>78872</td>\n",
       "      <td>정말 불편하고 안좋은면을 다룬다  그래서 불편하다</td>\n",
       "    </tr>\n",
       "    <tr>\n",
       "      <th>334445</th>\n",
       "      <td>129783</td>\n",
       "      <td>아이와 께보니좋으네요</td>\n",
       "    </tr>\n",
       "    <tr>\n",
       "      <th>29189</th>\n",
       "      <td>99799</td>\n",
       "      <td>와  마지막에 역대급 소름이돋았다</td>\n",
       "    </tr>\n",
       "    <tr>\n",
       "      <th>67786</th>\n",
       "      <td>10397</td>\n",
       "      <td>조선민주주의 인민공 국 장병들을 기리는 영  ㅋㅋ에</td>\n",
       "    </tr>\n",
       "  </tbody>\n",
       "</table>\n",
       "</div>"
      ],
      "text/plain": [
       "            id                         review\n",
       "86650    19306     무섭더라   꿈에 나올까바 잠도 제대로 못자따 \n",
       "148129   78872    정말 불편하고 안좋은면을 다룬다  그래서 불편하다\n",
       "334445  129783                    아이와 께보니좋으네요\n",
       "29189    99799             와  마지막에 역대급 소름이돋았다\n",
       "67786    10397  조선민주주의 인민공 국 장병들을 기리는 영  ㅋㅋ에 "
      ]
     },
     "execution_count": 41,
     "metadata": {},
     "output_type": "execute_result"
    }
   ],
   "source": [
    "train_data.head()"
   ]
  },
  {
   "cell_type": "markdown",
   "metadata": {},
   "source": [
    "- 한국어 불용어(Stopwords)"
   ]
  },
  {
   "cell_type": "code",
   "execution_count": 22,
   "metadata": {},
   "outputs": [],
   "source": [
    "df_stopwords = pd.read_csv('./korean_stopwords.txt', names=['stopword', 'POS', 'rate'], header=None, delimiter='\\t')"
   ]
  },
  {
   "cell_type": "code",
   "execution_count": 23,
   "metadata": {},
   "outputs": [
    {
     "data": {
      "text/html": [
       "<div>\n",
       "<style scoped>\n",
       "    .dataframe tbody tr th:only-of-type {\n",
       "        vertical-align: middle;\n",
       "    }\n",
       "\n",
       "    .dataframe tbody tr th {\n",
       "        vertical-align: top;\n",
       "    }\n",
       "\n",
       "    .dataframe thead th {\n",
       "        text-align: right;\n",
       "    }\n",
       "</style>\n",
       "<table border=\"1\" class=\"dataframe\">\n",
       "  <thead>\n",
       "    <tr style=\"text-align: right;\">\n",
       "      <th></th>\n",
       "      <th>stopword</th>\n",
       "      <th>POS</th>\n",
       "      <th>rate</th>\n",
       "    </tr>\n",
       "  </thead>\n",
       "  <tbody>\n",
       "    <tr>\n",
       "      <th>0</th>\n",
       "      <td>이</td>\n",
       "      <td>VCP</td>\n",
       "      <td>0.018280</td>\n",
       "    </tr>\n",
       "    <tr>\n",
       "      <th>1</th>\n",
       "      <td>있</td>\n",
       "      <td>VA</td>\n",
       "      <td>0.011699</td>\n",
       "    </tr>\n",
       "    <tr>\n",
       "      <th>2</th>\n",
       "      <td>하</td>\n",
       "      <td>VV</td>\n",
       "      <td>0.009774</td>\n",
       "    </tr>\n",
       "    <tr>\n",
       "      <th>3</th>\n",
       "      <td>것</td>\n",
       "      <td>NNB</td>\n",
       "      <td>0.009733</td>\n",
       "    </tr>\n",
       "    <tr>\n",
       "      <th>4</th>\n",
       "      <td>들</td>\n",
       "      <td>XSN</td>\n",
       "      <td>0.006898</td>\n",
       "    </tr>\n",
       "  </tbody>\n",
       "</table>\n",
       "</div>"
      ],
      "text/plain": [
       "  stopword  POS      rate\n",
       "0        이  VCP  0.018280\n",
       "1        있   VA  0.011699\n",
       "2        하   VV  0.009774\n",
       "3        것  NNB  0.009733\n",
       "4        들  XSN  0.006898"
      ]
     },
     "execution_count": 23,
     "metadata": {},
     "output_type": "execute_result"
    }
   ],
   "source": [
    "df_stopwords.head()"
   ]
  },
  {
   "cell_type": "code",
   "execution_count": 24,
   "metadata": {},
   "outputs": [],
   "source": [
    "stopwords = df_stopwords['stopword'].tolist()"
   ]
  },
  {
   "cell_type": "code",
   "execution_count": 25,
   "metadata": {},
   "outputs": [],
   "source": [
    "okt = Okt()"
   ]
  },
  {
   "cell_type": "markdown",
   "metadata": {},
   "source": [
    "#### okt.morphs의 옵션\n",
    "- norm : normalize의 약자로 정규화\n",
    "- stem : 각 단어에서 어간 추출"
   ]
  },
  {
   "cell_type": "code",
   "execution_count": 26,
   "metadata": {},
   "outputs": [
    {
     "data": {
      "text/plain": [
       "['오다', '이렇다', '것', '도', '영화', '라고', '차라리', '뮤직비디오', '를', '만들다', '게', '나다', '뻔']"
      ]
     },
     "execution_count": 26,
     "metadata": {},
     "output_type": "execute_result"
    }
   ],
   "source": [
    "# 텍스트를 형태소 단위로 구분 후 어간 추출\n",
    "okt.morphs('와 이런 것도 영화라고 차라리 뮤직비디오를 만드는 게 나을 뻔', stem = True)"
   ]
  },
  {
   "cell_type": "code",
   "execution_count": 30,
   "metadata": {},
   "outputs": [
    {
     "name": "stderr",
     "output_type": "stream",
     "text": [
      "100%|██████████| 428832/428832 [13:11<00:00, 541.62it/s]\n"
     ]
    }
   ],
   "source": [
    "# 불용어처리 X_train 저장\n",
    "X_train = []\n",
    "from tqdm import tqdm\n",
    "for sentence in tqdm(train_data['review']):\n",
    "    temp_X = []\n",
    "    temp_X = okt.morphs(sentence, stem = True)\n",
    "    temp_X = [word for word in temp_X if not word in stopwords]\n",
    "    X_train.append(temp_X)"
   ]
  },
  {
   "cell_type": "code",
   "execution_count": 132,
   "metadata": {},
   "outputs": [
    {
     "name": "stderr",
     "output_type": "stream",
     "text": [
      "100%|██████████| 183786/183786 [12:24<00:00, 246.96it/s]\n"
     ]
    }
   ],
   "source": [
    "# 불용어처리 X_test 저장\n",
    "X_test = []\n",
    "for sentence in tqdm(test_data['review']):\n",
    "    temp_X = []\n",
    "    temp_X = okt.morphs(sentence, stem=True) # 토큰화\n",
    "    temp_X = [word for word in temp_X if not word in stopwords] # 불용어 제거\n",
    "    X_test.append(temp_X)"
   ]
  },
  {
   "cell_type": "code",
   "execution_count": 33,
   "metadata": {},
   "outputs": [
    {
     "data": {
      "text/html": [
       "<div>\n",
       "<style scoped>\n",
       "    .dataframe tbody tr th:only-of-type {\n",
       "        vertical-align: middle;\n",
       "    }\n",
       "\n",
       "    .dataframe tbody tr th {\n",
       "        vertical-align: top;\n",
       "    }\n",
       "\n",
       "    .dataframe thead th {\n",
       "        text-align: right;\n",
       "    }\n",
       "</style>\n",
       "<table border=\"1\" class=\"dataframe\">\n",
       "  <thead>\n",
       "    <tr style=\"text-align: right;\">\n",
       "      <th></th>\n",
       "      <th>review</th>\n",
       "    </tr>\n",
       "  </thead>\n",
       "  <tbody>\n",
       "    <tr>\n",
       "      <th>86650</th>\n",
       "      <td>무섭더라   꿈에 나올까바 잠도 제대로 못자따</td>\n",
       "    </tr>\n",
       "    <tr>\n",
       "      <th>148129</th>\n",
       "      <td>정말 불편하고 안좋은면을 다룬다  그래서 불편하다</td>\n",
       "    </tr>\n",
       "    <tr>\n",
       "      <th>334445</th>\n",
       "      <td>아이와 께보니좋으네요</td>\n",
       "    </tr>\n",
       "    <tr>\n",
       "      <th>29189</th>\n",
       "      <td>와  마지막에 역대급 소름이돋았다</td>\n",
       "    </tr>\n",
       "    <tr>\n",
       "      <th>67786</th>\n",
       "      <td>조선민주주의 인민공 국 장병들을 기리는 영  ㅋㅋ에</td>\n",
       "    </tr>\n",
       "  </tbody>\n",
       "</table>\n",
       "</div>"
      ],
      "text/plain": [
       "                               review\n",
       "86650      무섭더라   꿈에 나올까바 잠도 제대로 못자따 \n",
       "148129    정말 불편하고 안좋은면을 다룬다  그래서 불편하다\n",
       "334445                    아이와 께보니좋으네요\n",
       "29189              와  마지막에 역대급 소름이돋았다\n",
       "67786   조선민주주의 인민공 국 장병들을 기리는 영  ㅋㅋ에 "
      ]
     },
     "execution_count": 33,
     "metadata": {},
     "output_type": "execute_result"
    }
   ],
   "source": [
    "train_data[['review']].head()"
   ]
  },
  {
   "cell_type": "code",
   "execution_count": 34,
   "metadata": {},
   "outputs": [
    {
     "name": "stdout",
     "output_type": "stream",
     "text": [
      "[['무섭다', '꿈', '에', '나오다', '바', '잠도', '제대로', '못자다', '따다'], ['정말', '불편하다', '안좋다', '면', '을', '다루다', '그래서', '불편하다'], ['아이', '와', '께', '보다', '좋다'], ['오다', '마지막', '에', '역대', '급', '소름', '돋다'], ['조선', '민주주의', '인민', '공', '국', '장병', '을', '기리', '는', '영', 'ㅋㅋ', '에']]\n"
     ]
    }
   ],
   "source": [
    "print(X_train[:5])"
   ]
  },
  {
   "cell_type": "code",
   "execution_count": 36,
   "metadata": {},
   "outputs": [
    {
     "data": {
      "text/plain": [
       "428832"
      ]
     },
     "execution_count": 36,
     "metadata": {},
     "output_type": "execute_result"
    }
   ],
   "source": [
    "len(X_train)"
   ]
  },
  {
   "cell_type": "code",
   "execution_count": 42,
   "metadata": {},
   "outputs": [
    {
     "name": "stderr",
     "output_type": "stream",
     "text": [
      "<ipython-input-42-2f6b0c87bb56>:1: SettingWithCopyWarning: \n",
      "A value is trying to be set on a copy of a slice from a DataFrame.\n",
      "Try using .loc[row_indexer,col_indexer] = value instead\n",
      "\n",
      "See the caveats in the documentation: https://pandas.pydata.org/pandas-docs/stable/user_guide/indexing.html#returning-a-view-versus-a-copy\n",
      "  train_data['review_tokens'] = X_train\n"
     ]
    }
   ],
   "source": [
    "train_data['review_tokens'] = X_train"
   ]
  },
  {
   "cell_type": "code",
   "execution_count": 43,
   "metadata": {},
   "outputs": [
    {
     "data": {
      "text/html": [
       "<div>\n",
       "<style scoped>\n",
       "    .dataframe tbody tr th:only-of-type {\n",
       "        vertical-align: middle;\n",
       "    }\n",
       "\n",
       "    .dataframe tbody tr th {\n",
       "        vertical-align: top;\n",
       "    }\n",
       "\n",
       "    .dataframe thead th {\n",
       "        text-align: right;\n",
       "    }\n",
       "</style>\n",
       "<table border=\"1\" class=\"dataframe\">\n",
       "  <thead>\n",
       "    <tr style=\"text-align: right;\">\n",
       "      <th></th>\n",
       "      <th>id</th>\n",
       "      <th>review</th>\n",
       "      <th>review_tokens</th>\n",
       "    </tr>\n",
       "  </thead>\n",
       "  <tbody>\n",
       "    <tr>\n",
       "      <th>86650</th>\n",
       "      <td>19306</td>\n",
       "      <td>무섭더라   꿈에 나올까바 잠도 제대로 못자따</td>\n",
       "      <td>[무섭다, 꿈, 에, 나오다, 바, 잠도, 제대로, 못자다, 따다]</td>\n",
       "    </tr>\n",
       "    <tr>\n",
       "      <th>148129</th>\n",
       "      <td>78872</td>\n",
       "      <td>정말 불편하고 안좋은면을 다룬다  그래서 불편하다</td>\n",
       "      <td>[정말, 불편하다, 안좋다, 면, 을, 다루다, 그래서, 불편하다]</td>\n",
       "    </tr>\n",
       "    <tr>\n",
       "      <th>334445</th>\n",
       "      <td>129783</td>\n",
       "      <td>아이와 께보니좋으네요</td>\n",
       "      <td>[아이, 와, 께, 보다, 좋다]</td>\n",
       "    </tr>\n",
       "    <tr>\n",
       "      <th>29189</th>\n",
       "      <td>99799</td>\n",
       "      <td>와  마지막에 역대급 소름이돋았다</td>\n",
       "      <td>[오다, 마지막, 에, 역대, 급, 소름, 돋다]</td>\n",
       "    </tr>\n",
       "    <tr>\n",
       "      <th>67786</th>\n",
       "      <td>10397</td>\n",
       "      <td>조선민주주의 인민공 국 장병들을 기리는 영  ㅋㅋ에</td>\n",
       "      <td>[조선, 민주주의, 인민, 공, 국, 장병, 을, 기리, 는, 영, ㅋㅋ, 에]</td>\n",
       "    </tr>\n",
       "  </tbody>\n",
       "</table>\n",
       "</div>"
      ],
      "text/plain": [
       "            id                         review  \\\n",
       "86650    19306     무섭더라   꿈에 나올까바 잠도 제대로 못자따    \n",
       "148129   78872    정말 불편하고 안좋은면을 다룬다  그래서 불편하다   \n",
       "334445  129783                    아이와 께보니좋으네요   \n",
       "29189    99799             와  마지막에 역대급 소름이돋았다   \n",
       "67786    10397  조선민주주의 인민공 국 장병들을 기리는 영  ㅋㅋ에    \n",
       "\n",
       "                                       review_tokens  \n",
       "86650          [무섭다, 꿈, 에, 나오다, 바, 잠도, 제대로, 못자다, 따다]  \n",
       "148129         [정말, 불편하다, 안좋다, 면, 을, 다루다, 그래서, 불편하다]  \n",
       "334445                            [아이, 와, 께, 보다, 좋다]  \n",
       "29189                    [오다, 마지막, 에, 역대, 급, 소름, 돋다]  \n",
       "67786   [조선, 민주주의, 인민, 공, 국, 장병, 을, 기리, 는, 영, ㅋㅋ, 에]  "
      ]
     },
     "execution_count": 43,
     "metadata": {},
     "output_type": "execute_result"
    }
   ],
   "source": [
    "train_data.head()"
   ]
  },
  {
   "cell_type": "markdown",
   "metadata": {},
   "source": [
    "### 4. 모델 설계 : Doc2Vec"
   ]
  },
  {
   "cell_type": "code",
   "execution_count": 45,
   "metadata": {},
   "outputs": [],
   "source": [
    "doc_df = train_data[['id','review_tokens']].values.tolist()\n",
    "tagged_docs = [TaggedDocument(words=tokens, tags=[movie_id]) for movie_id, tokens in doc_df]"
   ]
  },
  {
   "cell_type": "code",
   "execution_count": 46,
   "metadata": {},
   "outputs": [
    {
     "data": {
      "text/plain": [
       "428832"
      ]
     },
     "execution_count": 46,
     "metadata": {},
     "output_type": "execute_result"
    }
   ],
   "source": [
    "len(tagged_docs)"
   ]
  },
  {
   "cell_type": "code",
   "execution_count": 47,
   "metadata": {},
   "outputs": [
    {
     "data": {
      "text/plain": [
       "TaggedDocument(words=['무섭다', '꿈', '에', '나오다', '바', '잠도', '제대로', '못자다', '따다'], tags=['19306'])"
      ]
     },
     "execution_count": 47,
     "metadata": {},
     "output_type": "execute_result"
    }
   ],
   "source": [
    "tagged_docs[0]"
   ]
  },
  {
   "cell_type": "code",
   "execution_count": 48,
   "metadata": {},
   "outputs": [],
   "source": [
    "model = Doc2Vec(tagged_docs, dm=1, vector_size=100)"
   ]
  },
  {
   "cell_type": "code",
   "execution_count": 131,
   "metadata": {},
   "outputs": [
    {
     "data": {
      "text/plain": [
       "array([ 0.12862666,  0.19557568,  0.11846325, -0.02422391, -0.34906718,\n",
       "       -0.20162469, -0.06400381,  0.01379242, -0.26292434,  0.08053754,\n",
       "        0.02949703,  0.36939222, -0.41916183,  0.2657878 ,  0.16435876,\n",
       "        0.3640658 ,  0.00557661, -0.10704455, -0.01833933, -0.00849472,\n",
       "       -0.33401474,  0.14371498,  0.00079793, -0.20409249,  0.10100336,\n",
       "        0.34552237,  0.0084727 ,  0.27368885, -0.0479448 , -0.3214688 ,\n",
       "       -0.1300217 ,  0.57871264, -0.47123784,  0.04703402, -0.16656503,\n",
       "       -0.06848156,  0.28114066,  0.04258383, -0.17462876,  0.24065137,\n",
       "       -0.22595285,  0.34482336,  0.3525008 ,  0.35502395,  0.02406902,\n",
       "       -0.3175983 , -0.24082842, -0.11819652, -0.42017007,  0.51992255,\n",
       "       -0.37836134,  0.14809377,  0.09904487, -0.03935252,  0.5569911 ,\n",
       "       -0.36290088, -0.2521839 ,  0.32233584,  0.2895356 ,  0.03414615,\n",
       "        0.4236006 ,  0.06458165, -0.4855738 , -0.1581831 ,  0.12933376,\n",
       "       -0.28997856, -0.3107875 ,  0.15031959, -0.05903892, -0.04267775,\n",
       "       -0.27024537, -0.06502745,  0.25076053, -0.6168606 , -0.03953665,\n",
       "        0.21356131,  0.19707075,  0.21590826,  0.27289996,  0.28095305,\n",
       "        0.09890484, -0.11511125, -0.10590707, -0.21911772, -0.23867117,\n",
       "        0.32695493,  0.26894948, -0.15641974, -0.22662291, -0.06816828,\n",
       "        0.4229811 , -0.24811757, -0.15854757, -0.41157788, -0.24565777,\n",
       "        0.0607239 , -0.12434217,  0.08528115, -0.5025885 , -0.08806115],\n",
       "      dtype=float32)"
      ]
     },
     "execution_count": 131,
     "metadata": {},
     "output_type": "execute_result"
    }
   ],
   "source": [
    "model.docvecs[0]"
   ]
  },
  {
   "cell_type": "code",
   "execution_count": 50,
   "metadata": {},
   "outputs": [
    {
     "data": {
      "text/plain": [
       "428832"
      ]
     },
     "execution_count": 50,
     "metadata": {},
     "output_type": "execute_result"
    }
   ],
   "source": [
    "model.corpus_count"
   ]
  },
  {
   "cell_type": "markdown",
   "metadata": {},
   "source": [
    "### 5. 모델 평가"
   ]
  },
  {
   "cell_type": "code",
   "execution_count": 103,
   "metadata": {},
   "outputs": [],
   "source": [
    "import sys, requests, random\n",
    "from lxml import html\n",
    "from visualize_utils import visualize_homonym, visualize_between_sentences, \\\n",
    "    visualize_self_attention_scores, visualize_sentences, visualize_words, visualize_between_words"
   ]
  },
  {
   "cell_type": "code",
   "execution_count": 106,
   "metadata": {},
   "outputs": [],
   "source": [
    "doc2idx = {el:idx for idx, el in enumerate(model.docvecs.doctags.keys())}\n",
    "use_notebook = True"
   ]
  },
  {
   "cell_type": "code",
   "execution_count": 113,
   "metadata": {},
   "outputs": [],
   "source": [
    "def most_similar(movie_id, topn=10):\n",
    "    similar_movies = model.docvecs.most_similar(str(movie_id), topn=topn)\n",
    "    for movie_id, score in similar_movies:\n",
    "        print(get_movie_title(movie_id), score)\n",
    "\n",
    "def get_movie_title(movie_id):\n",
    "    url = 'http://movie.naver.com/movie/point/af/list.nhn?st=mcode&target=after&sword=%s' % movie_id\n",
    "    resp = requests.get(url)\n",
    "    root = html.fromstring(resp.text)\n",
    "    try:\n",
    "        title = root.xpath('//div[@class=\"choice_movie_info\"]//h5//a/text()')[0]\n",
    "    except:\n",
    "        title = \"\"\n",
    "    return title\n",
    "\n",
    "def get_titles_in_corpus(n_sample=5):\n",
    "    movie_ids = random.sample(model.docvecs.doctags.keys(), n_sample)\n",
    "    return {movie_id: get_movie_title(movie_id) for movie_id in movie_ids}\n",
    "\n",
    "def visualize_movies(n_sample=30, palette=\"Viridis256\", type=\"between\"):\n",
    "    movie_ids = get_titles_in_corpus(n_sample=n_sample)\n",
    "    movie_titles = [movie_ids[key] for key in movie_ids.keys()]\n",
    "    movie_vecs = [model.docvecs[doc2idx[movie_id]] for movie_id in movie_ids.keys()]\n",
    "    if type == \"between\":\n",
    "        visualize_between_words(movie_titles, movie_vecs, palette, use_notebook=use_notebook)\n",
    "    else:\n",
    "        visualize_words(movie_titles, movie_vecs, palette, use_notebook=use_notebook)"
   ]
  },
  {
   "cell_type": "markdown",
   "metadata": {},
   "source": [
    "- 학습 데이터에 포함된 영화 제목 추출"
   ]
  },
  {
   "cell_type": "code",
   "execution_count": 125,
   "metadata": {},
   "outputs": [
    {
     "data": {
      "text/plain": [
       "{'20106': '난중일기',\n",
       " '22787': '자유만세',\n",
       " '107959': '탑기어 코리아 시즌4',\n",
       " '110366': '싱글 인 LA',\n",
       " '122101': '아바타 정글의 비밀'}"
      ]
     },
     "execution_count": 125,
     "metadata": {},
     "output_type": "execute_result"
    }
   ],
   "source": [
    "get_titles_in_corpus(5)"
   ]
  },
  {
   "cell_type": "markdown",
   "metadata": {},
   "source": [
    "- 가장 연관성 높은 영화 추천"
   ]
  },
  {
   "cell_type": "code",
   "execution_count": 128,
   "metadata": {},
   "outputs": [
    {
     "name": "stdout",
     "output_type": "stream",
     "text": [
      "노 머시 0.8939095139503479\n",
      "옥토퍼스 0.87286776304245\n",
      "선택 0.8678715229034424\n",
      "레아 0.8669946193695068\n",
      "IT 버블과 같이 잔 여자 0.8667657375335693\n",
      "스틸 브리딩 0.8663744330406189\n",
      "패스트 푸드 패스트 우먼 0.8659929633140564\n",
      "빙점 0.8618744611740112\n",
      "꽃지 0.8616834282875061\n",
      "그 여름의 태풍 0.8605736494064331\n"
     ]
    }
   ],
   "source": [
    "most_similar('20106', topn=10)"
   ]
  },
  {
   "cell_type": "markdown",
   "metadata": {},
   "source": [
    "- 30개 샘플에 대해 시각화"
   ]
  },
  {
   "cell_type": "code",
   "execution_count": 109,
   "metadata": {},
   "outputs": [
    {
     "data": {
      "text/html": [
       "\n",
       "    <div class=\"bk-root\">\n",
       "        <a href=\"https://bokeh.org\" target=\"_blank\" class=\"bk-logo bk-logo-small bk-logo-notebook\"></a>\n",
       "        <span id=\"1386\">Loading BokehJS ...</span>\n",
       "    </div>"
      ]
     },
     "metadata": {},
     "output_type": "display_data"
    },
    {
     "data": {
      "application/javascript": [
       "\n",
       "(function(root) {\n",
       "  function now() {\n",
       "    return new Date();\n",
       "  }\n",
       "\n",
       "  var force = true;\n",
       "\n",
       "  if (typeof root._bokeh_onload_callbacks === \"undefined\" || force === true) {\n",
       "    root._bokeh_onload_callbacks = [];\n",
       "    root._bokeh_is_loading = undefined;\n",
       "  }\n",
       "\n",
       "  var JS_MIME_TYPE = 'application/javascript';\n",
       "  var HTML_MIME_TYPE = 'text/html';\n",
       "  var EXEC_MIME_TYPE = 'application/vnd.bokehjs_exec.v0+json';\n",
       "  var CLASS_NAME = 'output_bokeh rendered_html';\n",
       "\n",
       "  /**\n",
       "   * Render data to the DOM node\n",
       "   */\n",
       "  function render(props, node) {\n",
       "    var script = document.createElement(\"script\");\n",
       "    node.appendChild(script);\n",
       "  }\n",
       "\n",
       "  /**\n",
       "   * Handle when an output is cleared or removed\n",
       "   */\n",
       "  function handleClearOutput(event, handle) {\n",
       "    var cell = handle.cell;\n",
       "\n",
       "    var id = cell.output_area._bokeh_element_id;\n",
       "    var server_id = cell.output_area._bokeh_server_id;\n",
       "    // Clean up Bokeh references\n",
       "    if (id != null && id in Bokeh.index) {\n",
       "      Bokeh.index[id].model.document.clear();\n",
       "      delete Bokeh.index[id];\n",
       "    }\n",
       "\n",
       "    if (server_id !== undefined) {\n",
       "      // Clean up Bokeh references\n",
       "      var cmd = \"from bokeh.io.state import curstate; print(curstate().uuid_to_server['\" + server_id + \"'].get_sessions()[0].document.roots[0]._id)\";\n",
       "      cell.notebook.kernel.execute(cmd, {\n",
       "        iopub: {\n",
       "          output: function(msg) {\n",
       "            var id = msg.content.text.trim();\n",
       "            if (id in Bokeh.index) {\n",
       "              Bokeh.index[id].model.document.clear();\n",
       "              delete Bokeh.index[id];\n",
       "            }\n",
       "          }\n",
       "        }\n",
       "      });\n",
       "      // Destroy server and session\n",
       "      var cmd = \"import bokeh.io.notebook as ion; ion.destroy_server('\" + server_id + \"')\";\n",
       "      cell.notebook.kernel.execute(cmd);\n",
       "    }\n",
       "  }\n",
       "\n",
       "  /**\n",
       "   * Handle when a new output is added\n",
       "   */\n",
       "  function handleAddOutput(event, handle) {\n",
       "    var output_area = handle.output_area;\n",
       "    var output = handle.output;\n",
       "\n",
       "    // limit handleAddOutput to display_data with EXEC_MIME_TYPE content only\n",
       "    if ((output.output_type != \"display_data\") || (!Object.prototype.hasOwnProperty.call(output.data, EXEC_MIME_TYPE))) {\n",
       "      return\n",
       "    }\n",
       "\n",
       "    var toinsert = output_area.element.find(\".\" + CLASS_NAME.split(' ')[0]);\n",
       "\n",
       "    if (output.metadata[EXEC_MIME_TYPE][\"id\"] !== undefined) {\n",
       "      toinsert[toinsert.length - 1].firstChild.textContent = output.data[JS_MIME_TYPE];\n",
       "      // store reference to embed id on output_area\n",
       "      output_area._bokeh_element_id = output.metadata[EXEC_MIME_TYPE][\"id\"];\n",
       "    }\n",
       "    if (output.metadata[EXEC_MIME_TYPE][\"server_id\"] !== undefined) {\n",
       "      var bk_div = document.createElement(\"div\");\n",
       "      bk_div.innerHTML = output.data[HTML_MIME_TYPE];\n",
       "      var script_attrs = bk_div.children[0].attributes;\n",
       "      for (var i = 0; i < script_attrs.length; i++) {\n",
       "        toinsert[toinsert.length - 1].firstChild.setAttribute(script_attrs[i].name, script_attrs[i].value);\n",
       "        toinsert[toinsert.length - 1].firstChild.textContent = bk_div.children[0].textContent\n",
       "      }\n",
       "      // store reference to server id on output_area\n",
       "      output_area._bokeh_server_id = output.metadata[EXEC_MIME_TYPE][\"server_id\"];\n",
       "    }\n",
       "  }\n",
       "\n",
       "  function register_renderer(events, OutputArea) {\n",
       "\n",
       "    function append_mime(data, metadata, element) {\n",
       "      // create a DOM node to render to\n",
       "      var toinsert = this.create_output_subarea(\n",
       "        metadata,\n",
       "        CLASS_NAME,\n",
       "        EXEC_MIME_TYPE\n",
       "      );\n",
       "      this.keyboard_manager.register_events(toinsert);\n",
       "      // Render to node\n",
       "      var props = {data: data, metadata: metadata[EXEC_MIME_TYPE]};\n",
       "      render(props, toinsert[toinsert.length - 1]);\n",
       "      element.append(toinsert);\n",
       "      return toinsert\n",
       "    }\n",
       "\n",
       "    /* Handle when an output is cleared or removed */\n",
       "    events.on('clear_output.CodeCell', handleClearOutput);\n",
       "    events.on('delete.Cell', handleClearOutput);\n",
       "\n",
       "    /* Handle when a new output is added */\n",
       "    events.on('output_added.OutputArea', handleAddOutput);\n",
       "\n",
       "    /**\n",
       "     * Register the mime type and append_mime function with output_area\n",
       "     */\n",
       "    OutputArea.prototype.register_mime_type(EXEC_MIME_TYPE, append_mime, {\n",
       "      /* Is output safe? */\n",
       "      safe: true,\n",
       "      /* Index of renderer in `output_area.display_order` */\n",
       "      index: 0\n",
       "    });\n",
       "  }\n",
       "\n",
       "  // register the mime type if in Jupyter Notebook environment and previously unregistered\n",
       "  if (root.Jupyter !== undefined) {\n",
       "    var events = require('base/js/events');\n",
       "    var OutputArea = require('notebook/js/outputarea').OutputArea;\n",
       "\n",
       "    if (OutputArea.prototype.mime_types().indexOf(EXEC_MIME_TYPE) == -1) {\n",
       "      register_renderer(events, OutputArea);\n",
       "    }\n",
       "  }\n",
       "\n",
       "  \n",
       "  if (typeof (root._bokeh_timeout) === \"undefined\" || force === true) {\n",
       "    root._bokeh_timeout = Date.now() + 5000;\n",
       "    root._bokeh_failed_load = false;\n",
       "  }\n",
       "\n",
       "  var NB_LOAD_WARNING = {'data': {'text/html':\n",
       "     \"<div style='background-color: #fdd'>\\n\"+\n",
       "     \"<p>\\n\"+\n",
       "     \"BokehJS does not appear to have successfully loaded. If loading BokehJS from CDN, this \\n\"+\n",
       "     \"may be due to a slow or bad network connection. Possible fixes:\\n\"+\n",
       "     \"</p>\\n\"+\n",
       "     \"<ul>\\n\"+\n",
       "     \"<li>re-rerun `output_notebook()` to attempt to load from CDN again, or</li>\\n\"+\n",
       "     \"<li>use INLINE resources instead, as so:</li>\\n\"+\n",
       "     \"</ul>\\n\"+\n",
       "     \"<code>\\n\"+\n",
       "     \"from bokeh.resources import INLINE\\n\"+\n",
       "     \"output_notebook(resources=INLINE)\\n\"+\n",
       "     \"</code>\\n\"+\n",
       "     \"</div>\"}};\n",
       "\n",
       "  function display_loaded() {\n",
       "    var el = document.getElementById(\"1386\");\n",
       "    if (el != null) {\n",
       "      el.textContent = \"BokehJS is loading...\";\n",
       "    }\n",
       "    if (root.Bokeh !== undefined) {\n",
       "      if (el != null) {\n",
       "        el.textContent = \"BokehJS \" + root.Bokeh.version + \" successfully loaded.\";\n",
       "      }\n",
       "    } else if (Date.now() < root._bokeh_timeout) {\n",
       "      setTimeout(display_loaded, 100)\n",
       "    }\n",
       "  }\n",
       "\n",
       "\n",
       "  function run_callbacks() {\n",
       "    try {\n",
       "      root._bokeh_onload_callbacks.forEach(function(callback) {\n",
       "        if (callback != null)\n",
       "          callback();\n",
       "      });\n",
       "    } finally {\n",
       "      delete root._bokeh_onload_callbacks\n",
       "    }\n",
       "    console.debug(\"Bokeh: all callbacks have finished\");\n",
       "  }\n",
       "\n",
       "  function load_libs(css_urls, js_urls, callback) {\n",
       "    if (css_urls == null) css_urls = [];\n",
       "    if (js_urls == null) js_urls = [];\n",
       "\n",
       "    root._bokeh_onload_callbacks.push(callback);\n",
       "    if (root._bokeh_is_loading > 0) {\n",
       "      console.debug(\"Bokeh: BokehJS is being loaded, scheduling callback at\", now());\n",
       "      return null;\n",
       "    }\n",
       "    if (js_urls == null || js_urls.length === 0) {\n",
       "      run_callbacks();\n",
       "      return null;\n",
       "    }\n",
       "    console.debug(\"Bokeh: BokehJS not loaded, scheduling load and callback at\", now());\n",
       "    root._bokeh_is_loading = css_urls.length + js_urls.length;\n",
       "\n",
       "    function on_load() {\n",
       "      root._bokeh_is_loading--;\n",
       "      if (root._bokeh_is_loading === 0) {\n",
       "        console.debug(\"Bokeh: all BokehJS libraries/stylesheets loaded\");\n",
       "        run_callbacks()\n",
       "      }\n",
       "    }\n",
       "\n",
       "    function on_error(url) {\n",
       "      console.error(\"failed to load \" + url);\n",
       "    }\n",
       "\n",
       "    for (let i = 0; i < css_urls.length; i++) {\n",
       "      const url = css_urls[i];\n",
       "      const element = document.createElement(\"link\");\n",
       "      element.onload = on_load;\n",
       "      element.onerror = on_error.bind(null, url);\n",
       "      element.rel = \"stylesheet\";\n",
       "      element.type = \"text/css\";\n",
       "      element.href = url;\n",
       "      console.debug(\"Bokeh: injecting link tag for BokehJS stylesheet: \", url);\n",
       "      document.body.appendChild(element);\n",
       "    }\n",
       "\n",
       "    const hashes = {\"https://cdn.bokeh.org/bokeh/release/bokeh-2.3.1.min.js\": \"YF85VygJKMVnHE+lLv2AM93Vbstr0yo2TbIu5v8se5Rq3UQAUmcuh4aaJwNlpKwa\", \"https://cdn.bokeh.org/bokeh/release/bokeh-widgets-2.3.1.min.js\": \"KKuas3gevv3PvrlkyCMzffFeaMq5we/a2QsP5AUoS3mJ0jmaCL7jirFJN3GoE/lM\", \"https://cdn.bokeh.org/bokeh/release/bokeh-tables-2.3.1.min.js\": \"MK/uFc3YT18pkvvXRl66tTHjP0/dxoSH2e/eiNMFIguKlun2+WVqaPTWmUy/zvh4\"};\n",
       "\n",
       "    for (let i = 0; i < js_urls.length; i++) {\n",
       "      const url = js_urls[i];\n",
       "      const element = document.createElement('script');\n",
       "      element.onload = on_load;\n",
       "      element.onerror = on_error.bind(null, url);\n",
       "      element.async = false;\n",
       "      element.src = url;\n",
       "      if (url in hashes) {\n",
       "        element.crossOrigin = \"anonymous\";\n",
       "        element.integrity = \"sha384-\" + hashes[url];\n",
       "      }\n",
       "      console.debug(\"Bokeh: injecting script tag for BokehJS library: \", url);\n",
       "      document.head.appendChild(element);\n",
       "    }\n",
       "  };\n",
       "\n",
       "  function inject_raw_css(css) {\n",
       "    const element = document.createElement(\"style\");\n",
       "    element.appendChild(document.createTextNode(css));\n",
       "    document.body.appendChild(element);\n",
       "  }\n",
       "\n",
       "  \n",
       "  var js_urls = [\"https://cdn.bokeh.org/bokeh/release/bokeh-2.3.1.min.js\", \"https://cdn.bokeh.org/bokeh/release/bokeh-widgets-2.3.1.min.js\", \"https://cdn.bokeh.org/bokeh/release/bokeh-tables-2.3.1.min.js\"];\n",
       "  var css_urls = [];\n",
       "  \n",
       "\n",
       "  var inline_js = [\n",
       "    function(Bokeh) {\n",
       "      Bokeh.set_log_level(\"info\");\n",
       "    },\n",
       "    function(Bokeh) {\n",
       "    \n",
       "    \n",
       "    }\n",
       "  ];\n",
       "\n",
       "  function run_inline_js() {\n",
       "    \n",
       "    if (root.Bokeh !== undefined || force === true) {\n",
       "      \n",
       "    for (var i = 0; i < inline_js.length; i++) {\n",
       "      inline_js[i].call(root, root.Bokeh);\n",
       "    }\n",
       "    if (force === true) {\n",
       "        display_loaded();\n",
       "      }} else if (Date.now() < root._bokeh_timeout) {\n",
       "      setTimeout(run_inline_js, 100);\n",
       "    } else if (!root._bokeh_failed_load) {\n",
       "      console.log(\"Bokeh: BokehJS failed to load within specified timeout.\");\n",
       "      root._bokeh_failed_load = true;\n",
       "    } else if (force !== true) {\n",
       "      var cell = $(document.getElementById(\"1386\")).parents('.cell').data().cell;\n",
       "      cell.output_area.append_execute_result(NB_LOAD_WARNING)\n",
       "    }\n",
       "\n",
       "  }\n",
       "\n",
       "  if (root._bokeh_is_loading === 0) {\n",
       "    console.debug(\"Bokeh: BokehJS loaded, going straight to plotting\");\n",
       "    run_inline_js();\n",
       "  } else {\n",
       "    load_libs(css_urls, js_urls, function() {\n",
       "      console.debug(\"Bokeh: BokehJS plotting callback run at\", now());\n",
       "      run_inline_js();\n",
       "    });\n",
       "  }\n",
       "}(window));"
      ],
      "application/vnd.bokehjs_load.v0+json": "\n(function(root) {\n  function now() {\n    return new Date();\n  }\n\n  var force = true;\n\n  if (typeof root._bokeh_onload_callbacks === \"undefined\" || force === true) {\n    root._bokeh_onload_callbacks = [];\n    root._bokeh_is_loading = undefined;\n  }\n\n  \n\n  \n  if (typeof (root._bokeh_timeout) === \"undefined\" || force === true) {\n    root._bokeh_timeout = Date.now() + 5000;\n    root._bokeh_failed_load = false;\n  }\n\n  var NB_LOAD_WARNING = {'data': {'text/html':\n     \"<div style='background-color: #fdd'>\\n\"+\n     \"<p>\\n\"+\n     \"BokehJS does not appear to have successfully loaded. If loading BokehJS from CDN, this \\n\"+\n     \"may be due to a slow or bad network connection. Possible fixes:\\n\"+\n     \"</p>\\n\"+\n     \"<ul>\\n\"+\n     \"<li>re-rerun `output_notebook()` to attempt to load from CDN again, or</li>\\n\"+\n     \"<li>use INLINE resources instead, as so:</li>\\n\"+\n     \"</ul>\\n\"+\n     \"<code>\\n\"+\n     \"from bokeh.resources import INLINE\\n\"+\n     \"output_notebook(resources=INLINE)\\n\"+\n     \"</code>\\n\"+\n     \"</div>\"}};\n\n  function display_loaded() {\n    var el = document.getElementById(\"1386\");\n    if (el != null) {\n      el.textContent = \"BokehJS is loading...\";\n    }\n    if (root.Bokeh !== undefined) {\n      if (el != null) {\n        el.textContent = \"BokehJS \" + root.Bokeh.version + \" successfully loaded.\";\n      }\n    } else if (Date.now() < root._bokeh_timeout) {\n      setTimeout(display_loaded, 100)\n    }\n  }\n\n\n  function run_callbacks() {\n    try {\n      root._bokeh_onload_callbacks.forEach(function(callback) {\n        if (callback != null)\n          callback();\n      });\n    } finally {\n      delete root._bokeh_onload_callbacks\n    }\n    console.debug(\"Bokeh: all callbacks have finished\");\n  }\n\n  function load_libs(css_urls, js_urls, callback) {\n    if (css_urls == null) css_urls = [];\n    if (js_urls == null) js_urls = [];\n\n    root._bokeh_onload_callbacks.push(callback);\n    if (root._bokeh_is_loading > 0) {\n      console.debug(\"Bokeh: BokehJS is being loaded, scheduling callback at\", now());\n      return null;\n    }\n    if (js_urls == null || js_urls.length === 0) {\n      run_callbacks();\n      return null;\n    }\n    console.debug(\"Bokeh: BokehJS not loaded, scheduling load and callback at\", now());\n    root._bokeh_is_loading = css_urls.length + js_urls.length;\n\n    function on_load() {\n      root._bokeh_is_loading--;\n      if (root._bokeh_is_loading === 0) {\n        console.debug(\"Bokeh: all BokehJS libraries/stylesheets loaded\");\n        run_callbacks()\n      }\n    }\n\n    function on_error(url) {\n      console.error(\"failed to load \" + url);\n    }\n\n    for (let i = 0; i < css_urls.length; i++) {\n      const url = css_urls[i];\n      const element = document.createElement(\"link\");\n      element.onload = on_load;\n      element.onerror = on_error.bind(null, url);\n      element.rel = \"stylesheet\";\n      element.type = \"text/css\";\n      element.href = url;\n      console.debug(\"Bokeh: injecting link tag for BokehJS stylesheet: \", url);\n      document.body.appendChild(element);\n    }\n\n    const hashes = {\"https://cdn.bokeh.org/bokeh/release/bokeh-2.3.1.min.js\": \"YF85VygJKMVnHE+lLv2AM93Vbstr0yo2TbIu5v8se5Rq3UQAUmcuh4aaJwNlpKwa\", \"https://cdn.bokeh.org/bokeh/release/bokeh-widgets-2.3.1.min.js\": \"KKuas3gevv3PvrlkyCMzffFeaMq5we/a2QsP5AUoS3mJ0jmaCL7jirFJN3GoE/lM\", \"https://cdn.bokeh.org/bokeh/release/bokeh-tables-2.3.1.min.js\": \"MK/uFc3YT18pkvvXRl66tTHjP0/dxoSH2e/eiNMFIguKlun2+WVqaPTWmUy/zvh4\"};\n\n    for (let i = 0; i < js_urls.length; i++) {\n      const url = js_urls[i];\n      const element = document.createElement('script');\n      element.onload = on_load;\n      element.onerror = on_error.bind(null, url);\n      element.async = false;\n      element.src = url;\n      if (url in hashes) {\n        element.crossOrigin = \"anonymous\";\n        element.integrity = \"sha384-\" + hashes[url];\n      }\n      console.debug(\"Bokeh: injecting script tag for BokehJS library: \", url);\n      document.head.appendChild(element);\n    }\n  };\n\n  function inject_raw_css(css) {\n    const element = document.createElement(\"style\");\n    element.appendChild(document.createTextNode(css));\n    document.body.appendChild(element);\n  }\n\n  \n  var js_urls = [\"https://cdn.bokeh.org/bokeh/release/bokeh-2.3.1.min.js\", \"https://cdn.bokeh.org/bokeh/release/bokeh-widgets-2.3.1.min.js\", \"https://cdn.bokeh.org/bokeh/release/bokeh-tables-2.3.1.min.js\"];\n  var css_urls = [];\n  \n\n  var inline_js = [\n    function(Bokeh) {\n      Bokeh.set_log_level(\"info\");\n    },\n    function(Bokeh) {\n    \n    \n    }\n  ];\n\n  function run_inline_js() {\n    \n    if (root.Bokeh !== undefined || force === true) {\n      \n    for (var i = 0; i < inline_js.length; i++) {\n      inline_js[i].call(root, root.Bokeh);\n    }\n    if (force === true) {\n        display_loaded();\n      }} else if (Date.now() < root._bokeh_timeout) {\n      setTimeout(run_inline_js, 100);\n    } else if (!root._bokeh_failed_load) {\n      console.log(\"Bokeh: BokehJS failed to load within specified timeout.\");\n      root._bokeh_failed_load = true;\n    } else if (force !== true) {\n      var cell = $(document.getElementById(\"1386\")).parents('.cell').data().cell;\n      cell.output_area.append_execute_result(NB_LOAD_WARNING)\n    }\n\n  }\n\n  if (root._bokeh_is_loading === 0) {\n    console.debug(\"Bokeh: BokehJS loaded, going straight to plotting\");\n    run_inline_js();\n  } else {\n    load_libs(css_urls, js_urls, function() {\n      console.debug(\"Bokeh: BokehJS plotting callback run at\", now());\n      run_inline_js();\n    });\n  }\n}(window));"
     },
     "metadata": {},
     "output_type": "display_data"
    },
    {
     "data": {
      "text/html": [
       "\n",
       "\n",
       "\n",
       "\n",
       "\n",
       "\n",
       "  <div class=\"bk-root\" id=\"31edfba8-49ff-4e71-a694-ff395731e2f8\" data-root-id=\"1349\"></div>\n"
      ]
     },
     "metadata": {},
     "output_type": "display_data"
    },
    {
     "data": {
      "application/javascript": [
       "(function(root) {\n",
       "  function embed_document(root) {\n",
       "    \n",
       "  var docs_json = {\"618e1d0c-822c-43d0-ae72-8931309fc295\":{\"defs\":[],\"roots\":{\"references\":[{\"attributes\":{\"above\":[{\"id\":\"1358\"}],\"center\":[{\"id\":\"1360\"},{\"id\":\"1363\"}],\"height\":900,\"left\":[{\"id\":\"1361\"}],\"renderers\":[{\"id\":\"1382\"}],\"right\":[{\"id\":\"1385\"}],\"title\":{\"id\":\"1410\"},\"toolbar\":{\"id\":\"1371\"},\"toolbar_location\":\"below\",\"width\":900,\"x_range\":{\"id\":\"1350\"},\"x_scale\":{\"id\":\"1354\"},\"y_range\":{\"id\":\"1352\"},\"y_scale\":{\"id\":\"1356\"}},\"id\":\"1349\",\"subtype\":\"Figure\",\"type\":\"Plot\"},{\"attributes\":{},\"id\":\"1416\",\"type\":\"CategoricalTickFormatter\"},{\"attributes\":{},\"id\":\"1412\",\"type\":\"AllLabels\"},{\"attributes\":{\"factors\":[\"\\uc81c1\\uacf5\\ud654\\uad6d\",\"\\uc0c8\\ub4dc \\ubb34\\ube44\",\"\\uc678\\uacc4\\uc778\\uacfc \\ucf69\\ucf69 \\uac15\\uc2dc\",\"\\ub354 \\ud30c\\ud06c\\ub79c\\ub4dc\",\"\\ud669\\ub2f9\\ud55c \\uc678\\uacc4\\uc778: \\ud3f4\",\"\\uac1c\\uc2ec\\uadc0 4 - \\uac1c\\uc2ec\\uadc0 \\ub300 \\uac1c\\uc2ec\\uadc0\",\"\\uc655\\uaf43 \\uc120\\ub140\\ub2d8\",\"\\ud22c\\uce85\\uc2a4 \\uc778 \\ud30c\\ub9ac\",\"\\uba54\\ub780\\ud0c0\\uc6b0\",\"\\uc368\\ub4dc \\uc2a4\\ud0c0\",\"\\ud669\\uc81c\\ub97c \\uc704\\ud558\\uc5ec\",\"\\ud30c\\uc6cc \\ud0b9\",\"\\ud30c\\ub77c\\ub2e4\\uc774\\uc2a4 \\ub7ec\\ube0c\",\"\\uc601\\uad6c\\uc640 \\ud761\\ud608\\uadc0 \\ub4dc\\ub77c\\ud050\\ub77c\",\"\\ub85c\\uc2a4\\ud2b8 \\ud558\\uc774\\uc6e8\\uc774\",\"\\ub9e4\\ud29c \\ubcf8\\uc758 \\ubc31\\uc870\\uc758 \\ud638\\uc218 3D\",\"\\ub808\\ub4dc \\ucf54\\ub108\",\"\\ub5a1\",\"\\ub2e4 \\ud070 \\uc5ec\\uc790\\ub4e4\",\"\\uc0bc\\uad6d\\uc9c0 - \\uc6a9\\uc758 \\ubd80\\ud65c\",\"\\ub7ec\\ube0c \\uc778 \\ud074\\ub77c\\uc6b0\\uc988\",\"\\ube44\\uc815\\uc0c1\\ud68c\\ub2f4\",\"\\ub2f9\\uc2e0\\uc744 \\uc624\\ub7ab\\ub3d9\\uc548 \\uc0ac\\ub791\\ud588\\uc5b4\\uc694\",\"\\uc704\\ud5d8\\ud55c \\uac70\\ub798\",\"\\uac00\\ubb38\\uc758 \\ubd80\\ud65c - \\uac00\\ubb38\\uc758 \\uc601\\uad11 3\",\"\\ud398\\uc774\\ud37c\\ub9e8\",\"\\ucc9c\\uc0ac\\uc758 \\uc120\\ud0dd\",\"\\uc77c\\ubc24\",\"\\uc138\\uc774\\uc9c0: \\uc721\\uc9c0\\uc758 \\ubb3c\\uace0\\uae30\",\"\\ud558\\ub298\\uc774\\uc2dc\\uc5ec\"]},\"id\":\"1350\",\"type\":\"FactorRange\"},{\"attributes\":{},\"id\":\"1413\",\"type\":\"CategoricalTickFormatter\"},{\"attributes\":{},\"id\":\"1415\",\"type\":\"AllLabels\"},{\"attributes\":{\"high\":0,\"low\":1,\"palette\":[\"#440154\",\"#440255\",\"#440357\",\"#450558\",\"#45065A\",\"#45085B\",\"#46095C\",\"#460B5E\",\"#460C5F\",\"#460E61\",\"#470F62\",\"#471163\",\"#471265\",\"#471466\",\"#471567\",\"#471669\",\"#47186A\",\"#48196B\",\"#481A6C\",\"#481C6E\",\"#481D6F\",\"#481E70\",\"#482071\",\"#482172\",\"#482273\",\"#482374\",\"#472575\",\"#472676\",\"#472777\",\"#472878\",\"#472A79\",\"#472B7A\",\"#472C7B\",\"#462D7C\",\"#462F7C\",\"#46307D\",\"#46317E\",\"#45327F\",\"#45347F\",\"#453580\",\"#453681\",\"#443781\",\"#443982\",\"#433A83\",\"#433B83\",\"#433C84\",\"#423D84\",\"#423E85\",\"#424085\",\"#414186\",\"#414286\",\"#404387\",\"#404487\",\"#3F4587\",\"#3F4788\",\"#3E4888\",\"#3E4989\",\"#3D4A89\",\"#3D4B89\",\"#3D4C89\",\"#3C4D8A\",\"#3C4E8A\",\"#3B508A\",\"#3B518A\",\"#3A528B\",\"#3A538B\",\"#39548B\",\"#39558B\",\"#38568B\",\"#38578C\",\"#37588C\",\"#37598C\",\"#365A8C\",\"#365B8C\",\"#355C8C\",\"#355D8C\",\"#345E8D\",\"#345F8D\",\"#33608D\",\"#33618D\",\"#32628D\",\"#32638D\",\"#31648D\",\"#31658D\",\"#31668D\",\"#30678D\",\"#30688D\",\"#2F698D\",\"#2F6A8D\",\"#2E6B8E\",\"#2E6C8E\",\"#2E6D8E\",\"#2D6E8E\",\"#2D6F8E\",\"#2C708E\",\"#2C718E\",\"#2C728E\",\"#2B738E\",\"#2B748E\",\"#2A758E\",\"#2A768E\",\"#2A778E\",\"#29788E\",\"#29798E\",\"#287A8E\",\"#287A8E\",\"#287B8E\",\"#277C8E\",\"#277D8E\",\"#277E8E\",\"#267F8E\",\"#26808E\",\"#26818E\",\"#25828E\",\"#25838D\",\"#24848D\",\"#24858D\",\"#24868D\",\"#23878D\",\"#23888D\",\"#23898D\",\"#22898D\",\"#228A8D\",\"#228B8D\",\"#218C8D\",\"#218D8C\",\"#218E8C\",\"#208F8C\",\"#20908C\",\"#20918C\",\"#1F928C\",\"#1F938B\",\"#1F948B\",\"#1F958B\",\"#1F968B\",\"#1E978A\",\"#1E988A\",\"#1E998A\",\"#1E998A\",\"#1E9A89\",\"#1E9B89\",\"#1E9C89\",\"#1E9D88\",\"#1E9E88\",\"#1E9F88\",\"#1EA087\",\"#1FA187\",\"#1FA286\",\"#1FA386\",\"#20A485\",\"#20A585\",\"#21A685\",\"#21A784\",\"#22A784\",\"#23A883\",\"#23A982\",\"#24AA82\",\"#25AB81\",\"#26AC81\",\"#27AD80\",\"#28AE7F\",\"#29AF7F\",\"#2AB07E\",\"#2BB17D\",\"#2CB17D\",\"#2EB27C\",\"#2FB37B\",\"#30B47A\",\"#32B57A\",\"#33B679\",\"#35B778\",\"#36B877\",\"#38B976\",\"#39B976\",\"#3BBA75\",\"#3DBB74\",\"#3EBC73\",\"#40BD72\",\"#42BE71\",\"#44BE70\",\"#45BF6F\",\"#47C06E\",\"#49C16D\",\"#4BC26C\",\"#4DC26B\",\"#4FC369\",\"#51C468\",\"#53C567\",\"#55C666\",\"#57C665\",\"#59C764\",\"#5BC862\",\"#5EC961\",\"#60C960\",\"#62CA5F\",\"#64CB5D\",\"#67CC5C\",\"#69CC5B\",\"#6BCD59\",\"#6DCE58\",\"#70CE56\",\"#72CF55\",\"#74D054\",\"#77D052\",\"#79D151\",\"#7CD24F\",\"#7ED24E\",\"#81D34C\",\"#83D34B\",\"#86D449\",\"#88D547\",\"#8BD546\",\"#8DD644\",\"#90D643\",\"#92D741\",\"#95D73F\",\"#97D83E\",\"#9AD83C\",\"#9DD93A\",\"#9FD938\",\"#A2DA37\",\"#A5DA35\",\"#A7DB33\",\"#AADB32\",\"#ADDC30\",\"#AFDC2E\",\"#B2DD2C\",\"#B5DD2B\",\"#B7DD29\",\"#BADE27\",\"#BDDE26\",\"#BFDF24\",\"#C2DF22\",\"#C5DF21\",\"#C7E01F\",\"#CAE01E\",\"#CDE01D\",\"#CFE11C\",\"#D2E11B\",\"#D4E11A\",\"#D7E219\",\"#DAE218\",\"#DCE218\",\"#DFE318\",\"#E1E318\",\"#E4E318\",\"#E7E419\",\"#E9E419\",\"#ECE41A\",\"#EEE51B\",\"#F1E51C\",\"#F3E51E\",\"#F6E61F\",\"#F8E621\",\"#FAE622\",\"#FDE724\"]},\"id\":\"1348\",\"type\":\"LinearColorMapper\"},{\"attributes\":{},\"id\":\"1419\",\"type\":\"UnionRenderers\"},{\"attributes\":{},\"id\":\"1420\",\"type\":\"Selection\"},{\"attributes\":{\"source\":{\"id\":\"1378\"}},\"id\":\"1383\",\"type\":\"CDSView\"},{\"attributes\":{\"data\":{\"index\":[0,1,2,3,4,5,6,7,8,9,10,11,12,13,14,15,16,17,18,19,20,21,22,23,24,25,26,27,28,29,30,31,32,33,34,35,36,37,38,39,40,41,42,43,44,45,46,47,48,49,50,51,52,53,54,55,56,57,58,59,60,61,62,63,64,65,66,67,68,69,70,71,72,73,74,75,76,77,78,79,80,81,82,83,84,85,86,87,88,89,90,91,92,93,94,95,96,97,98,99,100,101,102,103,104,105,106,107,108,109,110,111,112,113,114,115,116,117,118,119,120,121,122,123,124,125,126,127,128,129,130,131,132,133,134,135,136,137,138,139,140,141,142,143,144,145,146,147,148,149,150,151,152,153,154,155,156,157,158,159,160,161,162,163,164,165,166,167,168,169,170,171,172,173,174,175,176,177,178,179,180,181,182,183,184,185,186,187,188,189,190,191,192,193,194,195,196,197,198,199,200,201,202,203,204,205,206,207,208,209,210,211,212,213,214,215,216,217,218,219,220,221,222,223,224,225,226,227,228,229,230,231,232,233,234,235,236,237,238,239,240,241,242,243,244,245,246,247,248,249,250,251,252,253,254,255,256,257,258,259,260,261,262,263,264,265,266,267,268,269,270,271,272,273,274,275,276,277,278,279,280,281,282,283,284,285,286,287,288,289,290,291,292,293,294,295,296,297,298,299,300,301,302,303,304,305,306,307,308,309,310,311,312,313,314,315,316,317,318,319,320,321,322,323,324,325,326,327,328,329,330,331,332,333,334,335,336,337,338,339,340,341,342,343,344,345,346,347,348,349,350,351,352,353,354,355,356,357,358,359,360,361,362,363,364,365,366,367,368,369,370,371,372,373,374,375,376,377,378,379,380,381,382,383,384,385,386,387,388,389,390,391,392,393,394,395,396,397,398,399,400,401,402,403,404,405,406,407,408,409,410,411,412,413,414,415,416,417,418,419,420,421,422,423,424,425,426,427,428,429,430,431,432,433,434,435,436,437,438,439,440,441,442,443,444,445,446,447,448,449,450,451,452,453,454,455,456,457,458,459,460,461,462,463,464,465,466,467,468,469,470,471,472,473,474,475,476,477,478,479,480,481,482,483,484,485,486,487,488,489,490,491,492,493,494,495,496,497,498,499,500,501,502,503,504,505,506,507,508,509,510,511,512,513,514,515,516,517,518,519,520,521,522,523,524,525,526,527,528,529,530,531,532,533,534,535,536,537,538,539,540,541,542,543,544,545,546,547,548,549,550,551,552,553,554,555,556,557,558,559,560,561,562,563,564,565,566,567,568,569,570,571,572,573,574,575,576,577,578,579,580,581,582,583,584,585,586,587,588,589,590,591,592,593,594,595,596,597,598,599,600,601,602,603,604,605,606,607,608,609,610,611,612,613,614,615,616,617,618,619,620,621,622,623,624,625,626,627,628,629,630,631,632,633,634,635,636,637,638,639,640,641,642,643,644,645,646,647,648,649,650,651,652,653,654,655,656,657,658,659,660,661,662,663,664,665,666,667,668,669,670,671,672,673,674,675,676,677,678,679,680,681,682,683,684,685,686,687,688,689,690,691,692,693,694,695,696,697,698,699,700,701,702,703,704,705,706,707,708,709,710,711,712,713,714,715,716,717,718,719,720,721,722,723,724,725,726,727,728,729,730,731,732,733,734,735,736,737,738,739,740,741,742,743,744,745,746,747,748,749,750,751,752,753,754,755,756,757,758,759,760,761,762,763,764,765,766,767,768,769,770,771,772,773,774,775,776,777,778,779,780,781,782,783,784,785,786,787,788,789,790,791,792,793,794,795,796,797,798,799,800,801,802,803,804,805,806,807,808,809,810,811,812,813,814,815,816,817,818,819,820,821,822,823,824,825,826,827,828,829,830,831,832,833,834,835,836,837,838,839,840,841,842,843,844,845,846,847,848,849,850,851,852,853,854,855,856,857,858,859,860,861,862,863,864,865,866,867,868,869,870,871,872,873,874,875,876,877,878,879,880,881,882,883,884,885,886,887,888,889,890,891,892,893,894,895,896,897,898,899],\"similarity\":{\"__ndarray__\":\"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\",\"dtype\":\"float64\",\"order\":\"little\",\"shape\":[900]},\"x\":[\"\\uc81c1\\uacf5\\ud654\\uad6d\",\"\\uc81c1\\uacf5\\ud654\\uad6d\",\"\\uc81c1\\uacf5\\ud654\\uad6d\",\"\\uc81c1\\uacf5\\ud654\\uad6d\",\"\\uc81c1\\uacf5\\ud654\\uad6d\",\"\\uc81c1\\uacf5\\ud654\\uad6d\",\"\\uc81c1\\uacf5\\ud654\\uad6d\",\"\\uc81c1\\uacf5\\ud654\\uad6d\",\"\\uc81c1\\uacf5\\ud654\\uad6d\",\"\\uc81c1\\uacf5\\ud654\\uad6d\",\"\\uc81c1\\uacf5\\ud654\\uad6d\",\"\\uc81c1\\uacf5\\ud654\\uad6d\",\"\\uc81c1\\uacf5\\ud654\\uad6d\",\"\\uc81c1\\uacf5\\ud654\\uad6d\",\"\\uc81c1\\uacf5\\ud654\\uad6d\",\"\\uc81c1\\uacf5\\ud654\\uad6d\",\"\\uc81c1\\uacf5\\ud654\\uad6d\",\"\\uc81c1\\uacf5\\ud654\\uad6d\",\"\\uc81c1\\uacf5\\ud654\\uad6d\",\"\\uc81c1\\uacf5\\ud654\\uad6d\",\"\\uc81c1\\uacf5\\ud654\\uad6d\",\"\\uc81c1\\uacf5\\ud654\\uad6d\",\"\\uc81c1\\uacf5\\ud654\\uad6d\",\"\\uc81c1\\uacf5\\ud654\\uad6d\",\"\\uc81c1\\uacf5\\ud654\\uad6d\",\"\\uc81c1\\uacf5\\ud654\\uad6d\",\"\\uc81c1\\uacf5\\ud654\\uad6d\",\"\\uc81c1\\uacf5\\ud654\\uad6d\",\"\\uc81c1\\uacf5\\ud654\\uad6d\",\"\\uc81c1\\uacf5\\ud654\\uad6d\",\"\\uc0c8\\ub4dc \\ubb34\\ube44\",\"\\uc0c8\\ub4dc \\ubb34\\ube44\",\"\\uc0c8\\ub4dc \\ubb34\\ube44\",\"\\uc0c8\\ub4dc \\ubb34\\ube44\",\"\\uc0c8\\ub4dc \\ubb34\\ube44\",\"\\uc0c8\\ub4dc \\ubb34\\ube44\",\"\\uc0c8\\ub4dc \\ubb34\\ube44\",\"\\uc0c8\\ub4dc \\ubb34\\ube44\",\"\\uc0c8\\ub4dc \\ubb34\\ube44\",\"\\uc0c8\\ub4dc \\ubb34\\ube44\",\"\\uc0c8\\ub4dc \\ubb34\\ube44\",\"\\uc0c8\\ub4dc \\ubb34\\ube44\",\"\\uc0c8\\ub4dc \\ubb34\\ube44\",\"\\uc0c8\\ub4dc \\ubb34\\ube44\",\"\\uc0c8\\ub4dc \\ubb34\\ube44\",\"\\uc0c8\\ub4dc \\ubb34\\ube44\",\"\\uc0c8\\ub4dc \\ubb34\\ube44\",\"\\uc0c8\\ub4dc \\ubb34\\ube44\",\"\\uc0c8\\ub4dc \\ubb34\\ube44\",\"\\uc0c8\\ub4dc \\ubb34\\ube44\",\"\\uc0c8\\ub4dc \\ubb34\\ube44\",\"\\uc0c8\\ub4dc \\ubb34\\ube44\",\"\\uc0c8\\ub4dc \\ubb34\\ube44\",\"\\uc0c8\\ub4dc \\ubb34\\ube44\",\"\\uc0c8\\ub4dc \\ubb34\\ube44\",\"\\uc0c8\\ub4dc \\ubb34\\ube44\",\"\\uc0c8\\ub4dc \\ubb34\\ube44\",\"\\uc0c8\\ub4dc \\ubb34\\ube44\",\"\\uc0c8\\ub4dc \\ubb34\\ube44\",\"\\uc0c8\\ub4dc \\ubb34\\ube44\",\"\\uc678\\uacc4\\uc778\\uacfc \\ucf69\\ucf69 \\uac15\\uc2dc\",\"\\uc678\\uacc4\\uc778\\uacfc \\ucf69\\ucf69 \\uac15\\uc2dc\",\"\\uc678\\uacc4\\uc778\\uacfc \\ucf69\\ucf69 \\uac15\\uc2dc\",\"\\uc678\\uacc4\\uc778\\uacfc \\ucf69\\ucf69 \\uac15\\uc2dc\",\"\\uc678\\uacc4\\uc778\\uacfc \\ucf69\\ucf69 \\uac15\\uc2dc\",\"\\uc678\\uacc4\\uc778\\uacfc \\ucf69\\ucf69 \\uac15\\uc2dc\",\"\\uc678\\uacc4\\uc778\\uacfc \\ucf69\\ucf69 \\uac15\\uc2dc\",\"\\uc678\\uacc4\\uc778\\uacfc \\ucf69\\ucf69 \\uac15\\uc2dc\",\"\\uc678\\uacc4\\uc778\\uacfc \\ucf69\\ucf69 \\uac15\\uc2dc\",\"\\uc678\\uacc4\\uc778\\uacfc \\ucf69\\ucf69 \\uac15\\uc2dc\",\"\\uc678\\uacc4\\uc778\\uacfc \\ucf69\\ucf69 \\uac15\\uc2dc\",\"\\uc678\\uacc4\\uc778\\uacfc \\ucf69\\ucf69 \\uac15\\uc2dc\",\"\\uc678\\uacc4\\uc778\\uacfc \\ucf69\\ucf69 \\uac15\\uc2dc\",\"\\uc678\\uacc4\\uc778\\uacfc \\ucf69\\ucf69 \\uac15\\uc2dc\",\"\\uc678\\uacc4\\uc778\\uacfc \\ucf69\\ucf69 \\uac15\\uc2dc\",\"\\uc678\\uacc4\\uc778\\uacfc \\ucf69\\ucf69 \\uac15\\uc2dc\",\"\\uc678\\uacc4\\uc778\\uacfc \\ucf69\\ucf69 \\uac15\\uc2dc\",\"\\uc678\\uacc4\\uc778\\uacfc \\ucf69\\ucf69 \\uac15\\uc2dc\",\"\\uc678\\uacc4\\uc778\\uacfc \\ucf69\\ucf69 \\uac15\\uc2dc\",\"\\uc678\\uacc4\\uc778\\uacfc \\ucf69\\ucf69 \\uac15\\uc2dc\",\"\\uc678\\uacc4\\uc778\\uacfc \\ucf69\\ucf69 \\uac15\\uc2dc\",\"\\uc678\\uacc4\\uc778\\uacfc \\ucf69\\ucf69 \\uac15\\uc2dc\",\"\\uc678\\uacc4\\uc778\\uacfc \\ucf69\\ucf69 \\uac15\\uc2dc\",\"\\uc678\\uacc4\\uc778\\uacfc \\ucf69\\ucf69 \\uac15\\uc2dc\",\"\\uc678\\uacc4\\uc778\\uacfc \\ucf69\\ucf69 \\uac15\\uc2dc\",\"\\uc678\\uacc4\\uc778\\uacfc \\ucf69\\ucf69 \\uac15\\uc2dc\",\"\\uc678\\uacc4\\uc778\\uacfc \\ucf69\\ucf69 \\uac15\\uc2dc\",\"\\uc678\\uacc4\\uc778\\uacfc \\ucf69\\ucf69 \\uac15\\uc2dc\",\"\\uc678\\uacc4\\uc778\\uacfc \\ucf69\\ucf69 \\uac15\\uc2dc\",\"\\uc678\\uacc4\\uc778\\uacfc \\ucf69\\ucf69 \\uac15\\uc2dc\",\"\\ub354 \\ud30c\\ud06c\\ub79c\\ub4dc\",\"\\ub354 \\ud30c\\ud06c\\ub79c\\ub4dc\",\"\\ub354 \\ud30c\\ud06c\\ub79c\\ub4dc\",\"\\ub354 \\ud30c\\ud06c\\ub79c\\ub4dc\",\"\\ub354 \\ud30c\\ud06c\\ub79c\\ub4dc\",\"\\ub354 \\ud30c\\ud06c\\ub79c\\ub4dc\",\"\\ub354 \\ud30c\\ud06c\\ub79c\\ub4dc\",\"\\ub354 \\ud30c\\ud06c\\ub79c\\ub4dc\",\"\\ub354 \\ud30c\\ud06c\\ub79c\\ub4dc\",\"\\ub354 \\ud30c\\ud06c\\ub79c\\ub4dc\",\"\\ub354 \\ud30c\\ud06c\\ub79c\\ub4dc\",\"\\ub354 \\ud30c\\ud06c\\ub79c\\ub4dc\",\"\\ub354 \\ud30c\\ud06c\\ub79c\\ub4dc\",\"\\ub354 \\ud30c\\ud06c\\ub79c\\ub4dc\",\"\\ub354 \\ud30c\\ud06c\\ub79c\\ub4dc\",\"\\ub354 \\ud30c\\ud06c\\ub79c\\ub4dc\",\"\\ub354 \\ud30c\\ud06c\\ub79c\\ub4dc\",\"\\ub354 \\ud30c\\ud06c\\ub79c\\ub4dc\",\"\\ub354 \\ud30c\\ud06c\\ub79c\\ub4dc\",\"\\ub354 \\ud30c\\ud06c\\ub79c\\ub4dc\",\"\\ub354 \\ud30c\\ud06c\\ub79c\\ub4dc\",\"\\ub354 \\ud30c\\ud06c\\ub79c\\ub4dc\",\"\\ub354 \\ud30c\\ud06c\\ub79c\\ub4dc\",\"\\ub354 \\ud30c\\ud06c\\ub79c\\ub4dc\",\"\\ub354 \\ud30c\\ud06c\\ub79c\\ub4dc\",\"\\ub354 \\ud30c\\ud06c\\ub79c\\ub4dc\",\"\\ub354 \\ud30c\\ud06c\\ub79c\\ub4dc\",\"\\ub354 \\ud30c\\ud06c\\ub79c\\ub4dc\",\"\\ub354 \\ud30c\\ud06c\\ub79c\\ub4dc\",\"\\ub354 \\ud30c\\ud06c\\ub79c\\ub4dc\",\"\\ud669\\ub2f9\\ud55c \\uc678\\uacc4\\uc778: \\ud3f4\",\"\\ud669\\ub2f9\\ud55c \\uc678\\uacc4\\uc778: \\ud3f4\",\"\\ud669\\ub2f9\\ud55c \\uc678\\uacc4\\uc778: \\ud3f4\",\"\\ud669\\ub2f9\\ud55c \\uc678\\uacc4\\uc778: \\ud3f4\",\"\\ud669\\ub2f9\\ud55c \\uc678\\uacc4\\uc778: \\ud3f4\",\"\\ud669\\ub2f9\\ud55c \\uc678\\uacc4\\uc778: \\ud3f4\",\"\\ud669\\ub2f9\\ud55c \\uc678\\uacc4\\uc778: \\ud3f4\",\"\\ud669\\ub2f9\\ud55c \\uc678\\uacc4\\uc778: \\ud3f4\",\"\\ud669\\ub2f9\\ud55c \\uc678\\uacc4\\uc778: \\ud3f4\",\"\\ud669\\ub2f9\\ud55c \\uc678\\uacc4\\uc778: \\ud3f4\",\"\\ud669\\ub2f9\\ud55c \\uc678\\uacc4\\uc778: \\ud3f4\",\"\\ud669\\ub2f9\\ud55c \\uc678\\uacc4\\uc778: \\ud3f4\",\"\\ud669\\ub2f9\\ud55c \\uc678\\uacc4\\uc778: \\ud3f4\",\"\\ud669\\ub2f9\\ud55c \\uc678\\uacc4\\uc778: \\ud3f4\",\"\\ud669\\ub2f9\\ud55c \\uc678\\uacc4\\uc778: \\ud3f4\",\"\\ud669\\ub2f9\\ud55c \\uc678\\uacc4\\uc778: \\ud3f4\",\"\\ud669\\ub2f9\\ud55c \\uc678\\uacc4\\uc778: \\ud3f4\",\"\\ud669\\ub2f9\\ud55c \\uc678\\uacc4\\uc778: \\ud3f4\",\"\\ud669\\ub2f9\\ud55c \\uc678\\uacc4\\uc778: \\ud3f4\",\"\\ud669\\ub2f9\\ud55c \\uc678\\uacc4\\uc778: \\ud3f4\",\"\\ud669\\ub2f9\\ud55c \\uc678\\uacc4\\uc778: \\ud3f4\",\"\\ud669\\ub2f9\\ud55c \\uc678\\uacc4\\uc778: \\ud3f4\",\"\\ud669\\ub2f9\\ud55c \\uc678\\uacc4\\uc778: \\ud3f4\",\"\\ud669\\ub2f9\\ud55c \\uc678\\uacc4\\uc778: \\ud3f4\",\"\\ud669\\ub2f9\\ud55c \\uc678\\uacc4\\uc778: \\ud3f4\",\"\\ud669\\ub2f9\\ud55c \\uc678\\uacc4\\uc778: \\ud3f4\",\"\\ud669\\ub2f9\\ud55c \\uc678\\uacc4\\uc778: \\ud3f4\",\"\\ud669\\ub2f9\\ud55c \\uc678\\uacc4\\uc778: \\ud3f4\",\"\\ud669\\ub2f9\\ud55c \\uc678\\uacc4\\uc778: \\ud3f4\",\"\\ud669\\ub2f9\\ud55c \\uc678\\uacc4\\uc778: \\ud3f4\",\"\\uac1c\\uc2ec\\uadc0 4 - \\uac1c\\uc2ec\\uadc0 \\ub300 \\uac1c\\uc2ec\\uadc0\",\"\\uac1c\\uc2ec\\uadc0 4 - \\uac1c\\uc2ec\\uadc0 \\ub300 \\uac1c\\uc2ec\\uadc0\",\"\\uac1c\\uc2ec\\uadc0 4 - \\uac1c\\uc2ec\\uadc0 \\ub300 \\uac1c\\uc2ec\\uadc0\",\"\\uac1c\\uc2ec\\uadc0 4 - \\uac1c\\uc2ec\\uadc0 \\ub300 \\uac1c\\uc2ec\\uadc0\",\"\\uac1c\\uc2ec\\uadc0 4 - \\uac1c\\uc2ec\\uadc0 \\ub300 \\uac1c\\uc2ec\\uadc0\",\"\\uac1c\\uc2ec\\uadc0 4 - \\uac1c\\uc2ec\\uadc0 \\ub300 \\uac1c\\uc2ec\\uadc0\",\"\\uac1c\\uc2ec\\uadc0 4 - \\uac1c\\uc2ec\\uadc0 \\ub300 \\uac1c\\uc2ec\\uadc0\",\"\\uac1c\\uc2ec\\uadc0 4 - \\uac1c\\uc2ec\\uadc0 \\ub300 \\uac1c\\uc2ec\\uadc0\",\"\\uac1c\\uc2ec\\uadc0 4 - \\uac1c\\uc2ec\\uadc0 \\ub300 \\uac1c\\uc2ec\\uadc0\",\"\\uac1c\\uc2ec\\uadc0 4 - \\uac1c\\uc2ec\\uadc0 \\ub300 \\uac1c\\uc2ec\\uadc0\",\"\\uac1c\\uc2ec\\uadc0 4 - \\uac1c\\uc2ec\\uadc0 \\ub300 \\uac1c\\uc2ec\\uadc0\",\"\\uac1c\\uc2ec\\uadc0 4 - \\uac1c\\uc2ec\\uadc0 \\ub300 \\uac1c\\uc2ec\\uadc0\",\"\\uac1c\\uc2ec\\uadc0 4 - \\uac1c\\uc2ec\\uadc0 \\ub300 \\uac1c\\uc2ec\\uadc0\",\"\\uac1c\\uc2ec\\uadc0 4 - \\uac1c\\uc2ec\\uadc0 \\ub300 \\uac1c\\uc2ec\\uadc0\",\"\\uac1c\\uc2ec\\uadc0 4 - \\uac1c\\uc2ec\\uadc0 \\ub300 \\uac1c\\uc2ec\\uadc0\",\"\\uac1c\\uc2ec\\uadc0 4 - \\uac1c\\uc2ec\\uadc0 \\ub300 \\uac1c\\uc2ec\\uadc0\",\"\\uac1c\\uc2ec\\uadc0 4 - \\uac1c\\uc2ec\\uadc0 \\ub300 \\uac1c\\uc2ec\\uadc0\",\"\\uac1c\\uc2ec\\uadc0 4 - \\uac1c\\uc2ec\\uadc0 \\ub300 \\uac1c\\uc2ec\\uadc0\",\"\\uac1c\\uc2ec\\uadc0 4 - \\uac1c\\uc2ec\\uadc0 \\ub300 \\uac1c\\uc2ec\\uadc0\",\"\\uac1c\\uc2ec\\uadc0 4 - \\uac1c\\uc2ec\\uadc0 \\ub300 \\uac1c\\uc2ec\\uadc0\",\"\\uac1c\\uc2ec\\uadc0 4 - \\uac1c\\uc2ec\\uadc0 \\ub300 \\uac1c\\uc2ec\\uadc0\",\"\\uac1c\\uc2ec\\uadc0 4 - \\uac1c\\uc2ec\\uadc0 \\ub300 \\uac1c\\uc2ec\\uadc0\",\"\\uac1c\\uc2ec\\uadc0 4 - \\uac1c\\uc2ec\\uadc0 \\ub300 \\uac1c\\uc2ec\\uadc0\",\"\\uac1c\\uc2ec\\uadc0 4 - \\uac1c\\uc2ec\\uadc0 \\ub300 \\uac1c\\uc2ec\\uadc0\",\"\\uac1c\\uc2ec\\uadc0 4 - \\uac1c\\uc2ec\\uadc0 \\ub300 \\uac1c\\uc2ec\\uadc0\",\"\\uac1c\\uc2ec\\uadc0 4 - \\uac1c\\uc2ec\\uadc0 \\ub300 \\uac1c\\uc2ec\\uadc0\",\"\\uac1c\\uc2ec\\uadc0 4 - \\uac1c\\uc2ec\\uadc0 \\ub300 \\uac1c\\uc2ec\\uadc0\",\"\\uac1c\\uc2ec\\uadc0 4 - \\uac1c\\uc2ec\\uadc0 \\ub300 \\uac1c\\uc2ec\\uadc0\",\"\\uac1c\\uc2ec\\uadc0 4 - \\uac1c\\uc2ec\\uadc0 \\ub300 \\uac1c\\uc2ec\\uadc0\",\"\\uac1c\\uc2ec\\uadc0 4 - \\uac1c\\uc2ec\\uadc0 \\ub300 \\uac1c\\uc2ec\\uadc0\",\"\\uc655\\uaf43 \\uc120\\ub140\\ub2d8\",\"\\uc655\\uaf43 \\uc120\\ub140\\ub2d8\",\"\\uc655\\uaf43 \\uc120\\ub140\\ub2d8\",\"\\uc655\\uaf43 \\uc120\\ub140\\ub2d8\",\"\\uc655\\uaf43 \\uc120\\ub140\\ub2d8\",\"\\uc655\\uaf43 \\uc120\\ub140\\ub2d8\",\"\\uc655\\uaf43 \\uc120\\ub140\\ub2d8\",\"\\uc655\\uaf43 \\uc120\\ub140\\ub2d8\",\"\\uc655\\uaf43 \\uc120\\ub140\\ub2d8\",\"\\uc655\\uaf43 \\uc120\\ub140\\ub2d8\",\"\\uc655\\uaf43 \\uc120\\ub140\\ub2d8\",\"\\uc655\\uaf43 \\uc120\\ub140\\ub2d8\",\"\\uc655\\uaf43 \\uc120\\ub140\\ub2d8\",\"\\uc655\\uaf43 \\uc120\\ub140\\ub2d8\",\"\\uc655\\uaf43 \\uc120\\ub140\\ub2d8\",\"\\uc655\\uaf43 \\uc120\\ub140\\ub2d8\",\"\\uc655\\uaf43 \\uc120\\ub140\\ub2d8\",\"\\uc655\\uaf43 \\uc120\\ub140\\ub2d8\",\"\\uc655\\uaf43 \\uc120\\ub140\\ub2d8\",\"\\uc655\\uaf43 \\uc120\\ub140\\ub2d8\",\"\\uc655\\uaf43 \\uc120\\ub140\\ub2d8\",\"\\uc655\\uaf43 \\uc120\\ub140\\ub2d8\",\"\\uc655\\uaf43 \\uc120\\ub140\\ub2d8\",\"\\uc655\\uaf43 \\uc120\\ub140\\ub2d8\",\"\\uc655\\uaf43 \\uc120\\ub140\\ub2d8\",\"\\uc655\\uaf43 \\uc120\\ub140\\ub2d8\",\"\\uc655\\uaf43 \\uc120\\ub140\\ub2d8\",\"\\uc655\\uaf43 \\uc120\\ub140\\ub2d8\",\"\\uc655\\uaf43 \\uc120\\ub140\\ub2d8\",\"\\uc655\\uaf43 \\uc120\\ub140\\ub2d8\",\"\\ud22c\\uce85\\uc2a4 \\uc778 \\ud30c\\ub9ac\",\"\\ud22c\\uce85\\uc2a4 \\uc778 \\ud30c\\ub9ac\",\"\\ud22c\\uce85\\uc2a4 \\uc778 \\ud30c\\ub9ac\",\"\\ud22c\\uce85\\uc2a4 \\uc778 \\ud30c\\ub9ac\",\"\\ud22c\\uce85\\uc2a4 \\uc778 \\ud30c\\ub9ac\",\"\\ud22c\\uce85\\uc2a4 \\uc778 \\ud30c\\ub9ac\",\"\\ud22c\\uce85\\uc2a4 \\uc778 \\ud30c\\ub9ac\",\"\\ud22c\\uce85\\uc2a4 \\uc778 \\ud30c\\ub9ac\",\"\\ud22c\\uce85\\uc2a4 \\uc778 \\ud30c\\ub9ac\",\"\\ud22c\\uce85\\uc2a4 \\uc778 \\ud30c\\ub9ac\",\"\\ud22c\\uce85\\uc2a4 \\uc778 \\ud30c\\ub9ac\",\"\\ud22c\\uce85\\uc2a4 \\uc778 \\ud30c\\ub9ac\",\"\\ud22c\\uce85\\uc2a4 \\uc778 \\ud30c\\ub9ac\",\"\\ud22c\\uce85\\uc2a4 \\uc778 \\ud30c\\ub9ac\",\"\\ud22c\\uce85\\uc2a4 \\uc778 \\ud30c\\ub9ac\",\"\\ud22c\\uce85\\uc2a4 \\uc778 \\ud30c\\ub9ac\",\"\\ud22c\\uce85\\uc2a4 \\uc778 \\ud30c\\ub9ac\",\"\\ud22c\\uce85\\uc2a4 \\uc778 \\ud30c\\ub9ac\",\"\\ud22c\\uce85\\uc2a4 \\uc778 \\ud30c\\ub9ac\",\"\\ud22c\\uce85\\uc2a4 \\uc778 \\ud30c\\ub9ac\",\"\\ud22c\\uce85\\uc2a4 \\uc778 \\ud30c\\ub9ac\",\"\\ud22c\\uce85\\uc2a4 \\uc778 \\ud30c\\ub9ac\",\"\\ud22c\\uce85\\uc2a4 \\uc778 \\ud30c\\ub9ac\",\"\\ud22c\\uce85\\uc2a4 \\uc778 \\ud30c\\ub9ac\",\"\\ud22c\\uce85\\uc2a4 \\uc778 \\ud30c\\ub9ac\",\"\\ud22c\\uce85\\uc2a4 \\uc778 \\ud30c\\ub9ac\",\"\\ud22c\\uce85\\uc2a4 \\uc778 \\ud30c\\ub9ac\",\"\\ud22c\\uce85\\uc2a4 \\uc778 \\ud30c\\ub9ac\",\"\\ud22c\\uce85\\uc2a4 \\uc778 \\ud30c\\ub9ac\",\"\\ud22c\\uce85\\uc2a4 \\uc778 \\ud30c\\ub9ac\",\"\\uba54\\ub780\\ud0c0\\uc6b0\",\"\\uba54\\ub780\\ud0c0\\uc6b0\",\"\\uba54\\ub780\\ud0c0\\uc6b0\",\"\\uba54\\ub780\\ud0c0\\uc6b0\",\"\\uba54\\ub780\\ud0c0\\uc6b0\",\"\\uba54\\ub780\\ud0c0\\uc6b0\",\"\\uba54\\ub780\\ud0c0\\uc6b0\",\"\\uba54\\ub780\\ud0c0\\uc6b0\",\"\\uba54\\ub780\\ud0c0\\uc6b0\",\"\\uba54\\ub780\\ud0c0\\uc6b0\",\"\\uba54\\ub780\\ud0c0\\uc6b0\",\"\\uba54\\ub780\\ud0c0\\uc6b0\",\"\\uba54\\ub780\\ud0c0\\uc6b0\",\"\\uba54\\ub780\\ud0c0\\uc6b0\",\"\\uba54\\ub780\\ud0c0\\uc6b0\",\"\\uba54\\ub780\\ud0c0\\uc6b0\",\"\\uba54\\ub780\\ud0c0\\uc6b0\",\"\\uba54\\ub780\\ud0c0\\uc6b0\",\"\\uba54\\ub780\\ud0c0\\uc6b0\",\"\\uba54\\ub780\\ud0c0\\uc6b0\",\"\\uba54\\ub780\\ud0c0\\uc6b0\",\"\\uba54\\ub780\\ud0c0\\uc6b0\",\"\\uba54\\ub780\\ud0c0\\uc6b0\",\"\\uba54\\ub780\\ud0c0\\uc6b0\",\"\\uba54\\ub780\\ud0c0\\uc6b0\",\"\\uba54\\ub780\\ud0c0\\uc6b0\",\"\\uba54\\ub780\\ud0c0\\uc6b0\",\"\\uba54\\ub780\\ud0c0\\uc6b0\",\"\\uba54\\ub780\\ud0c0\\uc6b0\",\"\\uba54\\ub780\\ud0c0\\uc6b0\",\"\\uc368\\ub4dc \\uc2a4\\ud0c0\",\"\\uc368\\ub4dc \\uc2a4\\ud0c0\",\"\\uc368\\ub4dc \\uc2a4\\ud0c0\",\"\\uc368\\ub4dc \\uc2a4\\ud0c0\",\"\\uc368\\ub4dc \\uc2a4\\ud0c0\",\"\\uc368\\ub4dc \\uc2a4\\ud0c0\",\"\\uc368\\ub4dc \\uc2a4\\ud0c0\",\"\\uc368\\ub4dc \\uc2a4\\ud0c0\",\"\\uc368\\ub4dc \\uc2a4\\ud0c0\",\"\\uc368\\ub4dc \\uc2a4\\ud0c0\",\"\\uc368\\ub4dc \\uc2a4\\ud0c0\",\"\\uc368\\ub4dc \\uc2a4\\ud0c0\",\"\\uc368\\ub4dc \\uc2a4\\ud0c0\",\"\\uc368\\ub4dc \\uc2a4\\ud0c0\",\"\\uc368\\ub4dc \\uc2a4\\ud0c0\",\"\\uc368\\ub4dc \\uc2a4\\ud0c0\",\"\\uc368\\ub4dc \\uc2a4\\ud0c0\",\"\\uc368\\ub4dc \\uc2a4\\ud0c0\",\"\\uc368\\ub4dc \\uc2a4\\ud0c0\",\"\\uc368\\ub4dc \\uc2a4\\ud0c0\",\"\\uc368\\ub4dc \\uc2a4\\ud0c0\",\"\\uc368\\ub4dc \\uc2a4\\ud0c0\",\"\\uc368\\ub4dc \\uc2a4\\ud0c0\",\"\\uc368\\ub4dc \\uc2a4\\ud0c0\",\"\\uc368\\ub4dc \\uc2a4\\ud0c0\",\"\\uc368\\ub4dc \\uc2a4\\ud0c0\",\"\\uc368\\ub4dc \\uc2a4\\ud0c0\",\"\\uc368\\ub4dc \\uc2a4\\ud0c0\",\"\\uc368\\ub4dc \\uc2a4\\ud0c0\",\"\\uc368\\ub4dc \\uc2a4\\ud0c0\",\"\\ud669\\uc81c\\ub97c \\uc704\\ud558\\uc5ec\",\"\\ud669\\uc81c\\ub97c \\uc704\\ud558\\uc5ec\",\"\\ud669\\uc81c\\ub97c \\uc704\\ud558\\uc5ec\",\"\\ud669\\uc81c\\ub97c \\uc704\\ud558\\uc5ec\",\"\\ud669\\uc81c\\ub97c \\uc704\\ud558\\uc5ec\",\"\\ud669\\uc81c\\ub97c \\uc704\\ud558\\uc5ec\",\"\\ud669\\uc81c\\ub97c \\uc704\\ud558\\uc5ec\",\"\\ud669\\uc81c\\ub97c \\uc704\\ud558\\uc5ec\",\"\\ud669\\uc81c\\ub97c \\uc704\\ud558\\uc5ec\",\"\\ud669\\uc81c\\ub97c \\uc704\\ud558\\uc5ec\",\"\\ud669\\uc81c\\ub97c \\uc704\\ud558\\uc5ec\",\"\\ud669\\uc81c\\ub97c \\uc704\\ud558\\uc5ec\",\"\\ud669\\uc81c\\ub97c \\uc704\\ud558\\uc5ec\",\"\\ud669\\uc81c\\ub97c \\uc704\\ud558\\uc5ec\",\"\\ud669\\uc81c\\ub97c \\uc704\\ud558\\uc5ec\",\"\\ud669\\uc81c\\ub97c \\uc704\\ud558\\uc5ec\",\"\\ud669\\uc81c\\ub97c \\uc704\\ud558\\uc5ec\",\"\\ud669\\uc81c\\ub97c \\uc704\\ud558\\uc5ec\",\"\\ud669\\uc81c\\ub97c \\uc704\\ud558\\uc5ec\",\"\\ud669\\uc81c\\ub97c \\uc704\\ud558\\uc5ec\",\"\\ud669\\uc81c\\ub97c \\uc704\\ud558\\uc5ec\",\"\\ud669\\uc81c\\ub97c \\uc704\\ud558\\uc5ec\",\"\\ud669\\uc81c\\ub97c \\uc704\\ud558\\uc5ec\",\"\\ud669\\uc81c\\ub97c \\uc704\\ud558\\uc5ec\",\"\\ud669\\uc81c\\ub97c \\uc704\\ud558\\uc5ec\",\"\\ud669\\uc81c\\ub97c \\uc704\\ud558\\uc5ec\",\"\\ud669\\uc81c\\ub97c \\uc704\\ud558\\uc5ec\",\"\\ud669\\uc81c\\ub97c \\uc704\\ud558\\uc5ec\",\"\\ud669\\uc81c\\ub97c \\uc704\\ud558\\uc5ec\",\"\\ud669\\uc81c\\ub97c \\uc704\\ud558\\uc5ec\",\"\\ud30c\\uc6cc \\ud0b9\",\"\\ud30c\\uc6cc \\ud0b9\",\"\\ud30c\\uc6cc \\ud0b9\",\"\\ud30c\\uc6cc \\ud0b9\",\"\\ud30c\\uc6cc \\ud0b9\",\"\\ud30c\\uc6cc \\ud0b9\",\"\\ud30c\\uc6cc \\ud0b9\",\"\\ud30c\\uc6cc \\ud0b9\",\"\\ud30c\\uc6cc \\ud0b9\",\"\\ud30c\\uc6cc \\ud0b9\",\"\\ud30c\\uc6cc \\ud0b9\",\"\\ud30c\\uc6cc \\ud0b9\",\"\\ud30c\\uc6cc \\ud0b9\",\"\\ud30c\\uc6cc \\ud0b9\",\"\\ud30c\\uc6cc \\ud0b9\",\"\\ud30c\\uc6cc \\ud0b9\",\"\\ud30c\\uc6cc \\ud0b9\",\"\\ud30c\\uc6cc \\ud0b9\",\"\\ud30c\\uc6cc \\ud0b9\",\"\\ud30c\\uc6cc \\ud0b9\",\"\\ud30c\\uc6cc \\ud0b9\",\"\\ud30c\\uc6cc \\ud0b9\",\"\\ud30c\\uc6cc \\ud0b9\",\"\\ud30c\\uc6cc \\ud0b9\",\"\\ud30c\\uc6cc \\ud0b9\",\"\\ud30c\\uc6cc \\ud0b9\",\"\\ud30c\\uc6cc \\ud0b9\",\"\\ud30c\\uc6cc \\ud0b9\",\"\\ud30c\\uc6cc \\ud0b9\",\"\\ud30c\\uc6cc \\ud0b9\",\"\\ud30c\\ub77c\\ub2e4\\uc774\\uc2a4 \\ub7ec\\ube0c\",\"\\ud30c\\ub77c\\ub2e4\\uc774\\uc2a4 \\ub7ec\\ube0c\",\"\\ud30c\\ub77c\\ub2e4\\uc774\\uc2a4 \\ub7ec\\ube0c\",\"\\ud30c\\ub77c\\ub2e4\\uc774\\uc2a4 \\ub7ec\\ube0c\",\"\\ud30c\\ub77c\\ub2e4\\uc774\\uc2a4 \\ub7ec\\ube0c\",\"\\ud30c\\ub77c\\ub2e4\\uc774\\uc2a4 \\ub7ec\\ube0c\",\"\\ud30c\\ub77c\\ub2e4\\uc774\\uc2a4 \\ub7ec\\ube0c\",\"\\ud30c\\ub77c\\ub2e4\\uc774\\uc2a4 \\ub7ec\\ube0c\",\"\\ud30c\\ub77c\\ub2e4\\uc774\\uc2a4 \\ub7ec\\ube0c\",\"\\ud30c\\ub77c\\ub2e4\\uc774\\uc2a4 \\ub7ec\\ube0c\",\"\\ud30c\\ub77c\\ub2e4\\uc774\\uc2a4 \\ub7ec\\ube0c\",\"\\ud30c\\ub77c\\ub2e4\\uc774\\uc2a4 \\ub7ec\\ube0c\",\"\\ud30c\\ub77c\\ub2e4\\uc774\\uc2a4 \\ub7ec\\ube0c\",\"\\ud30c\\ub77c\\ub2e4\\uc774\\uc2a4 \\ub7ec\\ube0c\",\"\\ud30c\\ub77c\\ub2e4\\uc774\\uc2a4 \\ub7ec\\ube0c\",\"\\ud30c\\ub77c\\ub2e4\\uc774\\uc2a4 \\ub7ec\\ube0c\",\"\\ud30c\\ub77c\\ub2e4\\uc774\\uc2a4 \\ub7ec\\ube0c\",\"\\ud30c\\ub77c\\ub2e4\\uc774\\uc2a4 \\ub7ec\\ube0c\",\"\\ud30c\\ub77c\\ub2e4\\uc774\\uc2a4 \\ub7ec\\ube0c\",\"\\ud30c\\ub77c\\ub2e4\\uc774\\uc2a4 \\ub7ec\\ube0c\",\"\\ud30c\\ub77c\\ub2e4\\uc774\\uc2a4 \\ub7ec\\ube0c\",\"\\ud30c\\ub77c\\ub2e4\\uc774\\uc2a4 \\ub7ec\\ube0c\",\"\\ud30c\\ub77c\\ub2e4\\uc774\\uc2a4 \\ub7ec\\ube0c\",\"\\ud30c\\ub77c\\ub2e4\\uc774\\uc2a4 \\ub7ec\\ube0c\",\"\\ud30c\\ub77c\\ub2e4\\uc774\\uc2a4 \\ub7ec\\ube0c\",\"\\ud30c\\ub77c\\ub2e4\\uc774\\uc2a4 \\ub7ec\\ube0c\",\"\\ud30c\\ub77c\\ub2e4\\uc774\\uc2a4 \\ub7ec\\ube0c\",\"\\ud30c\\ub77c\\ub2e4\\uc774\\uc2a4 \\ub7ec\\ube0c\",\"\\ud30c\\ub77c\\ub2e4\\uc774\\uc2a4 \\ub7ec\\ube0c\",\"\\ud30c\\ub77c\\ub2e4\\uc774\\uc2a4 \\ub7ec\\ube0c\",\"\\uc601\\uad6c\\uc640 \\ud761\\ud608\\uadc0 \\ub4dc\\ub77c\\ud050\\ub77c\",\"\\uc601\\uad6c\\uc640 \\ud761\\ud608\\uadc0 \\ub4dc\\ub77c\\ud050\\ub77c\",\"\\uc601\\uad6c\\uc640 \\ud761\\ud608\\uadc0 \\ub4dc\\ub77c\\ud050\\ub77c\",\"\\uc601\\uad6c\\uc640 \\ud761\\ud608\\uadc0 \\ub4dc\\ub77c\\ud050\\ub77c\",\"\\uc601\\uad6c\\uc640 \\ud761\\ud608\\uadc0 \\ub4dc\\ub77c\\ud050\\ub77c\",\"\\uc601\\uad6c\\uc640 \\ud761\\ud608\\uadc0 \\ub4dc\\ub77c\\ud050\\ub77c\",\"\\uc601\\uad6c\\uc640 \\ud761\\ud608\\uadc0 \\ub4dc\\ub77c\\ud050\\ub77c\",\"\\uc601\\uad6c\\uc640 \\ud761\\ud608\\uadc0 \\ub4dc\\ub77c\\ud050\\ub77c\",\"\\uc601\\uad6c\\uc640 \\ud761\\ud608\\uadc0 \\ub4dc\\ub77c\\ud050\\ub77c\",\"\\uc601\\uad6c\\uc640 \\ud761\\ud608\\uadc0 \\ub4dc\\ub77c\\ud050\\ub77c\",\"\\uc601\\uad6c\\uc640 \\ud761\\ud608\\uadc0 \\ub4dc\\ub77c\\ud050\\ub77c\",\"\\uc601\\uad6c\\uc640 \\ud761\\ud608\\uadc0 \\ub4dc\\ub77c\\ud050\\ub77c\",\"\\uc601\\uad6c\\uc640 \\ud761\\ud608\\uadc0 \\ub4dc\\ub77c\\ud050\\ub77c\",\"\\uc601\\uad6c\\uc640 \\ud761\\ud608\\uadc0 \\ub4dc\\ub77c\\ud050\\ub77c\",\"\\uc601\\uad6c\\uc640 \\ud761\\ud608\\uadc0 \\ub4dc\\ub77c\\ud050\\ub77c\",\"\\uc601\\uad6c\\uc640 \\ud761\\ud608\\uadc0 \\ub4dc\\ub77c\\ud050\\ub77c\",\"\\uc601\\uad6c\\uc640 \\ud761\\ud608\\uadc0 \\ub4dc\\ub77c\\ud050\\ub77c\",\"\\uc601\\uad6c\\uc640 \\ud761\\ud608\\uadc0 \\ub4dc\\ub77c\\ud050\\ub77c\",\"\\uc601\\uad6c\\uc640 \\ud761\\ud608\\uadc0 \\ub4dc\\ub77c\\ud050\\ub77c\",\"\\uc601\\uad6c\\uc640 \\ud761\\ud608\\uadc0 \\ub4dc\\ub77c\\ud050\\ub77c\",\"\\uc601\\uad6c\\uc640 \\ud761\\ud608\\uadc0 \\ub4dc\\ub77c\\ud050\\ub77c\",\"\\uc601\\uad6c\\uc640 \\ud761\\ud608\\uadc0 \\ub4dc\\ub77c\\ud050\\ub77c\",\"\\uc601\\uad6c\\uc640 \\ud761\\ud608\\uadc0 \\ub4dc\\ub77c\\ud050\\ub77c\",\"\\uc601\\uad6c\\uc640 \\ud761\\ud608\\uadc0 \\ub4dc\\ub77c\\ud050\\ub77c\",\"\\uc601\\uad6c\\uc640 \\ud761\\ud608\\uadc0 \\ub4dc\\ub77c\\ud050\\ub77c\",\"\\uc601\\uad6c\\uc640 \\ud761\\ud608\\uadc0 \\ub4dc\\ub77c\\ud050\\ub77c\",\"\\uc601\\uad6c\\uc640 \\ud761\\ud608\\uadc0 \\ub4dc\\ub77c\\ud050\\ub77c\",\"\\uc601\\uad6c\\uc640 \\ud761\\ud608\\uadc0 \\ub4dc\\ub77c\\ud050\\ub77c\",\"\\uc601\\uad6c\\uc640 \\ud761\\ud608\\uadc0 \\ub4dc\\ub77c\\ud050\\ub77c\",\"\\uc601\\uad6c\\uc640 \\ud761\\ud608\\uadc0 \\ub4dc\\ub77c\\ud050\\ub77c\",\"\\ub85c\\uc2a4\\ud2b8 \\ud558\\uc774\\uc6e8\\uc774\",\"\\ub85c\\uc2a4\\ud2b8 \\ud558\\uc774\\uc6e8\\uc774\",\"\\ub85c\\uc2a4\\ud2b8 \\ud558\\uc774\\uc6e8\\uc774\",\"\\ub85c\\uc2a4\\ud2b8 \\ud558\\uc774\\uc6e8\\uc774\",\"\\ub85c\\uc2a4\\ud2b8 \\ud558\\uc774\\uc6e8\\uc774\",\"\\ub85c\\uc2a4\\ud2b8 \\ud558\\uc774\\uc6e8\\uc774\",\"\\ub85c\\uc2a4\\ud2b8 \\ud558\\uc774\\uc6e8\\uc774\",\"\\ub85c\\uc2a4\\ud2b8 \\ud558\\uc774\\uc6e8\\uc774\",\"\\ub85c\\uc2a4\\ud2b8 \\ud558\\uc774\\uc6e8\\uc774\",\"\\ub85c\\uc2a4\\ud2b8 \\ud558\\uc774\\uc6e8\\uc774\",\"\\ub85c\\uc2a4\\ud2b8 \\ud558\\uc774\\uc6e8\\uc774\",\"\\ub85c\\uc2a4\\ud2b8 \\ud558\\uc774\\uc6e8\\uc774\",\"\\ub85c\\uc2a4\\ud2b8 \\ud558\\uc774\\uc6e8\\uc774\",\"\\ub85c\\uc2a4\\ud2b8 \\ud558\\uc774\\uc6e8\\uc774\",\"\\ub85c\\uc2a4\\ud2b8 \\ud558\\uc774\\uc6e8\\uc774\",\"\\ub85c\\uc2a4\\ud2b8 \\ud558\\uc774\\uc6e8\\uc774\",\"\\ub85c\\uc2a4\\ud2b8 \\ud558\\uc774\\uc6e8\\uc774\",\"\\ub85c\\uc2a4\\ud2b8 \\ud558\\uc774\\uc6e8\\uc774\",\"\\ub85c\\uc2a4\\ud2b8 \\ud558\\uc774\\uc6e8\\uc774\",\"\\ub85c\\uc2a4\\ud2b8 \\ud558\\uc774\\uc6e8\\uc774\",\"\\ub85c\\uc2a4\\ud2b8 \\ud558\\uc774\\uc6e8\\uc774\",\"\\ub85c\\uc2a4\\ud2b8 \\ud558\\uc774\\uc6e8\\uc774\",\"\\ub85c\\uc2a4\\ud2b8 \\ud558\\uc774\\uc6e8\\uc774\",\"\\ub85c\\uc2a4\\ud2b8 \\ud558\\uc774\\uc6e8\\uc774\",\"\\ub85c\\uc2a4\\ud2b8 \\ud558\\uc774\\uc6e8\\uc774\",\"\\ub85c\\uc2a4\\ud2b8 \\ud558\\uc774\\uc6e8\\uc774\",\"\\ub85c\\uc2a4\\ud2b8 \\ud558\\uc774\\uc6e8\\uc774\",\"\\ub85c\\uc2a4\\ud2b8 \\ud558\\uc774\\uc6e8\\uc774\",\"\\ub85c\\uc2a4\\ud2b8 \\ud558\\uc774\\uc6e8\\uc774\",\"\\ub85c\\uc2a4\\ud2b8 \\ud558\\uc774\\uc6e8\\uc774\",\"\\ub9e4\\ud29c \\ubcf8\\uc758 \\ubc31\\uc870\\uc758 \\ud638\\uc218 3D\",\"\\ub9e4\\ud29c \\ubcf8\\uc758 \\ubc31\\uc870\\uc758 \\ud638\\uc218 3D\",\"\\ub9e4\\ud29c \\ubcf8\\uc758 \\ubc31\\uc870\\uc758 \\ud638\\uc218 3D\",\"\\ub9e4\\ud29c \\ubcf8\\uc758 \\ubc31\\uc870\\uc758 \\ud638\\uc218 3D\",\"\\ub9e4\\ud29c \\ubcf8\\uc758 \\ubc31\\uc870\\uc758 \\ud638\\uc218 3D\",\"\\ub9e4\\ud29c \\ubcf8\\uc758 \\ubc31\\uc870\\uc758 \\ud638\\uc218 3D\",\"\\ub9e4\\ud29c \\ubcf8\\uc758 \\ubc31\\uc870\\uc758 \\ud638\\uc218 3D\",\"\\ub9e4\\ud29c \\ubcf8\\uc758 \\ubc31\\uc870\\uc758 \\ud638\\uc218 3D\",\"\\ub9e4\\ud29c \\ubcf8\\uc758 \\ubc31\\uc870\\uc758 \\ud638\\uc218 3D\",\"\\ub9e4\\ud29c \\ubcf8\\uc758 \\ubc31\\uc870\\uc758 \\ud638\\uc218 3D\",\"\\ub9e4\\ud29c \\ubcf8\\uc758 \\ubc31\\uc870\\uc758 \\ud638\\uc218 3D\",\"\\ub9e4\\ud29c \\ubcf8\\uc758 \\ubc31\\uc870\\uc758 \\ud638\\uc218 3D\",\"\\ub9e4\\ud29c \\ubcf8\\uc758 \\ubc31\\uc870\\uc758 \\ud638\\uc218 3D\",\"\\ub9e4\\ud29c \\ubcf8\\uc758 \\ubc31\\uc870\\uc758 \\ud638\\uc218 3D\",\"\\ub9e4\\ud29c \\ubcf8\\uc758 \\ubc31\\uc870\\uc758 \\ud638\\uc218 3D\",\"\\ub9e4\\ud29c \\ubcf8\\uc758 \\ubc31\\uc870\\uc758 \\ud638\\uc218 3D\",\"\\ub9e4\\ud29c \\ubcf8\\uc758 \\ubc31\\uc870\\uc758 \\ud638\\uc218 3D\",\"\\ub9e4\\ud29c \\ubcf8\\uc758 \\ubc31\\uc870\\uc758 \\ud638\\uc218 3D\",\"\\ub9e4\\ud29c \\ubcf8\\uc758 \\ubc31\\uc870\\uc758 \\ud638\\uc218 3D\",\"\\ub9e4\\ud29c \\ubcf8\\uc758 \\ubc31\\uc870\\uc758 \\ud638\\uc218 3D\",\"\\ub9e4\\ud29c \\ubcf8\\uc758 \\ubc31\\uc870\\uc758 \\ud638\\uc218 3D\",\"\\ub9e4\\ud29c \\ubcf8\\uc758 \\ubc31\\uc870\\uc758 \\ud638\\uc218 3D\",\"\\ub9e4\\ud29c \\ubcf8\\uc758 \\ubc31\\uc870\\uc758 \\ud638\\uc218 3D\",\"\\ub9e4\\ud29c \\ubcf8\\uc758 \\ubc31\\uc870\\uc758 \\ud638\\uc218 3D\",\"\\ub9e4\\ud29c \\ubcf8\\uc758 \\ubc31\\uc870\\uc758 \\ud638\\uc218 3D\",\"\\ub9e4\\ud29c \\ubcf8\\uc758 \\ubc31\\uc870\\uc758 \\ud638\\uc218 3D\",\"\\ub9e4\\ud29c \\ubcf8\\uc758 \\ubc31\\uc870\\uc758 \\ud638\\uc218 3D\",\"\\ub9e4\\ud29c \\ubcf8\\uc758 \\ubc31\\uc870\\uc758 \\ud638\\uc218 3D\",\"\\ub9e4\\ud29c \\ubcf8\\uc758 \\ubc31\\uc870\\uc758 \\ud638\\uc218 3D\",\"\\ub9e4\\ud29c \\ubcf8\\uc758 \\ubc31\\uc870\\uc758 \\ud638\\uc218 3D\",\"\\ub808\\ub4dc \\ucf54\\ub108\",\"\\ub808\\ub4dc \\ucf54\\ub108\",\"\\ub808\\ub4dc \\ucf54\\ub108\",\"\\ub808\\ub4dc \\ucf54\\ub108\",\"\\ub808\\ub4dc \\ucf54\\ub108\",\"\\ub808\\ub4dc \\ucf54\\ub108\",\"\\ub808\\ub4dc \\ucf54\\ub108\",\"\\ub808\\ub4dc \\ucf54\\ub108\",\"\\ub808\\ub4dc \\ucf54\\ub108\",\"\\ub808\\ub4dc \\ucf54\\ub108\",\"\\ub808\\ub4dc \\ucf54\\ub108\",\"\\ub808\\ub4dc \\ucf54\\ub108\",\"\\ub808\\ub4dc \\ucf54\\ub108\",\"\\ub808\\ub4dc \\ucf54\\ub108\",\"\\ub808\\ub4dc \\ucf54\\ub108\",\"\\ub808\\ub4dc \\ucf54\\ub108\",\"\\ub808\\ub4dc \\ucf54\\ub108\",\"\\ub808\\ub4dc \\ucf54\\ub108\",\"\\ub808\\ub4dc \\ucf54\\ub108\",\"\\ub808\\ub4dc \\ucf54\\ub108\",\"\\ub808\\ub4dc \\ucf54\\ub108\",\"\\ub808\\ub4dc \\ucf54\\ub108\",\"\\ub808\\ub4dc \\ucf54\\ub108\",\"\\ub808\\ub4dc \\ucf54\\ub108\",\"\\ub808\\ub4dc \\ucf54\\ub108\",\"\\ub808\\ub4dc \\ucf54\\ub108\",\"\\ub808\\ub4dc \\ucf54\\ub108\",\"\\ub808\\ub4dc \\ucf54\\ub108\",\"\\ub808\\ub4dc \\ucf54\\ub108\",\"\\ub808\\ub4dc \\ucf54\\ub108\",\"\\ub5a1\",\"\\ub5a1\",\"\\ub5a1\",\"\\ub5a1\",\"\\ub5a1\",\"\\ub5a1\",\"\\ub5a1\",\"\\ub5a1\",\"\\ub5a1\",\"\\ub5a1\",\"\\ub5a1\",\"\\ub5a1\",\"\\ub5a1\",\"\\ub5a1\",\"\\ub5a1\",\"\\ub5a1\",\"\\ub5a1\",\"\\ub5a1\",\"\\ub5a1\",\"\\ub5a1\",\"\\ub5a1\",\"\\ub5a1\",\"\\ub5a1\",\"\\ub5a1\",\"\\ub5a1\",\"\\ub5a1\",\"\\ub5a1\",\"\\ub5a1\",\"\\ub5a1\",\"\\ub5a1\",\"\\ub2e4 \\ud070 \\uc5ec\\uc790\\ub4e4\",\"\\ub2e4 \\ud070 \\uc5ec\\uc790\\ub4e4\",\"\\ub2e4 \\ud070 \\uc5ec\\uc790\\ub4e4\",\"\\ub2e4 \\ud070 \\uc5ec\\uc790\\ub4e4\",\"\\ub2e4 \\ud070 \\uc5ec\\uc790\\ub4e4\",\"\\ub2e4 \\ud070 \\uc5ec\\uc790\\ub4e4\",\"\\ub2e4 \\ud070 \\uc5ec\\uc790\\ub4e4\",\"\\ub2e4 \\ud070 \\uc5ec\\uc790\\ub4e4\",\"\\ub2e4 \\ud070 \\uc5ec\\uc790\\ub4e4\",\"\\ub2e4 \\ud070 \\uc5ec\\uc790\\ub4e4\",\"\\ub2e4 \\ud070 \\uc5ec\\uc790\\ub4e4\",\"\\ub2e4 \\ud070 \\uc5ec\\uc790\\ub4e4\",\"\\ub2e4 \\ud070 \\uc5ec\\uc790\\ub4e4\",\"\\ub2e4 \\ud070 \\uc5ec\\uc790\\ub4e4\",\"\\ub2e4 \\ud070 \\uc5ec\\uc790\\ub4e4\",\"\\ub2e4 \\ud070 \\uc5ec\\uc790\\ub4e4\",\"\\ub2e4 \\ud070 \\uc5ec\\uc790\\ub4e4\",\"\\ub2e4 \\ud070 \\uc5ec\\uc790\\ub4e4\",\"\\ub2e4 \\ud070 \\uc5ec\\uc790\\ub4e4\",\"\\ub2e4 \\ud070 \\uc5ec\\uc790\\ub4e4\",\"\\ub2e4 \\ud070 \\uc5ec\\uc790\\ub4e4\",\"\\ub2e4 \\ud070 \\uc5ec\\uc790\\ub4e4\",\"\\ub2e4 \\ud070 \\uc5ec\\uc790\\ub4e4\",\"\\ub2e4 \\ud070 \\uc5ec\\uc790\\ub4e4\",\"\\ub2e4 \\ud070 \\uc5ec\\uc790\\ub4e4\",\"\\ub2e4 \\ud070 \\uc5ec\\uc790\\ub4e4\",\"\\ub2e4 \\ud070 \\uc5ec\\uc790\\ub4e4\",\"\\ub2e4 \\ud070 \\uc5ec\\uc790\\ub4e4\",\"\\ub2e4 \\ud070 \\uc5ec\\uc790\\ub4e4\",\"\\ub2e4 \\ud070 \\uc5ec\\uc790\\ub4e4\",\"\\uc0bc\\uad6d\\uc9c0 - \\uc6a9\\uc758 \\ubd80\\ud65c\",\"\\uc0bc\\uad6d\\uc9c0 - \\uc6a9\\uc758 \\ubd80\\ud65c\",\"\\uc0bc\\uad6d\\uc9c0 - \\uc6a9\\uc758 \\ubd80\\ud65c\",\"\\uc0bc\\uad6d\\uc9c0 - \\uc6a9\\uc758 \\ubd80\\ud65c\",\"\\uc0bc\\uad6d\\uc9c0 - \\uc6a9\\uc758 \\ubd80\\ud65c\",\"\\uc0bc\\uad6d\\uc9c0 - \\uc6a9\\uc758 \\ubd80\\ud65c\",\"\\uc0bc\\uad6d\\uc9c0 - \\uc6a9\\uc758 \\ubd80\\ud65c\",\"\\uc0bc\\uad6d\\uc9c0 - \\uc6a9\\uc758 \\ubd80\\ud65c\",\"\\uc0bc\\uad6d\\uc9c0 - \\uc6a9\\uc758 \\ubd80\\ud65c\",\"\\uc0bc\\uad6d\\uc9c0 - \\uc6a9\\uc758 \\ubd80\\ud65c\",\"\\uc0bc\\uad6d\\uc9c0 - \\uc6a9\\uc758 \\ubd80\\ud65c\",\"\\uc0bc\\uad6d\\uc9c0 - \\uc6a9\\uc758 \\ubd80\\ud65c\",\"\\uc0bc\\uad6d\\uc9c0 - \\uc6a9\\uc758 \\ubd80\\ud65c\",\"\\uc0bc\\uad6d\\uc9c0 - \\uc6a9\\uc758 \\ubd80\\ud65c\",\"\\uc0bc\\uad6d\\uc9c0 - \\uc6a9\\uc758 \\ubd80\\ud65c\",\"\\uc0bc\\uad6d\\uc9c0 - \\uc6a9\\uc758 \\ubd80\\ud65c\",\"\\uc0bc\\uad6d\\uc9c0 - \\uc6a9\\uc758 \\ubd80\\ud65c\",\"\\uc0bc\\uad6d\\uc9c0 - \\uc6a9\\uc758 \\ubd80\\ud65c\",\"\\uc0bc\\uad6d\\uc9c0 - \\uc6a9\\uc758 \\ubd80\\ud65c\",\"\\uc0bc\\uad6d\\uc9c0 - \\uc6a9\\uc758 \\ubd80\\ud65c\",\"\\uc0bc\\uad6d\\uc9c0 - \\uc6a9\\uc758 \\ubd80\\ud65c\",\"\\uc0bc\\uad6d\\uc9c0 - \\uc6a9\\uc758 \\ubd80\\ud65c\",\"\\uc0bc\\uad6d\\uc9c0 - \\uc6a9\\uc758 \\ubd80\\ud65c\",\"\\uc0bc\\uad6d\\uc9c0 - \\uc6a9\\uc758 \\ubd80\\ud65c\",\"\\uc0bc\\uad6d\\uc9c0 - \\uc6a9\\uc758 \\ubd80\\ud65c\",\"\\uc0bc\\uad6d\\uc9c0 - \\uc6a9\\uc758 \\ubd80\\ud65c\",\"\\uc0bc\\uad6d\\uc9c0 - \\uc6a9\\uc758 \\ubd80\\ud65c\",\"\\uc0bc\\uad6d\\uc9c0 - \\uc6a9\\uc758 \\ubd80\\ud65c\",\"\\uc0bc\\uad6d\\uc9c0 - \\uc6a9\\uc758 \\ubd80\\ud65c\",\"\\uc0bc\\uad6d\\uc9c0 - \\uc6a9\\uc758 \\ubd80\\ud65c\",\"\\ub7ec\\ube0c \\uc778 \\ud074\\ub77c\\uc6b0\\uc988\",\"\\ub7ec\\ube0c \\uc778 \\ud074\\ub77c\\uc6b0\\uc988\",\"\\ub7ec\\ube0c \\uc778 \\ud074\\ub77c\\uc6b0\\uc988\",\"\\ub7ec\\ube0c \\uc778 \\ud074\\ub77c\\uc6b0\\uc988\",\"\\ub7ec\\ube0c \\uc778 \\ud074\\ub77c\\uc6b0\\uc988\",\"\\ub7ec\\ube0c \\uc778 \\ud074\\ub77c\\uc6b0\\uc988\",\"\\ub7ec\\ube0c \\uc778 \\ud074\\ub77c\\uc6b0\\uc988\",\"\\ub7ec\\ube0c \\uc778 \\ud074\\ub77c\\uc6b0\\uc988\",\"\\ub7ec\\ube0c \\uc778 \\ud074\\ub77c\\uc6b0\\uc988\",\"\\ub7ec\\ube0c \\uc778 \\ud074\\ub77c\\uc6b0\\uc988\",\"\\ub7ec\\ube0c \\uc778 \\ud074\\ub77c\\uc6b0\\uc988\",\"\\ub7ec\\ube0c \\uc778 \\ud074\\ub77c\\uc6b0\\uc988\",\"\\ub7ec\\ube0c \\uc778 \\ud074\\ub77c\\uc6b0\\uc988\",\"\\ub7ec\\ube0c \\uc778 \\ud074\\ub77c\\uc6b0\\uc988\",\"\\ub7ec\\ube0c \\uc778 \\ud074\\ub77c\\uc6b0\\uc988\",\"\\ub7ec\\ube0c \\uc778 \\ud074\\ub77c\\uc6b0\\uc988\",\"\\ub7ec\\ube0c \\uc778 \\ud074\\ub77c\\uc6b0\\uc988\",\"\\ub7ec\\ube0c \\uc778 \\ud074\\ub77c\\uc6b0\\uc988\",\"\\ub7ec\\ube0c \\uc778 \\ud074\\ub77c\\uc6b0\\uc988\",\"\\ub7ec\\ube0c \\uc778 \\ud074\\ub77c\\uc6b0\\uc988\",\"\\ub7ec\\ube0c \\uc778 \\ud074\\ub77c\\uc6b0\\uc988\",\"\\ub7ec\\ube0c \\uc778 \\ud074\\ub77c\\uc6b0\\uc988\",\"\\ub7ec\\ube0c \\uc778 \\ud074\\ub77c\\uc6b0\\uc988\",\"\\ub7ec\\ube0c \\uc778 \\ud074\\ub77c\\uc6b0\\uc988\",\"\\ub7ec\\ube0c \\uc778 \\ud074\\ub77c\\uc6b0\\uc988\",\"\\ub7ec\\ube0c \\uc778 \\ud074\\ub77c\\uc6b0\\uc988\",\"\\ub7ec\\ube0c \\uc778 \\ud074\\ub77c\\uc6b0\\uc988\",\"\\ub7ec\\ube0c \\uc778 \\ud074\\ub77c\\uc6b0\\uc988\",\"\\ub7ec\\ube0c \\uc778 \\ud074\\ub77c\\uc6b0\\uc988\",\"\\ub7ec\\ube0c \\uc778 \\ud074\\ub77c\\uc6b0\\uc988\",\"\\ube44\\uc815\\uc0c1\\ud68c\\ub2f4\",\"\\ube44\\uc815\\uc0c1\\ud68c\\ub2f4\",\"\\ube44\\uc815\\uc0c1\\ud68c\\ub2f4\",\"\\ube44\\uc815\\uc0c1\\ud68c\\ub2f4\",\"\\ube44\\uc815\\uc0c1\\ud68c\\ub2f4\",\"\\ube44\\uc815\\uc0c1\\ud68c\\ub2f4\",\"\\ube44\\uc815\\uc0c1\\ud68c\\ub2f4\",\"\\ube44\\uc815\\uc0c1\\ud68c\\ub2f4\",\"\\ube44\\uc815\\uc0c1\\ud68c\\ub2f4\",\"\\ube44\\uc815\\uc0c1\\ud68c\\ub2f4\",\"\\ube44\\uc815\\uc0c1\\ud68c\\ub2f4\",\"\\ube44\\uc815\\uc0c1\\ud68c\\ub2f4\",\"\\ube44\\uc815\\uc0c1\\ud68c\\ub2f4\",\"\\ube44\\uc815\\uc0c1\\ud68c\\ub2f4\",\"\\ube44\\uc815\\uc0c1\\ud68c\\ub2f4\",\"\\ube44\\uc815\\uc0c1\\ud68c\\ub2f4\",\"\\ube44\\uc815\\uc0c1\\ud68c\\ub2f4\",\"\\ube44\\uc815\\uc0c1\\ud68c\\ub2f4\",\"\\ube44\\uc815\\uc0c1\\ud68c\\ub2f4\",\"\\ube44\\uc815\\uc0c1\\ud68c\\ub2f4\",\"\\ube44\\uc815\\uc0c1\\ud68c\\ub2f4\",\"\\ube44\\uc815\\uc0c1\\ud68c\\ub2f4\",\"\\ube44\\uc815\\uc0c1\\ud68c\\ub2f4\",\"\\ube44\\uc815\\uc0c1\\ud68c\\ub2f4\",\"\\ube44\\uc815\\uc0c1\\ud68c\\ub2f4\",\"\\ube44\\uc815\\uc0c1\\ud68c\\ub2f4\",\"\\ube44\\uc815\\uc0c1\\ud68c\\ub2f4\",\"\\ube44\\uc815\\uc0c1\\ud68c\\ub2f4\",\"\\ube44\\uc815\\uc0c1\\ud68c\\ub2f4\",\"\\ube44\\uc815\\uc0c1\\ud68c\\ub2f4\",\"\\ub2f9\\uc2e0\\uc744 \\uc624\\ub7ab\\ub3d9\\uc548 \\uc0ac\\ub791\\ud588\\uc5b4\\uc694\",\"\\ub2f9\\uc2e0\\uc744 \\uc624\\ub7ab\\ub3d9\\uc548 \\uc0ac\\ub791\\ud588\\uc5b4\\uc694\",\"\\ub2f9\\uc2e0\\uc744 \\uc624\\ub7ab\\ub3d9\\uc548 \\uc0ac\\ub791\\ud588\\uc5b4\\uc694\",\"\\ub2f9\\uc2e0\\uc744 \\uc624\\ub7ab\\ub3d9\\uc548 \\uc0ac\\ub791\\ud588\\uc5b4\\uc694\",\"\\ub2f9\\uc2e0\\uc744 \\uc624\\ub7ab\\ub3d9\\uc548 \\uc0ac\\ub791\\ud588\\uc5b4\\uc694\",\"\\ub2f9\\uc2e0\\uc744 \\uc624\\ub7ab\\ub3d9\\uc548 \\uc0ac\\ub791\\ud588\\uc5b4\\uc694\",\"\\ub2f9\\uc2e0\\uc744 \\uc624\\ub7ab\\ub3d9\\uc548 \\uc0ac\\ub791\\ud588\\uc5b4\\uc694\",\"\\ub2f9\\uc2e0\\uc744 \\uc624\\ub7ab\\ub3d9\\uc548 \\uc0ac\\ub791\\ud588\\uc5b4\\uc694\",\"\\ub2f9\\uc2e0\\uc744 \\uc624\\ub7ab\\ub3d9\\uc548 \\uc0ac\\ub791\\ud588\\uc5b4\\uc694\",\"\\ub2f9\\uc2e0\\uc744 \\uc624\\ub7ab\\ub3d9\\uc548 \\uc0ac\\ub791\\ud588\\uc5b4\\uc694\",\"\\ub2f9\\uc2e0\\uc744 \\uc624\\ub7ab\\ub3d9\\uc548 \\uc0ac\\ub791\\ud588\\uc5b4\\uc694\",\"\\ub2f9\\uc2e0\\uc744 \\uc624\\ub7ab\\ub3d9\\uc548 \\uc0ac\\ub791\\ud588\\uc5b4\\uc694\",\"\\ub2f9\\uc2e0\\uc744 \\uc624\\ub7ab\\ub3d9\\uc548 \\uc0ac\\ub791\\ud588\\uc5b4\\uc694\",\"\\ub2f9\\uc2e0\\uc744 \\uc624\\ub7ab\\ub3d9\\uc548 \\uc0ac\\ub791\\ud588\\uc5b4\\uc694\",\"\\ub2f9\\uc2e0\\uc744 \\uc624\\ub7ab\\ub3d9\\uc548 \\uc0ac\\ub791\\ud588\\uc5b4\\uc694\",\"\\ub2f9\\uc2e0\\uc744 \\uc624\\ub7ab\\ub3d9\\uc548 \\uc0ac\\ub791\\ud588\\uc5b4\\uc694\",\"\\ub2f9\\uc2e0\\uc744 \\uc624\\ub7ab\\ub3d9\\uc548 \\uc0ac\\ub791\\ud588\\uc5b4\\uc694\",\"\\ub2f9\\uc2e0\\uc744 \\uc624\\ub7ab\\ub3d9\\uc548 \\uc0ac\\ub791\\ud588\\uc5b4\\uc694\",\"\\ub2f9\\uc2e0\\uc744 \\uc624\\ub7ab\\ub3d9\\uc548 \\uc0ac\\ub791\\ud588\\uc5b4\\uc694\",\"\\ub2f9\\uc2e0\\uc744 \\uc624\\ub7ab\\ub3d9\\uc548 \\uc0ac\\ub791\\ud588\\uc5b4\\uc694\",\"\\ub2f9\\uc2e0\\uc744 \\uc624\\ub7ab\\ub3d9\\uc548 \\uc0ac\\ub791\\ud588\\uc5b4\\uc694\",\"\\ub2f9\\uc2e0\\uc744 \\uc624\\ub7ab\\ub3d9\\uc548 \\uc0ac\\ub791\\ud588\\uc5b4\\uc694\",\"\\ub2f9\\uc2e0\\uc744 \\uc624\\ub7ab\\ub3d9\\uc548 \\uc0ac\\ub791\\ud588\\uc5b4\\uc694\",\"\\ub2f9\\uc2e0\\uc744 \\uc624\\ub7ab\\ub3d9\\uc548 \\uc0ac\\ub791\\ud588\\uc5b4\\uc694\",\"\\ub2f9\\uc2e0\\uc744 \\uc624\\ub7ab\\ub3d9\\uc548 \\uc0ac\\ub791\\ud588\\uc5b4\\uc694\",\"\\ub2f9\\uc2e0\\uc744 \\uc624\\ub7ab\\ub3d9\\uc548 \\uc0ac\\ub791\\ud588\\uc5b4\\uc694\",\"\\ub2f9\\uc2e0\\uc744 \\uc624\\ub7ab\\ub3d9\\uc548 \\uc0ac\\ub791\\ud588\\uc5b4\\uc694\",\"\\ub2f9\\uc2e0\\uc744 \\uc624\\ub7ab\\ub3d9\\uc548 \\uc0ac\\ub791\\ud588\\uc5b4\\uc694\",\"\\ub2f9\\uc2e0\\uc744 \\uc624\\ub7ab\\ub3d9\\uc548 \\uc0ac\\ub791\\ud588\\uc5b4\\uc694\",\"\\ub2f9\\uc2e0\\uc744 \\uc624\\ub7ab\\ub3d9\\uc548 \\uc0ac\\ub791\\ud588\\uc5b4\\uc694\",\"\\uc704\\ud5d8\\ud55c \\uac70\\ub798\",\"\\uc704\\ud5d8\\ud55c \\uac70\\ub798\",\"\\uc704\\ud5d8\\ud55c \\uac70\\ub798\",\"\\uc704\\ud5d8\\ud55c \\uac70\\ub798\",\"\\uc704\\ud5d8\\ud55c \\uac70\\ub798\",\"\\uc704\\ud5d8\\ud55c \\uac70\\ub798\",\"\\uc704\\ud5d8\\ud55c \\uac70\\ub798\",\"\\uc704\\ud5d8\\ud55c \\uac70\\ub798\",\"\\uc704\\ud5d8\\ud55c \\uac70\\ub798\",\"\\uc704\\ud5d8\\ud55c \\uac70\\ub798\",\"\\uc704\\ud5d8\\ud55c \\uac70\\ub798\",\"\\uc704\\ud5d8\\ud55c \\uac70\\ub798\",\"\\uc704\\ud5d8\\ud55c \\uac70\\ub798\",\"\\uc704\\ud5d8\\ud55c \\uac70\\ub798\",\"\\uc704\\ud5d8\\ud55c \\uac70\\ub798\",\"\\uc704\\ud5d8\\ud55c \\uac70\\ub798\",\"\\uc704\\ud5d8\\ud55c \\uac70\\ub798\",\"\\uc704\\ud5d8\\ud55c \\uac70\\ub798\",\"\\uc704\\ud5d8\\ud55c \\uac70\\ub798\",\"\\uc704\\ud5d8\\ud55c \\uac70\\ub798\",\"\\uc704\\ud5d8\\ud55c \\uac70\\ub798\",\"\\uc704\\ud5d8\\ud55c \\uac70\\ub798\",\"\\uc704\\ud5d8\\ud55c \\uac70\\ub798\",\"\\uc704\\ud5d8\\ud55c \\uac70\\ub798\",\"\\uc704\\ud5d8\\ud55c \\uac70\\ub798\",\"\\uc704\\ud5d8\\ud55c \\uac70\\ub798\",\"\\uc704\\ud5d8\\ud55c \\uac70\\ub798\",\"\\uc704\\ud5d8\\ud55c \\uac70\\ub798\",\"\\uc704\\ud5d8\\ud55c \\uac70\\ub798\",\"\\uc704\\ud5d8\\ud55c \\uac70\\ub798\",\"\\uac00\\ubb38\\uc758 \\ubd80\\ud65c - \\uac00\\ubb38\\uc758 \\uc601\\uad11 3\",\"\\uac00\\ubb38\\uc758 \\ubd80\\ud65c - \\uac00\\ubb38\\uc758 \\uc601\\uad11 3\",\"\\uac00\\ubb38\\uc758 \\ubd80\\ud65c - \\uac00\\ubb38\\uc758 \\uc601\\uad11 3\",\"\\uac00\\ubb38\\uc758 \\ubd80\\ud65c - \\uac00\\ubb38\\uc758 \\uc601\\uad11 3\",\"\\uac00\\ubb38\\uc758 \\ubd80\\ud65c - \\uac00\\ubb38\\uc758 \\uc601\\uad11 3\",\"\\uac00\\ubb38\\uc758 \\ubd80\\ud65c - \\uac00\\ubb38\\uc758 \\uc601\\uad11 3\",\"\\uac00\\ubb38\\uc758 \\ubd80\\ud65c - \\uac00\\ubb38\\uc758 \\uc601\\uad11 3\",\"\\uac00\\ubb38\\uc758 \\ubd80\\ud65c - \\uac00\\ubb38\\uc758 \\uc601\\uad11 3\",\"\\uac00\\ubb38\\uc758 \\ubd80\\ud65c - \\uac00\\ubb38\\uc758 \\uc601\\uad11 3\",\"\\uac00\\ubb38\\uc758 \\ubd80\\ud65c - \\uac00\\ubb38\\uc758 \\uc601\\uad11 3\",\"\\uac00\\ubb38\\uc758 \\ubd80\\ud65c - \\uac00\\ubb38\\uc758 \\uc601\\uad11 3\",\"\\uac00\\ubb38\\uc758 \\ubd80\\ud65c - \\uac00\\ubb38\\uc758 \\uc601\\uad11 3\",\"\\uac00\\ubb38\\uc758 \\ubd80\\ud65c - \\uac00\\ubb38\\uc758 \\uc601\\uad11 3\",\"\\uac00\\ubb38\\uc758 \\ubd80\\ud65c - \\uac00\\ubb38\\uc758 \\uc601\\uad11 3\",\"\\uac00\\ubb38\\uc758 \\ubd80\\ud65c - \\uac00\\ubb38\\uc758 \\uc601\\uad11 3\",\"\\uac00\\ubb38\\uc758 \\ubd80\\ud65c - \\uac00\\ubb38\\uc758 \\uc601\\uad11 3\",\"\\uac00\\ubb38\\uc758 \\ubd80\\ud65c - \\uac00\\ubb38\\uc758 \\uc601\\uad11 3\",\"\\uac00\\ubb38\\uc758 \\ubd80\\ud65c - \\uac00\\ubb38\\uc758 \\uc601\\uad11 3\",\"\\uac00\\ubb38\\uc758 \\ubd80\\ud65c - \\uac00\\ubb38\\uc758 \\uc601\\uad11 3\",\"\\uac00\\ubb38\\uc758 \\ubd80\\ud65c - \\uac00\\ubb38\\uc758 \\uc601\\uad11 3\",\"\\uac00\\ubb38\\uc758 \\ubd80\\ud65c - \\uac00\\ubb38\\uc758 \\uc601\\uad11 3\",\"\\uac00\\ubb38\\uc758 \\ubd80\\ud65c - \\uac00\\ubb38\\uc758 \\uc601\\uad11 3\",\"\\uac00\\ubb38\\uc758 \\ubd80\\ud65c - \\uac00\\ubb38\\uc758 \\uc601\\uad11 3\",\"\\uac00\\ubb38\\uc758 \\ubd80\\ud65c - \\uac00\\ubb38\\uc758 \\uc601\\uad11 3\",\"\\uac00\\ubb38\\uc758 \\ubd80\\ud65c - \\uac00\\ubb38\\uc758 \\uc601\\uad11 3\",\"\\uac00\\ubb38\\uc758 \\ubd80\\ud65c - \\uac00\\ubb38\\uc758 \\uc601\\uad11 3\",\"\\uac00\\ubb38\\uc758 \\ubd80\\ud65c - \\uac00\\ubb38\\uc758 \\uc601\\uad11 3\",\"\\uac00\\ubb38\\uc758 \\ubd80\\ud65c - \\uac00\\ubb38\\uc758 \\uc601\\uad11 3\",\"\\uac00\\ubb38\\uc758 \\ubd80\\ud65c - \\uac00\\ubb38\\uc758 \\uc601\\uad11 3\",\"\\uac00\\ubb38\\uc758 \\ubd80\\ud65c - \\uac00\\ubb38\\uc758 \\uc601\\uad11 3\",\"\\ud398\\uc774\\ud37c\\ub9e8\",\"\\ud398\\uc774\\ud37c\\ub9e8\",\"\\ud398\\uc774\\ud37c\\ub9e8\",\"\\ud398\\uc774\\ud37c\\ub9e8\",\"\\ud398\\uc774\\ud37c\\ub9e8\",\"\\ud398\\uc774\\ud37c\\ub9e8\",\"\\ud398\\uc774\\ud37c\\ub9e8\",\"\\ud398\\uc774\\ud37c\\ub9e8\",\"\\ud398\\uc774\\ud37c\\ub9e8\",\"\\ud398\\uc774\\ud37c\\ub9e8\",\"\\ud398\\uc774\\ud37c\\ub9e8\",\"\\ud398\\uc774\\ud37c\\ub9e8\",\"\\ud398\\uc774\\ud37c\\ub9e8\",\"\\ud398\\uc774\\ud37c\\ub9e8\",\"\\ud398\\uc774\\ud37c\\ub9e8\",\"\\ud398\\uc774\\ud37c\\ub9e8\",\"\\ud398\\uc774\\ud37c\\ub9e8\",\"\\ud398\\uc774\\ud37c\\ub9e8\",\"\\ud398\\uc774\\ud37c\\ub9e8\",\"\\ud398\\uc774\\ud37c\\ub9e8\",\"\\ud398\\uc774\\ud37c\\ub9e8\",\"\\ud398\\uc774\\ud37c\\ub9e8\",\"\\ud398\\uc774\\ud37c\\ub9e8\",\"\\ud398\\uc774\\ud37c\\ub9e8\",\"\\ud398\\uc774\\ud37c\\ub9e8\",\"\\ud398\\uc774\\ud37c\\ub9e8\",\"\\ud398\\uc774\\ud37c\\ub9e8\",\"\\ud398\\uc774\\ud37c\\ub9e8\",\"\\ud398\\uc774\\ud37c\\ub9e8\",\"\\ud398\\uc774\\ud37c\\ub9e8\",\"\\ucc9c\\uc0ac\\uc758 \\uc120\\ud0dd\",\"\\ucc9c\\uc0ac\\uc758 \\uc120\\ud0dd\",\"\\ucc9c\\uc0ac\\uc758 \\uc120\\ud0dd\",\"\\ucc9c\\uc0ac\\uc758 \\uc120\\ud0dd\",\"\\ucc9c\\uc0ac\\uc758 \\uc120\\ud0dd\",\"\\ucc9c\\uc0ac\\uc758 \\uc120\\ud0dd\",\"\\ucc9c\\uc0ac\\uc758 \\uc120\\ud0dd\",\"\\ucc9c\\uc0ac\\uc758 \\uc120\\ud0dd\",\"\\ucc9c\\uc0ac\\uc758 \\uc120\\ud0dd\",\"\\ucc9c\\uc0ac\\uc758 \\uc120\\ud0dd\",\"\\ucc9c\\uc0ac\\uc758 \\uc120\\ud0dd\",\"\\ucc9c\\uc0ac\\uc758 \\uc120\\ud0dd\",\"\\ucc9c\\uc0ac\\uc758 \\uc120\\ud0dd\",\"\\ucc9c\\uc0ac\\uc758 \\uc120\\ud0dd\",\"\\ucc9c\\uc0ac\\uc758 \\uc120\\ud0dd\",\"\\ucc9c\\uc0ac\\uc758 \\uc120\\ud0dd\",\"\\ucc9c\\uc0ac\\uc758 \\uc120\\ud0dd\",\"\\ucc9c\\uc0ac\\uc758 \\uc120\\ud0dd\",\"\\ucc9c\\uc0ac\\uc758 \\uc120\\ud0dd\",\"\\ucc9c\\uc0ac\\uc758 \\uc120\\ud0dd\",\"\\ucc9c\\uc0ac\\uc758 \\uc120\\ud0dd\",\"\\ucc9c\\uc0ac\\uc758 \\uc120\\ud0dd\",\"\\ucc9c\\uc0ac\\uc758 \\uc120\\ud0dd\",\"\\ucc9c\\uc0ac\\uc758 \\uc120\\ud0dd\",\"\\ucc9c\\uc0ac\\uc758 \\uc120\\ud0dd\",\"\\ucc9c\\uc0ac\\uc758 \\uc120\\ud0dd\",\"\\ucc9c\\uc0ac\\uc758 \\uc120\\ud0dd\",\"\\ucc9c\\uc0ac\\uc758 \\uc120\\ud0dd\",\"\\ucc9c\\uc0ac\\uc758 \\uc120\\ud0dd\",\"\\ucc9c\\uc0ac\\uc758 \\uc120\\ud0dd\",\"\\uc77c\\ubc24\",\"\\uc77c\\ubc24\",\"\\uc77c\\ubc24\",\"\\uc77c\\ubc24\",\"\\uc77c\\ubc24\",\"\\uc77c\\ubc24\",\"\\uc77c\\ubc24\",\"\\uc77c\\ubc24\",\"\\uc77c\\ubc24\",\"\\uc77c\\ubc24\",\"\\uc77c\\ubc24\",\"\\uc77c\\ubc24\",\"\\uc77c\\ubc24\",\"\\uc77c\\ubc24\",\"\\uc77c\\ubc24\",\"\\uc77c\\ubc24\",\"\\uc77c\\ubc24\",\"\\uc77c\\ubc24\",\"\\uc77c\\ubc24\",\"\\uc77c\\ubc24\",\"\\uc77c\\ubc24\",\"\\uc77c\\ubc24\",\"\\uc77c\\ubc24\",\"\\uc77c\\ubc24\",\"\\uc77c\\ubc24\",\"\\uc77c\\ubc24\",\"\\uc77c\\ubc24\",\"\\uc77c\\ubc24\",\"\\uc77c\\ubc24\",\"\\uc77c\\ubc24\",\"\\uc138\\uc774\\uc9c0: \\uc721\\uc9c0\\uc758 \\ubb3c\\uace0\\uae30\",\"\\uc138\\uc774\\uc9c0: \\uc721\\uc9c0\\uc758 \\ubb3c\\uace0\\uae30\",\"\\uc138\\uc774\\uc9c0: \\uc721\\uc9c0\\uc758 \\ubb3c\\uace0\\uae30\",\"\\uc138\\uc774\\uc9c0: \\uc721\\uc9c0\\uc758 \\ubb3c\\uace0\\uae30\",\"\\uc138\\uc774\\uc9c0: \\uc721\\uc9c0\\uc758 \\ubb3c\\uace0\\uae30\",\"\\uc138\\uc774\\uc9c0: \\uc721\\uc9c0\\uc758 \\ubb3c\\uace0\\uae30\",\"\\uc138\\uc774\\uc9c0: \\uc721\\uc9c0\\uc758 \\ubb3c\\uace0\\uae30\",\"\\uc138\\uc774\\uc9c0: \\uc721\\uc9c0\\uc758 \\ubb3c\\uace0\\uae30\",\"\\uc138\\uc774\\uc9c0: \\uc721\\uc9c0\\uc758 \\ubb3c\\uace0\\uae30\",\"\\uc138\\uc774\\uc9c0: \\uc721\\uc9c0\\uc758 \\ubb3c\\uace0\\uae30\",\"\\uc138\\uc774\\uc9c0: \\uc721\\uc9c0\\uc758 \\ubb3c\\uace0\\uae30\",\"\\uc138\\uc774\\uc9c0: \\uc721\\uc9c0\\uc758 \\ubb3c\\uace0\\uae30\",\"\\uc138\\uc774\\uc9c0: \\uc721\\uc9c0\\uc758 \\ubb3c\\uace0\\uae30\",\"\\uc138\\uc774\\uc9c0: \\uc721\\uc9c0\\uc758 \\ubb3c\\uace0\\uae30\",\"\\uc138\\uc774\\uc9c0: \\uc721\\uc9c0\\uc758 \\ubb3c\\uace0\\uae30\",\"\\uc138\\uc774\\uc9c0: \\uc721\\uc9c0\\uc758 \\ubb3c\\uace0\\uae30\",\"\\uc138\\uc774\\uc9c0: \\uc721\\uc9c0\\uc758 \\ubb3c\\uace0\\uae30\",\"\\uc138\\uc774\\uc9c0: \\uc721\\uc9c0\\uc758 \\ubb3c\\uace0\\uae30\",\"\\uc138\\uc774\\uc9c0: \\uc721\\uc9c0\\uc758 \\ubb3c\\uace0\\uae30\",\"\\uc138\\uc774\\uc9c0: \\uc721\\uc9c0\\uc758 \\ubb3c\\uace0\\uae30\",\"\\uc138\\uc774\\uc9c0: \\uc721\\uc9c0\\uc758 \\ubb3c\\uace0\\uae30\",\"\\uc138\\uc774\\uc9c0: \\uc721\\uc9c0\\uc758 \\ubb3c\\uace0\\uae30\",\"\\uc138\\uc774\\uc9c0: \\uc721\\uc9c0\\uc758 \\ubb3c\\uace0\\uae30\",\"\\uc138\\uc774\\uc9c0: \\uc721\\uc9c0\\uc758 \\ubb3c\\uace0\\uae30\",\"\\uc138\\uc774\\uc9c0: \\uc721\\uc9c0\\uc758 \\ubb3c\\uace0\\uae30\",\"\\uc138\\uc774\\uc9c0: \\uc721\\uc9c0\\uc758 \\ubb3c\\uace0\\uae30\",\"\\uc138\\uc774\\uc9c0: \\uc721\\uc9c0\\uc758 \\ubb3c\\uace0\\uae30\",\"\\uc138\\uc774\\uc9c0: \\uc721\\uc9c0\\uc758 \\ubb3c\\uace0\\uae30\",\"\\uc138\\uc774\\uc9c0: \\uc721\\uc9c0\\uc758 \\ubb3c\\uace0\\uae30\",\"\\uc138\\uc774\\uc9c0: \\uc721\\uc9c0\\uc758 \\ubb3c\\uace0\\uae30\",\"\\ud558\\ub298\\uc774\\uc2dc\\uc5ec\",\"\\ud558\\ub298\\uc774\\uc2dc\\uc5ec\",\"\\ud558\\ub298\\uc774\\uc2dc\\uc5ec\",\"\\ud558\\ub298\\uc774\\uc2dc\\uc5ec\",\"\\ud558\\ub298\\uc774\\uc2dc\\uc5ec\",\"\\ud558\\ub298\\uc774\\uc2dc\\uc5ec\",\"\\ud558\\ub298\\uc774\\uc2dc\\uc5ec\",\"\\ud558\\ub298\\uc774\\uc2dc\\uc5ec\",\"\\ud558\\ub298\\uc774\\uc2dc\\uc5ec\",\"\\ud558\\ub298\\uc774\\uc2dc\\uc5ec\",\"\\ud558\\ub298\\uc774\\uc2dc\\uc5ec\",\"\\ud558\\ub298\\uc774\\uc2dc\\uc5ec\",\"\\ud558\\ub298\\uc774\\uc2dc\\uc5ec\",\"\\ud558\\ub298\\uc774\\uc2dc\\uc5ec\",\"\\ud558\\ub298\\uc774\\uc2dc\\uc5ec\",\"\\ud558\\ub298\\uc774\\uc2dc\\uc5ec\",\"\\ud558\\ub298\\uc774\\uc2dc\\uc5ec\",\"\\ud558\\ub298\\uc774\\uc2dc\\uc5ec\",\"\\ud558\\ub298\\uc774\\uc2dc\\uc5ec\",\"\\ud558\\ub298\\uc774\\uc2dc\\uc5ec\",\"\\ud558\\ub298\\uc774\\uc2dc\\uc5ec\",\"\\ud558\\ub298\\uc774\\uc2dc\\uc5ec\",\"\\ud558\\ub298\\uc774\\uc2dc\\uc5ec\",\"\\ud558\\ub298\\uc774\\uc2dc\\uc5ec\",\"\\ud558\\ub298\\uc774\\uc2dc\\uc5ec\",\"\\ud558\\ub298\\uc774\\uc2dc\\uc5ec\",\"\\ud558\\ub298\\uc774\\uc2dc\\uc5ec\",\"\\ud558\\ub298\\uc774\\uc2dc\\uc5ec\",\"\\ud558\\ub298\\uc774\\uc2dc\\uc5ec\",\"\\ud558\\ub298\\uc774\\uc2dc\\uc5ec\"],\"y\":[\"\\uc81c1\\uacf5\\ud654\\uad6d\",\"\\uc0c8\\ub4dc \\ubb34\\ube44\",\"\\uc678\\uacc4\\uc778\\uacfc \\ucf69\\ucf69 \\uac15\\uc2dc\",\"\\ub354 \\ud30c\\ud06c\\ub79c\\ub4dc\",\"\\ud669\\ub2f9\\ud55c \\uc678\\uacc4\\uc778: \\ud3f4\",\"\\uac1c\\uc2ec\\uadc0 4 - \\uac1c\\uc2ec\\uadc0 \\ub300 \\uac1c\\uc2ec\\uadc0\",\"\\uc655\\uaf43 \\uc120\\ub140\\ub2d8\",\"\\ud22c\\uce85\\uc2a4 \\uc778 \\ud30c\\ub9ac\",\"\\uba54\\ub780\\ud0c0\\uc6b0\",\"\\uc368\\ub4dc \\uc2a4\\ud0c0\",\"\\ud669\\uc81c\\ub97c \\uc704\\ud558\\uc5ec\",\"\\ud30c\\uc6cc \\ud0b9\",\"\\ud30c\\ub77c\\ub2e4\\uc774\\uc2a4 \\ub7ec\\ube0c\",\"\\uc601\\uad6c\\uc640 \\ud761\\ud608\\uadc0 \\ub4dc\\ub77c\\ud050\\ub77c\",\"\\ub85c\\uc2a4\\ud2b8 \\ud558\\uc774\\uc6e8\\uc774\",\"\\ub9e4\\ud29c \\ubcf8\\uc758 \\ubc31\\uc870\\uc758 \\ud638\\uc218 3D\",\"\\ub808\\ub4dc \\ucf54\\ub108\",\"\\ub5a1\",\"\\ub2e4 \\ud070 \\uc5ec\\uc790\\ub4e4\",\"\\uc0bc\\uad6d\\uc9c0 - \\uc6a9\\uc758 \\ubd80\\ud65c\",\"\\ub7ec\\ube0c \\uc778 \\ud074\\ub77c\\uc6b0\\uc988\",\"\\ube44\\uc815\\uc0c1\\ud68c\\ub2f4\",\"\\ub2f9\\uc2e0\\uc744 \\uc624\\ub7ab\\ub3d9\\uc548 \\uc0ac\\ub791\\ud588\\uc5b4\\uc694\",\"\\uc704\\ud5d8\\ud55c \\uac70\\ub798\",\"\\uac00\\ubb38\\uc758 \\ubd80\\ud65c - \\uac00\\ubb38\\uc758 \\uc601\\uad11 3\",\"\\ud398\\uc774\\ud37c\\ub9e8\",\"\\ucc9c\\uc0ac\\uc758 \\uc120\\ud0dd\",\"\\uc77c\\ubc24\",\"\\uc138\\uc774\\uc9c0: \\uc721\\uc9c0\\uc758 \\ubb3c\\uace0\\uae30\",\"\\ud558\\ub298\\uc774\\uc2dc\\uc5ec\",\"\\uc81c1\\uacf5\\ud654\\uad6d\",\"\\uc0c8\\ub4dc \\ubb34\\ube44\",\"\\uc678\\uacc4\\uc778\\uacfc \\ucf69\\ucf69 \\uac15\\uc2dc\",\"\\ub354 \\ud30c\\ud06c\\ub79c\\ub4dc\",\"\\ud669\\ub2f9\\ud55c \\uc678\\uacc4\\uc778: \\ud3f4\",\"\\uac1c\\uc2ec\\uadc0 4 - \\uac1c\\uc2ec\\uadc0 \\ub300 \\uac1c\\uc2ec\\uadc0\",\"\\uc655\\uaf43 \\uc120\\ub140\\ub2d8\",\"\\ud22c\\uce85\\uc2a4 \\uc778 \\ud30c\\ub9ac\",\"\\uba54\\ub780\\ud0c0\\uc6b0\",\"\\uc368\\ub4dc \\uc2a4\\ud0c0\",\"\\ud669\\uc81c\\ub97c \\uc704\\ud558\\uc5ec\",\"\\ud30c\\uc6cc \\ud0b9\",\"\\ud30c\\ub77c\\ub2e4\\uc774\\uc2a4 \\ub7ec\\ube0c\",\"\\uc601\\uad6c\\uc640 \\ud761\\ud608\\uadc0 \\ub4dc\\ub77c\\ud050\\ub77c\",\"\\ub85c\\uc2a4\\ud2b8 \\ud558\\uc774\\uc6e8\\uc774\",\"\\ub9e4\\ud29c \\ubcf8\\uc758 \\ubc31\\uc870\\uc758 \\ud638\\uc218 3D\",\"\\ub808\\ub4dc \\ucf54\\ub108\",\"\\ub5a1\",\"\\ub2e4 \\ud070 \\uc5ec\\uc790\\ub4e4\",\"\\uc0bc\\uad6d\\uc9c0 - \\uc6a9\\uc758 \\ubd80\\ud65c\",\"\\ub7ec\\ube0c \\uc778 \\ud074\\ub77c\\uc6b0\\uc988\",\"\\ube44\\uc815\\uc0c1\\ud68c\\ub2f4\",\"\\ub2f9\\uc2e0\\uc744 \\uc624\\ub7ab\\ub3d9\\uc548 \\uc0ac\\ub791\\ud588\\uc5b4\\uc694\",\"\\uc704\\ud5d8\\ud55c \\uac70\\ub798\",\"\\uac00\\ubb38\\uc758 \\ubd80\\ud65c - \\uac00\\ubb38\\uc758 \\uc601\\uad11 3\",\"\\ud398\\uc774\\ud37c\\ub9e8\",\"\\ucc9c\\uc0ac\\uc758 \\uc120\\ud0dd\",\"\\uc77c\\ubc24\",\"\\uc138\\uc774\\uc9c0: \\uc721\\uc9c0\\uc758 \\ubb3c\\uace0\\uae30\",\"\\ud558\\ub298\\uc774\\uc2dc\\uc5ec\",\"\\uc81c1\\uacf5\\ud654\\uad6d\",\"\\uc0c8\\ub4dc \\ubb34\\ube44\",\"\\uc678\\uacc4\\uc778\\uacfc \\ucf69\\ucf69 \\uac15\\uc2dc\",\"\\ub354 \\ud30c\\ud06c\\ub79c\\ub4dc\",\"\\ud669\\ub2f9\\ud55c \\uc678\\uacc4\\uc778: \\ud3f4\",\"\\uac1c\\uc2ec\\uadc0 4 - \\uac1c\\uc2ec\\uadc0 \\ub300 \\uac1c\\uc2ec\\uadc0\",\"\\uc655\\uaf43 \\uc120\\ub140\\ub2d8\",\"\\ud22c\\uce85\\uc2a4 \\uc778 \\ud30c\\ub9ac\",\"\\uba54\\ub780\\ud0c0\\uc6b0\",\"\\uc368\\ub4dc \\uc2a4\\ud0c0\",\"\\ud669\\uc81c\\ub97c \\uc704\\ud558\\uc5ec\",\"\\ud30c\\uc6cc \\ud0b9\",\"\\ud30c\\ub77c\\ub2e4\\uc774\\uc2a4 \\ub7ec\\ube0c\",\"\\uc601\\uad6c\\uc640 \\ud761\\ud608\\uadc0 \\ub4dc\\ub77c\\ud050\\ub77c\",\"\\ub85c\\uc2a4\\ud2b8 \\ud558\\uc774\\uc6e8\\uc774\",\"\\ub9e4\\ud29c \\ubcf8\\uc758 \\ubc31\\uc870\\uc758 \\ud638\\uc218 3D\",\"\\ub808\\ub4dc \\ucf54\\ub108\",\"\\ub5a1\",\"\\ub2e4 \\ud070 \\uc5ec\\uc790\\ub4e4\",\"\\uc0bc\\uad6d\\uc9c0 - \\uc6a9\\uc758 \\ubd80\\ud65c\",\"\\ub7ec\\ube0c \\uc778 \\ud074\\ub77c\\uc6b0\\uc988\",\"\\ube44\\uc815\\uc0c1\\ud68c\\ub2f4\",\"\\ub2f9\\uc2e0\\uc744 \\uc624\\ub7ab\\ub3d9\\uc548 \\uc0ac\\ub791\\ud588\\uc5b4\\uc694\",\"\\uc704\\ud5d8\\ud55c \\uac70\\ub798\",\"\\uac00\\ubb38\\uc758 \\ubd80\\ud65c - \\uac00\\ubb38\\uc758 \\uc601\\uad11 3\",\"\\ud398\\uc774\\ud37c\\ub9e8\",\"\\ucc9c\\uc0ac\\uc758 \\uc120\\ud0dd\",\"\\uc77c\\ubc24\",\"\\uc138\\uc774\\uc9c0: \\uc721\\uc9c0\\uc758 \\ubb3c\\uace0\\uae30\",\"\\ud558\\ub298\\uc774\\uc2dc\\uc5ec\",\"\\uc81c1\\uacf5\\ud654\\uad6d\",\"\\uc0c8\\ub4dc \\ubb34\\ube44\",\"\\uc678\\uacc4\\uc778\\uacfc \\ucf69\\ucf69 \\uac15\\uc2dc\",\"\\ub354 \\ud30c\\ud06c\\ub79c\\ub4dc\",\"\\ud669\\ub2f9\\ud55c \\uc678\\uacc4\\uc778: \\ud3f4\",\"\\uac1c\\uc2ec\\uadc0 4 - \\uac1c\\uc2ec\\uadc0 \\ub300 \\uac1c\\uc2ec\\uadc0\",\"\\uc655\\uaf43 \\uc120\\ub140\\ub2d8\",\"\\ud22c\\uce85\\uc2a4 \\uc778 \\ud30c\\ub9ac\",\"\\uba54\\ub780\\ud0c0\\uc6b0\",\"\\uc368\\ub4dc \\uc2a4\\ud0c0\",\"\\ud669\\uc81c\\ub97c \\uc704\\ud558\\uc5ec\",\"\\ud30c\\uc6cc \\ud0b9\",\"\\ud30c\\ub77c\\ub2e4\\uc774\\uc2a4 \\ub7ec\\ube0c\",\"\\uc601\\uad6c\\uc640 \\ud761\\ud608\\uadc0 \\ub4dc\\ub77c\\ud050\\ub77c\",\"\\ub85c\\uc2a4\\ud2b8 \\ud558\\uc774\\uc6e8\\uc774\",\"\\ub9e4\\ud29c \\ubcf8\\uc758 \\ubc31\\uc870\\uc758 \\ud638\\uc218 3D\",\"\\ub808\\ub4dc \\ucf54\\ub108\",\"\\ub5a1\",\"\\ub2e4 \\ud070 \\uc5ec\\uc790\\ub4e4\",\"\\uc0bc\\uad6d\\uc9c0 - \\uc6a9\\uc758 \\ubd80\\ud65c\",\"\\ub7ec\\ube0c \\uc778 \\ud074\\ub77c\\uc6b0\\uc988\",\"\\ube44\\uc815\\uc0c1\\ud68c\\ub2f4\",\"\\ub2f9\\uc2e0\\uc744 \\uc624\\ub7ab\\ub3d9\\uc548 \\uc0ac\\ub791\\ud588\\uc5b4\\uc694\",\"\\uc704\\ud5d8\\ud55c \\uac70\\ub798\",\"\\uac00\\ubb38\\uc758 \\ubd80\\ud65c - \\uac00\\ubb38\\uc758 \\uc601\\uad11 3\",\"\\ud398\\uc774\\ud37c\\ub9e8\",\"\\ucc9c\\uc0ac\\uc758 \\uc120\\ud0dd\",\"\\uc77c\\ubc24\",\"\\uc138\\uc774\\uc9c0: \\uc721\\uc9c0\\uc758 \\ubb3c\\uace0\\uae30\",\"\\ud558\\ub298\\uc774\\uc2dc\\uc5ec\",\"\\uc81c1\\uacf5\\ud654\\uad6d\",\"\\uc0c8\\ub4dc \\ubb34\\ube44\",\"\\uc678\\uacc4\\uc778\\uacfc \\ucf69\\ucf69 \\uac15\\uc2dc\",\"\\ub354 \\ud30c\\ud06c\\ub79c\\ub4dc\",\"\\ud669\\ub2f9\\ud55c \\uc678\\uacc4\\uc778: \\ud3f4\",\"\\uac1c\\uc2ec\\uadc0 4 - \\uac1c\\uc2ec\\uadc0 \\ub300 \\uac1c\\uc2ec\\uadc0\",\"\\uc655\\uaf43 \\uc120\\ub140\\ub2d8\",\"\\ud22c\\uce85\\uc2a4 \\uc778 \\ud30c\\ub9ac\",\"\\uba54\\ub780\\ud0c0\\uc6b0\",\"\\uc368\\ub4dc \\uc2a4\\ud0c0\",\"\\ud669\\uc81c\\ub97c \\uc704\\ud558\\uc5ec\",\"\\ud30c\\uc6cc \\ud0b9\",\"\\ud30c\\ub77c\\ub2e4\\uc774\\uc2a4 \\ub7ec\\ube0c\",\"\\uc601\\uad6c\\uc640 \\ud761\\ud608\\uadc0 \\ub4dc\\ub77c\\ud050\\ub77c\",\"\\ub85c\\uc2a4\\ud2b8 \\ud558\\uc774\\uc6e8\\uc774\",\"\\ub9e4\\ud29c \\ubcf8\\uc758 \\ubc31\\uc870\\uc758 \\ud638\\uc218 3D\",\"\\ub808\\ub4dc \\ucf54\\ub108\",\"\\ub5a1\",\"\\ub2e4 \\ud070 \\uc5ec\\uc790\\ub4e4\",\"\\uc0bc\\uad6d\\uc9c0 - \\uc6a9\\uc758 \\ubd80\\ud65c\",\"\\ub7ec\\ube0c \\uc778 \\ud074\\ub77c\\uc6b0\\uc988\",\"\\ube44\\uc815\\uc0c1\\ud68c\\ub2f4\",\"\\ub2f9\\uc2e0\\uc744 \\uc624\\ub7ab\\ub3d9\\uc548 \\uc0ac\\ub791\\ud588\\uc5b4\\uc694\",\"\\uc704\\ud5d8\\ud55c \\uac70\\ub798\",\"\\uac00\\ubb38\\uc758 \\ubd80\\ud65c - \\uac00\\ubb38\\uc758 \\uc601\\uad11 3\",\"\\ud398\\uc774\\ud37c\\ub9e8\",\"\\ucc9c\\uc0ac\\uc758 \\uc120\\ud0dd\",\"\\uc77c\\ubc24\",\"\\uc138\\uc774\\uc9c0: \\uc721\\uc9c0\\uc758 \\ubb3c\\uace0\\uae30\",\"\\ud558\\ub298\\uc774\\uc2dc\\uc5ec\",\"\\uc81c1\\uacf5\\ud654\\uad6d\",\"\\uc0c8\\ub4dc \\ubb34\\ube44\",\"\\uc678\\uacc4\\uc778\\uacfc \\ucf69\\ucf69 \\uac15\\uc2dc\",\"\\ub354 \\ud30c\\ud06c\\ub79c\\ub4dc\",\"\\ud669\\ub2f9\\ud55c \\uc678\\uacc4\\uc778: \\ud3f4\",\"\\uac1c\\uc2ec\\uadc0 4 - \\uac1c\\uc2ec\\uadc0 \\ub300 \\uac1c\\uc2ec\\uadc0\",\"\\uc655\\uaf43 \\uc120\\ub140\\ub2d8\",\"\\ud22c\\uce85\\uc2a4 \\uc778 \\ud30c\\ub9ac\",\"\\uba54\\ub780\\ud0c0\\uc6b0\",\"\\uc368\\ub4dc \\uc2a4\\ud0c0\",\"\\ud669\\uc81c\\ub97c \\uc704\\ud558\\uc5ec\",\"\\ud30c\\uc6cc \\ud0b9\",\"\\ud30c\\ub77c\\ub2e4\\uc774\\uc2a4 \\ub7ec\\ube0c\",\"\\uc601\\uad6c\\uc640 \\ud761\\ud608\\uadc0 \\ub4dc\\ub77c\\ud050\\ub77c\",\"\\ub85c\\uc2a4\\ud2b8 \\ud558\\uc774\\uc6e8\\uc774\",\"\\ub9e4\\ud29c \\ubcf8\\uc758 \\ubc31\\uc870\\uc758 \\ud638\\uc218 3D\",\"\\ub808\\ub4dc \\ucf54\\ub108\",\"\\ub5a1\",\"\\ub2e4 \\ud070 \\uc5ec\\uc790\\ub4e4\",\"\\uc0bc\\uad6d\\uc9c0 - \\uc6a9\\uc758 \\ubd80\\ud65c\",\"\\ub7ec\\ube0c \\uc778 \\ud074\\ub77c\\uc6b0\\uc988\",\"\\ube44\\uc815\\uc0c1\\ud68c\\ub2f4\",\"\\ub2f9\\uc2e0\\uc744 \\uc624\\ub7ab\\ub3d9\\uc548 \\uc0ac\\ub791\\ud588\\uc5b4\\uc694\",\"\\uc704\\ud5d8\\ud55c \\uac70\\ub798\",\"\\uac00\\ubb38\\uc758 \\ubd80\\ud65c - \\uac00\\ubb38\\uc758 \\uc601\\uad11 3\",\"\\ud398\\uc774\\ud37c\\ub9e8\",\"\\ucc9c\\uc0ac\\uc758 \\uc120\\ud0dd\",\"\\uc77c\\ubc24\",\"\\uc138\\uc774\\uc9c0: \\uc721\\uc9c0\\uc758 \\ubb3c\\uace0\\uae30\",\"\\ud558\\ub298\\uc774\\uc2dc\\uc5ec\",\"\\uc81c1\\uacf5\\ud654\\uad6d\",\"\\uc0c8\\ub4dc \\ubb34\\ube44\",\"\\uc678\\uacc4\\uc778\\uacfc \\ucf69\\ucf69 \\uac15\\uc2dc\",\"\\ub354 \\ud30c\\ud06c\\ub79c\\ub4dc\",\"\\ud669\\ub2f9\\ud55c \\uc678\\uacc4\\uc778: \\ud3f4\",\"\\uac1c\\uc2ec\\uadc0 4 - \\uac1c\\uc2ec\\uadc0 \\ub300 \\uac1c\\uc2ec\\uadc0\",\"\\uc655\\uaf43 \\uc120\\ub140\\ub2d8\",\"\\ud22c\\uce85\\uc2a4 \\uc778 \\ud30c\\ub9ac\",\"\\uba54\\ub780\\ud0c0\\uc6b0\",\"\\uc368\\ub4dc \\uc2a4\\ud0c0\",\"\\ud669\\uc81c\\ub97c \\uc704\\ud558\\uc5ec\",\"\\ud30c\\uc6cc \\ud0b9\",\"\\ud30c\\ub77c\\ub2e4\\uc774\\uc2a4 \\ub7ec\\ube0c\",\"\\uc601\\uad6c\\uc640 \\ud761\\ud608\\uadc0 \\ub4dc\\ub77c\\ud050\\ub77c\",\"\\ub85c\\uc2a4\\ud2b8 \\ud558\\uc774\\uc6e8\\uc774\",\"\\ub9e4\\ud29c \\ubcf8\\uc758 \\ubc31\\uc870\\uc758 \\ud638\\uc218 3D\",\"\\ub808\\ub4dc \\ucf54\\ub108\",\"\\ub5a1\",\"\\ub2e4 \\ud070 \\uc5ec\\uc790\\ub4e4\",\"\\uc0bc\\uad6d\\uc9c0 - \\uc6a9\\uc758 \\ubd80\\ud65c\",\"\\ub7ec\\ube0c \\uc778 \\ud074\\ub77c\\uc6b0\\uc988\",\"\\ube44\\uc815\\uc0c1\\ud68c\\ub2f4\",\"\\ub2f9\\uc2e0\\uc744 \\uc624\\ub7ab\\ub3d9\\uc548 \\uc0ac\\ub791\\ud588\\uc5b4\\uc694\",\"\\uc704\\ud5d8\\ud55c \\uac70\\ub798\",\"\\uac00\\ubb38\\uc758 \\ubd80\\ud65c - \\uac00\\ubb38\\uc758 \\uc601\\uad11 3\",\"\\ud398\\uc774\\ud37c\\ub9e8\",\"\\ucc9c\\uc0ac\\uc758 \\uc120\\ud0dd\",\"\\uc77c\\ubc24\",\"\\uc138\\uc774\\uc9c0: \\uc721\\uc9c0\\uc758 \\ubb3c\\uace0\\uae30\",\"\\ud558\\ub298\\uc774\\uc2dc\\uc5ec\",\"\\uc81c1\\uacf5\\ud654\\uad6d\",\"\\uc0c8\\ub4dc \\ubb34\\ube44\",\"\\uc678\\uacc4\\uc778\\uacfc \\ucf69\\ucf69 \\uac15\\uc2dc\",\"\\ub354 \\ud30c\\ud06c\\ub79c\\ub4dc\",\"\\ud669\\ub2f9\\ud55c \\uc678\\uacc4\\uc778: \\ud3f4\",\"\\uac1c\\uc2ec\\uadc0 4 - \\uac1c\\uc2ec\\uadc0 \\ub300 \\uac1c\\uc2ec\\uadc0\",\"\\uc655\\uaf43 \\uc120\\ub140\\ub2d8\",\"\\ud22c\\uce85\\uc2a4 \\uc778 \\ud30c\\ub9ac\",\"\\uba54\\ub780\\ud0c0\\uc6b0\",\"\\uc368\\ub4dc \\uc2a4\\ud0c0\",\"\\ud669\\uc81c\\ub97c \\uc704\\ud558\\uc5ec\",\"\\ud30c\\uc6cc \\ud0b9\",\"\\ud30c\\ub77c\\ub2e4\\uc774\\uc2a4 \\ub7ec\\ube0c\",\"\\uc601\\uad6c\\uc640 \\ud761\\ud608\\uadc0 \\ub4dc\\ub77c\\ud050\\ub77c\",\"\\ub85c\\uc2a4\\ud2b8 \\ud558\\uc774\\uc6e8\\uc774\",\"\\ub9e4\\ud29c \\ubcf8\\uc758 \\ubc31\\uc870\\uc758 \\ud638\\uc218 3D\",\"\\ub808\\ub4dc \\ucf54\\ub108\",\"\\ub5a1\",\"\\ub2e4 \\ud070 \\uc5ec\\uc790\\ub4e4\",\"\\uc0bc\\uad6d\\uc9c0 - \\uc6a9\\uc758 \\ubd80\\ud65c\",\"\\ub7ec\\ube0c \\uc778 \\ud074\\ub77c\\uc6b0\\uc988\",\"\\ube44\\uc815\\uc0c1\\ud68c\\ub2f4\",\"\\ub2f9\\uc2e0\\uc744 \\uc624\\ub7ab\\ub3d9\\uc548 \\uc0ac\\ub791\\ud588\\uc5b4\\uc694\",\"\\uc704\\ud5d8\\ud55c \\uac70\\ub798\",\"\\uac00\\ubb38\\uc758 \\ubd80\\ud65c - \\uac00\\ubb38\\uc758 \\uc601\\uad11 3\",\"\\ud398\\uc774\\ud37c\\ub9e8\",\"\\ucc9c\\uc0ac\\uc758 \\uc120\\ud0dd\",\"\\uc77c\\ubc24\",\"\\uc138\\uc774\\uc9c0: \\uc721\\uc9c0\\uc758 \\ubb3c\\uace0\\uae30\",\"\\ud558\\ub298\\uc774\\uc2dc\\uc5ec\",\"\\uc81c1\\uacf5\\ud654\\uad6d\",\"\\uc0c8\\ub4dc \\ubb34\\ube44\",\"\\uc678\\uacc4\\uc778\\uacfc \\ucf69\\ucf69 \\uac15\\uc2dc\",\"\\ub354 \\ud30c\\ud06c\\ub79c\\ub4dc\",\"\\ud669\\ub2f9\\ud55c \\uc678\\uacc4\\uc778: \\ud3f4\",\"\\uac1c\\uc2ec\\uadc0 4 - \\uac1c\\uc2ec\\uadc0 \\ub300 \\uac1c\\uc2ec\\uadc0\",\"\\uc655\\uaf43 \\uc120\\ub140\\ub2d8\",\"\\ud22c\\uce85\\uc2a4 \\uc778 \\ud30c\\ub9ac\",\"\\uba54\\ub780\\ud0c0\\uc6b0\",\"\\uc368\\ub4dc \\uc2a4\\ud0c0\",\"\\ud669\\uc81c\\ub97c \\uc704\\ud558\\uc5ec\",\"\\ud30c\\uc6cc \\ud0b9\",\"\\ud30c\\ub77c\\ub2e4\\uc774\\uc2a4 \\ub7ec\\ube0c\",\"\\uc601\\uad6c\\uc640 \\ud761\\ud608\\uadc0 \\ub4dc\\ub77c\\ud050\\ub77c\",\"\\ub85c\\uc2a4\\ud2b8 \\ud558\\uc774\\uc6e8\\uc774\",\"\\ub9e4\\ud29c \\ubcf8\\uc758 \\ubc31\\uc870\\uc758 \\ud638\\uc218 3D\",\"\\ub808\\ub4dc \\ucf54\\ub108\",\"\\ub5a1\",\"\\ub2e4 \\ud070 \\uc5ec\\uc790\\ub4e4\",\"\\uc0bc\\uad6d\\uc9c0 - \\uc6a9\\uc758 \\ubd80\\ud65c\",\"\\ub7ec\\ube0c \\uc778 \\ud074\\ub77c\\uc6b0\\uc988\",\"\\ube44\\uc815\\uc0c1\\ud68c\\ub2f4\",\"\\ub2f9\\uc2e0\\uc744 \\uc624\\ub7ab\\ub3d9\\uc548 \\uc0ac\\ub791\\ud588\\uc5b4\\uc694\",\"\\uc704\\ud5d8\\ud55c \\uac70\\ub798\",\"\\uac00\\ubb38\\uc758 \\ubd80\\ud65c - \\uac00\\ubb38\\uc758 \\uc601\\uad11 3\",\"\\ud398\\uc774\\ud37c\\ub9e8\",\"\\ucc9c\\uc0ac\\uc758 \\uc120\\ud0dd\",\"\\uc77c\\ubc24\",\"\\uc138\\uc774\\uc9c0: \\uc721\\uc9c0\\uc758 \\ubb3c\\uace0\\uae30\",\"\\ud558\\ub298\\uc774\\uc2dc\\uc5ec\",\"\\uc81c1\\uacf5\\ud654\\uad6d\",\"\\uc0c8\\ub4dc \\ubb34\\ube44\",\"\\uc678\\uacc4\\uc778\\uacfc \\ucf69\\ucf69 \\uac15\\uc2dc\",\"\\ub354 \\ud30c\\ud06c\\ub79c\\ub4dc\",\"\\ud669\\ub2f9\\ud55c \\uc678\\uacc4\\uc778: \\ud3f4\",\"\\uac1c\\uc2ec\\uadc0 4 - \\uac1c\\uc2ec\\uadc0 \\ub300 \\uac1c\\uc2ec\\uadc0\",\"\\uc655\\uaf43 \\uc120\\ub140\\ub2d8\",\"\\ud22c\\uce85\\uc2a4 \\uc778 \\ud30c\\ub9ac\",\"\\uba54\\ub780\\ud0c0\\uc6b0\",\"\\uc368\\ub4dc \\uc2a4\\ud0c0\",\"\\ud669\\uc81c\\ub97c \\uc704\\ud558\\uc5ec\",\"\\ud30c\\uc6cc \\ud0b9\",\"\\ud30c\\ub77c\\ub2e4\\uc774\\uc2a4 \\ub7ec\\ube0c\",\"\\uc601\\uad6c\\uc640 \\ud761\\ud608\\uadc0 \\ub4dc\\ub77c\\ud050\\ub77c\",\"\\ub85c\\uc2a4\\ud2b8 \\ud558\\uc774\\uc6e8\\uc774\",\"\\ub9e4\\ud29c \\ubcf8\\uc758 \\ubc31\\uc870\\uc758 \\ud638\\uc218 3D\",\"\\ub808\\ub4dc \\ucf54\\ub108\",\"\\ub5a1\",\"\\ub2e4 \\ud070 \\uc5ec\\uc790\\ub4e4\",\"\\uc0bc\\uad6d\\uc9c0 - \\uc6a9\\uc758 \\ubd80\\ud65c\",\"\\ub7ec\\ube0c \\uc778 \\ud074\\ub77c\\uc6b0\\uc988\",\"\\ube44\\uc815\\uc0c1\\ud68c\\ub2f4\",\"\\ub2f9\\uc2e0\\uc744 \\uc624\\ub7ab\\ub3d9\\uc548 \\uc0ac\\ub791\\ud588\\uc5b4\\uc694\",\"\\uc704\\ud5d8\\ud55c \\uac70\\ub798\",\"\\uac00\\ubb38\\uc758 \\ubd80\\ud65c - \\uac00\\ubb38\\uc758 \\uc601\\uad11 3\",\"\\ud398\\uc774\\ud37c\\ub9e8\",\"\\ucc9c\\uc0ac\\uc758 \\uc120\\ud0dd\",\"\\uc77c\\ubc24\",\"\\uc138\\uc774\\uc9c0: \\uc721\\uc9c0\\uc758 \\ubb3c\\uace0\\uae30\",\"\\ud558\\ub298\\uc774\\uc2dc\\uc5ec\",\"\\uc81c1\\uacf5\\ud654\\uad6d\",\"\\uc0c8\\ub4dc \\ubb34\\ube44\",\"\\uc678\\uacc4\\uc778\\uacfc \\ucf69\\ucf69 \\uac15\\uc2dc\",\"\\ub354 \\ud30c\\ud06c\\ub79c\\ub4dc\",\"\\ud669\\ub2f9\\ud55c \\uc678\\uacc4\\uc778: \\ud3f4\",\"\\uac1c\\uc2ec\\uadc0 4 - \\uac1c\\uc2ec\\uadc0 \\ub300 \\uac1c\\uc2ec\\uadc0\",\"\\uc655\\uaf43 \\uc120\\ub140\\ub2d8\",\"\\ud22c\\uce85\\uc2a4 \\uc778 \\ud30c\\ub9ac\",\"\\uba54\\ub780\\ud0c0\\uc6b0\",\"\\uc368\\ub4dc \\uc2a4\\ud0c0\",\"\\ud669\\uc81c\\ub97c \\uc704\\ud558\\uc5ec\",\"\\ud30c\\uc6cc \\ud0b9\",\"\\ud30c\\ub77c\\ub2e4\\uc774\\uc2a4 \\ub7ec\\ube0c\",\"\\uc601\\uad6c\\uc640 \\ud761\\ud608\\uadc0 \\ub4dc\\ub77c\\ud050\\ub77c\",\"\\ub85c\\uc2a4\\ud2b8 \\ud558\\uc774\\uc6e8\\uc774\",\"\\ub9e4\\ud29c \\ubcf8\\uc758 \\ubc31\\uc870\\uc758 \\ud638\\uc218 3D\",\"\\ub808\\ub4dc \\ucf54\\ub108\",\"\\ub5a1\",\"\\ub2e4 \\ud070 \\uc5ec\\uc790\\ub4e4\",\"\\uc0bc\\uad6d\\uc9c0 - \\uc6a9\\uc758 \\ubd80\\ud65c\",\"\\ub7ec\\ube0c \\uc778 \\ud074\\ub77c\\uc6b0\\uc988\",\"\\ube44\\uc815\\uc0c1\\ud68c\\ub2f4\",\"\\ub2f9\\uc2e0\\uc744 \\uc624\\ub7ab\\ub3d9\\uc548 \\uc0ac\\ub791\\ud588\\uc5b4\\uc694\",\"\\uc704\\ud5d8\\ud55c \\uac70\\ub798\",\"\\uac00\\ubb38\\uc758 \\ubd80\\ud65c - \\uac00\\ubb38\\uc758 \\uc601\\uad11 3\",\"\\ud398\\uc774\\ud37c\\ub9e8\",\"\\ucc9c\\uc0ac\\uc758 \\uc120\\ud0dd\",\"\\uc77c\\ubc24\",\"\\uc138\\uc774\\uc9c0: \\uc721\\uc9c0\\uc758 \\ubb3c\\uace0\\uae30\",\"\\ud558\\ub298\\uc774\\uc2dc\\uc5ec\",\"\\uc81c1\\uacf5\\ud654\\uad6d\",\"\\uc0c8\\ub4dc \\ubb34\\ube44\",\"\\uc678\\uacc4\\uc778\\uacfc \\ucf69\\ucf69 \\uac15\\uc2dc\",\"\\ub354 \\ud30c\\ud06c\\ub79c\\ub4dc\",\"\\ud669\\ub2f9\\ud55c \\uc678\\uacc4\\uc778: \\ud3f4\",\"\\uac1c\\uc2ec\\uadc0 4 - \\uac1c\\uc2ec\\uadc0 \\ub300 \\uac1c\\uc2ec\\uadc0\",\"\\uc655\\uaf43 \\uc120\\ub140\\ub2d8\",\"\\ud22c\\uce85\\uc2a4 \\uc778 \\ud30c\\ub9ac\",\"\\uba54\\ub780\\ud0c0\\uc6b0\",\"\\uc368\\ub4dc \\uc2a4\\ud0c0\",\"\\ud669\\uc81c\\ub97c \\uc704\\ud558\\uc5ec\",\"\\ud30c\\uc6cc \\ud0b9\",\"\\ud30c\\ub77c\\ub2e4\\uc774\\uc2a4 \\ub7ec\\ube0c\",\"\\uc601\\uad6c\\uc640 \\ud761\\ud608\\uadc0 \\ub4dc\\ub77c\\ud050\\ub77c\",\"\\ub85c\\uc2a4\\ud2b8 \\ud558\\uc774\\uc6e8\\uc774\",\"\\ub9e4\\ud29c \\ubcf8\\uc758 \\ubc31\\uc870\\uc758 \\ud638\\uc218 3D\",\"\\ub808\\ub4dc \\ucf54\\ub108\",\"\\ub5a1\",\"\\ub2e4 \\ud070 \\uc5ec\\uc790\\ub4e4\",\"\\uc0bc\\uad6d\\uc9c0 - \\uc6a9\\uc758 \\ubd80\\ud65c\",\"\\ub7ec\\ube0c \\uc778 \\ud074\\ub77c\\uc6b0\\uc988\",\"\\ube44\\uc815\\uc0c1\\ud68c\\ub2f4\",\"\\ub2f9\\uc2e0\\uc744 \\uc624\\ub7ab\\ub3d9\\uc548 \\uc0ac\\ub791\\ud588\\uc5b4\\uc694\",\"\\uc704\\ud5d8\\ud55c \\uac70\\ub798\",\"\\uac00\\ubb38\\uc758 \\ubd80\\ud65c - \\uac00\\ubb38\\uc758 \\uc601\\uad11 3\",\"\\ud398\\uc774\\ud37c\\ub9e8\",\"\\ucc9c\\uc0ac\\uc758 \\uc120\\ud0dd\",\"\\uc77c\\ubc24\",\"\\uc138\\uc774\\uc9c0: \\uc721\\uc9c0\\uc758 \\ubb3c\\uace0\\uae30\",\"\\ud558\\ub298\\uc774\\uc2dc\\uc5ec\",\"\\uc81c1\\uacf5\\ud654\\uad6d\",\"\\uc0c8\\ub4dc \\ubb34\\ube44\",\"\\uc678\\uacc4\\uc778\\uacfc \\ucf69\\ucf69 \\uac15\\uc2dc\",\"\\ub354 \\ud30c\\ud06c\\ub79c\\ub4dc\",\"\\ud669\\ub2f9\\ud55c \\uc678\\uacc4\\uc778: \\ud3f4\",\"\\uac1c\\uc2ec\\uadc0 4 - \\uac1c\\uc2ec\\uadc0 \\ub300 \\uac1c\\uc2ec\\uadc0\",\"\\uc655\\uaf43 \\uc120\\ub140\\ub2d8\",\"\\ud22c\\uce85\\uc2a4 \\uc778 \\ud30c\\ub9ac\",\"\\uba54\\ub780\\ud0c0\\uc6b0\",\"\\uc368\\ub4dc \\uc2a4\\ud0c0\",\"\\ud669\\uc81c\\ub97c \\uc704\\ud558\\uc5ec\",\"\\ud30c\\uc6cc \\ud0b9\",\"\\ud30c\\ub77c\\ub2e4\\uc774\\uc2a4 \\ub7ec\\ube0c\",\"\\uc601\\uad6c\\uc640 \\ud761\\ud608\\uadc0 \\ub4dc\\ub77c\\ud050\\ub77c\",\"\\ub85c\\uc2a4\\ud2b8 \\ud558\\uc774\\uc6e8\\uc774\",\"\\ub9e4\\ud29c \\ubcf8\\uc758 \\ubc31\\uc870\\uc758 \\ud638\\uc218 3D\",\"\\ub808\\ub4dc \\ucf54\\ub108\",\"\\ub5a1\",\"\\ub2e4 \\ud070 \\uc5ec\\uc790\\ub4e4\",\"\\uc0bc\\uad6d\\uc9c0 - \\uc6a9\\uc758 \\ubd80\\ud65c\",\"\\ub7ec\\ube0c \\uc778 \\ud074\\ub77c\\uc6b0\\uc988\",\"\\ube44\\uc815\\uc0c1\\ud68c\\ub2f4\",\"\\ub2f9\\uc2e0\\uc744 \\uc624\\ub7ab\\ub3d9\\uc548 \\uc0ac\\ub791\\ud588\\uc5b4\\uc694\",\"\\uc704\\ud5d8\\ud55c \\uac70\\ub798\",\"\\uac00\\ubb38\\uc758 \\ubd80\\ud65c - \\uac00\\ubb38\\uc758 \\uc601\\uad11 3\",\"\\ud398\\uc774\\ud37c\\ub9e8\",\"\\ucc9c\\uc0ac\\uc758 \\uc120\\ud0dd\",\"\\uc77c\\ubc24\",\"\\uc138\\uc774\\uc9c0: \\uc721\\uc9c0\\uc758 \\ubb3c\\uace0\\uae30\",\"\\ud558\\ub298\\uc774\\uc2dc\\uc5ec\",\"\\uc81c1\\uacf5\\ud654\\uad6d\",\"\\uc0c8\\ub4dc \\ubb34\\ube44\",\"\\uc678\\uacc4\\uc778\\uacfc \\ucf69\\ucf69 \\uac15\\uc2dc\",\"\\ub354 \\ud30c\\ud06c\\ub79c\\ub4dc\",\"\\ud669\\ub2f9\\ud55c \\uc678\\uacc4\\uc778: \\ud3f4\",\"\\uac1c\\uc2ec\\uadc0 4 - \\uac1c\\uc2ec\\uadc0 \\ub300 \\uac1c\\uc2ec\\uadc0\",\"\\uc655\\uaf43 \\uc120\\ub140\\ub2d8\",\"\\ud22c\\uce85\\uc2a4 \\uc778 \\ud30c\\ub9ac\",\"\\uba54\\ub780\\ud0c0\\uc6b0\",\"\\uc368\\ub4dc \\uc2a4\\ud0c0\",\"\\ud669\\uc81c\\ub97c \\uc704\\ud558\\uc5ec\",\"\\ud30c\\uc6cc \\ud0b9\",\"\\ud30c\\ub77c\\ub2e4\\uc774\\uc2a4 \\ub7ec\\ube0c\",\"\\uc601\\uad6c\\uc640 \\ud761\\ud608\\uadc0 \\ub4dc\\ub77c\\ud050\\ub77c\",\"\\ub85c\\uc2a4\\ud2b8 \\ud558\\uc774\\uc6e8\\uc774\",\"\\ub9e4\\ud29c \\ubcf8\\uc758 \\ubc31\\uc870\\uc758 \\ud638\\uc218 3D\",\"\\ub808\\ub4dc \\ucf54\\ub108\",\"\\ub5a1\",\"\\ub2e4 \\ud070 \\uc5ec\\uc790\\ub4e4\",\"\\uc0bc\\uad6d\\uc9c0 - \\uc6a9\\uc758 \\ubd80\\ud65c\",\"\\ub7ec\\ube0c \\uc778 \\ud074\\ub77c\\uc6b0\\uc988\",\"\\ube44\\uc815\\uc0c1\\ud68c\\ub2f4\",\"\\ub2f9\\uc2e0\\uc744 \\uc624\\ub7ab\\ub3d9\\uc548 \\uc0ac\\ub791\\ud588\\uc5b4\\uc694\",\"\\uc704\\ud5d8\\ud55c \\uac70\\ub798\",\"\\uac00\\ubb38\\uc758 \\ubd80\\ud65c - \\uac00\\ubb38\\uc758 \\uc601\\uad11 3\",\"\\ud398\\uc774\\ud37c\\ub9e8\",\"\\ucc9c\\uc0ac\\uc758 \\uc120\\ud0dd\",\"\\uc77c\\ubc24\",\"\\uc138\\uc774\\uc9c0: \\uc721\\uc9c0\\uc758 \\ubb3c\\uace0\\uae30\",\"\\ud558\\ub298\\uc774\\uc2dc\\uc5ec\",\"\\uc81c1\\uacf5\\ud654\\uad6d\",\"\\uc0c8\\ub4dc \\ubb34\\ube44\",\"\\uc678\\uacc4\\uc778\\uacfc \\ucf69\\ucf69 \\uac15\\uc2dc\",\"\\ub354 \\ud30c\\ud06c\\ub79c\\ub4dc\",\"\\ud669\\ub2f9\\ud55c \\uc678\\uacc4\\uc778: \\ud3f4\",\"\\uac1c\\uc2ec\\uadc0 4 - \\uac1c\\uc2ec\\uadc0 \\ub300 \\uac1c\\uc2ec\\uadc0\",\"\\uc655\\uaf43 \\uc120\\ub140\\ub2d8\",\"\\ud22c\\uce85\\uc2a4 \\uc778 \\ud30c\\ub9ac\",\"\\uba54\\ub780\\ud0c0\\uc6b0\",\"\\uc368\\ub4dc \\uc2a4\\ud0c0\",\"\\ud669\\uc81c\\ub97c \\uc704\\ud558\\uc5ec\",\"\\ud30c\\uc6cc \\ud0b9\",\"\\ud30c\\ub77c\\ub2e4\\uc774\\uc2a4 \\ub7ec\\ube0c\",\"\\uc601\\uad6c\\uc640 \\ud761\\ud608\\uadc0 \\ub4dc\\ub77c\\ud050\\ub77c\",\"\\ub85c\\uc2a4\\ud2b8 \\ud558\\uc774\\uc6e8\\uc774\",\"\\ub9e4\\ud29c \\ubcf8\\uc758 \\ubc31\\uc870\\uc758 \\ud638\\uc218 3D\",\"\\ub808\\ub4dc \\ucf54\\ub108\",\"\\ub5a1\",\"\\ub2e4 \\ud070 \\uc5ec\\uc790\\ub4e4\",\"\\uc0bc\\uad6d\\uc9c0 - \\uc6a9\\uc758 \\ubd80\\ud65c\",\"\\ub7ec\\ube0c \\uc778 \\ud074\\ub77c\\uc6b0\\uc988\",\"\\ube44\\uc815\\uc0c1\\ud68c\\ub2f4\",\"\\ub2f9\\uc2e0\\uc744 \\uc624\\ub7ab\\ub3d9\\uc548 \\uc0ac\\ub791\\ud588\\uc5b4\\uc694\",\"\\uc704\\ud5d8\\ud55c \\uac70\\ub798\",\"\\uac00\\ubb38\\uc758 \\ubd80\\ud65c - \\uac00\\ubb38\\uc758 \\uc601\\uad11 3\",\"\\ud398\\uc774\\ud37c\\ub9e8\",\"\\ucc9c\\uc0ac\\uc758 \\uc120\\ud0dd\",\"\\uc77c\\ubc24\",\"\\uc138\\uc774\\uc9c0: \\uc721\\uc9c0\\uc758 \\ubb3c\\uace0\\uae30\",\"\\ud558\\ub298\\uc774\\uc2dc\\uc5ec\",\"\\uc81c1\\uacf5\\ud654\\uad6d\",\"\\uc0c8\\ub4dc \\ubb34\\ube44\",\"\\uc678\\uacc4\\uc778\\uacfc \\ucf69\\ucf69 \\uac15\\uc2dc\",\"\\ub354 \\ud30c\\ud06c\\ub79c\\ub4dc\",\"\\ud669\\ub2f9\\ud55c \\uc678\\uacc4\\uc778: \\ud3f4\",\"\\uac1c\\uc2ec\\uadc0 4 - \\uac1c\\uc2ec\\uadc0 \\ub300 \\uac1c\\uc2ec\\uadc0\",\"\\uc655\\uaf43 \\uc120\\ub140\\ub2d8\",\"\\ud22c\\uce85\\uc2a4 \\uc778 \\ud30c\\ub9ac\",\"\\uba54\\ub780\\ud0c0\\uc6b0\",\"\\uc368\\ub4dc \\uc2a4\\ud0c0\",\"\\ud669\\uc81c\\ub97c \\uc704\\ud558\\uc5ec\",\"\\ud30c\\uc6cc \\ud0b9\",\"\\ud30c\\ub77c\\ub2e4\\uc774\\uc2a4 \\ub7ec\\ube0c\",\"\\uc601\\uad6c\\uc640 \\ud761\\ud608\\uadc0 \\ub4dc\\ub77c\\ud050\\ub77c\",\"\\ub85c\\uc2a4\\ud2b8 \\ud558\\uc774\\uc6e8\\uc774\",\"\\ub9e4\\ud29c \\ubcf8\\uc758 \\ubc31\\uc870\\uc758 \\ud638\\uc218 3D\",\"\\ub808\\ub4dc \\ucf54\\ub108\",\"\\ub5a1\",\"\\ub2e4 \\ud070 \\uc5ec\\uc790\\ub4e4\",\"\\uc0bc\\uad6d\\uc9c0 - \\uc6a9\\uc758 \\ubd80\\ud65c\",\"\\ub7ec\\ube0c \\uc778 \\ud074\\ub77c\\uc6b0\\uc988\",\"\\ube44\\uc815\\uc0c1\\ud68c\\ub2f4\",\"\\ub2f9\\uc2e0\\uc744 \\uc624\\ub7ab\\ub3d9\\uc548 \\uc0ac\\ub791\\ud588\\uc5b4\\uc694\",\"\\uc704\\ud5d8\\ud55c \\uac70\\ub798\",\"\\uac00\\ubb38\\uc758 \\ubd80\\ud65c - \\uac00\\ubb38\\uc758 \\uc601\\uad11 3\",\"\\ud398\\uc774\\ud37c\\ub9e8\",\"\\ucc9c\\uc0ac\\uc758 \\uc120\\ud0dd\",\"\\uc77c\\ubc24\",\"\\uc138\\uc774\\uc9c0: \\uc721\\uc9c0\\uc758 \\ubb3c\\uace0\\uae30\",\"\\ud558\\ub298\\uc774\\uc2dc\\uc5ec\",\"\\uc81c1\\uacf5\\ud654\\uad6d\",\"\\uc0c8\\ub4dc \\ubb34\\ube44\",\"\\uc678\\uacc4\\uc778\\uacfc \\ucf69\\ucf69 \\uac15\\uc2dc\",\"\\ub354 \\ud30c\\ud06c\\ub79c\\ub4dc\",\"\\ud669\\ub2f9\\ud55c \\uc678\\uacc4\\uc778: \\ud3f4\",\"\\uac1c\\uc2ec\\uadc0 4 - \\uac1c\\uc2ec\\uadc0 \\ub300 \\uac1c\\uc2ec\\uadc0\",\"\\uc655\\uaf43 \\uc120\\ub140\\ub2d8\",\"\\ud22c\\uce85\\uc2a4 \\uc778 \\ud30c\\ub9ac\",\"\\uba54\\ub780\\ud0c0\\uc6b0\",\"\\uc368\\ub4dc \\uc2a4\\ud0c0\",\"\\ud669\\uc81c\\ub97c \\uc704\\ud558\\uc5ec\",\"\\ud30c\\uc6cc \\ud0b9\",\"\\ud30c\\ub77c\\ub2e4\\uc774\\uc2a4 \\ub7ec\\ube0c\",\"\\uc601\\uad6c\\uc640 \\ud761\\ud608\\uadc0 \\ub4dc\\ub77c\\ud050\\ub77c\",\"\\ub85c\\uc2a4\\ud2b8 \\ud558\\uc774\\uc6e8\\uc774\",\"\\ub9e4\\ud29c \\ubcf8\\uc758 \\ubc31\\uc870\\uc758 \\ud638\\uc218 3D\",\"\\ub808\\ub4dc \\ucf54\\ub108\",\"\\ub5a1\",\"\\ub2e4 \\ud070 \\uc5ec\\uc790\\ub4e4\",\"\\uc0bc\\uad6d\\uc9c0 - \\uc6a9\\uc758 \\ubd80\\ud65c\",\"\\ub7ec\\ube0c \\uc778 \\ud074\\ub77c\\uc6b0\\uc988\",\"\\ube44\\uc815\\uc0c1\\ud68c\\ub2f4\",\"\\ub2f9\\uc2e0\\uc744 \\uc624\\ub7ab\\ub3d9\\uc548 \\uc0ac\\ub791\\ud588\\uc5b4\\uc694\",\"\\uc704\\ud5d8\\ud55c \\uac70\\ub798\",\"\\uac00\\ubb38\\uc758 \\ubd80\\ud65c - \\uac00\\ubb38\\uc758 \\uc601\\uad11 3\",\"\\ud398\\uc774\\ud37c\\ub9e8\",\"\\ucc9c\\uc0ac\\uc758 \\uc120\\ud0dd\",\"\\uc77c\\ubc24\",\"\\uc138\\uc774\\uc9c0: \\uc721\\uc9c0\\uc758 \\ubb3c\\uace0\\uae30\",\"\\ud558\\ub298\\uc774\\uc2dc\\uc5ec\",\"\\uc81c1\\uacf5\\ud654\\uad6d\",\"\\uc0c8\\ub4dc \\ubb34\\ube44\",\"\\uc678\\uacc4\\uc778\\uacfc \\ucf69\\ucf69 \\uac15\\uc2dc\",\"\\ub354 \\ud30c\\ud06c\\ub79c\\ub4dc\",\"\\ud669\\ub2f9\\ud55c \\uc678\\uacc4\\uc778: \\ud3f4\",\"\\uac1c\\uc2ec\\uadc0 4 - \\uac1c\\uc2ec\\uadc0 \\ub300 \\uac1c\\uc2ec\\uadc0\",\"\\uc655\\uaf43 \\uc120\\ub140\\ub2d8\",\"\\ud22c\\uce85\\uc2a4 \\uc778 \\ud30c\\ub9ac\",\"\\uba54\\ub780\\ud0c0\\uc6b0\",\"\\uc368\\ub4dc \\uc2a4\\ud0c0\",\"\\ud669\\uc81c\\ub97c \\uc704\\ud558\\uc5ec\",\"\\ud30c\\uc6cc \\ud0b9\",\"\\ud30c\\ub77c\\ub2e4\\uc774\\uc2a4 \\ub7ec\\ube0c\",\"\\uc601\\uad6c\\uc640 \\ud761\\ud608\\uadc0 \\ub4dc\\ub77c\\ud050\\ub77c\",\"\\ub85c\\uc2a4\\ud2b8 \\ud558\\uc774\\uc6e8\\uc774\",\"\\ub9e4\\ud29c \\ubcf8\\uc758 \\ubc31\\uc870\\uc758 \\ud638\\uc218 3D\",\"\\ub808\\ub4dc \\ucf54\\ub108\",\"\\ub5a1\",\"\\ub2e4 \\ud070 \\uc5ec\\uc790\\ub4e4\",\"\\uc0bc\\uad6d\\uc9c0 - \\uc6a9\\uc758 \\ubd80\\ud65c\",\"\\ub7ec\\ube0c \\uc778 \\ud074\\ub77c\\uc6b0\\uc988\",\"\\ube44\\uc815\\uc0c1\\ud68c\\ub2f4\",\"\\ub2f9\\uc2e0\\uc744 \\uc624\\ub7ab\\ub3d9\\uc548 \\uc0ac\\ub791\\ud588\\uc5b4\\uc694\",\"\\uc704\\ud5d8\\ud55c \\uac70\\ub798\",\"\\uac00\\ubb38\\uc758 \\ubd80\\ud65c - \\uac00\\ubb38\\uc758 \\uc601\\uad11 3\",\"\\ud398\\uc774\\ud37c\\ub9e8\",\"\\ucc9c\\uc0ac\\uc758 \\uc120\\ud0dd\",\"\\uc77c\\ubc24\",\"\\uc138\\uc774\\uc9c0: \\uc721\\uc9c0\\uc758 \\ubb3c\\uace0\\uae30\",\"\\ud558\\ub298\\uc774\\uc2dc\\uc5ec\",\"\\uc81c1\\uacf5\\ud654\\uad6d\",\"\\uc0c8\\ub4dc \\ubb34\\ube44\",\"\\uc678\\uacc4\\uc778\\uacfc \\ucf69\\ucf69 \\uac15\\uc2dc\",\"\\ub354 \\ud30c\\ud06c\\ub79c\\ub4dc\",\"\\ud669\\ub2f9\\ud55c \\uc678\\uacc4\\uc778: \\ud3f4\",\"\\uac1c\\uc2ec\\uadc0 4 - \\uac1c\\uc2ec\\uadc0 \\ub300 \\uac1c\\uc2ec\\uadc0\",\"\\uc655\\uaf43 \\uc120\\ub140\\ub2d8\",\"\\ud22c\\uce85\\uc2a4 \\uc778 \\ud30c\\ub9ac\",\"\\uba54\\ub780\\ud0c0\\uc6b0\",\"\\uc368\\ub4dc \\uc2a4\\ud0c0\",\"\\ud669\\uc81c\\ub97c \\uc704\\ud558\\uc5ec\",\"\\ud30c\\uc6cc \\ud0b9\",\"\\ud30c\\ub77c\\ub2e4\\uc774\\uc2a4 \\ub7ec\\ube0c\",\"\\uc601\\uad6c\\uc640 \\ud761\\ud608\\uadc0 \\ub4dc\\ub77c\\ud050\\ub77c\",\"\\ub85c\\uc2a4\\ud2b8 \\ud558\\uc774\\uc6e8\\uc774\",\"\\ub9e4\\ud29c \\ubcf8\\uc758 \\ubc31\\uc870\\uc758 \\ud638\\uc218 3D\",\"\\ub808\\ub4dc \\ucf54\\ub108\",\"\\ub5a1\",\"\\ub2e4 \\ud070 \\uc5ec\\uc790\\ub4e4\",\"\\uc0bc\\uad6d\\uc9c0 - \\uc6a9\\uc758 \\ubd80\\ud65c\",\"\\ub7ec\\ube0c \\uc778 \\ud074\\ub77c\\uc6b0\\uc988\",\"\\ube44\\uc815\\uc0c1\\ud68c\\ub2f4\",\"\\ub2f9\\uc2e0\\uc744 \\uc624\\ub7ab\\ub3d9\\uc548 \\uc0ac\\ub791\\ud588\\uc5b4\\uc694\",\"\\uc704\\ud5d8\\ud55c \\uac70\\ub798\",\"\\uac00\\ubb38\\uc758 \\ubd80\\ud65c - \\uac00\\ubb38\\uc758 \\uc601\\uad11 3\",\"\\ud398\\uc774\\ud37c\\ub9e8\",\"\\ucc9c\\uc0ac\\uc758 \\uc120\\ud0dd\",\"\\uc77c\\ubc24\",\"\\uc138\\uc774\\uc9c0: \\uc721\\uc9c0\\uc758 \\ubb3c\\uace0\\uae30\",\"\\ud558\\ub298\\uc774\\uc2dc\\uc5ec\",\"\\uc81c1\\uacf5\\ud654\\uad6d\",\"\\uc0c8\\ub4dc \\ubb34\\ube44\",\"\\uc678\\uacc4\\uc778\\uacfc \\ucf69\\ucf69 \\uac15\\uc2dc\",\"\\ub354 \\ud30c\\ud06c\\ub79c\\ub4dc\",\"\\ud669\\ub2f9\\ud55c \\uc678\\uacc4\\uc778: \\ud3f4\",\"\\uac1c\\uc2ec\\uadc0 4 - \\uac1c\\uc2ec\\uadc0 \\ub300 \\uac1c\\uc2ec\\uadc0\",\"\\uc655\\uaf43 \\uc120\\ub140\\ub2d8\",\"\\ud22c\\uce85\\uc2a4 \\uc778 \\ud30c\\ub9ac\",\"\\uba54\\ub780\\ud0c0\\uc6b0\",\"\\uc368\\ub4dc \\uc2a4\\ud0c0\",\"\\ud669\\uc81c\\ub97c \\uc704\\ud558\\uc5ec\",\"\\ud30c\\uc6cc \\ud0b9\",\"\\ud30c\\ub77c\\ub2e4\\uc774\\uc2a4 \\ub7ec\\ube0c\",\"\\uc601\\uad6c\\uc640 \\ud761\\ud608\\uadc0 \\ub4dc\\ub77c\\ud050\\ub77c\",\"\\ub85c\\uc2a4\\ud2b8 \\ud558\\uc774\\uc6e8\\uc774\",\"\\ub9e4\\ud29c \\ubcf8\\uc758 \\ubc31\\uc870\\uc758 \\ud638\\uc218 3D\",\"\\ub808\\ub4dc \\ucf54\\ub108\",\"\\ub5a1\",\"\\ub2e4 \\ud070 \\uc5ec\\uc790\\ub4e4\",\"\\uc0bc\\uad6d\\uc9c0 - \\uc6a9\\uc758 \\ubd80\\ud65c\",\"\\ub7ec\\ube0c \\uc778 \\ud074\\ub77c\\uc6b0\\uc988\",\"\\ube44\\uc815\\uc0c1\\ud68c\\ub2f4\",\"\\ub2f9\\uc2e0\\uc744 \\uc624\\ub7ab\\ub3d9\\uc548 \\uc0ac\\ub791\\ud588\\uc5b4\\uc694\",\"\\uc704\\ud5d8\\ud55c \\uac70\\ub798\",\"\\uac00\\ubb38\\uc758 \\ubd80\\ud65c - \\uac00\\ubb38\\uc758 \\uc601\\uad11 3\",\"\\ud398\\uc774\\ud37c\\ub9e8\",\"\\ucc9c\\uc0ac\\uc758 \\uc120\\ud0dd\",\"\\uc77c\\ubc24\",\"\\uc138\\uc774\\uc9c0: \\uc721\\uc9c0\\uc758 \\ubb3c\\uace0\\uae30\",\"\\ud558\\ub298\\uc774\\uc2dc\\uc5ec\",\"\\uc81c1\\uacf5\\ud654\\uad6d\",\"\\uc0c8\\ub4dc \\ubb34\\ube44\",\"\\uc678\\uacc4\\uc778\\uacfc \\ucf69\\ucf69 \\uac15\\uc2dc\",\"\\ub354 \\ud30c\\ud06c\\ub79c\\ub4dc\",\"\\ud669\\ub2f9\\ud55c \\uc678\\uacc4\\uc778: \\ud3f4\",\"\\uac1c\\uc2ec\\uadc0 4 - \\uac1c\\uc2ec\\uadc0 \\ub300 \\uac1c\\uc2ec\\uadc0\",\"\\uc655\\uaf43 \\uc120\\ub140\\ub2d8\",\"\\ud22c\\uce85\\uc2a4 \\uc778 \\ud30c\\ub9ac\",\"\\uba54\\ub780\\ud0c0\\uc6b0\",\"\\uc368\\ub4dc \\uc2a4\\ud0c0\",\"\\ud669\\uc81c\\ub97c \\uc704\\ud558\\uc5ec\",\"\\ud30c\\uc6cc \\ud0b9\",\"\\ud30c\\ub77c\\ub2e4\\uc774\\uc2a4 \\ub7ec\\ube0c\",\"\\uc601\\uad6c\\uc640 \\ud761\\ud608\\uadc0 \\ub4dc\\ub77c\\ud050\\ub77c\",\"\\ub85c\\uc2a4\\ud2b8 \\ud558\\uc774\\uc6e8\\uc774\",\"\\ub9e4\\ud29c \\ubcf8\\uc758 \\ubc31\\uc870\\uc758 \\ud638\\uc218 3D\",\"\\ub808\\ub4dc \\ucf54\\ub108\",\"\\ub5a1\",\"\\ub2e4 \\ud070 \\uc5ec\\uc790\\ub4e4\",\"\\uc0bc\\uad6d\\uc9c0 - \\uc6a9\\uc758 \\ubd80\\ud65c\",\"\\ub7ec\\ube0c \\uc778 \\ud074\\ub77c\\uc6b0\\uc988\",\"\\ube44\\uc815\\uc0c1\\ud68c\\ub2f4\",\"\\ub2f9\\uc2e0\\uc744 \\uc624\\ub7ab\\ub3d9\\uc548 \\uc0ac\\ub791\\ud588\\uc5b4\\uc694\",\"\\uc704\\ud5d8\\ud55c \\uac70\\ub798\",\"\\uac00\\ubb38\\uc758 \\ubd80\\ud65c - \\uac00\\ubb38\\uc758 \\uc601\\uad11 3\",\"\\ud398\\uc774\\ud37c\\ub9e8\",\"\\ucc9c\\uc0ac\\uc758 \\uc120\\ud0dd\",\"\\uc77c\\ubc24\",\"\\uc138\\uc774\\uc9c0: \\uc721\\uc9c0\\uc758 \\ubb3c\\uace0\\uae30\",\"\\ud558\\ub298\\uc774\\uc2dc\\uc5ec\",\"\\uc81c1\\uacf5\\ud654\\uad6d\",\"\\uc0c8\\ub4dc \\ubb34\\ube44\",\"\\uc678\\uacc4\\uc778\\uacfc \\ucf69\\ucf69 \\uac15\\uc2dc\",\"\\ub354 \\ud30c\\ud06c\\ub79c\\ub4dc\",\"\\ud669\\ub2f9\\ud55c \\uc678\\uacc4\\uc778: \\ud3f4\",\"\\uac1c\\uc2ec\\uadc0 4 - \\uac1c\\uc2ec\\uadc0 \\ub300 \\uac1c\\uc2ec\\uadc0\",\"\\uc655\\uaf43 \\uc120\\ub140\\ub2d8\",\"\\ud22c\\uce85\\uc2a4 \\uc778 \\ud30c\\ub9ac\",\"\\uba54\\ub780\\ud0c0\\uc6b0\",\"\\uc368\\ub4dc \\uc2a4\\ud0c0\",\"\\ud669\\uc81c\\ub97c \\uc704\\ud558\\uc5ec\",\"\\ud30c\\uc6cc \\ud0b9\",\"\\ud30c\\ub77c\\ub2e4\\uc774\\uc2a4 \\ub7ec\\ube0c\",\"\\uc601\\uad6c\\uc640 \\ud761\\ud608\\uadc0 \\ub4dc\\ub77c\\ud050\\ub77c\",\"\\ub85c\\uc2a4\\ud2b8 \\ud558\\uc774\\uc6e8\\uc774\",\"\\ub9e4\\ud29c \\ubcf8\\uc758 \\ubc31\\uc870\\uc758 \\ud638\\uc218 3D\",\"\\ub808\\ub4dc \\ucf54\\ub108\",\"\\ub5a1\",\"\\ub2e4 \\ud070 \\uc5ec\\uc790\\ub4e4\",\"\\uc0bc\\uad6d\\uc9c0 - \\uc6a9\\uc758 \\ubd80\\ud65c\",\"\\ub7ec\\ube0c \\uc778 \\ud074\\ub77c\\uc6b0\\uc988\",\"\\ube44\\uc815\\uc0c1\\ud68c\\ub2f4\",\"\\ub2f9\\uc2e0\\uc744 \\uc624\\ub7ab\\ub3d9\\uc548 \\uc0ac\\ub791\\ud588\\uc5b4\\uc694\",\"\\uc704\\ud5d8\\ud55c \\uac70\\ub798\",\"\\uac00\\ubb38\\uc758 \\ubd80\\ud65c - \\uac00\\ubb38\\uc758 \\uc601\\uad11 3\",\"\\ud398\\uc774\\ud37c\\ub9e8\",\"\\ucc9c\\uc0ac\\uc758 \\uc120\\ud0dd\",\"\\uc77c\\ubc24\",\"\\uc138\\uc774\\uc9c0: \\uc721\\uc9c0\\uc758 \\ubb3c\\uace0\\uae30\",\"\\ud558\\ub298\\uc774\\uc2dc\\uc5ec\",\"\\uc81c1\\uacf5\\ud654\\uad6d\",\"\\uc0c8\\ub4dc \\ubb34\\ube44\",\"\\uc678\\uacc4\\uc778\\uacfc \\ucf69\\ucf69 \\uac15\\uc2dc\",\"\\ub354 \\ud30c\\ud06c\\ub79c\\ub4dc\",\"\\ud669\\ub2f9\\ud55c \\uc678\\uacc4\\uc778: \\ud3f4\",\"\\uac1c\\uc2ec\\uadc0 4 - \\uac1c\\uc2ec\\uadc0 \\ub300 \\uac1c\\uc2ec\\uadc0\",\"\\uc655\\uaf43 \\uc120\\ub140\\ub2d8\",\"\\ud22c\\uce85\\uc2a4 \\uc778 \\ud30c\\ub9ac\",\"\\uba54\\ub780\\ud0c0\\uc6b0\",\"\\uc368\\ub4dc \\uc2a4\\ud0c0\",\"\\ud669\\uc81c\\ub97c \\uc704\\ud558\\uc5ec\",\"\\ud30c\\uc6cc \\ud0b9\",\"\\ud30c\\ub77c\\ub2e4\\uc774\\uc2a4 \\ub7ec\\ube0c\",\"\\uc601\\uad6c\\uc640 \\ud761\\ud608\\uadc0 \\ub4dc\\ub77c\\ud050\\ub77c\",\"\\ub85c\\uc2a4\\ud2b8 \\ud558\\uc774\\uc6e8\\uc774\",\"\\ub9e4\\ud29c \\ubcf8\\uc758 \\ubc31\\uc870\\uc758 \\ud638\\uc218 3D\",\"\\ub808\\ub4dc \\ucf54\\ub108\",\"\\ub5a1\",\"\\ub2e4 \\ud070 \\uc5ec\\uc790\\ub4e4\",\"\\uc0bc\\uad6d\\uc9c0 - \\uc6a9\\uc758 \\ubd80\\ud65c\",\"\\ub7ec\\ube0c \\uc778 \\ud074\\ub77c\\uc6b0\\uc988\",\"\\ube44\\uc815\\uc0c1\\ud68c\\ub2f4\",\"\\ub2f9\\uc2e0\\uc744 \\uc624\\ub7ab\\ub3d9\\uc548 \\uc0ac\\ub791\\ud588\\uc5b4\\uc694\",\"\\uc704\\ud5d8\\ud55c \\uac70\\ub798\",\"\\uac00\\ubb38\\uc758 \\ubd80\\ud65c - \\uac00\\ubb38\\uc758 \\uc601\\uad11 3\",\"\\ud398\\uc774\\ud37c\\ub9e8\",\"\\ucc9c\\uc0ac\\uc758 \\uc120\\ud0dd\",\"\\uc77c\\ubc24\",\"\\uc138\\uc774\\uc9c0: \\uc721\\uc9c0\\uc758 \\ubb3c\\uace0\\uae30\",\"\\ud558\\ub298\\uc774\\uc2dc\\uc5ec\",\"\\uc81c1\\uacf5\\ud654\\uad6d\",\"\\uc0c8\\ub4dc \\ubb34\\ube44\",\"\\uc678\\uacc4\\uc778\\uacfc \\ucf69\\ucf69 \\uac15\\uc2dc\",\"\\ub354 \\ud30c\\ud06c\\ub79c\\ub4dc\",\"\\ud669\\ub2f9\\ud55c \\uc678\\uacc4\\uc778: \\ud3f4\",\"\\uac1c\\uc2ec\\uadc0 4 - \\uac1c\\uc2ec\\uadc0 \\ub300 \\uac1c\\uc2ec\\uadc0\",\"\\uc655\\uaf43 \\uc120\\ub140\\ub2d8\",\"\\ud22c\\uce85\\uc2a4 \\uc778 \\ud30c\\ub9ac\",\"\\uba54\\ub780\\ud0c0\\uc6b0\",\"\\uc368\\ub4dc \\uc2a4\\ud0c0\",\"\\ud669\\uc81c\\ub97c \\uc704\\ud558\\uc5ec\",\"\\ud30c\\uc6cc \\ud0b9\",\"\\ud30c\\ub77c\\ub2e4\\uc774\\uc2a4 \\ub7ec\\ube0c\",\"\\uc601\\uad6c\\uc640 \\ud761\\ud608\\uadc0 \\ub4dc\\ub77c\\ud050\\ub77c\",\"\\ub85c\\uc2a4\\ud2b8 \\ud558\\uc774\\uc6e8\\uc774\",\"\\ub9e4\\ud29c \\ubcf8\\uc758 \\ubc31\\uc870\\uc758 \\ud638\\uc218 3D\",\"\\ub808\\ub4dc \\ucf54\\ub108\",\"\\ub5a1\",\"\\ub2e4 \\ud070 \\uc5ec\\uc790\\ub4e4\",\"\\uc0bc\\uad6d\\uc9c0 - \\uc6a9\\uc758 \\ubd80\\ud65c\",\"\\ub7ec\\ube0c \\uc778 \\ud074\\ub77c\\uc6b0\\uc988\",\"\\ube44\\uc815\\uc0c1\\ud68c\\ub2f4\",\"\\ub2f9\\uc2e0\\uc744 \\uc624\\ub7ab\\ub3d9\\uc548 \\uc0ac\\ub791\\ud588\\uc5b4\\uc694\",\"\\uc704\\ud5d8\\ud55c \\uac70\\ub798\",\"\\uac00\\ubb38\\uc758 \\ubd80\\ud65c - \\uac00\\ubb38\\uc758 \\uc601\\uad11 3\",\"\\ud398\\uc774\\ud37c\\ub9e8\",\"\\ucc9c\\uc0ac\\uc758 \\uc120\\ud0dd\",\"\\uc77c\\ubc24\",\"\\uc138\\uc774\\uc9c0: \\uc721\\uc9c0\\uc758 \\ubb3c\\uace0\\uae30\",\"\\ud558\\ub298\\uc774\\uc2dc\\uc5ec\",\"\\uc81c1\\uacf5\\ud654\\uad6d\",\"\\uc0c8\\ub4dc \\ubb34\\ube44\",\"\\uc678\\uacc4\\uc778\\uacfc \\ucf69\\ucf69 \\uac15\\uc2dc\",\"\\ub354 \\ud30c\\ud06c\\ub79c\\ub4dc\",\"\\ud669\\ub2f9\\ud55c \\uc678\\uacc4\\uc778: \\ud3f4\",\"\\uac1c\\uc2ec\\uadc0 4 - \\uac1c\\uc2ec\\uadc0 \\ub300 \\uac1c\\uc2ec\\uadc0\",\"\\uc655\\uaf43 \\uc120\\ub140\\ub2d8\",\"\\ud22c\\uce85\\uc2a4 \\uc778 \\ud30c\\ub9ac\",\"\\uba54\\ub780\\ud0c0\\uc6b0\",\"\\uc368\\ub4dc \\uc2a4\\ud0c0\",\"\\ud669\\uc81c\\ub97c \\uc704\\ud558\\uc5ec\",\"\\ud30c\\uc6cc \\ud0b9\",\"\\ud30c\\ub77c\\ub2e4\\uc774\\uc2a4 \\ub7ec\\ube0c\",\"\\uc601\\uad6c\\uc640 \\ud761\\ud608\\uadc0 \\ub4dc\\ub77c\\ud050\\ub77c\",\"\\ub85c\\uc2a4\\ud2b8 \\ud558\\uc774\\uc6e8\\uc774\",\"\\ub9e4\\ud29c \\ubcf8\\uc758 \\ubc31\\uc870\\uc758 \\ud638\\uc218 3D\",\"\\ub808\\ub4dc \\ucf54\\ub108\",\"\\ub5a1\",\"\\ub2e4 \\ud070 \\uc5ec\\uc790\\ub4e4\",\"\\uc0bc\\uad6d\\uc9c0 - \\uc6a9\\uc758 \\ubd80\\ud65c\",\"\\ub7ec\\ube0c \\uc778 \\ud074\\ub77c\\uc6b0\\uc988\",\"\\ube44\\uc815\\uc0c1\\ud68c\\ub2f4\",\"\\ub2f9\\uc2e0\\uc744 \\uc624\\ub7ab\\ub3d9\\uc548 \\uc0ac\\ub791\\ud588\\uc5b4\\uc694\",\"\\uc704\\ud5d8\\ud55c \\uac70\\ub798\",\"\\uac00\\ubb38\\uc758 \\ubd80\\ud65c - \\uac00\\ubb38\\uc758 \\uc601\\uad11 3\",\"\\ud398\\uc774\\ud37c\\ub9e8\",\"\\ucc9c\\uc0ac\\uc758 \\uc120\\ud0dd\",\"\\uc77c\\ubc24\",\"\\uc138\\uc774\\uc9c0: \\uc721\\uc9c0\\uc758 \\ubb3c\\uace0\\uae30\",\"\\ud558\\ub298\\uc774\\uc2dc\\uc5ec\",\"\\uc81c1\\uacf5\\ud654\\uad6d\",\"\\uc0c8\\ub4dc \\ubb34\\ube44\",\"\\uc678\\uacc4\\uc778\\uacfc \\ucf69\\ucf69 \\uac15\\uc2dc\",\"\\ub354 \\ud30c\\ud06c\\ub79c\\ub4dc\",\"\\ud669\\ub2f9\\ud55c \\uc678\\uacc4\\uc778: \\ud3f4\",\"\\uac1c\\uc2ec\\uadc0 4 - \\uac1c\\uc2ec\\uadc0 \\ub300 \\uac1c\\uc2ec\\uadc0\",\"\\uc655\\uaf43 \\uc120\\ub140\\ub2d8\",\"\\ud22c\\uce85\\uc2a4 \\uc778 \\ud30c\\ub9ac\",\"\\uba54\\ub780\\ud0c0\\uc6b0\",\"\\uc368\\ub4dc \\uc2a4\\ud0c0\",\"\\ud669\\uc81c\\ub97c \\uc704\\ud558\\uc5ec\",\"\\ud30c\\uc6cc \\ud0b9\",\"\\ud30c\\ub77c\\ub2e4\\uc774\\uc2a4 \\ub7ec\\ube0c\",\"\\uc601\\uad6c\\uc640 \\ud761\\ud608\\uadc0 \\ub4dc\\ub77c\\ud050\\ub77c\",\"\\ub85c\\uc2a4\\ud2b8 \\ud558\\uc774\\uc6e8\\uc774\",\"\\ub9e4\\ud29c \\ubcf8\\uc758 \\ubc31\\uc870\\uc758 \\ud638\\uc218 3D\",\"\\ub808\\ub4dc \\ucf54\\ub108\",\"\\ub5a1\",\"\\ub2e4 \\ud070 \\uc5ec\\uc790\\ub4e4\",\"\\uc0bc\\uad6d\\uc9c0 - \\uc6a9\\uc758 \\ubd80\\ud65c\",\"\\ub7ec\\ube0c \\uc778 \\ud074\\ub77c\\uc6b0\\uc988\",\"\\ube44\\uc815\\uc0c1\\ud68c\\ub2f4\",\"\\ub2f9\\uc2e0\\uc744 \\uc624\\ub7ab\\ub3d9\\uc548 \\uc0ac\\ub791\\ud588\\uc5b4\\uc694\",\"\\uc704\\ud5d8\\ud55c \\uac70\\ub798\",\"\\uac00\\ubb38\\uc758 \\ubd80\\ud65c - \\uac00\\ubb38\\uc758 \\uc601\\uad11 3\",\"\\ud398\\uc774\\ud37c\\ub9e8\",\"\\ucc9c\\uc0ac\\uc758 \\uc120\\ud0dd\",\"\\uc77c\\ubc24\",\"\\uc138\\uc774\\uc9c0: \\uc721\\uc9c0\\uc758 \\ubb3c\\uace0\\uae30\",\"\\ud558\\ub298\\uc774\\uc2dc\\uc5ec\",\"\\uc81c1\\uacf5\\ud654\\uad6d\",\"\\uc0c8\\ub4dc \\ubb34\\ube44\",\"\\uc678\\uacc4\\uc778\\uacfc \\ucf69\\ucf69 \\uac15\\uc2dc\",\"\\ub354 \\ud30c\\ud06c\\ub79c\\ub4dc\",\"\\ud669\\ub2f9\\ud55c \\uc678\\uacc4\\uc778: \\ud3f4\",\"\\uac1c\\uc2ec\\uadc0 4 - \\uac1c\\uc2ec\\uadc0 \\ub300 \\uac1c\\uc2ec\\uadc0\",\"\\uc655\\uaf43 \\uc120\\ub140\\ub2d8\",\"\\ud22c\\uce85\\uc2a4 \\uc778 \\ud30c\\ub9ac\",\"\\uba54\\ub780\\ud0c0\\uc6b0\",\"\\uc368\\ub4dc \\uc2a4\\ud0c0\",\"\\ud669\\uc81c\\ub97c \\uc704\\ud558\\uc5ec\",\"\\ud30c\\uc6cc \\ud0b9\",\"\\ud30c\\ub77c\\ub2e4\\uc774\\uc2a4 \\ub7ec\\ube0c\",\"\\uc601\\uad6c\\uc640 \\ud761\\ud608\\uadc0 \\ub4dc\\ub77c\\ud050\\ub77c\",\"\\ub85c\\uc2a4\\ud2b8 \\ud558\\uc774\\uc6e8\\uc774\",\"\\ub9e4\\ud29c \\ubcf8\\uc758 \\ubc31\\uc870\\uc758 \\ud638\\uc218 3D\",\"\\ub808\\ub4dc \\ucf54\\ub108\",\"\\ub5a1\",\"\\ub2e4 \\ud070 \\uc5ec\\uc790\\ub4e4\",\"\\uc0bc\\uad6d\\uc9c0 - \\uc6a9\\uc758 \\ubd80\\ud65c\",\"\\ub7ec\\ube0c \\uc778 \\ud074\\ub77c\\uc6b0\\uc988\",\"\\ube44\\uc815\\uc0c1\\ud68c\\ub2f4\",\"\\ub2f9\\uc2e0\\uc744 \\uc624\\ub7ab\\ub3d9\\uc548 \\uc0ac\\ub791\\ud588\\uc5b4\\uc694\",\"\\uc704\\ud5d8\\ud55c \\uac70\\ub798\",\"\\uac00\\ubb38\\uc758 \\ubd80\\ud65c - \\uac00\\ubb38\\uc758 \\uc601\\uad11 3\",\"\\ud398\\uc774\\ud37c\\ub9e8\",\"\\ucc9c\\uc0ac\\uc758 \\uc120\\ud0dd\",\"\\uc77c\\ubc24\",\"\\uc138\\uc774\\uc9c0: \\uc721\\uc9c0\\uc758 \\ubb3c\\uace0\\uae30\",\"\\ud558\\ub298\\uc774\\uc2dc\\uc5ec\",\"\\uc81c1\\uacf5\\ud654\\uad6d\",\"\\uc0c8\\ub4dc \\ubb34\\ube44\",\"\\uc678\\uacc4\\uc778\\uacfc \\ucf69\\ucf69 \\uac15\\uc2dc\",\"\\ub354 \\ud30c\\ud06c\\ub79c\\ub4dc\",\"\\ud669\\ub2f9\\ud55c \\uc678\\uacc4\\uc778: \\ud3f4\",\"\\uac1c\\uc2ec\\uadc0 4 - \\uac1c\\uc2ec\\uadc0 \\ub300 \\uac1c\\uc2ec\\uadc0\",\"\\uc655\\uaf43 \\uc120\\ub140\\ub2d8\",\"\\ud22c\\uce85\\uc2a4 \\uc778 \\ud30c\\ub9ac\",\"\\uba54\\ub780\\ud0c0\\uc6b0\",\"\\uc368\\ub4dc \\uc2a4\\ud0c0\",\"\\ud669\\uc81c\\ub97c \\uc704\\ud558\\uc5ec\",\"\\ud30c\\uc6cc \\ud0b9\",\"\\ud30c\\ub77c\\ub2e4\\uc774\\uc2a4 \\ub7ec\\ube0c\",\"\\uc601\\uad6c\\uc640 \\ud761\\ud608\\uadc0 \\ub4dc\\ub77c\\ud050\\ub77c\",\"\\ub85c\\uc2a4\\ud2b8 \\ud558\\uc774\\uc6e8\\uc774\",\"\\ub9e4\\ud29c \\ubcf8\\uc758 \\ubc31\\uc870\\uc758 \\ud638\\uc218 3D\",\"\\ub808\\ub4dc \\ucf54\\ub108\",\"\\ub5a1\",\"\\ub2e4 \\ud070 \\uc5ec\\uc790\\ub4e4\",\"\\uc0bc\\uad6d\\uc9c0 - \\uc6a9\\uc758 \\ubd80\\ud65c\",\"\\ub7ec\\ube0c \\uc778 \\ud074\\ub77c\\uc6b0\\uc988\",\"\\ube44\\uc815\\uc0c1\\ud68c\\ub2f4\",\"\\ub2f9\\uc2e0\\uc744 \\uc624\\ub7ab\\ub3d9\\uc548 \\uc0ac\\ub791\\ud588\\uc5b4\\uc694\",\"\\uc704\\ud5d8\\ud55c \\uac70\\ub798\",\"\\uac00\\ubb38\\uc758 \\ubd80\\ud65c - \\uac00\\ubb38\\uc758 \\uc601\\uad11 3\",\"\\ud398\\uc774\\ud37c\\ub9e8\",\"\\ucc9c\\uc0ac\\uc758 \\uc120\\ud0dd\",\"\\uc77c\\ubc24\",\"\\uc138\\uc774\\uc9c0: \\uc721\\uc9c0\\uc758 \\ubb3c\\uace0\\uae30\",\"\\ud558\\ub298\\uc774\\uc2dc\\uc5ec\",\"\\uc81c1\\uacf5\\ud654\\uad6d\",\"\\uc0c8\\ub4dc \\ubb34\\ube44\",\"\\uc678\\uacc4\\uc778\\uacfc \\ucf69\\ucf69 \\uac15\\uc2dc\",\"\\ub354 \\ud30c\\ud06c\\ub79c\\ub4dc\",\"\\ud669\\ub2f9\\ud55c \\uc678\\uacc4\\uc778: \\ud3f4\",\"\\uac1c\\uc2ec\\uadc0 4 - \\uac1c\\uc2ec\\uadc0 \\ub300 \\uac1c\\uc2ec\\uadc0\",\"\\uc655\\uaf43 \\uc120\\ub140\\ub2d8\",\"\\ud22c\\uce85\\uc2a4 \\uc778 \\ud30c\\ub9ac\",\"\\uba54\\ub780\\ud0c0\\uc6b0\",\"\\uc368\\ub4dc \\uc2a4\\ud0c0\",\"\\ud669\\uc81c\\ub97c \\uc704\\ud558\\uc5ec\",\"\\ud30c\\uc6cc \\ud0b9\",\"\\ud30c\\ub77c\\ub2e4\\uc774\\uc2a4 \\ub7ec\\ube0c\",\"\\uc601\\uad6c\\uc640 \\ud761\\ud608\\uadc0 \\ub4dc\\ub77c\\ud050\\ub77c\",\"\\ub85c\\uc2a4\\ud2b8 \\ud558\\uc774\\uc6e8\\uc774\",\"\\ub9e4\\ud29c \\ubcf8\\uc758 \\ubc31\\uc870\\uc758 \\ud638\\uc218 3D\",\"\\ub808\\ub4dc \\ucf54\\ub108\",\"\\ub5a1\",\"\\ub2e4 \\ud070 \\uc5ec\\uc790\\ub4e4\",\"\\uc0bc\\uad6d\\uc9c0 - \\uc6a9\\uc758 \\ubd80\\ud65c\",\"\\ub7ec\\ube0c \\uc778 \\ud074\\ub77c\\uc6b0\\uc988\",\"\\ube44\\uc815\\uc0c1\\ud68c\\ub2f4\",\"\\ub2f9\\uc2e0\\uc744 \\uc624\\ub7ab\\ub3d9\\uc548 \\uc0ac\\ub791\\ud588\\uc5b4\\uc694\",\"\\uc704\\ud5d8\\ud55c \\uac70\\ub798\",\"\\uac00\\ubb38\\uc758 \\ubd80\\ud65c - \\uac00\\ubb38\\uc758 \\uc601\\uad11 3\",\"\\ud398\\uc774\\ud37c\\ub9e8\",\"\\ucc9c\\uc0ac\\uc758 \\uc120\\ud0dd\",\"\\uc77c\\ubc24\",\"\\uc138\\uc774\\uc9c0: \\uc721\\uc9c0\\uc758 \\ubb3c\\uace0\\uae30\",\"\\ud558\\ub298\\uc774\\uc2dc\\uc5ec\",\"\\uc81c1\\uacf5\\ud654\\uad6d\",\"\\uc0c8\\ub4dc \\ubb34\\ube44\",\"\\uc678\\uacc4\\uc778\\uacfc \\ucf69\\ucf69 \\uac15\\uc2dc\",\"\\ub354 \\ud30c\\ud06c\\ub79c\\ub4dc\",\"\\ud669\\ub2f9\\ud55c \\uc678\\uacc4\\uc778: \\ud3f4\",\"\\uac1c\\uc2ec\\uadc0 4 - \\uac1c\\uc2ec\\uadc0 \\ub300 \\uac1c\\uc2ec\\uadc0\",\"\\uc655\\uaf43 \\uc120\\ub140\\ub2d8\",\"\\ud22c\\uce85\\uc2a4 \\uc778 \\ud30c\\ub9ac\",\"\\uba54\\ub780\\ud0c0\\uc6b0\",\"\\uc368\\ub4dc \\uc2a4\\ud0c0\",\"\\ud669\\uc81c\\ub97c \\uc704\\ud558\\uc5ec\",\"\\ud30c\\uc6cc \\ud0b9\",\"\\ud30c\\ub77c\\ub2e4\\uc774\\uc2a4 \\ub7ec\\ube0c\",\"\\uc601\\uad6c\\uc640 \\ud761\\ud608\\uadc0 \\ub4dc\\ub77c\\ud050\\ub77c\",\"\\ub85c\\uc2a4\\ud2b8 \\ud558\\uc774\\uc6e8\\uc774\",\"\\ub9e4\\ud29c \\ubcf8\\uc758 \\ubc31\\uc870\\uc758 \\ud638\\uc218 3D\",\"\\ub808\\ub4dc \\ucf54\\ub108\",\"\\ub5a1\",\"\\ub2e4 \\ud070 \\uc5ec\\uc790\\ub4e4\",\"\\uc0bc\\uad6d\\uc9c0 - \\uc6a9\\uc758 \\ubd80\\ud65c\",\"\\ub7ec\\ube0c \\uc778 \\ud074\\ub77c\\uc6b0\\uc988\",\"\\ube44\\uc815\\uc0c1\\ud68c\\ub2f4\",\"\\ub2f9\\uc2e0\\uc744 \\uc624\\ub7ab\\ub3d9\\uc548 \\uc0ac\\ub791\\ud588\\uc5b4\\uc694\",\"\\uc704\\ud5d8\\ud55c \\uac70\\ub798\",\"\\uac00\\ubb38\\uc758 \\ubd80\\ud65c - \\uac00\\ubb38\\uc758 \\uc601\\uad11 3\",\"\\ud398\\uc774\\ud37c\\ub9e8\",\"\\ucc9c\\uc0ac\\uc758 \\uc120\\ud0dd\",\"\\uc77c\\ubc24\",\"\\uc138\\uc774\\uc9c0: \\uc721\\uc9c0\\uc758 \\ubb3c\\uace0\\uae30\",\"\\ud558\\ub298\\uc774\\uc2dc\\uc5ec\"]},\"selected\":{\"id\":\"1420\"},\"selection_policy\":{\"id\":\"1419\"}},\"id\":\"1378\",\"type\":\"ColumnDataSource\"},{\"attributes\":{\"overlay\":{\"id\":\"1370\"}},\"id\":\"1367\",\"type\":\"BoxZoomTool\"},{\"attributes\":{},\"id\":\"1369\",\"type\":\"WheelZoomTool\"},{\"attributes\":{\"factors\":[\"\\ud558\\ub298\\uc774\\uc2dc\\uc5ec\",\"\\uc138\\uc774\\uc9c0: \\uc721\\uc9c0\\uc758 \\ubb3c\\uace0\\uae30\",\"\\uc77c\\ubc24\",\"\\ucc9c\\uc0ac\\uc758 \\uc120\\ud0dd\",\"\\ud398\\uc774\\ud37c\\ub9e8\",\"\\uac00\\ubb38\\uc758 \\ubd80\\ud65c - \\uac00\\ubb38\\uc758 \\uc601\\uad11 3\",\"\\uc704\\ud5d8\\ud55c \\uac70\\ub798\",\"\\ub2f9\\uc2e0\\uc744 \\uc624\\ub7ab\\ub3d9\\uc548 \\uc0ac\\ub791\\ud588\\uc5b4\\uc694\",\"\\ube44\\uc815\\uc0c1\\ud68c\\ub2f4\",\"\\ub7ec\\ube0c \\uc778 \\ud074\\ub77c\\uc6b0\\uc988\",\"\\uc0bc\\uad6d\\uc9c0 - \\uc6a9\\uc758 \\ubd80\\ud65c\",\"\\ub2e4 \\ud070 \\uc5ec\\uc790\\ub4e4\",\"\\ub5a1\",\"\\ub808\\ub4dc \\ucf54\\ub108\",\"\\ub9e4\\ud29c \\ubcf8\\uc758 \\ubc31\\uc870\\uc758 \\ud638\\uc218 3D\",\"\\ub85c\\uc2a4\\ud2b8 \\ud558\\uc774\\uc6e8\\uc774\",\"\\uc601\\uad6c\\uc640 \\ud761\\ud608\\uadc0 \\ub4dc\\ub77c\\ud050\\ub77c\",\"\\ud30c\\ub77c\\ub2e4\\uc774\\uc2a4 \\ub7ec\\ube0c\",\"\\ud30c\\uc6cc \\ud0b9\",\"\\ud669\\uc81c\\ub97c \\uc704\\ud558\\uc5ec\",\"\\uc368\\ub4dc \\uc2a4\\ud0c0\",\"\\uba54\\ub780\\ud0c0\\uc6b0\",\"\\ud22c\\uce85\\uc2a4 \\uc778 \\ud30c\\ub9ac\",\"\\uc655\\uaf43 \\uc120\\ub140\\ub2d8\",\"\\uac1c\\uc2ec\\uadc0 4 - \\uac1c\\uc2ec\\uadc0 \\ub300 \\uac1c\\uc2ec\\uadc0\",\"\\ud669\\ub2f9\\ud55c \\uc678\\uacc4\\uc778: \\ud3f4\",\"\\ub354 \\ud30c\\ud06c\\ub79c\\ub4dc\",\"\\uc678\\uacc4\\uc778\\uacfc \\ucf69\\ucf69 \\uac15\\uc2dc\",\"\\uc0c8\\ub4dc \\ubb34\\ube44\",\"\\uc81c1\\uacf5\\ud654\\uad6d\"]},\"id\":\"1352\",\"type\":\"FactorRange\"},{\"attributes\":{\"fill_alpha\":{\"value\":0.1},\"fill_color\":{\"field\":\"similarity\",\"transform\":{\"id\":\"1348\"}},\"height\":{\"value\":1},\"line_alpha\":{\"value\":0.1},\"line_color\":{\"value\":null},\"width\":{\"value\":1},\"x\":{\"field\":\"x\"},\"y\":{\"field\":\"y\"}},\"id\":\"1381\",\"type\":\"Rect\"},{\"attributes\":{\"callback\":null,\"tooltips\":[[\"words\",\"@x @y\"],[\"similarity\",\"@similarity\"]]},\"id\":\"1364\",\"type\":\"HoverTool\"},{\"attributes\":{\"data_source\":{\"id\":\"1378\"},\"glyph\":{\"id\":\"1380\"},\"hover_glyph\":null,\"muted_glyph\":null,\"nonselection_glyph\":{\"id\":\"1381\"},\"view\":{\"id\":\"1383\"}},\"id\":\"1382\",\"type\":\"GlyphRenderer\"},{\"attributes\":{\"fill_color\":{\"field\":\"similarity\",\"transform\":{\"id\":\"1348\"}},\"height\":{\"value\":1},\"line_color\":{\"value\":null},\"width\":{\"value\":1},\"x\":{\"field\":\"x\"},\"y\":{\"field\":\"y\"}},\"id\":\"1380\",\"type\":\"Rect\"},{\"attributes\":{\"desired_num_ticks\":5},\"id\":\"1384\",\"type\":\"BasicTicker\"},{\"attributes\":{},\"id\":\"1418\",\"type\":\"NoOverlap\"},{\"attributes\":{\"axis_line_color\":null,\"formatter\":{\"id\":\"1413\"},\"major_label_orientation\":1.0466666666666666,\"major_label_policy\":{\"id\":\"1412\"},\"major_label_standoff\":0,\"major_tick_line_color\":null,\"ticker\":{\"id\":\"1359\"}},\"id\":\"1358\",\"type\":\"CategoricalAxis\"},{\"attributes\":{},\"id\":\"1366\",\"type\":\"PanTool\"},{\"attributes\":{\"bottom_units\":\"screen\",\"fill_alpha\":0.5,\"fill_color\":\"lightgrey\",\"left_units\":\"screen\",\"level\":\"overlay\",\"line_alpha\":1.0,\"line_color\":\"black\",\"line_dash\":[4,4],\"line_width\":2,\"right_units\":\"screen\",\"syncable\":false,\"top_units\":\"screen\"},\"id\":\"1370\",\"type\":\"BoxAnnotation\"},{\"attributes\":{\"color_mapper\":{\"id\":\"1348\"},\"label_standoff\":6,\"location\":[0,0],\"major_label_policy\":{\"id\":\"1418\"},\"major_label_text_font_size\":\"7pt\",\"ticker\":{\"id\":\"1384\"}},\"id\":\"1385\",\"type\":\"ColorBar\"},{\"attributes\":{},\"id\":\"1410\",\"type\":\"Title\"},{\"attributes\":{\"axis_line_color\":null,\"formatter\":{\"id\":\"1416\"},\"major_label_policy\":{\"id\":\"1415\"},\"major_label_standoff\":0,\"major_tick_line_color\":null,\"ticker\":{\"id\":\"1362\"}},\"id\":\"1361\",\"type\":\"CategoricalAxis\"},{\"attributes\":{\"axis\":{\"id\":\"1358\"},\"grid_line_color\":null,\"ticker\":null},\"id\":\"1360\",\"type\":\"Grid\"},{\"attributes\":{},\"id\":\"1365\",\"type\":\"SaveTool\"},{\"attributes\":{\"axis\":{\"id\":\"1361\"},\"dimension\":1,\"grid_line_color\":null,\"ticker\":null},\"id\":\"1363\",\"type\":\"Grid\"},{\"attributes\":{\"active_multi\":null,\"tools\":[{\"id\":\"1364\"},{\"id\":\"1365\"},{\"id\":\"1366\"},{\"id\":\"1367\"},{\"id\":\"1368\"},{\"id\":\"1369\"}]},\"id\":\"1371\",\"type\":\"Toolbar\"},{\"attributes\":{},\"id\":\"1362\",\"type\":\"CategoricalTicker\"},{\"attributes\":{},\"id\":\"1368\",\"type\":\"ResetTool\"},{\"attributes\":{},\"id\":\"1356\",\"type\":\"CategoricalScale\"},{\"attributes\":{},\"id\":\"1359\",\"type\":\"CategoricalTicker\"},{\"attributes\":{},\"id\":\"1354\",\"type\":\"CategoricalScale\"}],\"root_ids\":[\"1349\"]},\"title\":\"Bokeh Application\",\"version\":\"2.3.1\"}};\n",
       "  var render_items = [{\"docid\":\"618e1d0c-822c-43d0-ae72-8931309fc295\",\"root_ids\":[\"1349\"],\"roots\":{\"1349\":\"31edfba8-49ff-4e71-a694-ff395731e2f8\"}}];\n",
       "  root.Bokeh.embed.embed_items_notebook(docs_json, render_items);\n",
       "\n",
       "  }\n",
       "  if (root.Bokeh !== undefined) {\n",
       "    embed_document(root);\n",
       "  } else {\n",
       "    var attempts = 0;\n",
       "    var timer = setInterval(function(root) {\n",
       "      if (root.Bokeh !== undefined) {\n",
       "        clearInterval(timer);\n",
       "        embed_document(root);\n",
       "      } else {\n",
       "        attempts++;\n",
       "        if (attempts > 100) {\n",
       "          clearInterval(timer);\n",
       "          console.log(\"Bokeh: ERROR: Unable to run BokehJS code because BokehJS library is missing\");\n",
       "        }\n",
       "      }\n",
       "    }, 10, root)\n",
       "  }\n",
       "})(window);"
      ],
      "application/vnd.bokehjs_exec.v0+json": ""
     },
     "metadata": {
      "application/vnd.bokehjs_exec.v0+json": {
       "id": "1349"
      }
     },
     "output_type": "display_data"
    }
   ],
   "source": [
    "# 히트맵\n",
    "visualize_movies(type=\"between\")"
   ]
  },
  {
   "cell_type": "code",
   "execution_count": 115,
   "metadata": {},
   "outputs": [
    {
     "data": {
      "text/html": [
       "\n",
       "    <div class=\"bk-root\">\n",
       "        <a href=\"https://bokeh.org\" target=\"_blank\" class=\"bk-logo bk-logo-small bk-logo-notebook\"></a>\n",
       "        <span id=\"1981\">Loading BokehJS ...</span>\n",
       "    </div>"
      ]
     },
     "metadata": {},
     "output_type": "display_data"
    },
    {
     "data": {
      "application/javascript": [
       "\n",
       "(function(root) {\n",
       "  function now() {\n",
       "    return new Date();\n",
       "  }\n",
       "\n",
       "  var force = true;\n",
       "\n",
       "  if (typeof root._bokeh_onload_callbacks === \"undefined\" || force === true) {\n",
       "    root._bokeh_onload_callbacks = [];\n",
       "    root._bokeh_is_loading = undefined;\n",
       "  }\n",
       "\n",
       "  var JS_MIME_TYPE = 'application/javascript';\n",
       "  var HTML_MIME_TYPE = 'text/html';\n",
       "  var EXEC_MIME_TYPE = 'application/vnd.bokehjs_exec.v0+json';\n",
       "  var CLASS_NAME = 'output_bokeh rendered_html';\n",
       "\n",
       "  /**\n",
       "   * Render data to the DOM node\n",
       "   */\n",
       "  function render(props, node) {\n",
       "    var script = document.createElement(\"script\");\n",
       "    node.appendChild(script);\n",
       "  }\n",
       "\n",
       "  /**\n",
       "   * Handle when an output is cleared or removed\n",
       "   */\n",
       "  function handleClearOutput(event, handle) {\n",
       "    var cell = handle.cell;\n",
       "\n",
       "    var id = cell.output_area._bokeh_element_id;\n",
       "    var server_id = cell.output_area._bokeh_server_id;\n",
       "    // Clean up Bokeh references\n",
       "    if (id != null && id in Bokeh.index) {\n",
       "      Bokeh.index[id].model.document.clear();\n",
       "      delete Bokeh.index[id];\n",
       "    }\n",
       "\n",
       "    if (server_id !== undefined) {\n",
       "      // Clean up Bokeh references\n",
       "      var cmd = \"from bokeh.io.state import curstate; print(curstate().uuid_to_server['\" + server_id + \"'].get_sessions()[0].document.roots[0]._id)\";\n",
       "      cell.notebook.kernel.execute(cmd, {\n",
       "        iopub: {\n",
       "          output: function(msg) {\n",
       "            var id = msg.content.text.trim();\n",
       "            if (id in Bokeh.index) {\n",
       "              Bokeh.index[id].model.document.clear();\n",
       "              delete Bokeh.index[id];\n",
       "            }\n",
       "          }\n",
       "        }\n",
       "      });\n",
       "      // Destroy server and session\n",
       "      var cmd = \"import bokeh.io.notebook as ion; ion.destroy_server('\" + server_id + \"')\";\n",
       "      cell.notebook.kernel.execute(cmd);\n",
       "    }\n",
       "  }\n",
       "\n",
       "  /**\n",
       "   * Handle when a new output is added\n",
       "   */\n",
       "  function handleAddOutput(event, handle) {\n",
       "    var output_area = handle.output_area;\n",
       "    var output = handle.output;\n",
       "\n",
       "    // limit handleAddOutput to display_data with EXEC_MIME_TYPE content only\n",
       "    if ((output.output_type != \"display_data\") || (!Object.prototype.hasOwnProperty.call(output.data, EXEC_MIME_TYPE))) {\n",
       "      return\n",
       "    }\n",
       "\n",
       "    var toinsert = output_area.element.find(\".\" + CLASS_NAME.split(' ')[0]);\n",
       "\n",
       "    if (output.metadata[EXEC_MIME_TYPE][\"id\"] !== undefined) {\n",
       "      toinsert[toinsert.length - 1].firstChild.textContent = output.data[JS_MIME_TYPE];\n",
       "      // store reference to embed id on output_area\n",
       "      output_area._bokeh_element_id = output.metadata[EXEC_MIME_TYPE][\"id\"];\n",
       "    }\n",
       "    if (output.metadata[EXEC_MIME_TYPE][\"server_id\"] !== undefined) {\n",
       "      var bk_div = document.createElement(\"div\");\n",
       "      bk_div.innerHTML = output.data[HTML_MIME_TYPE];\n",
       "      var script_attrs = bk_div.children[0].attributes;\n",
       "      for (var i = 0; i < script_attrs.length; i++) {\n",
       "        toinsert[toinsert.length - 1].firstChild.setAttribute(script_attrs[i].name, script_attrs[i].value);\n",
       "        toinsert[toinsert.length - 1].firstChild.textContent = bk_div.children[0].textContent\n",
       "      }\n",
       "      // store reference to server id on output_area\n",
       "      output_area._bokeh_server_id = output.metadata[EXEC_MIME_TYPE][\"server_id\"];\n",
       "    }\n",
       "  }\n",
       "\n",
       "  function register_renderer(events, OutputArea) {\n",
       "\n",
       "    function append_mime(data, metadata, element) {\n",
       "      // create a DOM node to render to\n",
       "      var toinsert = this.create_output_subarea(\n",
       "        metadata,\n",
       "        CLASS_NAME,\n",
       "        EXEC_MIME_TYPE\n",
       "      );\n",
       "      this.keyboard_manager.register_events(toinsert);\n",
       "      // Render to node\n",
       "      var props = {data: data, metadata: metadata[EXEC_MIME_TYPE]};\n",
       "      render(props, toinsert[toinsert.length - 1]);\n",
       "      element.append(toinsert);\n",
       "      return toinsert\n",
       "    }\n",
       "\n",
       "    /* Handle when an output is cleared or removed */\n",
       "    events.on('clear_output.CodeCell', handleClearOutput);\n",
       "    events.on('delete.Cell', handleClearOutput);\n",
       "\n",
       "    /* Handle when a new output is added */\n",
       "    events.on('output_added.OutputArea', handleAddOutput);\n",
       "\n",
       "    /**\n",
       "     * Register the mime type and append_mime function with output_area\n",
       "     */\n",
       "    OutputArea.prototype.register_mime_type(EXEC_MIME_TYPE, append_mime, {\n",
       "      /* Is output safe? */\n",
       "      safe: true,\n",
       "      /* Index of renderer in `output_area.display_order` */\n",
       "      index: 0\n",
       "    });\n",
       "  }\n",
       "\n",
       "  // register the mime type if in Jupyter Notebook environment and previously unregistered\n",
       "  if (root.Jupyter !== undefined) {\n",
       "    var events = require('base/js/events');\n",
       "    var OutputArea = require('notebook/js/outputarea').OutputArea;\n",
       "\n",
       "    if (OutputArea.prototype.mime_types().indexOf(EXEC_MIME_TYPE) == -1) {\n",
       "      register_renderer(events, OutputArea);\n",
       "    }\n",
       "  }\n",
       "\n",
       "  \n",
       "  if (typeof (root._bokeh_timeout) === \"undefined\" || force === true) {\n",
       "    root._bokeh_timeout = Date.now() + 5000;\n",
       "    root._bokeh_failed_load = false;\n",
       "  }\n",
       "\n",
       "  var NB_LOAD_WARNING = {'data': {'text/html':\n",
       "     \"<div style='background-color: #fdd'>\\n\"+\n",
       "     \"<p>\\n\"+\n",
       "     \"BokehJS does not appear to have successfully loaded. If loading BokehJS from CDN, this \\n\"+\n",
       "     \"may be due to a slow or bad network connection. Possible fixes:\\n\"+\n",
       "     \"</p>\\n\"+\n",
       "     \"<ul>\\n\"+\n",
       "     \"<li>re-rerun `output_notebook()` to attempt to load from CDN again, or</li>\\n\"+\n",
       "     \"<li>use INLINE resources instead, as so:</li>\\n\"+\n",
       "     \"</ul>\\n\"+\n",
       "     \"<code>\\n\"+\n",
       "     \"from bokeh.resources import INLINE\\n\"+\n",
       "     \"output_notebook(resources=INLINE)\\n\"+\n",
       "     \"</code>\\n\"+\n",
       "     \"</div>\"}};\n",
       "\n",
       "  function display_loaded() {\n",
       "    var el = document.getElementById(\"1981\");\n",
       "    if (el != null) {\n",
       "      el.textContent = \"BokehJS is loading...\";\n",
       "    }\n",
       "    if (root.Bokeh !== undefined) {\n",
       "      if (el != null) {\n",
       "        el.textContent = \"BokehJS \" + root.Bokeh.version + \" successfully loaded.\";\n",
       "      }\n",
       "    } else if (Date.now() < root._bokeh_timeout) {\n",
       "      setTimeout(display_loaded, 100)\n",
       "    }\n",
       "  }\n",
       "\n",
       "\n",
       "  function run_callbacks() {\n",
       "    try {\n",
       "      root._bokeh_onload_callbacks.forEach(function(callback) {\n",
       "        if (callback != null)\n",
       "          callback();\n",
       "      });\n",
       "    } finally {\n",
       "      delete root._bokeh_onload_callbacks\n",
       "    }\n",
       "    console.debug(\"Bokeh: all callbacks have finished\");\n",
       "  }\n",
       "\n",
       "  function load_libs(css_urls, js_urls, callback) {\n",
       "    if (css_urls == null) css_urls = [];\n",
       "    if (js_urls == null) js_urls = [];\n",
       "\n",
       "    root._bokeh_onload_callbacks.push(callback);\n",
       "    if (root._bokeh_is_loading > 0) {\n",
       "      console.debug(\"Bokeh: BokehJS is being loaded, scheduling callback at\", now());\n",
       "      return null;\n",
       "    }\n",
       "    if (js_urls == null || js_urls.length === 0) {\n",
       "      run_callbacks();\n",
       "      return null;\n",
       "    }\n",
       "    console.debug(\"Bokeh: BokehJS not loaded, scheduling load and callback at\", now());\n",
       "    root._bokeh_is_loading = css_urls.length + js_urls.length;\n",
       "\n",
       "    function on_load() {\n",
       "      root._bokeh_is_loading--;\n",
       "      if (root._bokeh_is_loading === 0) {\n",
       "        console.debug(\"Bokeh: all BokehJS libraries/stylesheets loaded\");\n",
       "        run_callbacks()\n",
       "      }\n",
       "    }\n",
       "\n",
       "    function on_error(url) {\n",
       "      console.error(\"failed to load \" + url);\n",
       "    }\n",
       "\n",
       "    for (let i = 0; i < css_urls.length; i++) {\n",
       "      const url = css_urls[i];\n",
       "      const element = document.createElement(\"link\");\n",
       "      element.onload = on_load;\n",
       "      element.onerror = on_error.bind(null, url);\n",
       "      element.rel = \"stylesheet\";\n",
       "      element.type = \"text/css\";\n",
       "      element.href = url;\n",
       "      console.debug(\"Bokeh: injecting link tag for BokehJS stylesheet: \", url);\n",
       "      document.body.appendChild(element);\n",
       "    }\n",
       "\n",
       "    const hashes = {\"https://cdn.bokeh.org/bokeh/release/bokeh-2.3.1.min.js\": \"YF85VygJKMVnHE+lLv2AM93Vbstr0yo2TbIu5v8se5Rq3UQAUmcuh4aaJwNlpKwa\", \"https://cdn.bokeh.org/bokeh/release/bokeh-widgets-2.3.1.min.js\": \"KKuas3gevv3PvrlkyCMzffFeaMq5we/a2QsP5AUoS3mJ0jmaCL7jirFJN3GoE/lM\", \"https://cdn.bokeh.org/bokeh/release/bokeh-tables-2.3.1.min.js\": \"MK/uFc3YT18pkvvXRl66tTHjP0/dxoSH2e/eiNMFIguKlun2+WVqaPTWmUy/zvh4\"};\n",
       "\n",
       "    for (let i = 0; i < js_urls.length; i++) {\n",
       "      const url = js_urls[i];\n",
       "      const element = document.createElement('script');\n",
       "      element.onload = on_load;\n",
       "      element.onerror = on_error.bind(null, url);\n",
       "      element.async = false;\n",
       "      element.src = url;\n",
       "      if (url in hashes) {\n",
       "        element.crossOrigin = \"anonymous\";\n",
       "        element.integrity = \"sha384-\" + hashes[url];\n",
       "      }\n",
       "      console.debug(\"Bokeh: injecting script tag for BokehJS library: \", url);\n",
       "      document.head.appendChild(element);\n",
       "    }\n",
       "  };\n",
       "\n",
       "  function inject_raw_css(css) {\n",
       "    const element = document.createElement(\"style\");\n",
       "    element.appendChild(document.createTextNode(css));\n",
       "    document.body.appendChild(element);\n",
       "  }\n",
       "\n",
       "  \n",
       "  var js_urls = [\"https://cdn.bokeh.org/bokeh/release/bokeh-2.3.1.min.js\", \"https://cdn.bokeh.org/bokeh/release/bokeh-widgets-2.3.1.min.js\", \"https://cdn.bokeh.org/bokeh/release/bokeh-tables-2.3.1.min.js\"];\n",
       "  var css_urls = [];\n",
       "  \n",
       "\n",
       "  var inline_js = [\n",
       "    function(Bokeh) {\n",
       "      Bokeh.set_log_level(\"info\");\n",
       "    },\n",
       "    function(Bokeh) {\n",
       "    \n",
       "    \n",
       "    }\n",
       "  ];\n",
       "\n",
       "  function run_inline_js() {\n",
       "    \n",
       "    if (root.Bokeh !== undefined || force === true) {\n",
       "      \n",
       "    for (var i = 0; i < inline_js.length; i++) {\n",
       "      inline_js[i].call(root, root.Bokeh);\n",
       "    }\n",
       "    if (force === true) {\n",
       "        display_loaded();\n",
       "      }} else if (Date.now() < root._bokeh_timeout) {\n",
       "      setTimeout(run_inline_js, 100);\n",
       "    } else if (!root._bokeh_failed_load) {\n",
       "      console.log(\"Bokeh: BokehJS failed to load within specified timeout.\");\n",
       "      root._bokeh_failed_load = true;\n",
       "    } else if (force !== true) {\n",
       "      var cell = $(document.getElementById(\"1981\")).parents('.cell').data().cell;\n",
       "      cell.output_area.append_execute_result(NB_LOAD_WARNING)\n",
       "    }\n",
       "\n",
       "  }\n",
       "\n",
       "  if (root._bokeh_is_loading === 0) {\n",
       "    console.debug(\"Bokeh: BokehJS loaded, going straight to plotting\");\n",
       "    run_inline_js();\n",
       "  } else {\n",
       "    load_libs(css_urls, js_urls, function() {\n",
       "      console.debug(\"Bokeh: BokehJS plotting callback run at\", now());\n",
       "      run_inline_js();\n",
       "    });\n",
       "  }\n",
       "}(window));"
      ],
      "application/vnd.bokehjs_load.v0+json": "\n(function(root) {\n  function now() {\n    return new Date();\n  }\n\n  var force = true;\n\n  if (typeof root._bokeh_onload_callbacks === \"undefined\" || force === true) {\n    root._bokeh_onload_callbacks = [];\n    root._bokeh_is_loading = undefined;\n  }\n\n  \n\n  \n  if (typeof (root._bokeh_timeout) === \"undefined\" || force === true) {\n    root._bokeh_timeout = Date.now() + 5000;\n    root._bokeh_failed_load = false;\n  }\n\n  var NB_LOAD_WARNING = {'data': {'text/html':\n     \"<div style='background-color: #fdd'>\\n\"+\n     \"<p>\\n\"+\n     \"BokehJS does not appear to have successfully loaded. If loading BokehJS from CDN, this \\n\"+\n     \"may be due to a slow or bad network connection. Possible fixes:\\n\"+\n     \"</p>\\n\"+\n     \"<ul>\\n\"+\n     \"<li>re-rerun `output_notebook()` to attempt to load from CDN again, or</li>\\n\"+\n     \"<li>use INLINE resources instead, as so:</li>\\n\"+\n     \"</ul>\\n\"+\n     \"<code>\\n\"+\n     \"from bokeh.resources import INLINE\\n\"+\n     \"output_notebook(resources=INLINE)\\n\"+\n     \"</code>\\n\"+\n     \"</div>\"}};\n\n  function display_loaded() {\n    var el = document.getElementById(\"1981\");\n    if (el != null) {\n      el.textContent = \"BokehJS is loading...\";\n    }\n    if (root.Bokeh !== undefined) {\n      if (el != null) {\n        el.textContent = \"BokehJS \" + root.Bokeh.version + \" successfully loaded.\";\n      }\n    } else if (Date.now() < root._bokeh_timeout) {\n      setTimeout(display_loaded, 100)\n    }\n  }\n\n\n  function run_callbacks() {\n    try {\n      root._bokeh_onload_callbacks.forEach(function(callback) {\n        if (callback != null)\n          callback();\n      });\n    } finally {\n      delete root._bokeh_onload_callbacks\n    }\n    console.debug(\"Bokeh: all callbacks have finished\");\n  }\n\n  function load_libs(css_urls, js_urls, callback) {\n    if (css_urls == null) css_urls = [];\n    if (js_urls == null) js_urls = [];\n\n    root._bokeh_onload_callbacks.push(callback);\n    if (root._bokeh_is_loading > 0) {\n      console.debug(\"Bokeh: BokehJS is being loaded, scheduling callback at\", now());\n      return null;\n    }\n    if (js_urls == null || js_urls.length === 0) {\n      run_callbacks();\n      return null;\n    }\n    console.debug(\"Bokeh: BokehJS not loaded, scheduling load and callback at\", now());\n    root._bokeh_is_loading = css_urls.length + js_urls.length;\n\n    function on_load() {\n      root._bokeh_is_loading--;\n      if (root._bokeh_is_loading === 0) {\n        console.debug(\"Bokeh: all BokehJS libraries/stylesheets loaded\");\n        run_callbacks()\n      }\n    }\n\n    function on_error(url) {\n      console.error(\"failed to load \" + url);\n    }\n\n    for (let i = 0; i < css_urls.length; i++) {\n      const url = css_urls[i];\n      const element = document.createElement(\"link\");\n      element.onload = on_load;\n      element.onerror = on_error.bind(null, url);\n      element.rel = \"stylesheet\";\n      element.type = \"text/css\";\n      element.href = url;\n      console.debug(\"Bokeh: injecting link tag for BokehJS stylesheet: \", url);\n      document.body.appendChild(element);\n    }\n\n    const hashes = {\"https://cdn.bokeh.org/bokeh/release/bokeh-2.3.1.min.js\": \"YF85VygJKMVnHE+lLv2AM93Vbstr0yo2TbIu5v8se5Rq3UQAUmcuh4aaJwNlpKwa\", \"https://cdn.bokeh.org/bokeh/release/bokeh-widgets-2.3.1.min.js\": \"KKuas3gevv3PvrlkyCMzffFeaMq5we/a2QsP5AUoS3mJ0jmaCL7jirFJN3GoE/lM\", \"https://cdn.bokeh.org/bokeh/release/bokeh-tables-2.3.1.min.js\": \"MK/uFc3YT18pkvvXRl66tTHjP0/dxoSH2e/eiNMFIguKlun2+WVqaPTWmUy/zvh4\"};\n\n    for (let i = 0; i < js_urls.length; i++) {\n      const url = js_urls[i];\n      const element = document.createElement('script');\n      element.onload = on_load;\n      element.onerror = on_error.bind(null, url);\n      element.async = false;\n      element.src = url;\n      if (url in hashes) {\n        element.crossOrigin = \"anonymous\";\n        element.integrity = \"sha384-\" + hashes[url];\n      }\n      console.debug(\"Bokeh: injecting script tag for BokehJS library: \", url);\n      document.head.appendChild(element);\n    }\n  };\n\n  function inject_raw_css(css) {\n    const element = document.createElement(\"style\");\n    element.appendChild(document.createTextNode(css));\n    document.body.appendChild(element);\n  }\n\n  \n  var js_urls = [\"https://cdn.bokeh.org/bokeh/release/bokeh-2.3.1.min.js\", \"https://cdn.bokeh.org/bokeh/release/bokeh-widgets-2.3.1.min.js\", \"https://cdn.bokeh.org/bokeh/release/bokeh-tables-2.3.1.min.js\"];\n  var css_urls = [];\n  \n\n  var inline_js = [\n    function(Bokeh) {\n      Bokeh.set_log_level(\"info\");\n    },\n    function(Bokeh) {\n    \n    \n    }\n  ];\n\n  function run_inline_js() {\n    \n    if (root.Bokeh !== undefined || force === true) {\n      \n    for (var i = 0; i < inline_js.length; i++) {\n      inline_js[i].call(root, root.Bokeh);\n    }\n    if (force === true) {\n        display_loaded();\n      }} else if (Date.now() < root._bokeh_timeout) {\n      setTimeout(run_inline_js, 100);\n    } else if (!root._bokeh_failed_load) {\n      console.log(\"Bokeh: BokehJS failed to load within specified timeout.\");\n      root._bokeh_failed_load = true;\n    } else if (force !== true) {\n      var cell = $(document.getElementById(\"1981\")).parents('.cell').data().cell;\n      cell.output_area.append_execute_result(NB_LOAD_WARNING)\n    }\n\n  }\n\n  if (root._bokeh_is_loading === 0) {\n    console.debug(\"Bokeh: BokehJS loaded, going straight to plotting\");\n    run_inline_js();\n  } else {\n    load_libs(css_urls, js_urls, function() {\n      console.debug(\"Bokeh: BokehJS plotting callback run at\", now());\n      run_inline_js();\n    });\n  }\n}(window));"
     },
     "metadata": {},
     "output_type": "display_data"
    },
    {
     "data": {
      "text/html": [
       "\n",
       "\n",
       "\n",
       "\n",
       "\n",
       "\n",
       "  <div class=\"bk-root\" id=\"9352d06c-8c17-45e8-b016-0a14022c966b\" data-root-id=\"1945\"></div>\n"
      ]
     },
     "metadata": {},
     "output_type": "display_data"
    },
    {
     "data": {
      "application/javascript": [
       "(function(root) {\n",
       "  function embed_document(root) {\n",
       "    \n",
       "  var docs_json = {\"83eece8c-53b9-4d91-8282-f1c6d4c5d512\":{\"defs\":[],\"roots\":{\"references\":[{\"attributes\":{\"below\":[{\"id\":\"1954\"}],\"center\":[{\"id\":\"1957\"},{\"id\":\"1961\"},{\"id\":\"1942\"}],\"height\":900,\"left\":[{\"id\":\"1958\"}],\"renderers\":[{\"id\":\"1979\"}],\"title\":{\"id\":\"2050\"},\"toolbar\":{\"id\":\"1969\"},\"width\":900,\"x_range\":{\"id\":\"1946\"},\"x_scale\":{\"id\":\"1950\"},\"y_range\":{\"id\":\"1948\"},\"y_scale\":{\"id\":\"1952\"}},\"id\":\"1945\",\"subtype\":\"Figure\",\"type\":\"Plot\"},{\"attributes\":{\"source\":{\"id\":\"1941\"}},\"id\":\"1980\",\"type\":\"CDSView\"},{\"attributes\":{},\"id\":\"1966\",\"type\":\"ResetTool\"},{\"attributes\":{\"fill_alpha\":{\"value\":0.1},\"fill_color\":{\"field\":\"y\",\"transform\":{\"id\":\"1944\"}},\"line_alpha\":{\"value\":0.1},\"line_color\":{\"value\":null},\"size\":{\"value\":12},\"x\":{\"field\":\"x\"},\"y\":{\"field\":\"y\"}},\"id\":\"1978\",\"type\":\"Scatter\"},{\"attributes\":{},\"id\":\"2055\",\"type\":\"AllLabels\"},{\"attributes\":{},\"id\":\"2052\",\"type\":\"AllLabels\"},{\"attributes\":{},\"id\":\"1963\",\"type\":\"WheelZoomTool\"},{\"attributes\":{},\"id\":\"2053\",\"type\":\"BasicTickFormatter\"},{\"attributes\":{},\"id\":\"2050\",\"type\":\"Title\"},{\"attributes\":{},\"id\":\"1967\",\"type\":\"HelpTool\"},{\"attributes\":{},\"id\":\"1950\",\"type\":\"LinearScale\"},{\"attributes\":{\"fill_alpha\":{\"value\":0.8},\"fill_color\":{\"field\":\"y\",\"transform\":{\"id\":\"1944\"}},\"line_color\":{\"value\":null},\"size\":{\"value\":12},\"x\":{\"field\":\"x\"},\"y\":{\"field\":\"y\"}},\"id\":\"1977\",\"type\":\"Scatter\"},{\"attributes\":{},\"id\":\"1962\",\"type\":\"PanTool\"},{\"attributes\":{\"overlay\":{\"id\":\"1968\"}},\"id\":\"1964\",\"type\":\"BoxZoomTool\"},{\"attributes\":{},\"id\":\"1965\",\"type\":\"SaveTool\"},{\"attributes\":{},\"id\":\"1946\",\"type\":\"DataRange1d\"},{\"attributes\":{\"formatter\":{\"id\":\"2053\"},\"major_label_policy\":{\"id\":\"2052\"},\"ticker\":{\"id\":\"1955\"}},\"id\":\"1954\",\"type\":\"LinearAxis\"},{\"attributes\":{},\"id\":\"1948\",\"type\":\"DataRange1d\"},{\"attributes\":{},\"id\":\"2056\",\"type\":\"BasicTickFormatter\"},{\"attributes\":{\"active_multi\":null,\"tools\":[{\"id\":\"1962\"},{\"id\":\"1963\"},{\"id\":\"1964\"},{\"id\":\"1965\"},{\"id\":\"1966\"},{\"id\":\"1967\"}]},\"id\":\"1969\",\"type\":\"Toolbar\"},{\"attributes\":{},\"id\":\"1955\",\"type\":\"BasicTicker\"},{\"attributes\":{\"high\":171.4126739501953,\"low\":-170.2750244140625,\"palette\":[\"#440154\",\"#440255\",\"#440357\",\"#450558\",\"#45065A\",\"#45085B\",\"#46095C\",\"#460B5E\",\"#460C5F\",\"#460E61\",\"#470F62\",\"#471163\",\"#471265\",\"#471466\",\"#471567\",\"#471669\",\"#47186A\",\"#48196B\",\"#481A6C\",\"#481C6E\",\"#481D6F\",\"#481E70\",\"#482071\",\"#482172\",\"#482273\",\"#482374\",\"#472575\",\"#472676\",\"#472777\",\"#472878\",\"#472A79\",\"#472B7A\",\"#472C7B\",\"#462D7C\",\"#462F7C\",\"#46307D\",\"#46317E\",\"#45327F\",\"#45347F\",\"#453580\",\"#453681\",\"#443781\",\"#443982\",\"#433A83\",\"#433B83\",\"#433C84\",\"#423D84\",\"#423E85\",\"#424085\",\"#414186\",\"#414286\",\"#404387\",\"#404487\",\"#3F4587\",\"#3F4788\",\"#3E4888\",\"#3E4989\",\"#3D4A89\",\"#3D4B89\",\"#3D4C89\",\"#3C4D8A\",\"#3C4E8A\",\"#3B508A\",\"#3B518A\",\"#3A528B\",\"#3A538B\",\"#39548B\",\"#39558B\",\"#38568B\",\"#38578C\",\"#37588C\",\"#37598C\",\"#365A8C\",\"#365B8C\",\"#355C8C\",\"#355D8C\",\"#345E8D\",\"#345F8D\",\"#33608D\",\"#33618D\",\"#32628D\",\"#32638D\",\"#31648D\",\"#31658D\",\"#31668D\",\"#30678D\",\"#30688D\",\"#2F698D\",\"#2F6A8D\",\"#2E6B8E\",\"#2E6C8E\",\"#2E6D8E\",\"#2D6E8E\",\"#2D6F8E\",\"#2C708E\",\"#2C718E\",\"#2C728E\",\"#2B738E\",\"#2B748E\",\"#2A758E\",\"#2A768E\",\"#2A778E\",\"#29788E\",\"#29798E\",\"#287A8E\",\"#287A8E\",\"#287B8E\",\"#277C8E\",\"#277D8E\",\"#277E8E\",\"#267F8E\",\"#26808E\",\"#26818E\",\"#25828E\",\"#25838D\",\"#24848D\",\"#24858D\",\"#24868D\",\"#23878D\",\"#23888D\",\"#23898D\",\"#22898D\",\"#228A8D\",\"#228B8D\",\"#218C8D\",\"#218D8C\",\"#218E8C\",\"#208F8C\",\"#20908C\",\"#20918C\",\"#1F928C\",\"#1F938B\",\"#1F948B\",\"#1F958B\",\"#1F968B\",\"#1E978A\",\"#1E988A\",\"#1E998A\",\"#1E998A\",\"#1E9A89\",\"#1E9B89\",\"#1E9C89\",\"#1E9D88\",\"#1E9E88\",\"#1E9F88\",\"#1EA087\",\"#1FA187\",\"#1FA286\",\"#1FA386\",\"#20A485\",\"#20A585\",\"#21A685\",\"#21A784\",\"#22A784\",\"#23A883\",\"#23A982\",\"#24AA82\",\"#25AB81\",\"#26AC81\",\"#27AD80\",\"#28AE7F\",\"#29AF7F\",\"#2AB07E\",\"#2BB17D\",\"#2CB17D\",\"#2EB27C\",\"#2FB37B\",\"#30B47A\",\"#32B57A\",\"#33B679\",\"#35B778\",\"#36B877\",\"#38B976\",\"#39B976\",\"#3BBA75\",\"#3DBB74\",\"#3EBC73\",\"#40BD72\",\"#42BE71\",\"#44BE70\",\"#45BF6F\",\"#47C06E\",\"#49C16D\",\"#4BC26C\",\"#4DC26B\",\"#4FC369\",\"#51C468\",\"#53C567\",\"#55C666\",\"#57C665\",\"#59C764\",\"#5BC862\",\"#5EC961\",\"#60C960\",\"#62CA5F\",\"#64CB5D\",\"#67CC5C\",\"#69CC5B\",\"#6BCD59\",\"#6DCE58\",\"#70CE56\",\"#72CF55\",\"#74D054\",\"#77D052\",\"#79D151\",\"#7CD24F\",\"#7ED24E\",\"#81D34C\",\"#83D34B\",\"#86D449\",\"#88D547\",\"#8BD546\",\"#8DD644\",\"#90D643\",\"#92D741\",\"#95D73F\",\"#97D83E\",\"#9AD83C\",\"#9DD93A\",\"#9FD938\",\"#A2DA37\",\"#A5DA35\",\"#A7DB33\",\"#AADB32\",\"#ADDC30\",\"#AFDC2E\",\"#B2DD2C\",\"#B5DD2B\",\"#B7DD29\",\"#BADE27\",\"#BDDE26\",\"#BFDF24\",\"#C2DF22\",\"#C5DF21\",\"#C7E01F\",\"#CAE01E\",\"#CDE01D\",\"#CFE11C\",\"#D2E11B\",\"#D4E11A\",\"#D7E219\",\"#DAE218\",\"#DCE218\",\"#DFE318\",\"#E1E318\",\"#E4E318\",\"#E7E419\",\"#E9E419\",\"#ECE41A\",\"#EEE51B\",\"#F1E51C\",\"#F3E51E\",\"#F6E61F\",\"#F8E621\",\"#FAE622\",\"#FDE724\"]},\"id\":\"1944\",\"type\":\"LinearColorMapper\"},{\"attributes\":{\"data_source\":{\"id\":\"1941\"},\"glyph\":{\"id\":\"1977\"},\"hover_glyph\":null,\"muted_glyph\":null,\"nonselection_glyph\":{\"id\":\"1978\"},\"view\":{\"id\":\"1980\"}},\"id\":\"1979\",\"type\":\"GlyphRenderer\"},{\"attributes\":{\"axis\":{\"id\":\"1958\"},\"dimension\":1,\"ticker\":null},\"id\":\"1961\",\"type\":\"Grid\"},{\"attributes\":{},\"id\":\"2058\",\"type\":\"UnionRenderers\"},{\"attributes\":{\"axis\":{\"id\":\"1954\"},\"ticker\":null},\"id\":\"1957\",\"type\":\"Grid\"},{\"attributes\":{\"source\":{\"id\":\"1941\"},\"text\":{\"field\":\"word\"},\"text_align\":{\"value\":\"center\"},\"text_color\":{\"value\":\"#555555\"},\"text_font_size\":{\"value\":\"15pt\"},\"x\":{\"field\":\"x\"},\"y\":{\"field\":\"y\"},\"y_offset\":{\"value\":8}},\"id\":\"1942\",\"type\":\"LabelSet\"},{\"attributes\":{\"data\":{\"index\":[0,1,2,3,4,5,6,7,8,9,10,11,12,13,14,15,16,17,18,19,20,21,22,23,24,25,26,27,28,29],\"word\":[\"\\ud558\\uc6b8\\uc758 \\uc6c0\\uc9c1\\uc774\\ub294 \\uc131\",\"\\ucda9\\ub140\",\"\\ud589\\ubcf5\\ud55c \\uc0ac\\uc804\",\"\\ud76c\\uadf9\\uc9c0\\uc655\",\"\\uc544\\uc774\\ub450 \\uc544\\uc774\\ub450\",\"\\uc5d0\\uc5b4 \\ucf58\\ud2b8\\ub864\",\"\\ud55c\\uac15\",\"\\uadf8\\ub9ac\\uc6c0\\uc5d4 \\uc774\\uc720\\uac00 \\uc5c6\\ub2e4\",\"\\uac01\\uc124\\ud0d5\",\"\\ud6c4\\uad81\\ud0c8\\ucd9c\",\"\\uc548\\ud1a0\\ub2c8\\uc544\\uc2a4 \\ub77c\\uc778\",\"\\ub124\\uc774\\ub4e0\",\"\\uc639\\ubc15 - \\ub450\\ubc88\\uc9f8 \\ubbf8\\uc158\",\"\\ud669\\uae08\\ubb34\\uc9c0\\uac1c\",\"\\uc140 211\",\"\\uc804\\uc5fc\\uac00\",\"\\ub2ec\\ub824\\ub77c \\uc6b8\\uc5c4\\ub9c8\",\"\\uc704\\ud5d8\\ud55c \\uc720\\ud639 - \\ucd94\\uc5b5\\uc774 \\ub5a0\\ub098\\uba74 \\uc678\\ub85c..\",\"Dr. \\uae7d\",\"\\ubaa9\\uc18c\\ub9ac\",\"\\ud2b8\\ub9ac\\ud50c \\uc5d1\\uc2a4 2 - \\ub125\\uc2a4\\ud2b8 \\ub808\\ubca8\",\"\\uc5d1\\uc2a4\\ub9e8: \\ub370\\uc774\\uc988 \\uc624\\ube0c \\ud4e8\\ucc98 \\ud328\\uc2a4\\ud2b8\",\"\\uc81c\\uc778 \\uad6c\\ub2ec\",\"\\ube14\\ub8e8 \\uc7ac\\uc2a4\\ubbfc\",\"\\ud30c\\ud30c\",\"\\uac9f \\uce74\\ud130\",\"\\uc560\\uc218\",\"\\ud544\\ub77c\\ub378\\ud53c\\uc544 \\ud2b9\\uba85 2\",\"101 \\ub2ec\\ub9c8\\uc2dc\\uc548\",\"\\ub354 \\ud14c\\ub7ec \\ub77c\\uc774\\ube0c\"],\"x\":{\"__ndarray__\":\"UQE5w4JjnEK/6unB7JoTQzyyH8NknCfD1m4JQptI2UHEUbfCJHGVQgaV20INe8RCXqVRwpPdwEIdFZRA6C3wQSOhA8PVVpfCSrg7wnLOucJa1gzCRVAYQX1SacFLXufCsOORwgK7EEOT8zxCX9oNwsV9oEFo2t/C\",\"dtype\":\"float32\",\"order\":\"little\",\"shape\":[30]},\"y\":{\"__ndarray__\":\"/tSPQQRTUsIa29ZCEA1Rwmujv0KV7pjCYrbgQvvZxMLXtYzCQFx5QmykhUA0nQJDYi9IQoM+7MKlaStDJ4siwy0ar8HlaSJDaEYqw3VyxUIkkEnCBkljQg9lrkDePR5CnbrFwA2wc0JbawxBt+jXwg4dJcKctgPD\",\"dtype\":\"float32\",\"order\":\"little\",\"shape\":[30]}},\"selected\":{\"id\":\"2059\"},\"selection_policy\":{\"id\":\"2058\"}},\"id\":\"1941\",\"type\":\"ColumnDataSource\"},{\"attributes\":{},\"id\":\"1952\",\"type\":\"LinearScale\"},{\"attributes\":{},\"id\":\"2059\",\"type\":\"Selection\"},{\"attributes\":{\"bottom_units\":\"screen\",\"fill_alpha\":0.5,\"fill_color\":\"lightgrey\",\"left_units\":\"screen\",\"level\":\"overlay\",\"line_alpha\":1.0,\"line_color\":\"black\",\"line_dash\":[4,4],\"line_width\":2,\"right_units\":\"screen\",\"syncable\":false,\"top_units\":\"screen\"},\"id\":\"1968\",\"type\":\"BoxAnnotation\"},{\"attributes\":{\"formatter\":{\"id\":\"2056\"},\"major_label_policy\":{\"id\":\"2055\"},\"ticker\":{\"id\":\"1959\"}},\"id\":\"1958\",\"type\":\"LinearAxis\"},{\"attributes\":{},\"id\":\"1959\",\"type\":\"BasicTicker\"}],\"root_ids\":[\"1945\"]},\"title\":\"Bokeh Application\",\"version\":\"2.3.1\"}};\n",
       "  var render_items = [{\"docid\":\"83eece8c-53b9-4d91-8282-f1c6d4c5d512\",\"root_ids\":[\"1945\"],\"roots\":{\"1945\":\"9352d06c-8c17-45e8-b016-0a14022c966b\"}}];\n",
       "  root.Bokeh.embed.embed_items_notebook(docs_json, render_items);\n",
       "\n",
       "  }\n",
       "  if (root.Bokeh !== undefined) {\n",
       "    embed_document(root);\n",
       "  } else {\n",
       "    var attempts = 0;\n",
       "    var timer = setInterval(function(root) {\n",
       "      if (root.Bokeh !== undefined) {\n",
       "        clearInterval(timer);\n",
       "        embed_document(root);\n",
       "      } else {\n",
       "        attempts++;\n",
       "        if (attempts > 100) {\n",
       "          clearInterval(timer);\n",
       "          console.log(\"Bokeh: ERROR: Unable to run BokehJS code because BokehJS library is missing\");\n",
       "        }\n",
       "      }\n",
       "    }, 10, root)\n",
       "  }\n",
       "})(window);"
      ],
      "application/vnd.bokehjs_exec.v0+json": ""
     },
     "metadata": {
      "application/vnd.bokehjs_exec.v0+json": {
       "id": "1945"
      }
     },
     "output_type": "display_data"
    }
   ],
   "source": [
    "# 2차원 맵\n",
    "visualize_movies(type=\"tsne\")"
   ]
  },
  {
   "cell_type": "code",
   "execution_count": null,
   "metadata": {},
   "outputs": [],
   "source": []
  }
 ],
 "metadata": {
  "kernelspec": {
   "display_name": "Python 3",
   "language": "python",
   "name": "python3"
  },
  "language_info": {
   "codemirror_mode": {
    "name": "ipython",
    "version": 3
   },
   "file_extension": ".py",
   "mimetype": "text/x-python",
   "name": "python",
   "nbconvert_exporter": "python",
   "pygments_lexer": "ipython3",
   "version": "3.8.5"
  }
 },
 "nbformat": 4,
 "nbformat_minor": 4
}
